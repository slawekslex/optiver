{
 "cells": [
  {
   "cell_type": "code",
   "execution_count": 1,
   "id": "scheduled-bracket",
   "metadata": {},
   "outputs": [],
   "source": [
    "from fastai.vision.all import *\n",
    "\n",
    "from pathlib import Path\n",
    "\n",
    "import pandas as pd\n",
    "import numpy as np\n",
    "import matplotlib.pyplot as plt\n",
    "from tqdm import notebook\n",
    "\n",
    "PATH = Path('../input/optiver-realized-volatility-prediction/')"
   ]
  },
  {
   "cell_type": "code",
   "execution_count": 2,
   "id": "internal-ozone",
   "metadata": {},
   "outputs": [],
   "source": [
    "train = pd.read_csv(PATH/'train.csv')\n",
    "list_stocks = train.stock_id.unique().tolist()"
   ]
  },
  {
   "cell_type": "code",
   "execution_count": 11,
   "id": "unavailable-school",
   "metadata": {},
   "outputs": [],
   "source": [
    "def log_return(list_stock_prices):\n",
    "    return np.log(list_stock_prices).diff() \n",
    "\n",
    "def realized_volatility(series_log_return):\n",
    "    return np.sqrt(np.sum(series_log_return**2))"
   ]
  },
  {
   "cell_type": "code",
   "execution_count": 4,
   "id": "regular-theory",
   "metadata": {},
   "outputs": [],
   "source": [
    "def realized_volatility_per_time_id(file_path, prediction_column_name):\n",
    "    df_book_data = pd.read_parquet(file_path)\n",
    "    df_book_data['wap'] =(df_book_data['bid_price1'] * df_book_data['ask_size1']+df_book_data['ask_price1'] * df_book_data['bid_size1'])  / (\n",
    "                                      df_book_data['bid_size1']+ df_book_data[\n",
    "                                  'ask_size1'])\n",
    "    df_book_data['log_return'] = df_book_data.groupby(['time_id'])['wap'].apply(log_return)\n",
    "    df_book_data = df_book_data[~df_book_data['log_return'].isnull()]\n",
    "    df_realized_vol_per_stock =  pd.DataFrame(df_book_data.groupby(['time_id'])['log_return'].agg(realized_volatility)).reset_index()\n",
    "    df_realized_vol_per_stock = df_realized_vol_per_stock.rename(columns = {'log_return':prediction_column_name})\n",
    "    stock_id = file_path.split('=')[1]\n",
    "    df_realized_vol_per_stock['row_id'] = df_realized_vol_per_stock['time_id'].apply(lambda x:f'{stock_id}-{x}')\n",
    "    return df_realized_vol_per_stock[['row_id',prediction_column_name]]"
   ]
  },
  {
   "cell_type": "code",
   "execution_count": 8,
   "id": "tested-argentina",
   "metadata": {},
   "outputs": [],
   "source": [
    "list_order_book_file_train = glob.glob('../input/optiver-realized-volatility-prediction/book_train.parquet/*')"
   ]
  },
  {
   "cell_type": "code",
   "execution_count": 12,
   "id": "functioning-microphone",
   "metadata": {},
   "outputs": [],
   "source": [
    "def past_realized_volatility_per_stock(list_file,prediction_column_name):\n",
    "    df_past_realized = pd.DataFrame()\n",
    "    for file in list_file:\n",
    "        df_past_realized = pd.concat([df_past_realized,\n",
    "                                     realized_volatility_per_time_id(file,prediction_column_name)])\n",
    "    return df_past_realized\n",
    "df_past_realized_train = past_realized_volatility_per_stock(list_file=list_order_book_file_train,\n",
    "                                                           prediction_column_name='pred')"
   ]
  },
  {
   "cell_type": "code",
   "execution_count": 13,
   "id": "pacific-capability",
   "metadata": {},
   "outputs": [],
   "source": [
    "train['row_id'] = train['stock_id'].astype(str) + '-' + train['time_id'].astype(str)\n",
    "train = train[['row_id','target']]\n",
    "df_joined = train.merge(df_past_realized_train[['row_id','pred']], on = ['row_id'], how = 'left')"
   ]
  },
  {
   "cell_type": "code",
   "execution_count": null,
   "id": "indirect-quest",
   "metadata": {},
   "outputs": [],
   "source": []
  }
 ],
 "metadata": {
  "kernelspec": {
   "display_name": "Python 3.8.5 64-bit ('fastai': conda)",
   "language": "python",
   "name": "python38564bitfastaicondad52d12c5a30a4725bf9d3e235cf1271c"
  },
  "language_info": {
   "codemirror_mode": {
    "name": "ipython",
    "version": 3
   },
   "file_extension": ".py",
   "mimetype": "text/x-python",
   "name": "python",
   "nbconvert_exporter": "python",
   "pygments_lexer": "ipython3",
   "version": "3.8.5"
  }
 },
 "nbformat": 4,
 "nbformat_minor": 5
}
