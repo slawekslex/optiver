{
 "cells": [
  {
   "cell_type": "code",
   "execution_count": 151,
   "id": "painful-cherry",
   "metadata": {},
   "outputs": [],
   "source": [
    "from pathlib import Path\n",
    "\n",
    "import pandas as pd\n",
    "import pyarrow as pa\n",
    "import numpy as np\n",
    "import matplotlib.pyplot as plt\n",
    "import tqdm\n",
    "import glob\n",
    "PATH = Path('../input/optiver-realized-volatility-prediction/')\n",
    "from sklearn.metrics import r2_score"
   ]
  },
  {
   "cell_type": "code",
   "execution_count": 5,
   "id": "unique-recipient",
   "metadata": {},
   "outputs": [],
   "source": [
    "file_path = list_order_book_file_train[0]"
   ]
  },
  {
   "cell_type": "code",
   "execution_count": 45,
   "id": "initial-endorsement",
   "metadata": {},
   "outputs": [],
   "source": [
    "data_df = book_train.loc[book_train.stock_id == stock_ids[0]].copy()"
   ]
  },
  {
   "cell_type": "code",
   "execution_count": 58,
   "id": "dried-supply",
   "metadata": {},
   "outputs": [],
   "source": [
    "def ffill(data_df):\n",
    "    data_df=data_df.set_index(['time_id', 'seconds_in_bucket'])\n",
    "    data_df = data_df.reindex(pd.MultiIndex.from_product([data_df.index.levels[0], np.arange(0,600)], names = ['time_id', 'seconds_in_bucket']), method='ffill')\n",
    "    return data_df.reset_index()"
   ]
  },
  {
   "cell_type": "code",
   "execution_count": 75,
   "id": "proper-alexandria",
   "metadata": {},
   "outputs": [],
   "source": [
    "book_train = pd.read_parquet('../input/optiver-realized-volatility-prediction/book_train.parquet')\n",
    "stock_ids = book_train.stock_id.unique()\n",
    "for stock_id in tqdm.notebook.tqdm(stock_ids):\n",
    "    data_df = book_train.loc[book_train.stock_id == stock_id]\n",
    "    data_df = ffill(data_df)\n",
    "    table = pa.Table.from_pandas(data_df)\n",
    "    pa.parquet.write_to_dataset(table, root_path='../input/optiver-realized-volatility-prediction/book_train_reindexed.parquet', partition_cols=['stock_id'])"
   ]
  },
  {
   "cell_type": "code",
   "execution_count": 77,
   "id": "popular-relay",
   "metadata": {},
   "outputs": [],
   "source": [
    "reindexed_book_train =pd.read_parquet('../input/optiver-realized-volatility-prediction/book_train_reindexed.parquet')"
   ]
  },
  {
   "cell_type": "code",
   "execution_count": 78,
   "id": "incorporate-panel",
   "metadata": {},
   "outputs": [
    {
     "data": {
      "text/html": [
       "<div>\n",
       "<style scoped>\n",
       "    .dataframe tbody tr th:only-of-type {\n",
       "        vertical-align: middle;\n",
       "    }\n",
       "\n",
       "    .dataframe tbody tr th {\n",
       "        vertical-align: top;\n",
       "    }\n",
       "\n",
       "    .dataframe thead th {\n",
       "        text-align: right;\n",
       "    }\n",
       "</style>\n",
       "<table border=\"1\" class=\"dataframe\">\n",
       "  <thead>\n",
       "    <tr style=\"text-align: right;\">\n",
       "      <th></th>\n",
       "      <th>time_id</th>\n",
       "      <th>seconds_in_bucket</th>\n",
       "      <th>bid_price1</th>\n",
       "      <th>ask_price1</th>\n",
       "      <th>bid_price2</th>\n",
       "      <th>ask_price2</th>\n",
       "      <th>bid_size1</th>\n",
       "      <th>ask_size1</th>\n",
       "      <th>bid_size2</th>\n",
       "      <th>ask_size2</th>\n",
       "      <th>stock_id</th>\n",
       "    </tr>\n",
       "  </thead>\n",
       "  <tbody>\n",
       "    <tr>\n",
       "      <th>0</th>\n",
       "      <td>5</td>\n",
       "      <td>0</td>\n",
       "      <td>1.001422</td>\n",
       "      <td>1.002301</td>\n",
       "      <td>1.001370</td>\n",
       "      <td>1.002353</td>\n",
       "      <td>3</td>\n",
       "      <td>226</td>\n",
       "      <td>2</td>\n",
       "      <td>100</td>\n",
       "      <td>0</td>\n",
       "    </tr>\n",
       "    <tr>\n",
       "      <th>1</th>\n",
       "      <td>5</td>\n",
       "      <td>1</td>\n",
       "      <td>1.001422</td>\n",
       "      <td>1.002301</td>\n",
       "      <td>1.001370</td>\n",
       "      <td>1.002353</td>\n",
       "      <td>3</td>\n",
       "      <td>100</td>\n",
       "      <td>2</td>\n",
       "      <td>100</td>\n",
       "      <td>0</td>\n",
       "    </tr>\n",
       "    <tr>\n",
       "      <th>2</th>\n",
       "      <td>5</td>\n",
       "      <td>2</td>\n",
       "      <td>1.001422</td>\n",
       "      <td>1.002301</td>\n",
       "      <td>1.001370</td>\n",
       "      <td>1.002353</td>\n",
       "      <td>3</td>\n",
       "      <td>100</td>\n",
       "      <td>2</td>\n",
       "      <td>100</td>\n",
       "      <td>0</td>\n",
       "    </tr>\n",
       "    <tr>\n",
       "      <th>3</th>\n",
       "      <td>5</td>\n",
       "      <td>3</td>\n",
       "      <td>1.001422</td>\n",
       "      <td>1.002301</td>\n",
       "      <td>1.001370</td>\n",
       "      <td>1.002353</td>\n",
       "      <td>3</td>\n",
       "      <td>100</td>\n",
       "      <td>2</td>\n",
       "      <td>100</td>\n",
       "      <td>0</td>\n",
       "    </tr>\n",
       "    <tr>\n",
       "      <th>4</th>\n",
       "      <td>5</td>\n",
       "      <td>4</td>\n",
       "      <td>1.001422</td>\n",
       "      <td>1.002301</td>\n",
       "      <td>1.001370</td>\n",
       "      <td>1.002353</td>\n",
       "      <td>3</td>\n",
       "      <td>100</td>\n",
       "      <td>2</td>\n",
       "      <td>100</td>\n",
       "      <td>0</td>\n",
       "    </tr>\n",
       "    <tr>\n",
       "      <th>...</th>\n",
       "      <td>...</td>\n",
       "      <td>...</td>\n",
       "      <td>...</td>\n",
       "      <td>...</td>\n",
       "      <td>...</td>\n",
       "      <td>...</td>\n",
       "      <td>...</td>\n",
       "      <td>...</td>\n",
       "      <td>...</td>\n",
       "      <td>...</td>\n",
       "      <td>...</td>\n",
       "    </tr>\n",
       "    <tr>\n",
       "      <th>257359195</th>\n",
       "      <td>32767</td>\n",
       "      <td>595</td>\n",
       "      <td>0.999527</td>\n",
       "      <td>0.999797</td>\n",
       "      <td>0.999391</td>\n",
       "      <td>0.999932</td>\n",
       "      <td>900</td>\n",
       "      <td>600</td>\n",
       "      <td>600</td>\n",
       "      <td>528</td>\n",
       "      <td>99</td>\n",
       "    </tr>\n",
       "    <tr>\n",
       "      <th>257359196</th>\n",
       "      <td>32767</td>\n",
       "      <td>596</td>\n",
       "      <td>0.999527</td>\n",
       "      <td>0.999797</td>\n",
       "      <td>0.999391</td>\n",
       "      <td>0.999932</td>\n",
       "      <td>900</td>\n",
       "      <td>700</td>\n",
       "      <td>600</td>\n",
       "      <td>628</td>\n",
       "      <td>99</td>\n",
       "    </tr>\n",
       "    <tr>\n",
       "      <th>257359197</th>\n",
       "      <td>32767</td>\n",
       "      <td>597</td>\n",
       "      <td>0.999527</td>\n",
       "      <td>0.999797</td>\n",
       "      <td>0.999391</td>\n",
       "      <td>0.999932</td>\n",
       "      <td>600</td>\n",
       "      <td>700</td>\n",
       "      <td>600</td>\n",
       "      <td>628</td>\n",
       "      <td>99</td>\n",
       "    </tr>\n",
       "    <tr>\n",
       "      <th>257359198</th>\n",
       "      <td>32767</td>\n",
       "      <td>598</td>\n",
       "      <td>0.999527</td>\n",
       "      <td>0.999797</td>\n",
       "      <td>0.999391</td>\n",
       "      <td>0.999932</td>\n",
       "      <td>600</td>\n",
       "      <td>700</td>\n",
       "      <td>600</td>\n",
       "      <td>628</td>\n",
       "      <td>99</td>\n",
       "    </tr>\n",
       "    <tr>\n",
       "      <th>257359199</th>\n",
       "      <td>32767</td>\n",
       "      <td>599</td>\n",
       "      <td>0.999527</td>\n",
       "      <td>0.999797</td>\n",
       "      <td>0.999391</td>\n",
       "      <td>0.999932</td>\n",
       "      <td>600</td>\n",
       "      <td>700</td>\n",
       "      <td>600</td>\n",
       "      <td>628</td>\n",
       "      <td>99</td>\n",
       "    </tr>\n",
       "  </tbody>\n",
       "</table>\n",
       "<p>257359200 rows × 11 columns</p>\n",
       "</div>"
      ],
      "text/plain": [
       "           time_id  seconds_in_bucket  bid_price1  ask_price1  bid_price2  \\\n",
       "0                5                  0    1.001422    1.002301    1.001370   \n",
       "1                5                  1    1.001422    1.002301    1.001370   \n",
       "2                5                  2    1.001422    1.002301    1.001370   \n",
       "3                5                  3    1.001422    1.002301    1.001370   \n",
       "4                5                  4    1.001422    1.002301    1.001370   \n",
       "...            ...                ...         ...         ...         ...   \n",
       "257359195    32767                595    0.999527    0.999797    0.999391   \n",
       "257359196    32767                596    0.999527    0.999797    0.999391   \n",
       "257359197    32767                597    0.999527    0.999797    0.999391   \n",
       "257359198    32767                598    0.999527    0.999797    0.999391   \n",
       "257359199    32767                599    0.999527    0.999797    0.999391   \n",
       "\n",
       "           ask_price2  bid_size1  ask_size1  bid_size2  ask_size2 stock_id  \n",
       "0            1.002353          3        226          2        100        0  \n",
       "1            1.002353          3        100          2        100        0  \n",
       "2            1.002353          3        100          2        100        0  \n",
       "3            1.002353          3        100          2        100        0  \n",
       "4            1.002353          3        100          2        100        0  \n",
       "...               ...        ...        ...        ...        ...      ...  \n",
       "257359195    0.999932        900        600        600        528       99  \n",
       "257359196    0.999932        900        700        600        628       99  \n",
       "257359197    0.999932        600        700        600        628       99  \n",
       "257359198    0.999932        600        700        600        628       99  \n",
       "257359199    0.999932        600        700        600        628       99  \n",
       "\n",
       "[257359200 rows x 11 columns]"
      ]
     },
     "execution_count": 78,
     "metadata": {},
     "output_type": "execute_result"
    }
   ],
   "source": [
    "reindexed_book_train"
   ]
  },
  {
   "cell_type": "code",
   "execution_count": 79,
   "id": "selected-chile",
   "metadata": {},
   "outputs": [
    {
     "data": {
      "text/plain": [
       "False"
      ]
     },
     "execution_count": 79,
     "metadata": {},
     "output_type": "execute_result"
    }
   ],
   "source": [
    "len(reindexed_book_train) == 112 * 3830 * 600"
   ]
  },
  {
   "cell_type": "code",
   "execution_count": 80,
   "id": "dirty-rachel",
   "metadata": {},
   "outputs": [
    {
     "data": {
      "text/plain": [
       "112"
      ]
     },
     "execution_count": 80,
     "metadata": {},
     "output_type": "execute_result"
    }
   ],
   "source": [
    "reindexed_book_train.stock_id.nunique()"
   ]
  },
  {
   "cell_type": "code",
   "execution_count": 81,
   "id": "green-layout",
   "metadata": {},
   "outputs": [
    {
     "data": {
      "text/plain": [
       "3830"
      ]
     },
     "execution_count": 81,
     "metadata": {},
     "output_type": "execute_result"
    }
   ],
   "source": [
    "reindexed_book_train.time_id.nunique()"
   ]
  },
  {
   "cell_type": "code",
   "execution_count": 87,
   "id": "backed-happiness",
   "metadata": {},
   "outputs": [],
   "source": [
    "counts = reindexed_book_train.groupby('stock_id')['time_id'].agg('count')"
   ]
  },
  {
   "cell_type": "code",
   "execution_count": 83,
   "id": "bizarre-optimization",
   "metadata": {},
   "outputs": [
    {
     "data": {
      "text/plain": [
       "257376000"
      ]
     },
     "execution_count": 83,
     "metadata": {},
     "output_type": "execute_result"
    }
   ],
   "source": [
    "112 * 3830 * 600"
   ]
  },
  {
   "cell_type": "code",
   "execution_count": 88,
   "id": "equivalent-alexander",
   "metadata": {},
   "outputs": [
    {
     "data": {
      "text/plain": [
       "stock_id\n",
       "0      2298000\n",
       "1      2298000\n",
       "10     2298000\n",
       "100    2297400\n",
       "101    2298000\n",
       "        ...   \n",
       "95     2298000\n",
       "96     2298000\n",
       "97     2298000\n",
       "98     2298000\n",
       "99     2298000\n",
       "Name: time_id, Length: 112, dtype: int64"
      ]
     },
     "execution_count": 88,
     "metadata": {},
     "output_type": "execute_result"
    }
   ],
   "source": [
    "counts"
   ]
  },
  {
   "cell_type": "code",
   "execution_count": 92,
   "id": "golden-resource",
   "metadata": {},
   "outputs": [
    {
     "data": {
      "text/plain": [
       "stock_id\n",
       "100    2297400\n",
       "13     2297400\n",
       "38     2289000\n",
       "75     2297400\n",
       "80     2292000\n",
       "Name: time_id, dtype: int64"
      ]
     },
     "execution_count": 92,
     "metadata": {},
     "output_type": "execute_result"
    }
   ],
   "source": [
    "counts[counts != 2298000]"
   ]
  },
  {
   "cell_type": "code",
   "execution_count": 94,
   "id": "incorporate-place",
   "metadata": {},
   "outputs": [
    {
     "data": {
      "text/plain": [
       "3820"
      ]
     },
     "execution_count": 94,
     "metadata": {},
     "output_type": "execute_result"
    }
   ],
   "source": [
    "reindexed_book_train.loc[reindexed_book_train.stock_id == 80].time_id.nunique()"
   ]
  },
  {
   "cell_type": "code",
   "execution_count": 96,
   "id": "polish-maple",
   "metadata": {},
   "outputs": [
    {
     "data": {
      "text/plain": [
       "3820"
      ]
     },
     "execution_count": 96,
     "metadata": {},
     "output_type": "execute_result"
    }
   ],
   "source": [
    "book_train.loc[book_train.stock_id == 80].time_id.nunique()"
   ]
  },
  {
   "cell_type": "code",
   "execution_count": 97,
   "id": "accessible-contest",
   "metadata": {},
   "outputs": [
    {
     "data": {
      "text/plain": [
       "3830"
      ]
     },
     "execution_count": 97,
     "metadata": {},
     "output_type": "execute_result"
    }
   ],
   "source": [
    "book_train.loc[book_train.stock_id == 0].time_id.nunique()"
   ]
  },
  {
   "cell_type": "code",
   "execution_count": 98,
   "id": "worldwide-handle",
   "metadata": {},
   "outputs": [
    {
     "data": {
      "text/plain": [
       "257359200"
      ]
     },
     "execution_count": 98,
     "metadata": {},
     "output_type": "execute_result"
    }
   ],
   "source": [
    "cnt =0\n",
    "for stock_id in stock_ids:\n",
    "    cnt += book_train.loc[book_train.stock_id == stock_id].time_id.nunique()\n",
    "cnt * 600"
   ]
  },
  {
   "cell_type": "code",
   "execution_count": 102,
   "id": "departmental-equity",
   "metadata": {},
   "outputs": [],
   "source": [
    "reindexed_book_train['wap'] = (reindexed_book_train.bid_price1 * reindexed_book_train.ask_size1 + reindexed_book_train.ask_price1 * reindexed_book_train.bid_size1) / (reindexed_book_train.ask_size1 + reindexed_book_train.bid_size1)"
   ]
  },
  {
   "cell_type": "code",
   "execution_count": 128,
   "id": "verified-charity",
   "metadata": {},
   "outputs": [],
   "source": [
    "def realized_volatility_single_stock(wap):\n",
    "    log_wap = np.log(wap)\n",
    "    log_wap = log_wap.reshape(-1,600)\n",
    "    log_ret = log_wap[:,1:] - log_wap[:,:-1]\n",
    "    volatility = np.sqrt((log_ret ** 2).sum(axis=1))\n",
    "    return volatility"
   ]
  },
  {
   "cell_type": "code",
   "execution_count": 146,
   "id": "ranging-supervision",
   "metadata": {},
   "outputs": [],
   "source": [
    "res = []\n",
    "for stock_id in reindexed_book_train.stock_id.unique():\n",
    "    data_df = reindexed_book_train[reindexed_book_train.stock_id == stock_id]\n",
    "    r_v = realized_volatility_single_stock(data_df.wap.to_numpy())\n",
    "    row_ids =[f'{stock_id}-{x}' for x in data_df.time_id.unique()]\n",
    "    res.append(pd.DataFrame(zip(row_ids, r_v), columns = ['row_id', 'pred']))\n",
    "res = pd.concat(res)"
   ]
  },
  {
   "cell_type": "code",
   "execution_count": 149,
   "id": "regulation-background",
   "metadata": {},
   "outputs": [],
   "source": [
    "train = pd.read_csv('../input/optiver-realized-volatility-prediction/train.csv')\n",
    "train['row_id'] = train['stock_id'].astype(str) + '-' + train['time_id'].astype(str)\n",
    "train = train[['row_id','target']]\n",
    "df_joined = train.merge(res, on = ['row_id'], how = 'left')"
   ]
  },
  {
   "cell_type": "code",
   "execution_count": 152,
   "id": "domestic-pocket",
   "metadata": {},
   "outputs": [
    {
     "name": "stdout",
     "output_type": "stream",
     "text": [
      "Performance of the naive prediction: R2 score: 0.628, RMSPE: 0.341\n"
     ]
    }
   ],
   "source": [
    "def rmspe(y_true, y_pred):\n",
    "    return  (np.sqrt(np.mean(np.square((y_true - y_pred) / y_true))))\n",
    "R2 = round(r2_score(y_true = df_joined['target'], y_pred = df_joined['pred']),3)\n",
    "RMSPE = round(rmspe(y_true = df_joined['target'], y_pred = df_joined['pred']),3)\n",
    "print(f'Performance of the naive prediction: R2 score: {R2}, RMSPE: {RMSPE}')"
   ]
  },
  {
   "cell_type": "code",
   "execution_count": null,
   "id": "alive-place",
   "metadata": {},
   "outputs": [],
   "source": []
  }
 ],
 "metadata": {
  "kernelspec": {
   "display_name": "Python 3.8.5 64-bit ('fastai': conda)",
   "language": "python",
   "name": "python38564bitfastaicondad52d12c5a30a4725bf9d3e235cf1271c"
  },
  "language_info": {
   "codemirror_mode": {
    "name": "ipython",
    "version": 3
   },
   "file_extension": ".py",
   "mimetype": "text/x-python",
   "name": "python",
   "nbconvert_exporter": "python",
   "pygments_lexer": "ipython3",
   "version": "3.8.5"
  }
 },
 "nbformat": 4,
 "nbformat_minor": 5
}
