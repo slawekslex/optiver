{
 "cells": [
  {
   "cell_type": "code",
   "execution_count": 1,
   "id": "exciting-captain",
   "metadata": {},
   "outputs": [],
   "source": [
    "from fastai.vision.all import *"
   ]
  },
  {
   "cell_type": "code",
   "execution_count": 2,
   "id": "choice-carnival",
   "metadata": {},
   "outputs": [],
   "source": [
    "PATH = Path('../input/optiver-realized-volatility-prediction')\n",
    "\n",
    "# data_df = pd.read_parquet(PATH/'book_train_reindexed.parquet')\n",
    "\n",
    "# sizes = ['bid_size1', 'bid_size2', 'ask_size1', 'ask_size2']\n",
    "# for sz in sizes:\n",
    "#     data_df[sz] = data_df[sz]/ 1_000_000\n",
    "\n"
   ]
  },
  {
   "cell_type": "code",
   "execution_count": 3,
   "id": "accessible-alarm",
   "metadata": {},
   "outputs": [],
   "source": [
    "#train_df = pd.read_csv(PATH/'train_with_offset.csv')\n",
    "# data_df['wap'] = (data_df.bid_price1 * data_df.ask_size1 + data_df.ask_price1 * data_df.bid_size1) / (data_df.ask_size1 + data_df.bid_size1)\n",
    "\n",
    "# mean_wap =[]\n",
    "# for row in train_df.itertuples():\n",
    "#     df = data_df.iloc[row.offset:row.offset+600]\n",
    "#     mean_wap.append(df.wap.mean())"
   ]
  },
  {
   "cell_type": "code",
   "execution_count": 4,
   "id": "intense-brave",
   "metadata": {},
   "outputs": [],
   "source": [
    "# train_df['mean_wap']=mean_wap\n",
    "# train_df.to_csv(PATH/'train_with_wap.csv')"
   ]
  },
  {
   "cell_type": "code",
   "execution_count": 5,
   "id": "wired-maryland",
   "metadata": {},
   "outputs": [],
   "source": [
    "# np_data = data_df[['bid_price1', 'ask_price1', 'bid_size1', 'ask_size1','bid_price2', 'ask_price2', 'bid_size2', 'ask_size2']].to_numpy()\n",
    "\n",
    "# del data_df\n",
    "\n",
    "# np_data = np_data.astype('float32')\n",
    "# torch_data = torch.tensor(np_data)\n",
    "\n",
    "# del np_data\n",
    "\n",
    "# torch.save(torch_data, PATH/'torch_data.pth')"
   ]
  },
  {
   "cell_type": "code",
   "execution_count": 6,
   "id": "limited-projection",
   "metadata": {},
   "outputs": [
    {
     "name": "stdout",
     "output_type": "stream",
     "text": [
      "CPU times: user 0 ns, sys: 12.1 s, total: 12.1 s\n",
      "Wall time: 2min 1s\n"
     ]
    }
   ],
   "source": [
    "%%time\n",
    "torch_data = torch.load(PATH/'torch_data.pth')"
   ]
  },
  {
   "cell_type": "code",
   "execution_count": 7,
   "id": "maritime-madness",
   "metadata": {},
   "outputs": [],
   "source": [
    "means, stds = torch_data.mean(dim=0), torch_data.std(dim=0)\n",
    "\n",
    "torch_data = (torch_data - means) / stds"
   ]
  },
  {
   "cell_type": "code",
   "execution_count": 8,
   "id": "historic-glass",
   "metadata": {},
   "outputs": [],
   "source": [
    "train_df = pd.read_csv(PATH/'train_with_wap.csv')"
   ]
  },
  {
   "cell_type": "code",
   "execution_count": 9,
   "id": "informational-reducing",
   "metadata": {},
   "outputs": [
    {
     "name": "stdout",
     "output_type": "stream",
     "text": [
      "0.9172531180048944 0.9971951138775056 0.9956492523836432\n",
      "0.9971951327900604 0.9984703256953886 0.9979708959569917\n",
      "0.9984703751656142 0.9991431543863876 0.9988451162091514\n",
      "0.9991431683337992 0.999616836138266 0.9993924853218963\n",
      "0.9996168497680276 1.0000141933324718 0.9998199779860442\n",
      "1.0000141975255898 1.0004091980748968 1.00020793857736\n",
      "1.0004091986325243 1.000876884050013 1.0006291062379966\n",
      "1.0008769297217603 1.0015230362748495 1.0011664016312456\n",
      "1.0015230933064834 1.002768629281105 1.0020189286622183\n",
      "1.0027686365447124 1.077264872305151 1.004330146304397\n"
     ]
    }
   ],
   "source": [
    "w = train_df.mean_wap.to_numpy()\n",
    "\n",
    "w =np.sort(w)\n",
    "\n",
    "bins = []\n",
    "\n",
    "step = (len(w)+9)//10\n",
    "for i in range(0, len(w), step):\n",
    "    j = min(i+step, len(w))\n",
    "    bins.append(w[j] if j< len(w) else 2)\n",
    "    print(w[i], w[j-1],np.median(w[i:j]) )\n",
    "\n",
    "wap_bin = np.digitize(train_df.mean_wap, bins)\n",
    "\n",
    "train_df['wap_bin']=wap_bin"
   ]
  },
  {
   "cell_type": "code",
   "execution_count": 10,
   "id": "written-audience",
   "metadata": {},
   "outputs": [
    {
     "name": "stdout",
     "output_type": "stream",
     "text": [
      "0.000105263 0.001436988 0.001175852\n",
      "0.001436991 0.001838282 0.0016455530000000001\n",
      "0.001838308 0.002210492 0.0020263215\n",
      "0.002210493 0.002604845 0.00240206\n",
      "0.002604847 0.003048064 0.002817908\n",
      "0.003048071 0.003585089 0.0033027735\n",
      "0.003585105 0.00428704 0.003905317\n",
      "0.004287042 0.005311553 0.0047378975\n",
      "0.005311559 0.007240946 0.0060829544999999995\n",
      "0.007240976 0.07032062 0.009453786499999998\n"
     ]
    }
   ],
   "source": [
    "w = train_df.target.to_numpy()\n",
    "\n",
    "w =np.sort(w)\n",
    "\n",
    "bins = []\n",
    "bin_med=[]\n",
    "step = (len(w)+9)//10\n",
    "for i in range(0, len(w), step):\n",
    "    j = min(i+step, len(w))\n",
    "    bins.append(w[j] if j< len(w) else 1)\n",
    "    bin_med.append(np.median(w[i:j]))\n",
    "    print(w[i], w[j-1],np.median(w[i:j]) )\n",
    "\n",
    "target_bin = np.digitize(train_df.target, bins)\n",
    "\n",
    "train_df['target_bin']=target_bin"
   ]
  },
  {
   "cell_type": "code",
   "execution_count": 11,
   "id": "designed-johnson",
   "metadata": {},
   "outputs": [],
   "source": [
    "class Conv8(nn.Module):\n",
    "    def __init__(self, ch_in, ch_out):\n",
    "        super().__init__()\n",
    "        self.conv = nn.Conv2d(ch_in, ch_out * 8, kernel_size=(3,8), padding=(1,0))\n",
    "        self.bn = nn.BatchNorm2d(ch_out)\n",
    "        \n",
    "    def forward(self, x):\n",
    "        x = self.conv(x)\n",
    "        ch = x.shape[1]\n",
    "        step = ch // 8\n",
    "        parts = [x[:,i:i+step,:,:] for i in range(0, ch, step)]\n",
    "        res = torch.cat(parts, dim=3)\n",
    "        res = self.bn(res)\n",
    "        #res = F.dropout(res)\n",
    "        res = F.relu(res)\n",
    "        return res\n",
    "\n",
    "class ConvModel(nn.Module):\n",
    "    def __init__(self, num_outputs=1):\n",
    "        super().__init__()\n",
    "        #sizes = [1,8,8,16,16,32,32,64,64]\n",
    "        #sizes = [1,2,4,8,16,32,64,128,256]\n",
    "        sizes = [1,16,16,32,32,64,64,128,128]\n",
    "        mp = nn.MaxPool2d(kernel_size = (2,1))\n",
    "        layers = []\n",
    "        for c_in, c_out in zip(sizes, sizes[1:]):\n",
    "            layers.append(Conv8(c_in, c_out))\n",
    "            layers.append(mp)\n",
    "        layers.append(Flatten())\n",
    "        layers.append(nn.Dropout())\n",
    "        layers.append(nn.Linear(2*8*sizes[-1], num_outputs))\n",
    "        #layers.append(SigmoidRange(0,1))\n",
    "        self.layers = nn.Sequential(*layers)\n",
    "    def forward(self, x):\n",
    "        return self.layers(x)\n",
    "        "
   ]
  },
  {
   "cell_type": "code",
   "execution_count": 104,
   "id": "celtic-secret",
   "metadata": {},
   "outputs": [],
   "source": [
    "class ResBlock(nn.Module):\n",
    "    def __init__(self, ch):\n",
    "        super().__init__()\n",
    "        self.conv1 = nn.Conv2d(ch, ch, kernel_size = (3,1), padding = (1,0))\n",
    "        self.conv2 = nn.Conv2d(ch, ch, kernel_size = (3,1), padding = (1,0))\n",
    "        self.bn1 = nn.BatchNorm2d(ch)\n",
    "        self.bn2 = nn.BatchNorm2d(ch)\n",
    "    def forward(self, x):\n",
    "        res = self.conv1(x)\n",
    "        res = self.bn1(res)\n",
    "        res = F.relu(res)\n",
    "        res = F.dropout(res, p=.25)\n",
    "        res = self.conv2(res)\n",
    "        res = self.bn2(res)\n",
    "        res += x\n",
    "        res = F.relu(res)\n",
    "        res = F.dropout(res, p=.25)\n",
    "        return res"
   ]
  },
  {
   "cell_type": "code",
   "execution_count": 105,
   "id": "continental-engineering",
   "metadata": {},
   "outputs": [],
   "source": [
    "class ResnetModel(nn.Module):\n",
    "    def __init__(self, num_outputs):\n",
    "        super().__init__()\n",
    "        self.layers = nn.Sequential(\n",
    "            nn.Conv2d(1,16, kernel_size=(3,8), padding=(1,0)),\n",
    "            nn.BatchNorm2d(16),\n",
    "            nn.ReLU(),\n",
    "            ResBlock(16),\n",
    "            nn.AvgPool2d((2,1)),\n",
    "            nn.Conv2d(16,32, (1,1)),\n",
    "            nn.BatchNorm2d(32),\n",
    "            nn.ReLU(),\n",
    "            ResBlock(32),\n",
    "            nn.AvgPool2d((2,1)),\n",
    "            ResBlock(32),\n",
    "            nn.AvgPool2d((2,1)),\n",
    "            ResBlock(32),\n",
    "            nn.AvgPool2d((2,1)),\n",
    "            ResBlock(32),\n",
    "            nn.AvgPool2d((2,1)),\n",
    "            ResBlock(32),\n",
    "            nn.AvgPool2d((2,1)),\n",
    "            ResBlock(32),\n",
    "            nn.Conv2d(32,64, (1,1)),\n",
    "            ResBlock(64),\n",
    "            nn.AvgPool2d((2,1)),\n",
    "            ResBlock(64),\n",
    "            nn.AvgPool2d((2,1)),\n",
    "            ResBlock(64),\n",
    "            nn.AvgPool2d((2,1)),\n",
    "            ResBlock(64),\n",
    "            Flatten(),\n",
    "            nn.Dropout(),\n",
    "            nn.Linear(64, num_outputs)\n",
    "        )\n",
    "    def forward(self, x):\n",
    "        return self.layers(x)"
   ]
  },
  {
   "cell_type": "code",
   "execution_count": 163,
   "id": "familiar-syria",
   "metadata": {},
   "outputs": [],
   "source": [
    "class ResnetRegression(nn.Module):\n",
    "    def __init__(self, stem, num_inputs):\n",
    "        super().__init__()\n",
    "        self.stem = stem\n",
    "        self.classifier = nn.Sequential(\n",
    "            nn.Linear(num_inputs, 1),\n",
    "            SigmoidRange(0,.1)\n",
    "        )\n",
    "        \n",
    "    def forward(self, x):\n",
    "        return self.classifier(self.stem(x)).view(-1)"
   ]
  },
  {
   "cell_type": "code",
   "execution_count": 134,
   "id": "moved-secretariat",
   "metadata": {},
   "outputs": [],
   "source": []
  },
  {
   "cell_type": "code",
   "execution_count": 108,
   "id": "attended-occurrence",
   "metadata": {},
   "outputs": [],
   "source": [
    "class LoadTransform(Transform):\n",
    "    def __init__(self, torch_data):\n",
    "        super().__init__()\n",
    "        self.data = torch_data\n",
    "        \n",
    "    def encodes(self, row):\n",
    "        #df = self.data.iloc[row.offset:row.offset+600]\n",
    "        #ret = df[['bid_price1', 'ask_price1', 'bid_size1', 'ask_size1','bid_price2', 'ask_price2', 'bid_size2', 'ask_size2']].to_numpy()\n",
    "        #ret = ret.reshape(1,600,8).astype('float32')\n",
    "        ret = self.data[row.offset:row.offset+600]\n",
    "        return ret.view(1,600,8)\n",
    "\n",
    "tfm = LoadTransform(torch_data)\n",
    "\n",
    "data_block = DataBlock(\n",
    "        blocks = (TransformBlock(type_tfms=tfm), \n",
    "                  #RegressionBlock()),\n",
    "                  CategoryBlock(vocab=list(range(10)))),\n",
    "        splitter=ColSplitter(),\n",
    "        #get_y=ColReader('target'),\n",
    "        #get_y=ColReader('wap_bin'),\n",
    "        get_y=ColReader('target_bin'),\n",
    ")\n",
    "dls = data_block.dataloaders(train_df, bs=1024)"
   ]
  },
  {
   "cell_type": "code",
   "execution_count": 146,
   "id": "republican-glenn",
   "metadata": {},
   "outputs": [],
   "source": [
    "dls_reg = DataBlock(\n",
    "        blocks = (TransformBlock(type_tfms=tfm), \n",
    "                  RegressionBlock()),\n",
    "        splitter=ColSplitter(),\n",
    "        get_y=ColReader('target'),\n",
    ").dataloaders(train_df, bs = 1024)\n"
   ]
  },
  {
   "cell_type": "code",
   "execution_count": 88,
   "id": "blessed-cooper",
   "metadata": {},
   "outputs": [],
   "source": [
    "bx,by = dls.one_batch()"
   ]
  },
  {
   "cell_type": "code",
   "execution_count": 89,
   "id": "regulated-poison",
   "metadata": {},
   "outputs": [
    {
     "data": {
      "text/plain": [
       "torch.Size([512, 10])"
      ]
     },
     "execution_count": 89,
     "metadata": {},
     "output_type": "execute_result"
    }
   ],
   "source": [
    "ResnetModel(10).cuda()(bx).shape"
   ]
  },
  {
   "cell_type": "code",
   "execution_count": 90,
   "id": "successful-hawaii",
   "metadata": {},
   "outputs": [],
   "source": [
    "def rmspe(preds, targs):\n",
    "    x = (targs-preds)/targs\n",
    "    return (x**2).mean().sqrt()"
   ]
  },
  {
   "cell_type": "code",
   "execution_count": 91,
   "id": "stylish-coffee",
   "metadata": {},
   "outputs": [],
   "source": [
    "def mspe_loss(preds, targs):\n",
    "    x = (targs-preds)/targs\n",
    "    return (x**2).mean()"
   ]
  },
  {
   "cell_type": "code",
   "execution_count": 202,
   "id": "regulation-irish",
   "metadata": {},
   "outputs": [],
   "source": [
    "def my_mse_loss(preds, targs):\n",
    "    x = (targs-preds)\n",
    "    #res = ((x**2)/(targs**2))\n",
    "    res = (x/targs) ** 2\n",
    "    return res.sqrt().mean()"
   ]
  },
  {
   "cell_type": "code",
   "execution_count": 92,
   "id": "understood-bunch",
   "metadata": {},
   "outputs": [],
   "source": [
    "def rmspe_loss(preds, targs):\n",
    "    x = (targs-preds)/targs\n",
    "    return (x**2).mean().sqrt()"
   ]
  },
  {
   "cell_type": "code",
   "execution_count": 109,
   "id": "nonprofit-amount",
   "metadata": {},
   "outputs": [],
   "source": [
    "#learn = Learner(dls, ConvModel(),loss_func=mspe_loss, metrics=AccumMetric(rmspe))\n",
    "learn = Learner(dls, ResnetModel(10), metrics = [accuracy])"
   ]
  },
  {
   "cell_type": "code",
   "execution_count": 107,
   "id": "respiratory-collect",
   "metadata": {},
   "outputs": [
    {
     "data": {
      "text/html": [],
      "text/plain": [
       "<IPython.core.display.HTML object>"
      ]
     },
     "metadata": {},
     "output_type": "display_data"
    },
    {
     "data": {
      "text/plain": [
       "SuggestedLRs(lr_min=0.10964782238006592, lr_steep=1.3182567499825382e-06)"
      ]
     },
     "execution_count": 107,
     "metadata": {},
     "output_type": "execute_result"
    },
    {
     "data": {
      "image/png": "[encoded data removed]",
      "text/plain": [
       "<Figure size 432x288 with 1 Axes>"
      ]
     },
     "metadata": {
      "needs_background": "light"
     },
     "output_type": "display_data"
    }
   ],
   "source": [
    "learn.lr_find()"
   ]
  },
  {
   "cell_type": "code",
   "execution_count": 110,
   "id": "varied-mountain",
   "metadata": {},
   "outputs": [
    {
     "data": {
      "text/html": [
       "<table border=\"1\" class=\"dataframe\">\n",
       "  <thead>\n",
       "    <tr style=\"text-align: left;\">\n",
       "      <th>epoch</th>\n",
       "      <th>train_loss</th>\n",
       "      <th>valid_loss</th>\n",
       "      <th>accuracy</th>\n",
       "      <th>time</th>\n",
       "    </tr>\n",
       "  </thead>\n",
       "  <tbody>\n",
       "    <tr>\n",
       "      <td>0</td>\n",
       "      <td>1.673135</td>\n",
       "      <td>1.554107</td>\n",
       "      <td>0.372408</td>\n",
       "      <td>00:27</td>\n",
       "    </tr>\n",
       "    <tr>\n",
       "      <td>1</td>\n",
       "      <td>1.622916</td>\n",
       "      <td>1.598337</td>\n",
       "      <td>0.351586</td>\n",
       "      <td>00:27</td>\n",
       "    </tr>\n",
       "    <tr>\n",
       "      <td>2</td>\n",
       "      <td>1.598871</td>\n",
       "      <td>1.623357</td>\n",
       "      <td>0.337265</td>\n",
       "      <td>00:28</td>\n",
       "    </tr>\n",
       "    <tr>\n",
       "      <td>3</td>\n",
       "      <td>1.583995</td>\n",
       "      <td>1.810687</td>\n",
       "      <td>0.278861</td>\n",
       "      <td>00:28</td>\n",
       "    </tr>\n",
       "    <tr>\n",
       "      <td>4</td>\n",
       "      <td>1.557294</td>\n",
       "      <td>1.918094</td>\n",
       "      <td>0.253111</td>\n",
       "      <td>00:28</td>\n",
       "    </tr>\n",
       "    <tr>\n",
       "      <td>5</td>\n",
       "      <td>1.543311</td>\n",
       "      <td>1.588723</td>\n",
       "      <td>0.347634</td>\n",
       "      <td>00:28</td>\n",
       "    </tr>\n",
       "    <tr>\n",
       "      <td>6</td>\n",
       "      <td>1.540782</td>\n",
       "      <td>2.079751</td>\n",
       "      <td>0.250781</td>\n",
       "      <td>00:29</td>\n",
       "    </tr>\n",
       "    <tr>\n",
       "      <td>7</td>\n",
       "      <td>1.515076</td>\n",
       "      <td>1.680436</td>\n",
       "      <td>0.318041</td>\n",
       "      <td>00:29</td>\n",
       "    </tr>\n",
       "    <tr>\n",
       "      <td>8</td>\n",
       "      <td>1.510131</td>\n",
       "      <td>1.890667</td>\n",
       "      <td>0.277226</td>\n",
       "      <td>00:29</td>\n",
       "    </tr>\n",
       "    <tr>\n",
       "      <td>9</td>\n",
       "      <td>1.490639</td>\n",
       "      <td>1.600861</td>\n",
       "      <td>0.351293</td>\n",
       "      <td>00:29</td>\n",
       "    </tr>\n",
       "    <tr>\n",
       "      <td>10</td>\n",
       "      <td>1.478375</td>\n",
       "      <td>1.512647</td>\n",
       "      <td>0.376811</td>\n",
       "      <td>00:29</td>\n",
       "    </tr>\n",
       "    <tr>\n",
       "      <td>11</td>\n",
       "      <td>1.476436</td>\n",
       "      <td>1.454823</td>\n",
       "      <td>0.405599</td>\n",
       "      <td>00:28</td>\n",
       "    </tr>\n",
       "  </tbody>\n",
       "</table>"
      ],
      "text/plain": [
       "<IPython.core.display.HTML object>"
      ]
     },
     "metadata": {},
     "output_type": "display_data"
    }
   ],
   "source": [
    "learn.fit_one_cycle(12,1e-2, wd=.2)"
   ]
  },
  {
   "cell_type": "code",
   "execution_count": 111,
   "id": "alleged-colombia",
   "metadata": {},
   "outputs": [
    {
     "data": {
      "text/plain": [
       "Path('models/res_model1.pth.pth')"
      ]
     },
     "execution_count": 111,
     "metadata": {},
     "output_type": "execute_result"
    }
   ],
   "source": [
    "learn.save('res_model1.pth')"
   ]
  },
  {
   "cell_type": "code",
   "execution_count": 201,
   "id": "champion-orchestra",
   "metadata": {},
   "outputs": [],
   "source": [
    "learn.load('res_model1.pth')\n",
    "\n",
    "stem = nn.Sequential(*list(learn.model.layers.children())[:-1])\n",
    "reg_m = ResnetRegression(stem, 64)\n",
    "learn2 = Learner(dls_reg, reg_m, loss_func=my_mse_loss, metrics=AccumMetric(rmspe))"
   ]
  },
  {
   "cell_type": "code",
   "execution_count": 198,
   "id": "automated-allergy",
   "metadata": {},
   "outputs": [
    {
     "data": {
      "text/plain": [
       "(tensor(0.0031, device='cuda:0', grad_fn=<MseLossBackward>),\n",
       " tensor(21.9759, device='cuda:0', grad_fn=<MeanBackward0>))"
      ]
     },
     "execution_count": 198,
     "metadata": {},
     "output_type": "execute_result"
    }
   ],
   "source": [
    "bx,by=dls_reg.one_batch()\n",
    "out = reg_m.cuda()(bx)\n",
    "F.mse_loss(out, by), my_mse_loss(out, by)"
   ]
  },
  {
   "cell_type": "code",
   "execution_count": 203,
   "id": "subjective-sussex",
   "metadata": {},
   "outputs": [
    {
     "data": {
      "text/html": [
       "<table border=\"1\" class=\"dataframe\">\n",
       "  <thead>\n",
       "    <tr style=\"text-align: left;\">\n",
       "      <th>epoch</th>\n",
       "      <th>train_loss</th>\n",
       "      <th>valid_loss</th>\n",
       "      <th>rmspe</th>\n",
       "      <th>time</th>\n",
       "    </tr>\n",
       "  </thead>\n",
       "  <tbody>\n",
       "    <tr>\n",
       "      <td>0</td>\n",
       "      <td>0.739110</td>\n",
       "      <td>0.787100</td>\n",
       "      <td>0.823313</td>\n",
       "      <td>00:26</td>\n",
       "    </tr>\n",
       "    <tr>\n",
       "      <td>1</td>\n",
       "      <td>0.488538</td>\n",
       "      <td>0.329388</td>\n",
       "      <td>0.396296</td>\n",
       "      <td>00:26</td>\n",
       "    </tr>\n",
       "  </tbody>\n",
       "</table>"
      ],
      "text/plain": [
       "<IPython.core.display.HTML object>"
      ]
     },
     "metadata": {},
     "output_type": "display_data"
    },
    {
     "data": {
      "text/html": [
       "<table border=\"1\" class=\"dataframe\">\n",
       "  <thead>\n",
       "    <tr style=\"text-align: left;\">\n",
       "      <th>epoch</th>\n",
       "      <th>train_loss</th>\n",
       "      <th>valid_loss</th>\n",
       "      <th>rmspe</th>\n",
       "      <th>time</th>\n",
       "    </tr>\n",
       "  </thead>\n",
       "  <tbody>\n",
       "    <tr>\n",
       "      <td>0</td>\n",
       "      <td>0.401148</td>\n",
       "      <td>0.280747</td>\n",
       "      <td>0.364853</td>\n",
       "      <td>00:26</td>\n",
       "    </tr>\n",
       "    <tr>\n",
       "      <td>1</td>\n",
       "      <td>0.306553</td>\n",
       "      <td>0.255322</td>\n",
       "      <td>0.334789</td>\n",
       "      <td>00:26</td>\n",
       "    </tr>\n",
       "    <tr>\n",
       "      <td>2</td>\n",
       "      <td>0.257769</td>\n",
       "      <td>0.253918</td>\n",
       "      <td>0.351482</td>\n",
       "      <td>00:27</td>\n",
       "    </tr>\n",
       "    <tr>\n",
       "      <td>3</td>\n",
       "      <td>0.251462</td>\n",
       "      <td>0.245451</td>\n",
       "      <td>0.300159</td>\n",
       "      <td>00:26</td>\n",
       "    </tr>\n",
       "    <tr>\n",
       "      <td>4</td>\n",
       "      <td>0.243143</td>\n",
       "      <td>0.249904</td>\n",
       "      <td>0.305745</td>\n",
       "      <td>00:26</td>\n",
       "    </tr>\n",
       "    <tr>\n",
       "      <td>5</td>\n",
       "      <td>0.241085</td>\n",
       "      <td>0.227620</td>\n",
       "      <td>0.300736</td>\n",
       "      <td>00:26</td>\n",
       "    </tr>\n",
       "    <tr>\n",
       "      <td>6</td>\n",
       "      <td>0.237962</td>\n",
       "      <td>0.217113</td>\n",
       "      <td>0.279877</td>\n",
       "      <td>00:26</td>\n",
       "    </tr>\n",
       "    <tr>\n",
       "      <td>7</td>\n",
       "      <td>0.237223</td>\n",
       "      <td>0.220232</td>\n",
       "      <td>0.281783</td>\n",
       "      <td>00:26</td>\n",
       "    </tr>\n",
       "  </tbody>\n",
       "</table>"
      ],
      "text/plain": [
       "<IPython.core.display.HTML object>"
      ]
     },
     "metadata": {},
     "output_type": "display_data"
    }
   ],
   "source": [
    "learn2.fine_tune(8, 1e-2,freeze_epochs=2)"
   ]
  },
  {
   "cell_type": "code",
   "execution_count": null,
   "id": "public-chest",
   "metadata": {},
   "outputs": [
    {
     "data": {
      "text/html": [
       "\n",
       "    <div>\n",
       "        <style>\n",
       "            /* Turns off some styling */\n",
       "            progress {\n",
       "                /* gets rid of default border in Firefox and Opera. */\n",
       "                border: none;\n",
       "                /* Needs to be in here for Safari polyfill so background images work as expected. */\n",
       "                background-size: auto;\n",
       "            }\n",
       "            .progress-bar-interrupted, .progress-bar-interrupted::-webkit-progress-bar {\n",
       "                background: #F44336;\n",
       "            }\n",
       "        </style>\n",
       "      <progress value='11' class='' max='12' style='width:300px; height:20px; vertical-align: middle;'></progress>\n",
       "      91.67% [11/12 04:53<00:26]\n",
       "    </div>\n",
       "    \n",
       "<table border=\"1\" class=\"dataframe\">\n",
       "  <thead>\n",
       "    <tr style=\"text-align: left;\">\n",
       "      <th>epoch</th>\n",
       "      <th>train_loss</th>\n",
       "      <th>valid_loss</th>\n",
       "      <th>rmspe</th>\n",
       "      <th>time</th>\n",
       "    </tr>\n",
       "  </thead>\n",
       "  <tbody>\n",
       "    <tr>\n",
       "      <td>0</td>\n",
       "      <td>0.236700</td>\n",
       "      <td>0.220903</td>\n",
       "      <td>0.281278</td>\n",
       "      <td>00:26</td>\n",
       "    </tr>\n",
       "    <tr>\n",
       "      <td>1</td>\n",
       "      <td>0.236669</td>\n",
       "      <td>0.214672</td>\n",
       "      <td>0.279447</td>\n",
       "      <td>00:26</td>\n",
       "    </tr>\n",
       "    <tr>\n",
       "      <td>2</td>\n",
       "      <td>0.238488</td>\n",
       "      <td>0.235627</td>\n",
       "      <td>0.293842</td>\n",
       "      <td>00:26</td>\n",
       "    </tr>\n",
       "    <tr>\n",
       "      <td>3</td>\n",
       "      <td>0.236848</td>\n",
       "      <td>0.235481</td>\n",
       "      <td>0.294091</td>\n",
       "      <td>00:26</td>\n",
       "    </tr>\n",
       "    <tr>\n",
       "      <td>4</td>\n",
       "      <td>0.236995</td>\n",
       "      <td>0.215373</td>\n",
       "      <td>0.280725</td>\n",
       "      <td>00:26</td>\n",
       "    </tr>\n",
       "    <tr>\n",
       "      <td>5</td>\n",
       "      <td>0.236673</td>\n",
       "      <td>0.222484</td>\n",
       "      <td>0.283096</td>\n",
       "      <td>00:26</td>\n",
       "    </tr>\n",
       "    <tr>\n",
       "      <td>6</td>\n",
       "      <td>0.236974</td>\n",
       "      <td>0.215245</td>\n",
       "      <td>0.281166</td>\n",
       "      <td>00:26</td>\n",
       "    </tr>\n",
       "    <tr>\n",
       "      <td>7</td>\n",
       "      <td>0.236600</td>\n",
       "      <td>0.232658</td>\n",
       "      <td>0.293050</td>\n",
       "      <td>00:26</td>\n",
       "    </tr>\n",
       "    <tr>\n",
       "      <td>8</td>\n",
       "      <td>0.236238</td>\n",
       "      <td>0.234096</td>\n",
       "      <td>0.293447</td>\n",
       "      <td>00:26</td>\n",
       "    </tr>\n",
       "    <tr>\n",
       "      <td>9</td>\n",
       "      <td>0.236176</td>\n",
       "      <td>0.224956</td>\n",
       "      <td>0.285835</td>\n",
       "      <td>00:26</td>\n",
       "    </tr>\n",
       "    <tr>\n",
       "      <td>10</td>\n",
       "      <td>0.236378</td>\n",
       "      <td>0.223596</td>\n",
       "      <td>0.283635</td>\n",
       "      <td>00:26</td>\n",
       "    </tr>\n",
       "  </tbody>\n",
       "</table><p>\n",
       "\n",
       "    <div>\n",
       "        <style>\n",
       "            /* Turns off some styling */\n",
       "            progress {\n",
       "                /* gets rid of default border in Firefox and Opera. */\n",
       "                border: none;\n",
       "                /* Needs to be in here for Safari polyfill so background images work as expected. */\n",
       "                background-size: auto;\n",
       "            }\n",
       "            .progress-bar-interrupted, .progress-bar-interrupted::-webkit-progress-bar {\n",
       "                background: #F44336;\n",
       "            }\n",
       "        </style>\n",
       "      <progress value='280' class='' max='338' style='width:300px; height:20px; vertical-align: middle;'></progress>\n",
       "      82.84% [280/338 00:18<00:03 0.2365]\n",
       "    </div>\n",
       "    "
      ],
      "text/plain": [
       "<IPython.core.display.HTML object>"
      ]
     },
     "metadata": {},
     "output_type": "display_data"
    }
   ],
   "source": [
    "learn2.fit_one_cycle(12, 1e-4)"
   ]
  },
  {
   "cell_type": "code",
   "execution_count": 194,
   "id": "framed-commerce",
   "metadata": {},
   "outputs": [],
   "source": [
    "preds, targs = learn2.get_preds()\n",
    "\n",
    "rmspe(preds.view(-1), targs)"
   ]
  },
  {
   "cell_type": "code",
   "execution_count": 112,
   "id": "entitled-missouri",
   "metadata": {},
   "outputs": [
    {
     "data": {
      "text/html": [],
      "text/plain": [
       "<IPython.core.display.HTML object>"
      ]
     },
     "metadata": {},
     "output_type": "display_data"
    }
   ],
   "source": [
    "preds, targs = learn.get_preds()"
   ]
  },
  {
   "cell_type": "code",
   "execution_count": 113,
   "id": "powerful-toilet",
   "metadata": {},
   "outputs": [],
   "source": [
    "predicted_bins = torch.argmax(preds, dim=1)"
   ]
  },
  {
   "cell_type": "code",
   "execution_count": 114,
   "id": "seven-greene",
   "metadata": {},
   "outputs": [
    {
     "data": {
      "text/html": [],
      "text/plain": [
       "<IPython.core.display.HTML object>"
      ]
     },
     "metadata": {},
     "output_type": "display_data"
    }
   ],
   "source": [
    "CI = ClassificationInterpretation.from_learner(learn)"
   ]
  },
  {
   "cell_type": "code",
   "execution_count": 115,
   "id": "continuing-hampton",
   "metadata": {},
   "outputs": [
    {
     "data": {
      "image/png": "[encoded data removed]",
      "text/plain": [
       "<Figure size 432x288 with 1 Axes>"
      ]
     },
     "metadata": {
      "needs_background": "light"
     },
     "output_type": "display_data"
    }
   ],
   "source": [
    "CI.plot_confusion_matrix()"
   ]
  },
  {
   "cell_type": "code",
   "execution_count": 116,
   "id": "norman-eligibility",
   "metadata": {},
   "outputs": [],
   "source": [
    "pred_vals =torch.tensor(bin_med)[predicted_bins]"
   ]
  },
  {
   "cell_type": "code",
   "execution_count": 117,
   "id": "false-charity",
   "metadata": {},
   "outputs": [],
   "source": [
    "target_vals = dls.valid.items.target.to_numpy()\n",
    "target_vals = torch.tensor(target_vals)"
   ]
  },
  {
   "cell_type": "code",
   "execution_count": 118,
   "id": "altered-framing",
   "metadata": {},
   "outputs": [
    {
     "data": {
      "text/plain": [
       "(tensor([0.0033, 0.0016, 0.0016, 0.0024, 0.0047, 0.0039, 0.0024, 0.0095, 0.0033,\n",
       "         0.0047], dtype=torch.float64),\n",
       " tensor([0.0037, 0.0018, 0.0021, 0.0021, 0.0040, 0.0032, 0.0030, 0.0135, 0.0037,\n",
       "         0.0054], dtype=torch.float64))"
      ]
     },
     "execution_count": 118,
     "metadata": {},
     "output_type": "execute_result"
    }
   ],
   "source": [
    "pred_vals[:10], target_vals[:10]"
   ]
  },
  {
   "cell_type": "code",
   "execution_count": 119,
   "id": "accurate-diving",
   "metadata": {},
   "outputs": [
    {
     "data": {
      "text/plain": [
       "tensor(0.2988, dtype=torch.float64)"
      ]
     },
     "execution_count": 119,
     "metadata": {},
     "output_type": "execute_result"
    }
   ],
   "source": [
    "rmspe(pred_vals, target_vals)"
   ]
  },
  {
   "cell_type": "code",
   "execution_count": null,
   "id": "protecting-council",
   "metadata": {},
   "outputs": [],
   "source": []
  }
 ],
 "metadata": {
  "kernelspec": {
   "display_name": "Python 3.8.5 64-bit ('fastai': conda)",
   "language": "python",
   "name": "python38564bitfastaicondad52d12c5a30a4725bf9d3e235cf1271c"
  },
  "language_info": {
   "codemirror_mode": {
    "name": "ipython",
    "version": 3
   },
   "file_extension": ".py",
   "mimetype": "text/x-python",
   "name": "python",
   "nbconvert_exporter": "python",
   "pygments_lexer": "ipython3",
   "version": "3.8.5"
  }
 },
 "nbformat": 4,
 "nbformat_minor": 5
}
