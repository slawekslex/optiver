{
 "cells": [
  {
   "cell_type": "code",
   "execution_count": 2,
   "id": "welcome-figure",
   "metadata": {},
   "outputs": [],
   "source": [
    "from fastai.vision.all import *"
   ]
  },
  {
   "cell_type": "code",
   "execution_count": 3,
   "id": "neither-penetration",
   "metadata": {},
   "outputs": [],
   "source": [
    "PATH = Path('../input/optiver-realized-volatility-prediction')\n",
    "\n",
    "# data_df = pd.read_parquet(PATH/'book_train_reindexed.parquet')\n",
    "\n",
    "# sizes = ['bid_size1', 'bid_size2', 'ask_size1', 'ask_size2']\n",
    "# for sz in sizes:\n",
    "#     data_df[sz] = data_df[sz]/ 1_000_000\n",
    "\n"
   ]
  },
  {
   "cell_type": "code",
   "execution_count": 27,
   "id": "biological-engineer",
   "metadata": {},
   "outputs": [],
   "source": [
    "#train_df = pd.read_csv(PATH/'train_with_offset.csv')\n",
    "# data_df['wap'] = (data_df.bid_price1 * data_df.ask_size1 + data_df.ask_price1 * data_df.bid_size1) / (data_df.ask_size1 + data_df.bid_size1)\n",
    "\n",
    "# mean_wap =[]\n",
    "# for row in train_df.itertuples():\n",
    "#     df = data_df.iloc[row.offset:row.offset+600]\n",
    "#     mean_wap.append(df.wap.mean())"
   ]
  },
  {
   "cell_type": "code",
   "execution_count": 28,
   "id": "palestinian-evans",
   "metadata": {},
   "outputs": [],
   "source": [
    "# train_df['mean_wap']=mean_wap\n",
    "# train_df.to_csv(PATH/'train_with_wap.csv')"
   ]
  },
  {
   "cell_type": "code",
   "execution_count": 29,
   "id": "hollywood-above",
   "metadata": {},
   "outputs": [],
   "source": [
    "# np_data = data_df[['bid_price1', 'ask_price1', 'bid_size1', 'ask_size1','bid_price2', 'ask_price2', 'bid_size2', 'ask_size2']].to_numpy()\n",
    "\n",
    "# del data_df\n",
    "\n",
    "# np_data = np_data.astype('float32')\n",
    "# torch_data = torch.tensor(np_data)\n",
    "\n",
    "# del np_data\n",
    "\n",
    "# torch.save(torch_data, PATH/'torch_data.pth')"
   ]
  },
  {
   "cell_type": "code",
   "execution_count": 4,
   "id": "corresponding-crossing",
   "metadata": {},
   "outputs": [
    {
     "name": "stdout",
     "output_type": "stream",
     "text": [
      "CPU times: user 0 ns, sys: 11.2 s, total: 11.2 s\n",
      "Wall time: 2min 2s\n"
     ]
    }
   ],
   "source": [
    "%%time\n",
    "torch_data = torch.load(PATH/'torch_data.pth')"
   ]
  },
  {
   "cell_type": "code",
   "execution_count": 31,
   "id": "incident-kenya",
   "metadata": {},
   "outputs": [],
   "source": [
    "#torch_data[:,[2,3,6,7]] = 1000000 * torch_data[:,[2,3,6,7]] "
   ]
  },
  {
   "cell_type": "code",
   "execution_count": 5,
   "id": "available-workstation",
   "metadata": {},
   "outputs": [
    {
     "name": "stdout",
     "output_type": "stream",
     "text": [
      "tensor([9.9968e-01, 1.0003e+00, 7.6999e-04, 7.6673e-04, 9.9948e-01, 1.0005e+00,\n",
      "        9.5934e-04, 9.2822e-04]) tensor([0.0037, 0.0037, 0.0054, 0.0050, 0.0037, 0.0037, 0.0067, 0.0057])\n"
     ]
    }
   ],
   "source": [
    "means, stds = torch_data.mean(dim=0), torch_data.std(dim=0)\n",
    "print(means, stds)\n",
    "torch_data = (torch_data - means) / stds"
   ]
  },
  {
   "cell_type": "code",
   "execution_count": 6,
   "id": "exterior-ecology",
   "metadata": {},
   "outputs": [],
   "source": [
    "train_df = pd.read_csv(PATH/'train_with_wap.csv')"
   ]
  },
  {
   "cell_type": "code",
   "execution_count": 7,
   "id": "cordless-final",
   "metadata": {},
   "outputs": [
    {
     "name": "stdout",
     "output_type": "stream",
     "text": [
      "0.9172531180048944 0.9971951138775056 0.9956492523836432\n",
      "0.9971951327900604 0.9984703256953886 0.9979708959569917\n",
      "0.9984703751656142 0.9991431543863876 0.9988451162091514\n",
      "0.9991431683337992 0.999616836138266 0.9993924853218963\n",
      "0.9996168497680276 1.0000141933324718 0.9998199779860442\n",
      "1.0000141975255898 1.0004091980748968 1.00020793857736\n",
      "1.0004091986325243 1.000876884050013 1.0006291062379966\n",
      "1.0008769297217603 1.0015230362748495 1.0011664016312456\n",
      "1.0015230933064834 1.002768629281105 1.0020189286622183\n",
      "1.0027686365447124 1.077264872305151 1.004330146304397\n"
     ]
    }
   ],
   "source": [
    "w = train_df.mean_wap.to_numpy()\n",
    "\n",
    "w =np.sort(w)\n",
    "\n",
    "bins = []\n",
    "\n",
    "step = (len(w)+9)//10\n",
    "for i in range(0, len(w), step):\n",
    "    j = min(i+step, len(w))\n",
    "    bins.append(w[j] if j< len(w) else 2)\n",
    "    print(w[i], w[j-1],np.median(w[i:j]) )\n",
    "\n",
    "wap_bin = np.digitize(train_df.mean_wap, bins)\n",
    "\n",
    "train_df['wap_bin']=wap_bin"
   ]
  },
  {
   "cell_type": "code",
   "execution_count": 8,
   "id": "structural-simulation",
   "metadata": {},
   "outputs": [
    {
     "name": "stdout",
     "output_type": "stream",
     "text": [
      "0.000105263 0.001436988 0.001175852\n",
      "0.001436991 0.001838282 0.0016455530000000001\n",
      "0.001838308 0.002210492 0.0020263215\n",
      "0.002210493 0.002604845 0.00240206\n",
      "0.002604847 0.003048064 0.002817908\n",
      "0.003048071 0.003585089 0.0033027735\n",
      "0.003585105 0.00428704 0.003905317\n",
      "0.004287042 0.005311553 0.0047378975\n",
      "0.005311559 0.007240946 0.0060829544999999995\n",
      "0.007240976 0.07032062 0.009453786499999998\n"
     ]
    }
   ],
   "source": [
    "w = train_df.target.to_numpy()\n",
    "\n",
    "w =np.sort(w)\n",
    "\n",
    "bins = []\n",
    "bin_med=[]\n",
    "step = (len(w)+9)//10\n",
    "for i in range(0, len(w), step):\n",
    "    j = min(i+step, len(w))\n",
    "    bins.append(w[j] if j< len(w) else 1)\n",
    "    bin_med.append(np.median(w[i:j]))\n",
    "    print(w[i], w[j-1],np.median(w[i:j]) )\n",
    "\n",
    "target_bin = np.digitize(train_df.target, bins)\n",
    "\n",
    "train_df['target_bin']=target_bin"
   ]
  },
  {
   "cell_type": "code",
   "execution_count": 115,
   "id": "apart-confusion",
   "metadata": {},
   "outputs": [],
   "source": [
    "class ResBlock(nn.Module):\n",
    "    def __init__(self, ch):\n",
    "        super().__init__()\n",
    "        self.layers = nn.Sequential(\n",
    "            nn.Conv2d(ch, ch, kernel_size = (5,1), padding = (2,0), padding_mode='replicate'),\n",
    "            nn.BatchNorm2d(ch),\n",
    "            nn.ReLU(),\n",
    "            #nn.Dropout(p=.25),\n",
    "            nn.Conv2d(ch, ch, kernel_size = (5,1), padding = (2,0), padding_mode='replicate'),\n",
    "            nn.BatchNorm2d(ch),\n",
    "#             nn.ReLU(),\n",
    "#             nn.Dropout(p=.25)\n",
    "        )\n",
    "        \n",
    "    def forward(self, x):\n",
    "        res = self.layers(x) + x\n",
    "        res = F.relu(res)\n",
    "        #res = F.dropout(res, p=.25)\n",
    "        return res"
   ]
  },
  {
   "cell_type": "code",
   "execution_count": 124,
   "id": "lesser-butler",
   "metadata": {},
   "outputs": [],
   "source": [
    "class ResnetModel(nn.Module):\n",
    "    def __init__(self, num_outputs, chan = 16):\n",
    "        super().__init__()\n",
    "        layers = [\n",
    "            nn.Conv2d(1,chan, kernel_size=(5,8), padding=(2,0)),\n",
    "            nn.BatchNorm2d(chan),\n",
    "            nn.ReLU()\n",
    "        ]\n",
    "        for _ in range(7):\n",
    "            layers += [ResBlock(chan), ResBlock(chan),ResBlock(chan)\n",
    "                       , nn.AvgPool2d((2,1), padding=(1,0))]\n",
    "            \n",
    "        layers += [Flatten(), nn.Dropout(),nn.Linear(6*chan, num_outputs)]\n",
    "        \n",
    "        self.layers = nn.Sequential(*layers)\n",
    "    def forward(self, x):\n",
    "        return self.layers(x)"
   ]
  },
  {
   "cell_type": "code",
   "execution_count": 103,
   "id": "vocal-exhibition",
   "metadata": {},
   "outputs": [],
   "source": [
    "class ResnetRegression(nn.Module):\n",
    "    def __init__(self, stem, num_inputs):\n",
    "        super().__init__()\n",
    "        self.stem = stem\n",
    "        self.classifier = nn.Sequential(\n",
    "            nn.Linear(num_inputs, 1),\n",
    "            SigmoidRange(0,.1)\n",
    "        )\n",
    "        \n",
    "    def forward(self, x):\n",
    "        return self.classifier(self.stem(x)).view(-1)"
   ]
  },
  {
   "cell_type": "code",
   "execution_count": null,
   "id": "french-toolbox",
   "metadata": {},
   "outputs": [],
   "source": []
  },
  {
   "cell_type": "code",
   "execution_count": 95,
   "id": "composed-court",
   "metadata": {},
   "outputs": [],
   "source": [
    "class LoadTransform(Transform):\n",
    "    def __init__(self, torch_data):\n",
    "        super().__init__()\n",
    "        self.data = torch_data\n",
    "        \n",
    "    def encodes(self, row):\n",
    "        #df = self.data.iloc[row.offset:row.offset+600]\n",
    "        #ret = df[['bid_price1', 'ask_price1', 'bid_size1', 'ask_size1','bid_price2', 'ask_price2', 'bid_size2', 'ask_size2']].to_numpy()\n",
    "        #ret = ret.reshape(1,600,8).astype('float32')\n",
    "        ret = self.data[row.offset:row.offset+600]\n",
    "        return ret.view(1,600,8)\n",
    "\n",
    "tfm = LoadTransform(torch_data)\n",
    "\n",
    "data_block = DataBlock(\n",
    "        blocks = (TransformBlock(type_tfms=tfm), \n",
    "                  #RegressionBlock()),\n",
    "                  CategoryBlock(vocab=list(range(10)))),\n",
    "        splitter=ColSplitter(),\n",
    "        #get_y=ColReader('target'),\n",
    "        #get_y=ColReader('wap_bin'),\n",
    "        get_y=ColReader('target_bin'),\n",
    ")\n",
    "dls = data_block.dataloaders(train_df, bs=1024)"
   ]
  },
  {
   "cell_type": "code",
   "execution_count": 96,
   "id": "judicial-petroleum",
   "metadata": {},
   "outputs": [],
   "source": [
    "dls_reg = DataBlock(\n",
    "        blocks = (TransformBlock(type_tfms=tfm), \n",
    "                  RegressionBlock()),\n",
    "        splitter=ColSplitter(),\n",
    "        get_y=ColReader('target'),\n",
    ").dataloaders(train_df, bs = 1024)\n"
   ]
  },
  {
   "cell_type": "code",
   "execution_count": 125,
   "id": "imposed-congo",
   "metadata": {},
   "outputs": [],
   "source": [
    "bx,by = dls.one_batch()"
   ]
  },
  {
   "cell_type": "code",
   "execution_count": 126,
   "id": "hired-surge",
   "metadata": {},
   "outputs": [
    {
     "data": {
      "text/plain": [
       "torch.Size([1024, 10])"
      ]
     },
     "execution_count": 126,
     "metadata": {},
     "output_type": "execute_result"
    }
   ],
   "source": [
    "ResnetModel(10).cuda()(bx).shape"
   ]
  },
  {
   "cell_type": "code",
   "execution_count": 65,
   "id": "silent-blast",
   "metadata": {},
   "outputs": [],
   "source": [
    "def rmspe(preds, targs):\n",
    "    x = (targs-preds)/targs\n",
    "    return (x**2).mean().sqrt()"
   ]
  },
  {
   "cell_type": "code",
   "execution_count": 66,
   "id": "silent-remove",
   "metadata": {},
   "outputs": [],
   "source": [
    "def mspe_loss(preds, targs):\n",
    "    x = (targs-preds)/targs\n",
    "    return (x**2).mean()"
   ]
  },
  {
   "cell_type": "code",
   "execution_count": 67,
   "id": "moral-summary",
   "metadata": {},
   "outputs": [],
   "source": [
    "def my_mse_loss(preds, targs):\n",
    "    x = (targs-preds)\n",
    "    #res = ((x**2)/(targs**2))\n",
    "    res = (x/targs) ** 2\n",
    "    return res.sqrt().mean()"
   ]
  },
  {
   "cell_type": "code",
   "execution_count": 68,
   "id": "further-project",
   "metadata": {},
   "outputs": [],
   "source": [
    "def rmspe_loss(preds, targs):\n",
    "    x = (targs-preds)/targs\n",
    "    return (x**2).mean().sqrt()"
   ]
  },
  {
   "cell_type": "code",
   "execution_count": 127,
   "id": "emotional-nature",
   "metadata": {},
   "outputs": [],
   "source": [
    "#learn = Learner(dls, ConvModel(),loss_func=mspe_loss, metrics=AccumMetric(rmspe))\n",
    "learn = Learner(dls, ResnetModel(10), metrics = [accuracy], cbs=MixUp)"
   ]
  },
  {
   "cell_type": "code",
   "execution_count": 216,
   "id": "incorporated-figure",
   "metadata": {},
   "outputs": [
    {
     "data": {
      "text/html": [],
      "text/plain": [
       "<IPython.core.display.HTML object>"
      ]
     },
     "metadata": {},
     "output_type": "display_data"
    },
    {
     "data": {
      "text/plain": [
       "SuggestedLRs(lr_min=0.2290867567062378, lr_steep=6.309573450380412e-07)"
      ]
     },
     "execution_count": 216,
     "metadata": {},
     "output_type": "execute_result"
    },
    {
     "data": {
      "image/png": "[encoded data removed]",
      "text/plain": [
       "<Figure size 432x288 with 1 Axes>"
      ]
     },
     "metadata": {
      "needs_background": "light"
     },
     "output_type": "display_data"
    }
   ],
   "source": [
    "learn.lr_find()"
   ]
  },
  {
   "cell_type": "code",
   "execution_count": 128,
   "id": "monetary-latter",
   "metadata": {},
   "outputs": [
    {
     "data": {
      "text/html": [
       "<table border=\"1\" class=\"dataframe\">\n",
       "  <thead>\n",
       "    <tr style=\"text-align: left;\">\n",
       "      <th>epoch</th>\n",
       "      <th>train_loss</th>\n",
       "      <th>valid_loss</th>\n",
       "      <th>accuracy</th>\n",
       "      <th>time</th>\n",
       "    </tr>\n",
       "  </thead>\n",
       "  <tbody>\n",
       "    <tr>\n",
       "      <td>0</td>\n",
       "      <td>1.857718</td>\n",
       "      <td>1.574037</td>\n",
       "      <td>0.382325</td>\n",
       "      <td>00:33</td>\n",
       "    </tr>\n",
       "    <tr>\n",
       "      <td>1</td>\n",
       "      <td>1.823370</td>\n",
       "      <td>1.681125</td>\n",
       "      <td>0.337082</td>\n",
       "      <td>00:33</td>\n",
       "    </tr>\n",
       "    <tr>\n",
       "      <td>2</td>\n",
       "      <td>1.816924</td>\n",
       "      <td>1.706862</td>\n",
       "      <td>0.309856</td>\n",
       "      <td>00:34</td>\n",
       "    </tr>\n",
       "    <tr>\n",
       "      <td>3</td>\n",
       "      <td>1.799019</td>\n",
       "      <td>1.625510</td>\n",
       "      <td>0.347207</td>\n",
       "      <td>00:33</td>\n",
       "    </tr>\n",
       "    <tr>\n",
       "      <td>4</td>\n",
       "      <td>1.780002</td>\n",
       "      <td>1.635471</td>\n",
       "      <td>0.370041</td>\n",
       "      <td>00:33</td>\n",
       "    </tr>\n",
       "    <tr>\n",
       "      <td>5</td>\n",
       "      <td>1.774129</td>\n",
       "      <td>1.795522</td>\n",
       "      <td>0.269919</td>\n",
       "      <td>00:33</td>\n",
       "    </tr>\n",
       "    <tr>\n",
       "      <td>6</td>\n",
       "      <td>1.764802</td>\n",
       "      <td>1.538599</td>\n",
       "      <td>0.371566</td>\n",
       "      <td>00:34</td>\n",
       "    </tr>\n",
       "    <tr>\n",
       "      <td>7</td>\n",
       "      <td>1.756899</td>\n",
       "      <td>1.663107</td>\n",
       "      <td>0.331971</td>\n",
       "      <td>00:33</td>\n",
       "    </tr>\n",
       "    <tr>\n",
       "      <td>8</td>\n",
       "      <td>1.747747</td>\n",
       "      <td>1.551610</td>\n",
       "      <td>0.395060</td>\n",
       "      <td>00:34</td>\n",
       "    </tr>\n",
       "    <tr>\n",
       "      <td>9</td>\n",
       "      <td>1.739023</td>\n",
       "      <td>1.464783</td>\n",
       "      <td>0.411552</td>\n",
       "      <td>00:34</td>\n",
       "    </tr>\n",
       "    <tr>\n",
       "      <td>10</td>\n",
       "      <td>1.726149</td>\n",
       "      <td>1.531823</td>\n",
       "      <td>0.385460</td>\n",
       "      <td>00:34</td>\n",
       "    </tr>\n",
       "    <tr>\n",
       "      <td>11</td>\n",
       "      <td>1.727583</td>\n",
       "      <td>1.515089</td>\n",
       "      <td>0.391205</td>\n",
       "      <td>00:34</td>\n",
       "    </tr>\n",
       "  </tbody>\n",
       "</table>"
      ],
      "text/plain": [
       "<IPython.core.display.HTML object>"
      ]
     },
     "metadata": {},
     "output_type": "display_data"
    }
   ],
   "source": [
    "learn.fit_one_cycle(12,1e-2, wd=.2)"
   ]
  },
  {
   "cell_type": "code",
   "execution_count": 129,
   "id": "attached-compilation",
   "metadata": {},
   "outputs": [
    {
     "data": {
      "text/plain": [
       "Path('models/res_model2.pth.pth')"
      ]
     },
     "execution_count": 129,
     "metadata": {},
     "output_type": "execute_result"
    }
   ],
   "source": [
    "learn.save('res_model2.pth')"
   ]
  },
  {
   "cell_type": "code",
   "execution_count": 132,
   "id": "standing-incidence",
   "metadata": {},
   "outputs": [],
   "source": [
    "learn.load('res_model2.pth')\n",
    "\n",
    "stem = nn.Sequential(*list(learn.model.layers.children())[:-1])\n",
    "#stem = nn.Sequential(*list(ResnetModel(10).layers.children())[:-1])\n",
    "reg_m = ResnetRegression(stem, 6*16)\n",
    "learn2 = Learner(dls_reg, reg_m, loss_func=my_mse_loss, metrics=AccumMetric(rmspe), wd=.1)"
   ]
  },
  {
   "cell_type": "code",
   "execution_count": 133,
   "id": "varied-edinburgh",
   "metadata": {},
   "outputs": [
    {
     "data": {
      "text/plain": [
       "(tensor(0.0023, device='cuda:0', grad_fn=<MseLossBackward>),\n",
       " tensor(17.7015, device='cuda:0', grad_fn=<MeanBackward0>))"
      ]
     },
     "execution_count": 133,
     "metadata": {},
     "output_type": "execute_result"
    }
   ],
   "source": [
    "bx,by=dls_reg.one_batch()\n",
    "out = reg_m.cuda()(bx)\n",
    "F.mse_loss(out, by), my_mse_loss(out, by)"
   ]
  },
  {
   "cell_type": "code",
   "execution_count": null,
   "id": "consecutive-split",
   "metadata": {},
   "outputs": [
    {
     "data": {
      "text/html": [
       "<table border=\"1\" class=\"dataframe\">\n",
       "  <thead>\n",
       "    <tr style=\"text-align: left;\">\n",
       "      <th>epoch</th>\n",
       "      <th>train_loss</th>\n",
       "      <th>valid_loss</th>\n",
       "      <th>rmspe</th>\n",
       "      <th>time</th>\n",
       "    </tr>\n",
       "  </thead>\n",
       "  <tbody>\n",
       "    <tr>\n",
       "      <td>0</td>\n",
       "      <td>0.499282</td>\n",
       "      <td>0.301358</td>\n",
       "      <td>0.342196</td>\n",
       "      <td>00:32</td>\n",
       "    </tr>\n",
       "    <tr>\n",
       "      <td>1</td>\n",
       "      <td>0.389735</td>\n",
       "      <td>0.523112</td>\n",
       "      <td>0.555908</td>\n",
       "      <td>00:32</td>\n",
       "    </tr>\n",
       "    <tr>\n",
       "      <td>2</td>\n",
       "      <td>0.299998</td>\n",
       "      <td>0.215434</td>\n",
       "      <td>0.290670</td>\n",
       "      <td>00:33</td>\n",
       "    </tr>\n",
       "  </tbody>\n",
       "</table>"
      ],
      "text/plain": [
       "<IPython.core.display.HTML object>"
      ]
     },
     "metadata": {},
     "output_type": "display_data"
    },
    {
     "data": {
      "text/html": [
       "\n",
       "    <div>\n",
       "        <style>\n",
       "            /* Turns off some styling */\n",
       "            progress {\n",
       "                /* gets rid of default border in Firefox and Opera. */\n",
       "                border: none;\n",
       "                /* Needs to be in here for Safari polyfill so background images work as expected. */\n",
       "                background-size: auto;\n",
       "            }\n",
       "            .progress-bar-interrupted, .progress-bar-interrupted::-webkit-progress-bar {\n",
       "                background: #F44336;\n",
       "            }\n",
       "        </style>\n",
       "      <progress value='5' class='' max='8' style='width:300px; height:20px; vertical-align: middle;'></progress>\n",
       "      62.50% [5/8 02:43<01:38]\n",
       "    </div>\n",
       "    \n",
       "<table border=\"1\" class=\"dataframe\">\n",
       "  <thead>\n",
       "    <tr style=\"text-align: left;\">\n",
       "      <th>epoch</th>\n",
       "      <th>train_loss</th>\n",
       "      <th>valid_loss</th>\n",
       "      <th>rmspe</th>\n",
       "      <th>time</th>\n",
       "    </tr>\n",
       "  </thead>\n",
       "  <tbody>\n",
       "    <tr>\n",
       "      <td>0</td>\n",
       "      <td>0.260270</td>\n",
       "      <td>0.289486</td>\n",
       "      <td>0.329177</td>\n",
       "      <td>00:32</td>\n",
       "    </tr>\n",
       "    <tr>\n",
       "      <td>1</td>\n",
       "      <td>0.237639</td>\n",
       "      <td>0.361064</td>\n",
       "      <td>0.404368</td>\n",
       "      <td>00:32</td>\n",
       "    </tr>\n",
       "    <tr>\n",
       "      <td>2</td>\n",
       "      <td>0.225010</td>\n",
       "      <td>0.213695</td>\n",
       "      <td>0.267148</td>\n",
       "      <td>00:32</td>\n",
       "    </tr>\n",
       "    <tr>\n",
       "      <td>3</td>\n",
       "      <td>0.215401</td>\n",
       "      <td>0.225640</td>\n",
       "      <td>0.285212</td>\n",
       "      <td>00:32</td>\n",
       "    </tr>\n",
       "    <tr>\n",
       "      <td>4</td>\n",
       "      <td>0.208668</td>\n",
       "      <td>0.207343</td>\n",
       "      <td>0.259162</td>\n",
       "      <td>00:32</td>\n",
       "    </tr>\n",
       "  </tbody>\n",
       "</table><p>\n",
       "\n",
       "    <div>\n",
       "        <style>\n",
       "            /* Turns off some styling */\n",
       "            progress {\n",
       "                /* gets rid of default border in Firefox and Opera. */\n",
       "                border: none;\n",
       "                /* Needs to be in here for Safari polyfill so background images work as expected. */\n",
       "                background-size: auto;\n",
       "            }\n",
       "            .progress-bar-interrupted, .progress-bar-interrupted::-webkit-progress-bar {\n",
       "                background: #F44336;\n",
       "            }\n",
       "        </style>\n",
       "      <progress value='212' class='' max='338' style='width:300px; height:20px; vertical-align: middle;'></progress>\n",
       "      62.72% [212/338 00:17<00:10 0.2058]\n",
       "    </div>\n",
       "    "
      ],
      "text/plain": [
       "<IPython.core.display.HTML object>"
      ]
     },
     "metadata": {},
     "output_type": "display_data"
    }
   ],
   "source": [
    "learn2.fine_tune(8, 1e-2,freeze_epochs=3)"
   ]
  },
  {
   "cell_type": "code",
   "execution_count": 59,
   "id": "legendary-buyer",
   "metadata": {},
   "outputs": [],
   "source": [
    "torch.save(learn2.model, 'res249.pth')"
   ]
  },
  {
   "cell_type": "code",
   "execution_count": 58,
   "id": "fleet-conditions",
   "metadata": {},
   "outputs": [
    {
     "data": {
      "text/html": [],
      "text/plain": [
       "<IPython.core.display.HTML object>"
      ]
     },
     "metadata": {},
     "output_type": "display_data"
    },
    {
     "data": {
      "text/plain": [
       "tensor(0.2498)"
      ]
     },
     "execution_count": 58,
     "metadata": {},
     "output_type": "execute_result"
    }
   ],
   "source": [
    "preds, targs = learn2.get_preds()\n",
    "\n",
    "rmspe(preds.view(-1), targs)"
   ]
  },
  {
   "cell_type": "code",
   "execution_count": 36,
   "id": "gothic-association",
   "metadata": {},
   "outputs": [
    {
     "data": {
      "text/html": [],
      "text/plain": [
       "<IPython.core.display.HTML object>"
      ]
     },
     "metadata": {},
     "output_type": "display_data"
    }
   ],
   "source": [
    "preds, targs = learn.get_preds()"
   ]
  },
  {
   "cell_type": "code",
   "execution_count": 37,
   "id": "judicial-volunteer",
   "metadata": {},
   "outputs": [],
   "source": [
    "predicted_bins = torch.argmax(preds, dim=1)"
   ]
  },
  {
   "cell_type": "code",
   "execution_count": 38,
   "id": "configured-cotton",
   "metadata": {},
   "outputs": [
    {
     "data": {
      "text/html": [],
      "text/plain": [
       "<IPython.core.display.HTML object>"
      ]
     },
     "metadata": {},
     "output_type": "display_data"
    }
   ],
   "source": [
    "CI = ClassificationInterpretation.from_learner(learn)"
   ]
  },
  {
   "cell_type": "code",
   "execution_count": 39,
   "id": "promotional-tennis",
   "metadata": {},
   "outputs": [
    {
     "data": {
      "image/png": "[encoded data removed]",
      "text/plain": [
       "<Figure size 432x288 with 1 Axes>"
      ]
     },
     "metadata": {
      "needs_background": "light"
     },
     "output_type": "display_data"
    }
   ],
   "source": [
    "CI.plot_confusion_matrix()"
   ]
  },
  {
   "cell_type": "code",
   "execution_count": 40,
   "id": "confident-sellers",
   "metadata": {},
   "outputs": [],
   "source": [
    "pred_vals =torch.tensor(bin_med)[predicted_bins]"
   ]
  },
  {
   "cell_type": "code",
   "execution_count": 41,
   "id": "respective-albany",
   "metadata": {},
   "outputs": [],
   "source": [
    "target_vals = dls.valid.items.target.to_numpy()\n",
    "target_vals = torch.tensor(target_vals)"
   ]
  },
  {
   "cell_type": "code",
   "execution_count": 42,
   "id": "prompt-tolerance",
   "metadata": {},
   "outputs": [
    {
     "data": {
      "text/plain": [
       "(tensor([0.0039, 0.0020, 0.0016, 0.0024, 0.0039, 0.0028, 0.0020, 0.0095, 0.0039,\n",
       "         0.0047], dtype=torch.float64),\n",
       " tensor([0.0037, 0.0018, 0.0021, 0.0021, 0.0040, 0.0032, 0.0030, 0.0135, 0.0037,\n",
       "         0.0054], dtype=torch.float64))"
      ]
     },
     "execution_count": 42,
     "metadata": {},
     "output_type": "execute_result"
    }
   ],
   "source": [
    "pred_vals[:10], target_vals[:10]"
   ]
  },
  {
   "cell_type": "code",
   "execution_count": 43,
   "id": "historical-difficulty",
   "metadata": {},
   "outputs": [
    {
     "data": {
      "text/plain": [
       "tensor(0.2995, dtype=torch.float64)"
      ]
     },
     "execution_count": 43,
     "metadata": {},
     "output_type": "execute_result"
    }
   ],
   "source": [
    "rmspe(pred_vals, target_vals)"
   ]
  },
  {
   "cell_type": "code",
   "execution_count": null,
   "id": "spiritual-zambia",
   "metadata": {},
   "outputs": [],
   "source": []
  },
  {
   "cell_type": "code",
   "execution_count": null,
   "id": "sapphire-granny",
   "metadata": {},
   "outputs": [],
   "source": []
  }
 ],
 "metadata": {
  "kernelspec": {
   "display_name": "Python 3.8.5 64-bit ('fastai': conda)",
   "language": "python",
   "name": "python38564bitfastaicondad52d12c5a30a4725bf9d3e235cf1271c"
  },
  "language_info": {
   "codemirror_mode": {
    "name": "ipython",
    "version": 3
   },
   "file_extension": ".py",
   "mimetype": "text/x-python",
   "name": "python",
   "nbconvert_exporter": "python",
   "pygments_lexer": "ipython3",
   "version": "3.8.5"
  }
 },
 "nbformat": 4,
 "nbformat_minor": 5
}
