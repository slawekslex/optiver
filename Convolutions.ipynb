{
 "cells": [
  {
   "cell_type": "code",
   "execution_count": null,
   "id": "2131de5c",
   "metadata": {},
   "outputs": [],
   "source": []
  },
  {
   "cell_type": "code",
   "execution_count": 2,
   "id": "6d149335",
   "metadata": {},
   "outputs": [],
   "source": [
    "from fastai.vision.all import *"
   ]
  },
  {
   "cell_type": "code",
   "execution_count": 3,
   "id": "844bf7e5",
   "metadata": {},
   "outputs": [],
   "source": [
    "PATH = Path('../input/optiver-realized-volatility-prediction')\n",
    "\n",
    "# data_df = pd.read_parquet(PATH/'book_train_reindexed.parquet')\n",
    "\n",
    "# sizes = ['bid_size1', 'bid_size2', 'ask_size1', 'ask_size2']\n",
    "# for sz in sizes:\n",
    "#     data_df[sz] = data_df[sz]/ 1_000_000\n",
    "\n"
   ]
  },
  {
   "cell_type": "code",
   "execution_count": 4,
   "id": "4bd99f55",
   "metadata": {},
   "outputs": [],
   "source": [
    "#train_df = pd.read_csv(PATH/'train_with_offset.csv')\n",
    "# data_df['wap'] = (data_df.bid_price1 * data_df.ask_size1 + data_df.ask_price1 * data_df.bid_size1) / (data_df.ask_size1 + data_df.bid_size1)\n",
    "\n",
    "# mean_wap =[]\n",
    "# for row in train_df.itertuples():\n",
    "#     df = data_df.iloc[row.offset:row.offset+600]\n",
    "#     mean_wap.append(df.wap.mean())"
   ]
  },
  {
   "cell_type": "code",
   "execution_count": 5,
   "id": "cda63578",
   "metadata": {},
   "outputs": [],
   "source": [
    "# train_df['mean_wap']=mean_wap\n",
    "# train_df.to_csv(PATH/'train_with_wap.csv')"
   ]
  },
  {
   "cell_type": "code",
   "execution_count": 6,
   "id": "bb75be50",
   "metadata": {},
   "outputs": [],
   "source": [
    "# np_data = data_df[['bid_price1', 'ask_price1', 'bid_size1', 'ask_size1','bid_price2', 'ask_price2', 'bid_size2', 'ask_size2']].to_numpy()\n",
    "\n",
    "# del data_df\n",
    "\n",
    "# np_data = np_data.astype('float32')\n",
    "# torch_data = torch.tensor(np_data)\n",
    "\n",
    "# del np_data\n",
    "\n",
    "# torch.save(torch_data, PATH/'torch_data.pth')"
   ]
  },
  {
   "cell_type": "code",
   "execution_count": null,
   "id": "88e5cb25",
   "metadata": {},
   "outputs": [],
   "source": [
    "%%time\n",
    "torch_data = torch.load(PATH/'torch_data.pth')"
   ]
  },
  {
   "cell_type": "code",
   "execution_count": 8,
   "id": "6882588b",
   "metadata": {},
   "outputs": [],
   "source": [
    "#torch_data[:,[2,3,6,7]] = 1000000 * torch_data[:,[2,3,6,7]] "
   ]
  },
  {
   "cell_type": "code",
   "execution_count": 1,
   "id": "7a6dd2d8",
   "metadata": {},
   "outputs": [
    {
     "ename": "NameError",
     "evalue": "name 'torch_data' is not defined",
     "output_type": "error",
     "traceback": [
      "\u001b[0;31m---------------------------------------------------------------------------\u001b[0m",
      "\u001b[0;31mNameError\u001b[0m                                 Traceback (most recent call last)",
      "\u001b[0;32m/tmp/ipykernel_192089/3648745920.py\u001b[0m in \u001b[0;36m<module>\u001b[0;34m\u001b[0m\n\u001b[0;32m----> 1\u001b[0;31m \u001b[0mmeans\u001b[0m\u001b[0;34m,\u001b[0m \u001b[0mstds\u001b[0m \u001b[0;34m=\u001b[0m \u001b[0mtorch_data\u001b[0m\u001b[0;34m.\u001b[0m\u001b[0mmean\u001b[0m\u001b[0;34m(\u001b[0m\u001b[0mdim\u001b[0m\u001b[0;34m=\u001b[0m\u001b[0;36m0\u001b[0m\u001b[0;34m)\u001b[0m\u001b[0;34m,\u001b[0m \u001b[0mtorch_data\u001b[0m\u001b[0;34m.\u001b[0m\u001b[0mstd\u001b[0m\u001b[0;34m(\u001b[0m\u001b[0mdim\u001b[0m\u001b[0;34m=\u001b[0m\u001b[0;36m0\u001b[0m\u001b[0;34m)\u001b[0m\u001b[0;34m\u001b[0m\u001b[0;34m\u001b[0m\u001b[0m\n\u001b[0m\u001b[1;32m      2\u001b[0m \u001b[0mprint\u001b[0m\u001b[0;34m(\u001b[0m\u001b[0mmeans\u001b[0m\u001b[0;34m,\u001b[0m \u001b[0mstds\u001b[0m\u001b[0;34m)\u001b[0m\u001b[0;34m\u001b[0m\u001b[0;34m\u001b[0m\u001b[0m\n\u001b[1;32m      3\u001b[0m \u001b[0mtorch_data\u001b[0m \u001b[0;34m=\u001b[0m \u001b[0;34m(\u001b[0m\u001b[0mtorch_data\u001b[0m \u001b[0;34m-\u001b[0m \u001b[0mmeans\u001b[0m\u001b[0;34m)\u001b[0m \u001b[0;34m/\u001b[0m \u001b[0mstds\u001b[0m\u001b[0;34m\u001b[0m\u001b[0;34m\u001b[0m\u001b[0m\n",
      "\u001b[0;31mNameError\u001b[0m: name 'torch_data' is not defined"
     ]
    }
   ],
   "source": [
    "means, stds = torch_data.mean(dim=0), torch_data.std(dim=0)\n",
    "print(means, stds)\n",
    "torch_data = (torch_data - means) / stds"
   ]
  },
  {
   "cell_type": "code",
   "execution_count": null,
   "id": "e5577a6d",
   "metadata": {},
   "outputs": [],
   "source": [
    "train_df = pd.read_csv(PATH/'train_with_wap.csv')"
   ]
  },
  {
   "cell_type": "code",
   "execution_count": null,
   "id": "8ae64796",
   "metadata": {},
   "outputs": [],
   "source": [
    "w = train_df.mean_wap.to_numpy()\n",
    "\n",
    "w =np.sort(w)\n",
    "\n",
    "bins = []\n",
    "\n",
    "step = (len(w)+9)//10\n",
    "for i in range(0, len(w), step):\n",
    "    j = min(i+step, len(w))\n",
    "    bins.append(w[j] if j< len(w) else 2)\n",
    "    print(w[i], w[j-1],np.median(w[i:j]) )\n",
    "\n",
    "wap_bin = np.digitize(train_df.mean_wap, bins)\n",
    "\n",
    "train_df['wap_bin']=wap_bin"
   ]
  },
  {
   "cell_type": "code",
   "execution_count": null,
   "id": "5c11bf44",
   "metadata": {},
   "outputs": [],
   "source": [
    "w = train_df.target.to_numpy()\n",
    "\n",
    "w =np.sort(w)\n",
    "\n",
    "bins = []\n",
    "bin_med=[]\n",
    "step = (len(w)+9)//10\n",
    "for i in range(0, len(w), step):\n",
    "    j = min(i+step, len(w))\n",
    "    bins.append(w[j] if j< len(w) else 1)\n",
    "    bin_med.append(np.median(w[i:j]))\n",
    "    print(w[i], w[j-1],np.median(w[i:j]) )\n",
    "\n",
    "target_bin = np.digitize(train_df.target, bins)\n",
    "\n",
    "train_df['target_bin']=target_bin"
   ]
  },
  {
   "cell_type": "code",
   "execution_count": null,
   "id": "6bf0cc59",
   "metadata": {},
   "outputs": [],
   "source": [
    "class ResBlock(nn.Module):\n",
    "    def __init__(self, ch):\n",
    "        super().__init__()\n",
    "        self.layers = nn.Sequential(\n",
    "            nn.Conv1d(ch, ch, kernel_size = 5, padding = 2, padding_mode='replicate'),\n",
    "            nn.BatchNorm1d(ch),\n",
    "            nn.ReLU(),\n",
    "            nn.Conv1d(ch, ch, kernel_size = 5, padding = 2, padding_mode='replicate'),\n",
    "            nn.BatchNorm1d(ch),\n",
    "        )\n",
    "        \n",
    "    def forward(self, x):\n",
    "        res = self.layers(x) + x\n",
    "        res = F.relu(res)\n",
    "        return res"
   ]
  },
  {
   "cell_type": "code",
   "execution_count": null,
   "id": "0230cf94",
   "metadata": {},
   "outputs": [],
   "source": [
    "class ResnetModel(nn.Module):\n",
    "    def __init__(self, num_outputs, do_sigmoid = False):\n",
    "        super().__init__()\n",
    "        self.do_sigmoid = do_sigmoid\n",
    "        chan = 20\n",
    "        layers = [nn.Conv1d(8, chan, kernel_size=1)]\n",
    "        \n",
    "        for _ in range(6):\n",
    "            layers += [ResBlock(chan)\n",
    "                       , nn.AvgPool1d(3, padding=1),\n",
    "                      ]\n",
    "        layers += [Flatten(), nn.Dropout(.1)]   \n",
    "        self.conv_layers = nn.Sequential(*layers)\n",
    "        self.classifier = nn.Linear(chan, num_outputs)\n",
    "        \n",
    "    def forward(self, x):\n",
    "        feat = self.conv_layers(x)\n",
    "        res = self.classifier(feat)\n",
    "        if self.do_sigmoid:\n",
    "            res = sigmoid_range(res, 0, .1).view(-1)\n",
    "        return res"
   ]
  },
  {
   "cell_type": "code",
   "execution_count": null,
   "id": "6f4a6355",
   "metadata": {},
   "outputs": [],
   "source": [
    "def stock_id(row):\n",
    "    return row.stock_id"
   ]
  },
  {
   "cell_type": "code",
   "execution_count": null,
   "id": "689c17d0",
   "metadata": {},
   "outputs": [],
   "source": [
    "kfold = GroupKFold()\n",
    "trn_idx, val_idx = first(GroupKFold().split(train_df, groups = train_df.time_id))"
   ]
  },
  {
   "cell_type": "code",
   "execution_count": null,
   "id": "80ceb8ca",
   "metadata": {},
   "outputs": [],
   "source": [
    "class LoadTransform(Transform):\n",
    "    def __init__(self, torch_data):\n",
    "        super().__init__()\n",
    "        self.data = torch_data\n",
    "        \n",
    "    def encodes(self, row):\n",
    "        ret = self.data[row.offset:row.offset+600].T\n",
    "        #return ret.view(1,600,8)\n",
    "        return ret\n",
    "\n",
    "tfm = LoadTransform(torch_data)\n",
    "\n",
    "data_block = DataBlock(\n",
    "        blocks = (TransformBlock(type_tfms=tfm), \n",
    "                  CategoryBlock(vocab=list(range(10)))),\n",
    "        splitter=IndexSplitter(val_idx),\n",
    "        get_y=ColReader('target_bin'),\n",
    ")\n",
    "dls = data_block.dataloaders(train_df, bs=1024)"
   ]
  },
  {
   "cell_type": "code",
   "execution_count": 61,
   "id": "fbee9410",
   "metadata": {},
   "outputs": [],
   "source": [
    "dls_reg = DataBlock(\n",
    "        blocks = (TransformBlock(type_tfms=tfm), \n",
    "                  #TransformBlock(type_tfms=stock_id),\n",
    "                  RegressionBlock()),\n",
    "        splitter=ColSplitter(),\n",
    "        get_y=ColReader('target'),\n",
    ").dataloaders(train_df, bs = 512)\n"
   ]
  },
  {
   "cell_type": "code",
   "execution_count": 62,
   "id": "fe60d2df",
   "metadata": {},
   "outputs": [],
   "source": [
    "bx,by = dls.one_batch()"
   ]
  },
  {
   "cell_type": "code",
   "execution_count": 63,
   "id": "67145415",
   "metadata": {},
   "outputs": [
    {
     "data": {
      "text/plain": [
       "torch.Size([1024, 10])"
      ]
     },
     "execution_count": 63,
     "metadata": {},
     "output_type": "execute_result"
    }
   ],
   "source": [
    "md = ResnetModel(10).cuda()\n",
    "md(bx).shape"
   ]
  },
  {
   "cell_type": "code",
   "execution_count": 64,
   "id": "0b2f44ac",
   "metadata": {},
   "outputs": [],
   "source": [
    "def rmspe(preds, targs):\n",
    "    x = (targs-preds)/targs\n",
    "    return (x**2).mean().sqrt()"
   ]
  },
  {
   "cell_type": "code",
   "execution_count": 65,
   "id": "e13f4bef",
   "metadata": {},
   "outputs": [],
   "source": [
    "def rmspe_loss(preds, targs, reduction='mean'):\n",
    "    assert reduction == 'mean'\n",
    "    x = (targs-preds)/targs\n",
    "    return (x**2).mean().sqrt()"
   ]
  },
  {
   "cell_type": "code",
   "execution_count": 66,
   "id": "75eaa3f5",
   "metadata": {},
   "outputs": [],
   "source": [
    "#learn = Learner(dls, ConvModel(),loss_func=mspe_loss, metrics=AccumMetric(rmspe))\n",
    "learn = Learner(dls, ResnetModel(10), metrics = [accuracy], cbs=[MixUp])"
   ]
  },
  {
   "cell_type": "code",
   "execution_count": 53,
   "id": "98af3429",
   "metadata": {},
   "outputs": [
    {
     "data": {
      "text/html": [
       "<table border=\"1\" class=\"dataframe\">\n",
       "  <thead>\n",
       "    <tr style=\"text-align: left;\">\n",
       "      <th>epoch</th>\n",
       "      <th>train_loss</th>\n",
       "      <th>valid_loss</th>\n",
       "      <th>accuracy</th>\n",
       "      <th>time</th>\n",
       "    </tr>\n",
       "  </thead>\n",
       "  <tbody>\n",
       "    <tr>\n",
       "      <td>0</td>\n",
       "      <td>1.993149</td>\n",
       "      <td>1.764510</td>\n",
       "      <td>0.333472</td>\n",
       "      <td>00:29</td>\n",
       "    </tr>\n",
       "    <tr>\n",
       "      <td>1</td>\n",
       "      <td>1.816978</td>\n",
       "      <td>1.563564</td>\n",
       "      <td>0.374848</td>\n",
       "      <td>00:29</td>\n",
       "    </tr>\n",
       "    <tr>\n",
       "      <td>2</td>\n",
       "      <td>1.786999</td>\n",
       "      <td>1.552353</td>\n",
       "      <td>0.383899</td>\n",
       "      <td>00:29</td>\n",
       "    </tr>\n",
       "    <tr>\n",
       "      <td>3</td>\n",
       "      <td>1.783467</td>\n",
       "      <td>1.562419</td>\n",
       "      <td>0.369468</td>\n",
       "      <td>00:29</td>\n",
       "    </tr>\n",
       "    <tr>\n",
       "      <td>4</td>\n",
       "      <td>1.764555</td>\n",
       "      <td>1.610426</td>\n",
       "      <td>0.357795</td>\n",
       "      <td>00:29</td>\n",
       "    </tr>\n",
       "    <tr>\n",
       "      <td>5</td>\n",
       "      <td>1.762451</td>\n",
       "      <td>1.489208</td>\n",
       "      <td>0.405928</td>\n",
       "      <td>00:29</td>\n",
       "    </tr>\n",
       "    <tr>\n",
       "      <td>6</td>\n",
       "      <td>1.755247</td>\n",
       "      <td>1.515467</td>\n",
       "      <td>0.405123</td>\n",
       "      <td>00:58</td>\n",
       "    </tr>\n",
       "    <tr>\n",
       "      <td>7</td>\n",
       "      <td>1.748991</td>\n",
       "      <td>1.531275</td>\n",
       "      <td>0.397560</td>\n",
       "      <td>01:56</td>\n",
       "    </tr>\n",
       "    <tr>\n",
       "      <td>8</td>\n",
       "      <td>1.745338</td>\n",
       "      <td>1.501794</td>\n",
       "      <td>0.404062</td>\n",
       "      <td>00:46</td>\n",
       "    </tr>\n",
       "    <tr>\n",
       "      <td>9</td>\n",
       "      <td>1.740241</td>\n",
       "      <td>1.480284</td>\n",
       "      <td>0.411369</td>\n",
       "      <td>00:58</td>\n",
       "    </tr>\n",
       "    <tr>\n",
       "      <td>10</td>\n",
       "      <td>1.735606</td>\n",
       "      <td>1.478378</td>\n",
       "      <td>0.413515</td>\n",
       "      <td>01:39</td>\n",
       "    </tr>\n",
       "    <tr>\n",
       "      <td>11</td>\n",
       "      <td>1.737787</td>\n",
       "      <td>1.467278</td>\n",
       "      <td>0.415723</td>\n",
       "      <td>01:21</td>\n",
       "    </tr>\n",
       "  </tbody>\n",
       "</table>"
      ],
      "text/plain": [
       "<IPython.core.display.HTML object>"
      ]
     },
     "metadata": {},
     "output_type": "display_data"
    }
   ],
   "source": [
    "learn.fit_one_cycle(12,1e-3)"
   ]
  },
  {
   "cell_type": "code",
   "execution_count": 54,
   "id": "77ba46a4",
   "metadata": {},
   "outputs": [
    {
     "data": {
      "text/plain": [
       "Path('models/res_model2.pth.pth')"
      ]
     },
     "execution_count": 54,
     "metadata": {},
     "output_type": "execute_result"
    }
   ],
   "source": [
    "torch.save(learn.model, 'models/conv_model.pth')"
   ]
  },
  {
   "cell_type": "code",
   "execution_count": 74,
   "id": "e514d8cb",
   "metadata": {},
   "outputs": [],
   "source": [
    "\n",
    "reg_m = ResnetModel(1, do_sigmoid=True)\n",
    "reg_m.conv_layers = torch.load('models/conv_model.pth').conv_layers\n"
   ]
  },
  {
   "cell_type": "code",
   "execution_count": 75,
   "id": "ad1d23e6",
   "metadata": {},
   "outputs": [],
   "source": [
    "def split_2way(model):\n",
    "    #return L(params(model.initial_conv)+params(model.conv_layers), params(model.classifier))\n",
    "    return L(params(model.conv_layers), params(model.classifier))"
   ]
  },
  {
   "cell_type": "code",
   "execution_count": 76,
   "id": "3ee60573",
   "metadata": {},
   "outputs": [],
   "source": [
    "learn2 = Learner(dls_reg, reg_m, splitter=split_2way, loss_func=rmspe_loss, metrics=AccumMetric(rmspe))"
   ]
  },
  {
   "cell_type": "code",
   "execution_count": 77,
   "id": "cd4fcc88",
   "metadata": {},
   "outputs": [
    {
     "data": {
      "text/html": [
       "<table border=\"1\" class=\"dataframe\">\n",
       "  <thead>\n",
       "    <tr style=\"text-align: left;\">\n",
       "      <th>epoch</th>\n",
       "      <th>train_loss</th>\n",
       "      <th>valid_loss</th>\n",
       "      <th>rmspe</th>\n",
       "      <th>time</th>\n",
       "    </tr>\n",
       "  </thead>\n",
       "  <tbody>\n",
       "    <tr>\n",
       "      <td>0</td>\n",
       "      <td>0.931246</td>\n",
       "      <td>0.952462</td>\n",
       "      <td>0.981700</td>\n",
       "      <td>00:34</td>\n",
       "    </tr>\n",
       "    <tr>\n",
       "      <td>1</td>\n",
       "      <td>0.482036</td>\n",
       "      <td>0.328781</td>\n",
       "      <td>0.334759</td>\n",
       "      <td>00:22</td>\n",
       "    </tr>\n",
       "    <tr>\n",
       "      <td>2</td>\n",
       "      <td>0.296890</td>\n",
       "      <td>0.251767</td>\n",
       "      <td>0.256399</td>\n",
       "      <td>00:23</td>\n",
       "    </tr>\n",
       "  </tbody>\n",
       "</table>"
      ],
      "text/plain": [
       "<IPython.core.display.HTML object>"
      ]
     },
     "metadata": {},
     "output_type": "display_data"
    },
    {
     "data": {
      "text/html": [
       "<table border=\"1\" class=\"dataframe\">\n",
       "  <thead>\n",
       "    <tr style=\"text-align: left;\">\n",
       "      <th>epoch</th>\n",
       "      <th>train_loss</th>\n",
       "      <th>valid_loss</th>\n",
       "      <th>rmspe</th>\n",
       "      <th>time</th>\n",
       "    </tr>\n",
       "  </thead>\n",
       "  <tbody>\n",
       "    <tr>\n",
       "      <td>0</td>\n",
       "      <td>0.277516</td>\n",
       "      <td>0.250693</td>\n",
       "      <td>0.254660</td>\n",
       "      <td>00:23</td>\n",
       "    </tr>\n",
       "    <tr>\n",
       "      <td>1</td>\n",
       "      <td>0.268144</td>\n",
       "      <td>0.247572</td>\n",
       "      <td>0.252382</td>\n",
       "      <td>00:23</td>\n",
       "    </tr>\n",
       "    <tr>\n",
       "      <td>2</td>\n",
       "      <td>0.264880</td>\n",
       "      <td>0.271888</td>\n",
       "      <td>0.277059</td>\n",
       "      <td>00:23</td>\n",
       "    </tr>\n",
       "    <tr>\n",
       "      <td>3</td>\n",
       "      <td>0.257460</td>\n",
       "      <td>0.250145</td>\n",
       "      <td>0.255909</td>\n",
       "      <td>00:23</td>\n",
       "    </tr>\n",
       "    <tr>\n",
       "      <td>4</td>\n",
       "      <td>0.257397</td>\n",
       "      <td>0.254583</td>\n",
       "      <td>0.259265</td>\n",
       "      <td>00:23</td>\n",
       "    </tr>\n",
       "    <tr>\n",
       "      <td>5</td>\n",
       "      <td>0.255829</td>\n",
       "      <td>0.267972</td>\n",
       "      <td>0.272393</td>\n",
       "      <td>00:23</td>\n",
       "    </tr>\n",
       "    <tr>\n",
       "      <td>6</td>\n",
       "      <td>0.253897</td>\n",
       "      <td>0.261224</td>\n",
       "      <td>0.265723</td>\n",
       "      <td>00:23</td>\n",
       "    </tr>\n",
       "    <tr>\n",
       "      <td>7</td>\n",
       "      <td>0.252094</td>\n",
       "      <td>0.253924</td>\n",
       "      <td>0.259239</td>\n",
       "      <td>00:23</td>\n",
       "    </tr>\n",
       "    <tr>\n",
       "      <td>8</td>\n",
       "      <td>0.250492</td>\n",
       "      <td>0.257383</td>\n",
       "      <td>0.261833</td>\n",
       "      <td>00:23</td>\n",
       "    </tr>\n",
       "    <tr>\n",
       "      <td>9</td>\n",
       "      <td>0.249022</td>\n",
       "      <td>0.258480</td>\n",
       "      <td>0.265542</td>\n",
       "      <td>00:27</td>\n",
       "    </tr>\n",
       "    <tr>\n",
       "      <td>10</td>\n",
       "      <td>0.253101</td>\n",
       "      <td>0.257241</td>\n",
       "      <td>0.261608</td>\n",
       "      <td>00:24</td>\n",
       "    </tr>\n",
       "    <tr>\n",
       "      <td>11</td>\n",
       "      <td>0.252474</td>\n",
       "      <td>0.253263</td>\n",
       "      <td>0.257143</td>\n",
       "      <td>00:24</td>\n",
       "    </tr>\n",
       "    <tr>\n",
       "      <td>12</td>\n",
       "      <td>0.250286</td>\n",
       "      <td>0.259445</td>\n",
       "      <td>0.263779</td>\n",
       "      <td>00:24</td>\n",
       "    </tr>\n",
       "    <tr>\n",
       "      <td>13</td>\n",
       "      <td>0.250352</td>\n",
       "      <td>0.259614</td>\n",
       "      <td>0.263921</td>\n",
       "      <td>00:24</td>\n",
       "    </tr>\n",
       "    <tr>\n",
       "      <td>14</td>\n",
       "      <td>0.248713</td>\n",
       "      <td>0.259697</td>\n",
       "      <td>0.265118</td>\n",
       "      <td>00:24</td>\n",
       "    </tr>\n",
       "    <tr>\n",
       "      <td>15</td>\n",
       "      <td>0.249957</td>\n",
       "      <td>0.249924</td>\n",
       "      <td>0.253836</td>\n",
       "      <td>00:24</td>\n",
       "    </tr>\n",
       "    <tr>\n",
       "      <td>16</td>\n",
       "      <td>0.252580</td>\n",
       "      <td>0.247852</td>\n",
       "      <td>0.251922</td>\n",
       "      <td>00:24</td>\n",
       "    </tr>\n",
       "    <tr>\n",
       "      <td>17</td>\n",
       "      <td>0.249577</td>\n",
       "      <td>0.262540</td>\n",
       "      <td>0.267623</td>\n",
       "      <td>00:28</td>\n",
       "    </tr>\n",
       "    <tr>\n",
       "      <td>18</td>\n",
       "      <td>0.249158</td>\n",
       "      <td>0.266298</td>\n",
       "      <td>0.272090</td>\n",
       "      <td>00:25</td>\n",
       "    </tr>\n",
       "    <tr>\n",
       "      <td>19</td>\n",
       "      <td>0.248388</td>\n",
       "      <td>0.249803</td>\n",
       "      <td>0.254226</td>\n",
       "      <td>00:24</td>\n",
       "    </tr>\n",
       "  </tbody>\n",
       "</table>"
      ],
      "text/plain": [
       "<IPython.core.display.HTML object>"
      ]
     },
     "metadata": {},
     "output_type": "display_data"
    }
   ],
   "source": [
    "learn2.fine_tune(20, 5e-3,freeze_epochs=3)"
   ]
  },
  {
   "cell_type": "code",
   "execution_count": null,
   "id": "f9f6fc4e",
   "metadata": {},
   "outputs": [],
   "source": []
  },
  {
   "cell_type": "code",
   "execution_count": null,
   "id": "f7405105",
   "metadata": {},
   "outputs": [],
   "source": []
  }
 ],
 "metadata": {
  "kernelspec": {
   "display_name": "Python 3.8.5 64-bit ('fastai': conda)",
   "language": "python",
   "name": "python38564bitfastaicondad52d12c5a30a4725bf9d3e235cf1271c"
  },
  "language_info": {
   "codemirror_mode": {
    "name": "ipython",
    "version": 3
   },
   "file_extension": ".py",
   "mimetype": "text/x-python",
   "name": "python",
   "nbconvert_exporter": "python",
   "pygments_lexer": "ipython3",
   "version": "3.8.2"
  }
 },
 "nbformat": 4,
 "nbformat_minor": 5
}
