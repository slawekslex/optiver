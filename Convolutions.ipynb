{
 "cells": [
  {
   "cell_type": "code",
   "execution_count": 2,
   "id": "buried-review",
   "metadata": {},
   "outputs": [],
   "source": [
    "from fastai.vision.all import *"
   ]
  },
  {
   "cell_type": "code",
   "execution_count": 3,
   "id": "royal-opposition",
   "metadata": {},
   "outputs": [],
   "source": [
    "PATH = Path('../input/optiver-realized-volatility-prediction')\n",
    "\n",
    "# data_df = pd.read_parquet(PATH/'book_train_reindexed.parquet')\n",
    "\n",
    "# sizes = ['bid_size1', 'bid_size2', 'ask_size1', 'ask_size2']\n",
    "# for sz in sizes:\n",
    "#     data_df[sz] = data_df[sz]/ 1_000_000\n",
    "\n"
   ]
  },
  {
   "cell_type": "code",
   "execution_count": 27,
   "id": "normal-seller",
   "metadata": {},
   "outputs": [],
   "source": [
    "#train_df = pd.read_csv(PATH/'train_with_offset.csv')\n",
    "# data_df['wap'] = (data_df.bid_price1 * data_df.ask_size1 + data_df.ask_price1 * data_df.bid_size1) / (data_df.ask_size1 + data_df.bid_size1)\n",
    "\n",
    "# mean_wap =[]\n",
    "# for row in train_df.itertuples():\n",
    "#     df = data_df.iloc[row.offset:row.offset+600]\n",
    "#     mean_wap.append(df.wap.mean())"
   ]
  },
  {
   "cell_type": "code",
   "execution_count": 28,
   "id": "moderate-holly",
   "metadata": {},
   "outputs": [],
   "source": [
    "# train_df['mean_wap']=mean_wap\n",
    "# train_df.to_csv(PATH/'train_with_wap.csv')"
   ]
  },
  {
   "cell_type": "code",
   "execution_count": 29,
   "id": "loved-validity",
   "metadata": {},
   "outputs": [],
   "source": [
    "# np_data = data_df[['bid_price1', 'ask_price1', 'bid_size1', 'ask_size1','bid_price2', 'ask_price2', 'bid_size2', 'ask_size2']].to_numpy()\n",
    "\n",
    "# del data_df\n",
    "\n",
    "# np_data = np_data.astype('float32')\n",
    "# torch_data = torch.tensor(np_data)\n",
    "\n",
    "# del np_data\n",
    "\n",
    "# torch.save(torch_data, PATH/'torch_data.pth')"
   ]
  },
  {
   "cell_type": "code",
   "execution_count": 4,
   "id": "little-practice",
   "metadata": {},
   "outputs": [
    {
     "name": "stdout",
     "output_type": "stream",
     "text": [
      "CPU times: user 0 ns, sys: 11.2 s, total: 11.2 s\n",
      "Wall time: 2min 2s\n"
     ]
    }
   ],
   "source": [
    "%%time\n",
    "torch_data = torch.load(PATH/'torch_data.pth')"
   ]
  },
  {
   "cell_type": "code",
   "execution_count": 31,
   "id": "ignored-johnston",
   "metadata": {},
   "outputs": [],
   "source": [
    "#torch_data[:,[2,3,6,7]] = 1000000 * torch_data[:,[2,3,6,7]] "
   ]
  },
  {
   "cell_type": "code",
   "execution_count": 5,
   "id": "sacred-calcium",
   "metadata": {},
   "outputs": [
    {
     "name": "stdout",
     "output_type": "stream",
     "text": [
      "tensor([9.9968e-01, 1.0003e+00, 7.6999e-04, 7.6673e-04, 9.9948e-01, 1.0005e+00,\n",
      "        9.5934e-04, 9.2822e-04]) tensor([0.0037, 0.0037, 0.0054, 0.0050, 0.0037, 0.0037, 0.0067, 0.0057])\n"
     ]
    }
   ],
   "source": [
    "means, stds = torch_data.mean(dim=0), torch_data.std(dim=0)\n",
    "print(means, stds)\n",
    "torch_data = (torch_data - means) / stds"
   ]
  },
  {
   "cell_type": "code",
   "execution_count": 6,
   "id": "waiting-discovery",
   "metadata": {},
   "outputs": [],
   "source": [
    "train_df = pd.read_csv(PATH/'train_with_wap.csv')"
   ]
  },
  {
   "cell_type": "code",
   "execution_count": 7,
   "id": "computational-sauce",
   "metadata": {},
   "outputs": [
    {
     "name": "stdout",
     "output_type": "stream",
     "text": [
      "0.9172531180048944 0.9971951138775056 0.9956492523836432\n",
      "0.9971951327900604 0.9984703256953886 0.9979708959569917\n",
      "0.9984703751656142 0.9991431543863876 0.9988451162091514\n",
      "0.9991431683337992 0.999616836138266 0.9993924853218963\n",
      "0.9996168497680276 1.0000141933324718 0.9998199779860442\n",
      "1.0000141975255898 1.0004091980748968 1.00020793857736\n",
      "1.0004091986325243 1.000876884050013 1.0006291062379966\n",
      "1.0008769297217603 1.0015230362748495 1.0011664016312456\n",
      "1.0015230933064834 1.002768629281105 1.0020189286622183\n",
      "1.0027686365447124 1.077264872305151 1.004330146304397\n"
     ]
    }
   ],
   "source": [
    "w = train_df.mean_wap.to_numpy()\n",
    "\n",
    "w =np.sort(w)\n",
    "\n",
    "bins = []\n",
    "\n",
    "step = (len(w)+9)//10\n",
    "for i in range(0, len(w), step):\n",
    "    j = min(i+step, len(w))\n",
    "    bins.append(w[j] if j< len(w) else 2)\n",
    "    print(w[i], w[j-1],np.median(w[i:j]) )\n",
    "\n",
    "wap_bin = np.digitize(train_df.mean_wap, bins)\n",
    "\n",
    "train_df['wap_bin']=wap_bin"
   ]
  },
  {
   "cell_type": "code",
   "execution_count": 8,
   "id": "robust-income",
   "metadata": {},
   "outputs": [
    {
     "name": "stdout",
     "output_type": "stream",
     "text": [
      "0.000105263 0.001436988 0.001175852\n",
      "0.001436991 0.001838282 0.0016455530000000001\n",
      "0.001838308 0.002210492 0.0020263215\n",
      "0.002210493 0.002604845 0.00240206\n",
      "0.002604847 0.003048064 0.002817908\n",
      "0.003048071 0.003585089 0.0033027735\n",
      "0.003585105 0.00428704 0.003905317\n",
      "0.004287042 0.005311553 0.0047378975\n",
      "0.005311559 0.007240946 0.0060829544999999995\n",
      "0.007240976 0.07032062 0.009453786499999998\n"
     ]
    }
   ],
   "source": [
    "w = train_df.target.to_numpy()\n",
    "\n",
    "w =np.sort(w)\n",
    "\n",
    "bins = []\n",
    "bin_med=[]\n",
    "step = (len(w)+9)//10\n",
    "for i in range(0, len(w), step):\n",
    "    j = min(i+step, len(w))\n",
    "    bins.append(w[j] if j< len(w) else 1)\n",
    "    bin_med.append(np.median(w[i:j]))\n",
    "    print(w[i], w[j-1],np.median(w[i:j]) )\n",
    "\n",
    "target_bin = np.digitize(train_df.target, bins)\n",
    "\n",
    "train_df['target_bin']=target_bin"
   ]
  },
  {
   "cell_type": "code",
   "execution_count": 115,
   "id": "selected-guess",
   "metadata": {},
   "outputs": [],
   "source": [
    "class ResBlock(nn.Module):\n",
    "    def __init__(self, ch):\n",
    "        super().__init__()\n",
    "        self.layers = nn.Sequential(\n",
    "            nn.Conv2d(ch, ch, kernel_size = (5,1), padding = (2,0), padding_mode='replicate'),\n",
    "            nn.BatchNorm2d(ch),\n",
    "            nn.ReLU(),\n",
    "            #nn.Dropout(p=.25),\n",
    "            nn.Conv2d(ch, ch, kernel_size = (5,1), padding = (2,0), padding_mode='replicate'),\n",
    "            nn.BatchNorm2d(ch),\n",
    "#             nn.ReLU(),\n",
    "#             nn.Dropout(p=.25)\n",
    "        )\n",
    "        \n",
    "    def forward(self, x):\n",
    "        res = self.layers(x) + x\n",
    "        res = F.relu(res)\n",
    "        #res = F.dropout(res, p=.25)\n",
    "        return res"
   ]
  },
  {
   "cell_type": "code",
   "execution_count": 206,
   "id": "dental-tract",
   "metadata": {},
   "outputs": [
    {
     "data": {
      "text/plain": [
       "LinBnDrop(\n",
       "  (0): BatchNorm1d(10, eps=1e-05, momentum=0.1, affine=True, track_running_stats=True)\n",
       "  (1): Dropout(p=0.5, inplace=False)\n",
       "  (2): Linear(in_features=10, out_features=5, bias=False)\n",
       ")"
      ]
     },
     "execution_count": 206,
     "metadata": {},
     "output_type": "execute_result"
    }
   ],
   "source": [
    "LinBnDrop(10,5, p=.5)"
   ]
  },
  {
   "cell_type": "code",
   "execution_count": 235,
   "id": "ecological-formula",
   "metadata": {},
   "outputs": [],
   "source": [
    "class ResnetModel(nn.Module):\n",
    "    def __init__(self, num_outputs, chan = 16, do_sigmoid = False):\n",
    "        super().__init__()\n",
    "        self.do_sigmoid = do_sigmoid\n",
    "        layers = [\n",
    "            nn.Conv2d(1,chan, kernel_size=(5,8), padding=(2,0)),\n",
    "            nn.BatchNorm2d(chan),\n",
    "            nn.ReLU()\n",
    "        ]\n",
    "        for _ in range(7):\n",
    "            layers += [ResBlock(chan), ResBlock(chan),ResBlock(chan)\n",
    "                       , nn.MaxPool2d((2,1), padding=(1,0))]\n",
    "            \n",
    "        layers += [Flatten(), nn.Dropout()]\n",
    "        \n",
    "        self.conv_layers = nn.Sequential(*layers)\n",
    "        self.embeddings = nn.Embedding(127,32)\n",
    "        self.classifier = nn.Sequential(\n",
    "            LinBnDrop(128,32, p=.5, act=nn.ReLU()),\n",
    "            LinBnDrop(32, num_outputs)\n",
    "        )\n",
    "        \n",
    "        \n",
    "    def forward(self, x, stock_id):\n",
    "        emb = self.embeddings(stock_id)\n",
    "        feat =  self.conv_layers(x)\n",
    "        con_feat = torch.cat([emb, feat], dim=1)\n",
    "        #print(emb.shape, feat.shape, con_feat.shape)\n",
    "        res = self.classifier(con_feat)\n",
    "        if self.do_sigmoid:\n",
    "            res = sigmoid_range(res, 0, .1).view(-1)\n",
    "        return res"
   ]
  },
  {
   "cell_type": "code",
   "execution_count": 103,
   "id": "removable-spare",
   "metadata": {},
   "outputs": [],
   "source": [
    "class ResnetRegression(nn.Module):\n",
    "    def __init__(self, stem, num_inputs):\n",
    "        super().__init__()\n",
    "        self.stem = stem\n",
    "        self.classifier = nn.Sequential(\n",
    "            nn.Linear(num_inputs, 1),\n",
    "            SigmoidRange(0,.1)\n",
    "        )\n",
    "        \n",
    "    def forward(self, x):\n",
    "        return self.classifier(self.stem(x)).view(-1)"
   ]
  },
  {
   "cell_type": "code",
   "execution_count": 199,
   "id": "actual-jordan",
   "metadata": {},
   "outputs": [
    {
     "data": {
      "text/plain": [
       "126"
      ]
     },
     "execution_count": 199,
     "metadata": {},
     "output_type": "execute_result"
    }
   ],
   "source": [
    "train_df.stock_id.max()"
   ]
  },
  {
   "cell_type": "code",
   "execution_count": 187,
   "id": "pacific-combat",
   "metadata": {},
   "outputs": [],
   "source": [
    "def stock_id(row):\n",
    "    return row.stock_id"
   ]
  },
  {
   "cell_type": "code",
   "execution_count": 188,
   "id": "increasing-rebecca",
   "metadata": {},
   "outputs": [],
   "source": [
    "class LoadTransform(Transform):\n",
    "    def __init__(self, torch_data):\n",
    "        super().__init__()\n",
    "        self.data = torch_data\n",
    "        \n",
    "    def encodes(self, row):\n",
    "        #df = self.data.iloc[row.offset:row.offset+600]\n",
    "        #ret = df[['bid_price1', 'ask_price1', 'bid_size1', 'ask_size1','bid_price2', 'ask_price2', 'bid_size2', 'ask_size2']].to_numpy()\n",
    "        #ret = ret.reshape(1,600,8).astype('float32')\n",
    "        ret = self.data[row.offset:row.offset+600]\n",
    "        return ret.view(1,600,8)\n",
    "\n",
    "tfm = LoadTransform(torch_data)\n",
    "\n",
    "data_block = DataBlock(\n",
    "        blocks = (TransformBlock(type_tfms=tfm), \n",
    "                  TransformBlock(type_tfms=stock_id),\n",
    "                  CategoryBlock(vocab=list(range(10)))),\n",
    "        splitter=ColSplitter(),\n",
    "        #get_y=ColReader('target'),\n",
    "        #get_y=ColReader('wap_bin'),\n",
    "        get_y=ColReader('target_bin'),\n",
    ")\n",
    "dls = data_block.dataloaders(train_df, bs=1024)"
   ]
  },
  {
   "cell_type": "code",
   "execution_count": 189,
   "id": "alien-battlefield",
   "metadata": {},
   "outputs": [],
   "source": [
    "b = dls.one_batch()"
   ]
  },
  {
   "cell_type": "code",
   "execution_count": 190,
   "id": "civic-sharp",
   "metadata": {},
   "outputs": [
    {
     "data": {
      "text/plain": [
       "tensor([88, 29,  2,  ..., 53, 60, 50], device='cuda:0')"
      ]
     },
     "execution_count": 190,
     "metadata": {},
     "output_type": "execute_result"
    }
   ],
   "source": [
    "b[1]"
   ]
  },
  {
   "cell_type": "code",
   "execution_count": 232,
   "id": "separated-auction",
   "metadata": {},
   "outputs": [],
   "source": [
    "dls_reg = DataBlock(\n",
    "        blocks = (TransformBlock(type_tfms=tfm), \n",
    "                  TransformBlock(type_tfms=stock_id),\n",
    "                  RegressionBlock()),\n",
    "        splitter=ColSplitter(),\n",
    "        get_y=ColReader('target'),\n",
    ").dataloaders(train_df, bs = 1024)\n"
   ]
  },
  {
   "cell_type": "code",
   "execution_count": 223,
   "id": "quality-ferry",
   "metadata": {},
   "outputs": [],
   "source": [
    "b1,b2,by = dls.one_batch()"
   ]
  },
  {
   "cell_type": "code",
   "execution_count": 224,
   "id": "accepting-bones",
   "metadata": {},
   "outputs": [
    {
     "data": {
      "text/plain": [
       "torch.Size([1024, 10])"
      ]
     },
     "execution_count": 224,
     "metadata": {},
     "output_type": "execute_result"
    }
   ],
   "source": [
    "ResnetModel(10).cuda()(b1,b2).shape"
   ]
  },
  {
   "cell_type": "code",
   "execution_count": 65,
   "id": "personalized-alcohol",
   "metadata": {},
   "outputs": [],
   "source": [
    "def rmspe(preds, targs):\n",
    "    x = (targs-preds)/targs\n",
    "    return (x**2).mean().sqrt()"
   ]
  },
  {
   "cell_type": "code",
   "execution_count": 66,
   "id": "standard-senator",
   "metadata": {},
   "outputs": [],
   "source": [
    "def mspe_loss(preds, targs):\n",
    "    x = (targs-preds)/targs\n",
    "    return (x**2).mean()"
   ]
  },
  {
   "cell_type": "code",
   "execution_count": 67,
   "id": "intensive-frame",
   "metadata": {},
   "outputs": [],
   "source": [
    "def my_mse_loss(preds, targs):\n",
    "    x = (targs-preds)\n",
    "    #res = ((x**2)/(targs**2))\n",
    "    res = (x/targs) ** 2\n",
    "    return res.sqrt().mean()"
   ]
  },
  {
   "cell_type": "code",
   "execution_count": 68,
   "id": "intimate-arbor",
   "metadata": {},
   "outputs": [],
   "source": [
    "def rmspe_loss(preds, targs):\n",
    "    x = (targs-preds)/targs\n",
    "    return (x**2).mean().sqrt()"
   ]
  },
  {
   "cell_type": "code",
   "execution_count": 225,
   "id": "prostate-bonus",
   "metadata": {},
   "outputs": [],
   "source": [
    "#learn = Learner(dls, ConvModel(),loss_func=mspe_loss, metrics=AccumMetric(rmspe))\n",
    "learn = Learner(dls, ResnetModel(10), metrics = [accuracy])#, cbs=MixUp)"
   ]
  },
  {
   "cell_type": "code",
   "execution_count": 217,
   "id": "southeast-decrease",
   "metadata": {},
   "outputs": [
    {
     "data": {
      "text/html": [],
      "text/plain": [
       "<IPython.core.display.HTML object>"
      ]
     },
     "metadata": {},
     "output_type": "display_data"
    },
    {
     "data": {
      "text/plain": [
       "SuggestedLRs(lr_min=0.06309573650360108, lr_steep=0.010964781977236271)"
      ]
     },
     "execution_count": 217,
     "metadata": {},
     "output_type": "execute_result"
    },
    {
     "data": {
      "image/png": "[encoded data removed]",
      "text/plain": [
       "<Figure size 432x288 with 1 Axes>"
      ]
     },
     "metadata": {
      "needs_background": "light"
     },
     "output_type": "display_data"
    }
   ],
   "source": [
    "learn.lr_find()"
   ]
  },
  {
   "cell_type": "code",
   "execution_count": 226,
   "id": "every-mongolia",
   "metadata": {},
   "outputs": [
    {
     "data": {
      "text/html": [
       "<table border=\"1\" class=\"dataframe\">\n",
       "  <thead>\n",
       "    <tr style=\"text-align: left;\">\n",
       "      <th>epoch</th>\n",
       "      <th>train_loss</th>\n",
       "      <th>valid_loss</th>\n",
       "      <th>accuracy</th>\n",
       "      <th>time</th>\n",
       "    </tr>\n",
       "  </thead>\n",
       "  <tbody>\n",
       "    <tr>\n",
       "      <td>0</td>\n",
       "      <td>1.949335</td>\n",
       "      <td>1.768853</td>\n",
       "      <td>0.312271</td>\n",
       "      <td>00:43</td>\n",
       "    </tr>\n",
       "    <tr>\n",
       "      <td>1</td>\n",
       "      <td>1.572961</td>\n",
       "      <td>1.535390</td>\n",
       "      <td>0.370810</td>\n",
       "      <td>00:44</td>\n",
       "    </tr>\n",
       "    <tr>\n",
       "      <td>2</td>\n",
       "      <td>1.518479</td>\n",
       "      <td>1.466972</td>\n",
       "      <td>0.402330</td>\n",
       "      <td>00:44</td>\n",
       "    </tr>\n",
       "    <tr>\n",
       "      <td>3</td>\n",
       "      <td>1.487304</td>\n",
       "      <td>1.795147</td>\n",
       "      <td>0.291742</td>\n",
       "      <td>00:44</td>\n",
       "    </tr>\n",
       "    <tr>\n",
       "      <td>4</td>\n",
       "      <td>1.472659</td>\n",
       "      <td>1.457969</td>\n",
       "      <td>0.400707</td>\n",
       "      <td>00:44</td>\n",
       "    </tr>\n",
       "    <tr>\n",
       "      <td>5</td>\n",
       "      <td>1.455172</td>\n",
       "      <td>1.479894</td>\n",
       "      <td>0.390754</td>\n",
       "      <td>00:44</td>\n",
       "    </tr>\n",
       "    <tr>\n",
       "      <td>6</td>\n",
       "      <td>1.440178</td>\n",
       "      <td>1.450203</td>\n",
       "      <td>0.400329</td>\n",
       "      <td>00:45</td>\n",
       "    </tr>\n",
       "    <tr>\n",
       "      <td>7</td>\n",
       "      <td>1.437704</td>\n",
       "      <td>1.448367</td>\n",
       "      <td>0.404769</td>\n",
       "      <td>00:44</td>\n",
       "    </tr>\n",
       "    <tr>\n",
       "      <td>8</td>\n",
       "      <td>1.429211</td>\n",
       "      <td>1.460592</td>\n",
       "      <td>0.395853</td>\n",
       "      <td>00:44</td>\n",
       "    </tr>\n",
       "    <tr>\n",
       "      <td>9</td>\n",
       "      <td>1.417100</td>\n",
       "      <td>1.469772</td>\n",
       "      <td>0.393523</td>\n",
       "      <td>00:44</td>\n",
       "    </tr>\n",
       "    <tr>\n",
       "      <td>10</td>\n",
       "      <td>1.420690</td>\n",
       "      <td>1.489756</td>\n",
       "      <td>0.382801</td>\n",
       "      <td>00:45</td>\n",
       "    </tr>\n",
       "    <tr>\n",
       "      <td>11</td>\n",
       "      <td>1.410518</td>\n",
       "      <td>1.478248</td>\n",
       "      <td>0.389388</td>\n",
       "      <td>00:44</td>\n",
       "    </tr>\n",
       "  </tbody>\n",
       "</table>"
      ],
      "text/plain": [
       "<IPython.core.display.HTML object>"
      ]
     },
     "metadata": {},
     "output_type": "display_data"
    }
   ],
   "source": [
    "learn.fit_one_cycle(12,1e-3, wd=.2)"
   ]
  },
  {
   "cell_type": "code",
   "execution_count": 153,
   "id": "plain-dylan",
   "metadata": {},
   "outputs": [
    {
     "data": {
      "text/plain": [
       "Path('models/res_model2.pth.pth')"
      ]
     },
     "execution_count": 153,
     "metadata": {},
     "output_type": "execute_result"
    }
   ],
   "source": [
    "learn.save('res_model2.pth')"
   ]
  },
  {
   "cell_type": "code",
   "execution_count": 237,
   "id": "imperial-operator",
   "metadata": {},
   "outputs": [],
   "source": [
    "#learn.load('res_model2.pth')\n",
    "\n",
    "#stem = nn.Sequential(*list(learn.model.layers.children())[:-1])\n",
    "#stem = nn.Sequential(*list(ResnetModel(10).layers.children())[:-1])\n",
    "#reg_m = ResnetRegression(stem, 6*16)\n",
    "reg_m = ResnetModel(1, do_sigmoid=True)\n",
    "learn2 = Learner(dls_reg, reg_m, loss_func=my_mse_loss, metrics=AccumMetric(rmspe), wd=.1)"
   ]
  },
  {
   "cell_type": "code",
   "execution_count": 238,
   "id": "skilled-matter",
   "metadata": {},
   "outputs": [
    {
     "data": {
      "text/plain": [
       "(tensor(0.0023, device='cuda:0', grad_fn=<MseLossBackward>),\n",
       " tensor(18.4136, device='cuda:0', grad_fn=<MeanBackward0>))"
      ]
     },
     "execution_count": 238,
     "metadata": {},
     "output_type": "execute_result"
    }
   ],
   "source": [
    "bx1,bx2,by=dls_reg.one_batch()\n",
    "out = reg_m.cuda()(bx1,bx2)\n",
    "F.mse_loss(out, by), my_mse_loss(out, by)"
   ]
  },
  {
   "cell_type": "code",
   "execution_count": 158,
   "id": "static-object",
   "metadata": {},
   "outputs": [
    {
     "data": {
      "text/html": [
       "<table border=\"1\" class=\"dataframe\">\n",
       "  <thead>\n",
       "    <tr style=\"text-align: left;\">\n",
       "      <th>epoch</th>\n",
       "      <th>train_loss</th>\n",
       "      <th>valid_loss</th>\n",
       "      <th>rmspe</th>\n",
       "      <th>time</th>\n",
       "    </tr>\n",
       "  </thead>\n",
       "  <tbody>\n",
       "    <tr>\n",
       "      <td>0</td>\n",
       "      <td>0.525847</td>\n",
       "      <td>0.279563</td>\n",
       "      <td>0.330532</td>\n",
       "      <td>00:33</td>\n",
       "    </tr>\n",
       "    <tr>\n",
       "      <td>1</td>\n",
       "      <td>0.410391</td>\n",
       "      <td>0.221905</td>\n",
       "      <td>0.280816</td>\n",
       "      <td>00:33</td>\n",
       "    </tr>\n",
       "    <tr>\n",
       "      <td>2</td>\n",
       "      <td>0.341766</td>\n",
       "      <td>0.239141</td>\n",
       "      <td>0.290424</td>\n",
       "      <td>00:33</td>\n",
       "    </tr>\n",
       "  </tbody>\n",
       "</table>"
      ],
      "text/plain": [
       "<IPython.core.display.HTML object>"
      ]
     },
     "metadata": {},
     "output_type": "display_data"
    },
    {
     "data": {
      "text/html": [
       "<table border=\"1\" class=\"dataframe\">\n",
       "  <thead>\n",
       "    <tr style=\"text-align: left;\">\n",
       "      <th>epoch</th>\n",
       "      <th>train_loss</th>\n",
       "      <th>valid_loss</th>\n",
       "      <th>rmspe</th>\n",
       "      <th>time</th>\n",
       "    </tr>\n",
       "  </thead>\n",
       "  <tbody>\n",
       "    <tr>\n",
       "      <td>0</td>\n",
       "      <td>0.303880</td>\n",
       "      <td>0.216230</td>\n",
       "      <td>0.265960</td>\n",
       "      <td>00:33</td>\n",
       "    </tr>\n",
       "    <tr>\n",
       "      <td>1</td>\n",
       "      <td>0.284530</td>\n",
       "      <td>0.204399</td>\n",
       "      <td>0.263012</td>\n",
       "      <td>00:33</td>\n",
       "    </tr>\n",
       "    <tr>\n",
       "      <td>2</td>\n",
       "      <td>0.258509</td>\n",
       "      <td>0.219640</td>\n",
       "      <td>0.286061</td>\n",
       "      <td>00:33</td>\n",
       "    </tr>\n",
       "    <tr>\n",
       "      <td>3</td>\n",
       "      <td>0.243210</td>\n",
       "      <td>0.208284</td>\n",
       "      <td>0.282748</td>\n",
       "      <td>00:33</td>\n",
       "    </tr>\n",
       "    <tr>\n",
       "      <td>4</td>\n",
       "      <td>0.230162</td>\n",
       "      <td>0.215831</td>\n",
       "      <td>0.289757</td>\n",
       "      <td>00:33</td>\n",
       "    </tr>\n",
       "    <tr>\n",
       "      <td>5</td>\n",
       "      <td>0.223162</td>\n",
       "      <td>0.204588</td>\n",
       "      <td>0.270721</td>\n",
       "      <td>00:33</td>\n",
       "    </tr>\n",
       "    <tr>\n",
       "      <td>6</td>\n",
       "      <td>0.218093</td>\n",
       "      <td>0.217212</td>\n",
       "      <td>0.271917</td>\n",
       "      <td>00:32</td>\n",
       "    </tr>\n",
       "    <tr>\n",
       "      <td>7</td>\n",
       "      <td>0.217493</td>\n",
       "      <td>0.199908</td>\n",
       "      <td>0.257180</td>\n",
       "      <td>00:33</td>\n",
       "    </tr>\n",
       "  </tbody>\n",
       "</table>"
      ],
      "text/plain": [
       "<IPython.core.display.HTML object>"
      ]
     },
     "metadata": {},
     "output_type": "display_data"
    }
   ],
   "source": [
    "learn2.fine_tune(8, 5e-3,freeze_epochs=3)"
   ]
  },
  {
   "cell_type": "code",
   "execution_count": 239,
   "id": "invalid-inspiration",
   "metadata": {},
   "outputs": [
    {
     "data": {
      "text/html": [
       "<table border=\"1\" class=\"dataframe\">\n",
       "  <thead>\n",
       "    <tr style=\"text-align: left;\">\n",
       "      <th>epoch</th>\n",
       "      <th>train_loss</th>\n",
       "      <th>valid_loss</th>\n",
       "      <th>rmspe</th>\n",
       "      <th>time</th>\n",
       "    </tr>\n",
       "  </thead>\n",
       "  <tbody>\n",
       "    <tr>\n",
       "      <td>0</td>\n",
       "      <td>1.752117</td>\n",
       "      <td>1.559247</td>\n",
       "      <td>2.350907</td>\n",
       "      <td>00:42</td>\n",
       "    </tr>\n",
       "    <tr>\n",
       "      <td>1</td>\n",
       "      <td>0.434702</td>\n",
       "      <td>0.428289</td>\n",
       "      <td>0.714543</td>\n",
       "      <td>00:42</td>\n",
       "    </tr>\n",
       "    <tr>\n",
       "      <td>2</td>\n",
       "      <td>0.318538</td>\n",
       "      <td>0.297535</td>\n",
       "      <td>0.430545</td>\n",
       "      <td>00:41</td>\n",
       "    </tr>\n",
       "    <tr>\n",
       "      <td>3</td>\n",
       "      <td>0.263533</td>\n",
       "      <td>0.278086</td>\n",
       "      <td>0.488064</td>\n",
       "      <td>00:42</td>\n",
       "    </tr>\n",
       "    <tr>\n",
       "      <td>4</td>\n",
       "      <td>0.288248</td>\n",
       "      <td>0.353670</td>\n",
       "      <td>5.214664</td>\n",
       "      <td>00:43</td>\n",
       "    </tr>\n",
       "    <tr>\n",
       "      <td>5</td>\n",
       "      <td>0.232106</td>\n",
       "      <td>0.215500</td>\n",
       "      <td>0.300030</td>\n",
       "      <td>00:43</td>\n",
       "    </tr>\n",
       "    <tr>\n",
       "      <td>6</td>\n",
       "      <td>0.221665</td>\n",
       "      <td>0.213563</td>\n",
       "      <td>0.296188</td>\n",
       "      <td>00:42</td>\n",
       "    </tr>\n",
       "    <tr>\n",
       "      <td>7</td>\n",
       "      <td>0.215383</td>\n",
       "      <td>0.229248</td>\n",
       "      <td>0.311769</td>\n",
       "      <td>00:43</td>\n",
       "    </tr>\n",
       "    <tr>\n",
       "      <td>8</td>\n",
       "      <td>0.212203</td>\n",
       "      <td>0.218769</td>\n",
       "      <td>0.321531</td>\n",
       "      <td>00:43</td>\n",
       "    </tr>\n",
       "    <tr>\n",
       "      <td>9</td>\n",
       "      <td>0.208908</td>\n",
       "      <td>0.224181</td>\n",
       "      <td>0.316923</td>\n",
       "      <td>00:43</td>\n",
       "    </tr>\n",
       "    <tr>\n",
       "      <td>10</td>\n",
       "      <td>0.203396</td>\n",
       "      <td>0.229064</td>\n",
       "      <td>0.337729</td>\n",
       "      <td>00:42</td>\n",
       "    </tr>\n",
       "    <tr>\n",
       "      <td>11</td>\n",
       "      <td>0.200259</td>\n",
       "      <td>0.236530</td>\n",
       "      <td>0.355801</td>\n",
       "      <td>00:42</td>\n",
       "    </tr>\n",
       "  </tbody>\n",
       "</table>"
      ],
      "text/plain": [
       "<IPython.core.display.HTML object>"
      ]
     },
     "metadata": {},
     "output_type": "display_data"
    }
   ],
   "source": [
    "learn2.fit_flat_cos(12, 1e-3, wd=.2)"
   ]
  },
  {
   "cell_type": "code",
   "execution_count": 135,
   "id": "particular-grammar",
   "metadata": {},
   "outputs": [],
   "source": [
    "torch.save(learn2.model, 'res248.pth')"
   ]
  },
  {
   "cell_type": "code",
   "execution_count": 58,
   "id": "failing-plumbing",
   "metadata": {},
   "outputs": [
    {
     "data": {
      "text/html": [],
      "text/plain": [
       "<IPython.core.display.HTML object>"
      ]
     },
     "metadata": {},
     "output_type": "display_data"
    },
    {
     "data": {
      "text/plain": [
       "tensor(0.2498)"
      ]
     },
     "execution_count": 58,
     "metadata": {},
     "output_type": "execute_result"
    }
   ],
   "source": [
    "preds, targs = learn2.get_preds()\n",
    "\n",
    "rmspe(preds.view(-1), targs)"
   ]
  },
  {
   "cell_type": "code",
   "execution_count": 169,
   "id": "particular-tampa",
   "metadata": {},
   "outputs": [
    {
     "data": {
      "text/html": [],
      "text/plain": [
       "<IPython.core.display.HTML object>"
      ]
     },
     "metadata": {},
     "output_type": "display_data"
    }
   ],
   "source": [
    "preds, targs = learn.get_preds()"
   ]
  },
  {
   "cell_type": "code",
   "execution_count": 170,
   "id": "norwegian-sharing",
   "metadata": {},
   "outputs": [],
   "source": [
    "predicted_bins = torch.argmax(preds, dim=1)"
   ]
  },
  {
   "cell_type": "code",
   "execution_count": 171,
   "id": "intermediate-accountability",
   "metadata": {},
   "outputs": [
    {
     "data": {
      "text/html": [],
      "text/plain": [
       "<IPython.core.display.HTML object>"
      ]
     },
     "metadata": {},
     "output_type": "display_data"
    }
   ],
   "source": [
    "CI = ClassificationInterpretation.from_learner(learn)"
   ]
  },
  {
   "cell_type": "code",
   "execution_count": 172,
   "id": "arbitrary-protection",
   "metadata": {},
   "outputs": [
    {
     "data": {
      "image/png": "[encoded data removed]",
      "text/plain": [
       "<Figure size 432x288 with 1 Axes>"
      ]
     },
     "metadata": {
      "needs_background": "light"
     },
     "output_type": "display_data"
    }
   ],
   "source": [
    "CI.plot_confusion_matrix()"
   ]
  },
  {
   "cell_type": "code",
   "execution_count": 173,
   "id": "synthetic-edmonton",
   "metadata": {},
   "outputs": [],
   "source": [
    "pred_vals =torch.tensor(bin_med)[predicted_bins]"
   ]
  },
  {
   "cell_type": "code",
   "execution_count": 174,
   "id": "decreased-consequence",
   "metadata": {},
   "outputs": [],
   "source": [
    "target_vals = dls.valid.items.target.to_numpy()\n",
    "target_vals = torch.tensor(target_vals)"
   ]
  },
  {
   "cell_type": "code",
   "execution_count": 175,
   "id": "declared-brain",
   "metadata": {},
   "outputs": [
    {
     "data": {
      "text/plain": [
       "(tensor([0.0039, 0.0020, 0.0016, 0.0028, 0.0047, 0.0033, 0.0020, 0.0095, 0.0039,\n",
       "         0.0047], dtype=torch.float64),\n",
       " tensor([0.0037, 0.0018, 0.0021, 0.0021, 0.0040, 0.0032, 0.0030, 0.0135, 0.0037,\n",
       "         0.0054], dtype=torch.float64))"
      ]
     },
     "execution_count": 175,
     "metadata": {},
     "output_type": "execute_result"
    }
   ],
   "source": [
    "pred_vals[:10], target_vals[:10]"
   ]
  },
  {
   "cell_type": "code",
   "execution_count": 176,
   "id": "numerous-anxiety",
   "metadata": {},
   "outputs": [
    {
     "data": {
      "text/plain": [
       "tensor(0.3144, dtype=torch.float64)"
      ]
     },
     "execution_count": 176,
     "metadata": {},
     "output_type": "execute_result"
    }
   ],
   "source": [
    "rmspe(pred_vals, target_vals)"
   ]
  },
  {
   "cell_type": "code",
   "execution_count": null,
   "id": "brutal-brazilian",
   "metadata": {},
   "outputs": [],
   "source": []
  },
  {
   "cell_type": "code",
   "execution_count": null,
   "id": "daily-scanner",
   "metadata": {},
   "outputs": [],
   "source": []
  }
 ],
 "metadata": {
  "kernelspec": {
   "display_name": "Python 3.8.5 64-bit ('fastai': conda)",
   "language": "python",
   "name": "python38564bitfastaicondad52d12c5a30a4725bf9d3e235cf1271c"
  },
  "language_info": {
   "codemirror_mode": {
    "name": "ipython",
    "version": 3
   },
   "file_extension": ".py",
   "mimetype": "text/x-python",
   "name": "python",
   "nbconvert_exporter": "python",
   "pygments_lexer": "ipython3",
   "version": "3.8.5"
  }
 },
 "nbformat": 4,
 "nbformat_minor": 5
}
