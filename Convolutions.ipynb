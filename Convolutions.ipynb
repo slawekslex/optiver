{
 "cells": [
  {
   "cell_type": "code",
   "execution_count": 1,
   "id": "static-bacon",
   "metadata": {},
   "outputs": [],
   "source": [
    "from fastai.vision.all import *"
   ]
  },
  {
   "cell_type": "code",
   "execution_count": 2,
   "id": "alpine-ranch",
   "metadata": {},
   "outputs": [],
   "source": [
    "PATH = Path('../input/optiver-realized-volatility-prediction')\n",
    "\n",
    "# data_df = pd.read_parquet(PATH/'book_train_reindexed.parquet')\n",
    "\n",
    "# sizes = ['bid_size1', 'bid_size2', 'ask_size1', 'ask_size2']\n",
    "# for sz in sizes:\n",
    "#     data_df[sz] = data_df[sz]/ 1_000_000\n",
    "\n"
   ]
  },
  {
   "cell_type": "code",
   "execution_count": 3,
   "id": "disturbed-myanmar",
   "metadata": {},
   "outputs": [],
   "source": [
    "#train_df = pd.read_csv(PATH/'train_with_offset.csv')\n",
    "# data_df['wap'] = (data_df.bid_price1 * data_df.ask_size1 + data_df.ask_price1 * data_df.bid_size1) / (data_df.ask_size1 + data_df.bid_size1)\n",
    "\n",
    "# mean_wap =[]\n",
    "# for row in train_df.itertuples():\n",
    "#     df = data_df.iloc[row.offset:row.offset+600]\n",
    "#     mean_wap.append(df.wap.mean())"
   ]
  },
  {
   "cell_type": "code",
   "execution_count": 4,
   "id": "selected-profit",
   "metadata": {},
   "outputs": [],
   "source": [
    "# train_df['mean_wap']=mean_wap\n",
    "# train_df.to_csv(PATH/'train_with_wap.csv')"
   ]
  },
  {
   "cell_type": "code",
   "execution_count": 5,
   "id": "infectious-spice",
   "metadata": {},
   "outputs": [],
   "source": [
    "# np_data = data_df[['bid_price1', 'ask_price1', 'bid_size1', 'ask_size1','bid_price2', 'ask_price2', 'bid_size2', 'ask_size2']].to_numpy()\n",
    "\n",
    "# del data_df\n",
    "\n",
    "# np_data = np_data.astype('float32')\n",
    "# torch_data = torch.tensor(np_data)\n",
    "\n",
    "# del np_data\n",
    "\n",
    "# torch.save(torch_data, PATH/'torch_data.pth')"
   ]
  },
  {
   "cell_type": "code",
   "execution_count": 6,
   "id": "laden-tobago",
   "metadata": {},
   "outputs": [
    {
     "name": "stdout",
     "output_type": "stream",
     "text": [
      "CPU times: user 0 ns, sys: 12.1 s, total: 12.1 s\n",
      "Wall time: 2min 1s\n"
     ]
    }
   ],
   "source": [
    "%%time\n",
    "torch_data = torch.load(PATH/'torch_data.pth')"
   ]
  },
  {
   "cell_type": "code",
   "execution_count": 7,
   "id": "minimal-earth",
   "metadata": {},
   "outputs": [],
   "source": [
    "means, stds = torch_data.mean(dim=0), torch_data.std(dim=0)\n",
    "\n",
    "torch_data = (torch_data - means) / stds"
   ]
  },
  {
   "cell_type": "code",
   "execution_count": 8,
   "id": "intensive-union",
   "metadata": {},
   "outputs": [],
   "source": [
    "train_df = pd.read_csv(PATH/'train_with_wap.csv')"
   ]
  },
  {
   "cell_type": "code",
   "execution_count": 9,
   "id": "bridal-location",
   "metadata": {},
   "outputs": [
    {
     "name": "stdout",
     "output_type": "stream",
     "text": [
      "0.9172531180048944 0.9971951138775056 0.9956492523836432\n",
      "0.9971951327900604 0.9984703256953886 0.9979708959569917\n",
      "0.9984703751656142 0.9991431543863876 0.9988451162091514\n",
      "0.9991431683337992 0.999616836138266 0.9993924853218963\n",
      "0.9996168497680276 1.0000141933324718 0.9998199779860442\n",
      "1.0000141975255898 1.0004091980748968 1.00020793857736\n",
      "1.0004091986325243 1.000876884050013 1.0006291062379966\n",
      "1.0008769297217603 1.0015230362748495 1.0011664016312456\n",
      "1.0015230933064834 1.002768629281105 1.0020189286622183\n",
      "1.0027686365447124 1.077264872305151 1.004330146304397\n"
     ]
    }
   ],
   "source": [
    "w = train_df.mean_wap.to_numpy()\n",
    "\n",
    "w =np.sort(w)\n",
    "\n",
    "bins = []\n",
    "\n",
    "step = (len(w)+9)//10\n",
    "for i in range(0, len(w), step):\n",
    "    j = min(i+step, len(w))\n",
    "    bins.append(w[j] if j< len(w) else 2)\n",
    "    print(w[i], w[j-1],np.median(w[i:j]) )\n",
    "\n",
    "wap_bin = np.digitize(train_df.mean_wap, bins)\n",
    "\n",
    "train_df['wap_bin']=wap_bin"
   ]
  },
  {
   "cell_type": "code",
   "execution_count": 10,
   "id": "lined-prayer",
   "metadata": {},
   "outputs": [
    {
     "name": "stdout",
     "output_type": "stream",
     "text": [
      "0.000105263 0.001436988 0.001175852\n",
      "0.001436991 0.001838282 0.0016455530000000001\n",
      "0.001838308 0.002210492 0.0020263215\n",
      "0.002210493 0.002604845 0.00240206\n",
      "0.002604847 0.003048064 0.002817908\n",
      "0.003048071 0.003585089 0.0033027735\n",
      "0.003585105 0.00428704 0.003905317\n",
      "0.004287042 0.005311553 0.0047378975\n",
      "0.005311559 0.007240946 0.0060829544999999995\n",
      "0.007240976 0.07032062 0.009453786499999998\n"
     ]
    }
   ],
   "source": [
    "w = train_df.target.to_numpy()\n",
    "\n",
    "w =np.sort(w)\n",
    "\n",
    "bins = []\n",
    "bin_med=[]\n",
    "step = (len(w)+9)//10\n",
    "for i in range(0, len(w), step):\n",
    "    j = min(i+step, len(w))\n",
    "    bins.append(w[j] if j< len(w) else 1)\n",
    "    bin_med.append(np.median(w[i:j]))\n",
    "    print(w[i], w[j-1],np.median(w[i:j]) )\n",
    "\n",
    "target_bin = np.digitize(train_df.target, bins)\n",
    "\n",
    "train_df['target_bin']=target_bin"
   ]
  },
  {
   "cell_type": "code",
   "execution_count": 11,
   "id": "computational-vacuum",
   "metadata": {},
   "outputs": [],
   "source": [
    "class Conv8(nn.Module):\n",
    "    def __init__(self, ch_in, ch_out):\n",
    "        super().__init__()\n",
    "        self.conv = nn.Conv2d(ch_in, ch_out * 8, kernel_size=(3,8), padding=(1,0))\n",
    "        self.bn = nn.BatchNorm2d(ch_out)\n",
    "        \n",
    "    def forward(self, x):\n",
    "        x = self.conv(x)\n",
    "        ch = x.shape[1]\n",
    "        step = ch // 8\n",
    "        parts = [x[:,i:i+step,:,:] for i in range(0, ch, step)]\n",
    "        res = torch.cat(parts, dim=3)\n",
    "        res = self.bn(res)\n",
    "        #res = F.dropout(res)\n",
    "        res = F.relu(res)\n",
    "        return res\n",
    "\n",
    "class ConvModel(nn.Module):\n",
    "    def __init__(self, num_outputs=1):\n",
    "        super().__init__()\n",
    "        #sizes = [1,8,8,16,16,32,32,64,64]\n",
    "        #sizes = [1,2,4,8,16,32,64,128,256]\n",
    "        sizes = [1,16,16,32,32,64,64,128,128]\n",
    "        mp = nn.MaxPool2d(kernel_size = (2,1))\n",
    "        layers = []\n",
    "        for c_in, c_out in zip(sizes, sizes[1:]):\n",
    "            layers.append(Conv8(c_in, c_out))\n",
    "            layers.append(mp)\n",
    "        layers.append(Flatten())\n",
    "        layers.append(nn.Dropout())\n",
    "        layers.append(nn.Linear(2*8*sizes[-1], num_outputs))\n",
    "        #layers.append(SigmoidRange(0,1))\n",
    "        self.layers = nn.Sequential(*layers)\n",
    "    def forward(self, x):\n",
    "        return self.layers(x)\n",
    "        "
   ]
  },
  {
   "cell_type": "code",
   "execution_count": 12,
   "id": "overall-strengthening",
   "metadata": {},
   "outputs": [],
   "source": [
    "class ResBlock(nn.Module):\n",
    "    def __init__(self, ch):\n",
    "        super().__init__()\n",
    "        self.conv1 = nn.Conv2d(ch, ch, kernel_size = (3,1), padding = (1,0))\n",
    "        self.conv2 = nn.Conv2d(ch, ch, kernel_size = (3,1), padding = (1,0))\n",
    "        self.bn1 = nn.BatchNorm2d(ch)\n",
    "        self.bn2 = nn.BatchNorm2d(ch)\n",
    "    def forward(self, x):\n",
    "        res = self.conv1(x)\n",
    "        res = self.bn1(res)\n",
    "        res = F.relu(res)\n",
    "        res = self.conv2(res)\n",
    "        res = self.bn2(res)\n",
    "        res += x\n",
    "        res = F.relu(res)\n",
    "        return res"
   ]
  },
  {
   "cell_type": "code",
   "execution_count": 64,
   "id": "green-publication",
   "metadata": {},
   "outputs": [],
   "source": [
    "class ResnetModel(nn.Module):\n",
    "    def __init__(self, num_outputs):\n",
    "        super().__init__()\n",
    "        self.layers = nn.Sequential(\n",
    "            nn.Conv2d(1,16, kernel_size=(3,8), padding=(1,0)),\n",
    "            nn.BatchNorm2d(16),\n",
    "            nn.ReLU(),\n",
    "            ResBlock(16),\n",
    "            nn.AvgPool2d((2,1)),\n",
    "            nn.Conv2d(16,32, (1,1)),\n",
    "            nn.BatchNorm2d(32),\n",
    "            nn.ReLU(),\n",
    "            ResBlock(32),\n",
    "            nn.AvgPool2d((2,1)),\n",
    "            ResBlock(32),\n",
    "            nn.AvgPool2d((2,1)),\n",
    "            ResBlock(32),\n",
    "            nn.AvgPool2d((2,1)),\n",
    "            ResBlock(32),\n",
    "            nn.AvgPool2d((2,1)),\n",
    "            ResBlock(32),\n",
    "            nn.AvgPool2d((2,1)),\n",
    "            ResBlock(32),\n",
    "            nn.Conv2d(32,64, (1,1)),\n",
    "            ResBlock(64),\n",
    "            nn.AvgPool2d((2,1)),\n",
    "            ResBlock(64),\n",
    "            \n",
    "            Flatten(),\n",
    "            nn.Dropout(),\n",
    "            nn.Linear(256, num_outputs)\n",
    "        )\n",
    "    def forward(self, x):\n",
    "        return self.layers(x)"
   ]
  },
  {
   "cell_type": "code",
   "execution_count": 65,
   "id": "faced-republican",
   "metadata": {},
   "outputs": [],
   "source": [
    "class LoadTransform(Transform):\n",
    "    def __init__(self, torch_data):\n",
    "        super().__init__()\n",
    "        self.data = torch_data\n",
    "        \n",
    "    def encodes(self, row):\n",
    "        #df = self.data.iloc[row.offset:row.offset+600]\n",
    "        #ret = df[['bid_price1', 'ask_price1', 'bid_size1', 'ask_size1','bid_price2', 'ask_price2', 'bid_size2', 'ask_size2']].to_numpy()\n",
    "        #ret = ret.reshape(1,600,8).astype('float32')\n",
    "        ret = self.data[row.offset:row.offset+600]\n",
    "        return ret.view(1,600,8)\n",
    "\n",
    "tfm = LoadTransform(torch_data)\n",
    "\n",
    "data_block = DataBlock(\n",
    "        blocks = (TransformBlock(type_tfms=tfm), \n",
    "                  #RegressionBlock()),\n",
    "                  CategoryBlock(vocab=list(range(10)))),\n",
    "        splitter=ColSplitter(),\n",
    "        #get_y=ColReader('target'),\n",
    "        #get_y=ColReader('wap_bin'),\n",
    "        get_y=ColReader('target_bin'),\n",
    ")\n",
    "dls = data_block.dataloaders(train_df, bs=512)"
   ]
  },
  {
   "cell_type": "code",
   "execution_count": 66,
   "id": "vertical-bacon",
   "metadata": {},
   "outputs": [],
   "source": [
    "bx,by = dls.one_batch()"
   ]
  },
  {
   "cell_type": "code",
   "execution_count": 67,
   "id": "desirable-print",
   "metadata": {},
   "outputs": [
    {
     "data": {
      "text/plain": [
       "torch.Size([512, 10])"
      ]
     },
     "execution_count": 67,
     "metadata": {},
     "output_type": "execute_result"
    }
   ],
   "source": [
    "ResnetModel(10).cuda()(bx).shape"
   ]
  },
  {
   "cell_type": "code",
   "execution_count": 68,
   "id": "hazardous-printer",
   "metadata": {},
   "outputs": [],
   "source": [
    "def rmspe(preds, targs):\n",
    "    x = (targs-preds)/targs\n",
    "    return (x**2).mean().sqrt()"
   ]
  },
  {
   "cell_type": "code",
   "execution_count": 69,
   "id": "resident-liver",
   "metadata": {},
   "outputs": [],
   "source": [
    "def mspe_loss(preds, targs):\n",
    "    x = (targs-preds)/targs\n",
    "    return (x**2).mean()"
   ]
  },
  {
   "cell_type": "code",
   "execution_count": 70,
   "id": "aware-focus",
   "metadata": {},
   "outputs": [],
   "source": [
    "def rmspe_loss(preds, targs):\n",
    "    x = (targs-preds)/targs\n",
    "    return (x**2).mean().sqrt()"
   ]
  },
  {
   "cell_type": "code",
   "execution_count": 71,
   "id": "figured-praise",
   "metadata": {},
   "outputs": [],
   "source": [
    "#learn = Learner(dls, ConvModel(),loss_func=mspe_loss, metrics=AccumMetric(rmspe))\n",
    "learn = Learner(dls, ResnetModel(10), metrics = [accuracy])"
   ]
  },
  {
   "cell_type": "code",
   "execution_count": 48,
   "id": "abandoned-phenomenon",
   "metadata": {},
   "outputs": [
    {
     "data": {
      "text/html": [],
      "text/plain": [
       "<IPython.core.display.HTML object>"
      ]
     },
     "metadata": {},
     "output_type": "display_data"
    },
    {
     "data": {
      "text/plain": [
       "SuggestedLRs(lr_min=0.09120108485221863, lr_steep=0.007585775572806597)"
      ]
     },
     "execution_count": 48,
     "metadata": {},
     "output_type": "execute_result"
    },
    {
     "data": {
      "image/png": "[encoded data removed]",
      "text/plain": [
       "<Figure size 432x288 with 1 Axes>"
      ]
     },
     "metadata": {
      "needs_background": "light"
     },
     "output_type": "display_data"
    }
   ],
   "source": [
    "learn.lr_find()"
   ]
  },
  {
   "cell_type": "code",
   "execution_count": 72,
   "id": "american-citation",
   "metadata": {},
   "outputs": [
    {
     "data": {
      "text/html": [
       "<table border=\"1\" class=\"dataframe\">\n",
       "  <thead>\n",
       "    <tr style=\"text-align: left;\">\n",
       "      <th>epoch</th>\n",
       "      <th>train_loss</th>\n",
       "      <th>valid_loss</th>\n",
       "      <th>accuracy</th>\n",
       "      <th>time</th>\n",
       "    </tr>\n",
       "  </thead>\n",
       "  <tbody>\n",
       "    <tr>\n",
       "      <td>0</td>\n",
       "      <td>1.594224</td>\n",
       "      <td>1.584251</td>\n",
       "      <td>0.358819</td>\n",
       "      <td>00:30</td>\n",
       "    </tr>\n",
       "    <tr>\n",
       "      <td>1</td>\n",
       "      <td>1.541635</td>\n",
       "      <td>1.504697</td>\n",
       "      <td>0.378446</td>\n",
       "      <td>00:31</td>\n",
       "    </tr>\n",
       "    <tr>\n",
       "      <td>2</td>\n",
       "      <td>1.516148</td>\n",
       "      <td>1.650118</td>\n",
       "      <td>0.342620</td>\n",
       "      <td>00:31</td>\n",
       "    </tr>\n",
       "    <tr>\n",
       "      <td>3</td>\n",
       "      <td>1.493554</td>\n",
       "      <td>2.027979</td>\n",
       "      <td>0.225140</td>\n",
       "      <td>00:31</td>\n",
       "    </tr>\n",
       "    <tr>\n",
       "      <td>4</td>\n",
       "      <td>1.481364</td>\n",
       "      <td>1.789611</td>\n",
       "      <td>0.287595</td>\n",
       "      <td>00:32</td>\n",
       "    </tr>\n",
       "    <tr>\n",
       "      <td>5</td>\n",
       "      <td>1.466733</td>\n",
       "      <td>3.236051</td>\n",
       "      <td>0.207685</td>\n",
       "      <td>00:32</td>\n",
       "    </tr>\n",
       "    <tr>\n",
       "      <td>6</td>\n",
       "      <td>1.467217</td>\n",
       "      <td>2.311424</td>\n",
       "      <td>0.197829</td>\n",
       "      <td>00:32</td>\n",
       "    </tr>\n",
       "    <tr>\n",
       "      <td>7</td>\n",
       "      <td>1.451070</td>\n",
       "      <td>1.727887</td>\n",
       "      <td>0.297536</td>\n",
       "      <td>00:32</td>\n",
       "    </tr>\n",
       "    <tr>\n",
       "      <td>8</td>\n",
       "      <td>1.442632</td>\n",
       "      <td>1.643936</td>\n",
       "      <td>0.340266</td>\n",
       "      <td>00:32</td>\n",
       "    </tr>\n",
       "    <tr>\n",
       "      <td>9</td>\n",
       "      <td>1.427309</td>\n",
       "      <td>2.026931</td>\n",
       "      <td>0.257392</td>\n",
       "      <td>00:32</td>\n",
       "    </tr>\n",
       "    <tr>\n",
       "      <td>10</td>\n",
       "      <td>1.415873</td>\n",
       "      <td>1.597311</td>\n",
       "      <td>0.353964</td>\n",
       "      <td>00:32</td>\n",
       "    </tr>\n",
       "    <tr>\n",
       "      <td>11</td>\n",
       "      <td>1.410177</td>\n",
       "      <td>1.591688</td>\n",
       "      <td>0.359393</td>\n",
       "      <td>00:31</td>\n",
       "    </tr>\n",
       "  </tbody>\n",
       "</table>"
      ],
      "text/plain": [
       "<IPython.core.display.HTML object>"
      ]
     },
     "metadata": {},
     "output_type": "display_data"
    }
   ],
   "source": [
    "learn.fit_one_cycle(12,1e-2, wd=.2)"
   ]
  },
  {
   "cell_type": "code",
   "execution_count": 56,
   "id": "upset-premium",
   "metadata": {},
   "outputs": [
    {
     "data": {
      "text/plain": [
       "Path('models/res_model1.pth.pth')"
      ]
     },
     "execution_count": 56,
     "metadata": {},
     "output_type": "execute_result"
    }
   ],
   "source": [
    "learn.save('res_model1.pth')"
   ]
  },
  {
   "cell_type": "code",
   "execution_count": 57,
   "id": "literary-somerset",
   "metadata": {},
   "outputs": [
    {
     "data": {
      "text/html": [
       "<table border=\"1\" class=\"dataframe\">\n",
       "  <thead>\n",
       "    <tr style=\"text-align: left;\">\n",
       "      <th>epoch</th>\n",
       "      <th>train_loss</th>\n",
       "      <th>valid_loss</th>\n",
       "      <th>accuracy</th>\n",
       "      <th>time</th>\n",
       "    </tr>\n",
       "  </thead>\n",
       "  <tbody>\n",
       "    <tr>\n",
       "      <td>0</td>\n",
       "      <td>1.550813</td>\n",
       "      <td>1.838840</td>\n",
       "      <td>0.279019</td>\n",
       "      <td>06:40</td>\n",
       "    </tr>\n",
       "    <tr>\n",
       "      <td>1</td>\n",
       "      <td>1.552859</td>\n",
       "      <td>1.552302</td>\n",
       "      <td>0.364003</td>\n",
       "      <td>06:40</td>\n",
       "    </tr>\n",
       "    <tr>\n",
       "      <td>2</td>\n",
       "      <td>1.559559</td>\n",
       "      <td>1.987477</td>\n",
       "      <td>0.268639</td>\n",
       "      <td>06:41</td>\n",
       "    </tr>\n",
       "    <tr>\n",
       "      <td>3</td>\n",
       "      <td>1.550203</td>\n",
       "      <td>2.279363</td>\n",
       "      <td>0.233215</td>\n",
       "      <td>06:40</td>\n",
       "    </tr>\n",
       "    <tr>\n",
       "      <td>4</td>\n",
       "      <td>1.543883</td>\n",
       "      <td>1.830157</td>\n",
       "      <td>0.284350</td>\n",
       "      <td>06:40</td>\n",
       "    </tr>\n",
       "    <tr>\n",
       "      <td>5</td>\n",
       "      <td>1.549478</td>\n",
       "      <td>2.768147</td>\n",
       "      <td>0.189949</td>\n",
       "      <td>06:40</td>\n",
       "    </tr>\n",
       "    <tr>\n",
       "      <td>6</td>\n",
       "      <td>1.541609</td>\n",
       "      <td>1.552478</td>\n",
       "      <td>0.364589</td>\n",
       "      <td>06:40</td>\n",
       "    </tr>\n",
       "    <tr>\n",
       "      <td>7</td>\n",
       "      <td>1.543018</td>\n",
       "      <td>2.180596</td>\n",
       "      <td>0.241620</td>\n",
       "      <td>06:41</td>\n",
       "    </tr>\n",
       "    <tr>\n",
       "      <td>8</td>\n",
       "      <td>1.530661</td>\n",
       "      <td>2.036556</td>\n",
       "      <td>0.263503</td>\n",
       "      <td>06:40</td>\n",
       "    </tr>\n",
       "    <tr>\n",
       "      <td>9</td>\n",
       "      <td>1.536412</td>\n",
       "      <td>1.539069</td>\n",
       "      <td>0.372505</td>\n",
       "      <td>06:40</td>\n",
       "    </tr>\n",
       "    <tr>\n",
       "      <td>10</td>\n",
       "      <td>1.516827</td>\n",
       "      <td>1.504620</td>\n",
       "      <td>0.383386</td>\n",
       "      <td>06:40</td>\n",
       "    </tr>\n",
       "    <tr>\n",
       "      <td>11</td>\n",
       "      <td>1.523433</td>\n",
       "      <td>1.505787</td>\n",
       "      <td>0.383106</td>\n",
       "      <td>06:40</td>\n",
       "    </tr>\n",
       "  </tbody>\n",
       "</table>"
      ],
      "text/plain": [
       "<IPython.core.display.HTML object>"
      ]
     },
     "metadata": {},
     "output_type": "display_data"
    }
   ],
   "source": [
    "learn.fit_one_cycle(12,1e-5, wd=.2)"
   ]
  },
  {
   "cell_type": "code",
   "execution_count": 58,
   "id": "proud-weight",
   "metadata": {},
   "outputs": [
    {
     "data": {
      "text/plain": [
       "Path('models/res_model2.pth.pth')"
      ]
     },
     "execution_count": 58,
     "metadata": {},
     "output_type": "execute_result"
    }
   ],
   "source": [
    "learn.save('res_model2.pth')"
   ]
  },
  {
   "cell_type": "code",
   "execution_count": 161,
   "id": "upper-december",
   "metadata": {},
   "outputs": [
    {
     "data": {
      "text/html": [
       "<table border=\"1\" class=\"dataframe\">\n",
       "  <thead>\n",
       "    <tr style=\"text-align: left;\">\n",
       "      <th>epoch</th>\n",
       "      <th>train_loss</th>\n",
       "      <th>valid_loss</th>\n",
       "      <th>accuracy</th>\n",
       "      <th>time</th>\n",
       "    </tr>\n",
       "  </thead>\n",
       "  <tbody>\n",
       "    <tr>\n",
       "      <td>0</td>\n",
       "      <td>1.597209</td>\n",
       "      <td>2.077627</td>\n",
       "      <td>0.228922</td>\n",
       "      <td>01:20</td>\n",
       "    </tr>\n",
       "    <tr>\n",
       "      <td>1</td>\n",
       "      <td>1.609287</td>\n",
       "      <td>1.729885</td>\n",
       "      <td>0.296658</td>\n",
       "      <td>01:20</td>\n",
       "    </tr>\n",
       "    <tr>\n",
       "      <td>2</td>\n",
       "      <td>1.617028</td>\n",
       "      <td>1.950104</td>\n",
       "      <td>0.252964</td>\n",
       "      <td>01:21</td>\n",
       "    </tr>\n",
       "    <tr>\n",
       "      <td>3</td>\n",
       "      <td>1.602081</td>\n",
       "      <td>3.000583</td>\n",
       "      <td>0.173920</td>\n",
       "      <td>01:21</td>\n",
       "    </tr>\n",
       "    <tr>\n",
       "      <td>4</td>\n",
       "      <td>1.606294</td>\n",
       "      <td>2.774225</td>\n",
       "      <td>0.174787</td>\n",
       "      <td>01:19</td>\n",
       "    </tr>\n",
       "    <tr>\n",
       "      <td>5</td>\n",
       "      <td>1.600084</td>\n",
       "      <td>2.167487</td>\n",
       "      <td>0.247243</td>\n",
       "      <td>01:19</td>\n",
       "    </tr>\n",
       "    <tr>\n",
       "      <td>6</td>\n",
       "      <td>1.590643</td>\n",
       "      <td>1.688386</td>\n",
       "      <td>0.333520</td>\n",
       "      <td>01:19</td>\n",
       "    </tr>\n",
       "    <tr>\n",
       "      <td>7</td>\n",
       "      <td>1.590177</td>\n",
       "      <td>1.895393</td>\n",
       "      <td>0.266870</td>\n",
       "      <td>01:19</td>\n",
       "    </tr>\n",
       "    <tr>\n",
       "      <td>8</td>\n",
       "      <td>1.589354</td>\n",
       "      <td>2.055529</td>\n",
       "      <td>0.243291</td>\n",
       "      <td>01:20</td>\n",
       "    </tr>\n",
       "    <tr>\n",
       "      <td>9</td>\n",
       "      <td>1.572543</td>\n",
       "      <td>1.605879</td>\n",
       "      <td>0.350573</td>\n",
       "      <td>01:19</td>\n",
       "    </tr>\n",
       "    <tr>\n",
       "      <td>10</td>\n",
       "      <td>1.571130</td>\n",
       "      <td>1.569490</td>\n",
       "      <td>0.359454</td>\n",
       "      <td>01:19</td>\n",
       "    </tr>\n",
       "    <tr>\n",
       "      <td>11</td>\n",
       "      <td>1.583061</td>\n",
       "      <td>1.565210</td>\n",
       "      <td>0.361759</td>\n",
       "      <td>01:20</td>\n",
       "    </tr>\n",
       "  </tbody>\n",
       "</table>"
      ],
      "text/plain": [
       "<IPython.core.display.HTML object>"
      ]
     },
     "metadata": {},
     "output_type": "display_data"
    }
   ],
   "source": [
    "learn.fit_one_cycle(12,1e-4, wd=.2)"
   ]
  },
  {
   "cell_type": "code",
   "execution_count": 169,
   "id": "worldwide-incidence",
   "metadata": {},
   "outputs": [
    {
     "data": {
      "text/html": [
       "<table border=\"1\" class=\"dataframe\">\n",
       "  <thead>\n",
       "    <tr style=\"text-align: left;\">\n",
       "      <th>epoch</th>\n",
       "      <th>train_loss</th>\n",
       "      <th>valid_loss</th>\n",
       "      <th>accuracy</th>\n",
       "      <th>time</th>\n",
       "    </tr>\n",
       "  </thead>\n",
       "  <tbody>\n",
       "    <tr>\n",
       "      <td>0</td>\n",
       "      <td>1.578581</td>\n",
       "      <td>1.567301</td>\n",
       "      <td>0.360722</td>\n",
       "      <td>01:20</td>\n",
       "    </tr>\n",
       "    <tr>\n",
       "      <td>1</td>\n",
       "      <td>1.584059</td>\n",
       "      <td>3.701735</td>\n",
       "      <td>0.133533</td>\n",
       "      <td>01:21</td>\n",
       "    </tr>\n",
       "    <tr>\n",
       "      <td>2</td>\n",
       "      <td>1.584336</td>\n",
       "      <td>1.606512</td>\n",
       "      <td>0.348805</td>\n",
       "      <td>01:21</td>\n",
       "    </tr>\n",
       "    <tr>\n",
       "      <td>3</td>\n",
       "      <td>1.595317</td>\n",
       "      <td>3.025112</td>\n",
       "      <td>0.163223</td>\n",
       "      <td>01:21</td>\n",
       "    </tr>\n",
       "    <tr>\n",
       "      <td>4</td>\n",
       "      <td>1.591235</td>\n",
       "      <td>1.813334</td>\n",
       "      <td>0.264577</td>\n",
       "      <td>01:19</td>\n",
       "    </tr>\n",
       "    <tr>\n",
       "      <td>5</td>\n",
       "      <td>1.584900</td>\n",
       "      <td>2.440204</td>\n",
       "      <td>0.226738</td>\n",
       "      <td>01:19</td>\n",
       "    </tr>\n",
       "    <tr>\n",
       "      <td>6</td>\n",
       "      <td>1.594958</td>\n",
       "      <td>3.140395</td>\n",
       "      <td>0.177324</td>\n",
       "      <td>01:22</td>\n",
       "    </tr>\n",
       "    <tr>\n",
       "      <td>7</td>\n",
       "      <td>1.585306</td>\n",
       "      <td>2.687588</td>\n",
       "      <td>0.199000</td>\n",
       "      <td>01:21</td>\n",
       "    </tr>\n",
       "    <tr>\n",
       "      <td>8</td>\n",
       "      <td>1.586845</td>\n",
       "      <td>1.723637</td>\n",
       "      <td>0.298365</td>\n",
       "      <td>01:21</td>\n",
       "    </tr>\n",
       "    <tr>\n",
       "      <td>9</td>\n",
       "      <td>1.579450</td>\n",
       "      <td>2.046695</td>\n",
       "      <td>0.277116</td>\n",
       "      <td>01:21</td>\n",
       "    </tr>\n",
       "    <tr>\n",
       "      <td>10</td>\n",
       "      <td>1.580920</td>\n",
       "      <td>2.226045</td>\n",
       "      <td>0.224604</td>\n",
       "      <td>01:20</td>\n",
       "    </tr>\n",
       "    <tr>\n",
       "      <td>11</td>\n",
       "      <td>1.570787</td>\n",
       "      <td>1.606401</td>\n",
       "      <td>0.344255</td>\n",
       "      <td>01:19</td>\n",
       "    </tr>\n",
       "    <tr>\n",
       "      <td>12</td>\n",
       "      <td>1.572529</td>\n",
       "      <td>2.193068</td>\n",
       "      <td>0.236936</td>\n",
       "      <td>01:19</td>\n",
       "    </tr>\n",
       "    <tr>\n",
       "      <td>13</td>\n",
       "      <td>1.562482</td>\n",
       "      <td>1.869460</td>\n",
       "      <td>0.285460</td>\n",
       "      <td>01:19</td>\n",
       "    </tr>\n",
       "    <tr>\n",
       "      <td>14</td>\n",
       "      <td>1.565742</td>\n",
       "      <td>1.841064</td>\n",
       "      <td>0.274286</td>\n",
       "      <td>01:19</td>\n",
       "    </tr>\n",
       "    <tr>\n",
       "      <td>15</td>\n",
       "      <td>1.559203</td>\n",
       "      <td>1.721743</td>\n",
       "      <td>0.314857</td>\n",
       "      <td>01:20</td>\n",
       "    </tr>\n",
       "    <tr>\n",
       "      <td>16</td>\n",
       "      <td>1.558308</td>\n",
       "      <td>1.542521</td>\n",
       "      <td>0.370359</td>\n",
       "      <td>01:22</td>\n",
       "    </tr>\n",
       "    <tr>\n",
       "      <td>17</td>\n",
       "      <td>1.550035</td>\n",
       "      <td>1.539251</td>\n",
       "      <td>0.372993</td>\n",
       "      <td>01:22</td>\n",
       "    </tr>\n",
       "    <tr>\n",
       "      <td>18</td>\n",
       "      <td>1.559699</td>\n",
       "      <td>1.534657</td>\n",
       "      <td>0.372140</td>\n",
       "      <td>01:21</td>\n",
       "    </tr>\n",
       "    <tr>\n",
       "      <td>19</td>\n",
       "      <td>1.556634</td>\n",
       "      <td>1.534550</td>\n",
       "      <td>0.373359</td>\n",
       "      <td>01:21</td>\n",
       "    </tr>\n",
       "  </tbody>\n",
       "</table>"
      ],
      "text/plain": [
       "<IPython.core.display.HTML object>"
      ]
     },
     "metadata": {},
     "output_type": "display_data"
    }
   ],
   "source": [
    "learn.fit_one_cycle(20,1e-4, wd=.2)"
   ]
  },
  {
   "cell_type": "code",
   "execution_count": 73,
   "id": "complicated-kazakhstan",
   "metadata": {},
   "outputs": [
    {
     "data": {
      "text/html": [],
      "text/plain": [
       "<IPython.core.display.HTML object>"
      ]
     },
     "metadata": {},
     "output_type": "display_data"
    }
   ],
   "source": [
    "preds, targs = learn.get_preds()"
   ]
  },
  {
   "cell_type": "code",
   "execution_count": 74,
   "id": "engaged-teddy",
   "metadata": {},
   "outputs": [],
   "source": [
    "predicted_bins = torch.argmax(preds, dim=1)"
   ]
  },
  {
   "cell_type": "code",
   "execution_count": 34,
   "id": "human-progressive",
   "metadata": {},
   "outputs": [
    {
     "data": {
      "text/html": [],
      "text/plain": [
       "<IPython.core.display.HTML object>"
      ]
     },
     "metadata": {},
     "output_type": "display_data"
    }
   ],
   "source": [
    "CI = ClassificationInterpretation.from_learner(learn)"
   ]
  },
  {
   "cell_type": "code",
   "execution_count": 35,
   "id": "governing-satisfaction",
   "metadata": {},
   "outputs": [
    {
     "data": {
      "image/png": "[encoded data removed]",
      "text/plain": [
       "<Figure size 432x288 with 1 Axes>"
      ]
     },
     "metadata": {
      "needs_background": "light"
     },
     "output_type": "display_data"
    }
   ],
   "source": [
    "CI.plot_confusion_matrix()"
   ]
  },
  {
   "cell_type": "code",
   "execution_count": 75,
   "id": "ignored-monster",
   "metadata": {},
   "outputs": [],
   "source": [
    "pred_vals =torch.tensor(bin_med)[predicted_bins]"
   ]
  },
  {
   "cell_type": "code",
   "execution_count": 76,
   "id": "micro-decimal",
   "metadata": {},
   "outputs": [],
   "source": [
    "target_vals = dls.valid.items.target.to_numpy()\n",
    "target_vals = torch.tensor(target_vals)"
   ]
  },
  {
   "cell_type": "code",
   "execution_count": 77,
   "id": "harmful-edmonton",
   "metadata": {},
   "outputs": [
    {
     "data": {
      "text/plain": [
       "(tensor([0.0028, 0.0016, 0.0016, 0.0020, 0.0039, 0.0024, 0.0016, 0.0095, 0.0028,\n",
       "         0.0039], dtype=torch.float64),\n",
       " tensor([0.0037, 0.0018, 0.0021, 0.0021, 0.0040, 0.0032, 0.0030, 0.0135, 0.0037,\n",
       "         0.0054], dtype=torch.float64))"
      ]
     },
     "execution_count": 77,
     "metadata": {},
     "output_type": "execute_result"
    }
   ],
   "source": [
    "pred_vals[:10], target_vals[:10]"
   ]
  },
  {
   "cell_type": "code",
   "execution_count": 78,
   "id": "collected-training",
   "metadata": {},
   "outputs": [
    {
     "data": {
      "text/plain": [
       "tensor(0.2896, dtype=torch.float64)"
      ]
     },
     "execution_count": 78,
     "metadata": {},
     "output_type": "execute_result"
    }
   ],
   "source": [
    "rmspe(pred_vals, target_vals)"
   ]
  },
  {
   "cell_type": "code",
   "execution_count": null,
   "id": "awful-insert",
   "metadata": {},
   "outputs": [],
   "source": []
  }
 ],
 "metadata": {
  "kernelspec": {
   "display_name": "Python 3.8.5 64-bit ('fastai': conda)",
   "language": "python",
   "name": "python38564bitfastaicondad52d12c5a30a4725bf9d3e235cf1271c"
  },
  "language_info": {
   "codemirror_mode": {
    "name": "ipython",
    "version": 3
   },
   "file_extension": ".py",
   "mimetype": "text/x-python",
   "name": "python",
   "nbconvert_exporter": "python",
   "pygments_lexer": "ipython3",
   "version": "3.8.5"
  }
 },
 "nbformat": 4,
 "nbformat_minor": 5
}
