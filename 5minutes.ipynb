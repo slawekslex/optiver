{
 "cells": [
  {
   "cell_type": "code",
   "execution_count": 1,
   "id": "6566c004",
   "metadata": {},
   "outputs": [],
   "source": [
    "%load_ext autoreload\n",
    "%autoreload 2"
   ]
  },
  {
   "cell_type": "code",
   "execution_count": 2,
   "id": "983c1833",
   "metadata": {},
   "outputs": [],
   "source": [
    "from fastai.tabular.all import *\n",
    "from multiprocessing import Pool\n",
    "from sklearn.model_selection import KFold, GroupKFold\n",
    "import lightgbm as lgb\n",
    "from optiver_features import *\n",
    "import pickle"
   ]
  },
  {
   "cell_type": "code",
   "execution_count": 9,
   "id": "04ba6f1e",
   "metadata": {},
   "outputs": [
    {
     "data": {
      "text/plain": [
       "(2681, 1149)"
      ]
     },
     "execution_count": 9,
     "metadata": {},
     "output_type": "execute_result"
    }
   ],
   "source": [
    "df = pd.read_csv('../input/optiver-realized-volatility-prediction/train.csv')\n",
    "time_ids = df.time_id.unique()\n",
    "np.random.seed(42)\n",
    "np.random.shuffle(time_ids)\n",
    "\n",
    "splt = int(len(time_ids)*.7)\n",
    "train_ids, test_ids = time_ids[:splt], time_ids[splt:]\n",
    "\n",
    "len(train_ids), len(test_ids)"
   ]
  },
  {
   "cell_type": "code",
   "execution_count": 11,
   "id": "decaf8c3",
   "metadata": {},
   "outputs": [
    {
     "data": {
      "text/plain": [
       "0.6999944047075061"
      ]
     },
     "execution_count": 11,
     "metadata": {},
     "output_type": "execute_result"
    }
   ],
   "source": [
    "len(df[df.time_id.isin(train_ids)]) / len(df)"
   ]
  },
  {
   "cell_type": "markdown",
   "id": "2cb4e484",
   "metadata": {},
   "source": [
    "## Generate 5m dataset"
   ]
  },
  {
   "cell_type": "code",
   "execution_count": 12,
   "id": "92abd892",
   "metadata": {},
   "outputs": [],
   "source": [
    "book_feature_dict = {\n",
    "    wap1: [],\n",
    "    wap2: [],\n",
    "    log_return1: [np.std],\n",
    "    log_return2: [np.std],\n",
    "  \n",
    "    price_spread:[np.mean],\n",
    "    total_volume:[np.mean],\n",
    "}\n",
    "trade_feature_dict = {\n",
    "        log_return_price: [np.std],\n",
    "        'seconds_in_bucket':[np.size],\n",
    "        'size':[np.sum],\n",
    "        'order_count':[np.sum],\n",
    "}\n",
    "time_id_features=[]\n",
    "time_id_aggregations = []\n",
    "stock_id_features = []\n",
    "stock_id_aggregations = [time_id_aggregations]\n",
    "time_windows = [(0,300), (0,100), (100,200), (200,300)]"
   ]
  },
  {
   "cell_type": "code",
   "execution_count": 15,
   "id": "64919ee2",
   "metadata": {},
   "outputs": [],
   "source": [
    "def generate_0_to_5():\n",
    "\n",
    "\n",
    "    ofg = OptiverFeatureGenerator(book_feature_dict, trade_feature_dict, time_windows, time_id_features,time_id_aggregations, stock_id_features, stock_id_aggregations)\n",
    "    train_df5m = ofg.generate_train_df()\n",
    "    ofg_targ =OptiverFeatureGenerator({wap1:[], log_return1:[realized_volatility]}, {'seconds_in_bucket':[np.size]}, [(300,600)], [],[],[],[])\n",
    "    targ_df = ofg_targ.generate_train_df()\n",
    "    train_df5m.target = targ_df.log_return1_realized_volatility_300_600\n",
    "    train_df5m.target = train_df5m.target.replace(0, 1e-4)\n",
    "    return train_df5m\n",
    "    "
   ]
  },
  {
   "cell_type": "code",
   "execution_count": 16,
   "id": "dbab7842",
   "metadata": {},
   "outputs": [
    {
     "name": "stdout",
     "output_type": "stream",
     "text": [
      "CPU times: user 2.59 s, sys: 773 ms, total: 3.36 s\n",
      "Wall time: 4min 41s\n"
     ]
    }
   ],
   "source": [
    "%%time\n",
    "train_df5m = generate_0_to_5()"
   ]
  },
  {
   "cell_type": "code",
   "execution_count": 19,
   "id": "d3ada5ca",
   "metadata": {},
   "outputs": [],
   "source": [
    "\n",
    "train_df5m.to_feather('train_5m.feather')"
   ]
  },
  {
   "cell_type": "code",
   "execution_count": 20,
   "id": "bcb2731f",
   "metadata": {},
   "outputs": [],
   "source": [
    "def rename_col(x):\n",
    "    return x.replace('300', '600').replace('200', '500').replace('100', '400').replace('_0', '_300')\n",
    "def rename_col_back(x):\n",
    "    return x.replace('300', '0').replace('400', '100').replace('500', '200').replace('600', '300')\n",
    "\n",
    "def generate_5_to_10():\n",
    "    tw = [(x+300, y+300) for x,y in time_windows]\n",
    "    time_id_feat = [rename_col(x) for x in time_id_features]\n",
    "    stock_id_feat = [rename_col(x) for x in stock_id_features]\n",
    "    ofg = OptiverFeatureGenerator(book_feature_dict, trade_feature_dict, tw, time_id_feat,time_id_aggregations, stock_id_feat, stock_id_aggregations)\n",
    "\n",
    "    df = ofg.generate_train_df()\n",
    "    df.columns = [rename_col_back(x) for x in df.columns]\n",
    "    return df"
   ]
  },
  {
   "cell_type": "code",
   "execution_count": 21,
   "id": "290fb41b",
   "metadata": {},
   "outputs": [],
   "source": [
    "train_df5_10m  = generate_5_to_10()"
   ]
  },
  {
   "cell_type": "code",
   "execution_count": 22,
   "id": "87795d9c",
   "metadata": {},
   "outputs": [],
   "source": [
    "train_df5_10m.to_feather('train_5_10.feather')"
   ]
  },
  {
   "cell_type": "markdown",
   "id": "2351d1c8",
   "metadata": {},
   "source": [
    "## LGBM Baseline"
   ]
  },
  {
   "cell_type": "code",
   "execution_count": 23,
   "id": "bc8a5a40",
   "metadata": {},
   "outputs": [],
   "source": [
    "def rmspe_np(y_true, y_pred):\n",
    "    return np.sqrt(np.mean(np.square((y_true - y_pred) / y_true)))\n",
    "def feval_rmspe(y_pred, lgb_train):\n",
    "    y_true = lgb_train.get_label()\n",
    "    return 'RMSPE', rmspe_np(y_true, y_pred), False\n",
    "\n",
    "def train_models(train):\n",
    "    # Hyperparammeters (optimized)\n",
    "    seed = 29\n",
    "    params = {\n",
    "        'learning_rate': 0.1,        \n",
    "        'lambda_l1': 2,\n",
    "        'lambda_l2': 7,\n",
    "        'num_leaves': 800,\n",
    "        'min_sum_hessian_in_leaf': 20,\n",
    "        'feature_fraction': 0.8,\n",
    "        'feature_fraction_bynode': 0.8,\n",
    "        'bagging_fraction': 0.9,\n",
    "        'bagging_freq': 42,\n",
    "        'min_data_in_leaf': 700,\n",
    "        'max_depth': 4,\n",
    "        'seed': seed,\n",
    "        'feature_fraction_seed': seed,\n",
    "        'bagging_seed': seed,\n",
    "        'drop_seed': seed,\n",
    "        'data_random_seed': seed,\n",
    "        'objective': 'rmse',\n",
    "        'boosting': 'gbdt',\n",
    "        'verbosity': -1,\n",
    "        'n_jobs': -1,\n",
    "    }   \n",
    "    x = train\n",
    "    # Split features and target\n",
    "    for c in ['row_id', 'target', 'time_id']:\n",
    "        if c in x.columns:\n",
    "            x = x.drop(c, axis=1)\n",
    "    \n",
    "    y = train['target']\n",
    "    # Transform stock id to a numeric value\n",
    "    x['stock_id'] = x['stock_id'].astype(int)\n",
    "    models =[]\n",
    "    # Create out of folds array\n",
    "    oof_predictions = np.zeros(x.shape[0])\n",
    "    # Create a KFold object\n",
    "    kfold = GroupKFold()\n",
    "    # Iterate through each fold\n",
    "    for fold, (trn_ind, val_ind) in enumerate(kfold.split(x, groups = train.time_id)):\n",
    "        print(f'Training fold {fold + 1}')\n",
    "        x_train, x_val = x.iloc[trn_ind], x.iloc[val_ind]\n",
    "        y_train, y_val = y.iloc[trn_ind], y.iloc[val_ind]\n",
    "        # Root mean squared percentage error weights\n",
    "        train_weights = 1 / np.square(y_train)\n",
    "        val_weights = 1 / np.square(y_val)\n",
    "        train_dataset = lgb.Dataset(x_train, y_train, weight = train_weights, categorical_feature = ['stock_id'])\n",
    "        val_dataset = lgb.Dataset(x_val, y_val, weight = val_weights, categorical_feature = ['stock_id'])\n",
    "        model = lgb.train(params = params, \n",
    "                          train_set = train_dataset, \n",
    "                          valid_sets = [train_dataset, val_dataset], \n",
    "                          num_boost_round = 3000, \n",
    "                          early_stopping_rounds = 25, \n",
    "                          verbose_eval = 100,\n",
    "                          feval = feval_rmspe)\n",
    "        models.append(model)\n",
    "        # Add predictions to the out of folds array\n",
    "        oof_predictions[val_ind] = model.predict(x_val)\n",
    "        # Predict the test set\n",
    "        #test_predictions += model.predict(x_test) / 10\n",
    "        \n",
    "    rmspe_score = rmspe_np(y, oof_predictions)\n",
    "    print(f'Our out of folds RMSPE is {rmspe_score}')\n",
    "    # Return test predictions\n",
    "    return models"
   ]
  },
  {
   "cell_type": "code",
   "execution_count": 24,
   "id": "d4f6918c",
   "metadata": {},
   "outputs": [
    {
     "name": "stdout",
     "output_type": "stream",
     "text": [
      "Training fold 1\n"
     ]
    },
    {
     "name": "stderr",
     "output_type": "stream",
     "text": [
      "/home/slex/programy/anaconda3/envs/fastai/lib/python3.8/site-packages/lightgbm/basic.py:1996: UserWarning: Using categorical_feature in Dataset.\n",
      "  _log_warning('Using categorical_feature in Dataset.')\n",
      "/home/slex/programy/anaconda3/envs/fastai/lib/python3.8/site-packages/lightgbm/basic.py:1727: UserWarning: Overriding the parameters from Reference Dataset.\n",
      "  _log_warning('Overriding the parameters from Reference Dataset.')\n",
      "/home/slex/programy/anaconda3/envs/fastai/lib/python3.8/site-packages/lightgbm/basic.py:1460: UserWarning: categorical_column in param dict is overridden.\n",
      "  _log_warning(f'{cat_alias} in param dict is overridden.')\n"
     ]
    },
    {
     "name": "stdout",
     "output_type": "stream",
     "text": [
      "Training until validation scores don't improve for 25 rounds\n",
      "[100]\ttraining's rmse: 0.000355186\ttraining's RMSPE: 0.24298\tvalid_1's rmse: 0.000368197\tvalid_1's RMSPE: 0.252232\n",
      "[200]\ttraining's rmse: 0.0003469\ttraining's RMSPE: 0.237312\tvalid_1's rmse: 0.000365066\tvalid_1's RMSPE: 0.250087\n",
      "[300]\ttraining's rmse: 0.000342761\ttraining's RMSPE: 0.234481\tvalid_1's rmse: 0.000363882\tvalid_1's RMSPE: 0.249276\n",
      "[400]\ttraining's rmse: 0.00033963\ttraining's RMSPE: 0.232339\tvalid_1's rmse: 0.000362931\tvalid_1's RMSPE: 0.248625\n",
      "Early stopping, best iteration is:\n",
      "[420]\ttraining's rmse: 0.000339097\ttraining's RMSPE: 0.231974\tvalid_1's rmse: 0.000362848\tvalid_1's RMSPE: 0.248568\n",
      "Training fold 2\n",
      "Training until validation scores don't improve for 25 rounds\n",
      "[100]\ttraining's rmse: 0.000356003\ttraining's RMSPE: 0.243037\tvalid_1's rmse: 0.000371874\tvalid_1's RMSPE: 0.256836\n",
      "[200]\ttraining's rmse: 0.000347838\ttraining's RMSPE: 0.237463\tvalid_1's rmse: 0.00036887\tvalid_1's RMSPE: 0.254761\n",
      "Early stopping, best iteration is:\n",
      "[226]\ttraining's rmse: 0.000346466\ttraining's RMSPE: 0.236526\tvalid_1's rmse: 0.000368179\tvalid_1's RMSPE: 0.254284\n",
      "Training fold 3\n",
      "Training until validation scores don't improve for 25 rounds\n",
      "[100]\ttraining's rmse: 0.000356066\ttraining's RMSPE: 0.243446\tvalid_1's rmse: 0.000369978\tvalid_1's RMSPE: 0.254017\n",
      "[200]\ttraining's rmse: 0.000348332\ttraining's RMSPE: 0.238158\tvalid_1's rmse: 0.000366652\tvalid_1's RMSPE: 0.251734\n",
      "[300]\ttraining's rmse: 0.000343931\ttraining's RMSPE: 0.235149\tvalid_1's rmse: 0.000365137\tvalid_1's RMSPE: 0.250694\n",
      "[400]\ttraining's rmse: 0.000340706\ttraining's RMSPE: 0.232944\tvalid_1's rmse: 0.000364565\tvalid_1's RMSPE: 0.250301\n",
      "Early stopping, best iteration is:\n",
      "[406]\ttraining's rmse: 0.000340549\ttraining's RMSPE: 0.232837\tvalid_1's rmse: 0.000364487\tvalid_1's RMSPE: 0.250247\n",
      "Training fold 4\n",
      "Training until validation scores don't improve for 25 rounds\n",
      "[100]\ttraining's rmse: 0.000355099\ttraining's RMSPE: 0.244052\tvalid_1's rmse: 0.000391448\tvalid_1's RMSPE: 0.263121\n",
      "[200]\ttraining's rmse: 0.000347193\ttraining's RMSPE: 0.238618\tvalid_1's rmse: 0.000387762\tvalid_1's RMSPE: 0.260643\n",
      "Early stopping, best iteration is:\n",
      "[185]\ttraining's rmse: 0.000347986\ttraining's RMSPE: 0.239163\tvalid_1's rmse: 0.000387493\tvalid_1's RMSPE: 0.260462\n",
      "Training fold 5\n",
      "Training until validation scores don't improve for 25 rounds\n",
      "[100]\ttraining's rmse: 0.00035713\ttraining's RMSPE: 0.244151\tvalid_1's rmse: 0.00039186\tvalid_1's RMSPE: 0.26914\n",
      "Early stopping, best iteration is:\n",
      "[84]\ttraining's rmse: 0.000359186\ttraining's RMSPE: 0.245556\tvalid_1's rmse: 0.000387327\tvalid_1's RMSPE: 0.266027\n",
      "Our out of folds RMSPE is 0.25600032483313856\n"
     ]
    }
   ],
   "source": [
    "_=train_models(train_df5m)"
   ]
  },
  {
   "cell_type": "markdown",
   "id": "512ffaaa",
   "metadata": {},
   "source": [
    "## Learning embeddings"
   ]
  },
  {
   "cell_type": "code",
   "execution_count": 25,
   "id": "12d164ca",
   "metadata": {},
   "outputs": [],
   "source": [
    "cont_nn,cat_nn = cont_cat_split(train_df5m, max_card=9000, dep_var='target')\n",
    "cat_nn = ['time_id', 'stock_id']\n",
    "\n",
    "\n",
    "procs_nn = [Categorify, FillMissing,Normalize]\n",
    "\n",
    "splits = RandomSplitter(valid_pct=0.1,seed=43)(train_df5m)\n",
    "\n",
    "dls = TabularPandas(train_df5m, procs_nn, cat_nn, cont_nn,\n",
    "                      splits=splits, \n",
    "                       \n",
    "                      y_names='target').dataloaders(1024)\n",
    "\n",
    "def rmse(preds, targs):\n",
    "    x = (targs-preds)\n",
    "    return (x**2).mean().sqrt()\n",
    "\n",
    "def rmspe(preds, targs):\n",
    "    x = (targs-preds)/targs\n",
    "    return (x**2).mean().sqrt()\n",
    "\n",
    "config={'lin_first':True, 'ps':[.5,.2,0], 'embed_p':0.5, }\n",
    "learn = tabular_learner(dls, y_range=(0,.1), layers=[200,100,40], emb_szs={'stock_id':10, 'time_id':10}, \n",
    "                        n_out=1, \n",
    "                        loss_func = rmspe, \n",
    "                        \n",
    "                        metrics=AccumMetric(rmspe), config=config)"
   ]
  },
  {
   "cell_type": "code",
   "execution_count": 26,
   "id": "e41b346c",
   "metadata": {},
   "outputs": [
    {
     "data": {
      "text/html": [
       "<table border=\"1\" class=\"dataframe\">\n",
       "  <thead>\n",
       "    <tr style=\"text-align: left;\">\n",
       "      <th>epoch</th>\n",
       "      <th>train_loss</th>\n",
       "      <th>valid_loss</th>\n",
       "      <th>rmspe</th>\n",
       "      <th>time</th>\n",
       "    </tr>\n",
       "  </thead>\n",
       "  <tbody>\n",
       "    <tr>\n",
       "      <td>0</td>\n",
       "      <td>8.135974</td>\n",
       "      <td>5.782270</td>\n",
       "      <td>5.787799</td>\n",
       "      <td>00:09</td>\n",
       "    </tr>\n",
       "    <tr>\n",
       "      <td>1</td>\n",
       "      <td>0.782035</td>\n",
       "      <td>0.369460</td>\n",
       "      <td>0.375036</td>\n",
       "      <td>00:03</td>\n",
       "    </tr>\n",
       "    <tr>\n",
       "      <td>2</td>\n",
       "      <td>0.333171</td>\n",
       "      <td>0.281151</td>\n",
       "      <td>0.281615</td>\n",
       "      <td>00:03</td>\n",
       "    </tr>\n",
       "    <tr>\n",
       "      <td>3</td>\n",
       "      <td>0.284661</td>\n",
       "      <td>0.262743</td>\n",
       "      <td>0.262974</td>\n",
       "      <td>00:03</td>\n",
       "    </tr>\n",
       "    <tr>\n",
       "      <td>4</td>\n",
       "      <td>0.319393</td>\n",
       "      <td>0.269287</td>\n",
       "      <td>0.269765</td>\n",
       "      <td>00:03</td>\n",
       "    </tr>\n",
       "    <tr>\n",
       "      <td>5</td>\n",
       "      <td>0.270450</td>\n",
       "      <td>0.253060</td>\n",
       "      <td>0.253552</td>\n",
       "      <td>00:03</td>\n",
       "    </tr>\n",
       "    <tr>\n",
       "      <td>6</td>\n",
       "      <td>0.261866</td>\n",
       "      <td>0.234534</td>\n",
       "      <td>0.234932</td>\n",
       "      <td>00:03</td>\n",
       "    </tr>\n",
       "    <tr>\n",
       "      <td>7</td>\n",
       "      <td>0.253596</td>\n",
       "      <td>0.233359</td>\n",
       "      <td>0.233680</td>\n",
       "      <td>00:03</td>\n",
       "    </tr>\n",
       "    <tr>\n",
       "      <td>8</td>\n",
       "      <td>0.253997</td>\n",
       "      <td>0.232732</td>\n",
       "      <td>0.233226</td>\n",
       "      <td>00:03</td>\n",
       "    </tr>\n",
       "    <tr>\n",
       "      <td>9</td>\n",
       "      <td>0.251912</td>\n",
       "      <td>0.228656</td>\n",
       "      <td>0.229007</td>\n",
       "      <td>00:03</td>\n",
       "    </tr>\n",
       "    <tr>\n",
       "      <td>10</td>\n",
       "      <td>0.248558</td>\n",
       "      <td>0.228829</td>\n",
       "      <td>0.229189</td>\n",
       "      <td>00:03</td>\n",
       "    </tr>\n",
       "    <tr>\n",
       "      <td>11</td>\n",
       "      <td>0.245066</td>\n",
       "      <td>0.227614</td>\n",
       "      <td>0.228037</td>\n",
       "      <td>00:03</td>\n",
       "    </tr>\n",
       "    <tr>\n",
       "      <td>12</td>\n",
       "      <td>0.245559</td>\n",
       "      <td>0.227748</td>\n",
       "      <td>0.228190</td>\n",
       "      <td>00:03</td>\n",
       "    </tr>\n",
       "    <tr>\n",
       "      <td>13</td>\n",
       "      <td>0.251475</td>\n",
       "      <td>0.228403</td>\n",
       "      <td>0.228743</td>\n",
       "      <td>00:03</td>\n",
       "    </tr>\n",
       "    <tr>\n",
       "      <td>14</td>\n",
       "      <td>0.245264</td>\n",
       "      <td>0.227043</td>\n",
       "      <td>0.227461</td>\n",
       "      <td>00:03</td>\n",
       "    </tr>\n",
       "    <tr>\n",
       "      <td>15</td>\n",
       "      <td>0.241286</td>\n",
       "      <td>0.227862</td>\n",
       "      <td>0.228367</td>\n",
       "      <td>00:03</td>\n",
       "    </tr>\n",
       "    <tr>\n",
       "      <td>16</td>\n",
       "      <td>0.244146</td>\n",
       "      <td>0.227731</td>\n",
       "      <td>0.228224</td>\n",
       "      <td>00:03</td>\n",
       "    </tr>\n",
       "    <tr>\n",
       "      <td>17</td>\n",
       "      <td>0.239080</td>\n",
       "      <td>0.228533</td>\n",
       "      <td>0.229144</td>\n",
       "      <td>00:03</td>\n",
       "    </tr>\n",
       "    <tr>\n",
       "      <td>18</td>\n",
       "      <td>0.242153</td>\n",
       "      <td>0.227399</td>\n",
       "      <td>0.227871</td>\n",
       "      <td>00:03</td>\n",
       "    </tr>\n",
       "    <tr>\n",
       "      <td>19</td>\n",
       "      <td>0.238109</td>\n",
       "      <td>0.227320</td>\n",
       "      <td>0.227808</td>\n",
       "      <td>00:03</td>\n",
       "    </tr>\n",
       "  </tbody>\n",
       "</table>"
      ],
      "text/plain": [
       "<IPython.core.display.HTML object>"
      ]
     },
     "metadata": {},
     "output_type": "display_data"
    }
   ],
   "source": [
    "learn.fit_one_cycle(20, 5e-3)"
   ]
  },
  {
   "cell_type": "code",
   "execution_count": 27,
   "id": "e7b5d738",
   "metadata": {},
   "outputs": [],
   "source": [
    "categorify = dls.procs[2]\n",
    "time_embs = learn.model.embeds[0].weight.data.cpu()\n",
    "stock_embs = learn.model.embeds[1].weight.data.cpu()"
   ]
  },
  {
   "cell_type": "code",
   "execution_count": 28,
   "id": "3daf95c9",
   "metadata": {},
   "outputs": [],
   "source": [
    "def append_embs(data_df, categorify, time_embs, stock_embs):\n",
    "    time_id_embs = dict()\n",
    "    for idx, time_id in enumerate(categorify.classes['time_id']):\n",
    "        time_id_embs[time_id] = time_embs[idx].tolist()\n",
    "\n",
    "    stock_id_embs = dict()\n",
    "    for idx, stock_id in enumerate(categorify.classes['stock_id']):\n",
    "        stock_id_embs[stock_id] = stock_embs[idx].tolist()\n",
    "\n",
    "    all_embs = []\n",
    "    for _, row in (data_df[['stock_id', 'time_id']].iterrows()):\n",
    "        emb1 = stock_id_embs[row.stock_id]\n",
    "        emb2 = time_id_embs[row.time_id]\n",
    "        all_embs.append(emb1+emb2)\n",
    "    columns = [f'stock_emb{i}' for i in range(stock_embs.shape[1])] +[f'time_emb{i}' for i in range(time_embs.shape[1])]\n",
    "    embs_df = pd.DataFrame(all_embs, columns=columns)\n",
    "\n",
    "    return pd.concat([data_df, embs_df], axis=1)"
   ]
  },
  {
   "cell_type": "code",
   "execution_count": 29,
   "id": "c11b83f1",
   "metadata": {},
   "outputs": [
    {
     "data": {
      "text/html": [],
      "text/plain": [
       "<IPython.core.display.HTML object>"
      ]
     },
     "metadata": {},
     "output_type": "display_data"
    }
   ],
   "source": [
    "test_df = train_df5_10m\n",
    "test_dl = dls.test_dl(test_df)\n",
    "preds, _ = learn.get_preds(dl=test_dl)\n",
    "preds5_10 = preds.view(-1).numpy()"
   ]
  },
  {
   "cell_type": "markdown",
   "id": "692eae98",
   "metadata": {},
   "source": [
    "## Train 5m LGBM with embeddings\n"
   ]
  },
  {
   "cell_type": "code",
   "execution_count": 30,
   "id": "fde5a2a8",
   "metadata": {},
   "outputs": [],
   "source": [
    "train_5_with_embs = append_embs(train_df5m, categorify, time_embs, stock_embs)\n",
    "\n"
   ]
  },
  {
   "cell_type": "code",
   "execution_count": 31,
   "id": "9c0c03a6",
   "metadata": {},
   "outputs": [
    {
     "name": "stdout",
     "output_type": "stream",
     "text": [
      "Training fold 1\n"
     ]
    },
    {
     "name": "stderr",
     "output_type": "stream",
     "text": [
      "/home/slex/programy/anaconda3/envs/fastai/lib/python3.8/site-packages/lightgbm/basic.py:1996: UserWarning: Using categorical_feature in Dataset.\n",
      "  _log_warning('Using categorical_feature in Dataset.')\n",
      "/home/slex/programy/anaconda3/envs/fastai/lib/python3.8/site-packages/lightgbm/basic.py:1727: UserWarning: Overriding the parameters from Reference Dataset.\n",
      "  _log_warning('Overriding the parameters from Reference Dataset.')\n",
      "/home/slex/programy/anaconda3/envs/fastai/lib/python3.8/site-packages/lightgbm/basic.py:1460: UserWarning: categorical_column in param dict is overridden.\n",
      "  _log_warning(f'{cat_alias} in param dict is overridden.')\n"
     ]
    },
    {
     "name": "stdout",
     "output_type": "stream",
     "text": [
      "Training until validation scores don't improve for 25 rounds\n",
      "[100]\ttraining's rmse: 0.00032345\ttraining's RMSPE: 0.22127\tvalid_1's rmse: 0.00033428\tvalid_1's RMSPE: 0.228998\n",
      "[200]\ttraining's rmse: 0.000315039\ttraining's RMSPE: 0.215516\tvalid_1's rmse: 0.000330529\tvalid_1's RMSPE: 0.226428\n",
      "[300]\ttraining's rmse: 0.000310974\ttraining's RMSPE: 0.212735\tvalid_1's rmse: 0.000329051\tvalid_1's RMSPE: 0.225416\n",
      "[400]\ttraining's rmse: 0.000307741\ttraining's RMSPE: 0.210524\tvalid_1's rmse: 0.000328142\tvalid_1's RMSPE: 0.224793\n",
      "[500]\ttraining's rmse: 0.000305581\ttraining's RMSPE: 0.209046\tvalid_1's rmse: 0.00032755\tvalid_1's RMSPE: 0.224387\n",
      "Early stopping, best iteration is:\n",
      "[504]\ttraining's rmse: 0.000305463\ttraining's RMSPE: 0.208965\tvalid_1's rmse: 0.000327545\tvalid_1's RMSPE: 0.224384\n",
      "Training fold 2\n",
      "Training until validation scores don't improve for 25 rounds\n",
      "[100]\ttraining's rmse: 0.000323976\ttraining's RMSPE: 0.221173\tvalid_1's rmse: 0.000339944\tvalid_1's RMSPE: 0.234783\n",
      "[200]\ttraining's rmse: 0.000315502\ttraining's RMSPE: 0.215388\tvalid_1's rmse: 0.000336862\tvalid_1's RMSPE: 0.232655\n",
      "[300]\ttraining's rmse: 0.000311087\ttraining's RMSPE: 0.212374\tvalid_1's rmse: 0.000335395\tvalid_1's RMSPE: 0.231641\n",
      "[400]\ttraining's rmse: 0.000308004\ttraining's RMSPE: 0.210269\tvalid_1's rmse: 0.0003345\tvalid_1's RMSPE: 0.231024\n",
      "[500]\ttraining's rmse: 0.000305457\ttraining's RMSPE: 0.20853\tvalid_1's rmse: 0.000333956\tvalid_1's RMSPE: 0.230647\n",
      "Early stopping, best iteration is:\n",
      "[500]\ttraining's rmse: 0.000305457\ttraining's RMSPE: 0.20853\tvalid_1's rmse: 0.000333956\tvalid_1's RMSPE: 0.230647\n",
      "Training fold 3\n",
      "Training until validation scores don't improve for 25 rounds\n",
      "[100]\ttraining's rmse: 0.000325075\ttraining's RMSPE: 0.222257\tvalid_1's rmse: 0.000341009\tvalid_1's RMSPE: 0.234128\n",
      "[200]\ttraining's rmse: 0.000316679\ttraining's RMSPE: 0.216517\tvalid_1's rmse: 0.000337341\tvalid_1's RMSPE: 0.23161\n",
      "[300]\ttraining's rmse: 0.000312143\ttraining's RMSPE: 0.213415\tvalid_1's rmse: 0.000335724\tvalid_1's RMSPE: 0.2305\n",
      "Early stopping, best iteration is:\n",
      "[288]\ttraining's rmse: 0.000312571\ttraining's RMSPE: 0.213708\tvalid_1's rmse: 0.000335429\tvalid_1's RMSPE: 0.230297\n",
      "Training fold 4\n",
      "Training until validation scores don't improve for 25 rounds\n",
      "[100]\ttraining's rmse: 0.000323474\ttraining's RMSPE: 0.222317\tvalid_1's rmse: 0.000360334\tvalid_1's RMSPE: 0.242207\n",
      "[200]\ttraining's rmse: 0.000315028\ttraining's RMSPE: 0.216512\tvalid_1's rmse: 0.000352463\tvalid_1's RMSPE: 0.236916\n",
      "Early stopping, best iteration is:\n",
      "[208]\ttraining's rmse: 0.00031459\ttraining's RMSPE: 0.216211\tvalid_1's rmse: 0.000351628\tvalid_1's RMSPE: 0.236355\n",
      "Training fold 5\n",
      "Training until validation scores don't improve for 25 rounds\n",
      "[100]\ttraining's rmse: 0.000325483\ttraining's RMSPE: 0.222515\tvalid_1's rmse: 0.000359803\tvalid_1's RMSPE: 0.247122\n",
      "Early stopping, best iteration is:\n",
      "[174]\ttraining's rmse: 0.000318698\ttraining's RMSPE: 0.217877\tvalid_1's rmse: 0.000354335\tvalid_1's RMSPE: 0.243367\n",
      "Our out of folds RMSPE is 0.23309821299141512\n"
     ]
    }
   ],
   "source": [
    "_=train_models(train_5_with_embs)"
   ]
  },
  {
   "cell_type": "markdown",
   "id": "1e0ded5e",
   "metadata": {},
   "source": [
    "## Baseline LGBM 10m"
   ]
  },
  {
   "cell_type": "code",
   "execution_count": 191,
   "id": "80e9797b",
   "metadata": {},
   "outputs": [],
   "source": [
    "# time_windows = [(0,600), (200, 600), (400,600)]\n",
    "\n",
    "# agg_cols = ['log_return_price_std', 'log_return1_std', 'log_return2_std']\n",
    "\n",
    "# time_id_features = [f'{col}_{x}_{y}' for x,y in time_windows for col in agg_cols] \n",
    "# time_id_aggregations = ['mean', 'std', 'min' ]\n",
    "# stock_id_features = time_id_features\n",
    "# stock_id_aggregations = time_id_aggregations\n",
    "\n",
    "# ofg = OptiverFeatureGenerator(book_feature_dict, trade_feature_dict, time_windows, time_id_features,time_id_aggregations, stock_id_features, stock_id_aggregations)\n",
    "# df = ofg.generate_train_df()\n",
    "\n"
   ]
  },
  {
   "cell_type": "code",
   "execution_count": 192,
   "id": "b48e61b8",
   "metadata": {},
   "outputs": [],
   "source": [
    "# cols_to_keep = ['log_return2_std_0_600',\n",
    " \n",
    "#  'stock_id','row_id', 'time_id', 'target',\n",
    "#  'log_return_price_std_0_600',\n",
    "#   'order_count_sum_0_600',\n",
    "#  'seconds_in_bucket_size_0_600',\n",
    "#  'size_sum_0_600',\n",
    "#  'log_return1_std_0_600_min_time',\n",
    "#  'log_return1_std_0_600_mean_time',\n",
    "#  'log_return1_std_0_600_min_stock',\n",
    "#  'log_return1_std_0_600_mean_stock',\n",
    "#  'log_return1_std_0_600',\n",
    "#  'log_return1_std_200_600',\n",
    "#  'log_return1_std_400_600',\n",
    "#  'price_spread_mean_0_600',\n",
    "#  'log_return_price_std_0_600_mean_time',\n",
    "#  'log_return_price_std_200_600_mean_time',\n",
    "#  'log_return_price_std_400_600_mean_time',\n",
    "#  'log_return_price_std_0_600_min_time',\n",
    "#  'log_return_price_std_200_600_min_time',\n",
    "#  'log_return_price_std_400_600_min_time',\n",
    "#  'total_volume_mean_0_600']\n",
    "\n",
    "# df = df[cols_to_keep]\n",
    "\n",
    "# df.to_feather('train_24cols.feather')"
   ]
  },
  {
   "cell_type": "code",
   "execution_count": 32,
   "id": "f2b883d5",
   "metadata": {},
   "outputs": [],
   "source": [
    "df = pd.read_feather('train_24cols.feather')"
   ]
  },
  {
   "cell_type": "code",
   "execution_count": 33,
   "id": "08e40ff9",
   "metadata": {},
   "outputs": [
    {
     "data": {
      "text/plain": [
       "(300250, 128682)"
      ]
     },
     "execution_count": 33,
     "metadata": {},
     "output_type": "execute_result"
    }
   ],
   "source": [
    "train_df10m = df[df.time_id.isin(train_ids)].reset_index()\n",
    "test_df10m = df[df.time_id.isin(test_ids)].reset_index()\n",
    "len(train_df10m), len(test_df10m)"
   ]
  },
  {
   "cell_type": "code",
   "execution_count": 34,
   "id": "06524a2d",
   "metadata": {},
   "outputs": [
    {
     "name": "stdout",
     "output_type": "stream",
     "text": [
      "Training fold 1\n",
      "Training until validation scores don't improve for 25 rounds\n"
     ]
    },
    {
     "name": "stderr",
     "output_type": "stream",
     "text": [
      "/home/slex/programy/anaconda3/envs/fastai/lib/python3.8/site-packages/lightgbm/basic.py:1996: UserWarning: Using categorical_feature in Dataset.\n",
      "  _log_warning('Using categorical_feature in Dataset.')\n",
      "/home/slex/programy/anaconda3/envs/fastai/lib/python3.8/site-packages/lightgbm/basic.py:1727: UserWarning: Overriding the parameters from Reference Dataset.\n",
      "  _log_warning('Overriding the parameters from Reference Dataset.')\n",
      "/home/slex/programy/anaconda3/envs/fastai/lib/python3.8/site-packages/lightgbm/basic.py:1460: UserWarning: categorical_column in param dict is overridden.\n",
      "  _log_warning(f'{cat_alias} in param dict is overridden.')\n"
     ]
    },
    {
     "name": "stdout",
     "output_type": "stream",
     "text": [
      "[100]\ttraining's rmse: 0.000467282\ttraining's RMSPE: 0.218349\tvalid_1's rmse: 0.00048106\tvalid_1's RMSPE: 0.220792\n",
      "[200]\ttraining's rmse: 0.000449861\ttraining's RMSPE: 0.210209\tvalid_1's rmse: 0.000475599\tvalid_1's RMSPE: 0.218285\n",
      "[300]\ttraining's rmse: 0.000441072\ttraining's RMSPE: 0.206102\tvalid_1's rmse: 0.000473911\tvalid_1's RMSPE: 0.21751\n",
      "Early stopping, best iteration is:\n",
      "[363]\ttraining's rmse: 0.00043607\ttraining's RMSPE: 0.203765\tvalid_1's rmse: 0.000473137\tvalid_1's RMSPE: 0.217155\n",
      "Training fold 2\n",
      "Training until validation scores don't improve for 25 rounds\n",
      "[100]\ttraining's rmse: 0.000468436\ttraining's RMSPE: 0.217662\tvalid_1's rmse: 0.000477137\tvalid_1's RMSPE: 0.224011\n",
      "[200]\ttraining's rmse: 0.000451397\ttraining's RMSPE: 0.209744\tvalid_1's rmse: 0.000474375\tvalid_1's RMSPE: 0.222714\n",
      "Early stopping, best iteration is:\n",
      "[235]\ttraining's rmse: 0.000447641\ttraining's RMSPE: 0.207999\tvalid_1's rmse: 0.000473793\tvalid_1's RMSPE: 0.222441\n",
      "Training fold 3\n",
      "Training until validation scores don't improve for 25 rounds\n",
      "[100]\ttraining's rmse: 0.000466406\ttraining's RMSPE: 0.216927\tvalid_1's rmse: 0.000491659\tvalid_1's RMSPE: 0.229955\n",
      "[200]\ttraining's rmse: 0.000451457\ttraining's RMSPE: 0.209974\tvalid_1's rmse: 0.000483302\tvalid_1's RMSPE: 0.226046\n",
      "[300]\ttraining's rmse: 0.000441519\ttraining's RMSPE: 0.205352\tvalid_1's rmse: 0.000480191\tvalid_1's RMSPE: 0.224591\n",
      "Early stopping, best iteration is:\n",
      "[318]\ttraining's rmse: 0.000440134\ttraining's RMSPE: 0.204708\tvalid_1's rmse: 0.000479817\tvalid_1's RMSPE: 0.224416\n",
      "Training fold 4\n",
      "Training until validation scores don't improve for 25 rounds\n",
      "[100]\ttraining's rmse: 0.000462046\ttraining's RMSPE: 0.215669\tvalid_1's rmse: 0.000500372\tvalid_1's RMSPE: 0.230683\n",
      "[200]\ttraining's rmse: 0.00044572\ttraining's RMSPE: 0.208049\tvalid_1's rmse: 0.000495892\tvalid_1's RMSPE: 0.228618\n",
      "Early stopping, best iteration is:\n",
      "[257]\ttraining's rmse: 0.000439659\ttraining's RMSPE: 0.20522\tvalid_1's rmse: 0.000495003\tvalid_1's RMSPE: 0.228208\n",
      "Training fold 5\n",
      "Training until validation scores don't improve for 25 rounds\n",
      "[100]\ttraining's rmse: 0.000466732\ttraining's RMSPE: 0.216713\tvalid_1's rmse: 0.000476662\tvalid_1's RMSPE: 0.224417\n",
      "[200]\ttraining's rmse: 0.000450018\ttraining's RMSPE: 0.208952\tvalid_1's rmse: 0.000473878\tvalid_1's RMSPE: 0.223106\n",
      "[300]\ttraining's rmse: 0.000440714\ttraining's RMSPE: 0.204632\tvalid_1's rmse: 0.000472534\tvalid_1's RMSPE: 0.222473\n",
      "Early stopping, best iteration is:\n",
      "[324]\ttraining's rmse: 0.000438945\ttraining's RMSPE: 0.203811\tvalid_1's rmse: 0.00047239\tvalid_1's RMSPE: 0.222405\n",
      "Our out of folds RMSPE is 0.2229535380820962\n"
     ]
    }
   ],
   "source": [
    "models=train_models(train_df10m)"
   ]
  },
  {
   "cell_type": "code",
   "execution_count": 35,
   "id": "1adb00fb",
   "metadata": {},
   "outputs": [
    {
     "data": {
      "text/plain": [
       "0.22725182948338465"
      ]
     },
     "execution_count": 35,
     "metadata": {},
     "output_type": "execute_result"
    }
   ],
   "source": [
    "test_pred = np.zeros(len(test_df10m))\n",
    "for model in models:\n",
    "    pred = model.predict(test_df10m.drop(['row_id', 'time_id', 'target'], axis=1)) \n",
    "    test_pred += pred /5\n",
    "\n",
    "baseline_score = rmspe_np(test_df10m.target, test_pred)\n",
    "baseline_score"
   ]
  },
  {
   "cell_type": "markdown",
   "id": "3fd8bac9",
   "metadata": {},
   "source": [
    "## LGBM 10m with trained embeddings"
   ]
  },
  {
   "cell_type": "code",
   "execution_count": 36,
   "id": "ca991eda",
   "metadata": {},
   "outputs": [],
   "source": [
    "df_with_embs = append_embs(df, categorify, time_embs, stock_embs)"
   ]
  },
  {
   "cell_type": "code",
   "execution_count": 37,
   "id": "20f3e9c0",
   "metadata": {},
   "outputs": [],
   "source": [
    "df_with_embs['5m_pred']= preds5_10"
   ]
  },
  {
   "cell_type": "code",
   "execution_count": 52,
   "id": "93de6fa4",
   "metadata": {},
   "outputs": [],
   "source": [
    "train_10m_with_embs = df_with_embs[df_with_embs.time_id.isin(train_ids)].reset_index().drop('index',axis=1)\n",
    "test_10m_with_embs = df_with_embs[df_with_embs.time_id.isin(test_ids)].reset_index().drop('index',axis=1)"
   ]
  },
  {
   "cell_type": "code",
   "execution_count": 53,
   "id": "c83cb247",
   "metadata": {},
   "outputs": [
    {
     "data": {
      "text/plain": [
       "Index(['log_return2_std_0_600', 'stock_id', 'row_id', 'time_id', 'target',\n",
       "       'log_return_price_std_0_600', 'order_count_sum_0_600',\n",
       "       'seconds_in_bucket_size_0_600', 'size_sum_0_600',\n",
       "       'log_return1_std_0_600_min_time', 'log_return1_std_0_600_mean_time',\n",
       "       'log_return1_std_0_600_min_stock', 'log_return1_std_0_600_mean_stock',\n",
       "       'log_return1_std_0_600', 'log_return1_std_200_600',\n",
       "       'log_return1_std_400_600', 'price_spread_mean_0_600',\n",
       "       'log_return_price_std_0_600_mean_time',\n",
       "       'log_return_price_std_200_600_mean_time',\n",
       "       'log_return_price_std_400_600_mean_time',\n",
       "       'log_return_price_std_0_600_min_time',\n",
       "       'log_return_price_std_200_600_min_time',\n",
       "       'log_return_price_std_400_600_min_time', 'total_volume_mean_0_600',\n",
       "       'stock_emb0', 'stock_emb1', 'stock_emb2', 'stock_emb3', 'stock_emb4',\n",
       "       'stock_emb5', 'stock_emb6', 'stock_emb7', 'stock_emb8', 'stock_emb9',\n",
       "       'time_emb0', 'time_emb1', 'time_emb2', 'time_emb3', 'time_emb4',\n",
       "       'time_emb5', 'time_emb6', 'time_emb7', 'time_emb8', 'time_emb9',\n",
       "       '5m_pred'],\n",
       "      dtype='object')"
      ]
     },
     "execution_count": 53,
     "metadata": {},
     "output_type": "execute_result"
    }
   ],
   "source": [
    "train_10m_with_embs.columns"
   ]
  },
  {
   "cell_type": "code",
   "execution_count": 54,
   "id": "698c6ed5",
   "metadata": {},
   "outputs": [
    {
     "name": "stdout",
     "output_type": "stream",
     "text": [
      "Training fold 1\n"
     ]
    },
    {
     "name": "stderr",
     "output_type": "stream",
     "text": [
      "/home/slex/programy/anaconda3/envs/fastai/lib/python3.8/site-packages/lightgbm/basic.py:1996: UserWarning: Using categorical_feature in Dataset.\n",
      "  _log_warning('Using categorical_feature in Dataset.')\n",
      "/home/slex/programy/anaconda3/envs/fastai/lib/python3.8/site-packages/lightgbm/basic.py:1727: UserWarning: Overriding the parameters from Reference Dataset.\n",
      "  _log_warning('Overriding the parameters from Reference Dataset.')\n",
      "/home/slex/programy/anaconda3/envs/fastai/lib/python3.8/site-packages/lightgbm/basic.py:1460: UserWarning: categorical_column in param dict is overridden.\n",
      "  _log_warning(f'{cat_alias} in param dict is overridden.')\n"
     ]
    },
    {
     "name": "stdout",
     "output_type": "stream",
     "text": [
      "Training until validation scores don't improve for 25 rounds\n",
      "[100]\ttraining's rmse: 0.000457185\ttraining's RMSPE: 0.213631\tvalid_1's rmse: 0.000477803\tvalid_1's RMSPE: 0.219297\n",
      "[200]\ttraining's rmse: 0.000439114\ttraining's RMSPE: 0.205187\tvalid_1's rmse: 0.00047547\tvalid_1's RMSPE: 0.218226\n",
      "Early stopping, best iteration is:\n",
      "[185]\ttraining's rmse: 0.000441406\ttraining's RMSPE: 0.206258\tvalid_1's rmse: 0.000475241\tvalid_1's RMSPE: 0.218121\n",
      "Training fold 2\n",
      "Training until validation scores don't improve for 25 rounds\n",
      "[100]\ttraining's rmse: 0.000459879\ttraining's RMSPE: 0.213686\tvalid_1's rmse: 0.000474259\tvalid_1's RMSPE: 0.22266\n",
      "[200]\ttraining's rmse: 0.000441425\ttraining's RMSPE: 0.205111\tvalid_1's rmse: 0.000472391\tvalid_1's RMSPE: 0.221783\n",
      "Early stopping, best iteration is:\n",
      "[179]\ttraining's rmse: 0.000444418\ttraining's RMSPE: 0.206501\tvalid_1's rmse: 0.000471807\tvalid_1's RMSPE: 0.221509\n",
      "Training fold 3\n",
      "Training until validation scores don't improve for 25 rounds\n",
      "[100]\ttraining's rmse: 0.000458397\ttraining's RMSPE: 0.213202\tvalid_1's rmse: 0.000483375\tvalid_1's RMSPE: 0.226081\n",
      "[200]\ttraining's rmse: 0.000441244\ttraining's RMSPE: 0.205224\tvalid_1's rmse: 0.000477341\tvalid_1's RMSPE: 0.223258\n",
      "[300]\ttraining's rmse: 0.000430076\ttraining's RMSPE: 0.20003\tvalid_1's rmse: 0.0004763\tvalid_1's RMSPE: 0.222772\n",
      "[400]\ttraining's rmse: 0.000421353\ttraining's RMSPE: 0.195973\tvalid_1's rmse: 0.000475392\tvalid_1's RMSPE: 0.222347\n",
      "Early stopping, best iteration is:\n",
      "[379]\ttraining's rmse: 0.000423115\ttraining's RMSPE: 0.196792\tvalid_1's rmse: 0.00047518\tvalid_1's RMSPE: 0.222248\n",
      "Training fold 4\n",
      "Training until validation scores don't improve for 25 rounds\n",
      "[100]\ttraining's rmse: 0.000453729\ttraining's RMSPE: 0.211787\tvalid_1's rmse: 0.000494521\tvalid_1's RMSPE: 0.227986\n",
      "[200]\ttraining's rmse: 0.000436321\ttraining's RMSPE: 0.203661\tvalid_1's rmse: 0.00049233\tvalid_1's RMSPE: 0.226975\n",
      "Early stopping, best iteration is:\n",
      "[183]\ttraining's rmse: 0.00043843\ttraining's RMSPE: 0.204646\tvalid_1's rmse: 0.000491724\tvalid_1's RMSPE: 0.226696\n",
      "Training fold 5\n",
      "Training until validation scores don't improve for 25 rounds\n",
      "[100]\ttraining's rmse: 0.000458208\ttraining's RMSPE: 0.212755\tvalid_1's rmse: 0.00047032\tvalid_1's RMSPE: 0.221431\n",
      "[200]\ttraining's rmse: 0.000440033\ttraining's RMSPE: 0.204316\tvalid_1's rmse: 0.000468295\tvalid_1's RMSPE: 0.220477\n",
      "Early stopping, best iteration is:\n",
      "[192]\ttraining's rmse: 0.000441164\ttraining's RMSPE: 0.204841\tvalid_1's rmse: 0.000467906\tvalid_1's RMSPE: 0.220294\n",
      "Our out of folds RMSPE is 0.22179105411565173\n"
     ]
    }
   ],
   "source": [
    "models=train_models(train_10m_with_embs)"
   ]
  },
  {
   "cell_type": "code",
   "execution_count": 55,
   "id": "6778c9c7",
   "metadata": {},
   "outputs": [
    {
     "data": {
      "text/plain": [
       "0.22192612134715417"
      ]
     },
     "execution_count": 55,
     "metadata": {},
     "output_type": "execute_result"
    }
   ],
   "source": [
    "test_pred = np.zeros(len(test_10m_with_embs))\n",
    "for model in models:\n",
    "    pred = model.predict(test_10m_with_embs.drop(['row_id', 'time_id', 'target'], axis=1)) \n",
    "    test_pred += pred /5\n",
    "\n",
    "embeds5mpred_score = rmspe_np(test_10m_with_embs.target, test_pred)\n",
    "embeds5mpred_score"
   ]
  },
  {
   "cell_type": "code",
   "execution_count": 56,
   "id": "2ef391db",
   "metadata": {},
   "outputs": [
    {
     "data": {
      "text/plain": [
       "0.023435270678953405"
      ]
     },
     "execution_count": 56,
     "metadata": {},
     "output_type": "execute_result"
    }
   ],
   "source": [
    "(baseline_score-embeds5mpred_score)/ baseline_score"
   ]
  },
  {
   "cell_type": "code",
   "execution_count": null,
   "id": "43463b92",
   "metadata": {},
   "outputs": [],
   "source": [
    "# for m in models[:2]:\n",
    "#     lgb.plot_importance(m, max_num_features=20)"
   ]
  },
  {
   "cell_type": "code",
   "execution_count": 57,
   "id": "b5aec408",
   "metadata": {},
   "outputs": [
    {
     "data": {
      "image/png": "[encoded data removed]",
      "text/plain": [
       "<Figure size 432x288 with 1 Axes>"
      ]
     },
     "metadata": {
      "needs_background": "light"
     },
     "output_type": "display_data"
    },
    {
     "data": {
      "image/png": "[encoded data removed]",
      "text/plain": [
       "<Figure size 432x288 with 1 Axes>"
      ]
     },
     "metadata": {
      "needs_background": "light"
     },
     "output_type": "display_data"
    },
    {
     "data": {
      "image/png": "[encoded data removed]",
      "text/plain": [
       "<Figure size 432x288 with 1 Axes>"
      ]
     },
     "metadata": {
      "needs_background": "light"
     },
     "output_type": "display_data"
    }
   ],
   "source": [
    "for m in models[:3]:\n",
    "    lgb.plot_importance(m, max_num_features=20, importance_type='gain')"
   ]
  },
  {
   "cell_type": "code",
   "execution_count": null,
   "id": "bf74e352",
   "metadata": {},
   "outputs": [],
   "source": []
  },
  {
   "cell_type": "markdown",
   "id": "eaf505dd",
   "metadata": {},
   "source": [
    "## Train NN"
   ]
  },
  {
   "cell_type": "code",
   "execution_count": 58,
   "id": "71b99948",
   "metadata": {},
   "outputs": [],
   "source": [
    "splits = first(GroupKFold().split(train_10m_with_embs, groups = train_10m_with_embs.time_id))\n",
    "splits = (list(splits[0]), list(splits[1]))"
   ]
  },
  {
   "cell_type": "code",
   "execution_count": 59,
   "id": "4e35bf1e",
   "metadata": {},
   "outputs": [],
   "source": [
    "cont_nn,cat_nn = cont_cat_split(train_10m_with_embs, max_card=9000, dep_var='target')\n",
    "cat_nn = []\n",
    "\n",
    "\n",
    "procs_nn = [Categorify, FillMissing,Normalize]\n",
    "\n",
    "#splits = RandomSplitter(valid_pct=0.2,seed=43)(train_10m_with_embs)\n",
    "\n",
    "dls = TabularPandas(train_10m_with_embs, procs_nn, cat_nn, cont_nn,\n",
    "                      splits=splits, \n",
    "                       \n",
    "                      y_names='target').dataloaders(1024)\n",
    "\n",
    "def rmse(preds, targs):\n",
    "    x = (targs-preds)\n",
    "    return (x**2).mean().sqrt()\n",
    "\n",
    "def rmspe(preds, targs):\n",
    "    x = (targs-preds)/targs\n",
    "    return (x**2).mean().sqrt()\n",
    "\n",
    "config={'lin_first':True, 'ps':[0.5,0,0], }\n",
    "learn = tabular_learner(dls, y_range=(0,.1), layers=[200,100,10], \n",
    "                        n_out=1, \n",
    "                        loss_func = rmspe, \n",
    "                        \n",
    "                        metrics=AccumMetric(rmspe), config=config)"
   ]
  },
  {
   "cell_type": "code",
   "execution_count": 61,
   "id": "04e20034",
   "metadata": {},
   "outputs": [
    {
     "data": {
      "text/html": [
       "<table border=\"1\" class=\"dataframe\">\n",
       "  <thead>\n",
       "    <tr style=\"text-align: left;\">\n",
       "      <th>epoch</th>\n",
       "      <th>train_loss</th>\n",
       "      <th>valid_loss</th>\n",
       "      <th>rmspe</th>\n",
       "      <th>time</th>\n",
       "    </tr>\n",
       "  </thead>\n",
       "  <tbody>\n",
       "    <tr>\n",
       "      <td>0</td>\n",
       "      <td>11.606947</td>\n",
       "      <td>10.577265</td>\n",
       "      <td>10.592472</td>\n",
       "      <td>00:01</td>\n",
       "    </tr>\n",
       "    <tr>\n",
       "      <td>1</td>\n",
       "      <td>6.987443</td>\n",
       "      <td>5.093297</td>\n",
       "      <td>5.148812</td>\n",
       "      <td>00:01</td>\n",
       "    </tr>\n",
       "    <tr>\n",
       "      <td>2</td>\n",
       "      <td>2.415123</td>\n",
       "      <td>1.422998</td>\n",
       "      <td>1.462633</td>\n",
       "      <td>00:01</td>\n",
       "    </tr>\n",
       "    <tr>\n",
       "      <td>3</td>\n",
       "      <td>0.987373</td>\n",
       "      <td>0.546916</td>\n",
       "      <td>0.599882</td>\n",
       "      <td>00:01</td>\n",
       "    </tr>\n",
       "    <tr>\n",
       "      <td>4</td>\n",
       "      <td>0.582206</td>\n",
       "      <td>0.304575</td>\n",
       "      <td>0.360454</td>\n",
       "      <td>00:01</td>\n",
       "    </tr>\n",
       "    <tr>\n",
       "      <td>5</td>\n",
       "      <td>0.372477</td>\n",
       "      <td>0.256552</td>\n",
       "      <td>0.267001</td>\n",
       "      <td>00:01</td>\n",
       "    </tr>\n",
       "    <tr>\n",
       "      <td>6</td>\n",
       "      <td>0.312593</td>\n",
       "      <td>0.243407</td>\n",
       "      <td>0.245972</td>\n",
       "      <td>00:01</td>\n",
       "    </tr>\n",
       "    <tr>\n",
       "      <td>7</td>\n",
       "      <td>0.268088</td>\n",
       "      <td>0.227544</td>\n",
       "      <td>0.229842</td>\n",
       "      <td>00:01</td>\n",
       "    </tr>\n",
       "    <tr>\n",
       "      <td>8</td>\n",
       "      <td>0.533095</td>\n",
       "      <td>0.609217</td>\n",
       "      <td>0.708675</td>\n",
       "      <td>00:01</td>\n",
       "    </tr>\n",
       "    <tr>\n",
       "      <td>9</td>\n",
       "      <td>0.273078</td>\n",
       "      <td>0.240214</td>\n",
       "      <td>0.241697</td>\n",
       "      <td>00:01</td>\n",
       "    </tr>\n",
       "    <tr>\n",
       "      <td>10</td>\n",
       "      <td>0.253439</td>\n",
       "      <td>0.232255</td>\n",
       "      <td>0.233662</td>\n",
       "      <td>00:01</td>\n",
       "    </tr>\n",
       "    <tr>\n",
       "      <td>11</td>\n",
       "      <td>0.245343</td>\n",
       "      <td>0.230692</td>\n",
       "      <td>0.232135</td>\n",
       "      <td>00:01</td>\n",
       "    </tr>\n",
       "    <tr>\n",
       "      <td>12</td>\n",
       "      <td>0.240663</td>\n",
       "      <td>0.224055</td>\n",
       "      <td>0.225634</td>\n",
       "      <td>00:01</td>\n",
       "    </tr>\n",
       "    <tr>\n",
       "      <td>13</td>\n",
       "      <td>0.239150</td>\n",
       "      <td>0.224343</td>\n",
       "      <td>0.225770</td>\n",
       "      <td>00:01</td>\n",
       "    </tr>\n",
       "    <tr>\n",
       "      <td>14</td>\n",
       "      <td>0.236153</td>\n",
       "      <td>0.226985</td>\n",
       "      <td>0.228284</td>\n",
       "      <td>00:01</td>\n",
       "    </tr>\n",
       "    <tr>\n",
       "      <td>15</td>\n",
       "      <td>0.233086</td>\n",
       "      <td>0.231266</td>\n",
       "      <td>0.232904</td>\n",
       "      <td>00:01</td>\n",
       "    </tr>\n",
       "    <tr>\n",
       "      <td>16</td>\n",
       "      <td>0.233667</td>\n",
       "      <td>0.220450</td>\n",
       "      <td>0.221809</td>\n",
       "      <td>00:01</td>\n",
       "    </tr>\n",
       "    <tr>\n",
       "      <td>17</td>\n",
       "      <td>0.231763</td>\n",
       "      <td>0.227448</td>\n",
       "      <td>0.228807</td>\n",
       "      <td>00:01</td>\n",
       "    </tr>\n",
       "    <tr>\n",
       "      <td>18</td>\n",
       "      <td>0.231337</td>\n",
       "      <td>0.220893</td>\n",
       "      <td>0.222218</td>\n",
       "      <td>00:01</td>\n",
       "    </tr>\n",
       "    <tr>\n",
       "      <td>19</td>\n",
       "      <td>0.229981</td>\n",
       "      <td>0.218513</td>\n",
       "      <td>0.219836</td>\n",
       "      <td>00:01</td>\n",
       "    </tr>\n",
       "    <tr>\n",
       "      <td>20</td>\n",
       "      <td>0.229366</td>\n",
       "      <td>0.216794</td>\n",
       "      <td>0.218327</td>\n",
       "      <td>00:01</td>\n",
       "    </tr>\n",
       "    <tr>\n",
       "      <td>21</td>\n",
       "      <td>0.229762</td>\n",
       "      <td>0.216584</td>\n",
       "      <td>0.217946</td>\n",
       "      <td>00:01</td>\n",
       "    </tr>\n",
       "    <tr>\n",
       "      <td>22</td>\n",
       "      <td>0.229014</td>\n",
       "      <td>0.216874</td>\n",
       "      <td>0.218282</td>\n",
       "      <td>00:01</td>\n",
       "    </tr>\n",
       "    <tr>\n",
       "      <td>23</td>\n",
       "      <td>0.229251</td>\n",
       "      <td>0.218706</td>\n",
       "      <td>0.220009</td>\n",
       "      <td>00:01</td>\n",
       "    </tr>\n",
       "    <tr>\n",
       "      <td>24</td>\n",
       "      <td>0.229110</td>\n",
       "      <td>0.221083</td>\n",
       "      <td>0.222596</td>\n",
       "      <td>00:01</td>\n",
       "    </tr>\n",
       "    <tr>\n",
       "      <td>25</td>\n",
       "      <td>0.227402</td>\n",
       "      <td>0.217361</td>\n",
       "      <td>0.218804</td>\n",
       "      <td>00:01</td>\n",
       "    </tr>\n",
       "    <tr>\n",
       "      <td>26</td>\n",
       "      <td>0.227626</td>\n",
       "      <td>0.216577</td>\n",
       "      <td>0.217929</td>\n",
       "      <td>00:01</td>\n",
       "    </tr>\n",
       "    <tr>\n",
       "      <td>27</td>\n",
       "      <td>0.225638</td>\n",
       "      <td>0.215101</td>\n",
       "      <td>0.216516</td>\n",
       "      <td>00:01</td>\n",
       "    </tr>\n",
       "    <tr>\n",
       "      <td>28</td>\n",
       "      <td>0.224398</td>\n",
       "      <td>0.215904</td>\n",
       "      <td>0.217255</td>\n",
       "      <td>00:01</td>\n",
       "    </tr>\n",
       "    <tr>\n",
       "      <td>29</td>\n",
       "      <td>0.227310</td>\n",
       "      <td>0.215626</td>\n",
       "      <td>0.216916</td>\n",
       "      <td>00:01</td>\n",
       "    </tr>\n",
       "    <tr>\n",
       "      <td>30</td>\n",
       "      <td>0.225729</td>\n",
       "      <td>0.215891</td>\n",
       "      <td>0.217182</td>\n",
       "      <td>00:01</td>\n",
       "    </tr>\n",
       "    <tr>\n",
       "      <td>31</td>\n",
       "      <td>0.224617</td>\n",
       "      <td>0.214400</td>\n",
       "      <td>0.215828</td>\n",
       "      <td>00:01</td>\n",
       "    </tr>\n",
       "    <tr>\n",
       "      <td>32</td>\n",
       "      <td>0.225046</td>\n",
       "      <td>0.216669</td>\n",
       "      <td>0.218145</td>\n",
       "      <td>00:01</td>\n",
       "    </tr>\n",
       "    <tr>\n",
       "      <td>33</td>\n",
       "      <td>0.223778</td>\n",
       "      <td>0.214279</td>\n",
       "      <td>0.215630</td>\n",
       "      <td>00:01</td>\n",
       "    </tr>\n",
       "    <tr>\n",
       "      <td>34</td>\n",
       "      <td>0.224167</td>\n",
       "      <td>0.214149</td>\n",
       "      <td>0.215491</td>\n",
       "      <td>00:01</td>\n",
       "    </tr>\n",
       "    <tr>\n",
       "      <td>35</td>\n",
       "      <td>0.223888</td>\n",
       "      <td>0.214062</td>\n",
       "      <td>0.215356</td>\n",
       "      <td>00:01</td>\n",
       "    </tr>\n",
       "    <tr>\n",
       "      <td>36</td>\n",
       "      <td>0.222988</td>\n",
       "      <td>0.214063</td>\n",
       "      <td>0.215373</td>\n",
       "      <td>00:01</td>\n",
       "    </tr>\n",
       "    <tr>\n",
       "      <td>37</td>\n",
       "      <td>0.223876</td>\n",
       "      <td>0.214166</td>\n",
       "      <td>0.215498</td>\n",
       "      <td>00:01</td>\n",
       "    </tr>\n",
       "    <tr>\n",
       "      <td>38</td>\n",
       "      <td>0.221498</td>\n",
       "      <td>0.214144</td>\n",
       "      <td>0.215462</td>\n",
       "      <td>00:01</td>\n",
       "    </tr>\n",
       "    <tr>\n",
       "      <td>39</td>\n",
       "      <td>0.222226</td>\n",
       "      <td>0.213844</td>\n",
       "      <td>0.215149</td>\n",
       "      <td>00:01</td>\n",
       "    </tr>\n",
       "  </tbody>\n",
       "</table>"
      ],
      "text/plain": [
       "<IPython.core.display.HTML object>"
      ]
     },
     "metadata": {},
     "output_type": "display_data"
    }
   ],
   "source": [
    "learn.fit_one_cycle(40, 5e-3, wd=.1)"
   ]
  },
  {
   "cell_type": "code",
   "execution_count": 63,
   "id": "a7337833",
   "metadata": {},
   "outputs": [
    {
     "data": {
      "text/html": [],
      "text/plain": [
       "<IPython.core.display.HTML object>"
      ]
     },
     "metadata": {},
     "output_type": "display_data"
    }
   ],
   "source": [
    "\n",
    "test_dl = dls.test_dl(test_10m_with_embs)\n",
    "preds, _ = learn.get_preds(dl=test_dl)"
   ]
  },
  {
   "cell_type": "code",
   "execution_count": 65,
   "id": "2a86e0b4",
   "metadata": {},
   "outputs": [
    {
     "data": {
      "text/plain": [
       "0.21936485990884572"
      ]
     },
     "execution_count": 65,
     "metadata": {},
     "output_type": "execute_result"
    }
   ],
   "source": [
    "score =rmspe_np(test_10m_with_embs.target, preds.view(-1).numpy())\n",
    "score"
   ]
  },
  {
   "cell_type": "code",
   "execution_count": 66,
   "id": "ed0ef981",
   "metadata": {},
   "outputs": [
    {
     "data": {
      "text/plain": [
       "0.034705857341032265"
      ]
     },
     "execution_count": 66,
     "metadata": {},
     "output_type": "execute_result"
    }
   ],
   "source": [
    "(baseline_score-score)/ baseline_score"
   ]
  },
  {
   "cell_type": "code",
   "execution_count": null,
   "id": "93f54cc8",
   "metadata": {},
   "outputs": [],
   "source": []
  }
 ],
 "metadata": {
  "kernelspec": {
   "display_name": "Python 3.8.5 64-bit ('fastai': conda)",
   "language": "python",
   "name": "python38564bitfastaicondad52d12c5a30a4725bf9d3e235cf1271c"
  },
  "language_info": {
   "codemirror_mode": {
    "name": "ipython",
    "version": 3
   },
   "file_extension": ".py",
   "mimetype": "text/x-python",
   "name": "python",
   "nbconvert_exporter": "python",
   "pygments_lexer": "ipython3",
   "version": "3.8.2"
  }
 },
 "nbformat": 4,
 "nbformat_minor": 5
}
