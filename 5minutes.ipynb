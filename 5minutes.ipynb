{
 "cells": [
  {
   "cell_type": "code",
   "execution_count": 1,
   "id": "falling-attribute",
   "metadata": {},
   "outputs": [],
   "source": [
    "%load_ext autoreload\n",
    "%autoreload 2"
   ]
  },
  {
   "cell_type": "code",
   "execution_count": 2,
   "id": "norwegian-geology",
   "metadata": {},
   "outputs": [],
   "source": [
    "from fastai.tabular.all import *\n",
    "from multiprocessing import Pool\n",
    "from sklearn.model_selection import KFold\n",
    "import lightgbm as lgb\n",
    "from optiver_features import *"
   ]
  },
  {
   "cell_type": "code",
   "execution_count": 3,
   "id": "swedish-subdivision",
   "metadata": {},
   "outputs": [],
   "source": [
    "data_dir = Path('../input/optiver-realized-volatility-prediction')"
   ]
  },
  {
   "cell_type": "markdown",
   "id": "interested-omaha",
   "metadata": {},
   "source": [
    "## Generate 5m dataset"
   ]
  },
  {
   "cell_type": "code",
   "execution_count": 4,
   "id": "binary-hammer",
   "metadata": {},
   "outputs": [],
   "source": [
    "book_feature_dict = {\n",
    "        wap1: [np.mean, np.std],\n",
    "        wap2: [np.mean, np.std],\n",
    "        log_return1: [realized_volatility, np.mean, np.std],\n",
    "        log_return2: [realized_volatility, np.mean, np.std],\n",
    "        wap_balance: [np.mean, np.std],\n",
    "        price_spread:[np.mean, np.std],\n",
    "        bid_spread: [np.mean, np.std],\n",
    "        ask_spread:[np.mean, np.std],\n",
    "        total_volume:[np.mean, np.std],\n",
    "        volume_imbalance:[np.mean, np.std]\n",
    "    }"
   ]
  },
  {
   "cell_type": "code",
   "execution_count": 5,
   "id": "identical-class",
   "metadata": {},
   "outputs": [],
   "source": [
    "trade_feature_dict = {\n",
    "        log_return_price: [realized_volatility],\n",
    "        'seconds_in_bucket':[np.size],\n",
    "        'size':[np.sum],\n",
    "        'order_count':[np.mean],\n",
    "    }"
   ]
  },
  {
   "cell_type": "code",
   "execution_count": 6,
   "id": "based-azerbaijan",
   "metadata": {},
   "outputs": [],
   "source": [
    "time_id_features=['log_return_price_realized_volatility_0_300',\n",
    " 'log_return_price_realized_volatility_0_100',\n",
    " 'log_return_price_realized_volatility_100_200',\n",
    " 'log_return_price_realized_volatility_200_300',\n",
    " 'log_return1_realized_volatility_0_300',\n",
    " 'log_return2_realized_volatility_0_300',\n",
    " 'log_return1_realized_volatility_0_100',\n",
    " 'log_return2_realized_volatility_0_100',\n",
    " 'log_return1_realized_volatility_100_200',\n",
    " 'log_return2_realized_volatility_100_200',\n",
    " 'log_return1_realized_volatility_200_300',\n",
    " 'log_return2_realized_volatility_200_300']\n",
    "time_id_aggregations = ['mean', 'std', 'max', 'min' ]\n",
    "stock_id_features = time_id_features\n",
    "stock_id_aggregations = time_id_aggregations"
   ]
  },
  {
   "cell_type": "code",
   "execution_count": 7,
   "id": "whole-suspension",
   "metadata": {},
   "outputs": [],
   "source": [
    "time_windows = [(0,300), (0,100), (100,200), (200,300)]"
   ]
  },
  {
   "cell_type": "code",
   "execution_count": 8,
   "id": "animal-smooth",
   "metadata": {},
   "outputs": [],
   "source": [
    "ofg = OptiverFeatureGenerator(book_feature_dict, trade_feature_dict, time_windows, time_id_features,time_id_aggregations, stock_id_features, stock_id_aggregations)\n",
    "train_df5m = ofg.generate_train_df()\n",
    "ofg_targ =OptiverFeatureGenerator({wap1:[], log_return1:[realized_volatility]}, {'seconds_in_bucket':[np.size]}, [(300,600)], [],[],[],[])\n",
    "targ_df = ofg_targ.generate_train_df()\n",
    "train_df5m.target = targ_df.log_return1_realized_volatility_300_600\n",
    "train_df5m.to_csv('train_5m.csv', index=False)"
   ]
  },
  {
   "cell_type": "code",
   "execution_count": 28,
   "id": "employed-richmond",
   "metadata": {},
   "outputs": [],
   "source": [
    "train_df5m = pd.read_csv('train_5m.csv')"
   ]
  },
  {
   "cell_type": "code",
   "execution_count": 9,
   "id": "composite-spare",
   "metadata": {},
   "outputs": [],
   "source": [
    "def rename_col(x):\n",
    "    return x.replace('300', '600').replace('200', '500').replace('100', '400').replace('_0', '_300')\n",
    "def rename_col_back(x):\n",
    "    return x.replace('300', '0').replace('400', '100').replace('500', '200').replace('600', '300')"
   ]
  },
  {
   "cell_type": "code",
   "execution_count": 10,
   "id": "cordless-holocaust",
   "metadata": {},
   "outputs": [],
   "source": [
    "def generate_5_to_10():\n",
    "    tw = [(x+300, y+300) for x,y in time_windows]\n",
    "    time_id_feat = [rename_col(x) for x in time_id_features]\n",
    "    stock_id_feat = [rename_col(x) for x in stock_id_features]\n",
    "    ofg = OptiverFeatureGenerator(book_feature_dict, trade_feature_dict, tw, time_id_feat,time_id_aggregations, stock_id_feat, stock_id_aggregations)\n",
    "\n",
    "    df = ofg.generate_train_df()\n",
    "    df.columns = [rename_col_back(x) for x in df.columns]\n",
    "    return df"
   ]
  },
  {
   "cell_type": "code",
   "execution_count": 11,
   "id": "original-farmer",
   "metadata": {},
   "outputs": [],
   "source": [
    "train_df5_10m  = generate_5_to_10()\n",
    "train_df5_10m.to_csv('train_5_10.csv', index=False)"
   ]
  },
  {
   "cell_type": "code",
   "execution_count": null,
   "id": "particular-valve",
   "metadata": {},
   "outputs": [],
   "source": [
    "train_df5_10m =pd.read_csv('train_5_10.csv')"
   ]
  },
  {
   "cell_type": "code",
   "execution_count": 18,
   "id": "electric-december",
   "metadata": {},
   "outputs": [],
   "source": [
    "train_df5m.target = train_df5m.target.replace(0, train_df5m.target.mean())"
   ]
  },
  {
   "cell_type": "markdown",
   "id": "blocked-shaft",
   "metadata": {},
   "source": [
    "## LGBM Baseline"
   ]
  },
  {
   "cell_type": "code",
   "execution_count": 30,
   "id": "cooperative-account",
   "metadata": {},
   "outputs": [],
   "source": [
    "def rmspe_np(y_true, y_pred):\n",
    "    return np.sqrt(np.mean(np.square((y_true - y_pred) / y_true)))\n",
    "def feval_rmspe(y_pred, lgb_train):\n",
    "    y_true = lgb_train.get_label()\n",
    "    return 'RMSPE', rmspe_np(y_true, y_pred), False\n",
    "\n",
    "def train_models(train):\n",
    "    # Hyperparammeters (optimized)\n",
    "    seed = 29\n",
    "    params = {\n",
    "        'learning_rate': 0.1,        \n",
    "        'lambda_l1': 2,\n",
    "        'lambda_l2': 7,\n",
    "        'num_leaves': 800,\n",
    "        'min_sum_hessian_in_leaf': 20,\n",
    "        'feature_fraction': 0.8,\n",
    "        'feature_fraction_bynode': 0.8,\n",
    "        'bagging_fraction': 0.9,\n",
    "        'bagging_freq': 42,\n",
    "        'min_data_in_leaf': 700,\n",
    "        'max_depth': 4,\n",
    "        'seed': seed,\n",
    "        'feature_fraction_seed': seed,\n",
    "        'bagging_seed': seed,\n",
    "        'drop_seed': seed,\n",
    "        'data_random_seed': seed,\n",
    "        'objective': 'rmse',\n",
    "        'boosting': 'gbdt',\n",
    "        'verbosity': -1,\n",
    "        'n_jobs': -1,\n",
    "    }   \n",
    "    \n",
    "    # Split features and target\n",
    "    x = train.drop(['row_id', 'target', 'time_id'], axis = 1)\n",
    "    y = train['target']\n",
    "    # Transform stock id to a numeric value\n",
    "    x['stock_id'] = x['stock_id'].astype(int)\n",
    "    models =[]\n",
    "    # Create out of folds array\n",
    "    oof_predictions = np.zeros(x.shape[0])\n",
    "    # Create a KFold object\n",
    "    kfold = KFold(n_splits = 5, random_state = 1111, shuffle = True)\n",
    "    # Iterate through each fold\n",
    "    for fold, (trn_ind, val_ind) in enumerate(kfold.split(x)):\n",
    "        print(f'Training fold {fold + 1}')\n",
    "        x_train, x_val = x.iloc[trn_ind], x.iloc[val_ind]\n",
    "        y_train, y_val = y.iloc[trn_ind], y.iloc[val_ind]\n",
    "        # Root mean squared percentage error weights\n",
    "        train_weights = 1 / np.square(y_train)\n",
    "        val_weights = 1 / np.square(y_val)\n",
    "        train_dataset = lgb.Dataset(x_train, y_train, weight = train_weights, categorical_feature = ['stock_id'])\n",
    "        val_dataset = lgb.Dataset(x_val, y_val, weight = val_weights, categorical_feature = ['stock_id'])\n",
    "        model = lgb.train(params = params, \n",
    "                          train_set = train_dataset, \n",
    "                          valid_sets = [train_dataset, val_dataset], \n",
    "                          num_boost_round = 3000, \n",
    "                          early_stopping_rounds = 25, \n",
    "                          verbose_eval = 100,\n",
    "                          feval = feval_rmspe)\n",
    "        models.append(model)\n",
    "        # Add predictions to the out of folds array\n",
    "        oof_predictions[val_ind] = model.predict(x_val)\n",
    "        # Predict the test set\n",
    "        #test_predictions += model.predict(x_test) / 10\n",
    "        \n",
    "    rmspe_score = rmspe_np(y, oof_predictions)\n",
    "    print(f'Our out of folds RMSPE is {rmspe_score}')\n",
    "    # Return test predictions\n",
    "    return models"
   ]
  },
  {
   "cell_type": "code",
   "execution_count": 42,
   "id": "seventh-church",
   "metadata": {},
   "outputs": [
    {
     "name": "stdout",
     "output_type": "stream",
     "text": [
      "Training fold 1\n"
     ]
    },
    {
     "name": "stderr",
     "output_type": "stream",
     "text": [
      "/home/slex/programy/anaconda3/envs/fastai/lib/python3.8/site-packages/lightgbm/basic.py:1551: UserWarning: Using categorical_feature in Dataset.\n",
      "  warnings.warn('Using categorical_feature in Dataset.')\n",
      "/home/slex/programy/anaconda3/envs/fastai/lib/python3.8/site-packages/lightgbm/basic.py:1286: UserWarning: Overriding the parameters from Reference Dataset.\n",
      "  warnings.warn('Overriding the parameters from Reference Dataset.')\n",
      "/home/slex/programy/anaconda3/envs/fastai/lib/python3.8/site-packages/lightgbm/basic.py:1098: UserWarning: categorical_column in param dict is overridden.\n",
      "  warnings.warn('{} in param dict is overridden.'.format(cat_alias))\n"
     ]
    },
    {
     "name": "stdout",
     "output_type": "stream",
     "text": [
      "Training until validation scores don't improve for 25 rounds\n",
      "[100]\ttraining's rmse: 0.000336206\ttraining's RMSPE: 0.230114\tvalid_1's rmse: 0.000348266\tvalid_1's RMSPE: 0.237838\n",
      "[200]\ttraining's rmse: 0.000327093\ttraining's RMSPE: 0.223876\tvalid_1's rmse: 0.000344473\tvalid_1's RMSPE: 0.235248\n",
      "[300]\ttraining's rmse: 0.00032084\ttraining's RMSPE: 0.219596\tvalid_1's rmse: 0.000342844\tvalid_1's RMSPE: 0.234135\n",
      "[400]\ttraining's rmse: 0.00031613\ttraining's RMSPE: 0.216373\tvalid_1's rmse: 0.000341808\tvalid_1's RMSPE: 0.233428\n",
      "Early stopping, best iteration is:\n",
      "[421]\ttraining's rmse: 0.000315125\ttraining's RMSPE: 0.215685\tvalid_1's rmse: 0.000341509\tvalid_1's RMSPE: 0.233224\n",
      "Training fold 2\n"
     ]
    },
    {
     "name": "stderr",
     "output_type": "stream",
     "text": [
      "/home/slex/programy/anaconda3/envs/fastai/lib/python3.8/site-packages/lightgbm/basic.py:1551: UserWarning: Using categorical_feature in Dataset.\n",
      "  warnings.warn('Using categorical_feature in Dataset.')\n",
      "/home/slex/programy/anaconda3/envs/fastai/lib/python3.8/site-packages/lightgbm/basic.py:1286: UserWarning: Overriding the parameters from Reference Dataset.\n",
      "  warnings.warn('Overriding the parameters from Reference Dataset.')\n",
      "/home/slex/programy/anaconda3/envs/fastai/lib/python3.8/site-packages/lightgbm/basic.py:1098: UserWarning: categorical_column in param dict is overridden.\n",
      "  warnings.warn('{} in param dict is overridden.'.format(cat_alias))\n"
     ]
    },
    {
     "name": "stdout",
     "output_type": "stream",
     "text": [
      "Training until validation scores don't improve for 25 rounds\n",
      "[100]\ttraining's rmse: 0.000334497\ttraining's RMSPE: 0.229403\tvalid_1's rmse: 0.000359582\tvalid_1's RMSPE: 0.243576\n",
      "[200]\ttraining's rmse: 0.000325743\ttraining's RMSPE: 0.2234\tvalid_1's rmse: 0.00035557\tvalid_1's RMSPE: 0.240858\n",
      "[300]\ttraining's rmse: 0.000319739\ttraining's RMSPE: 0.219282\tvalid_1's rmse: 0.000352736\tvalid_1's RMSPE: 0.238939\n",
      "[400]\ttraining's rmse: 0.000315028\ttraining's RMSPE: 0.216051\tvalid_1's rmse: 0.000350802\tvalid_1's RMSPE: 0.237629\n",
      "Early stopping, best iteration is:\n",
      "[436]\ttraining's rmse: 0.000313388\ttraining's RMSPE: 0.214926\tvalid_1's rmse: 0.000350114\tvalid_1's RMSPE: 0.237163\n",
      "Training fold 3\n"
     ]
    },
    {
     "name": "stderr",
     "output_type": "stream",
     "text": [
      "/home/slex/programy/anaconda3/envs/fastai/lib/python3.8/site-packages/lightgbm/basic.py:1551: UserWarning: Using categorical_feature in Dataset.\n",
      "  warnings.warn('Using categorical_feature in Dataset.')\n",
      "/home/slex/programy/anaconda3/envs/fastai/lib/python3.8/site-packages/lightgbm/basic.py:1286: UserWarning: Overriding the parameters from Reference Dataset.\n",
      "  warnings.warn('Overriding the parameters from Reference Dataset.')\n",
      "/home/slex/programy/anaconda3/envs/fastai/lib/python3.8/site-packages/lightgbm/basic.py:1098: UserWarning: categorical_column in param dict is overridden.\n",
      "  warnings.warn('{} in param dict is overridden.'.format(cat_alias))\n"
     ]
    },
    {
     "name": "stdout",
     "output_type": "stream",
     "text": [
      "Training until validation scores don't improve for 25 rounds\n",
      "[100]\ttraining's rmse: 0.000337645\ttraining's RMSPE: 0.229226\tvalid_1's rmse: 0.000354815\tvalid_1's RMSPE: 0.250041\n",
      "[200]\ttraining's rmse: 0.000328279\ttraining's RMSPE: 0.222868\tvalid_1's rmse: 0.000349156\tvalid_1's RMSPE: 0.246053\n",
      "[300]\ttraining's rmse: 0.000322277\ttraining's RMSPE: 0.218793\tvalid_1's rmse: 0.000347756\tvalid_1's RMSPE: 0.245067\n",
      "Early stopping, best iteration is:\n",
      "[280]\ttraining's rmse: 0.000323415\ttraining's RMSPE: 0.219566\tvalid_1's rmse: 0.000346992\tvalid_1's RMSPE: 0.244528\n",
      "Training fold 4\n"
     ]
    },
    {
     "name": "stderr",
     "output_type": "stream",
     "text": [
      "/home/slex/programy/anaconda3/envs/fastai/lib/python3.8/site-packages/lightgbm/basic.py:1551: UserWarning: Using categorical_feature in Dataset.\n",
      "  warnings.warn('Using categorical_feature in Dataset.')\n",
      "/home/slex/programy/anaconda3/envs/fastai/lib/python3.8/site-packages/lightgbm/basic.py:1286: UserWarning: Overriding the parameters from Reference Dataset.\n",
      "  warnings.warn('Overriding the parameters from Reference Dataset.')\n",
      "/home/slex/programy/anaconda3/envs/fastai/lib/python3.8/site-packages/lightgbm/basic.py:1098: UserWarning: categorical_column in param dict is overridden.\n",
      "  warnings.warn('{} in param dict is overridden.'.format(cat_alias))\n"
     ]
    },
    {
     "name": "stdout",
     "output_type": "stream",
     "text": [
      "Training until validation scores don't improve for 25 rounds\n",
      "[100]\ttraining's rmse: 0.000336877\ttraining's RMSPE: 0.230437\tvalid_1's rmse: 0.000350868\tvalid_1's RMSPE: 0.240181\n",
      "[200]\ttraining's rmse: 0.000327065\ttraining's RMSPE: 0.223725\tvalid_1's rmse: 0.000345667\tvalid_1's RMSPE: 0.23662\n",
      "[300]\ttraining's rmse: 0.000320848\ttraining's RMSPE: 0.219473\tvalid_1's rmse: 0.000343531\tvalid_1's RMSPE: 0.235158\n",
      "Early stopping, best iteration is:\n",
      "[340]\ttraining's rmse: 0.000318877\ttraining's RMSPE: 0.218124\tvalid_1's rmse: 0.000342698\tvalid_1's RMSPE: 0.234588\n",
      "Training fold 5\n"
     ]
    },
    {
     "name": "stderr",
     "output_type": "stream",
     "text": [
      "/home/slex/programy/anaconda3/envs/fastai/lib/python3.8/site-packages/lightgbm/basic.py:1551: UserWarning: Using categorical_feature in Dataset.\n",
      "  warnings.warn('Using categorical_feature in Dataset.')\n",
      "/home/slex/programy/anaconda3/envs/fastai/lib/python3.8/site-packages/lightgbm/basic.py:1286: UserWarning: Overriding the parameters from Reference Dataset.\n",
      "  warnings.warn('Overriding the parameters from Reference Dataset.')\n",
      "/home/slex/programy/anaconda3/envs/fastai/lib/python3.8/site-packages/lightgbm/basic.py:1098: UserWarning: categorical_column in param dict is overridden.\n",
      "  warnings.warn('{} in param dict is overridden.'.format(cat_alias))\n"
     ]
    },
    {
     "name": "stdout",
     "output_type": "stream",
     "text": [
      "Training until validation scores don't improve for 25 rounds\n",
      "[100]\ttraining's rmse: 0.00033545\ttraining's RMSPE: 0.23061\tvalid_1's rmse: 0.000352896\tvalid_1's RMSPE: 0.236675\n",
      "[200]\ttraining's rmse: 0.000325772\ttraining's RMSPE: 0.223957\tvalid_1's rmse: 0.000348559\tvalid_1's RMSPE: 0.233766\n",
      "[300]\ttraining's rmse: 0.00031941\ttraining's RMSPE: 0.219583\tvalid_1's rmse: 0.000345763\tvalid_1's RMSPE: 0.231891\n",
      "[400]\ttraining's rmse: 0.000314477\ttraining's RMSPE: 0.216192\tvalid_1's rmse: 0.000343946\tvalid_1's RMSPE: 0.230673\n",
      "[500]\ttraining's rmse: 0.000310398\ttraining's RMSPE: 0.213388\tvalid_1's rmse: 0.000342762\tvalid_1's RMSPE: 0.229878\n",
      "Early stopping, best iteration is:\n",
      "[522]\ttraining's rmse: 0.000309546\ttraining's RMSPE: 0.212802\tvalid_1's rmse: 0.000342613\tvalid_1's RMSPE: 0.229779\n",
      "Our out of folds RMSPE is 0.23590818890027127\n"
     ]
    }
   ],
   "source": [
    "_=train_models(train_df5m)"
   ]
  },
  {
   "cell_type": "markdown",
   "id": "distributed-director",
   "metadata": {},
   "source": [
    "## Learning embeddings"
   ]
  },
  {
   "cell_type": "code",
   "execution_count": 19,
   "id": "accessory-detection",
   "metadata": {},
   "outputs": [],
   "source": [
    "cont_nn,cat_nn = cont_cat_split(train_df5m, max_card=9000, dep_var='target')\n",
    "\n",
    "\n",
    "cat_nn = ['time_id', 'stock_id']"
   ]
  },
  {
   "cell_type": "code",
   "execution_count": 20,
   "id": "competent-indicator",
   "metadata": {},
   "outputs": [],
   "source": [
    "\n",
    "procs_nn = [Categorify, FillMissing,Normalize]\n",
    "\n",
    "splits = RandomSplitter()(train_df5m)\n",
    "\n",
    "dls = TabularPandas(train_df5m, procs_nn, cat_nn, cont_nn,\n",
    "                      splits=splits, \n",
    "                       \n",
    "                      y_names='target').dataloaders(1024)"
   ]
  },
  {
   "cell_type": "code",
   "execution_count": 21,
   "id": "engaged-print",
   "metadata": {},
   "outputs": [],
   "source": [
    "def rmspe(preds, targs):\n",
    "    x = (targs-preds)/targs\n",
    "    return (x**2).mean().sqrt()\n",
    "\n",
    "config={'lin_first':True, 'ps':[.5,.2,0], 'embed_p':.25, }\n",
    "learn = tabular_learner(dls, y_range=(0,.1), layers=[100,50,20], emb_szs={'stock_id':10, 'time_id':10}, \n",
    "                        n_out=1, loss_func = rmspe, metrics=AccumMetric(rmspe), config=config)"
   ]
  },
  {
   "cell_type": "code",
   "execution_count": 22,
   "id": "dependent-ordinary",
   "metadata": {},
   "outputs": [
    {
     "data": {
      "text/html": [
       "<table border=\"1\" class=\"dataframe\">\n",
       "  <thead>\n",
       "    <tr style=\"text-align: left;\">\n",
       "      <th>epoch</th>\n",
       "      <th>train_loss</th>\n",
       "      <th>valid_loss</th>\n",
       "      <th>rmspe</th>\n",
       "      <th>time</th>\n",
       "    </tr>\n",
       "  </thead>\n",
       "  <tbody>\n",
       "    <tr>\n",
       "      <td>0</td>\n",
       "      <td>10.813059</td>\n",
       "      <td>8.840131</td>\n",
       "      <td>8.849628</td>\n",
       "      <td>00:05</td>\n",
       "    </tr>\n",
       "    <tr>\n",
       "      <td>1</td>\n",
       "      <td>1.479396</td>\n",
       "      <td>0.955893</td>\n",
       "      <td>0.963897</td>\n",
       "      <td>00:05</td>\n",
       "    </tr>\n",
       "    <tr>\n",
       "      <td>2</td>\n",
       "      <td>0.369061</td>\n",
       "      <td>0.279955</td>\n",
       "      <td>0.280443</td>\n",
       "      <td>00:05</td>\n",
       "    </tr>\n",
       "    <tr>\n",
       "      <td>3</td>\n",
       "      <td>0.291158</td>\n",
       "      <td>0.255349</td>\n",
       "      <td>0.255608</td>\n",
       "      <td>00:05</td>\n",
       "    </tr>\n",
       "    <tr>\n",
       "      <td>4</td>\n",
       "      <td>0.277610</td>\n",
       "      <td>0.245956</td>\n",
       "      <td>0.258092</td>\n",
       "      <td>00:05</td>\n",
       "    </tr>\n",
       "    <tr>\n",
       "      <td>5</td>\n",
       "      <td>0.260917</td>\n",
       "      <td>0.251597</td>\n",
       "      <td>0.253497</td>\n",
       "      <td>00:05</td>\n",
       "    </tr>\n",
       "    <tr>\n",
       "      <td>6</td>\n",
       "      <td>0.339435</td>\n",
       "      <td>0.239001</td>\n",
       "      <td>0.239337</td>\n",
       "      <td>00:05</td>\n",
       "    </tr>\n",
       "    <tr>\n",
       "      <td>7</td>\n",
       "      <td>0.254844</td>\n",
       "      <td>0.236721</td>\n",
       "      <td>0.241665</td>\n",
       "      <td>00:05</td>\n",
       "    </tr>\n",
       "    <tr>\n",
       "      <td>8</td>\n",
       "      <td>0.252927</td>\n",
       "      <td>0.253697</td>\n",
       "      <td>0.305805</td>\n",
       "      <td>00:05</td>\n",
       "    </tr>\n",
       "    <tr>\n",
       "      <td>9</td>\n",
       "      <td>0.256701</td>\n",
       "      <td>0.234285</td>\n",
       "      <td>0.235019</td>\n",
       "      <td>00:05</td>\n",
       "    </tr>\n",
       "    <tr>\n",
       "      <td>10</td>\n",
       "      <td>0.248929</td>\n",
       "      <td>0.236167</td>\n",
       "      <td>0.236581</td>\n",
       "      <td>00:05</td>\n",
       "    </tr>\n",
       "    <tr>\n",
       "      <td>11</td>\n",
       "      <td>0.250188</td>\n",
       "      <td>0.228882</td>\n",
       "      <td>0.229367</td>\n",
       "      <td>00:05</td>\n",
       "    </tr>\n",
       "    <tr>\n",
       "      <td>12</td>\n",
       "      <td>0.249294</td>\n",
       "      <td>0.229268</td>\n",
       "      <td>0.229655</td>\n",
       "      <td>00:05</td>\n",
       "    </tr>\n",
       "    <tr>\n",
       "      <td>13</td>\n",
       "      <td>0.247915</td>\n",
       "      <td>0.229206</td>\n",
       "      <td>0.229808</td>\n",
       "      <td>00:05</td>\n",
       "    </tr>\n",
       "    <tr>\n",
       "      <td>14</td>\n",
       "      <td>0.245162</td>\n",
       "      <td>0.228386</td>\n",
       "      <td>0.228925</td>\n",
       "      <td>00:05</td>\n",
       "    </tr>\n",
       "    <tr>\n",
       "      <td>15</td>\n",
       "      <td>0.244400</td>\n",
       "      <td>0.229807</td>\n",
       "      <td>0.231215</td>\n",
       "      <td>00:05</td>\n",
       "    </tr>\n",
       "    <tr>\n",
       "      <td>16</td>\n",
       "      <td>0.241566</td>\n",
       "      <td>0.229719</td>\n",
       "      <td>0.230878</td>\n",
       "      <td>00:05</td>\n",
       "    </tr>\n",
       "    <tr>\n",
       "      <td>17</td>\n",
       "      <td>0.242342</td>\n",
       "      <td>0.228299</td>\n",
       "      <td>0.229056</td>\n",
       "      <td>00:05</td>\n",
       "    </tr>\n",
       "    <tr>\n",
       "      <td>18</td>\n",
       "      <td>0.243045</td>\n",
       "      <td>0.228278</td>\n",
       "      <td>0.229021</td>\n",
       "      <td>00:05</td>\n",
       "    </tr>\n",
       "    <tr>\n",
       "      <td>19</td>\n",
       "      <td>0.240692</td>\n",
       "      <td>0.228346</td>\n",
       "      <td>0.229148</td>\n",
       "      <td>00:05</td>\n",
       "    </tr>\n",
       "  </tbody>\n",
       "</table>"
      ],
      "text/plain": [
       "<IPython.core.display.HTML object>"
      ]
     },
     "metadata": {},
     "output_type": "display_data"
    }
   ],
   "source": [
    "learn.fit_one_cycle(20, 5e-3)"
   ]
  },
  {
   "cell_type": "code",
   "execution_count": 23,
   "id": "banned-collaboration",
   "metadata": {},
   "outputs": [],
   "source": [
    "torch.save(learn.model.embeds[0].weight.data, 'timeemb10.pt')"
   ]
  },
  {
   "cell_type": "code",
   "execution_count": 24,
   "id": "diagnostic-brown",
   "metadata": {},
   "outputs": [
    {
     "data": {
      "text/plain": [
       "3831"
      ]
     },
     "execution_count": 24,
     "metadata": {},
     "output_type": "execute_result"
    }
   ],
   "source": [
    "categorify = dls.procs[2]\n",
    "len(categorify.classes['time_id'])"
   ]
  },
  {
   "cell_type": "code",
   "execution_count": 25,
   "id": "leading-looking",
   "metadata": {},
   "outputs": [],
   "source": [
    "def append_embs(data_df, categorify, time_embs, stock_embs):\n",
    "    time_id_embs = dict()\n",
    "    for idx, time_id in enumerate(categorify.classes['time_id']):\n",
    "        time_id_embs[time_id] = time_embs.weight[idx].tolist()\n",
    "\n",
    "    stock_id_embs = dict()\n",
    "    for idx, stock_id in enumerate(categorify.classes['stock_id']):\n",
    "        stock_id_embs[stock_id] = stock_embs.weight[idx].tolist()\n",
    "\n",
    "    all_embs = []\n",
    "    for _, row in (data_df[['stock_id', 'time_id']].iterrows()):\n",
    "        emb1 = stock_id_embs[row.stock_id]\n",
    "        emb2 = time_id_embs[row.time_id]\n",
    "        all_embs.append(emb1+emb2)\n",
    "    columns = [f'stock_emb{i}' for i in range(stock_embs.weight.shape[1])] +[f'time_emb{i}' for i in range(time_embs.weight.shape[1])]\n",
    "    embs_df = pd.DataFrame(all_embs, columns=columns)\n",
    "\n",
    "    return pd.concat([data_df, embs_df], axis=1)"
   ]
  },
  {
   "cell_type": "code",
   "execution_count": 26,
   "id": "dominant-jackson",
   "metadata": {},
   "outputs": [],
   "source": [
    "train_with_embs = append_embs(train_df5m, categorify, learn.model.embeds[0], learn.model.embeds[1])\n",
    "\n"
   ]
  },
  {
   "cell_type": "code",
   "execution_count": 28,
   "id": "interested-fight",
   "metadata": {},
   "outputs": [
    {
     "data": {
      "text/html": [],
      "text/plain": [
       "<IPython.core.display.HTML object>"
      ]
     },
     "metadata": {},
     "output_type": "display_data"
    }
   ],
   "source": [
    "test_df = train_df5_10m\n",
    "test_dl = dls.test_dl(test_df)\n",
    "preds, _ = learn.get_preds(dl=test_dl)\n",
    "preds5_10 = preds.view(-1).numpy()"
   ]
  },
  {
   "cell_type": "markdown",
   "id": "central-prisoner",
   "metadata": {},
   "source": [
    "## Train 5m LGBM with embeddings\n"
   ]
  },
  {
   "cell_type": "code",
   "execution_count": 31,
   "id": "material-violin",
   "metadata": {},
   "outputs": [
    {
     "name": "stdout",
     "output_type": "stream",
     "text": [
      "Training fold 1\n"
     ]
    },
    {
     "name": "stderr",
     "output_type": "stream",
     "text": [
      "/home/slex/programy/anaconda3/envs/fastai/lib/python3.8/site-packages/lightgbm/basic.py:1551: UserWarning: Using categorical_feature in Dataset.\n",
      "  warnings.warn('Using categorical_feature in Dataset.')\n",
      "/home/slex/programy/anaconda3/envs/fastai/lib/python3.8/site-packages/lightgbm/basic.py:1286: UserWarning: Overriding the parameters from Reference Dataset.\n",
      "  warnings.warn('Overriding the parameters from Reference Dataset.')\n",
      "/home/slex/programy/anaconda3/envs/fastai/lib/python3.8/site-packages/lightgbm/basic.py:1098: UserWarning: categorical_column in param dict is overridden.\n",
      "  warnings.warn('{} in param dict is overridden.'.format(cat_alias))\n"
     ]
    },
    {
     "name": "stdout",
     "output_type": "stream",
     "text": [
      "Training until validation scores don't improve for 25 rounds\n",
      "[100]\ttraining's rmse: 0.000321977\ttraining's RMSPE: 0.220374\tvalid_1's rmse: 0.000331336\tvalid_1's RMSPE: 0.226277\n",
      "[200]\ttraining's rmse: 0.000312665\ttraining's RMSPE: 0.214001\tvalid_1's rmse: 0.000326803\tvalid_1's RMSPE: 0.223181\n",
      "[300]\ttraining's rmse: 0.00030704\ttraining's RMSPE: 0.210151\tvalid_1's rmse: 0.000325186\tvalid_1's RMSPE: 0.222077\n",
      "[400]\ttraining's rmse: 0.000303422\ttraining's RMSPE: 0.207675\tvalid_1's rmse: 0.000324353\tvalid_1's RMSPE: 0.221508\n",
      "Early stopping, best iteration is:\n",
      "[463]\ttraining's rmse: 0.000301309\ttraining's RMSPE: 0.206228\tvalid_1's rmse: 0.000323981\tvalid_1's RMSPE: 0.221253\n",
      "Training fold 2\n"
     ]
    },
    {
     "name": "stderr",
     "output_type": "stream",
     "text": [
      "/home/slex/programy/anaconda3/envs/fastai/lib/python3.8/site-packages/lightgbm/basic.py:1551: UserWarning: Using categorical_feature in Dataset.\n",
      "  warnings.warn('Using categorical_feature in Dataset.')\n",
      "/home/slex/programy/anaconda3/envs/fastai/lib/python3.8/site-packages/lightgbm/basic.py:1286: UserWarning: Overriding the parameters from Reference Dataset.\n",
      "  warnings.warn('Overriding the parameters from Reference Dataset.')\n",
      "/home/slex/programy/anaconda3/envs/fastai/lib/python3.8/site-packages/lightgbm/basic.py:1098: UserWarning: categorical_column in param dict is overridden.\n",
      "  warnings.warn('{} in param dict is overridden.'.format(cat_alias))\n"
     ]
    },
    {
     "name": "stdout",
     "output_type": "stream",
     "text": [
      "Training until validation scores don't improve for 25 rounds\n",
      "[100]\ttraining's rmse: 0.000320615\ttraining's RMSPE: 0.219883\tvalid_1's rmse: 0.00034377\tvalid_1's RMSPE: 0.232865\n",
      "[200]\ttraining's rmse: 0.000311709\ttraining's RMSPE: 0.213775\tvalid_1's rmse: 0.000339264\tvalid_1's RMSPE: 0.229813\n",
      "[300]\ttraining's rmse: 0.000306363\ttraining's RMSPE: 0.210108\tvalid_1's rmse: 0.000336754\tvalid_1's RMSPE: 0.228112\n",
      "[400]\ttraining's rmse: 0.000302452\ttraining's RMSPE: 0.207426\tvalid_1's rmse: 0.000335648\tvalid_1's RMSPE: 0.227363\n",
      "Early stopping, best iteration is:\n",
      "[439]\ttraining's rmse: 0.000301141\ttraining's RMSPE: 0.206527\tvalid_1's rmse: 0.000335372\tvalid_1's RMSPE: 0.227177\n",
      "Training fold 3\n"
     ]
    },
    {
     "name": "stderr",
     "output_type": "stream",
     "text": [
      "/home/slex/programy/anaconda3/envs/fastai/lib/python3.8/site-packages/lightgbm/basic.py:1551: UserWarning: Using categorical_feature in Dataset.\n",
      "  warnings.warn('Using categorical_feature in Dataset.')\n",
      "/home/slex/programy/anaconda3/envs/fastai/lib/python3.8/site-packages/lightgbm/basic.py:1286: UserWarning: Overriding the parameters from Reference Dataset.\n",
      "  warnings.warn('Overriding the parameters from Reference Dataset.')\n",
      "/home/slex/programy/anaconda3/envs/fastai/lib/python3.8/site-packages/lightgbm/basic.py:1098: UserWarning: categorical_column in param dict is overridden.\n",
      "  warnings.warn('{} in param dict is overridden.'.format(cat_alias))\n"
     ]
    },
    {
     "name": "stdout",
     "output_type": "stream",
     "text": [
      "Training until validation scores don't improve for 25 rounds\n",
      "[100]\ttraining's rmse: 0.000322864\ttraining's RMSPE: 0.219192\tvalid_1's rmse: 0.000344273\tvalid_1's RMSPE: 0.242612\n",
      "Early stopping, best iteration is:\n",
      "[170]\ttraining's rmse: 0.000315715\ttraining's RMSPE: 0.214338\tvalid_1's rmse: 0.000339777\tvalid_1's RMSPE: 0.239444\n",
      "Training fold 4\n"
     ]
    },
    {
     "name": "stderr",
     "output_type": "stream",
     "text": [
      "/home/slex/programy/anaconda3/envs/fastai/lib/python3.8/site-packages/lightgbm/basic.py:1551: UserWarning: Using categorical_feature in Dataset.\n",
      "  warnings.warn('Using categorical_feature in Dataset.')\n",
      "/home/slex/programy/anaconda3/envs/fastai/lib/python3.8/site-packages/lightgbm/basic.py:1286: UserWarning: Overriding the parameters from Reference Dataset.\n",
      "  warnings.warn('Overriding the parameters from Reference Dataset.')\n",
      "/home/slex/programy/anaconda3/envs/fastai/lib/python3.8/site-packages/lightgbm/basic.py:1098: UserWarning: categorical_column in param dict is overridden.\n",
      "  warnings.warn('{} in param dict is overridden.'.format(cat_alias))\n"
     ]
    },
    {
     "name": "stdout",
     "output_type": "stream",
     "text": [
      "Training until validation scores don't improve for 25 rounds\n",
      "[100]\ttraining's rmse: 0.000322004\ttraining's RMSPE: 0.220263\tvalid_1's rmse: 0.000334451\tvalid_1's RMSPE: 0.228943\n",
      "[200]\ttraining's rmse: 0.000312484\ttraining's RMSPE: 0.213751\tvalid_1's rmse: 0.000329\tvalid_1's RMSPE: 0.225211\n",
      "[300]\ttraining's rmse: 0.000307268\ttraining's RMSPE: 0.210184\tvalid_1's rmse: 0.00032714\tvalid_1's RMSPE: 0.223938\n",
      "Early stopping, best iteration is:\n",
      "[338]\ttraining's rmse: 0.000305641\ttraining's RMSPE: 0.209071\tvalid_1's rmse: 0.000326295\tvalid_1's RMSPE: 0.22336\n",
      "Training fold 5\n"
     ]
    },
    {
     "name": "stderr",
     "output_type": "stream",
     "text": [
      "/home/slex/programy/anaconda3/envs/fastai/lib/python3.8/site-packages/lightgbm/basic.py:1551: UserWarning: Using categorical_feature in Dataset.\n",
      "  warnings.warn('Using categorical_feature in Dataset.')\n",
      "/home/slex/programy/anaconda3/envs/fastai/lib/python3.8/site-packages/lightgbm/basic.py:1286: UserWarning: Overriding the parameters from Reference Dataset.\n",
      "  warnings.warn('Overriding the parameters from Reference Dataset.')\n",
      "/home/slex/programy/anaconda3/envs/fastai/lib/python3.8/site-packages/lightgbm/basic.py:1098: UserWarning: categorical_column in param dict is overridden.\n",
      "  warnings.warn('{} in param dict is overridden.'.format(cat_alias))\n"
     ]
    },
    {
     "name": "stdout",
     "output_type": "stream",
     "text": [
      "Training until validation scores don't improve for 25 rounds\n",
      "[100]\ttraining's rmse: 0.000320115\ttraining's RMSPE: 0.220068\tvalid_1's rmse: 0.000336395\tvalid_1's RMSPE: 0.225608\n",
      "[200]\ttraining's rmse: 0.000310636\ttraining's RMSPE: 0.213551\tvalid_1's rmse: 0.000331348\tvalid_1's RMSPE: 0.222223\n",
      "[300]\ttraining's rmse: 0.000305191\ttraining's RMSPE: 0.209808\tvalid_1's rmse: 0.000329298\tvalid_1's RMSPE: 0.220849\n",
      "[400]\ttraining's rmse: 0.000301162\ttraining's RMSPE: 0.207038\tvalid_1's rmse: 0.000328223\tvalid_1's RMSPE: 0.220128\n",
      "[500]\ttraining's rmse: 0.00029803\ttraining's RMSPE: 0.204885\tvalid_1's rmse: 0.000327751\tvalid_1's RMSPE: 0.219811\n",
      "[600]\ttraining's rmse: 0.00029515\ttraining's RMSPE: 0.202906\tvalid_1's rmse: 0.000327357\tvalid_1's RMSPE: 0.219547\n",
      "Early stopping, best iteration is:\n",
      "[648]\ttraining's rmse: 0.000293863\ttraining's RMSPE: 0.202021\tvalid_1's rmse: 0.000327181\tvalid_1's RMSPE: 0.219429\n",
      "Our out of folds RMSPE is 0.22624504800360667\n"
     ]
    }
   ],
   "source": [
    "_=train_models(train_with_embs)"
   ]
  },
  {
   "cell_type": "markdown",
   "id": "opposed-powell",
   "metadata": {},
   "source": [
    "## Baseline LGMB 10m"
   ]
  },
  {
   "cell_type": "code",
   "execution_count": 34,
   "id": "indie-maker",
   "metadata": {},
   "outputs": [],
   "source": [
    "time_windows = [(0,600), (0,100), (100,200), (200,300), (300,400), (400,500), (500,600)]"
   ]
  },
  {
   "cell_type": "code",
   "execution_count": 36,
   "id": "focal-belize",
   "metadata": {},
   "outputs": [],
   "source": [
    "cols = ['log_return_price_realized_volatility', 'log_return1_realized_volatility']"
   ]
  },
  {
   "cell_type": "code",
   "execution_count": 39,
   "id": "sorted-speech",
   "metadata": {},
   "outputs": [],
   "source": [
    "time_id_features = [f'{col}_{x}_{y}' for x,y in time_windows for col in cols] \n",
    "time_id_aggregations = ['mean', 'std', 'max', 'min' ]\n",
    "stock_id_features = time_id_features\n",
    "stock_id_aggregations = time_id_aggregations"
   ]
  },
  {
   "cell_type": "code",
   "execution_count": 41,
   "id": "undefined-blogger",
   "metadata": {},
   "outputs": [],
   "source": [
    "ofg = OptiverFeatureGenerator(book_feature_dict, trade_feature_dict, time_windows, time_id_features,time_id_aggregations, stock_id_features, stock_id_aggregations)\n",
    "train_df10m = ofg.generate_train_df()"
   ]
  },
  {
   "cell_type": "code",
   "execution_count": 42,
   "id": "unauthorized-banner",
   "metadata": {},
   "outputs": [
    {
     "data": {
      "text/html": [
       "<div>\n",
       "<style scoped>\n",
       "    .dataframe tbody tr th:only-of-type {\n",
       "        vertical-align: middle;\n",
       "    }\n",
       "\n",
       "    .dataframe tbody tr th {\n",
       "        vertical-align: top;\n",
       "    }\n",
       "\n",
       "    .dataframe thead th {\n",
       "        text-align: right;\n",
       "    }\n",
       "</style>\n",
       "<table border=\"1\" class=\"dataframe\">\n",
       "  <thead>\n",
       "    <tr style=\"text-align: right;\">\n",
       "      <th></th>\n",
       "      <th>stock_id</th>\n",
       "      <th>time_id</th>\n",
       "      <th>target</th>\n",
       "      <th>row_id</th>\n",
       "      <th>seconds_in_bucket_size_0_600</th>\n",
       "      <th>size_sum_0_600</th>\n",
       "      <th>order_count_mean_0_600</th>\n",
       "      <th>log_return_price_realized_volatility_0_600</th>\n",
       "      <th>seconds_in_bucket_size_0_100</th>\n",
       "      <th>size_sum_0_100</th>\n",
       "      <th>...</th>\n",
       "      <th>log_return1_realized_volatility_400_500_max_time</th>\n",
       "      <th>log_return1_realized_volatility_400_500_min_time</th>\n",
       "      <th>log_return_price_realized_volatility_500_600_mean_time</th>\n",
       "      <th>log_return_price_realized_volatility_500_600_std_time</th>\n",
       "      <th>log_return_price_realized_volatility_500_600_max_time</th>\n",
       "      <th>log_return_price_realized_volatility_500_600_min_time</th>\n",
       "      <th>log_return1_realized_volatility_500_600_mean_time</th>\n",
       "      <th>log_return1_realized_volatility_500_600_std_time</th>\n",
       "      <th>log_return1_realized_volatility_500_600_max_time</th>\n",
       "      <th>log_return1_realized_volatility_500_600_min_time</th>\n",
       "    </tr>\n",
       "  </thead>\n",
       "  <tbody>\n",
       "    <tr>\n",
       "      <th>0</th>\n",
       "      <td>0</td>\n",
       "      <td>5</td>\n",
       "      <td>0.004136</td>\n",
       "      <td>0-5</td>\n",
       "      <td>40.0</td>\n",
       "      <td>3179.0</td>\n",
       "      <td>2.750000</td>\n",
       "      <td>0.002006</td>\n",
       "      <td>6.0</td>\n",
       "      <td>768.0</td>\n",
       "      <td>...</td>\n",
       "      <td>0.004686</td>\n",
       "      <td>0.000426</td>\n",
       "      <td>0.001066</td>\n",
       "      <td>0.000431</td>\n",
       "      <td>0.002841</td>\n",
       "      <td>0.000013</td>\n",
       "      <td>0.001728</td>\n",
       "      <td>0.000950</td>\n",
       "      <td>0.007466</td>\n",
       "      <td>0.000411</td>\n",
       "    </tr>\n",
       "    <tr>\n",
       "      <th>1</th>\n",
       "      <td>0</td>\n",
       "      <td>11</td>\n",
       "      <td>0.001445</td>\n",
       "      <td>0-11</td>\n",
       "      <td>30.0</td>\n",
       "      <td>1289.0</td>\n",
       "      <td>1.900000</td>\n",
       "      <td>0.000901</td>\n",
       "      <td>5.0</td>\n",
       "      <td>115.0</td>\n",
       "      <td>...</td>\n",
       "      <td>0.002603</td>\n",
       "      <td>0.000036</td>\n",
       "      <td>0.000476</td>\n",
       "      <td>0.000306</td>\n",
       "      <td>0.002636</td>\n",
       "      <td>0.000000</td>\n",
       "      <td>0.000802</td>\n",
       "      <td>0.000504</td>\n",
       "      <td>0.003575</td>\n",
       "      <td>0.000133</td>\n",
       "    </tr>\n",
       "    <tr>\n",
       "      <th>2</th>\n",
       "      <td>0</td>\n",
       "      <td>16</td>\n",
       "      <td>0.002168</td>\n",
       "      <td>0-16</td>\n",
       "      <td>25.0</td>\n",
       "      <td>2161.0</td>\n",
       "      <td>2.720000</td>\n",
       "      <td>0.001961</td>\n",
       "      <td>2.0</td>\n",
       "      <td>129.0</td>\n",
       "      <td>...</td>\n",
       "      <td>0.002667</td>\n",
       "      <td>0.000013</td>\n",
       "      <td>0.000634</td>\n",
       "      <td>0.000301</td>\n",
       "      <td>0.001923</td>\n",
       "      <td>0.000114</td>\n",
       "      <td>0.000925</td>\n",
       "      <td>0.000371</td>\n",
       "      <td>0.002453</td>\n",
       "      <td>0.000302</td>\n",
       "    </tr>\n",
       "    <tr>\n",
       "      <th>3</th>\n",
       "      <td>0</td>\n",
       "      <td>31</td>\n",
       "      <td>0.002195</td>\n",
       "      <td>0-31</td>\n",
       "      <td>15.0</td>\n",
       "      <td>1962.0</td>\n",
       "      <td>3.933333</td>\n",
       "      <td>0.001561</td>\n",
       "      <td>2.0</td>\n",
       "      <td>29.0</td>\n",
       "      <td>...</td>\n",
       "      <td>0.003008</td>\n",
       "      <td>0.000108</td>\n",
       "      <td>0.000563</td>\n",
       "      <td>0.000440</td>\n",
       "      <td>0.003327</td>\n",
       "      <td>0.000000</td>\n",
       "      <td>0.000948</td>\n",
       "      <td>0.000547</td>\n",
       "      <td>0.002835</td>\n",
       "      <td>0.000163</td>\n",
       "    </tr>\n",
       "    <tr>\n",
       "      <th>4</th>\n",
       "      <td>0</td>\n",
       "      <td>62</td>\n",
       "      <td>0.001747</td>\n",
       "      <td>0-62</td>\n",
       "      <td>22.0</td>\n",
       "      <td>1791.0</td>\n",
       "      <td>4.045455</td>\n",
       "      <td>0.000871</td>\n",
       "      <td>4.0</td>\n",
       "      <td>217.0</td>\n",
       "      <td>...</td>\n",
       "      <td>0.002211</td>\n",
       "      <td>0.000087</td>\n",
       "      <td>0.000438</td>\n",
       "      <td>0.000267</td>\n",
       "      <td>0.001816</td>\n",
       "      <td>0.000000</td>\n",
       "      <td>0.000764</td>\n",
       "      <td>0.000469</td>\n",
       "      <td>0.002469</td>\n",
       "      <td>0.000009</td>\n",
       "    </tr>\n",
       "    <tr>\n",
       "      <th>...</th>\n",
       "      <td>...</td>\n",
       "      <td>...</td>\n",
       "      <td>...</td>\n",
       "      <td>...</td>\n",
       "      <td>...</td>\n",
       "      <td>...</td>\n",
       "      <td>...</td>\n",
       "      <td>...</td>\n",
       "      <td>...</td>\n",
       "      <td>...</td>\n",
       "      <td>...</td>\n",
       "      <td>...</td>\n",
       "      <td>...</td>\n",
       "      <td>...</td>\n",
       "      <td>...</td>\n",
       "      <td>...</td>\n",
       "      <td>...</td>\n",
       "      <td>...</td>\n",
       "      <td>...</td>\n",
       "      <td>...</td>\n",
       "      <td>...</td>\n",
       "    </tr>\n",
       "    <tr>\n",
       "      <th>428927</th>\n",
       "      <td>126</td>\n",
       "      <td>32751</td>\n",
       "      <td>0.003461</td>\n",
       "      <td>126-32751</td>\n",
       "      <td>37.0</td>\n",
       "      <td>2570.0</td>\n",
       "      <td>2.783784</td>\n",
       "      <td>0.002171</td>\n",
       "      <td>8.0</td>\n",
       "      <td>1138.0</td>\n",
       "      <td>...</td>\n",
       "      <td>0.003634</td>\n",
       "      <td>0.000251</td>\n",
       "      <td>0.000735</td>\n",
       "      <td>0.000307</td>\n",
       "      <td>0.002456</td>\n",
       "      <td>0.000000</td>\n",
       "      <td>0.001210</td>\n",
       "      <td>0.000579</td>\n",
       "      <td>0.003971</td>\n",
       "      <td>0.000293</td>\n",
       "    </tr>\n",
       "    <tr>\n",
       "      <th>428928</th>\n",
       "      <td>126</td>\n",
       "      <td>32753</td>\n",
       "      <td>0.003113</td>\n",
       "      <td>126-32753</td>\n",
       "      <td>43.0</td>\n",
       "      <td>2323.0</td>\n",
       "      <td>3.418605</td>\n",
       "      <td>0.002180</td>\n",
       "      <td>5.0</td>\n",
       "      <td>405.0</td>\n",
       "      <td>...</td>\n",
       "      <td>0.005581</td>\n",
       "      <td>0.000003</td>\n",
       "      <td>0.000522</td>\n",
       "      <td>0.000340</td>\n",
       "      <td>0.002413</td>\n",
       "      <td>0.000000</td>\n",
       "      <td>0.000795</td>\n",
       "      <td>0.000560</td>\n",
       "      <td>0.003772</td>\n",
       "      <td>0.000066</td>\n",
       "    </tr>\n",
       "    <tr>\n",
       "      <th>428929</th>\n",
       "      <td>126</td>\n",
       "      <td>32758</td>\n",
       "      <td>0.004070</td>\n",
       "      <td>126-32758</td>\n",
       "      <td>35.0</td>\n",
       "      <td>3740.0</td>\n",
       "      <td>2.800000</td>\n",
       "      <td>0.001921</td>\n",
       "      <td>1.0</td>\n",
       "      <td>105.0</td>\n",
       "      <td>...</td>\n",
       "      <td>0.002943</td>\n",
       "      <td>0.000172</td>\n",
       "      <td>0.000596</td>\n",
       "      <td>0.000285</td>\n",
       "      <td>0.001461</td>\n",
       "      <td>0.000000</td>\n",
       "      <td>0.000945</td>\n",
       "      <td>0.000441</td>\n",
       "      <td>0.002202</td>\n",
       "      <td>0.000262</td>\n",
       "    </tr>\n",
       "    <tr>\n",
       "      <th>428930</th>\n",
       "      <td>126</td>\n",
       "      <td>32763</td>\n",
       "      <td>0.003357</td>\n",
       "      <td>126-32763</td>\n",
       "      <td>80.0</td>\n",
       "      <td>9389.0</td>\n",
       "      <td>2.925000</td>\n",
       "      <td>0.002051</td>\n",
       "      <td>10.0</td>\n",
       "      <td>1076.0</td>\n",
       "      <td>...</td>\n",
       "      <td>0.003772</td>\n",
       "      <td>0.000386</td>\n",
       "      <td>0.000859</td>\n",
       "      <td>0.000376</td>\n",
       "      <td>0.002417</td>\n",
       "      <td>0.000000</td>\n",
       "      <td>0.001276</td>\n",
       "      <td>0.000653</td>\n",
       "      <td>0.003824</td>\n",
       "      <td>0.000328</td>\n",
       "    </tr>\n",
       "    <tr>\n",
       "      <th>428931</th>\n",
       "      <td>126</td>\n",
       "      <td>32767</td>\n",
       "      <td>0.002090</td>\n",
       "      <td>126-32767</td>\n",
       "      <td>36.0</td>\n",
       "      <td>5325.0</td>\n",
       "      <td>3.000000</td>\n",
       "      <td>0.001041</td>\n",
       "      <td>3.0</td>\n",
       "      <td>321.0</td>\n",
       "      <td>...</td>\n",
       "      <td>0.002365</td>\n",
       "      <td>0.000123</td>\n",
       "      <td>0.000576</td>\n",
       "      <td>0.000275</td>\n",
       "      <td>0.001518</td>\n",
       "      <td>0.000000</td>\n",
       "      <td>0.000857</td>\n",
       "      <td>0.000452</td>\n",
       "      <td>0.002727</td>\n",
       "      <td>0.000287</td>\n",
       "    </tr>\n",
       "  </tbody>\n",
       "</table>\n",
       "<p>428932 rows × 298 columns</p>\n",
       "</div>"
      ],
      "text/plain": [
       "        stock_id  time_id    target     row_id  seconds_in_bucket_size_0_600  \\\n",
       "0              0        5  0.004136        0-5                          40.0   \n",
       "1              0       11  0.001445       0-11                          30.0   \n",
       "2              0       16  0.002168       0-16                          25.0   \n",
       "3              0       31  0.002195       0-31                          15.0   \n",
       "4              0       62  0.001747       0-62                          22.0   \n",
       "...          ...      ...       ...        ...                           ...   \n",
       "428927       126    32751  0.003461  126-32751                          37.0   \n",
       "428928       126    32753  0.003113  126-32753                          43.0   \n",
       "428929       126    32758  0.004070  126-32758                          35.0   \n",
       "428930       126    32763  0.003357  126-32763                          80.0   \n",
       "428931       126    32767  0.002090  126-32767                          36.0   \n",
       "\n",
       "        size_sum_0_600  order_count_mean_0_600  \\\n",
       "0               3179.0                2.750000   \n",
       "1               1289.0                1.900000   \n",
       "2               2161.0                2.720000   \n",
       "3               1962.0                3.933333   \n",
       "4               1791.0                4.045455   \n",
       "...                ...                     ...   \n",
       "428927          2570.0                2.783784   \n",
       "428928          2323.0                3.418605   \n",
       "428929          3740.0                2.800000   \n",
       "428930          9389.0                2.925000   \n",
       "428931          5325.0                3.000000   \n",
       "\n",
       "        log_return_price_realized_volatility_0_600  \\\n",
       "0                                         0.002006   \n",
       "1                                         0.000901   \n",
       "2                                         0.001961   \n",
       "3                                         0.001561   \n",
       "4                                         0.000871   \n",
       "...                                            ...   \n",
       "428927                                    0.002171   \n",
       "428928                                    0.002180   \n",
       "428929                                    0.001921   \n",
       "428930                                    0.002051   \n",
       "428931                                    0.001041   \n",
       "\n",
       "        seconds_in_bucket_size_0_100  size_sum_0_100  ...  \\\n",
       "0                                6.0           768.0  ...   \n",
       "1                                5.0           115.0  ...   \n",
       "2                                2.0           129.0  ...   \n",
       "3                                2.0            29.0  ...   \n",
       "4                                4.0           217.0  ...   \n",
       "...                              ...             ...  ...   \n",
       "428927                           8.0          1138.0  ...   \n",
       "428928                           5.0           405.0  ...   \n",
       "428929                           1.0           105.0  ...   \n",
       "428930                          10.0          1076.0  ...   \n",
       "428931                           3.0           321.0  ...   \n",
       "\n",
       "        log_return1_realized_volatility_400_500_max_time  \\\n",
       "0                                               0.004686   \n",
       "1                                               0.002603   \n",
       "2                                               0.002667   \n",
       "3                                               0.003008   \n",
       "4                                               0.002211   \n",
       "...                                                  ...   \n",
       "428927                                          0.003634   \n",
       "428928                                          0.005581   \n",
       "428929                                          0.002943   \n",
       "428930                                          0.003772   \n",
       "428931                                          0.002365   \n",
       "\n",
       "        log_return1_realized_volatility_400_500_min_time  \\\n",
       "0                                               0.000426   \n",
       "1                                               0.000036   \n",
       "2                                               0.000013   \n",
       "3                                               0.000108   \n",
       "4                                               0.000087   \n",
       "...                                                  ...   \n",
       "428927                                          0.000251   \n",
       "428928                                          0.000003   \n",
       "428929                                          0.000172   \n",
       "428930                                          0.000386   \n",
       "428931                                          0.000123   \n",
       "\n",
       "        log_return_price_realized_volatility_500_600_mean_time  \\\n",
       "0                                                     0.001066   \n",
       "1                                                     0.000476   \n",
       "2                                                     0.000634   \n",
       "3                                                     0.000563   \n",
       "4                                                     0.000438   \n",
       "...                                                        ...   \n",
       "428927                                                0.000735   \n",
       "428928                                                0.000522   \n",
       "428929                                                0.000596   \n",
       "428930                                                0.000859   \n",
       "428931                                                0.000576   \n",
       "\n",
       "        log_return_price_realized_volatility_500_600_std_time  \\\n",
       "0                                                    0.000431   \n",
       "1                                                    0.000306   \n",
       "2                                                    0.000301   \n",
       "3                                                    0.000440   \n",
       "4                                                    0.000267   \n",
       "...                                                       ...   \n",
       "428927                                               0.000307   \n",
       "428928                                               0.000340   \n",
       "428929                                               0.000285   \n",
       "428930                                               0.000376   \n",
       "428931                                               0.000275   \n",
       "\n",
       "        log_return_price_realized_volatility_500_600_max_time  \\\n",
       "0                                                    0.002841   \n",
       "1                                                    0.002636   \n",
       "2                                                    0.001923   \n",
       "3                                                    0.003327   \n",
       "4                                                    0.001816   \n",
       "...                                                       ...   \n",
       "428927                                               0.002456   \n",
       "428928                                               0.002413   \n",
       "428929                                               0.001461   \n",
       "428930                                               0.002417   \n",
       "428931                                               0.001518   \n",
       "\n",
       "        log_return_price_realized_volatility_500_600_min_time  \\\n",
       "0                                                    0.000013   \n",
       "1                                                    0.000000   \n",
       "2                                                    0.000114   \n",
       "3                                                    0.000000   \n",
       "4                                                    0.000000   \n",
       "...                                                       ...   \n",
       "428927                                               0.000000   \n",
       "428928                                               0.000000   \n",
       "428929                                               0.000000   \n",
       "428930                                               0.000000   \n",
       "428931                                               0.000000   \n",
       "\n",
       "        log_return1_realized_volatility_500_600_mean_time  \\\n",
       "0                                                0.001728   \n",
       "1                                                0.000802   \n",
       "2                                                0.000925   \n",
       "3                                                0.000948   \n",
       "4                                                0.000764   \n",
       "...                                                   ...   \n",
       "428927                                           0.001210   \n",
       "428928                                           0.000795   \n",
       "428929                                           0.000945   \n",
       "428930                                           0.001276   \n",
       "428931                                           0.000857   \n",
       "\n",
       "        log_return1_realized_volatility_500_600_std_time  \\\n",
       "0                                               0.000950   \n",
       "1                                               0.000504   \n",
       "2                                               0.000371   \n",
       "3                                               0.000547   \n",
       "4                                               0.000469   \n",
       "...                                                  ...   \n",
       "428927                                          0.000579   \n",
       "428928                                          0.000560   \n",
       "428929                                          0.000441   \n",
       "428930                                          0.000653   \n",
       "428931                                          0.000452   \n",
       "\n",
       "        log_return1_realized_volatility_500_600_max_time  \\\n",
       "0                                               0.007466   \n",
       "1                                               0.003575   \n",
       "2                                               0.002453   \n",
       "3                                               0.002835   \n",
       "4                                               0.002469   \n",
       "...                                                  ...   \n",
       "428927                                          0.003971   \n",
       "428928                                          0.003772   \n",
       "428929                                          0.002202   \n",
       "428930                                          0.003824   \n",
       "428931                                          0.002727   \n",
       "\n",
       "        log_return1_realized_volatility_500_600_min_time  \n",
       "0                                               0.000411  \n",
       "1                                               0.000133  \n",
       "2                                               0.000302  \n",
       "3                                               0.000163  \n",
       "4                                               0.000009  \n",
       "...                                                  ...  \n",
       "428927                                          0.000293  \n",
       "428928                                          0.000066  \n",
       "428929                                          0.000262  \n",
       "428930                                          0.000328  \n",
       "428931                                          0.000287  \n",
       "\n",
       "[428932 rows x 298 columns]"
      ]
     },
     "execution_count": 42,
     "metadata": {},
     "output_type": "execute_result"
    }
   ],
   "source": [
    "train_df10m"
   ]
  },
  {
   "cell_type": "code",
   "execution_count": 43,
   "id": "interracial-address",
   "metadata": {},
   "outputs": [],
   "source": [
    "train_df10m.to_csv('train_10m.csv')"
   ]
  },
  {
   "cell_type": "code",
   "execution_count": 44,
   "id": "imposed-basement",
   "metadata": {},
   "outputs": [
    {
     "name": "stdout",
     "output_type": "stream",
     "text": [
      "Training fold 1\n"
     ]
    },
    {
     "name": "stderr",
     "output_type": "stream",
     "text": [
      "/home/slex/programy/anaconda3/envs/fastai/lib/python3.8/site-packages/lightgbm/basic.py:1551: UserWarning: Using categorical_feature in Dataset.\n",
      "  warnings.warn('Using categorical_feature in Dataset.')\n",
      "/home/slex/programy/anaconda3/envs/fastai/lib/python3.8/site-packages/lightgbm/basic.py:1286: UserWarning: Overriding the parameters from Reference Dataset.\n",
      "  warnings.warn('Overriding the parameters from Reference Dataset.')\n",
      "/home/slex/programy/anaconda3/envs/fastai/lib/python3.8/site-packages/lightgbm/basic.py:1098: UserWarning: categorical_column in param dict is overridden.\n",
      "  warnings.warn('{} in param dict is overridden.'.format(cat_alias))\n"
     ]
    },
    {
     "name": "stdout",
     "output_type": "stream",
     "text": [
      "Training until validation scores don't improve for 25 rounds\n",
      "[100]\ttraining's rmse: 0.0004681\ttraining's RMSPE: 0.21672\tvalid_1's rmse: 0.000478425\tvalid_1's RMSPE: 0.221103\n",
      "[200]\ttraining's rmse: 0.00045131\ttraining's RMSPE: 0.208947\tvalid_1's rmse: 0.000465244\tvalid_1's RMSPE: 0.215011\n",
      "[300]\ttraining's rmse: 0.00044067\ttraining's RMSPE: 0.204021\tvalid_1's rmse: 0.000457416\tvalid_1's RMSPE: 0.211393\n",
      "[400]\ttraining's rmse: 0.000431289\ttraining's RMSPE: 0.199678\tvalid_1's rmse: 0.000451045\tvalid_1's RMSPE: 0.208449\n",
      "[500]\ttraining's rmse: 0.000423815\ttraining's RMSPE: 0.196217\tvalid_1's rmse: 0.000445772\tvalid_1's RMSPE: 0.206012\n",
      "[600]\ttraining's rmse: 0.00041749\ttraining's RMSPE: 0.193289\tvalid_1's rmse: 0.000441969\tvalid_1's RMSPE: 0.204255\n",
      "[700]\ttraining's rmse: 0.000410987\ttraining's RMSPE: 0.190278\tvalid_1's rmse: 0.000437877\tvalid_1's RMSPE: 0.202364\n",
      "[800]\ttraining's rmse: 0.000406037\ttraining's RMSPE: 0.187987\tvalid_1's rmse: 0.000435362\tvalid_1's RMSPE: 0.201201\n",
      "[900]\ttraining's rmse: 0.000401474\ttraining's RMSPE: 0.185874\tvalid_1's rmse: 0.000433107\tvalid_1's RMSPE: 0.200159\n",
      "[1000]\ttraining's rmse: 0.00039749\ttraining's RMSPE: 0.18403\tvalid_1's rmse: 0.000431391\tvalid_1's RMSPE: 0.199366\n",
      "[1100]\ttraining's rmse: 0.000393576\ttraining's RMSPE: 0.182217\tvalid_1's rmse: 0.000429879\tvalid_1's RMSPE: 0.198667\n",
      "[1200]\ttraining's rmse: 0.000390113\ttraining's RMSPE: 0.180614\tvalid_1's rmse: 0.00042831\tvalid_1's RMSPE: 0.197942\n",
      "Early stopping, best iteration is:\n",
      "[1205]\ttraining's rmse: 0.000389909\ttraining's RMSPE: 0.18052\tvalid_1's rmse: 0.000428248\tvalid_1's RMSPE: 0.197913\n",
      "Training fold 2\n"
     ]
    },
    {
     "name": "stderr",
     "output_type": "stream",
     "text": [
      "/home/slex/programy/anaconda3/envs/fastai/lib/python3.8/site-packages/lightgbm/basic.py:1551: UserWarning: Using categorical_feature in Dataset.\n",
      "  warnings.warn('Using categorical_feature in Dataset.')\n",
      "/home/slex/programy/anaconda3/envs/fastai/lib/python3.8/site-packages/lightgbm/basic.py:1286: UserWarning: Overriding the parameters from Reference Dataset.\n",
      "  warnings.warn('Overriding the parameters from Reference Dataset.')\n",
      "/home/slex/programy/anaconda3/envs/fastai/lib/python3.8/site-packages/lightgbm/basic.py:1098: UserWarning: categorical_column in param dict is overridden.\n",
      "  warnings.warn('{} in param dict is overridden.'.format(cat_alias))\n"
     ]
    },
    {
     "name": "stdout",
     "output_type": "stream",
     "text": [
      "Training until validation scores don't improve for 25 rounds\n",
      "[100]\ttraining's rmse: 0.000470718\ttraining's RMSPE: 0.217706\tvalid_1's rmse: 0.000489113\tvalid_1's RMSPE: 0.226982\n",
      "[200]\ttraining's rmse: 0.000454326\ttraining's RMSPE: 0.210125\tvalid_1's rmse: 0.000476942\tvalid_1's RMSPE: 0.221334\n",
      "[300]\ttraining's rmse: 0.000442971\ttraining's RMSPE: 0.204873\tvalid_1's rmse: 0.000469089\tvalid_1's RMSPE: 0.21769\n",
      "[400]\ttraining's rmse: 0.000432688\ttraining's RMSPE: 0.200117\tvalid_1's rmse: 0.000462898\tvalid_1's RMSPE: 0.214816\n",
      "[500]\ttraining's rmse: 0.000424882\ttraining's RMSPE: 0.196507\tvalid_1's rmse: 0.000457475\tvalid_1's RMSPE: 0.2123\n",
      "Early stopping, best iteration is:\n",
      "[546]\ttraining's rmse: 0.000421904\ttraining's RMSPE: 0.19513\tvalid_1's rmse: 0.000455843\tvalid_1's RMSPE: 0.211542\n",
      "Training fold 3\n"
     ]
    },
    {
     "name": "stderr",
     "output_type": "stream",
     "text": [
      "/home/slex/programy/anaconda3/envs/fastai/lib/python3.8/site-packages/lightgbm/basic.py:1551: UserWarning: Using categorical_feature in Dataset.\n",
      "  warnings.warn('Using categorical_feature in Dataset.')\n",
      "/home/slex/programy/anaconda3/envs/fastai/lib/python3.8/site-packages/lightgbm/basic.py:1286: UserWarning: Overriding the parameters from Reference Dataset.\n",
      "  warnings.warn('Overriding the parameters from Reference Dataset.')\n",
      "/home/slex/programy/anaconda3/envs/fastai/lib/python3.8/site-packages/lightgbm/basic.py:1098: UserWarning: categorical_column in param dict is overridden.\n",
      "  warnings.warn('{} in param dict is overridden.'.format(cat_alias))\n"
     ]
    },
    {
     "name": "stdout",
     "output_type": "stream",
     "text": [
      "Training until validation scores don't improve for 25 rounds\n",
      "[100]\ttraining's rmse: 0.000467473\ttraining's RMSPE: 0.216451\tvalid_1's rmse: 0.000474465\tvalid_1's RMSPE: 0.219188\n",
      "[200]\ttraining's rmse: 0.000451249\ttraining's RMSPE: 0.208939\tvalid_1's rmse: 0.000461461\tvalid_1's RMSPE: 0.213181\n",
      "[300]\ttraining's rmse: 0.00044066\ttraining's RMSPE: 0.204036\tvalid_1's rmse: 0.000453675\tvalid_1's RMSPE: 0.209584\n",
      "[400]\ttraining's rmse: 0.000431422\ttraining's RMSPE: 0.199758\tvalid_1's rmse: 0.000447128\tvalid_1's RMSPE: 0.206559\n",
      "[500]\ttraining's rmse: 0.000423512\ttraining's RMSPE: 0.196096\tvalid_1's rmse: 0.000441314\tvalid_1's RMSPE: 0.203874\n",
      "[600]\ttraining's rmse: 0.000416863\ttraining's RMSPE: 0.193017\tvalid_1's rmse: 0.000437296\tvalid_1's RMSPE: 0.202018\n",
      "[700]\ttraining's rmse: 0.00041145\ttraining's RMSPE: 0.190511\tvalid_1's rmse: 0.000434473\tvalid_1's RMSPE: 0.200713\n",
      "[800]\ttraining's rmse: 0.000406816\ttraining's RMSPE: 0.188365\tvalid_1's rmse: 0.000432023\tvalid_1's RMSPE: 0.199582\n",
      "[900]\ttraining's rmse: 0.000402112\ttraining's RMSPE: 0.186187\tvalid_1's rmse: 0.000429712\tvalid_1's RMSPE: 0.198514\n",
      "[1000]\ttraining's rmse: 0.000397653\ttraining's RMSPE: 0.184123\tvalid_1's rmse: 0.000427548\tvalid_1's RMSPE: 0.197514\n",
      "[1100]\ttraining's rmse: 0.000393943\ttraining's RMSPE: 0.182405\tvalid_1's rmse: 0.000426017\tvalid_1's RMSPE: 0.196807\n",
      "[1200]\ttraining's rmse: 0.000390567\ttraining's RMSPE: 0.180842\tvalid_1's rmse: 0.000424683\tvalid_1's RMSPE: 0.19619\n",
      "[1300]\ttraining's rmse: 0.000387241\ttraining's RMSPE: 0.179302\tvalid_1's rmse: 0.000423518\tvalid_1's RMSPE: 0.195652\n",
      "[1400]\ttraining's rmse: 0.00038441\ttraining's RMSPE: 0.177991\tvalid_1's rmse: 0.000422462\tvalid_1's RMSPE: 0.195164\n",
      "[1500]\ttraining's rmse: 0.000381601\ttraining's RMSPE: 0.17669\tvalid_1's rmse: 0.000421611\tvalid_1's RMSPE: 0.194771\n",
      "[1600]\ttraining's rmse: 0.000378783\ttraining's RMSPE: 0.175385\tvalid_1's rmse: 0.000420888\tvalid_1's RMSPE: 0.194437\n",
      "[1700]\ttraining's rmse: 0.000375807\ttraining's RMSPE: 0.174007\tvalid_1's rmse: 0.000419734\tvalid_1's RMSPE: 0.193904\n",
      "[1800]\ttraining's rmse: 0.000373319\ttraining's RMSPE: 0.172855\tvalid_1's rmse: 0.000419124\tvalid_1's RMSPE: 0.193622\n",
      "[1900]\ttraining's rmse: 0.000370922\ttraining's RMSPE: 0.171745\tvalid_1's rmse: 0.000418719\tvalid_1's RMSPE: 0.193436\n",
      "[2000]\ttraining's rmse: 0.000368341\ttraining's RMSPE: 0.17055\tvalid_1's rmse: 0.000418016\tvalid_1's RMSPE: 0.193111\n",
      "[2100]\ttraining's rmse: 0.000366142\ttraining's RMSPE: 0.169532\tvalid_1's rmse: 0.000417687\tvalid_1's RMSPE: 0.192959\n",
      "Early stopping, best iteration is:\n",
      "[2141]\ttraining's rmse: 0.0003652\ttraining's RMSPE: 0.169096\tvalid_1's rmse: 0.000417452\tvalid_1's RMSPE: 0.19285\n",
      "Training fold 4\n"
     ]
    },
    {
     "name": "stderr",
     "output_type": "stream",
     "text": [
      "/home/slex/programy/anaconda3/envs/fastai/lib/python3.8/site-packages/lightgbm/basic.py:1551: UserWarning: Using categorical_feature in Dataset.\n",
      "  warnings.warn('Using categorical_feature in Dataset.')\n",
      "/home/slex/programy/anaconda3/envs/fastai/lib/python3.8/site-packages/lightgbm/basic.py:1286: UserWarning: Overriding the parameters from Reference Dataset.\n",
      "  warnings.warn('Overriding the parameters from Reference Dataset.')\n",
      "/home/slex/programy/anaconda3/envs/fastai/lib/python3.8/site-packages/lightgbm/basic.py:1098: UserWarning: categorical_column in param dict is overridden.\n",
      "  warnings.warn('{} in param dict is overridden.'.format(cat_alias))\n"
     ]
    },
    {
     "name": "stdout",
     "output_type": "stream",
     "text": [
      "Training until validation scores don't improve for 25 rounds\n",
      "[100]\ttraining's rmse: 0.000469214\ttraining's RMSPE: 0.216886\tvalid_1's rmse: 0.00047512\tvalid_1's RMSPE: 0.220992\n",
      "[200]\ttraining's rmse: 0.000453081\ttraining's RMSPE: 0.209428\tvalid_1's rmse: 0.000463667\tvalid_1's RMSPE: 0.215665\n",
      "[300]\ttraining's rmse: 0.000441357\ttraining's RMSPE: 0.204009\tvalid_1's rmse: 0.00045627\tvalid_1's RMSPE: 0.212224\n",
      "[400]\ttraining's rmse: 0.000431577\ttraining's RMSPE: 0.199489\tvalid_1's rmse: 0.000449827\tvalid_1's RMSPE: 0.209228\n",
      "[500]\ttraining's rmse: 0.000424081\ttraining's RMSPE: 0.196024\tvalid_1's rmse: 0.000445424\tvalid_1's RMSPE: 0.20718\n",
      "[600]\ttraining's rmse: 0.000417743\ttraining's RMSPE: 0.193094\tvalid_1's rmse: 0.000442064\tvalid_1's RMSPE: 0.205617\n",
      "[700]\ttraining's rmse: 0.000411916\ttraining's RMSPE: 0.1904\tvalid_1's rmse: 0.000439013\tvalid_1's RMSPE: 0.204198\n",
      "[800]\ttraining's rmse: 0.000407238\ttraining's RMSPE: 0.188238\tvalid_1's rmse: 0.000437326\tvalid_1's RMSPE: 0.203413\n",
      "[900]\ttraining's rmse: 0.000402183\ttraining's RMSPE: 0.185902\tvalid_1's rmse: 0.000434962\tvalid_1's RMSPE: 0.202314\n",
      "[1000]\ttraining's rmse: 0.000398127\ttraining's RMSPE: 0.184027\tvalid_1's rmse: 0.00043356\tvalid_1's RMSPE: 0.201661\n",
      "Early stopping, best iteration is:\n",
      "[1017]\ttraining's rmse: 0.00039755\ttraining's RMSPE: 0.18376\tvalid_1's rmse: 0.000433344\tvalid_1's RMSPE: 0.201561\n",
      "Training fold 5\n"
     ]
    },
    {
     "name": "stderr",
     "output_type": "stream",
     "text": [
      "/home/slex/programy/anaconda3/envs/fastai/lib/python3.8/site-packages/lightgbm/basic.py:1551: UserWarning: Using categorical_feature in Dataset.\n",
      "  warnings.warn('Using categorical_feature in Dataset.')\n",
      "/home/slex/programy/anaconda3/envs/fastai/lib/python3.8/site-packages/lightgbm/basic.py:1286: UserWarning: Overriding the parameters from Reference Dataset.\n",
      "  warnings.warn('Overriding the parameters from Reference Dataset.')\n",
      "/home/slex/programy/anaconda3/envs/fastai/lib/python3.8/site-packages/lightgbm/basic.py:1098: UserWarning: categorical_column in param dict is overridden.\n",
      "  warnings.warn('{} in param dict is overridden.'.format(cat_alias))\n"
     ]
    },
    {
     "name": "stdout",
     "output_type": "stream",
     "text": [
      "Training until validation scores don't improve for 25 rounds\n",
      "[100]\ttraining's rmse: 0.000467712\ttraining's RMSPE: 0.216705\tvalid_1's rmse: 0.000479267\tvalid_1's RMSPE: 0.220815\n",
      "[200]\ttraining's rmse: 0.000451234\ttraining's RMSPE: 0.209071\tvalid_1's rmse: 0.000466372\tvalid_1's RMSPE: 0.214874\n",
      "[300]\ttraining's rmse: 0.000439878\ttraining's RMSPE: 0.203809\tvalid_1's rmse: 0.00045851\tvalid_1's RMSPE: 0.211252\n",
      "[400]\ttraining's rmse: 0.00043088\ttraining's RMSPE: 0.19964\tvalid_1's rmse: 0.000451811\tvalid_1's RMSPE: 0.208165\n",
      "[500]\ttraining's rmse: 0.000423856\ttraining's RMSPE: 0.196385\tvalid_1's rmse: 0.000447868\tvalid_1's RMSPE: 0.206349\n",
      "[600]\ttraining's rmse: 0.000416625\ttraining's RMSPE: 0.193035\tvalid_1's rmse: 0.000443584\tvalid_1's RMSPE: 0.204375\n",
      "[700]\ttraining's rmse: 0.000410778\ttraining's RMSPE: 0.190326\tvalid_1's rmse: 0.000439899\tvalid_1's RMSPE: 0.202677\n",
      "[800]\ttraining's rmse: 0.000406206\ttraining's RMSPE: 0.188208\tvalid_1's rmse: 0.000437816\tvalid_1's RMSPE: 0.201718\n",
      "Early stopping, best iteration is:\n",
      "[800]\ttraining's rmse: 0.000406206\ttraining's RMSPE: 0.188208\tvalid_1's rmse: 0.000437816\tvalid_1's RMSPE: 0.201718\n",
      "Our out of folds RMSPE is 0.20121038105908504\n"
     ]
    }
   ],
   "source": [
    "_=train_models(train_df10m)"
   ]
  },
  {
   "cell_type": "markdown",
   "id": "random-saver",
   "metadata": {},
   "source": [
    "## LGBM 10m with trained embeddings"
   ]
  },
  {
   "cell_type": "code",
   "execution_count": 64,
   "id": "humanitarian-shock",
   "metadata": {},
   "outputs": [],
   "source": [
    "train_df10m = pd.read_csv('train_10m.csv')"
   ]
  },
  {
   "cell_type": "code",
   "execution_count": 50,
   "id": "dried-robert",
   "metadata": {},
   "outputs": [],
   "source": [
    "train_10m_with_embs = append_embs(train_df10m, categorify, learn.model.embeds[0], learn.model.embeds[1])"
   ]
  },
  {
   "cell_type": "code",
   "execution_count": 51,
   "id": "dangerous-doctor",
   "metadata": {},
   "outputs": [
    {
     "data": {
      "text/html": [
       "<div>\n",
       "<style scoped>\n",
       "    .dataframe tbody tr th:only-of-type {\n",
       "        vertical-align: middle;\n",
       "    }\n",
       "\n",
       "    .dataframe tbody tr th {\n",
       "        vertical-align: top;\n",
       "    }\n",
       "\n",
       "    .dataframe thead th {\n",
       "        text-align: right;\n",
       "    }\n",
       "</style>\n",
       "<table border=\"1\" class=\"dataframe\">\n",
       "  <thead>\n",
       "    <tr style=\"text-align: right;\">\n",
       "      <th></th>\n",
       "      <th>stock_id</th>\n",
       "      <th>time_id</th>\n",
       "      <th>target</th>\n",
       "      <th>row_id</th>\n",
       "      <th>seconds_in_bucket_size_0_600</th>\n",
       "      <th>size_sum_0_600</th>\n",
       "      <th>order_count_mean_0_600</th>\n",
       "      <th>log_return_price_realized_volatility_0_600</th>\n",
       "      <th>seconds_in_bucket_size_0_100</th>\n",
       "      <th>size_sum_0_100</th>\n",
       "      <th>...</th>\n",
       "      <th>time_emb0</th>\n",
       "      <th>time_emb1</th>\n",
       "      <th>time_emb2</th>\n",
       "      <th>time_emb3</th>\n",
       "      <th>time_emb4</th>\n",
       "      <th>time_emb5</th>\n",
       "      <th>time_emb6</th>\n",
       "      <th>time_emb7</th>\n",
       "      <th>time_emb8</th>\n",
       "      <th>time_emb9</th>\n",
       "    </tr>\n",
       "  </thead>\n",
       "  <tbody>\n",
       "    <tr>\n",
       "      <th>0</th>\n",
       "      <td>0</td>\n",
       "      <td>5</td>\n",
       "      <td>0.004136</td>\n",
       "      <td>0-5</td>\n",
       "      <td>40.0</td>\n",
       "      <td>3179.0</td>\n",
       "      <td>2.750000</td>\n",
       "      <td>0.002006</td>\n",
       "      <td>6.0</td>\n",
       "      <td>768.0</td>\n",
       "      <td>...</td>\n",
       "      <td>-0.025587</td>\n",
       "      <td>-0.137472</td>\n",
       "      <td>0.139260</td>\n",
       "      <td>-0.050806</td>\n",
       "      <td>-0.261243</td>\n",
       "      <td>-0.194197</td>\n",
       "      <td>-0.174686</td>\n",
       "      <td>-0.182866</td>\n",
       "      <td>-0.082646</td>\n",
       "      <td>-0.002412</td>\n",
       "    </tr>\n",
       "    <tr>\n",
       "      <th>1</th>\n",
       "      <td>0</td>\n",
       "      <td>11</td>\n",
       "      <td>0.001445</td>\n",
       "      <td>0-11</td>\n",
       "      <td>30.0</td>\n",
       "      <td>1289.0</td>\n",
       "      <td>1.900000</td>\n",
       "      <td>0.000901</td>\n",
       "      <td>5.0</td>\n",
       "      <td>115.0</td>\n",
       "      <td>...</td>\n",
       "      <td>0.081401</td>\n",
       "      <td>0.285139</td>\n",
       "      <td>0.068592</td>\n",
       "      <td>0.016952</td>\n",
       "      <td>0.256820</td>\n",
       "      <td>0.200299</td>\n",
       "      <td>-0.002330</td>\n",
       "      <td>0.050801</td>\n",
       "      <td>-0.020215</td>\n",
       "      <td>-0.006541</td>\n",
       "    </tr>\n",
       "    <tr>\n",
       "      <th>2</th>\n",
       "      <td>0</td>\n",
       "      <td>16</td>\n",
       "      <td>0.002168</td>\n",
       "      <td>0-16</td>\n",
       "      <td>25.0</td>\n",
       "      <td>2161.0</td>\n",
       "      <td>2.720000</td>\n",
       "      <td>0.001961</td>\n",
       "      <td>2.0</td>\n",
       "      <td>129.0</td>\n",
       "      <td>...</td>\n",
       "      <td>-0.312756</td>\n",
       "      <td>0.124296</td>\n",
       "      <td>0.195272</td>\n",
       "      <td>-0.350742</td>\n",
       "      <td>-0.224611</td>\n",
       "      <td>0.478563</td>\n",
       "      <td>-0.144404</td>\n",
       "      <td>0.339522</td>\n",
       "      <td>0.324518</td>\n",
       "      <td>-0.310829</td>\n",
       "    </tr>\n",
       "    <tr>\n",
       "      <th>3</th>\n",
       "      <td>0</td>\n",
       "      <td>31</td>\n",
       "      <td>0.002195</td>\n",
       "      <td>0-31</td>\n",
       "      <td>15.0</td>\n",
       "      <td>1962.0</td>\n",
       "      <td>3.933333</td>\n",
       "      <td>0.001561</td>\n",
       "      <td>2.0</td>\n",
       "      <td>29.0</td>\n",
       "      <td>...</td>\n",
       "      <td>-0.269838</td>\n",
       "      <td>-0.255659</td>\n",
       "      <td>0.240358</td>\n",
       "      <td>-0.140966</td>\n",
       "      <td>-0.218252</td>\n",
       "      <td>-0.013182</td>\n",
       "      <td>-0.215490</td>\n",
       "      <td>-0.150979</td>\n",
       "      <td>-0.016923</td>\n",
       "      <td>-0.146056</td>\n",
       "    </tr>\n",
       "    <tr>\n",
       "      <th>4</th>\n",
       "      <td>0</td>\n",
       "      <td>62</td>\n",
       "      <td>0.001747</td>\n",
       "      <td>0-62</td>\n",
       "      <td>22.0</td>\n",
       "      <td>1791.0</td>\n",
       "      <td>4.045455</td>\n",
       "      <td>0.000871</td>\n",
       "      <td>4.0</td>\n",
       "      <td>217.0</td>\n",
       "      <td>...</td>\n",
       "      <td>-0.281641</td>\n",
       "      <td>-0.334068</td>\n",
       "      <td>0.042509</td>\n",
       "      <td>-0.181932</td>\n",
       "      <td>-0.175953</td>\n",
       "      <td>-0.018926</td>\n",
       "      <td>-0.179612</td>\n",
       "      <td>0.026053</td>\n",
       "      <td>0.214317</td>\n",
       "      <td>-0.205210</td>\n",
       "    </tr>\n",
       "    <tr>\n",
       "      <th>...</th>\n",
       "      <td>...</td>\n",
       "      <td>...</td>\n",
       "      <td>...</td>\n",
       "      <td>...</td>\n",
       "      <td>...</td>\n",
       "      <td>...</td>\n",
       "      <td>...</td>\n",
       "      <td>...</td>\n",
       "      <td>...</td>\n",
       "      <td>...</td>\n",
       "      <td>...</td>\n",
       "      <td>...</td>\n",
       "      <td>...</td>\n",
       "      <td>...</td>\n",
       "      <td>...</td>\n",
       "      <td>...</td>\n",
       "      <td>...</td>\n",
       "      <td>...</td>\n",
       "      <td>...</td>\n",
       "      <td>...</td>\n",
       "      <td>...</td>\n",
       "    </tr>\n",
       "    <tr>\n",
       "      <th>428927</th>\n",
       "      <td>126</td>\n",
       "      <td>32751</td>\n",
       "      <td>0.003461</td>\n",
       "      <td>126-32751</td>\n",
       "      <td>37.0</td>\n",
       "      <td>2570.0</td>\n",
       "      <td>2.783784</td>\n",
       "      <td>0.002171</td>\n",
       "      <td>8.0</td>\n",
       "      <td>1138.0</td>\n",
       "      <td>...</td>\n",
       "      <td>-0.214146</td>\n",
       "      <td>-0.254524</td>\n",
       "      <td>0.220342</td>\n",
       "      <td>-0.309527</td>\n",
       "      <td>-0.240333</td>\n",
       "      <td>0.517282</td>\n",
       "      <td>-0.312113</td>\n",
       "      <td>0.266440</td>\n",
       "      <td>0.463562</td>\n",
       "      <td>-0.493132</td>\n",
       "    </tr>\n",
       "    <tr>\n",
       "      <th>428928</th>\n",
       "      <td>126</td>\n",
       "      <td>32753</td>\n",
       "      <td>0.003113</td>\n",
       "      <td>126-32753</td>\n",
       "      <td>43.0</td>\n",
       "      <td>2323.0</td>\n",
       "      <td>3.418605</td>\n",
       "      <td>0.002180</td>\n",
       "      <td>5.0</td>\n",
       "      <td>405.0</td>\n",
       "      <td>...</td>\n",
       "      <td>-0.123949</td>\n",
       "      <td>-0.180638</td>\n",
       "      <td>0.099670</td>\n",
       "      <td>-0.155571</td>\n",
       "      <td>-0.067919</td>\n",
       "      <td>0.146707</td>\n",
       "      <td>-0.114577</td>\n",
       "      <td>-0.031359</td>\n",
       "      <td>0.078393</td>\n",
       "      <td>-0.090751</td>\n",
       "    </tr>\n",
       "    <tr>\n",
       "      <th>428929</th>\n",
       "      <td>126</td>\n",
       "      <td>32758</td>\n",
       "      <td>0.004070</td>\n",
       "      <td>126-32758</td>\n",
       "      <td>35.0</td>\n",
       "      <td>3740.0</td>\n",
       "      <td>2.800000</td>\n",
       "      <td>0.001921</td>\n",
       "      <td>1.0</td>\n",
       "      <td>105.0</td>\n",
       "      <td>...</td>\n",
       "      <td>-0.320554</td>\n",
       "      <td>0.052518</td>\n",
       "      <td>0.175992</td>\n",
       "      <td>-0.195550</td>\n",
       "      <td>-0.225560</td>\n",
       "      <td>0.317942</td>\n",
       "      <td>-0.339985</td>\n",
       "      <td>0.360710</td>\n",
       "      <td>0.199884</td>\n",
       "      <td>-0.344039</td>\n",
       "    </tr>\n",
       "    <tr>\n",
       "      <th>428930</th>\n",
       "      <td>126</td>\n",
       "      <td>32763</td>\n",
       "      <td>0.003357</td>\n",
       "      <td>126-32763</td>\n",
       "      <td>80.0</td>\n",
       "      <td>9389.0</td>\n",
       "      <td>2.925000</td>\n",
       "      <td>0.002051</td>\n",
       "      <td>10.0</td>\n",
       "      <td>1076.0</td>\n",
       "      <td>...</td>\n",
       "      <td>-0.247623</td>\n",
       "      <td>-0.257361</td>\n",
       "      <td>0.087669</td>\n",
       "      <td>-0.013017</td>\n",
       "      <td>-0.103501</td>\n",
       "      <td>-0.415510</td>\n",
       "      <td>-0.224490</td>\n",
       "      <td>-0.326946</td>\n",
       "      <td>0.050746</td>\n",
       "      <td>-0.040909</td>\n",
       "    </tr>\n",
       "    <tr>\n",
       "      <th>428931</th>\n",
       "      <td>126</td>\n",
       "      <td>32767</td>\n",
       "      <td>0.002090</td>\n",
       "      <td>126-32767</td>\n",
       "      <td>36.0</td>\n",
       "      <td>5325.0</td>\n",
       "      <td>3.000000</td>\n",
       "      <td>0.001041</td>\n",
       "      <td>3.0</td>\n",
       "      <td>321.0</td>\n",
       "      <td>...</td>\n",
       "      <td>-0.267998</td>\n",
       "      <td>-0.223784</td>\n",
       "      <td>0.337108</td>\n",
       "      <td>-0.287569</td>\n",
       "      <td>-0.318463</td>\n",
       "      <td>0.152496</td>\n",
       "      <td>-0.239414</td>\n",
       "      <td>0.249702</td>\n",
       "      <td>0.402829</td>\n",
       "      <td>-0.363058</td>\n",
       "    </tr>\n",
       "  </tbody>\n",
       "</table>\n",
       "<p>428932 rows × 318 columns</p>\n",
       "</div>"
      ],
      "text/plain": [
       "        stock_id  time_id    target     row_id  seconds_in_bucket_size_0_600  \\\n",
       "0              0        5  0.004136        0-5                          40.0   \n",
       "1              0       11  0.001445       0-11                          30.0   \n",
       "2              0       16  0.002168       0-16                          25.0   \n",
       "3              0       31  0.002195       0-31                          15.0   \n",
       "4              0       62  0.001747       0-62                          22.0   \n",
       "...          ...      ...       ...        ...                           ...   \n",
       "428927       126    32751  0.003461  126-32751                          37.0   \n",
       "428928       126    32753  0.003113  126-32753                          43.0   \n",
       "428929       126    32758  0.004070  126-32758                          35.0   \n",
       "428930       126    32763  0.003357  126-32763                          80.0   \n",
       "428931       126    32767  0.002090  126-32767                          36.0   \n",
       "\n",
       "        size_sum_0_600  order_count_mean_0_600  \\\n",
       "0               3179.0                2.750000   \n",
       "1               1289.0                1.900000   \n",
       "2               2161.0                2.720000   \n",
       "3               1962.0                3.933333   \n",
       "4               1791.0                4.045455   \n",
       "...                ...                     ...   \n",
       "428927          2570.0                2.783784   \n",
       "428928          2323.0                3.418605   \n",
       "428929          3740.0                2.800000   \n",
       "428930          9389.0                2.925000   \n",
       "428931          5325.0                3.000000   \n",
       "\n",
       "        log_return_price_realized_volatility_0_600  \\\n",
       "0                                         0.002006   \n",
       "1                                         0.000901   \n",
       "2                                         0.001961   \n",
       "3                                         0.001561   \n",
       "4                                         0.000871   \n",
       "...                                            ...   \n",
       "428927                                    0.002171   \n",
       "428928                                    0.002180   \n",
       "428929                                    0.001921   \n",
       "428930                                    0.002051   \n",
       "428931                                    0.001041   \n",
       "\n",
       "        seconds_in_bucket_size_0_100  size_sum_0_100  ...  time_emb0  \\\n",
       "0                                6.0           768.0  ...  -0.025587   \n",
       "1                                5.0           115.0  ...   0.081401   \n",
       "2                                2.0           129.0  ...  -0.312756   \n",
       "3                                2.0            29.0  ...  -0.269838   \n",
       "4                                4.0           217.0  ...  -0.281641   \n",
       "...                              ...             ...  ...        ...   \n",
       "428927                           8.0          1138.0  ...  -0.214146   \n",
       "428928                           5.0           405.0  ...  -0.123949   \n",
       "428929                           1.0           105.0  ...  -0.320554   \n",
       "428930                          10.0          1076.0  ...  -0.247623   \n",
       "428931                           3.0           321.0  ...  -0.267998   \n",
       "\n",
       "        time_emb1  time_emb2  time_emb3  time_emb4  time_emb5  time_emb6  \\\n",
       "0       -0.137472   0.139260  -0.050806  -0.261243  -0.194197  -0.174686   \n",
       "1        0.285139   0.068592   0.016952   0.256820   0.200299  -0.002330   \n",
       "2        0.124296   0.195272  -0.350742  -0.224611   0.478563  -0.144404   \n",
       "3       -0.255659   0.240358  -0.140966  -0.218252  -0.013182  -0.215490   \n",
       "4       -0.334068   0.042509  -0.181932  -0.175953  -0.018926  -0.179612   \n",
       "...           ...        ...        ...        ...        ...        ...   \n",
       "428927  -0.254524   0.220342  -0.309527  -0.240333   0.517282  -0.312113   \n",
       "428928  -0.180638   0.099670  -0.155571  -0.067919   0.146707  -0.114577   \n",
       "428929   0.052518   0.175992  -0.195550  -0.225560   0.317942  -0.339985   \n",
       "428930  -0.257361   0.087669  -0.013017  -0.103501  -0.415510  -0.224490   \n",
       "428931  -0.223784   0.337108  -0.287569  -0.318463   0.152496  -0.239414   \n",
       "\n",
       "        time_emb7  time_emb8  time_emb9  \n",
       "0       -0.182866  -0.082646  -0.002412  \n",
       "1        0.050801  -0.020215  -0.006541  \n",
       "2        0.339522   0.324518  -0.310829  \n",
       "3       -0.150979  -0.016923  -0.146056  \n",
       "4        0.026053   0.214317  -0.205210  \n",
       "...           ...        ...        ...  \n",
       "428927   0.266440   0.463562  -0.493132  \n",
       "428928  -0.031359   0.078393  -0.090751  \n",
       "428929   0.360710   0.199884  -0.344039  \n",
       "428930  -0.326946   0.050746  -0.040909  \n",
       "428931   0.249702   0.402829  -0.363058  \n",
       "\n",
       "[428932 rows x 318 columns]"
      ]
     },
     "execution_count": 51,
     "metadata": {},
     "output_type": "execute_result"
    }
   ],
   "source": [
    "train_10m_with_embs"
   ]
  },
  {
   "cell_type": "code",
   "execution_count": 52,
   "id": "multiple-memorabilia",
   "metadata": {},
   "outputs": [
    {
     "name": "stdout",
     "output_type": "stream",
     "text": [
      "Training fold 1\n"
     ]
    },
    {
     "name": "stderr",
     "output_type": "stream",
     "text": [
      "/home/slex/programy/anaconda3/envs/fastai/lib/python3.8/site-packages/lightgbm/basic.py:1551: UserWarning: Using categorical_feature in Dataset.\n",
      "  warnings.warn('Using categorical_feature in Dataset.')\n",
      "/home/slex/programy/anaconda3/envs/fastai/lib/python3.8/site-packages/lightgbm/basic.py:1286: UserWarning: Overriding the parameters from Reference Dataset.\n",
      "  warnings.warn('Overriding the parameters from Reference Dataset.')\n",
      "/home/slex/programy/anaconda3/envs/fastai/lib/python3.8/site-packages/lightgbm/basic.py:1098: UserWarning: categorical_column in param dict is overridden.\n",
      "  warnings.warn('{} in param dict is overridden.'.format(cat_alias))\n"
     ]
    },
    {
     "name": "stdout",
     "output_type": "stream",
     "text": [
      "Training until validation scores don't improve for 25 rounds\n",
      "[100]\ttraining's rmse: 0.000466976\ttraining's RMSPE: 0.2162\tvalid_1's rmse: 0.000478618\tvalid_1's RMSPE: 0.221192\n",
      "[200]\ttraining's rmse: 0.000449878\ttraining's RMSPE: 0.208284\tvalid_1's rmse: 0.000465269\tvalid_1's RMSPE: 0.215023\n",
      "[300]\ttraining's rmse: 0.000439213\ttraining's RMSPE: 0.203346\tvalid_1's rmse: 0.000457525\tvalid_1's RMSPE: 0.211444\n",
      "[400]\ttraining's rmse: 0.000429675\ttraining's RMSPE: 0.19893\tvalid_1's rmse: 0.000450747\tvalid_1's RMSPE: 0.208312\n",
      "[500]\ttraining's rmse: 0.000422779\ttraining's RMSPE: 0.195738\tvalid_1's rmse: 0.000446229\tvalid_1's RMSPE: 0.206224\n",
      "[600]\ttraining's rmse: 0.000416129\ttraining's RMSPE: 0.192659\tvalid_1's rmse: 0.000441965\tvalid_1's RMSPE: 0.204253\n",
      "[700]\ttraining's rmse: 0.000410219\ttraining's RMSPE: 0.189923\tvalid_1's rmse: 0.000438085\tvalid_1's RMSPE: 0.20246\n",
      "[800]\ttraining's rmse: 0.000405281\ttraining's RMSPE: 0.187637\tvalid_1's rmse: 0.000435558\tvalid_1's RMSPE: 0.201292\n",
      "[900]\ttraining's rmse: 0.000400852\ttraining's RMSPE: 0.185586\tvalid_1's rmse: 0.000433292\tvalid_1's RMSPE: 0.200245\n",
      "[1000]\ttraining's rmse: 0.000396765\ttraining's RMSPE: 0.183694\tvalid_1's rmse: 0.00043165\tvalid_1's RMSPE: 0.199486\n",
      "[1100]\ttraining's rmse: 0.000392704\ttraining's RMSPE: 0.181814\tvalid_1's rmse: 0.000429737\tvalid_1's RMSPE: 0.198602\n",
      "[1200]\ttraining's rmse: 0.000389272\ttraining's RMSPE: 0.180225\tvalid_1's rmse: 0.000428566\tvalid_1's RMSPE: 0.198061\n",
      "[1300]\ttraining's rmse: 0.000385988\ttraining's RMSPE: 0.178704\tvalid_1's rmse: 0.000427622\tvalid_1's RMSPE: 0.197624\n",
      "[1400]\ttraining's rmse: 0.000382607\ttraining's RMSPE: 0.177139\tvalid_1's rmse: 0.000426092\tvalid_1's RMSPE: 0.196917\n",
      "Early stopping, best iteration is:\n",
      "[1472]\ttraining's rmse: 0.000380328\ttraining's RMSPE: 0.176084\tvalid_1's rmse: 0.000425252\tvalid_1's RMSPE: 0.196529\n",
      "Training fold 2\n"
     ]
    },
    {
     "name": "stderr",
     "output_type": "stream",
     "text": [
      "/home/slex/programy/anaconda3/envs/fastai/lib/python3.8/site-packages/lightgbm/basic.py:1551: UserWarning: Using categorical_feature in Dataset.\n",
      "  warnings.warn('Using categorical_feature in Dataset.')\n",
      "/home/slex/programy/anaconda3/envs/fastai/lib/python3.8/site-packages/lightgbm/basic.py:1286: UserWarning: Overriding the parameters from Reference Dataset.\n",
      "  warnings.warn('Overriding the parameters from Reference Dataset.')\n",
      "/home/slex/programy/anaconda3/envs/fastai/lib/python3.8/site-packages/lightgbm/basic.py:1098: UserWarning: categorical_column in param dict is overridden.\n",
      "  warnings.warn('{} in param dict is overridden.'.format(cat_alias))\n"
     ]
    },
    {
     "name": "stdout",
     "output_type": "stream",
     "text": [
      "Training until validation scores don't improve for 25 rounds\n",
      "[100]\ttraining's rmse: 0.000468851\ttraining's RMSPE: 0.216843\tvalid_1's rmse: 0.000486691\tvalid_1's RMSPE: 0.225858\n",
      "[200]\ttraining's rmse: 0.000451998\ttraining's RMSPE: 0.209048\tvalid_1's rmse: 0.000474182\tvalid_1's RMSPE: 0.220053\n",
      "[300]\ttraining's rmse: 0.000439961\ttraining's RMSPE: 0.203481\tvalid_1's rmse: 0.000466721\tvalid_1's RMSPE: 0.216591\n",
      "[400]\ttraining's rmse: 0.000430863\ttraining's RMSPE: 0.199273\tvalid_1's rmse: 0.000462447\tvalid_1's RMSPE: 0.214607\n",
      "[500]\ttraining's rmse: 0.000422491\ttraining's RMSPE: 0.195401\tvalid_1's rmse: 0.000455444\tvalid_1's RMSPE: 0.211357\n",
      "[600]\ttraining's rmse: 0.000416379\ttraining's RMSPE: 0.192575\tvalid_1's rmse: 0.000452775\tvalid_1's RMSPE: 0.210119\n",
      "[700]\ttraining's rmse: 0.000410778\ttraining's RMSPE: 0.189984\tvalid_1's rmse: 0.000451184\tvalid_1's RMSPE: 0.20938\n",
      "[800]\ttraining's rmse: 0.000405888\ttraining's RMSPE: 0.187723\tvalid_1's rmse: 0.000449027\tvalid_1's RMSPE: 0.208379\n",
      "[900]\ttraining's rmse: 0.000401453\ttraining's RMSPE: 0.185671\tvalid_1's rmse: 0.000446349\tvalid_1's RMSPE: 0.207136\n",
      "[1000]\ttraining's rmse: 0.00039732\ttraining's RMSPE: 0.18376\tvalid_1's rmse: 0.000444882\tvalid_1's RMSPE: 0.206456\n",
      "[1100]\ttraining's rmse: 0.000393758\ttraining's RMSPE: 0.182113\tvalid_1's rmse: 0.000443696\tvalid_1's RMSPE: 0.205905\n",
      "[1200]\ttraining's rmse: 0.000390203\ttraining's RMSPE: 0.180468\tvalid_1's rmse: 0.000442036\tvalid_1's RMSPE: 0.205135\n",
      "[1300]\ttraining's rmse: 0.000386725\ttraining's RMSPE: 0.17886\tvalid_1's rmse: 0.000440616\tvalid_1's RMSPE: 0.204476\n",
      "Early stopping, best iteration is:\n",
      "[1358]\ttraining's rmse: 0.000384963\ttraining's RMSPE: 0.178045\tvalid_1's rmse: 0.000440254\tvalid_1's RMSPE: 0.204308\n",
      "Training fold 3\n"
     ]
    },
    {
     "name": "stderr",
     "output_type": "stream",
     "text": [
      "/home/slex/programy/anaconda3/envs/fastai/lib/python3.8/site-packages/lightgbm/basic.py:1551: UserWarning: Using categorical_feature in Dataset.\n",
      "  warnings.warn('Using categorical_feature in Dataset.')\n",
      "/home/slex/programy/anaconda3/envs/fastai/lib/python3.8/site-packages/lightgbm/basic.py:1286: UserWarning: Overriding the parameters from Reference Dataset.\n",
      "  warnings.warn('Overriding the parameters from Reference Dataset.')\n",
      "/home/slex/programy/anaconda3/envs/fastai/lib/python3.8/site-packages/lightgbm/basic.py:1098: UserWarning: categorical_column in param dict is overridden.\n",
      "  warnings.warn('{} in param dict is overridden.'.format(cat_alias))\n"
     ]
    },
    {
     "name": "stdout",
     "output_type": "stream",
     "text": [
      "Training until validation scores don't improve for 25 rounds\n",
      "[100]\ttraining's rmse: 0.00046643\ttraining's RMSPE: 0.215968\tvalid_1's rmse: 0.000473862\tvalid_1's RMSPE: 0.21891\n",
      "[200]\ttraining's rmse: 0.000450343\ttraining's RMSPE: 0.208519\tvalid_1's rmse: 0.000460889\tvalid_1's RMSPE: 0.212916\n",
      "[300]\ttraining's rmse: 0.000439107\ttraining's RMSPE: 0.203317\tvalid_1's rmse: 0.000452435\tvalid_1's RMSPE: 0.209011\n",
      "[400]\ttraining's rmse: 0.000430629\ttraining's RMSPE: 0.199391\tvalid_1's rmse: 0.000446569\tvalid_1's RMSPE: 0.206301\n",
      "[500]\ttraining's rmse: 0.000422673\ttraining's RMSPE: 0.195708\tvalid_1's rmse: 0.00044085\tvalid_1's RMSPE: 0.203659\n",
      "[600]\ttraining's rmse: 0.000415906\ttraining's RMSPE: 0.192574\tvalid_1's rmse: 0.000436613\tvalid_1's RMSPE: 0.201702\n",
      "[700]\ttraining's rmse: 0.000409978\ttraining's RMSPE: 0.189829\tvalid_1's rmse: 0.000433443\tvalid_1's RMSPE: 0.200237\n",
      "[800]\ttraining's rmse: 0.000405343\ttraining's RMSPE: 0.187683\tvalid_1's rmse: 0.000431064\tvalid_1's RMSPE: 0.199138\n",
      "[900]\ttraining's rmse: 0.000400592\ttraining's RMSPE: 0.185483\tvalid_1's rmse: 0.000428413\tvalid_1's RMSPE: 0.197914\n",
      "[1000]\ttraining's rmse: 0.000396224\ttraining's RMSPE: 0.183461\tvalid_1's rmse: 0.000426204\tvalid_1's RMSPE: 0.196893\n",
      "[1100]\ttraining's rmse: 0.000392444\ttraining's RMSPE: 0.181711\tvalid_1's rmse: 0.000424577\tvalid_1's RMSPE: 0.196142\n",
      "[1200]\ttraining's rmse: 0.000388696\ttraining's RMSPE: 0.179975\tvalid_1's rmse: 0.000422902\tvalid_1's RMSPE: 0.195368\n",
      "[1300]\ttraining's rmse: 0.000385392\ttraining's RMSPE: 0.178445\tvalid_1's rmse: 0.000421656\tvalid_1's RMSPE: 0.194792\n",
      "[1400]\ttraining's rmse: 0.000382315\ttraining's RMSPE: 0.177021\tvalid_1's rmse: 0.000420452\tvalid_1's RMSPE: 0.194236\n",
      "[1500]\ttraining's rmse: 0.000379592\ttraining's RMSPE: 0.17576\tvalid_1's rmse: 0.000419806\tvalid_1's RMSPE: 0.193938\n",
      "Early stopping, best iteration is:\n",
      "[1553]\ttraining's rmse: 0.000377952\ttraining's RMSPE: 0.175\tvalid_1's rmse: 0.00041916\tvalid_1's RMSPE: 0.193639\n",
      "Training fold 4\n"
     ]
    },
    {
     "name": "stderr",
     "output_type": "stream",
     "text": [
      "/home/slex/programy/anaconda3/envs/fastai/lib/python3.8/site-packages/lightgbm/basic.py:1551: UserWarning: Using categorical_feature in Dataset.\n",
      "  warnings.warn('Using categorical_feature in Dataset.')\n",
      "/home/slex/programy/anaconda3/envs/fastai/lib/python3.8/site-packages/lightgbm/basic.py:1286: UserWarning: Overriding the parameters from Reference Dataset.\n",
      "  warnings.warn('Overriding the parameters from Reference Dataset.')\n",
      "/home/slex/programy/anaconda3/envs/fastai/lib/python3.8/site-packages/lightgbm/basic.py:1098: UserWarning: categorical_column in param dict is overridden.\n",
      "  warnings.warn('{} in param dict is overridden.'.format(cat_alias))\n"
     ]
    },
    {
     "name": "stdout",
     "output_type": "stream",
     "text": [
      "Training until validation scores don't improve for 25 rounds\n",
      "[100]\ttraining's rmse: 0.000467468\ttraining's RMSPE: 0.216078\tvalid_1's rmse: 0.000473692\tvalid_1's RMSPE: 0.220328\n",
      "[200]\ttraining's rmse: 0.00045106\ttraining's RMSPE: 0.208494\tvalid_1's rmse: 0.000462226\tvalid_1's RMSPE: 0.214995\n",
      "[300]\ttraining's rmse: 0.000439179\ttraining's RMSPE: 0.203003\tvalid_1's rmse: 0.000454122\tvalid_1's RMSPE: 0.211226\n",
      "[400]\ttraining's rmse: 0.000429945\ttraining's RMSPE: 0.198734\tvalid_1's rmse: 0.000448516\tvalid_1's RMSPE: 0.208618\n",
      "[500]\ttraining's rmse: 0.000421967\ttraining's RMSPE: 0.195047\tvalid_1's rmse: 0.000443849\tvalid_1's RMSPE: 0.206447\n",
      "[600]\ttraining's rmse: 0.000415446\ttraining's RMSPE: 0.192033\tvalid_1's rmse: 0.000440452\tvalid_1's RMSPE: 0.204867\n",
      "[700]\ttraining's rmse: 0.000409926\ttraining's RMSPE: 0.189481\tvalid_1's rmse: 0.00043744\tvalid_1's RMSPE: 0.203466\n",
      "[800]\ttraining's rmse: 0.000404702\ttraining's RMSPE: 0.187066\tvalid_1's rmse: 0.000435131\tvalid_1's RMSPE: 0.202392\n",
      "[900]\ttraining's rmse: 0.000399969\ttraining's RMSPE: 0.184878\tvalid_1's rmse: 0.000433267\tvalid_1's RMSPE: 0.201525\n",
      "[1000]\ttraining's rmse: 0.000395996\ttraining's RMSPE: 0.183042\tvalid_1's rmse: 0.000432075\tvalid_1's RMSPE: 0.200971\n",
      "[1100]\ttraining's rmse: 0.000392461\ttraining's RMSPE: 0.181408\tvalid_1's rmse: 0.000431287\tvalid_1's RMSPE: 0.200604\n",
      "Early stopping, best iteration is:\n",
      "[1091]\ttraining's rmse: 0.00039278\ttraining's RMSPE: 0.181556\tvalid_1's rmse: 0.000431142\tvalid_1's RMSPE: 0.200537\n",
      "Training fold 5\n"
     ]
    },
    {
     "name": "stderr",
     "output_type": "stream",
     "text": [
      "/home/slex/programy/anaconda3/envs/fastai/lib/python3.8/site-packages/lightgbm/basic.py:1551: UserWarning: Using categorical_feature in Dataset.\n",
      "  warnings.warn('Using categorical_feature in Dataset.')\n",
      "/home/slex/programy/anaconda3/envs/fastai/lib/python3.8/site-packages/lightgbm/basic.py:1286: UserWarning: Overriding the parameters from Reference Dataset.\n",
      "  warnings.warn('Overriding the parameters from Reference Dataset.')\n",
      "/home/slex/programy/anaconda3/envs/fastai/lib/python3.8/site-packages/lightgbm/basic.py:1098: UserWarning: categorical_column in param dict is overridden.\n",
      "  warnings.warn('{} in param dict is overridden.'.format(cat_alias))\n"
     ]
    },
    {
     "name": "stdout",
     "output_type": "stream",
     "text": [
      "Training until validation scores don't improve for 25 rounds\n",
      "[100]\ttraining's rmse: 0.000465672\ttraining's RMSPE: 0.21576\tvalid_1's rmse: 0.000478286\tvalid_1's RMSPE: 0.220363\n",
      "[200]\ttraining's rmse: 0.000449611\ttraining's RMSPE: 0.208319\tvalid_1's rmse: 0.000465522\tvalid_1's RMSPE: 0.214483\n",
      "[300]\ttraining's rmse: 0.000437627\ttraining's RMSPE: 0.202766\tvalid_1's rmse: 0.000456411\tvalid_1's RMSPE: 0.210285\n",
      "[400]\ttraining's rmse: 0.000428682\ttraining's RMSPE: 0.198621\tvalid_1's rmse: 0.000449903\tvalid_1's RMSPE: 0.207286\n",
      "[500]\ttraining's rmse: 0.000421123\ttraining's RMSPE: 0.195119\tvalid_1's rmse: 0.000445156\tvalid_1's RMSPE: 0.205099\n",
      "[600]\ttraining's rmse: 0.000414616\ttraining's RMSPE: 0.192104\tvalid_1's rmse: 0.000441091\tvalid_1's RMSPE: 0.203226\n",
      "[700]\ttraining's rmse: 0.000408701\ttraining's RMSPE: 0.189364\tvalid_1's rmse: 0.000437846\tvalid_1's RMSPE: 0.201731\n",
      "[800]\ttraining's rmse: 0.000404144\ttraining's RMSPE: 0.187252\tvalid_1's rmse: 0.00043549\tvalid_1's RMSPE: 0.200646\n",
      "Early stopping, best iteration is:\n",
      "[843]\ttraining's rmse: 0.000402154\ttraining's RMSPE: 0.18633\tvalid_1's rmse: 0.000434761\tvalid_1's RMSPE: 0.20031\n",
      "Our out of folds RMSPE is 0.19909819966669715\n"
     ]
    }
   ],
   "source": [
    "_=train_models(train_10m_with_embs)"
   ]
  },
  {
   "cell_type": "markdown",
   "id": "corporate-proof",
   "metadata": {},
   "source": [
    "### 2012 -> 1991"
   ]
  },
  {
   "cell_type": "code",
   "execution_count": null,
   "id": "meaningful-sharp",
   "metadata": {},
   "outputs": [],
   "source": []
  },
  {
   "cell_type": "markdown",
   "id": "presidential-automation",
   "metadata": {},
   "source": [
    "## LGBM with embeddings and time/stock features and 5-10"
   ]
  },
  {
   "cell_type": "code",
   "execution_count": 53,
   "id": "attended-capital",
   "metadata": {},
   "outputs": [],
   "source": [
    "train_10m_with_embs['5m_pred']=preds5_10"
   ]
  },
  {
   "cell_type": "code",
   "execution_count": 54,
   "id": "generic-modem",
   "metadata": {},
   "outputs": [
    {
     "name": "stdout",
     "output_type": "stream",
     "text": [
      "Training fold 1\n"
     ]
    },
    {
     "name": "stderr",
     "output_type": "stream",
     "text": [
      "/home/slex/programy/anaconda3/envs/fastai/lib/python3.8/site-packages/lightgbm/basic.py:1551: UserWarning: Using categorical_feature in Dataset.\n",
      "  warnings.warn('Using categorical_feature in Dataset.')\n",
      "/home/slex/programy/anaconda3/envs/fastai/lib/python3.8/site-packages/lightgbm/basic.py:1286: UserWarning: Overriding the parameters from Reference Dataset.\n",
      "  warnings.warn('Overriding the parameters from Reference Dataset.')\n",
      "/home/slex/programy/anaconda3/envs/fastai/lib/python3.8/site-packages/lightgbm/basic.py:1098: UserWarning: categorical_column in param dict is overridden.\n",
      "  warnings.warn('{} in param dict is overridden.'.format(cat_alias))\n"
     ]
    },
    {
     "name": "stdout",
     "output_type": "stream",
     "text": [
      "Training until validation scores don't improve for 25 rounds\n",
      "[100]\ttraining's rmse: 0.000464032\ttraining's RMSPE: 0.214837\tvalid_1's rmse: 0.000473087\tvalid_1's RMSPE: 0.218636\n",
      "[200]\ttraining's rmse: 0.000446797\ttraining's RMSPE: 0.206857\tvalid_1's rmse: 0.000460003\tvalid_1's RMSPE: 0.212589\n",
      "[300]\ttraining's rmse: 0.000435551\ttraining's RMSPE: 0.201651\tvalid_1's rmse: 0.00045253\tvalid_1's RMSPE: 0.209136\n",
      "[400]\ttraining's rmse: 0.000426807\ttraining's RMSPE: 0.197603\tvalid_1's rmse: 0.000447276\tvalid_1's RMSPE: 0.206707\n",
      "[500]\ttraining's rmse: 0.000419809\ttraining's RMSPE: 0.194363\tvalid_1's rmse: 0.000442906\tvalid_1's RMSPE: 0.204688\n",
      "[600]\ttraining's rmse: 0.000413183\ttraining's RMSPE: 0.191295\tvalid_1's rmse: 0.000438863\tvalid_1's RMSPE: 0.202819\n",
      "[700]\ttraining's rmse: 0.000407391\ttraining's RMSPE: 0.188613\tvalid_1's rmse: 0.000435782\tvalid_1's RMSPE: 0.201396\n",
      "[800]\ttraining's rmse: 0.0004026\ttraining's RMSPE: 0.186395\tvalid_1's rmse: 0.00043311\tvalid_1's RMSPE: 0.200161\n",
      "[900]\ttraining's rmse: 0.00039831\ttraining's RMSPE: 0.184409\tvalid_1's rmse: 0.000431191\tvalid_1's RMSPE: 0.199274\n",
      "[1000]\ttraining's rmse: 0.000394463\ttraining's RMSPE: 0.182628\tvalid_1's rmse: 0.000429758\tvalid_1's RMSPE: 0.198611\n",
      "[1100]\ttraining's rmse: 0.000390652\ttraining's RMSPE: 0.180864\tvalid_1's rmse: 0.000428147\tvalid_1's RMSPE: 0.197867\n",
      "[1200]\ttraining's rmse: 0.000387199\ttraining's RMSPE: 0.179265\tvalid_1's rmse: 0.000426977\tvalid_1's RMSPE: 0.197326\n",
      "[1300]\ttraining's rmse: 0.000383781\ttraining's RMSPE: 0.177683\tvalid_1's rmse: 0.000425557\tvalid_1's RMSPE: 0.19667\n",
      "[1400]\ttraining's rmse: 0.000380841\ttraining's RMSPE: 0.176321\tvalid_1's rmse: 0.000424565\tvalid_1's RMSPE: 0.196212\n",
      "[1500]\ttraining's rmse: 0.000378155\ttraining's RMSPE: 0.175078\tvalid_1's rmse: 0.000424137\tvalid_1's RMSPE: 0.196014\n",
      "[1600]\ttraining's rmse: 0.000375461\ttraining's RMSPE: 0.173831\tvalid_1's rmse: 0.000423435\tvalid_1's RMSPE: 0.195689\n",
      "Early stopping, best iteration is:\n",
      "[1611]\ttraining's rmse: 0.000375148\ttraining's RMSPE: 0.173686\tvalid_1's rmse: 0.000423304\tvalid_1's RMSPE: 0.195629\n",
      "Training fold 2\n"
     ]
    },
    {
     "name": "stderr",
     "output_type": "stream",
     "text": [
      "/home/slex/programy/anaconda3/envs/fastai/lib/python3.8/site-packages/lightgbm/basic.py:1551: UserWarning: Using categorical_feature in Dataset.\n",
      "  warnings.warn('Using categorical_feature in Dataset.')\n",
      "/home/slex/programy/anaconda3/envs/fastai/lib/python3.8/site-packages/lightgbm/basic.py:1286: UserWarning: Overriding the parameters from Reference Dataset.\n",
      "  warnings.warn('Overriding the parameters from Reference Dataset.')\n",
      "/home/slex/programy/anaconda3/envs/fastai/lib/python3.8/site-packages/lightgbm/basic.py:1098: UserWarning: categorical_column in param dict is overridden.\n",
      "  warnings.warn('{} in param dict is overridden.'.format(cat_alias))\n"
     ]
    },
    {
     "name": "stdout",
     "output_type": "stream",
     "text": [
      "Training until validation scores don't improve for 25 rounds\n",
      "[100]\ttraining's rmse: 0.000465066\ttraining's RMSPE: 0.215092\tvalid_1's rmse: 0.000477534\tvalid_1's RMSPE: 0.221608\n",
      "[200]\ttraining's rmse: 0.000449472\ttraining's RMSPE: 0.20788\tvalid_1's rmse: 0.000467205\tvalid_1's RMSPE: 0.216815\n",
      "[300]\ttraining's rmse: 0.000437461\ttraining's RMSPE: 0.202325\tvalid_1's rmse: 0.00045968\tvalid_1's RMSPE: 0.213323\n",
      "[400]\ttraining's rmse: 0.000429014\ttraining's RMSPE: 0.198418\tvalid_1's rmse: 0.000455283\tvalid_1's RMSPE: 0.211283\n",
      "[500]\ttraining's rmse: 0.000421484\ttraining's RMSPE: 0.194936\tvalid_1's rmse: 0.00045137\tvalid_1's RMSPE: 0.209467\n",
      "[600]\ttraining's rmse: 0.000415251\ttraining's RMSPE: 0.192053\tvalid_1's rmse: 0.000449027\tvalid_1's RMSPE: 0.208379\n",
      "Early stopping, best iteration is:\n",
      "[674]\ttraining's rmse: 0.00041094\ttraining's RMSPE: 0.190059\tvalid_1's rmse: 0.000447239\tvalid_1's RMSPE: 0.20755\n",
      "Training fold 3\n"
     ]
    },
    {
     "name": "stderr",
     "output_type": "stream",
     "text": [
      "/home/slex/programy/anaconda3/envs/fastai/lib/python3.8/site-packages/lightgbm/basic.py:1551: UserWarning: Using categorical_feature in Dataset.\n",
      "  warnings.warn('Using categorical_feature in Dataset.')\n",
      "/home/slex/programy/anaconda3/envs/fastai/lib/python3.8/site-packages/lightgbm/basic.py:1286: UserWarning: Overriding the parameters from Reference Dataset.\n",
      "  warnings.warn('Overriding the parameters from Reference Dataset.')\n",
      "/home/slex/programy/anaconda3/envs/fastai/lib/python3.8/site-packages/lightgbm/basic.py:1098: UserWarning: categorical_column in param dict is overridden.\n",
      "  warnings.warn('{} in param dict is overridden.'.format(cat_alias))\n"
     ]
    },
    {
     "name": "stdout",
     "output_type": "stream",
     "text": [
      "Training until validation scores don't improve for 25 rounds\n",
      "[100]\ttraining's rmse: 0.000463562\ttraining's RMSPE: 0.21464\tvalid_1's rmse: 0.000470231\tvalid_1's RMSPE: 0.217232\n",
      "[200]\ttraining's rmse: 0.000447234\ttraining's RMSPE: 0.20708\tvalid_1's rmse: 0.000456978\tvalid_1's RMSPE: 0.21111\n",
      "[300]\ttraining's rmse: 0.000436524\ttraining's RMSPE: 0.202121\tvalid_1's rmse: 0.000449098\tvalid_1's RMSPE: 0.20747\n",
      "[400]\ttraining's rmse: 0.000428338\ttraining's RMSPE: 0.198331\tvalid_1's rmse: 0.00044385\tvalid_1's RMSPE: 0.205045\n",
      "[500]\ttraining's rmse: 0.000420927\ttraining's RMSPE: 0.194899\tvalid_1's rmse: 0.000438639\tvalid_1's RMSPE: 0.202638\n",
      "[600]\ttraining's rmse: 0.000414186\ttraining's RMSPE: 0.191778\tvalid_1's rmse: 0.000434197\tvalid_1's RMSPE: 0.200586\n",
      "[700]\ttraining's rmse: 0.000409081\ttraining's RMSPE: 0.189414\tvalid_1's rmse: 0.00043171\tvalid_1's RMSPE: 0.199437\n",
      "[800]\ttraining's rmse: 0.000403976\ttraining's RMSPE: 0.18705\tvalid_1's rmse: 0.000428837\tvalid_1's RMSPE: 0.198109\n",
      "[900]\ttraining's rmse: 0.000399439\ttraining's RMSPE: 0.184949\tvalid_1's rmse: 0.000426502\tvalid_1's RMSPE: 0.197031\n",
      "[1000]\ttraining's rmse: 0.000395318\ttraining's RMSPE: 0.183042\tvalid_1's rmse: 0.000424697\tvalid_1's RMSPE: 0.196197\n",
      "[1100]\ttraining's rmse: 0.00039137\ttraining's RMSPE: 0.181213\tvalid_1's rmse: 0.000423235\tvalid_1's RMSPE: 0.195521\n",
      "[1200]\ttraining's rmse: 0.000387798\ttraining's RMSPE: 0.179559\tvalid_1's rmse: 0.000421927\tvalid_1's RMSPE: 0.194917\n",
      "[1300]\ttraining's rmse: 0.00038461\ttraining's RMSPE: 0.178084\tvalid_1's rmse: 0.000420776\tvalid_1's RMSPE: 0.194386\n",
      "[1400]\ttraining's rmse: 0.000381607\ttraining's RMSPE: 0.176693\tvalid_1's rmse: 0.00041984\tvalid_1's RMSPE: 0.193953\n",
      "[1500]\ttraining's rmse: 0.000378839\ttraining's RMSPE: 0.175411\tvalid_1's rmse: 0.000419219\tvalid_1's RMSPE: 0.193667\n",
      "[1600]\ttraining's rmse: 0.000375991\ttraining's RMSPE: 0.174093\tvalid_1's rmse: 0.000418509\tvalid_1's RMSPE: 0.193338\n",
      "[1700]\ttraining's rmse: 0.000373458\ttraining's RMSPE: 0.17292\tvalid_1's rmse: 0.000417916\tvalid_1's RMSPE: 0.193064\n",
      "[1800]\ttraining's rmse: 0.000371042\ttraining's RMSPE: 0.171801\tvalid_1's rmse: 0.000417422\tvalid_1's RMSPE: 0.192836\n",
      "[1900]\ttraining's rmse: 0.000368636\ttraining's RMSPE: 0.170687\tvalid_1's rmse: 0.000417002\tvalid_1's RMSPE: 0.192642\n",
      "Early stopping, best iteration is:\n",
      "[1882]\ttraining's rmse: 0.000368982\ttraining's RMSPE: 0.170847\tvalid_1's rmse: 0.000416972\tvalid_1's RMSPE: 0.192628\n",
      "Training fold 4\n"
     ]
    },
    {
     "name": "stderr",
     "output_type": "stream",
     "text": [
      "/home/slex/programy/anaconda3/envs/fastai/lib/python3.8/site-packages/lightgbm/basic.py:1551: UserWarning: Using categorical_feature in Dataset.\n",
      "  warnings.warn('Using categorical_feature in Dataset.')\n",
      "/home/slex/programy/anaconda3/envs/fastai/lib/python3.8/site-packages/lightgbm/basic.py:1286: UserWarning: Overriding the parameters from Reference Dataset.\n",
      "  warnings.warn('Overriding the parameters from Reference Dataset.')\n",
      "/home/slex/programy/anaconda3/envs/fastai/lib/python3.8/site-packages/lightgbm/basic.py:1098: UserWarning: categorical_column in param dict is overridden.\n",
      "  warnings.warn('{} in param dict is overridden.'.format(cat_alias))\n"
     ]
    },
    {
     "name": "stdout",
     "output_type": "stream",
     "text": [
      "Training until validation scores don't improve for 25 rounds\n",
      "[100]\ttraining's rmse: 0.000463942\ttraining's RMSPE: 0.214449\tvalid_1's rmse: 0.000468745\tvalid_1's RMSPE: 0.218027\n",
      "[200]\ttraining's rmse: 0.000448266\ttraining's RMSPE: 0.207203\tvalid_1's rmse: 0.000457003\tvalid_1's RMSPE: 0.212565\n",
      "[300]\ttraining's rmse: 0.00043705\ttraining's RMSPE: 0.202018\tvalid_1's rmse: 0.000449842\tvalid_1's RMSPE: 0.209235\n",
      "[400]\ttraining's rmse: 0.000428117\ttraining's RMSPE: 0.197889\tvalid_1's rmse: 0.000444145\tvalid_1's RMSPE: 0.206585\n",
      "[500]\ttraining's rmse: 0.000420788\ttraining's RMSPE: 0.194501\tvalid_1's rmse: 0.000440404\tvalid_1's RMSPE: 0.204845\n",
      "[600]\ttraining's rmse: 0.000414831\ttraining's RMSPE: 0.191748\tvalid_1's rmse: 0.000437181\tvalid_1's RMSPE: 0.203346\n",
      "[700]\ttraining's rmse: 0.000409199\ttraining's RMSPE: 0.189145\tvalid_1's rmse: 0.00043475\tvalid_1's RMSPE: 0.202215\n",
      "[800]\ttraining's rmse: 0.00040444\ttraining's RMSPE: 0.186945\tvalid_1's rmse: 0.00043301\tvalid_1's RMSPE: 0.201406\n",
      "[900]\ttraining's rmse: 0.000399825\ttraining's RMSPE: 0.184812\tvalid_1's rmse: 0.000431258\tvalid_1's RMSPE: 0.200591\n",
      "[1000]\ttraining's rmse: 0.000395591\ttraining's RMSPE: 0.182855\tvalid_1's rmse: 0.000429414\tvalid_1's RMSPE: 0.199733\n",
      "[1100]\ttraining's rmse: 0.000391956\ttraining's RMSPE: 0.181174\tvalid_1's rmse: 0.000428208\tvalid_1's RMSPE: 0.199172\n",
      "[1200]\ttraining's rmse: 0.00038825\ttraining's RMSPE: 0.179462\tvalid_1's rmse: 0.000427194\tvalid_1's RMSPE: 0.1987\n",
      "Early stopping, best iteration is:\n",
      "[1220]\ttraining's rmse: 0.00038755\ttraining's RMSPE: 0.179138\tvalid_1's rmse: 0.000426922\tvalid_1's RMSPE: 0.198574\n",
      "Training fold 5\n"
     ]
    },
    {
     "name": "stderr",
     "output_type": "stream",
     "text": [
      "/home/slex/programy/anaconda3/envs/fastai/lib/python3.8/site-packages/lightgbm/basic.py:1551: UserWarning: Using categorical_feature in Dataset.\n",
      "  warnings.warn('Using categorical_feature in Dataset.')\n",
      "/home/slex/programy/anaconda3/envs/fastai/lib/python3.8/site-packages/lightgbm/basic.py:1286: UserWarning: Overriding the parameters from Reference Dataset.\n",
      "  warnings.warn('Overriding the parameters from Reference Dataset.')\n",
      "/home/slex/programy/anaconda3/envs/fastai/lib/python3.8/site-packages/lightgbm/basic.py:1098: UserWarning: categorical_column in param dict is overridden.\n",
      "  warnings.warn('{} in param dict is overridden.'.format(cat_alias))\n"
     ]
    },
    {
     "name": "stdout",
     "output_type": "stream",
     "text": [
      "Training until validation scores don't improve for 25 rounds\n",
      "[100]\ttraining's rmse: 0.000462526\ttraining's RMSPE: 0.214303\tvalid_1's rmse: 0.00047294\tvalid_1's RMSPE: 0.2179\n",
      "[200]\ttraining's rmse: 0.000446701\ttraining's RMSPE: 0.20697\tvalid_1's rmse: 0.000460683\tvalid_1's RMSPE: 0.212253\n",
      "[300]\ttraining's rmse: 0.000435136\ttraining's RMSPE: 0.201612\tvalid_1's rmse: 0.000453269\tvalid_1's RMSPE: 0.208837\n",
      "[400]\ttraining's rmse: 0.000426285\ttraining's RMSPE: 0.197511\tvalid_1's rmse: 0.000448257\tvalid_1's RMSPE: 0.206528\n",
      "[500]\ttraining's rmse: 0.000419045\ttraining's RMSPE: 0.194156\tvalid_1's rmse: 0.000444854\tvalid_1's RMSPE: 0.20496\n",
      "[600]\ttraining's rmse: 0.000413312\ttraining's RMSPE: 0.1915\tvalid_1's rmse: 0.000442131\tvalid_1's RMSPE: 0.203706\n",
      "[700]\ttraining's rmse: 0.000407651\ttraining's RMSPE: 0.188877\tvalid_1's rmse: 0.000439336\tvalid_1's RMSPE: 0.202418\n",
      "[800]\ttraining's rmse: 0.00040256\ttraining's RMSPE: 0.186518\tvalid_1's rmse: 0.00043685\tvalid_1's RMSPE: 0.201272\n",
      "[900]\ttraining's rmse: 0.00039851\ttraining's RMSPE: 0.184642\tvalid_1's rmse: 0.000435546\tvalid_1's RMSPE: 0.200671\n",
      "[1000]\ttraining's rmse: 0.000394236\ttraining's RMSPE: 0.182661\tvalid_1's rmse: 0.000433439\tvalid_1's RMSPE: 0.199701\n",
      "Early stopping, best iteration is:\n",
      "[1062]\ttraining's rmse: 0.000391745\ttraining's RMSPE: 0.181507\tvalid_1's rmse: 0.000432462\tvalid_1's RMSPE: 0.199251\n",
      "Our out of folds RMSPE is 0.19878904764898642\n"
     ]
    }
   ],
   "source": [
    "models=train_models(train_10m_with_embs)"
   ]
  },
  {
   "cell_type": "code",
   "execution_count": 58,
   "id": "serial-fundamental",
   "metadata": {},
   "outputs": [
    {
     "data": {
      "image/png": "[encoded data removed]",
      "text/plain": [
       "<Figure size 432x288 with 1 Axes>"
      ]
     },
     "metadata": {
      "needs_background": "light"
     },
     "output_type": "display_data"
    },
    {
     "data": {
      "image/png": "[encoded data removed]",
      "text/plain": [
       "<Figure size 432x288 with 1 Axes>"
      ]
     },
     "metadata": {
      "needs_background": "light"
     },
     "output_type": "display_data"
    },
    {
     "data": {
      "image/png": "[encoded data removed]",
      "text/plain": [
       "<Figure size 432x288 with 1 Axes>"
      ]
     },
     "metadata": {
      "needs_background": "light"
     },
     "output_type": "display_data"
    },
    {
     "data": {
      "image/png": "[encoded data removed]",
      "text/plain": [
       "<Figure size 432x288 with 1 Axes>"
      ]
     },
     "metadata": {
      "needs_background": "light"
     },
     "output_type": "display_data"
    },
    {
     "data": {
      "image/png": "[encoded data removed]",
      "text/plain": [
       "<Figure size 432x288 with 1 Axes>"
      ]
     },
     "metadata": {
      "needs_background": "light"
     },
     "output_type": "display_data"
    }
   ],
   "source": [
    "for m in models:\n",
    "    lgb.plot_importance(m, max_num_features=20)"
   ]
  },
  {
   "cell_type": "code",
   "execution_count": 60,
   "id": "abroad-administration",
   "metadata": {},
   "outputs": [
    {
     "name": "stdout",
     "output_type": "stream",
     "text": [
      "CPU times: user 1min 35s, sys: 936 ms, total: 1min 36s\n",
      "Wall time: 1min 39s\n"
     ]
    }
   ],
   "source": [
    "%%time\n",
    "train_10m_with_embs.to_csv('train_with_embs_and_5m.csv', index=False)"
   ]
  },
  {
   "cell_type": "code",
   "execution_count": 62,
   "id": "responsible-elephant",
   "metadata": {},
   "outputs": [
    {
     "name": "stdout",
     "output_type": "stream",
     "text": [
      "CPU times: user 1.43 s, sys: 416 ms, total: 1.84 s\n",
      "Wall time: 8.57 s\n"
     ]
    }
   ],
   "source": [
    "%%time\n",
    "train_10m_with_embs.to_feather('train_with_embs_and_5m.feather')"
   ]
  },
  {
   "cell_type": "code",
   "execution_count": 63,
   "id": "structural-ethiopia",
   "metadata": {},
   "outputs": [
    {
     "name": "stdout",
     "output_type": "stream",
     "text": [
      "CPU times: user 851 ms, sys: 1.06 s, total: 1.91 s\n",
      "Wall time: 270 ms\n"
     ]
    }
   ],
   "source": [
    "%%time\n",
    "_=pd.read_feather('train_with_embs_and_5m.feather')"
   ]
  },
  {
   "cell_type": "code",
   "execution_count": 77,
   "id": "seasonal-bicycle",
   "metadata": {},
   "outputs": [
    {
     "data": {
      "text/plain": [
       "0         40.0\n",
       "1         30.0\n",
       "2         25.0\n",
       "3         15.0\n",
       "4         22.0\n",
       "          ... \n",
       "428927    37.0\n",
       "428928    43.0\n",
       "428929    35.0\n",
       "428930    80.0\n",
       "428931    36.0\n",
       "Name: seconds_in_bucket_size_0_600, Length: 428932, dtype: float64"
      ]
     },
     "execution_count": 77,
     "metadata": {},
     "output_type": "execute_result"
    }
   ],
   "source": []
  },
  {
   "cell_type": "code",
   "execution_count": 78,
   "id": "tracked-simple",
   "metadata": {},
   "outputs": [
    {
     "data": {
      "text/plain": [
       "0         40.0\n",
       "1         30.0\n",
       "2         25.0\n",
       "3         15.0\n",
       "4         22.0\n",
       "          ... \n",
       "428927    37.0\n",
       "428928    43.0\n",
       "428929    35.0\n",
       "428930    80.0\n",
       "428931    36.0\n",
       "Name: seconds_in_bucket_size_0_600, Length: 428932, dtype: float64"
      ]
     },
     "execution_count": 78,
     "metadata": {},
     "output_type": "execute_result"
    }
   ],
   "source": [
    "train_10m_with_embs.seconds_in_bucket_size_0_600"
   ]
  },
  {
   "cell_type": "code",
   "execution_count": null,
   "id": "thorough-pepper",
   "metadata": {},
   "outputs": [],
   "source": []
  }
 ],
 "metadata": {
  "kernelspec": {
   "display_name": "Python 3.8.5 64-bit ('fastai': conda)",
   "language": "python",
   "name": "python38564bitfastaicondad52d12c5a30a4725bf9d3e235cf1271c"
  },
  "language_info": {
   "codemirror_mode": {
    "name": "ipython",
    "version": 3
   },
   "file_extension": ".py",
   "mimetype": "text/x-python",
   "name": "python",
   "nbconvert_exporter": "python",
   "pygments_lexer": "ipython3",
   "version": "3.8.5"
  }
 },
 "nbformat": 4,
 "nbformat_minor": 5
}
