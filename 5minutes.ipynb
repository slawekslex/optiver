{
 "cells": [
  {
   "cell_type": "code",
   "execution_count": 2,
   "id": "8ff18474",
   "metadata": {},
   "outputs": [],
   "source": [
    "%load_ext autoreload\n",
    "%autoreload 2"
   ]
  },
  {
   "cell_type": "code",
   "execution_count": 3,
   "id": "19707fa7",
   "metadata": {},
   "outputs": [],
   "source": [
    "from fastai.tabular.all import *\n",
    "from multiprocessing import Pool\n",
    "from sklearn.model_selection import KFold, GroupKFold\n",
    "import lightgbm as lgb\n",
    "from optiver_features import *\n",
    "import pickle"
   ]
  },
  {
   "cell_type": "code",
   "execution_count": 4,
   "id": "0f769f73",
   "metadata": {},
   "outputs": [
    {
     "data": {
      "text/plain": [
       "(2681, 1149)"
      ]
     },
     "execution_count": 4,
     "metadata": {},
     "output_type": "execute_result"
    }
   ],
   "source": [
    "df = pd.read_csv('../input/optiver-realized-volatility-prediction/train.csv')\n",
    "time_ids = df.time_id.unique()\n",
    "\n",
    "np.random.shuffle(time_ids)\n",
    "\n",
    "splt = int(len(time_ids)*.7)\n",
    "train_ids, test_ids = time_ids[:splt], time_ids[splt:]\n",
    "\n",
    "len(train_ids), len(test_ids)"
   ]
  },
  {
   "cell_type": "code",
   "execution_count": 5,
   "id": "47325750",
   "metadata": {},
   "outputs": [
    {
     "data": {
      "text/plain": [
       "0.6999967360793785"
      ]
     },
     "execution_count": 5,
     "metadata": {},
     "output_type": "execute_result"
    }
   ],
   "source": [
    "len(df[df.time_id.isin(train_ids)]) / len(df)"
   ]
  },
  {
   "cell_type": "markdown",
   "id": "0c7fd183",
   "metadata": {},
   "source": [
    "## Generate 5m dataset"
   ]
  },
  {
   "cell_type": "code",
   "execution_count": 6,
   "id": "29a4e073",
   "metadata": {},
   "outputs": [],
   "source": [
    "book_feature_dict = {\n",
    "    wap1: [],\n",
    "    wap2: [],\n",
    "    log_return1: [np.std],\n",
    "    log_return2: [np.std],\n",
    "  \n",
    "    price_spread:[np.mean],\n",
    "    total_volume:[np.mean],\n",
    "}\n",
    "trade_feature_dict = {\n",
    "        log_return_price: [np.std],\n",
    "        'seconds_in_bucket':[np.size],\n",
    "        'size':[np.sum],\n",
    "        'order_count':[np.sum],\n",
    "}\n",
    "time_id_features=[]\n",
    "time_id_aggregations = []\n",
    "stock_id_features = []\n",
    "stock_id_aggregations = [time_id_aggregations]\n",
    "time_windows = [(0,300), (0,100), (100,200), (200,300)]"
   ]
  },
  {
   "cell_type": "code",
   "execution_count": 7,
   "id": "d289a1ab",
   "metadata": {},
   "outputs": [],
   "source": [
    "def generate_0_to_5():\n",
    "\n",
    "\n",
    "    ofg = OptiverFeatureGenerator(book_feature_dict, trade_feature_dict, time_windows, time_id_features,time_id_aggregations, stock_id_features, stock_id_aggregations)\n",
    "    train_df5m = ofg.generate_train_df()\n",
    "    ofg_targ =OptiverFeatureGenerator({wap1:[], log_return1:[realized_volatility]}, {'seconds_in_bucket':[np.size]}, [(300,600)], [],[],[],[])\n",
    "    targ_df = ofg_targ.generate_train_df()\n",
    "    train_df5m.target = targ_df.log_return1_realized_volatility_300_600\n",
    "    train_df5m.target = train_df5m.target.replace(0, train_df5m.target.mean())\n",
    "    return train_df5m\n",
    "    "
   ]
  },
  {
   "cell_type": "code",
   "execution_count": 8,
   "id": "73f1d757",
   "metadata": {},
   "outputs": [
    {
     "name": "stdout",
     "output_type": "stream",
     "text": [
      "CPU times: user 1.73 s, sys: 401 ms, total: 2.13 s\n",
      "Wall time: 3min 26s\n"
     ]
    }
   ],
   "source": [
    "%%time\n",
    "train_df5m = generate_0_to_5()"
   ]
  },
  {
   "cell_type": "code",
   "execution_count": 8,
   "id": "59cc96c1",
   "metadata": {},
   "outputs": [],
   "source": [
    "\n",
    "train_df5m.to_feather('train_5m.feather')"
   ]
  },
  {
   "cell_type": "code",
   "execution_count": 9,
   "id": "9072384f",
   "metadata": {},
   "outputs": [],
   "source": [
    "def rename_col(x):\n",
    "    return x.replace('300', '600').replace('200', '500').replace('100', '400').replace('_0', '_300')\n",
    "def rename_col_back(x):\n",
    "    return x.replace('300', '0').replace('400', '100').replace('500', '200').replace('600', '300')\n",
    "\n",
    "def generate_5_to_10():\n",
    "    tw = [(x+300, y+300) for x,y in time_windows]\n",
    "    time_id_feat = [rename_col(x) for x in time_id_features]\n",
    "    stock_id_feat = [rename_col(x) for x in stock_id_features]\n",
    "    ofg = OptiverFeatureGenerator(book_feature_dict, trade_feature_dict, tw, time_id_feat,time_id_aggregations, stock_id_feat, stock_id_aggregations)\n",
    "\n",
    "    df = ofg.generate_train_df()\n",
    "    df.columns = [rename_col_back(x) for x in df.columns]\n",
    "    return df"
   ]
  },
  {
   "cell_type": "code",
   "execution_count": 10,
   "id": "bafdde48",
   "metadata": {},
   "outputs": [],
   "source": [
    "train_df5_10m  = generate_5_to_10()"
   ]
  },
  {
   "cell_type": "code",
   "execution_count": 10,
   "id": "db4afbc9",
   "metadata": {},
   "outputs": [],
   "source": [
    "train_df5_10m.to_feather('train_5_10.feather')"
   ]
  },
  {
   "cell_type": "markdown",
   "id": "02e762f8",
   "metadata": {},
   "source": [
    "## LGBM Baseline"
   ]
  },
  {
   "cell_type": "code",
   "execution_count": 105,
   "id": "7f071a50",
   "metadata": {},
   "outputs": [],
   "source": [
    "def rmspe_np(y_true, y_pred):\n",
    "    return np.sqrt(np.mean(np.square((y_true - y_pred) / y_true)))\n",
    "def feval_rmspe(y_pred, lgb_train):\n",
    "    y_true = lgb_train.get_label()\n",
    "    return 'RMSPE', rmspe_np(y_true, y_pred), False\n",
    "\n",
    "def train_models(train):\n",
    "    # Hyperparammeters (optimized)\n",
    "    seed = 29\n",
    "    params = {\n",
    "        'learning_rate': 0.1,        \n",
    "        'lambda_l1': 2,\n",
    "        'lambda_l2': 7,\n",
    "        'num_leaves': 800,\n",
    "        'min_sum_hessian_in_leaf': 20,\n",
    "        'feature_fraction': 0.8,\n",
    "        'feature_fraction_bynode': 0.8,\n",
    "        'bagging_fraction': 0.9,\n",
    "        'bagging_freq': 42,\n",
    "        'min_data_in_leaf': 700,\n",
    "        'max_depth': 4,\n",
    "        'seed': seed,\n",
    "        'feature_fraction_seed': seed,\n",
    "        'bagging_seed': seed,\n",
    "        'drop_seed': seed,\n",
    "        'data_random_seed': seed,\n",
    "        'objective': 'rmse',\n",
    "        'boosting': 'gbdt',\n",
    "        'verbosity': -1,\n",
    "        'n_jobs': -1,\n",
    "    }   \n",
    "    x = train\n",
    "    # Split features and target\n",
    "    for c in ['row_id', 'target', 'time_id']:\n",
    "        if c in x.columns:\n",
    "            x = x.drop(c, axis=1)\n",
    "    \n",
    "    y = train['target']\n",
    "    # Transform stock id to a numeric value\n",
    "    x['stock_id'] = x['stock_id'].astype(int)\n",
    "    models =[]\n",
    "    # Create out of folds array\n",
    "    oof_predictions = np.zeros(x.shape[0])\n",
    "    # Create a KFold object\n",
    "    kfold = GroupKFold()\n",
    "    # Iterate through each fold\n",
    "    for fold, (trn_ind, val_ind) in enumerate(kfold.split(x, groups = train.time_id)):\n",
    "        print(f'Training fold {fold + 1}')\n",
    "        x_train, x_val = x.iloc[trn_ind], x.iloc[val_ind]\n",
    "        y_train, y_val = y.iloc[trn_ind], y.iloc[val_ind]\n",
    "        # Root mean squared percentage error weights\n",
    "        train_weights = 1 / np.square(y_train)\n",
    "        val_weights = 1 / np.square(y_val)\n",
    "        train_dataset = lgb.Dataset(x_train, y_train, weight = train_weights, categorical_feature = ['stock_id'])\n",
    "        val_dataset = lgb.Dataset(x_val, y_val, weight = val_weights, categorical_feature = ['stock_id'])\n",
    "        model = lgb.train(params = params, \n",
    "                          train_set = train_dataset, \n",
    "                          valid_sets = [train_dataset, val_dataset], \n",
    "                          num_boost_round = 3000, \n",
    "                          early_stopping_rounds = 25, \n",
    "                          verbose_eval = 100,\n",
    "                          feval = feval_rmspe)\n",
    "        models.append(model)\n",
    "        # Add predictions to the out of folds array\n",
    "        oof_predictions[val_ind] = model.predict(x_val)\n",
    "        # Predict the test set\n",
    "        #test_predictions += model.predict(x_test) / 10\n",
    "        \n",
    "    rmspe_score = rmspe_np(y, oof_predictions)\n",
    "    print(f'Our out of folds RMSPE is {rmspe_score}')\n",
    "    # Return test predictions\n",
    "    return models"
   ]
  },
  {
   "cell_type": "code",
   "execution_count": 12,
   "id": "bcf42a0b",
   "metadata": {},
   "outputs": [
    {
     "name": "stdout",
     "output_type": "stream",
     "text": [
      "Training fold 1\n"
     ]
    },
    {
     "name": "stderr",
     "output_type": "stream",
     "text": [
      "/home/slex/programy/anaconda3/envs/fastai/lib/python3.8/site-packages/lightgbm/basic.py:1996: UserWarning: Using categorical_feature in Dataset.\n",
      "  _log_warning('Using categorical_feature in Dataset.')\n",
      "/home/slex/programy/anaconda3/envs/fastai/lib/python3.8/site-packages/lightgbm/basic.py:1727: UserWarning: Overriding the parameters from Reference Dataset.\n",
      "  _log_warning('Overriding the parameters from Reference Dataset.')\n",
      "/home/slex/programy/anaconda3/envs/fastai/lib/python3.8/site-packages/lightgbm/basic.py:1460: UserWarning: categorical_column in param dict is overridden.\n",
      "  _log_warning(f'{cat_alias} in param dict is overridden.')\n"
     ]
    },
    {
     "name": "stdout",
     "output_type": "stream",
     "text": [
      "Training until validation scores don't improve for 25 rounds\n",
      "[100]\ttraining's rmse: 0.000354804\ttraining's RMSPE: 0.242644\tvalid_1's rmse: 0.00036763\tvalid_1's RMSPE: 0.251844\n",
      "[200]\ttraining's rmse: 0.000346954\ttraining's RMSPE: 0.237275\tvalid_1's rmse: 0.000364846\tvalid_1's RMSPE: 0.249937\n",
      "[300]\ttraining's rmse: 0.000342559\ttraining's RMSPE: 0.234269\tvalid_1's rmse: 0.000363361\tvalid_1's RMSPE: 0.248919\n",
      "[400]\ttraining's rmse: 0.00033941\ttraining's RMSPE: 0.232116\tvalid_1's rmse: 0.000362797\tvalid_1's RMSPE: 0.248533\n",
      "[500]\ttraining's rmse: 0.000337037\ttraining's RMSPE: 0.230493\tvalid_1's rmse: 0.000362461\tvalid_1's RMSPE: 0.248303\n",
      "Early stopping, best iteration is:\n",
      "[496]\ttraining's rmse: 0.000337115\ttraining's RMSPE: 0.230546\tvalid_1's rmse: 0.000362437\tvalid_1's RMSPE: 0.248286\n",
      "Training fold 2\n",
      "Training until validation scores don't improve for 25 rounds\n",
      "[100]\ttraining's rmse: 0.000355638\ttraining's RMSPE: 0.242712\tvalid_1's rmse: 0.000371178\tvalid_1's RMSPE: 0.256355\n",
      "[200]\ttraining's rmse: 0.000347759\ttraining's RMSPE: 0.237335\tvalid_1's rmse: 0.000368342\tvalid_1's RMSPE: 0.254396\n",
      "[300]\ttraining's rmse: 0.000343517\ttraining's RMSPE: 0.23444\tvalid_1's rmse: 0.000367155\tvalid_1's RMSPE: 0.253576\n",
      "Early stopping, best iteration is:\n",
      "[329]\ttraining's rmse: 0.000342557\ttraining's RMSPE: 0.233784\tvalid_1's rmse: 0.000367034\tvalid_1's RMSPE: 0.253493\n",
      "Training fold 3\n",
      "Training until validation scores don't improve for 25 rounds\n",
      "[100]\ttraining's rmse: 0.000356066\ttraining's RMSPE: 0.243446\tvalid_1's rmse: 0.000365571\tvalid_1's RMSPE: 0.250682\n",
      "[200]\ttraining's rmse: 0.000348332\ttraining's RMSPE: 0.238158\tvalid_1's rmse: 0.000362206\tvalid_1's RMSPE: 0.248374\n",
      "[300]\ttraining's rmse: 0.000343931\ttraining's RMSPE: 0.235149\tvalid_1's rmse: 0.000360942\tvalid_1's RMSPE: 0.247508\n",
      "[400]\ttraining's rmse: 0.000340706\ttraining's RMSPE: 0.232944\tvalid_1's rmse: 0.000360517\tvalid_1's RMSPE: 0.247216\n",
      "Early stopping, best iteration is:\n",
      "[474]\ttraining's rmse: 0.000338784\ttraining's RMSPE: 0.23163\tvalid_1's rmse: 0.000360127\tvalid_1's RMSPE: 0.246949\n",
      "Training fold 4\n",
      "Training until validation scores don't improve for 25 rounds\n",
      "[100]\ttraining's rmse: 0.000355029\ttraining's RMSPE: 0.243929\tvalid_1's rmse: 0.000390915\tvalid_1's RMSPE: 0.262763\n",
      "[200]\ttraining's rmse: 0.000347053\ttraining's RMSPE: 0.238449\tvalid_1's rmse: 0.000387708\tvalid_1's RMSPE: 0.260607\n",
      "Early stopping, best iteration is:\n",
      "[219]\ttraining's rmse: 0.000346171\ttraining's RMSPE: 0.237843\tvalid_1's rmse: 0.000387307\tvalid_1's RMSPE: 0.260338\n",
      "Training fold 5\n",
      "Training until validation scores don't improve for 25 rounds\n",
      "[100]\ttraining's rmse: 0.000356826\ttraining's RMSPE: 0.243867\tvalid_1's rmse: 0.000403353\tvalid_1's RMSPE: 0.277034\n",
      "Early stopping, best iteration is:\n",
      "[75]\ttraining's rmse: 0.000360269\ttraining's RMSPE: 0.24622\tvalid_1's rmse: 0.000397625\tvalid_1's RMSPE: 0.2731\n",
      "Our out of folds RMSPE is 0.25661151282020916\n"
     ]
    }
   ],
   "source": [
    "_=train_models(train_df5m)"
   ]
  },
  {
   "cell_type": "markdown",
   "id": "d6f2c733",
   "metadata": {},
   "source": [
    "## Learning embeddings"
   ]
  },
  {
   "cell_type": "code",
   "execution_count": 13,
   "id": "0864598f",
   "metadata": {},
   "outputs": [],
   "source": [
    "cont_nn,cat_nn = cont_cat_split(train_df5m, max_card=9000, dep_var='target')\n",
    "cat_nn = ['time_id', 'stock_id']\n",
    "\n",
    "\n",
    "procs_nn = [Categorify, FillMissing,Normalize]\n",
    "\n",
    "splits = RandomSplitter(valid_pct=0.1,seed=43)(train_df5m)\n",
    "\n",
    "dls = TabularPandas(train_df5m, procs_nn, cat_nn, cont_nn,\n",
    "                      splits=splits, \n",
    "                       \n",
    "                      y_names='target').dataloaders(1024)\n",
    "\n",
    "def rmse(preds, targs):\n",
    "    x = (targs-preds)\n",
    "    return (x**2).mean().sqrt()\n",
    "\n",
    "def rmspe(preds, targs):\n",
    "    x = (targs-preds)/targs\n",
    "    return (x**2).mean().sqrt()\n",
    "\n",
    "config={'lin_first':True, 'ps':[.5,.2,0], 'embed_p':0.5, }\n",
    "learn = tabular_learner(dls, y_range=(0,.1), layers=[200,100,40], emb_szs={'stock_id':10, 'time_id':10}, \n",
    "                        n_out=1, \n",
    "                        loss_func = rmspe, \n",
    "                        \n",
    "                        metrics=AccumMetric(rmspe), config=config)"
   ]
  },
  {
   "cell_type": "code",
   "execution_count": 14,
   "id": "d20ed6b4",
   "metadata": {},
   "outputs": [
    {
     "data": {
      "text/html": [
       "<table border=\"1\" class=\"dataframe\">\n",
       "  <thead>\n",
       "    <tr style=\"text-align: left;\">\n",
       "      <th>epoch</th>\n",
       "      <th>train_loss</th>\n",
       "      <th>valid_loss</th>\n",
       "      <th>rmspe</th>\n",
       "      <th>time</th>\n",
       "    </tr>\n",
       "  </thead>\n",
       "  <tbody>\n",
       "    <tr>\n",
       "      <td>0</td>\n",
       "      <td>17.311615</td>\n",
       "      <td>16.506012</td>\n",
       "      <td>16.507843</td>\n",
       "      <td>00:08</td>\n",
       "    </tr>\n",
       "    <tr>\n",
       "      <td>1</td>\n",
       "      <td>12.629494</td>\n",
       "      <td>11.702081</td>\n",
       "      <td>11.703773</td>\n",
       "      <td>00:03</td>\n",
       "    </tr>\n",
       "    <tr>\n",
       "      <td>2</td>\n",
       "      <td>7.498426</td>\n",
       "      <td>6.349653</td>\n",
       "      <td>6.354630</td>\n",
       "      <td>00:03</td>\n",
       "    </tr>\n",
       "    <tr>\n",
       "      <td>3</td>\n",
       "      <td>2.725837</td>\n",
       "      <td>1.951894</td>\n",
       "      <td>1.959046</td>\n",
       "      <td>00:03</td>\n",
       "    </tr>\n",
       "    <tr>\n",
       "      <td>4</td>\n",
       "      <td>0.644878</td>\n",
       "      <td>0.445253</td>\n",
       "      <td>0.467625</td>\n",
       "      <td>00:03</td>\n",
       "    </tr>\n",
       "    <tr>\n",
       "      <td>5</td>\n",
       "      <td>0.567171</td>\n",
       "      <td>0.374760</td>\n",
       "      <td>0.396642</td>\n",
       "      <td>00:03</td>\n",
       "    </tr>\n",
       "    <tr>\n",
       "      <td>6</td>\n",
       "      <td>0.432339</td>\n",
       "      <td>0.285919</td>\n",
       "      <td>0.287847</td>\n",
       "      <td>00:03</td>\n",
       "    </tr>\n",
       "    <tr>\n",
       "      <td>7</td>\n",
       "      <td>0.329246</td>\n",
       "      <td>0.260905</td>\n",
       "      <td>0.261297</td>\n",
       "      <td>00:03</td>\n",
       "    </tr>\n",
       "    <tr>\n",
       "      <td>8</td>\n",
       "      <td>0.310724</td>\n",
       "      <td>0.247502</td>\n",
       "      <td>0.247896</td>\n",
       "      <td>00:03</td>\n",
       "    </tr>\n",
       "    <tr>\n",
       "      <td>9</td>\n",
       "      <td>0.278522</td>\n",
       "      <td>0.244431</td>\n",
       "      <td>0.244935</td>\n",
       "      <td>00:03</td>\n",
       "    </tr>\n",
       "    <tr>\n",
       "      <td>10</td>\n",
       "      <td>0.280031</td>\n",
       "      <td>0.245120</td>\n",
       "      <td>0.245424</td>\n",
       "      <td>00:03</td>\n",
       "    </tr>\n",
       "    <tr>\n",
       "      <td>11</td>\n",
       "      <td>0.282342</td>\n",
       "      <td>0.242142</td>\n",
       "      <td>0.242526</td>\n",
       "      <td>00:03</td>\n",
       "    </tr>\n",
       "    <tr>\n",
       "      <td>12</td>\n",
       "      <td>0.282752</td>\n",
       "      <td>0.241474</td>\n",
       "      <td>0.241954</td>\n",
       "      <td>00:03</td>\n",
       "    </tr>\n",
       "    <tr>\n",
       "      <td>13</td>\n",
       "      <td>0.272725</td>\n",
       "      <td>0.236882</td>\n",
       "      <td>0.237280</td>\n",
       "      <td>00:03</td>\n",
       "    </tr>\n",
       "    <tr>\n",
       "      <td>14</td>\n",
       "      <td>0.273688</td>\n",
       "      <td>0.237239</td>\n",
       "      <td>0.237632</td>\n",
       "      <td>00:03</td>\n",
       "    </tr>\n",
       "    <tr>\n",
       "      <td>15</td>\n",
       "      <td>0.261415</td>\n",
       "      <td>0.232115</td>\n",
       "      <td>0.232458</td>\n",
       "      <td>00:03</td>\n",
       "    </tr>\n",
       "    <tr>\n",
       "      <td>16</td>\n",
       "      <td>0.280154</td>\n",
       "      <td>0.233871</td>\n",
       "      <td>0.234328</td>\n",
       "      <td>00:03</td>\n",
       "    </tr>\n",
       "    <tr>\n",
       "      <td>17</td>\n",
       "      <td>0.255960</td>\n",
       "      <td>0.233365</td>\n",
       "      <td>0.233730</td>\n",
       "      <td>00:03</td>\n",
       "    </tr>\n",
       "    <tr>\n",
       "      <td>18</td>\n",
       "      <td>0.256395</td>\n",
       "      <td>0.235124</td>\n",
       "      <td>0.235601</td>\n",
       "      <td>00:03</td>\n",
       "    </tr>\n",
       "    <tr>\n",
       "      <td>19</td>\n",
       "      <td>0.286119</td>\n",
       "      <td>0.240084</td>\n",
       "      <td>0.240450</td>\n",
       "      <td>00:03</td>\n",
       "    </tr>\n",
       "    <tr>\n",
       "      <td>20</td>\n",
       "      <td>0.252712</td>\n",
       "      <td>0.232108</td>\n",
       "      <td>0.232504</td>\n",
       "      <td>00:03</td>\n",
       "    </tr>\n",
       "    <tr>\n",
       "      <td>21</td>\n",
       "      <td>0.252995</td>\n",
       "      <td>0.231599</td>\n",
       "      <td>0.232005</td>\n",
       "      <td>00:03</td>\n",
       "    </tr>\n",
       "    <tr>\n",
       "      <td>22</td>\n",
       "      <td>0.254634</td>\n",
       "      <td>0.231189</td>\n",
       "      <td>0.231637</td>\n",
       "      <td>00:03</td>\n",
       "    </tr>\n",
       "    <tr>\n",
       "      <td>23</td>\n",
       "      <td>0.251006</td>\n",
       "      <td>0.231222</td>\n",
       "      <td>0.231620</td>\n",
       "      <td>00:03</td>\n",
       "    </tr>\n",
       "    <tr>\n",
       "      <td>24</td>\n",
       "      <td>0.248019</td>\n",
       "      <td>0.233660</td>\n",
       "      <td>0.234157</td>\n",
       "      <td>00:03</td>\n",
       "    </tr>\n",
       "    <tr>\n",
       "      <td>25</td>\n",
       "      <td>0.251894</td>\n",
       "      <td>0.232552</td>\n",
       "      <td>0.233045</td>\n",
       "      <td>00:03</td>\n",
       "    </tr>\n",
       "    <tr>\n",
       "      <td>26</td>\n",
       "      <td>0.244367</td>\n",
       "      <td>0.231593</td>\n",
       "      <td>0.232104</td>\n",
       "      <td>00:03</td>\n",
       "    </tr>\n",
       "    <tr>\n",
       "      <td>27</td>\n",
       "      <td>0.247069</td>\n",
       "      <td>0.229754</td>\n",
       "      <td>0.230181</td>\n",
       "      <td>00:03</td>\n",
       "    </tr>\n",
       "    <tr>\n",
       "      <td>28</td>\n",
       "      <td>0.246894</td>\n",
       "      <td>0.228973</td>\n",
       "      <td>0.229436</td>\n",
       "      <td>00:03</td>\n",
       "    </tr>\n",
       "    <tr>\n",
       "      <td>29</td>\n",
       "      <td>0.243807</td>\n",
       "      <td>0.229722</td>\n",
       "      <td>0.230250</td>\n",
       "      <td>00:03</td>\n",
       "    </tr>\n",
       "    <tr>\n",
       "      <td>30</td>\n",
       "      <td>0.244749</td>\n",
       "      <td>0.231027</td>\n",
       "      <td>0.231528</td>\n",
       "      <td>00:03</td>\n",
       "    </tr>\n",
       "    <tr>\n",
       "      <td>31</td>\n",
       "      <td>0.249847</td>\n",
       "      <td>0.231031</td>\n",
       "      <td>0.231530</td>\n",
       "      <td>00:03</td>\n",
       "    </tr>\n",
       "    <tr>\n",
       "      <td>32</td>\n",
       "      <td>0.249504</td>\n",
       "      <td>0.229769</td>\n",
       "      <td>0.230234</td>\n",
       "      <td>00:03</td>\n",
       "    </tr>\n",
       "    <tr>\n",
       "      <td>33</td>\n",
       "      <td>0.242494</td>\n",
       "      <td>0.229278</td>\n",
       "      <td>0.229769</td>\n",
       "      <td>00:03</td>\n",
       "    </tr>\n",
       "    <tr>\n",
       "      <td>34</td>\n",
       "      <td>0.244572</td>\n",
       "      <td>0.228876</td>\n",
       "      <td>0.229357</td>\n",
       "      <td>00:03</td>\n",
       "    </tr>\n",
       "    <tr>\n",
       "      <td>35</td>\n",
       "      <td>0.246059</td>\n",
       "      <td>0.230528</td>\n",
       "      <td>0.231032</td>\n",
       "      <td>00:03</td>\n",
       "    </tr>\n",
       "    <tr>\n",
       "      <td>36</td>\n",
       "      <td>0.246342</td>\n",
       "      <td>0.229212</td>\n",
       "      <td>0.229685</td>\n",
       "      <td>00:03</td>\n",
       "    </tr>\n",
       "    <tr>\n",
       "      <td>37</td>\n",
       "      <td>0.253900</td>\n",
       "      <td>0.229412</td>\n",
       "      <td>0.229888</td>\n",
       "      <td>00:03</td>\n",
       "    </tr>\n",
       "    <tr>\n",
       "      <td>38</td>\n",
       "      <td>0.285482</td>\n",
       "      <td>0.229612</td>\n",
       "      <td>0.230098</td>\n",
       "      <td>00:03</td>\n",
       "    </tr>\n",
       "    <tr>\n",
       "      <td>39</td>\n",
       "      <td>0.241396</td>\n",
       "      <td>0.229510</td>\n",
       "      <td>0.230010</td>\n",
       "      <td>00:03</td>\n",
       "    </tr>\n",
       "  </tbody>\n",
       "</table>"
      ],
      "text/plain": [
       "<IPython.core.display.HTML object>"
      ]
     },
     "metadata": {},
     "output_type": "display_data"
    }
   ],
   "source": [
    "learn.fit_one_cycle(40, 1e-3)"
   ]
  },
  {
   "cell_type": "code",
   "execution_count": 15,
   "id": "57b1d87f",
   "metadata": {},
   "outputs": [],
   "source": [
    "torch.save(learn.model.embeds[0].weight.data, 'timeemb10.pt')"
   ]
  },
  {
   "cell_type": "code",
   "execution_count": 15,
   "id": "3a62f1a7",
   "metadata": {},
   "outputs": [],
   "source": [
    "categorify = dls.procs[2]\n",
    "time_embs = learn.model.embeds[0].weight.data.cpu()\n",
    "stock_embs = learn.model.embeds[1].weight.data.cpu()"
   ]
  },
  {
   "cell_type": "code",
   "execution_count": 16,
   "id": "21f7eed9",
   "metadata": {},
   "outputs": [],
   "source": [
    "def append_embs(data_df, categorify, time_embs, stock_embs):\n",
    "    time_id_embs = dict()\n",
    "    for idx, time_id in enumerate(categorify.classes['time_id']):\n",
    "        time_id_embs[time_id] = time_embs[idx].tolist()\n",
    "\n",
    "    stock_id_embs = dict()\n",
    "    for idx, stock_id in enumerate(categorify.classes['stock_id']):\n",
    "        stock_id_embs[stock_id] = stock_embs[idx].tolist()\n",
    "\n",
    "    all_embs = []\n",
    "    for _, row in (data_df[['stock_id', 'time_id']].iterrows()):\n",
    "        emb1 = stock_id_embs[row.stock_id]\n",
    "        emb2 = time_id_embs[row.time_id]\n",
    "        all_embs.append(emb1+emb2)\n",
    "    columns = [f'stock_emb{i}' for i in range(stock_embs.shape[1])] +[f'time_emb{i}' for i in range(time_embs.shape[1])]\n",
    "    embs_df = pd.DataFrame(all_embs, columns=columns)\n",
    "\n",
    "    return pd.concat([data_df, embs_df], axis=1)"
   ]
  },
  {
   "cell_type": "code",
   "execution_count": 17,
   "id": "e766768f",
   "metadata": {},
   "outputs": [
    {
     "data": {
      "text/html": [],
      "text/plain": [
       "<IPython.core.display.HTML object>"
      ]
     },
     "metadata": {},
     "output_type": "display_data"
    }
   ],
   "source": [
    "test_df = train_df5_10m\n",
    "test_dl = dls.test_dl(test_df)\n",
    "preds, _ = learn.get_preds(dl=test_dl)\n",
    "preds5_10 = preds.view(-1).numpy()"
   ]
  },
  {
   "cell_type": "markdown",
   "id": "75d7cf85",
   "metadata": {},
   "source": [
    "## Train 5m LGBM with embeddings\n"
   ]
  },
  {
   "cell_type": "code",
   "execution_count": 18,
   "id": "113f28ae",
   "metadata": {},
   "outputs": [],
   "source": [
    "train_5_with_embs = append_embs(train_df5m, categorify, time_embs, stock_embs)\n",
    "\n"
   ]
  },
  {
   "cell_type": "code",
   "execution_count": 19,
   "id": "a1043a03",
   "metadata": {},
   "outputs": [
    {
     "name": "stdout",
     "output_type": "stream",
     "text": [
      "Training fold 1\n"
     ]
    },
    {
     "name": "stderr",
     "output_type": "stream",
     "text": [
      "/home/slex/programy/anaconda3/envs/fastai/lib/python3.8/site-packages/lightgbm/basic.py:1996: UserWarning: Using categorical_feature in Dataset.\n",
      "  _log_warning('Using categorical_feature in Dataset.')\n",
      "/home/slex/programy/anaconda3/envs/fastai/lib/python3.8/site-packages/lightgbm/basic.py:1727: UserWarning: Overriding the parameters from Reference Dataset.\n",
      "  _log_warning('Overriding the parameters from Reference Dataset.')\n",
      "/home/slex/programy/anaconda3/envs/fastai/lib/python3.8/site-packages/lightgbm/basic.py:1460: UserWarning: categorical_column in param dict is overridden.\n",
      "  _log_warning(f'{cat_alias} in param dict is overridden.')\n"
     ]
    },
    {
     "name": "stdout",
     "output_type": "stream",
     "text": [
      "Training until validation scores don't improve for 25 rounds\n",
      "[100]\ttraining's rmse: 0.000323298\ttraining's RMSPE: 0.221097\tvalid_1's rmse: 0.000334843\tvalid_1's RMSPE: 0.229383\n",
      "[200]\ttraining's rmse: 0.000315192\ttraining's RMSPE: 0.215554\tvalid_1's rmse: 0.000331227\tvalid_1's RMSPE: 0.226906\n",
      "[300]\ttraining's rmse: 0.000311048\ttraining's RMSPE: 0.21272\tvalid_1's rmse: 0.000329867\tvalid_1's RMSPE: 0.225975\n",
      "[400]\ttraining's rmse: 0.000307874\ttraining's RMSPE: 0.210549\tvalid_1's rmse: 0.000329082\tvalid_1's RMSPE: 0.225437\n",
      "[500]\ttraining's rmse: 0.000305411\ttraining's RMSPE: 0.208865\tvalid_1's rmse: 0.000328675\tvalid_1's RMSPE: 0.225158\n",
      "Early stopping, best iteration is:\n",
      "[515]\ttraining's rmse: 0.000305187\ttraining's RMSPE: 0.208711\tvalid_1's rmse: 0.000328561\tvalid_1's RMSPE: 0.225079\n",
      "Training fold 2\n",
      "Training until validation scores don't improve for 25 rounds\n",
      "[100]\ttraining's rmse: 0.0003236\ttraining's RMSPE: 0.220847\tvalid_1's rmse: 0.000338292\tvalid_1's RMSPE: 0.233642\n",
      "[200]\ttraining's rmse: 0.000315366\ttraining's RMSPE: 0.215228\tvalid_1's rmse: 0.000334114\tvalid_1's RMSPE: 0.230757\n",
      "[300]\ttraining's rmse: 0.000311089\ttraining's RMSPE: 0.212309\tvalid_1's rmse: 0.000332319\tvalid_1's RMSPE: 0.229517\n",
      "[400]\ttraining's rmse: 0.000307919\ttraining's RMSPE: 0.210146\tvalid_1's rmse: 0.000331818\tvalid_1's RMSPE: 0.229171\n",
      "Early stopping, best iteration is:\n",
      "[453]\ttraining's rmse: 0.000306562\ttraining's RMSPE: 0.209219\tvalid_1's rmse: 0.000331497\tvalid_1's RMSPE: 0.228949\n",
      "Training fold 3\n",
      "Training until validation scores don't improve for 25 rounds\n",
      "[100]\ttraining's rmse: 0.000325181\ttraining's RMSPE: 0.22233\tvalid_1's rmse: 0.000333571\tvalid_1's RMSPE: 0.228738\n",
      "[200]\ttraining's rmse: 0.000316655\ttraining's RMSPE: 0.216501\tvalid_1's rmse: 0.000329233\tvalid_1's RMSPE: 0.225764\n",
      "[300]\ttraining's rmse: 0.000312231\ttraining's RMSPE: 0.213475\tvalid_1's rmse: 0.00032748\tvalid_1's RMSPE: 0.224562\n",
      "[400]\ttraining's rmse: 0.000309257\ttraining's RMSPE: 0.211442\tvalid_1's rmse: 0.000326572\tvalid_1's RMSPE: 0.223939\n",
      "[500]\ttraining's rmse: 0.000306672\ttraining's RMSPE: 0.209675\tvalid_1's rmse: 0.000325955\tvalid_1's RMSPE: 0.223516\n",
      "Early stopping, best iteration is:\n",
      "[518]\ttraining's rmse: 0.000306281\ttraining's RMSPE: 0.209408\tvalid_1's rmse: 0.000325848\tvalid_1's RMSPE: 0.223442\n",
      "Training fold 4\n",
      "Training until validation scores don't improve for 25 rounds\n",
      "[100]\ttraining's rmse: 0.000323451\ttraining's RMSPE: 0.222232\tvalid_1's rmse: 0.000357677\tvalid_1's RMSPE: 0.240421\n",
      "[200]\ttraining's rmse: 0.000315085\ttraining's RMSPE: 0.216485\tvalid_1's rmse: 0.000349571\tvalid_1's RMSPE: 0.234972\n",
      "Early stopping, best iteration is:\n",
      "[200]\ttraining's rmse: 0.000315085\ttraining's RMSPE: 0.216485\tvalid_1's rmse: 0.000349571\tvalid_1's RMSPE: 0.234972\n",
      "Training fold 5\n",
      "Training until validation scores don't improve for 25 rounds\n",
      "[100]\ttraining's rmse: 0.000325197\ttraining's RMSPE: 0.222251\tvalid_1's rmse: 0.00035166\tvalid_1's RMSPE: 0.24153\n",
      "Early stopping, best iteration is:\n",
      "[85]\ttraining's rmse: 0.00032718\ttraining's RMSPE: 0.223606\tvalid_1's rmse: 0.000349238\tvalid_1's RMSPE: 0.239866\n",
      "Our out of folds RMSPE is 0.23054400151919777\n"
     ]
    }
   ],
   "source": [
    "_=train_models(train_5_with_embs)"
   ]
  },
  {
   "cell_type": "markdown",
   "id": "c2c6ab18",
   "metadata": {},
   "source": [
    "## Baseline LGMB 10m"
   ]
  },
  {
   "cell_type": "code",
   "execution_count": 69,
   "id": "24410442",
   "metadata": {},
   "outputs": [
    {
     "data": {
      "text/plain": [
       "[(0, 600), (100, 600), (200, 600), (300, 600), (400, 600), (500, 600)]"
      ]
     },
     "execution_count": 69,
     "metadata": {},
     "output_type": "execute_result"
    }
   ],
   "source": [
    "time_windows = list(zip(range(0,601,100), [600]*6))\n",
    "time_windows"
   ]
  },
  {
   "cell_type": "code",
   "execution_count": 49,
   "id": "cb59eb9a",
   "metadata": {},
   "outputs": [],
   "source": [
    "#time_windows = [(0,600)] +list(zip(range(0,601,100), range(100,601,100)))\n",
    "#time_windows = [(0,600), (300,600)]"
   ]
  },
  {
   "cell_type": "code",
   "execution_count": 70,
   "id": "15214e8a",
   "metadata": {},
   "outputs": [],
   "source": [
    "agg_cols = ['log_return_price_std', 'log_return1_std', 'log_return2_std']"
   ]
  },
  {
   "cell_type": "code",
   "execution_count": 71,
   "id": "9428b59c",
   "metadata": {},
   "outputs": [],
   "source": [
    "time_id_features = [f'{col}_{x}_{y}' for x,y in time_windows for col in agg_cols] \n",
    "time_id_aggregations = ['mean', 'std', 'min' ]\n",
    "stock_id_features = time_id_features\n",
    "stock_id_aggregations = time_id_aggregations"
   ]
  },
  {
   "cell_type": "code",
   "execution_count": 72,
   "id": "8f504ba8",
   "metadata": {},
   "outputs": [],
   "source": [
    "ofg = OptiverFeatureGenerator(book_feature_dict, trade_feature_dict, time_windows, time_id_features,time_id_aggregations, stock_id_features, stock_id_aggregations)\n",
    "df = ofg.generate_train_df()\n",
    "\n"
   ]
  },
  {
   "cell_type": "code",
   "execution_count": 73,
   "id": "e4833cfe",
   "metadata": {},
   "outputs": [],
   "source": [
    "#df = pd.read_feather('train_10m.feather')"
   ]
  },
  {
   "cell_type": "code",
   "execution_count": 74,
   "id": "0950d3d3",
   "metadata": {},
   "outputs": [
    {
     "data": {
      "text/plain": [
       "(300251, 128681)"
      ]
     },
     "execution_count": 74,
     "metadata": {},
     "output_type": "execute_result"
    }
   ],
   "source": [
    "train_df10m = df[df.time_id.isin(train_ids)].reset_index()\n",
    "test_df10m = df[df.time_id.isin(test_ids)].reset_index()\n",
    "len(train_df10m), len(test_df10m)"
   ]
  },
  {
   "cell_type": "code",
   "execution_count": 76,
   "id": "1060664b",
   "metadata": {},
   "outputs": [
    {
     "name": "stdout",
     "output_type": "stream",
     "text": [
      "Training fold 1\n"
     ]
    },
    {
     "name": "stderr",
     "output_type": "stream",
     "text": [
      "/home/slex/programy/anaconda3/envs/fastai/lib/python3.8/site-packages/lightgbm/basic.py:1996: UserWarning: Using categorical_feature in Dataset.\n",
      "  _log_warning('Using categorical_feature in Dataset.')\n",
      "/home/slex/programy/anaconda3/envs/fastai/lib/python3.8/site-packages/lightgbm/basic.py:1727: UserWarning: Overriding the parameters from Reference Dataset.\n",
      "  _log_warning('Overriding the parameters from Reference Dataset.')\n",
      "/home/slex/programy/anaconda3/envs/fastai/lib/python3.8/site-packages/lightgbm/basic.py:1460: UserWarning: categorical_column in param dict is overridden.\n",
      "  _log_warning(f'{cat_alias} in param dict is overridden.')\n"
     ]
    },
    {
     "name": "stdout",
     "output_type": "stream",
     "text": [
      "Training until validation scores don't improve for 25 rounds\n",
      "[100]\ttraining's rmse: 0.000457726\ttraining's RMSPE: 0.212252\tvalid_1's rmse: 0.000485175\tvalid_1's RMSPE: 0.222866\n",
      "[200]\ttraining's rmse: 0.000437764\ttraining's RMSPE: 0.202995\tvalid_1's rmse: 0.000482336\tvalid_1's RMSPE: 0.221562\n",
      "Early stopping, best iteration is:\n",
      "[210]\ttraining's rmse: 0.000436285\ttraining's RMSPE: 0.20231\tvalid_1's rmse: 0.000481833\tvalid_1's RMSPE: 0.221331\n",
      "Training fold 2\n",
      "Training until validation scores don't improve for 25 rounds\n",
      "[100]\ttraining's rmse: 0.000465024\ttraining's RMSPE: 0.213102\tvalid_1's rmse: 0.00048264\tvalid_1's RMSPE: 0.23202\n",
      "Early stopping, best iteration is:\n",
      "[108]\ttraining's rmse: 0.000462848\ttraining's RMSPE: 0.212105\tvalid_1's rmse: 0.000482041\tvalid_1's RMSPE: 0.231732\n",
      "Training fold 3\n",
      "Training until validation scores don't improve for 25 rounds\n",
      "[100]\ttraining's rmse: 0.000456197\ttraining's RMSPE: 0.212227\tvalid_1's rmse: 0.000496956\tvalid_1's RMSPE: 0.225239\n",
      "[200]\ttraining's rmse: 0.000436745\ttraining's RMSPE: 0.203178\tvalid_1's rmse: 0.000490897\tvalid_1's RMSPE: 0.222493\n",
      "[300]\ttraining's rmse: 0.000425639\ttraining's RMSPE: 0.198011\tvalid_1's rmse: 0.000489395\tvalid_1's RMSPE: 0.221812\n",
      "[400]\ttraining's rmse: 0.000416131\ttraining's RMSPE: 0.193588\tvalid_1's rmse: 0.000488296\tvalid_1's RMSPE: 0.221314\n",
      "Early stopping, best iteration is:\n",
      "[456]\ttraining's rmse: 0.000412121\ttraining's RMSPE: 0.191722\tvalid_1's rmse: 0.000487598\tvalid_1's RMSPE: 0.220997\n",
      "Training fold 4\n",
      "Training until validation scores don't improve for 25 rounds\n",
      "[100]\ttraining's rmse: 0.000459767\ttraining's RMSPE: 0.211988\tvalid_1's rmse: 0.000482784\tvalid_1's RMSPE: 0.226829\n",
      "[200]\ttraining's rmse: 0.000439996\ttraining's RMSPE: 0.202871\tvalid_1's rmse: 0.000478481\tvalid_1's RMSPE: 0.224807\n",
      "Early stopping, best iteration is:\n",
      "[229]\ttraining's rmse: 0.000436563\ttraining's RMSPE: 0.201289\tvalid_1's rmse: 0.00047811\tvalid_1's RMSPE: 0.224633\n",
      "Training fold 5\n",
      "Training until validation scores don't improve for 25 rounds\n",
      "[100]\ttraining's rmse: 0.000456346\ttraining's RMSPE: 0.212613\tvalid_1's rmse: 0.000502131\tvalid_1's RMSPE: 0.226147\n",
      "[200]\ttraining's rmse: 0.000436686\ttraining's RMSPE: 0.203454\tvalid_1's rmse: 0.000498724\tvalid_1's RMSPE: 0.224612\n",
      "Early stopping, best iteration is:\n",
      "[222]\ttraining's rmse: 0.000434202\ttraining's RMSPE: 0.202296\tvalid_1's rmse: 0.000498128\tvalid_1's RMSPE: 0.224344\n",
      "Our out of folds RMSPE is 0.22463937894333316\n"
     ]
    }
   ],
   "source": [
    "models=train_models(train_df10m)"
   ]
  },
  {
   "cell_type": "code",
   "execution_count": 77,
   "id": "8acf964d",
   "metadata": {},
   "outputs": [
    {
     "data": {
      "text/plain": [
       "0.22513449599523208"
      ]
     },
     "execution_count": 77,
     "metadata": {},
     "output_type": "execute_result"
    }
   ],
   "source": [
    "test_pred = np.zeros(len(test_df10m))\n",
    "for model in models:\n",
    "    pred = model.predict(test_df10m.drop(['row_id', 'time_id', 'target'], axis=1)) \n",
    "    test_pred += pred /5\n",
    "\n",
    "baseline_score = rmspe_np(test_df10m.target, test_pred)\n",
    "baseline_score"
   ]
  },
  {
   "cell_type": "markdown",
   "id": "28960147",
   "metadata": {},
   "source": [
    "## LGBM 10m with trained embeddings"
   ]
  },
  {
   "cell_type": "code",
   "execution_count": 78,
   "id": "7ef5367e",
   "metadata": {},
   "outputs": [],
   "source": [
    "df_with_embs = append_embs(df, categorify, time_embs, stock_embs)"
   ]
  },
  {
   "cell_type": "code",
   "execution_count": 79,
   "id": "282343d7",
   "metadata": {},
   "outputs": [],
   "source": [
    "df_with_embs['5m_pred']= preds5_10"
   ]
  },
  {
   "cell_type": "code",
   "execution_count": 80,
   "id": "4b7b3323",
   "metadata": {},
   "outputs": [],
   "source": [
    "# to_drop = [x for x in df_with_embs.columns if x.endswith('_stock') or x.endswith('_time')]\n",
    "\n",
    "# df_with_embs = df_with_embs.drop(to_drop, axis=1)"
   ]
  },
  {
   "cell_type": "code",
   "execution_count": 81,
   "id": "6c48f5a8",
   "metadata": {},
   "outputs": [],
   "source": [
    "train_10m_with_embs = df_with_embs[df_with_embs.time_id.isin(train_ids)].reset_index()\n",
    "test_10m_with_embs = df_with_embs[df_with_embs.time_id.isin(test_ids)].reset_index()"
   ]
  },
  {
   "cell_type": "code",
   "execution_count": 82,
   "id": "a5f7dca1",
   "metadata": {},
   "outputs": [],
   "source": [
    "# train_10m_with_embs.to_feather('train_10m_with_embs.feather')\n",
    "# test_10m_with_embs.to_feather('test_10m_with_embs.feather')"
   ]
  },
  {
   "cell_type": "code",
   "execution_count": 96,
   "id": "26a0b643",
   "metadata": {},
   "outputs": [],
   "source": [
    "train_10m_with_embs.to_feather('train_182cols.feather')\n",
    "test_10m_with_embs.to_feather('test_182cols.feather')"
   ]
  },
  {
   "cell_type": "code",
   "execution_count": 97,
   "id": "c1289af8",
   "metadata": {},
   "outputs": [],
   "source": [
    "cols_to_keep = ['log_return2_std_0_600',\n",
    " 'log_return_price_std_0_600',\n",
    " '5m_pred',\n",
    " 'stock_id',\n",
    " 'time_emb0',\n",
    " 'time_emb1',\n",
    " 'time_emb2',\n",
    " 'time_emb3',\n",
    " 'time_emb4',\n",
    " 'time_emb5',\n",
    " 'time_emb6',\n",
    " 'time_emb7',\n",
    " 'time_emb8',\n",
    " 'time_emb9',\n",
    " 'order_count_sum_0_600',\n",
    " 'seconds_in_bucket_size_0_600',\n",
    " 'size_sum_0_600',\n",
    " 'log_return1_std_0_600_min_time',\n",
    " 'log_return1_std_0_600_mean_time',\n",
    " 'log_return1_std_0_600_min_stock',\n",
    " 'log_return1_std_0_600_mean_stock',\n",
    " 'log_return1_std_0_600',\n",
    " 'log_return1_std_100_600',\n",
    " 'log_return1_std_200_600',\n",
    " 'log_return1_std_300_600',\n",
    " 'log_return1_std_400_600',\n",
    " 'log_return1_std_500_600',\n",
    " 'price_spread_mean_0_600',\n",
    " 'log_return_price_std_0_600_mean_time',\n",
    " 'log_return_price_std_100_600_mean_time',\n",
    " 'log_return_price_std_200_600_mean_time',\n",
    " 'log_return_price_std_300_600_mean_time',\n",
    " 'log_return_price_std_400_600_mean_time',\n",
    " 'log_return_price_std_500_600_mean_time',\n",
    " 'log_return_price_std_0_600_min_time',\n",
    " 'log_return_price_std_100_600_min_time',\n",
    " 'log_return_price_std_200_600_min_time',\n",
    " 'log_return_price_std_300_600_min_time',\n",
    " 'log_return_price_std_400_600_min_time',\n",
    " 'log_return_price_std_500_600_min_time',\n",
    " 'total_volume_mean_0_600']"
   ]
  },
  {
   "cell_type": "code",
   "execution_count": 107,
   "id": "a3435836",
   "metadata": {},
   "outputs": [
    {
     "name": "stdout",
     "output_type": "stream",
     "text": [
      "Training fold 1\n"
     ]
    },
    {
     "name": "stderr",
     "output_type": "stream",
     "text": [
      "/home/slex/programy/anaconda3/envs/fastai/lib/python3.8/site-packages/lightgbm/basic.py:1996: UserWarning: Using categorical_feature in Dataset.\n",
      "  _log_warning('Using categorical_feature in Dataset.')\n",
      "/home/slex/programy/anaconda3/envs/fastai/lib/python3.8/site-packages/lightgbm/basic.py:1727: UserWarning: Overriding the parameters from Reference Dataset.\n",
      "  _log_warning('Overriding the parameters from Reference Dataset.')\n",
      "/home/slex/programy/anaconda3/envs/fastai/lib/python3.8/site-packages/lightgbm/basic.py:1460: UserWarning: categorical_column in param dict is overridden.\n",
      "  _log_warning(f'{cat_alias} in param dict is overridden.')\n"
     ]
    },
    {
     "name": "stdout",
     "output_type": "stream",
     "text": [
      "Training until validation scores don't improve for 25 rounds\n",
      "[100]\ttraining's rmse: 0.000455463\ttraining's RMSPE: 0.211202\tvalid_1's rmse: 0.000477484\tvalid_1's RMSPE: 0.219333\n",
      "[200]\ttraining's rmse: 0.000438723\ttraining's RMSPE: 0.20344\tvalid_1's rmse: 0.000474947\tvalid_1's RMSPE: 0.218168\n",
      "Early stopping, best iteration is:\n",
      "[197]\ttraining's rmse: 0.00043922\ttraining's RMSPE: 0.20367\tvalid_1's rmse: 0.000474725\tvalid_1's RMSPE: 0.218066\n",
      "Training fold 2\n",
      "Training until validation scores don't improve for 25 rounds\n",
      "Early stopping, best iteration is:\n",
      "[72]\ttraining's rmse: 0.000470515\ttraining's RMSPE: 0.215618\tvalid_1's rmse: 0.000465972\tvalid_1's RMSPE: 0.224007\n",
      "Training fold 3\n",
      "Training until validation scores don't improve for 25 rounds\n",
      "[100]\ttraining's rmse: 0.000455943\ttraining's RMSPE: 0.212109\tvalid_1's rmse: 0.000493327\tvalid_1's RMSPE: 0.223594\n",
      "[200]\ttraining's rmse: 0.000438512\ttraining's RMSPE: 0.204\tvalid_1's rmse: 0.000486984\tvalid_1's RMSPE: 0.220719\n",
      "[300]\ttraining's rmse: 0.000427766\ttraining's RMSPE: 0.199001\tvalid_1's rmse: 0.00048459\tvalid_1's RMSPE: 0.219634\n",
      "[400]\ttraining's rmse: 0.000419688\ttraining's RMSPE: 0.195243\tvalid_1's rmse: 0.000483891\tvalid_1's RMSPE: 0.219317\n",
      "Early stopping, best iteration is:\n",
      "[380]\ttraining's rmse: 0.000420951\ttraining's RMSPE: 0.19583\tvalid_1's rmse: 0.000483777\tvalid_1's RMSPE: 0.219265\n",
      "Training fold 4\n",
      "Training until validation scores don't improve for 25 rounds\n",
      "[100]\ttraining's rmse: 0.000458316\ttraining's RMSPE: 0.211318\tvalid_1's rmse: 0.000476792\tvalid_1's RMSPE: 0.224013\n",
      "Early stopping, best iteration is:\n",
      "[153]\ttraining's rmse: 0.000447621\ttraining's RMSPE: 0.206387\tvalid_1's rmse: 0.000474375\tvalid_1's RMSPE: 0.222878\n",
      "Training fold 5\n",
      "Training until validation scores don't improve for 25 rounds\n",
      "[100]\ttraining's rmse: 0.000453437\ttraining's RMSPE: 0.211258\tvalid_1's rmse: 0.000491847\tvalid_1's RMSPE: 0.221515\n",
      "[200]\ttraining's rmse: 0.000436504\ttraining's RMSPE: 0.203369\tvalid_1's rmse: 0.0004897\tvalid_1's RMSPE: 0.220548\n",
      "Early stopping, best iteration is:\n",
      "[225]\ttraining's rmse: 0.000433581\ttraining's RMSPE: 0.202007\tvalid_1's rmse: 0.000489282\tvalid_1's RMSPE: 0.22036\n",
      "Our out of folds RMSPE is 0.22092531945653673\n"
     ]
    }
   ],
   "source": [
    "models=train_models(train_10m_with_embs[cols_to_keep+['target', 'time_id']])"
   ]
  },
  {
   "cell_type": "code",
   "execution_count": 108,
   "id": "b8c57217",
   "metadata": {},
   "outputs": [
    {
     "data": {
      "text/plain": [
       "0.22261434022102783"
      ]
     },
     "execution_count": 108,
     "metadata": {},
     "output_type": "execute_result"
    }
   ],
   "source": [
    "test_pred = np.zeros(len(test_10m_with_embs))\n",
    "for model in models:\n",
    "    #pred = model.predict(test_10m_with_embs.drop(['row_id', 'time_id', 'target'], axis=1)) \n",
    "    pred = model.predict(test_10m_with_embs[cols_to_keep]) \n",
    "    test_pred += pred /5\n",
    "\n",
    "embeds5mpred_score = rmspe_np(test_10m_with_embs.target, test_pred)\n",
    "embeds5mpred_score"
   ]
  },
  {
   "cell_type": "code",
   "execution_count": 109,
   "id": "b14780fb",
   "metadata": {},
   "outputs": [
    {
     "data": {
      "text/plain": [
       "0.01119400100399374"
      ]
     },
     "execution_count": 109,
     "metadata": {},
     "output_type": "execute_result"
    }
   ],
   "source": [
    "(baseline_score-embeds5mpred_score)/ baseline_score"
   ]
  },
  {
   "cell_type": "code",
   "execution_count": 110,
   "id": "2b275b48",
   "metadata": {},
   "outputs": [],
   "source": [
    "# for m in models[:2]:\n",
    "#     lgb.plot_importance(m, max_num_features=20)"
   ]
  },
  {
   "cell_type": "code",
   "execution_count": 111,
   "id": "e2d74fcc",
   "metadata": {},
   "outputs": [
    {
     "data": {
      "image/png": "[encoded data removed]",
      "text/plain": [
       "<Figure size 432x288 with 1 Axes>"
      ]
     },
     "metadata": {
      "needs_background": "light"
     },
     "output_type": "display_data"
    },
    {
     "data": {
      "image/png": "[encoded data removed]",
      "text/plain": [
       "<Figure size 432x288 with 1 Axes>"
      ]
     },
     "metadata": {
      "needs_background": "light"
     },
     "output_type": "display_data"
    },
    {
     "data": {
      "image/png": "[encoded data removed]",
      "text/plain": [
       "<Figure size 432x288 with 1 Axes>"
      ]
     },
     "metadata": {
      "needs_background": "light"
     },
     "output_type": "display_data"
    }
   ],
   "source": [
    "for m in models[:3]:\n",
    "    lgb.plot_importance(m, max_num_features=20, importance_type='gain')"
   ]
  },
  {
   "cell_type": "markdown",
   "id": "37dd18c5",
   "metadata": {},
   "source": [
    "## Train NN"
   ]
  },
  {
   "cell_type": "code",
   "execution_count": 41,
   "id": "ef66b80d",
   "metadata": {},
   "outputs": [],
   "source": [
    "#train_10m_with_embs = train_10m_with_embs.fillna(0)"
   ]
  },
  {
   "cell_type": "code",
   "execution_count": 113,
   "id": "989e2699",
   "metadata": {},
   "outputs": [],
   "source": [
    "splits = first(GroupKFold().split(train_10m_with_embs, groups = train_10m_with_embs.time_id))\n",
    "splits = (list(splits[0]), list(splits[1]))"
   ]
  },
  {
   "cell_type": "code",
   "execution_count": 145,
   "id": "77b3e3ae",
   "metadata": {},
   "outputs": [],
   "source": [
    "cont_nn,cat_nn = cont_cat_split(train_10m_with_embs[cols_to_keep+['target']], max_card=9000, dep_var='target')\n",
    "cat_nn = []\n",
    "\n",
    "\n",
    "procs_nn = [Categorify, FillMissing,Normalize]\n",
    "\n",
    "#splits = RandomSplitter(valid_pct=0.2,seed=43)(train_10m_with_embs)\n",
    "\n",
    "dls = TabularPandas(train_10m_with_embs[cols_to_keep+['target']], procs_nn, cat_nn, cont_nn,\n",
    "                      splits=splits, \n",
    "                       \n",
    "                      y_names='target').dataloaders(1024)\n",
    "\n",
    "def rmse(preds, targs):\n",
    "    x = (targs-preds)\n",
    "    return (x**2).mean().sqrt()\n",
    "\n",
    "def rmspe(preds, targs):\n",
    "    x = (targs-preds)/targs\n",
    "    return (x**2).mean().sqrt()\n",
    "\n",
    "config={'lin_first':True, 'ps':[0.5,0,0], }\n",
    "learn = tabular_learner(dls, y_range=(0,.1), layers=[200,100,10], \n",
    "                        n_out=1, \n",
    "                        loss_func = rmspe, \n",
    "                        \n",
    "                        metrics=AccumMetric(rmspe), config=config)"
   ]
  },
  {
   "cell_type": "code",
   "execution_count": 146,
   "id": "ac24364c",
   "metadata": {},
   "outputs": [
    {
     "data": {
      "text/html": [
       "<table border=\"1\" class=\"dataframe\">\n",
       "  <thead>\n",
       "    <tr style=\"text-align: left;\">\n",
       "      <th>epoch</th>\n",
       "      <th>train_loss</th>\n",
       "      <th>valid_loss</th>\n",
       "      <th>rmspe</th>\n",
       "      <th>time</th>\n",
       "    </tr>\n",
       "  </thead>\n",
       "  <tbody>\n",
       "    <tr>\n",
       "      <td>0</td>\n",
       "      <td>13.516313</td>\n",
       "      <td>12.587500</td>\n",
       "      <td>12.596029</td>\n",
       "      <td>00:01</td>\n",
       "    </tr>\n",
       "    <tr>\n",
       "      <td>1</td>\n",
       "      <td>8.273132</td>\n",
       "      <td>6.517494</td>\n",
       "      <td>6.539475</td>\n",
       "      <td>00:01</td>\n",
       "    </tr>\n",
       "    <tr>\n",
       "      <td>2</td>\n",
       "      <td>3.046509</td>\n",
       "      <td>1.786598</td>\n",
       "      <td>1.810444</td>\n",
       "      <td>00:01</td>\n",
       "    </tr>\n",
       "    <tr>\n",
       "      <td>3</td>\n",
       "      <td>0.878389</td>\n",
       "      <td>0.696749</td>\n",
       "      <td>1.755828</td>\n",
       "      <td>00:01</td>\n",
       "    </tr>\n",
       "    <tr>\n",
       "      <td>4</td>\n",
       "      <td>0.616284</td>\n",
       "      <td>0.550174</td>\n",
       "      <td>1.699189</td>\n",
       "      <td>00:01</td>\n",
       "    </tr>\n",
       "    <tr>\n",
       "      <td>5</td>\n",
       "      <td>0.828290</td>\n",
       "      <td>0.471171</td>\n",
       "      <td>1.681832</td>\n",
       "      <td>00:01</td>\n",
       "    </tr>\n",
       "    <tr>\n",
       "      <td>6</td>\n",
       "      <td>0.326697</td>\n",
       "      <td>0.260644</td>\n",
       "      <td>0.263388</td>\n",
       "      <td>00:01</td>\n",
       "    </tr>\n",
       "    <tr>\n",
       "      <td>7</td>\n",
       "      <td>0.257812</td>\n",
       "      <td>0.232881</td>\n",
       "      <td>0.235092</td>\n",
       "      <td>00:01</td>\n",
       "    </tr>\n",
       "    <tr>\n",
       "      <td>8</td>\n",
       "      <td>0.256071</td>\n",
       "      <td>0.238392</td>\n",
       "      <td>0.241004</td>\n",
       "      <td>00:01</td>\n",
       "    </tr>\n",
       "    <tr>\n",
       "      <td>9</td>\n",
       "      <td>0.242561</td>\n",
       "      <td>0.231613</td>\n",
       "      <td>0.234122</td>\n",
       "      <td>00:01</td>\n",
       "    </tr>\n",
       "    <tr>\n",
       "      <td>10</td>\n",
       "      <td>0.256723</td>\n",
       "      <td>0.230597</td>\n",
       "      <td>0.233670</td>\n",
       "      <td>00:01</td>\n",
       "    </tr>\n",
       "    <tr>\n",
       "      <td>11</td>\n",
       "      <td>0.245383</td>\n",
       "      <td>0.226891</td>\n",
       "      <td>0.229111</td>\n",
       "      <td>00:01</td>\n",
       "    </tr>\n",
       "    <tr>\n",
       "      <td>12</td>\n",
       "      <td>0.239528</td>\n",
       "      <td>0.243590</td>\n",
       "      <td>0.245941</td>\n",
       "      <td>00:01</td>\n",
       "    </tr>\n",
       "    <tr>\n",
       "      <td>13</td>\n",
       "      <td>0.239665</td>\n",
       "      <td>0.222896</td>\n",
       "      <td>0.224748</td>\n",
       "      <td>00:01</td>\n",
       "    </tr>\n",
       "    <tr>\n",
       "      <td>14</td>\n",
       "      <td>0.232303</td>\n",
       "      <td>0.225811</td>\n",
       "      <td>0.228697</td>\n",
       "      <td>00:01</td>\n",
       "    </tr>\n",
       "    <tr>\n",
       "      <td>15</td>\n",
       "      <td>0.253584</td>\n",
       "      <td>0.221972</td>\n",
       "      <td>0.223578</td>\n",
       "      <td>00:01</td>\n",
       "    </tr>\n",
       "    <tr>\n",
       "      <td>16</td>\n",
       "      <td>0.233232</td>\n",
       "      <td>0.221807</td>\n",
       "      <td>0.223438</td>\n",
       "      <td>00:01</td>\n",
       "    </tr>\n",
       "    <tr>\n",
       "      <td>17</td>\n",
       "      <td>0.233051</td>\n",
       "      <td>0.225090</td>\n",
       "      <td>0.226570</td>\n",
       "      <td>00:01</td>\n",
       "    </tr>\n",
       "    <tr>\n",
       "      <td>18</td>\n",
       "      <td>0.232522</td>\n",
       "      <td>0.221366</td>\n",
       "      <td>0.223238</td>\n",
       "      <td>00:01</td>\n",
       "    </tr>\n",
       "    <tr>\n",
       "      <td>19</td>\n",
       "      <td>0.228336</td>\n",
       "      <td>0.221954</td>\n",
       "      <td>0.223532</td>\n",
       "      <td>00:01</td>\n",
       "    </tr>\n",
       "    <tr>\n",
       "      <td>20</td>\n",
       "      <td>0.233604</td>\n",
       "      <td>0.437479</td>\n",
       "      <td>1.671947</td>\n",
       "      <td>00:01</td>\n",
       "    </tr>\n",
       "    <tr>\n",
       "      <td>21</td>\n",
       "      <td>0.227535</td>\n",
       "      <td>0.221691</td>\n",
       "      <td>0.223990</td>\n",
       "      <td>00:01</td>\n",
       "    </tr>\n",
       "    <tr>\n",
       "      <td>22</td>\n",
       "      <td>0.227381</td>\n",
       "      <td>0.220849</td>\n",
       "      <td>0.223904</td>\n",
       "      <td>00:01</td>\n",
       "    </tr>\n",
       "    <tr>\n",
       "      <td>23</td>\n",
       "      <td>0.228472</td>\n",
       "      <td>0.220551</td>\n",
       "      <td>0.222188</td>\n",
       "      <td>00:01</td>\n",
       "    </tr>\n",
       "    <tr>\n",
       "      <td>24</td>\n",
       "      <td>0.226132</td>\n",
       "      <td>0.220520</td>\n",
       "      <td>0.223099</td>\n",
       "      <td>00:01</td>\n",
       "    </tr>\n",
       "    <tr>\n",
       "      <td>25</td>\n",
       "      <td>0.227178</td>\n",
       "      <td>0.221395</td>\n",
       "      <td>0.223070</td>\n",
       "      <td>00:01</td>\n",
       "    </tr>\n",
       "    <tr>\n",
       "      <td>26</td>\n",
       "      <td>0.227800</td>\n",
       "      <td>0.221346</td>\n",
       "      <td>0.224057</td>\n",
       "      <td>00:01</td>\n",
       "    </tr>\n",
       "    <tr>\n",
       "      <td>27</td>\n",
       "      <td>0.225697</td>\n",
       "      <td>0.218988</td>\n",
       "      <td>0.221045</td>\n",
       "      <td>00:01</td>\n",
       "    </tr>\n",
       "    <tr>\n",
       "      <td>28</td>\n",
       "      <td>0.224335</td>\n",
       "      <td>0.219772</td>\n",
       "      <td>0.222167</td>\n",
       "      <td>00:01</td>\n",
       "    </tr>\n",
       "    <tr>\n",
       "      <td>29</td>\n",
       "      <td>0.225844</td>\n",
       "      <td>0.217321</td>\n",
       "      <td>0.218923</td>\n",
       "      <td>00:01</td>\n",
       "    </tr>\n",
       "    <tr>\n",
       "      <td>30</td>\n",
       "      <td>0.224879</td>\n",
       "      <td>0.217890</td>\n",
       "      <td>0.219562</td>\n",
       "      <td>00:01</td>\n",
       "    </tr>\n",
       "    <tr>\n",
       "      <td>31</td>\n",
       "      <td>0.224531</td>\n",
       "      <td>0.217789</td>\n",
       "      <td>0.219395</td>\n",
       "      <td>00:01</td>\n",
       "    </tr>\n",
       "    <tr>\n",
       "      <td>32</td>\n",
       "      <td>0.223239</td>\n",
       "      <td>0.216897</td>\n",
       "      <td>0.218584</td>\n",
       "      <td>00:01</td>\n",
       "    </tr>\n",
       "    <tr>\n",
       "      <td>33</td>\n",
       "      <td>0.223721</td>\n",
       "      <td>0.217119</td>\n",
       "      <td>0.218859</td>\n",
       "      <td>00:01</td>\n",
       "    </tr>\n",
       "    <tr>\n",
       "      <td>34</td>\n",
       "      <td>0.222163</td>\n",
       "      <td>0.217349</td>\n",
       "      <td>0.218990</td>\n",
       "      <td>00:01</td>\n",
       "    </tr>\n",
       "    <tr>\n",
       "      <td>35</td>\n",
       "      <td>0.223699</td>\n",
       "      <td>0.217483</td>\n",
       "      <td>0.219573</td>\n",
       "      <td>00:01</td>\n",
       "    </tr>\n",
       "    <tr>\n",
       "      <td>36</td>\n",
       "      <td>0.222208</td>\n",
       "      <td>0.216785</td>\n",
       "      <td>0.218627</td>\n",
       "      <td>00:01</td>\n",
       "    </tr>\n",
       "    <tr>\n",
       "      <td>37</td>\n",
       "      <td>0.222123</td>\n",
       "      <td>0.217280</td>\n",
       "      <td>0.219101</td>\n",
       "      <td>00:01</td>\n",
       "    </tr>\n",
       "    <tr>\n",
       "      <td>38</td>\n",
       "      <td>0.223554</td>\n",
       "      <td>0.217305</td>\n",
       "      <td>0.219394</td>\n",
       "      <td>00:01</td>\n",
       "    </tr>\n",
       "    <tr>\n",
       "      <td>39</td>\n",
       "      <td>0.221029</td>\n",
       "      <td>0.217171</td>\n",
       "      <td>0.219374</td>\n",
       "      <td>00:01</td>\n",
       "    </tr>\n",
       "  </tbody>\n",
       "</table>"
      ],
      "text/plain": [
       "<IPython.core.display.HTML object>"
      ]
     },
     "metadata": {},
     "output_type": "display_data"
    }
   ],
   "source": [
    "learn.fit_one_cycle(40, 5e-3, wd=.1)"
   ]
  },
  {
   "cell_type": "code",
   "execution_count": 147,
   "id": "ccc498d5",
   "metadata": {},
   "outputs": [
    {
     "data": {
      "text/html": [],
      "text/plain": [
       "<IPython.core.display.HTML object>"
      ]
     },
     "metadata": {},
     "output_type": "display_data"
    }
   ],
   "source": [
    "\n",
    "test_dl = dls.test_dl(test_10m_with_embs[cols_to_keep])\n",
    "preds, _ = learn.get_preds(dl=test_dl)"
   ]
  },
  {
   "cell_type": "code",
   "execution_count": 148,
   "id": "536f4197",
   "metadata": {},
   "outputs": [
    {
     "data": {
      "text/plain": [
       "0.22095482563862506"
      ]
     },
     "execution_count": 148,
     "metadata": {},
     "output_type": "execute_result"
    }
   ],
   "source": [
    "rmspe_np(test_10m_with_embs.target, preds.view(-1).numpy())"
   ]
  },
  {
   "cell_type": "code",
   "execution_count": null,
   "id": "739bf3ac",
   "metadata": {},
   "outputs": [],
   "source": []
  }
 ],
 "metadata": {
  "kernelspec": {
   "display_name": "Python 3.8.5 64-bit ('fastai': conda)",
   "language": "python",
   "name": "python38564bitfastaicondad52d12c5a30a4725bf9d3e235cf1271c"
  },
  "language_info": {
   "codemirror_mode": {
    "name": "ipython",
    "version": 3
   },
   "file_extension": ".py",
   "mimetype": "text/x-python",
   "name": "python",
   "nbconvert_exporter": "python",
   "pygments_lexer": "ipython3",
   "version": "3.8.2"
  }
 },
 "nbformat": 4,
 "nbformat_minor": 5
}
