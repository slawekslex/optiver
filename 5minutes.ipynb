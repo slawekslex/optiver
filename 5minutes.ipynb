{
 "cells": [
  {
   "cell_type": "code",
   "execution_count": 1,
   "id": "optimum-handbook",
   "metadata": {},
   "outputs": [],
   "source": [
    "%load_ext autoreload\n",
    "%autoreload 2"
   ]
  },
  {
   "cell_type": "code",
   "execution_count": 2,
   "id": "structured-economics",
   "metadata": {},
   "outputs": [],
   "source": [
    "from fastai.tabular.all import *\n",
    "from multiprocessing import Pool\n",
    "from sklearn.model_selection import KFold, GroupKFold\n",
    "import lightgbm as lgb\n",
    "from optiver_features import *\n",
    "import pickle"
   ]
  },
  {
   "cell_type": "code",
   "execution_count": 3,
   "id": "outer-necessity",
   "metadata": {},
   "outputs": [
    {
     "data": {
      "text/plain": [
       "(2681, 1149)"
      ]
     },
     "execution_count": 3,
     "metadata": {},
     "output_type": "execute_result"
    }
   ],
   "source": [
    "df = pd.read_csv('../input/optiver-realized-volatility-prediction/train.csv')\n",
    "time_ids = df.time_id.unique()\n",
    "\n",
    "np.random.shuffle(time_ids)\n",
    "\n",
    "splt = int(len(time_ids)*.7)\n",
    "train_ids, test_ids = time_ids[:splt], time_ids[splt:]\n",
    "\n",
    "len(train_ids), len(test_ids)"
   ]
  },
  {
   "cell_type": "code",
   "execution_count": 4,
   "id": "prostate-examination",
   "metadata": {},
   "outputs": [
    {
     "data": {
      "text/plain": [
       "0.7000083929387408"
      ]
     },
     "execution_count": 4,
     "metadata": {},
     "output_type": "execute_result"
    }
   ],
   "source": [
    "len(df[df.time_id.isin(train_ids)]) / len(df)"
   ]
  },
  {
   "cell_type": "markdown",
   "id": "sophisticated-center",
   "metadata": {},
   "source": [
    "## Generate 5m dataset"
   ]
  },
  {
   "cell_type": "code",
   "execution_count": 10,
   "id": "continental-collective",
   "metadata": {},
   "outputs": [],
   "source": [
    "book_feature_dict = {\n",
    "    wap1: [np.mean, np.std],\n",
    "    wap2: [np.mean, np.std],\n",
    "    log_return1: [realized_volatility, np.mean, np.std],\n",
    "    log_return2: [realized_volatility, np.mean, np.std],\n",
    "    wap_balance: [np.mean, np.std],\n",
    "    price_spread:[np.mean, np.std],\n",
    "    bid_spread: [np.mean, np.std],\n",
    "    ask_spread:[np.mean, np.std],\n",
    "    total_volume:[np.mean, np.std],\n",
    "    volume_imbalance:[np.mean, np.std]\n",
    "}\n",
    "trade_feature_dict = {\n",
    "        log_return_price: [realized_volatility],\n",
    "        'seconds_in_bucket':[np.size],\n",
    "        'size':[np.sum],\n",
    "        'order_count':[np.mean],\n",
    "}\n",
    "time_id_features=[]\n",
    "time_id_aggregations = []\n",
    "stock_id_features = []\n",
    "stock_id_aggregations = [time_id_aggregations]\n",
    "time_windows = [(0,300), (0,100), (100,200), (200,300)]"
   ]
  },
  {
   "cell_type": "code",
   "execution_count": 5,
   "id": "automatic-visibility",
   "metadata": {},
   "outputs": [],
   "source": [
    "def generate_0_to_5():\n",
    "\n",
    "\n",
    "    ofg = OptiverFeatureGenerator(book_feature_dict, trade_feature_dict, time_windows, time_id_features,time_id_aggregations, stock_id_features, stock_id_aggregations)\n",
    "    train_df5m = ofg.generate_train_df()\n",
    "    ofg_targ =OptiverFeatureGenerator({wap1:[], log_return1:[realized_volatility]}, {'seconds_in_bucket':[np.size]}, [(300,600)], [],[],[],[])\n",
    "    targ_df = ofg_targ.generate_train_df()\n",
    "    train_df5m.target = targ_df.log_return1_realized_volatility_300_600\n",
    "    train_df5m.target = train_df5m.target.replace(0, train_df5m.target.mean())\n",
    "    return train_df5m\n",
    "    "
   ]
  },
  {
   "cell_type": "code",
   "execution_count": 6,
   "id": "natural-pastor",
   "metadata": {},
   "outputs": [
    {
     "name": "stdout",
     "output_type": "stream",
     "text": [
      "CPU times: user 2.63 s, sys: 675 ms, total: 3.31 s\n",
      "Wall time: 4min 32s\n"
     ]
    }
   ],
   "source": [
    "%%time\n",
    "train_df5m = generate_0_to_5()"
   ]
  },
  {
   "cell_type": "code",
   "execution_count": 7,
   "id": "interim-funeral",
   "metadata": {},
   "outputs": [],
   "source": [
    "\n",
    "train_df5m.to_feather('train_5m.feather')"
   ]
  },
  {
   "cell_type": "code",
   "execution_count": 8,
   "id": "soviet-sweden",
   "metadata": {},
   "outputs": [],
   "source": [
    "def rename_col(x):\n",
    "    return x.replace('300', '600').replace('200', '500').replace('100', '400').replace('_0', '_300')\n",
    "def rename_col_back(x):\n",
    "    return x.replace('300', '0').replace('400', '100').replace('500', '200').replace('600', '300')\n",
    "\n",
    "def generate_5_to_10():\n",
    "    tw = [(x+300, y+300) for x,y in time_windows]\n",
    "    time_id_feat = [rename_col(x) for x in time_id_features]\n",
    "    stock_id_feat = [rename_col(x) for x in stock_id_features]\n",
    "    ofg = OptiverFeatureGenerator(book_feature_dict, trade_feature_dict, tw, time_id_feat,time_id_aggregations, stock_id_feat, stock_id_aggregations)\n",
    "\n",
    "    df = ofg.generate_train_df()\n",
    "    df.columns = [rename_col_back(x) for x in df.columns]\n",
    "    return df"
   ]
  },
  {
   "cell_type": "code",
   "execution_count": 11,
   "id": "driving-lodging",
   "metadata": {},
   "outputs": [],
   "source": [
    "train_df5_10m  = generate_5_to_10()\n",
    "train_df5_10m.to_feather('train_5_10.feather')"
   ]
  },
  {
   "cell_type": "markdown",
   "id": "planned-diversity",
   "metadata": {},
   "source": [
    "## LGBM Baseline"
   ]
  },
  {
   "cell_type": "code",
   "execution_count": 12,
   "id": "sophisticated-montgomery",
   "metadata": {},
   "outputs": [],
   "source": [
    "def rmspe_np(y_true, y_pred):\n",
    "    return np.sqrt(np.mean(np.square((y_true - y_pred) / y_true)))\n",
    "def feval_rmspe(y_pred, lgb_train):\n",
    "    y_true = lgb_train.get_label()\n",
    "    return 'RMSPE', rmspe_np(y_true, y_pred), False\n",
    "\n",
    "def train_models(train):\n",
    "    # Hyperparammeters (optimized)\n",
    "    seed = 29\n",
    "    params = {\n",
    "        'learning_rate': 0.1,        \n",
    "        'lambda_l1': 2,\n",
    "        'lambda_l2': 7,\n",
    "        'num_leaves': 800,\n",
    "        'min_sum_hessian_in_leaf': 20,\n",
    "        'feature_fraction': 0.8,\n",
    "        'feature_fraction_bynode': 0.8,\n",
    "        'bagging_fraction': 0.9,\n",
    "        'bagging_freq': 42,\n",
    "        'min_data_in_leaf': 700,\n",
    "        'max_depth': 4,\n",
    "        'seed': seed,\n",
    "        'feature_fraction_seed': seed,\n",
    "        'bagging_seed': seed,\n",
    "        'drop_seed': seed,\n",
    "        'data_random_seed': seed,\n",
    "        'objective': 'rmse',\n",
    "        'boosting': 'gbdt',\n",
    "        'verbosity': -1,\n",
    "        'n_jobs': -1,\n",
    "    }   \n",
    "    \n",
    "    # Split features and target\n",
    "    x = train.drop(['row_id', 'target', 'time_id'], axis = 1)\n",
    "    y = train['target']\n",
    "    # Transform stock id to a numeric value\n",
    "    x['stock_id'] = x['stock_id'].astype(int)\n",
    "    models =[]\n",
    "    # Create out of folds array\n",
    "    oof_predictions = np.zeros(x.shape[0])\n",
    "    # Create a KFold object\n",
    "    kfold = GroupKFold()\n",
    "    # Iterate through each fold\n",
    "    for fold, (trn_ind, val_ind) in enumerate(kfold.split(x, groups = train.time_id)):\n",
    "        print(f'Training fold {fold + 1}')\n",
    "        x_train, x_val = x.iloc[trn_ind], x.iloc[val_ind]\n",
    "        y_train, y_val = y.iloc[trn_ind], y.iloc[val_ind]\n",
    "        # Root mean squared percentage error weights\n",
    "        train_weights = 1 / np.square(y_train)\n",
    "        val_weights = 1 / np.square(y_val)\n",
    "        train_dataset = lgb.Dataset(x_train, y_train, weight = train_weights, categorical_feature = ['stock_id'])\n",
    "        val_dataset = lgb.Dataset(x_val, y_val, weight = val_weights, categorical_feature = ['stock_id'])\n",
    "        model = lgb.train(params = params, \n",
    "                          train_set = train_dataset, \n",
    "                          valid_sets = [train_dataset, val_dataset], \n",
    "                          num_boost_round = 3000, \n",
    "                          early_stopping_rounds = 25, \n",
    "                          verbose_eval = 100,\n",
    "                          feval = feval_rmspe)\n",
    "        models.append(model)\n",
    "        # Add predictions to the out of folds array\n",
    "        oof_predictions[val_ind] = model.predict(x_val)\n",
    "        # Predict the test set\n",
    "        #test_predictions += model.predict(x_test) / 10\n",
    "        \n",
    "    rmspe_score = rmspe_np(y, oof_predictions)\n",
    "    print(f'Our out of folds RMSPE is {rmspe_score}')\n",
    "    # Return test predictions\n",
    "    return models"
   ]
  },
  {
   "cell_type": "code",
   "execution_count": 13,
   "id": "direct-coordinate",
   "metadata": {},
   "outputs": [
    {
     "name": "stdout",
     "output_type": "stream",
     "text": [
      "Training fold 1\n"
     ]
    },
    {
     "name": "stderr",
     "output_type": "stream",
     "text": [
      "/home/slex/programy/anaconda3/envs/fastai/lib/python3.8/site-packages/lightgbm/basic.py:1551: UserWarning: Using categorical_feature in Dataset.\n",
      "  warnings.warn('Using categorical_feature in Dataset.')\n",
      "/home/slex/programy/anaconda3/envs/fastai/lib/python3.8/site-packages/lightgbm/basic.py:1286: UserWarning: Overriding the parameters from Reference Dataset.\n",
      "  warnings.warn('Overriding the parameters from Reference Dataset.')\n",
      "/home/slex/programy/anaconda3/envs/fastai/lib/python3.8/site-packages/lightgbm/basic.py:1098: UserWarning: categorical_column in param dict is overridden.\n",
      "  warnings.warn('{} in param dict is overridden.'.format(cat_alias))\n"
     ]
    },
    {
     "name": "stdout",
     "output_type": "stream",
     "text": [
      "Training until validation scores don't improve for 25 rounds\n",
      "[100]\ttraining's rmse: 0.000352069\ttraining's RMSPE: 0.240783\tvalid_1's rmse: 0.000365612\tvalid_1's RMSPE: 0.250465\n",
      "[200]\ttraining's rmse: 0.000343576\ttraining's RMSPE: 0.234975\tvalid_1's rmse: 0.000362518\tvalid_1's RMSPE: 0.248345\n",
      "[300]\ttraining's rmse: 0.000338425\ttraining's RMSPE: 0.231452\tvalid_1's rmse: 0.000361348\tvalid_1's RMSPE: 0.247543\n",
      "[400]\ttraining's rmse: 0.000334341\ttraining's RMSPE: 0.228658\tvalid_1's rmse: 0.000360762\tvalid_1's RMSPE: 0.247142\n",
      "[500]\ttraining's rmse: 0.000331185\ttraining's RMSPE: 0.2265\tvalid_1's rmse: 0.000360449\tvalid_1's RMSPE: 0.246928\n",
      "Early stopping, best iteration is:\n",
      "[515]\ttraining's rmse: 0.00033076\ttraining's RMSPE: 0.22621\tvalid_1's rmse: 0.00036034\tvalid_1's RMSPE: 0.246853\n",
      "Training fold 2\n"
     ]
    },
    {
     "name": "stderr",
     "output_type": "stream",
     "text": [
      "/home/slex/programy/anaconda3/envs/fastai/lib/python3.8/site-packages/lightgbm/basic.py:1551: UserWarning: Using categorical_feature in Dataset.\n",
      "  warnings.warn('Using categorical_feature in Dataset.')\n",
      "/home/slex/programy/anaconda3/envs/fastai/lib/python3.8/site-packages/lightgbm/basic.py:1286: UserWarning: Overriding the parameters from Reference Dataset.\n",
      "  warnings.warn('Overriding the parameters from Reference Dataset.')\n",
      "/home/slex/programy/anaconda3/envs/fastai/lib/python3.8/site-packages/lightgbm/basic.py:1098: UserWarning: categorical_column in param dict is overridden.\n",
      "  warnings.warn('{} in param dict is overridden.'.format(cat_alias))\n"
     ]
    },
    {
     "name": "stdout",
     "output_type": "stream",
     "text": [
      "Training until validation scores don't improve for 25 rounds\n",
      "[100]\ttraining's rmse: 0.000352568\ttraining's RMSPE: 0.240627\tvalid_1's rmse: 0.000371483\tvalid_1's RMSPE: 0.256567\n",
      "[200]\ttraining's rmse: 0.000343888\ttraining's RMSPE: 0.234703\tvalid_1's rmse: 0.000368845\tvalid_1's RMSPE: 0.254745\n",
      "Early stopping, best iteration is:\n",
      "[196]\ttraining's rmse: 0.000344179\ttraining's RMSPE: 0.234902\tvalid_1's rmse: 0.000368708\tvalid_1's RMSPE: 0.25465\n",
      "Training fold 3\n"
     ]
    },
    {
     "name": "stderr",
     "output_type": "stream",
     "text": [
      "/home/slex/programy/anaconda3/envs/fastai/lib/python3.8/site-packages/lightgbm/basic.py:1551: UserWarning: Using categorical_feature in Dataset.\n",
      "  warnings.warn('Using categorical_feature in Dataset.')\n",
      "/home/slex/programy/anaconda3/envs/fastai/lib/python3.8/site-packages/lightgbm/basic.py:1286: UserWarning: Overriding the parameters from Reference Dataset.\n",
      "  warnings.warn('Overriding the parameters from Reference Dataset.')\n",
      "/home/slex/programy/anaconda3/envs/fastai/lib/python3.8/site-packages/lightgbm/basic.py:1098: UserWarning: categorical_column in param dict is overridden.\n",
      "  warnings.warn('{} in param dict is overridden.'.format(cat_alias))\n"
     ]
    },
    {
     "name": "stdout",
     "output_type": "stream",
     "text": [
      "Training until validation scores don't improve for 25 rounds\n",
      "[100]\ttraining's rmse: 0.000353414\ttraining's RMSPE: 0.241643\tvalid_1's rmse: 0.000363559\tvalid_1's RMSPE: 0.249303\n",
      "[200]\ttraining's rmse: 0.000344893\ttraining's RMSPE: 0.235817\tvalid_1's rmse: 0.000360593\tvalid_1's RMSPE: 0.24727\n",
      "[300]\ttraining's rmse: 0.00033976\ttraining's RMSPE: 0.232307\tvalid_1's rmse: 0.000359688\tvalid_1's RMSPE: 0.246649\n",
      "[400]\ttraining's rmse: 0.000335828\ttraining's RMSPE: 0.229619\tvalid_1's rmse: 0.000359368\tvalid_1's RMSPE: 0.24643\n",
      "Early stopping, best iteration is:\n",
      "[382]\ttraining's rmse: 0.000336452\ttraining's RMSPE: 0.230046\tvalid_1's rmse: 0.000359285\tvalid_1's RMSPE: 0.246373\n",
      "Training fold 4\n"
     ]
    },
    {
     "name": "stderr",
     "output_type": "stream",
     "text": [
      "/home/slex/programy/anaconda3/envs/fastai/lib/python3.8/site-packages/lightgbm/basic.py:1551: UserWarning: Using categorical_feature in Dataset.\n",
      "  warnings.warn('Using categorical_feature in Dataset.')\n",
      "/home/slex/programy/anaconda3/envs/fastai/lib/python3.8/site-packages/lightgbm/basic.py:1286: UserWarning: Overriding the parameters from Reference Dataset.\n",
      "  warnings.warn('Overriding the parameters from Reference Dataset.')\n",
      "/home/slex/programy/anaconda3/envs/fastai/lib/python3.8/site-packages/lightgbm/basic.py:1098: UserWarning: categorical_column in param dict is overridden.\n",
      "  warnings.warn('{} in param dict is overridden.'.format(cat_alias))\n"
     ]
    },
    {
     "name": "stdout",
     "output_type": "stream",
     "text": [
      "Training until validation scores don't improve for 25 rounds\n",
      "[100]\ttraining's rmse: 0.00035168\ttraining's RMSPE: 0.241638\tvalid_1's rmse: 0.000388214\tvalid_1's RMSPE: 0.260948\n",
      "[200]\ttraining's rmse: 0.000343253\ttraining's RMSPE: 0.235848\tvalid_1's rmse: 0.000384083\tvalid_1's RMSPE: 0.25817\n",
      "Early stopping, best iteration is:\n",
      "[252]\ttraining's rmse: 0.000340419\ttraining's RMSPE: 0.233901\tvalid_1's rmse: 0.000382195\tvalid_1's RMSPE: 0.256901\n",
      "Training fold 5\n"
     ]
    },
    {
     "name": "stderr",
     "output_type": "stream",
     "text": [
      "/home/slex/programy/anaconda3/envs/fastai/lib/python3.8/site-packages/lightgbm/basic.py:1551: UserWarning: Using categorical_feature in Dataset.\n",
      "  warnings.warn('Using categorical_feature in Dataset.')\n",
      "/home/slex/programy/anaconda3/envs/fastai/lib/python3.8/site-packages/lightgbm/basic.py:1286: UserWarning: Overriding the parameters from Reference Dataset.\n",
      "  warnings.warn('Overriding the parameters from Reference Dataset.')\n",
      "/home/slex/programy/anaconda3/envs/fastai/lib/python3.8/site-packages/lightgbm/basic.py:1098: UserWarning: categorical_column in param dict is overridden.\n",
      "  warnings.warn('{} in param dict is overridden.'.format(cat_alias))\n"
     ]
    },
    {
     "name": "stdout",
     "output_type": "stream",
     "text": [
      "Training until validation scores don't improve for 25 rounds\n",
      "[100]\ttraining's rmse: 0.000353504\ttraining's RMSPE: 0.241598\tvalid_1's rmse: 0.000393869\tvalid_1's RMSPE: 0.27056\n",
      "Early stopping, best iteration is:\n",
      "[86]\ttraining's rmse: 0.000355309\ttraining's RMSPE: 0.242832\tvalid_1's rmse: 0.000393114\tvalid_1's RMSPE: 0.270042\n",
      "Our out of folds RMSPE is 0.2551091979883696\n"
     ]
    }
   ],
   "source": [
    "_=train_models(train_df5m)"
   ]
  },
  {
   "cell_type": "markdown",
   "id": "correct-hello",
   "metadata": {},
   "source": [
    "## Learning embeddings"
   ]
  },
  {
   "cell_type": "code",
   "execution_count": 145,
   "id": "valid-closer",
   "metadata": {},
   "outputs": [],
   "source": [
    "cont_nn,cat_nn = cont_cat_split(train_df5m, max_card=9000, dep_var='target')\n",
    "\n",
    "\n",
    "cat_nn = ['time_id', 'stock_id']"
   ]
  },
  {
   "cell_type": "code",
   "execution_count": 236,
   "id": "regular-bunny",
   "metadata": {},
   "outputs": [],
   "source": [
    "\n",
    "procs_nn = [Categorify, FillMissing,Normalize]\n",
    "\n",
    "splits = RandomSplitter(seed=43)(train_df5m)\n",
    "\n",
    "dls = TabularPandas(train_df5m, procs_nn, cat_nn, cont_nn,\n",
    "                      splits=splits, \n",
    "                       \n",
    "                      y_names='target').dataloaders(1024)"
   ]
  },
  {
   "cell_type": "code",
   "execution_count": 249,
   "id": "fresh-solution",
   "metadata": {},
   "outputs": [],
   "source": [
    "def rmspe(preds, targs):\n",
    "    x = (targs-preds)/targs\n",
    "    return (x**2).mean().sqrt()\n",
    "\n",
    "config={'lin_first':True, 'ps':[.5,.2,0], 'embed_p':0.5, }\n",
    "learn = tabular_learner(dls, y_range=(0,.1), layers=[200,100,40], emb_szs={'stock_id':10, 'time_id':10}, \n",
    "                        n_out=1, loss_func = rmspe, metrics=AccumMetric(rmspe), config=config)"
   ]
  },
  {
   "cell_type": "code",
   "execution_count": 250,
   "id": "controversial-element",
   "metadata": {},
   "outputs": [
    {
     "data": {
      "text/html": [
       "<table border=\"1\" class=\"dataframe\">\n",
       "  <thead>\n",
       "    <tr style=\"text-align: left;\">\n",
       "      <th>epoch</th>\n",
       "      <th>train_loss</th>\n",
       "      <th>valid_loss</th>\n",
       "      <th>rmspe</th>\n",
       "      <th>time</th>\n",
       "    </tr>\n",
       "  </thead>\n",
       "  <tbody>\n",
       "    <tr>\n",
       "      <td>0</td>\n",
       "      <td>8.907782</td>\n",
       "      <td>6.630180</td>\n",
       "      <td>6.642967</td>\n",
       "      <td>00:05</td>\n",
       "    </tr>\n",
       "    <tr>\n",
       "      <td>1</td>\n",
       "      <td>1.063502</td>\n",
       "      <td>1.234003</td>\n",
       "      <td>2.868930</td>\n",
       "      <td>00:05</td>\n",
       "    </tr>\n",
       "    <tr>\n",
       "      <td>2</td>\n",
       "      <td>0.463839</td>\n",
       "      <td>0.298620</td>\n",
       "      <td>0.300573</td>\n",
       "      <td>00:05</td>\n",
       "    </tr>\n",
       "    <tr>\n",
       "      <td>3</td>\n",
       "      <td>0.387524</td>\n",
       "      <td>0.272831</td>\n",
       "      <td>0.275260</td>\n",
       "      <td>00:05</td>\n",
       "    </tr>\n",
       "    <tr>\n",
       "      <td>4</td>\n",
       "      <td>0.301801</td>\n",
       "      <td>0.256647</td>\n",
       "      <td>0.259012</td>\n",
       "      <td>00:04</td>\n",
       "    </tr>\n",
       "    <tr>\n",
       "      <td>5</td>\n",
       "      <td>0.302983</td>\n",
       "      <td>0.256372</td>\n",
       "      <td>0.258533</td>\n",
       "      <td>00:05</td>\n",
       "    </tr>\n",
       "    <tr>\n",
       "      <td>6</td>\n",
       "      <td>0.273106</td>\n",
       "      <td>0.251747</td>\n",
       "      <td>0.255398</td>\n",
       "      <td>00:04</td>\n",
       "    </tr>\n",
       "    <tr>\n",
       "      <td>7</td>\n",
       "      <td>0.280034</td>\n",
       "      <td>0.246176</td>\n",
       "      <td>0.248844</td>\n",
       "      <td>00:05</td>\n",
       "    </tr>\n",
       "    <tr>\n",
       "      <td>8</td>\n",
       "      <td>0.256476</td>\n",
       "      <td>0.241991</td>\n",
       "      <td>0.244580</td>\n",
       "      <td>00:05</td>\n",
       "    </tr>\n",
       "    <tr>\n",
       "      <td>9</td>\n",
       "      <td>0.252519</td>\n",
       "      <td>0.237301</td>\n",
       "      <td>0.240174</td>\n",
       "      <td>00:04</td>\n",
       "    </tr>\n",
       "    <tr>\n",
       "      <td>10</td>\n",
       "      <td>0.246518</td>\n",
       "      <td>0.235291</td>\n",
       "      <td>0.238163</td>\n",
       "      <td>00:04</td>\n",
       "    </tr>\n",
       "    <tr>\n",
       "      <td>11</td>\n",
       "      <td>0.245645</td>\n",
       "      <td>0.238522</td>\n",
       "      <td>0.241493</td>\n",
       "      <td>00:05</td>\n",
       "    </tr>\n",
       "    <tr>\n",
       "      <td>12</td>\n",
       "      <td>0.241551</td>\n",
       "      <td>0.233436</td>\n",
       "      <td>0.236137</td>\n",
       "      <td>00:05</td>\n",
       "    </tr>\n",
       "    <tr>\n",
       "      <td>13</td>\n",
       "      <td>0.243929</td>\n",
       "      <td>0.233916</td>\n",
       "      <td>0.236620</td>\n",
       "      <td>00:05</td>\n",
       "    </tr>\n",
       "    <tr>\n",
       "      <td>14</td>\n",
       "      <td>0.239921</td>\n",
       "      <td>0.232724</td>\n",
       "      <td>0.235426</td>\n",
       "      <td>00:05</td>\n",
       "    </tr>\n",
       "    <tr>\n",
       "      <td>15</td>\n",
       "      <td>0.237927</td>\n",
       "      <td>0.233068</td>\n",
       "      <td>0.236052</td>\n",
       "      <td>00:05</td>\n",
       "    </tr>\n",
       "    <tr>\n",
       "      <td>16</td>\n",
       "      <td>0.236656</td>\n",
       "      <td>0.232953</td>\n",
       "      <td>0.235857</td>\n",
       "      <td>00:05</td>\n",
       "    </tr>\n",
       "    <tr>\n",
       "      <td>17</td>\n",
       "      <td>0.235903</td>\n",
       "      <td>0.232965</td>\n",
       "      <td>0.235841</td>\n",
       "      <td>00:04</td>\n",
       "    </tr>\n",
       "    <tr>\n",
       "      <td>18</td>\n",
       "      <td>0.235794</td>\n",
       "      <td>0.232802</td>\n",
       "      <td>0.235609</td>\n",
       "      <td>00:05</td>\n",
       "    </tr>\n",
       "    <tr>\n",
       "      <td>19</td>\n",
       "      <td>0.235166</td>\n",
       "      <td>0.231928</td>\n",
       "      <td>0.234835</td>\n",
       "      <td>00:05</td>\n",
       "    </tr>\n",
       "  </tbody>\n",
       "</table>"
      ],
      "text/plain": [
       "<IPython.core.display.HTML object>"
      ]
     },
     "metadata": {},
     "output_type": "display_data"
    }
   ],
   "source": [
    "learn.fit_one_cycle(20, 5e-3)"
   ]
  },
  {
   "cell_type": "code",
   "execution_count": 251,
   "id": "comparable-lincoln",
   "metadata": {},
   "outputs": [],
   "source": [
    "torch.save(learn.model.embeds[0].weight.data, 'timeemb10.pt')"
   ]
  },
  {
   "cell_type": "code",
   "execution_count": 252,
   "id": "experimental-outreach",
   "metadata": {},
   "outputs": [
    {
     "data": {
      "text/plain": [
       "3831"
      ]
     },
     "execution_count": 252,
     "metadata": {},
     "output_type": "execute_result"
    }
   ],
   "source": [
    "categorify = dls.procs[2]\n",
    "len(categorify.classes['time_id'])"
   ]
  },
  {
   "cell_type": "code",
   "execution_count": 253,
   "id": "artificial-pilot",
   "metadata": {},
   "outputs": [],
   "source": [
    "def append_embs(data_df, categorify, time_embs, stock_embs):\n",
    "    time_id_embs = dict()\n",
    "    for idx, time_id in enumerate(categorify.classes['time_id']):\n",
    "        time_id_embs[time_id] = time_embs.weight[idx].tolist()\n",
    "\n",
    "    stock_id_embs = dict()\n",
    "    for idx, stock_id in enumerate(categorify.classes['stock_id']):\n",
    "        stock_id_embs[stock_id] = stock_embs.weight[idx].tolist()\n",
    "\n",
    "    all_embs = []\n",
    "    for _, row in (data_df[['stock_id', 'time_id']].iterrows()):\n",
    "        emb1 = stock_id_embs[row.stock_id]\n",
    "        emb2 = time_id_embs[row.time_id]\n",
    "        all_embs.append(emb1+emb2)\n",
    "    columns = [f'stock_emb{i}' for i in range(stock_embs.weight.shape[1])] +[f'time_emb{i}' for i in range(time_embs.weight.shape[1])]\n",
    "    embs_df = pd.DataFrame(all_embs, columns=columns)\n",
    "\n",
    "    return pd.concat([data_df, embs_df], axis=1)"
   ]
  },
  {
   "cell_type": "code",
   "execution_count": 254,
   "id": "limited-tongue",
   "metadata": {},
   "outputs": [
    {
     "data": {
      "text/html": [],
      "text/plain": [
       "<IPython.core.display.HTML object>"
      ]
     },
     "metadata": {},
     "output_type": "display_data"
    }
   ],
   "source": [
    "test_df = train_df5_10m\n",
    "test_dl = dls.test_dl(test_df)\n",
    "preds, _ = learn.get_preds(dl=test_dl)\n",
    "preds5_10 = preds.view(-1).numpy()"
   ]
  },
  {
   "cell_type": "markdown",
   "id": "conscious-employee",
   "metadata": {},
   "source": [
    "## Train 5m LGBM with embeddings\n"
   ]
  },
  {
   "cell_type": "code",
   "execution_count": 117,
   "id": "nervous-tobacco",
   "metadata": {},
   "outputs": [],
   "source": [
    "train_5_with_embs = append_embs(train_df5m, categorify, learn.model.embeds[0], learn.model.embeds[1])\n",
    "\n"
   ]
  },
  {
   "cell_type": "code",
   "execution_count": 24,
   "id": "continental-teddy",
   "metadata": {},
   "outputs": [
    {
     "name": "stdout",
     "output_type": "stream",
     "text": [
      "Training fold 1\n"
     ]
    },
    {
     "name": "stderr",
     "output_type": "stream",
     "text": [
      "/home/slex/programy/anaconda3/envs/fastai/lib/python3.8/site-packages/lightgbm/basic.py:1551: UserWarning: Using categorical_feature in Dataset.\n",
      "  warnings.warn('Using categorical_feature in Dataset.')\n",
      "/home/slex/programy/anaconda3/envs/fastai/lib/python3.8/site-packages/lightgbm/basic.py:1286: UserWarning: Overriding the parameters from Reference Dataset.\n",
      "  warnings.warn('Overriding the parameters from Reference Dataset.')\n",
      "/home/slex/programy/anaconda3/envs/fastai/lib/python3.8/site-packages/lightgbm/basic.py:1098: UserWarning: categorical_column in param dict is overridden.\n",
      "  warnings.warn('{} in param dict is overridden.'.format(cat_alias))\n"
     ]
    },
    {
     "name": "stdout",
     "output_type": "stream",
     "text": [
      "Training until validation scores don't improve for 25 rounds\n",
      "[100]\ttraining's rmse: 0.000321008\ttraining's RMSPE: 0.21954\tvalid_1's rmse: 0.000331884\tvalid_1's RMSPE: 0.227359\n",
      "[200]\ttraining's rmse: 0.000312175\ttraining's RMSPE: 0.213499\tvalid_1's rmse: 0.000328294\tvalid_1's RMSPE: 0.224899\n",
      "[300]\ttraining's rmse: 0.000307412\ttraining's RMSPE: 0.210242\tvalid_1's rmse: 0.000326916\tvalid_1's RMSPE: 0.223955\n",
      "[400]\ttraining's rmse: 0.000303539\ttraining's RMSPE: 0.207593\tvalid_1's rmse: 0.00032625\tvalid_1's RMSPE: 0.223499\n",
      "[500]\ttraining's rmse: 0.000300558\ttraining's RMSPE: 0.205554\tvalid_1's rmse: 0.000325934\tvalid_1's RMSPE: 0.223283\n",
      "Early stopping, best iteration is:\n",
      "[489]\ttraining's rmse: 0.000300849\ttraining's RMSPE: 0.205753\tvalid_1's rmse: 0.000325838\tvalid_1's RMSPE: 0.223217\n",
      "Training fold 2\n"
     ]
    },
    {
     "name": "stderr",
     "output_type": "stream",
     "text": [
      "/home/slex/programy/anaconda3/envs/fastai/lib/python3.8/site-packages/lightgbm/basic.py:1551: UserWarning: Using categorical_feature in Dataset.\n",
      "  warnings.warn('Using categorical_feature in Dataset.')\n",
      "/home/slex/programy/anaconda3/envs/fastai/lib/python3.8/site-packages/lightgbm/basic.py:1286: UserWarning: Overriding the parameters from Reference Dataset.\n",
      "  warnings.warn('Overriding the parameters from Reference Dataset.')\n",
      "/home/slex/programy/anaconda3/envs/fastai/lib/python3.8/site-packages/lightgbm/basic.py:1098: UserWarning: categorical_column in param dict is overridden.\n",
      "  warnings.warn('{} in param dict is overridden.'.format(cat_alias))\n"
     ]
    },
    {
     "name": "stdout",
     "output_type": "stream",
     "text": [
      "Training until validation scores don't improve for 25 rounds\n",
      "[100]\ttraining's rmse: 0.000320188\ttraining's RMSPE: 0.218528\tvalid_1's rmse: 0.000338311\tvalid_1's RMSPE: 0.233657\n",
      "[200]\ttraining's rmse: 0.000311815\ttraining's RMSPE: 0.212814\tvalid_1's rmse: 0.000334988\tvalid_1's RMSPE: 0.231361\n",
      "Early stopping, best iteration is:\n",
      "[273]\ttraining's rmse: 0.000308276\ttraining's RMSPE: 0.210398\tvalid_1's rmse: 0.00033368\tvalid_1's RMSPE: 0.230458\n",
      "Training fold 3\n"
     ]
    },
    {
     "name": "stderr",
     "output_type": "stream",
     "text": [
      "/home/slex/programy/anaconda3/envs/fastai/lib/python3.8/site-packages/lightgbm/basic.py:1551: UserWarning: Using categorical_feature in Dataset.\n",
      "  warnings.warn('Using categorical_feature in Dataset.')\n",
      "/home/slex/programy/anaconda3/envs/fastai/lib/python3.8/site-packages/lightgbm/basic.py:1286: UserWarning: Overriding the parameters from Reference Dataset.\n",
      "  warnings.warn('Overriding the parameters from Reference Dataset.')\n",
      "/home/slex/programy/anaconda3/envs/fastai/lib/python3.8/site-packages/lightgbm/basic.py:1098: UserWarning: categorical_column in param dict is overridden.\n",
      "  warnings.warn('{} in param dict is overridden.'.format(cat_alias))\n"
     ]
    },
    {
     "name": "stdout",
     "output_type": "stream",
     "text": [
      "Training until validation scores don't improve for 25 rounds\n",
      "[100]\ttraining's rmse: 0.000321576\ttraining's RMSPE: 0.219874\tvalid_1's rmse: 0.000329466\tvalid_1's RMSPE: 0.225925\n",
      "[200]\ttraining's rmse: 0.000312864\ttraining's RMSPE: 0.213917\tvalid_1's rmse: 0.000325333\tvalid_1's RMSPE: 0.223091\n",
      "[300]\ttraining's rmse: 0.000307847\ttraining's RMSPE: 0.210487\tvalid_1's rmse: 0.000323721\tvalid_1's RMSPE: 0.221986\n",
      "[400]\ttraining's rmse: 0.000304277\ttraining's RMSPE: 0.208046\tvalid_1's rmse: 0.000322665\tvalid_1's RMSPE: 0.221261\n",
      "[500]\ttraining's rmse: 0.000301412\ttraining's RMSPE: 0.206087\tvalid_1's rmse: 0.000322088\tvalid_1's RMSPE: 0.220866\n",
      "Early stopping, best iteration is:\n",
      "[523]\ttraining's rmse: 0.00030079\ttraining's RMSPE: 0.205662\tvalid_1's rmse: 0.000321855\tvalid_1's RMSPE: 0.220706\n",
      "Training fold 4\n"
     ]
    },
    {
     "name": "stderr",
     "output_type": "stream",
     "text": [
      "/home/slex/programy/anaconda3/envs/fastai/lib/python3.8/site-packages/lightgbm/basic.py:1551: UserWarning: Using categorical_feature in Dataset.\n",
      "  warnings.warn('Using categorical_feature in Dataset.')\n",
      "/home/slex/programy/anaconda3/envs/fastai/lib/python3.8/site-packages/lightgbm/basic.py:1286: UserWarning: Overriding the parameters from Reference Dataset.\n",
      "  warnings.warn('Overriding the parameters from Reference Dataset.')\n",
      "/home/slex/programy/anaconda3/envs/fastai/lib/python3.8/site-packages/lightgbm/basic.py:1098: UserWarning: categorical_column in param dict is overridden.\n",
      "  warnings.warn('{} in param dict is overridden.'.format(cat_alias))\n"
     ]
    },
    {
     "name": "stdout",
     "output_type": "stream",
     "text": [
      "Training until validation scores don't improve for 25 rounds\n",
      "[100]\ttraining's rmse: 0.000319971\ttraining's RMSPE: 0.219851\tvalid_1's rmse: 0.000349465\tvalid_1's RMSPE: 0.234901\n",
      "[200]\ttraining's rmse: 0.000311357\ttraining's RMSPE: 0.213932\tvalid_1's rmse: 0.000344624\tvalid_1's RMSPE: 0.231647\n",
      "[300]\ttraining's rmse: 0.000306384\ttraining's RMSPE: 0.210515\tvalid_1's rmse: 0.000342948\tvalid_1's RMSPE: 0.230521\n",
      "Early stopping, best iteration is:\n",
      "[280]\ttraining's rmse: 0.000307254\ttraining's RMSPE: 0.211113\tvalid_1's rmse: 0.00034256\tvalid_1's RMSPE: 0.23026\n",
      "Training fold 5\n"
     ]
    },
    {
     "name": "stderr",
     "output_type": "stream",
     "text": [
      "/home/slex/programy/anaconda3/envs/fastai/lib/python3.8/site-packages/lightgbm/basic.py:1551: UserWarning: Using categorical_feature in Dataset.\n",
      "  warnings.warn('Using categorical_feature in Dataset.')\n",
      "/home/slex/programy/anaconda3/envs/fastai/lib/python3.8/site-packages/lightgbm/basic.py:1286: UserWarning: Overriding the parameters from Reference Dataset.\n",
      "  warnings.warn('Overriding the parameters from Reference Dataset.')\n",
      "/home/slex/programy/anaconda3/envs/fastai/lib/python3.8/site-packages/lightgbm/basic.py:1098: UserWarning: categorical_column in param dict is overridden.\n",
      "  warnings.warn('{} in param dict is overridden.'.format(cat_alias))\n"
     ]
    },
    {
     "name": "stdout",
     "output_type": "stream",
     "text": [
      "Training until validation scores don't improve for 25 rounds\n",
      "[100]\ttraining's rmse: 0.000321096\ttraining's RMSPE: 0.219449\tvalid_1's rmse: 0.000343501\tvalid_1's RMSPE: 0.235961\n",
      "[200]\ttraining's rmse: 0.000313174\ttraining's RMSPE: 0.214035\tvalid_1's rmse: 0.000340399\tvalid_1's RMSPE: 0.23383\n",
      "Early stopping, best iteration is:\n",
      "[186]\ttraining's rmse: 0.000313997\ttraining's RMSPE: 0.214598\tvalid_1's rmse: 0.000339673\tvalid_1's RMSPE: 0.233332\n",
      "Our out of folds RMSPE is 0.22764504328249216\n"
     ]
    }
   ],
   "source": [
    "_=train_models(train_5_with_embs)"
   ]
  },
  {
   "cell_type": "markdown",
   "id": "ancient-nowhere",
   "metadata": {},
   "source": [
    "## Baseline LGMB 10m"
   ]
  },
  {
   "cell_type": "code",
   "execution_count": 202,
   "id": "dried-alexander",
   "metadata": {},
   "outputs": [],
   "source": [
    "time_windows = [(0,600), (150,600), (300,600), (450,600)]"
   ]
  },
  {
   "cell_type": "code",
   "execution_count": 203,
   "id": "automated-german",
   "metadata": {},
   "outputs": [],
   "source": [
    "cols = ['log_return_price_realized_volatility', 'log_return1_realized_volatility', 'log_return2_realized_volatility']"
   ]
  },
  {
   "cell_type": "code",
   "execution_count": 204,
   "id": "going-catalyst",
   "metadata": {},
   "outputs": [],
   "source": [
    "time_id_features = [f'{col}_{x}_{y}' for x,y in time_windows for col in cols] \n",
    "time_id_aggregations = ['mean', 'std', 'max', 'min' ]\n",
    "stock_id_features = time_id_features\n",
    "stock_id_aggregations = time_id_aggregations"
   ]
  },
  {
   "cell_type": "code",
   "execution_count": 205,
   "id": "naked-polls",
   "metadata": {},
   "outputs": [],
   "source": [
    "# ofg = OptiverFeatureGenerator(book_feature_dict, trade_feature_dict, time_windows, time_id_features,time_id_aggregations, stock_id_features, stock_id_aggregations)\n",
    "# train_df10m = ofg.generate_train_df()\n",
    "\n",
    "# train_df10m.to_feather('train_10m.feather')"
   ]
  },
  {
   "cell_type": "code",
   "execution_count": 28,
   "id": "friendly-groove",
   "metadata": {},
   "outputs": [],
   "source": [
    "df = pd.read_feather('train_10m.feather')"
   ]
  },
  {
   "cell_type": "code",
   "execution_count": 55,
   "id": "electric-narrow",
   "metadata": {},
   "outputs": [
    {
     "data": {
      "text/plain": [
       "(300256, 128676)"
      ]
     },
     "execution_count": 55,
     "metadata": {},
     "output_type": "execute_result"
    }
   ],
   "source": [
    "train_df10m = df[df.time_id.isin(train_ids)].reset_index()\n",
    "test_df10m = df[df.time_id.isin(test_ids)].reset_index()\n",
    "len(train_df10m), len(test_df10m)"
   ]
  },
  {
   "cell_type": "code",
   "execution_count": 62,
   "id": "speaking-arrow",
   "metadata": {},
   "outputs": [
    {
     "name": "stdout",
     "output_type": "stream",
     "text": [
      "Training fold 1\n"
     ]
    },
    {
     "name": "stderr",
     "output_type": "stream",
     "text": [
      "/home/slex/programy/anaconda3/envs/fastai/lib/python3.8/site-packages/lightgbm/basic.py:1551: UserWarning: Using categorical_feature in Dataset.\n",
      "  warnings.warn('Using categorical_feature in Dataset.')\n",
      "/home/slex/programy/anaconda3/envs/fastai/lib/python3.8/site-packages/lightgbm/basic.py:1286: UserWarning: Overriding the parameters from Reference Dataset.\n",
      "  warnings.warn('Overriding the parameters from Reference Dataset.')\n",
      "/home/slex/programy/anaconda3/envs/fastai/lib/python3.8/site-packages/lightgbm/basic.py:1098: UserWarning: categorical_column in param dict is overridden.\n",
      "  warnings.warn('{} in param dict is overridden.'.format(cat_alias))\n"
     ]
    },
    {
     "name": "stdout",
     "output_type": "stream",
     "text": [
      "Training until validation scores don't improve for 25 rounds\n",
      "[100]\ttraining's rmse: 0.000456238\ttraining's RMSPE: 0.212824\tvalid_1's rmse: 0.000491943\tvalid_1's RMSPE: 0.225978\n",
      "Early stopping, best iteration is:\n",
      "[148]\ttraining's rmse: 0.000445375\ttraining's RMSPE: 0.207757\tvalid_1's rmse: 0.000489688\tvalid_1's RMSPE: 0.224942\n",
      "Training fold 2\n"
     ]
    },
    {
     "name": "stderr",
     "output_type": "stream",
     "text": [
      "/home/slex/programy/anaconda3/envs/fastai/lib/python3.8/site-packages/lightgbm/basic.py:1551: UserWarning: Using categorical_feature in Dataset.\n",
      "  warnings.warn('Using categorical_feature in Dataset.')\n",
      "/home/slex/programy/anaconda3/envs/fastai/lib/python3.8/site-packages/lightgbm/basic.py:1286: UserWarning: Overriding the parameters from Reference Dataset.\n",
      "  warnings.warn('Overriding the parameters from Reference Dataset.')\n",
      "/home/slex/programy/anaconda3/envs/fastai/lib/python3.8/site-packages/lightgbm/basic.py:1098: UserWarning: categorical_column in param dict is overridden.\n",
      "  warnings.warn('{} in param dict is overridden.'.format(cat_alias))\n"
     ]
    },
    {
     "name": "stdout",
     "output_type": "stream",
     "text": [
      "Training until validation scores don't improve for 25 rounds\n",
      "[100]\ttraining's rmse: 0.000460564\ttraining's RMSPE: 0.213265\tvalid_1's rmse: 0.000497098\tvalid_1's RMSPE: 0.23513\n",
      "[200]\ttraining's rmse: 0.000439968\ttraining's RMSPE: 0.203728\tvalid_1's rmse: 0.000490557\tvalid_1's RMSPE: 0.232036\n",
      "Early stopping, best iteration is:\n",
      "[182]\ttraining's rmse: 0.000443474\ttraining's RMSPE: 0.205352\tvalid_1's rmse: 0.000489673\tvalid_1's RMSPE: 0.231618\n",
      "Training fold 3\n"
     ]
    },
    {
     "name": "stderr",
     "output_type": "stream",
     "text": [
      "/home/slex/programy/anaconda3/envs/fastai/lib/python3.8/site-packages/lightgbm/basic.py:1551: UserWarning: Using categorical_feature in Dataset.\n",
      "  warnings.warn('Using categorical_feature in Dataset.')\n",
      "/home/slex/programy/anaconda3/envs/fastai/lib/python3.8/site-packages/lightgbm/basic.py:1286: UserWarning: Overriding the parameters from Reference Dataset.\n",
      "  warnings.warn('Overriding the parameters from Reference Dataset.')\n",
      "/home/slex/programy/anaconda3/envs/fastai/lib/python3.8/site-packages/lightgbm/basic.py:1098: UserWarning: categorical_column in param dict is overridden.\n",
      "  warnings.warn('{} in param dict is overridden.'.format(cat_alias))\n"
     ]
    },
    {
     "name": "stdout",
     "output_type": "stream",
     "text": [
      "Training until validation scores don't improve for 25 rounds\n",
      "[100]\ttraining's rmse: 0.000459251\ttraining's RMSPE: 0.213679\tvalid_1's rmse: 0.000492006\tvalid_1's RMSPE: 0.228385\n",
      "Early stopping, best iteration is:\n",
      "[82]\ttraining's rmse: 0.000464049\ttraining's RMSPE: 0.215911\tvalid_1's rmse: 0.00049149\tvalid_1's RMSPE: 0.228146\n",
      "Training fold 4\n"
     ]
    },
    {
     "name": "stderr",
     "output_type": "stream",
     "text": [
      "/home/slex/programy/anaconda3/envs/fastai/lib/python3.8/site-packages/lightgbm/basic.py:1551: UserWarning: Using categorical_feature in Dataset.\n",
      "  warnings.warn('Using categorical_feature in Dataset.')\n",
      "/home/slex/programy/anaconda3/envs/fastai/lib/python3.8/site-packages/lightgbm/basic.py:1286: UserWarning: Overriding the parameters from Reference Dataset.\n",
      "  warnings.warn('Overriding the parameters from Reference Dataset.')\n",
      "/home/slex/programy/anaconda3/envs/fastai/lib/python3.8/site-packages/lightgbm/basic.py:1098: UserWarning: categorical_column in param dict is overridden.\n",
      "  warnings.warn('{} in param dict is overridden.'.format(cat_alias))\n"
     ]
    },
    {
     "name": "stdout",
     "output_type": "stream",
     "text": [
      "Training until validation scores don't improve for 25 rounds\n",
      "[100]\ttraining's rmse: 0.000460056\ttraining's RMSPE: 0.213741\tvalid_1's rmse: 0.000474639\tvalid_1's RMSPE: 0.221608\n",
      "Early stopping, best iteration is:\n",
      "[131]\ttraining's rmse: 0.000452558\ttraining's RMSPE: 0.210258\tvalid_1's rmse: 0.000472326\tvalid_1's RMSPE: 0.220528\n",
      "Training fold 5\n"
     ]
    },
    {
     "name": "stderr",
     "output_type": "stream",
     "text": [
      "/home/slex/programy/anaconda3/envs/fastai/lib/python3.8/site-packages/lightgbm/basic.py:1551: UserWarning: Using categorical_feature in Dataset.\n",
      "  warnings.warn('Using categorical_feature in Dataset.')\n",
      "/home/slex/programy/anaconda3/envs/fastai/lib/python3.8/site-packages/lightgbm/basic.py:1286: UserWarning: Overriding the parameters from Reference Dataset.\n",
      "  warnings.warn('Overriding the parameters from Reference Dataset.')\n",
      "/home/slex/programy/anaconda3/envs/fastai/lib/python3.8/site-packages/lightgbm/basic.py:1098: UserWarning: categorical_column in param dict is overridden.\n",
      "  warnings.warn('{} in param dict is overridden.'.format(cat_alias))\n"
     ]
    },
    {
     "name": "stdout",
     "output_type": "stream",
     "text": [
      "Training until validation scores don't improve for 25 rounds\n",
      "[100]\ttraining's rmse: 0.000455317\ttraining's RMSPE: 0.212126\tvalid_1's rmse: 0.000498296\tvalid_1's RMSPE: 0.23008\n",
      "Early stopping, best iteration is:\n",
      "[123]\ttraining's rmse: 0.000449586\ttraining's RMSPE: 0.209456\tvalid_1's rmse: 0.000497311\tvalid_1's RMSPE: 0.229625\n",
      "Our out of folds RMSPE is 0.22700455244257312\n"
     ]
    }
   ],
   "source": [
    "models=train_models(train_df10m)"
   ]
  },
  {
   "cell_type": "code",
   "execution_count": 65,
   "id": "toxic-anxiety",
   "metadata": {},
   "outputs": [
    {
     "data": {
      "text/plain": [
       "0.22712353793195325"
      ]
     },
     "execution_count": 65,
     "metadata": {},
     "output_type": "execute_result"
    }
   ],
   "source": [
    "test_pred = np.zeros(len(test_df10m))\n",
    "for model in models:\n",
    "    pred = model.predict(test_df10m.drop(['row_id', 'time_id', 'target'], axis=1)) \n",
    "    test_pred += pred /5\n",
    "\n",
    "baseline_score = rmspe_np(test_df10m.target, test_pred)\n",
    "baseline_score"
   ]
  },
  {
   "cell_type": "markdown",
   "id": "delayed-original",
   "metadata": {},
   "source": [
    "## LGBM 10m with trained embeddings"
   ]
  },
  {
   "cell_type": "code",
   "execution_count": 255,
   "id": "weird-identifier",
   "metadata": {},
   "outputs": [],
   "source": [
    "df_with_embs = append_embs(pd.read_feather('train_10m.feather'), categorify, learn.model.embeds[0], learn.model.embeds[1])"
   ]
  },
  {
   "cell_type": "code",
   "execution_count": 256,
   "id": "magnetic-department",
   "metadata": {},
   "outputs": [],
   "source": [
    "df_with_embs['5m_pred']= preds5_10\n",
    "train_10m_with_embs = df_with_embs[df_with_embs.time_id.isin(train_ids)].reset_index()\n",
    "test_10m_with_embs = df_with_embs[df_with_embs.time_id.isin(test_ids)].reset_index()"
   ]
  },
  {
   "cell_type": "code",
   "execution_count": null,
   "id": "greenhouse-cleaners",
   "metadata": {},
   "outputs": [
    {
     "name": "stdout",
     "output_type": "stream",
     "text": [
      "Training fold 1\n"
     ]
    },
    {
     "name": "stderr",
     "output_type": "stream",
     "text": [
      "/home/slex/programy/anaconda3/envs/fastai/lib/python3.8/site-packages/lightgbm/basic.py:1551: UserWarning: Using categorical_feature in Dataset.\n",
      "  warnings.warn('Using categorical_feature in Dataset.')\n",
      "/home/slex/programy/anaconda3/envs/fastai/lib/python3.8/site-packages/lightgbm/basic.py:1286: UserWarning: Overriding the parameters from Reference Dataset.\n",
      "  warnings.warn('Overriding the parameters from Reference Dataset.')\n",
      "/home/slex/programy/anaconda3/envs/fastai/lib/python3.8/site-packages/lightgbm/basic.py:1098: UserWarning: categorical_column in param dict is overridden.\n",
      "  warnings.warn('{} in param dict is overridden.'.format(cat_alias))\n"
     ]
    },
    {
     "name": "stdout",
     "output_type": "stream",
     "text": [
      "Training until validation scores don't improve for 25 rounds\n",
      "[100]\ttraining's rmse: 0.000450974\ttraining's RMSPE: 0.210369\tvalid_1's rmse: 0.000487288\tvalid_1's RMSPE: 0.223839\n",
      "Early stopping, best iteration is:\n",
      "[168]\ttraining's rmse: 0.000436585\ttraining's RMSPE: 0.203656\tvalid_1's rmse: 0.000486674\tvalid_1's RMSPE: 0.223557\n",
      "Training fold 2\n"
     ]
    },
    {
     "name": "stderr",
     "output_type": "stream",
     "text": [
      "/home/slex/programy/anaconda3/envs/fastai/lib/python3.8/site-packages/lightgbm/basic.py:1551: UserWarning: Using categorical_feature in Dataset.\n",
      "  warnings.warn('Using categorical_feature in Dataset.')\n",
      "/home/slex/programy/anaconda3/envs/fastai/lib/python3.8/site-packages/lightgbm/basic.py:1286: UserWarning: Overriding the parameters from Reference Dataset.\n",
      "  warnings.warn('Overriding the parameters from Reference Dataset.')\n",
      "/home/slex/programy/anaconda3/envs/fastai/lib/python3.8/site-packages/lightgbm/basic.py:1098: UserWarning: categorical_column in param dict is overridden.\n",
      "  warnings.warn('{} in param dict is overridden.'.format(cat_alias))\n"
     ]
    },
    {
     "name": "stdout",
     "output_type": "stream",
     "text": [
      "Training until validation scores don't improve for 25 rounds\n",
      "[100]\ttraining's rmse: 0.000454128\ttraining's RMSPE: 0.210285\tvalid_1's rmse: 0.000480421\tvalid_1's RMSPE: 0.227242\n",
      "[200]\ttraining's rmse: 0.000435679\ttraining's RMSPE: 0.201742\tvalid_1's rmse: 0.000477283\tvalid_1's RMSPE: 0.225758\n",
      "Early stopping, best iteration is:\n",
      "[180]\ttraining's rmse: 0.000438984\ttraining's RMSPE: 0.203272\tvalid_1's rmse: 0.000477132\tvalid_1's RMSPE: 0.225686\n",
      "Training fold 3\n"
     ]
    },
    {
     "name": "stderr",
     "output_type": "stream",
     "text": [
      "/home/slex/programy/anaconda3/envs/fastai/lib/python3.8/site-packages/lightgbm/basic.py:1551: UserWarning: Using categorical_feature in Dataset.\n",
      "  warnings.warn('Using categorical_feature in Dataset.')\n",
      "/home/slex/programy/anaconda3/envs/fastai/lib/python3.8/site-packages/lightgbm/basic.py:1286: UserWarning: Overriding the parameters from Reference Dataset.\n",
      "  warnings.warn('Overriding the parameters from Reference Dataset.')\n",
      "/home/slex/programy/anaconda3/envs/fastai/lib/python3.8/site-packages/lightgbm/basic.py:1098: UserWarning: categorical_column in param dict is overridden.\n",
      "  warnings.warn('{} in param dict is overridden.'.format(cat_alias))\n"
     ]
    },
    {
     "name": "stdout",
     "output_type": "stream",
     "text": [
      "Training until validation scores don't improve for 25 rounds\n",
      "[100]\ttraining's rmse: 0.000452806\ttraining's RMSPE: 0.210679\tvalid_1's rmse: 0.000481385\tvalid_1's RMSPE: 0.223455\n",
      "Early stopping, best iteration is:\n",
      "[81]\ttraining's rmse: 0.000458455\ttraining's RMSPE: 0.213308\tvalid_1's rmse: 0.000480323\tvalid_1's RMSPE: 0.222962\n",
      "Training fold 4\n"
     ]
    },
    {
     "name": "stderr",
     "output_type": "stream",
     "text": [
      "/home/slex/programy/anaconda3/envs/fastai/lib/python3.8/site-packages/lightgbm/basic.py:1551: UserWarning: Using categorical_feature in Dataset.\n",
      "  warnings.warn('Using categorical_feature in Dataset.')\n",
      "/home/slex/programy/anaconda3/envs/fastai/lib/python3.8/site-packages/lightgbm/basic.py:1286: UserWarning: Overriding the parameters from Reference Dataset.\n",
      "  warnings.warn('Overriding the parameters from Reference Dataset.')\n",
      "/home/slex/programy/anaconda3/envs/fastai/lib/python3.8/site-packages/lightgbm/basic.py:1098: UserWarning: categorical_column in param dict is overridden.\n",
      "  warnings.warn('{} in param dict is overridden.'.format(cat_alias))\n"
     ]
    },
    {
     "name": "stdout",
     "output_type": "stream",
     "text": [
      "Training until validation scores don't improve for 25 rounds\n",
      "[100]\ttraining's rmse: 0.000453176\ttraining's RMSPE: 0.210545\tvalid_1's rmse: 0.000474053\tvalid_1's RMSPE: 0.221335\n",
      "[200]\ttraining's rmse: 0.00043286\ttraining's RMSPE: 0.201106\tvalid_1's rmse: 0.000471995\tvalid_1's RMSPE: 0.220374\n",
      "Early stopping, best iteration is:\n",
      "[197]\ttraining's rmse: 0.000433249\ttraining's RMSPE: 0.201287\tvalid_1's rmse: 0.000471909\tvalid_1's RMSPE: 0.220333\n",
      "Training fold 5\n"
     ]
    },
    {
     "name": "stderr",
     "output_type": "stream",
     "text": [
      "/home/slex/programy/anaconda3/envs/fastai/lib/python3.8/site-packages/lightgbm/basic.py:1551: UserWarning: Using categorical_feature in Dataset.\n",
      "  warnings.warn('Using categorical_feature in Dataset.')\n",
      "/home/slex/programy/anaconda3/envs/fastai/lib/python3.8/site-packages/lightgbm/basic.py:1286: UserWarning: Overriding the parameters from Reference Dataset.\n",
      "  warnings.warn('Overriding the parameters from Reference Dataset.')\n",
      "/home/slex/programy/anaconda3/envs/fastai/lib/python3.8/site-packages/lightgbm/basic.py:1098: UserWarning: categorical_column in param dict is overridden.\n",
      "  warnings.warn('{} in param dict is overridden.'.format(cat_alias))\n"
     ]
    },
    {
     "name": "stdout",
     "output_type": "stream",
     "text": [
      "Training until validation scores don't improve for 25 rounds\n"
     ]
    }
   ],
   "source": [
    "models=train_models(train_10m_with_embs)"
   ]
  },
  {
   "cell_type": "code",
   "execution_count": null,
   "id": "fatty-elements",
   "metadata": {},
   "outputs": [],
   "source": [
    "test_pred = np.zeros(len(test_10m_with_embs))\n",
    "for model in models:\n",
    "    pred = model.predict(test_10m_with_embs.drop(['row_id', 'time_id', 'target'], axis=1)) \n",
    "    test_pred += pred /5\n",
    "\n",
    "embeds5mpred_score = rmspe_np(test_df10m.target, test_pred)\n",
    "embeds5mpred_score"
   ]
  },
  {
   "cell_type": "code",
   "execution_count": null,
   "id": "resistant-lender",
   "metadata": {},
   "outputs": [],
   "source": [
    "(baseline_score-embeds5mpred_score)/ baseline_score"
   ]
  },
  {
   "cell_type": "code",
   "execution_count": null,
   "id": "sonic-diamond",
   "metadata": {},
   "outputs": [],
   "source": [
    "for m in models:\n",
    "    lgb.plot_importance(m, max_num_features=20)"
   ]
  },
  {
   "cell_type": "code",
   "execution_count": null,
   "id": "unsigned-lawsuit",
   "metadata": {},
   "outputs": [],
   "source": []
  },
  {
   "cell_type": "code",
   "execution_count": null,
   "id": "proved-topic",
   "metadata": {},
   "outputs": [],
   "source": []
  }
 ],
 "metadata": {
  "kernelspec": {
   "display_name": "Python 3.8.5 64-bit ('fastai': conda)",
   "language": "python",
   "name": "python38564bitfastaicondad52d12c5a30a4725bf9d3e235cf1271c"
  },
  "language_info": {
   "codemirror_mode": {
    "name": "ipython",
    "version": 3
   },
   "file_extension": ".py",
   "mimetype": "text/x-python",
   "name": "python",
   "nbconvert_exporter": "python",
   "pygments_lexer": "ipython3",
   "version": "3.8.5"
  }
 },
 "nbformat": 4,
 "nbformat_minor": 5
}
