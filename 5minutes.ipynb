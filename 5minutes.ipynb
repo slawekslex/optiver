{
 "cells": [
  {
   "cell_type": "code",
   "execution_count": 1,
   "id": "identified-reverse",
   "metadata": {},
   "outputs": [],
   "source": [
    "%load_ext autoreload\n",
    "%autoreload 2"
   ]
  },
  {
   "cell_type": "code",
   "execution_count": 95,
   "id": "another-trace",
   "metadata": {},
   "outputs": [],
   "source": [
    "from fastai.tabular.all import *\n",
    "from multiprocessing import Pool\n",
    "from sklearn.model_selection import KFold\n",
    "import lightgbm as lgb"
   ]
  },
  {
   "cell_type": "markdown",
   "id": "numeric-minneapolis",
   "metadata": {},
   "source": [
    "## Generate 5m dataset"
   ]
  },
  {
   "cell_type": "code",
   "execution_count": 5,
   "id": "seventh-piano",
   "metadata": {},
   "outputs": [],
   "source": [
    "data_dir = Path('../input/optiver-realized-volatility-prediction')"
   ]
  },
  {
   "cell_type": "code",
   "execution_count": 82,
   "id": "painful-tonight",
   "metadata": {},
   "outputs": [],
   "source": [
    "# Function to calculate first WAP\n",
    "def calc_wap1(df):\n",
    "    wap = (df['bid_price1'] * df['ask_size1'] + df['ask_price1'] * df['bid_size1']) / (df['bid_size1'] + df['ask_size1'])\n",
    "    return wap\n",
    "\n",
    "# Function to calculate second WAP\n",
    "def calc_wap2(df):\n",
    "    wap = (df['bid_price2'] * df['ask_size2'] + df['ask_price2'] * df['bid_size2']) / (df['bid_size2'] + df['ask_size2'])\n",
    "    return wap\n",
    "\n",
    "# Function to calculate the log of the return\n",
    "# Remember that logb(x / y) = logb(x) - logb(y)\n",
    "def log_return(series):\n",
    "    return np.log(series).diff()\n",
    "\n",
    "# Calculate the realized volatility\n",
    "def realized_volatility(series):\n",
    "    return np.sqrt(np.sum(series**2))\n",
    "\n",
    "# Function to count unique elements of a series\n",
    "def count_unique(series):\n",
    "    return len(np.unique(series))\n",
    "\n",
    "def book_preprocessor(df, stock_id):\n",
    "    #df = pd.read_parquet(file_path)\n",
    "    # Calculate Wap\n",
    "    df['wap1'] = calc_wap1(df)\n",
    "    df['wap2'] = calc_wap2(df)\n",
    "    # Calculate log returns\n",
    "    df['log_return1'] = df.groupby(['time_id'])['wap1'].apply(log_return)\n",
    "    df['log_return2'] = df.groupby(['time_id'])['wap2'].apply(log_return)\n",
    "    # Calculate wap balance\n",
    "    df['wap_balance'] = abs(df['wap1'] - df['wap2'])\n",
    "    # Calculate spread\n",
    "    df['price_spread'] = (df['ask_price1'] - df['bid_price1']) / ((df['ask_price1'] + df['bid_price1']) / 2)\n",
    "    df['bid_spread'] = df['bid_price1'] - df['bid_price2']\n",
    "    df['ask_spread'] = df['ask_price1'] - df['ask_price2']\n",
    "    df['total_volume'] = (df['ask_size1'] + df['ask_size2']) + (df['bid_size1'] + df['bid_size2'])\n",
    "    df['volume_imbalance'] = abs((df['ask_size1'] + df['ask_size2']) - (df['bid_size1'] + df['bid_size2']))\n",
    "    \n",
    "    # Dict for aggregations\n",
    "    create_feature_dict = {\n",
    "        'wap1': [np.sum, np.mean, np.std],\n",
    "        'wap2': [np.sum, np.mean, np.std],\n",
    "        'log_return1': [np.sum, realized_volatility, np.mean, np.std],\n",
    "        'log_return2': [np.sum, realized_volatility, np.mean, np.std],\n",
    "        'wap_balance': [np.sum, np.mean, np.std],\n",
    "        'price_spread':[np.sum, np.mean, np.std],\n",
    "        'bid_spread':[np.sum, np.mean, np.std],\n",
    "        'ask_spread':[np.sum, np.mean, np.std],\n",
    "        'total_volume':[np.sum, np.mean, np.std],\n",
    "        'volume_imbalance':[np.sum, np.mean, np.std]\n",
    "    }\n",
    "    \n",
    "    # Function to get group stats for different windows (seconds in bucket)\n",
    "    def get_stats_window(seconds_in_bucket, add_suffix = False):\n",
    "        # Group by the window\n",
    "        df_feature = df[df['seconds_in_bucket'] >= seconds_in_bucket].groupby(['time_id']).agg(create_feature_dict).reset_index()\n",
    "        # Rename columns joining suffix\n",
    "        df_feature.columns = ['_'.join(col) for col in df_feature.columns]\n",
    "        # Add a suffix to differentiate windows\n",
    "        if add_suffix:\n",
    "            df_feature = df_feature.add_suffix('_' + str(seconds_in_bucket))\n",
    "        return df_feature\n",
    "    \n",
    "    # Get the stats for different windows\n",
    "    df_feature = get_stats_window(seconds_in_bucket = 0, add_suffix = False)\n",
    "    #df_feature_450 = get_stats_window(seconds_in_bucket = 450, add_suffix = True)\n",
    "    #df_feature_300 = get_stats_window(seconds_in_bucket = 300, add_suffix = True)\n",
    "    #df_feature_150 = get_stats_window(seconds_in_bucket = 150, add_suffix = True)\n",
    "    \n",
    "    # Merge all\n",
    "    #df_feature = df_feature.merge(df_feature_450, how = 'left', left_on = 'time_id_', right_on = 'time_id__450')\n",
    "    #df_feature = df_feature.merge(df_feature_300, how = 'left', left_on = 'time_id_', right_on = 'time_id__300')\n",
    "    #df_feature = df_feature.merge(df_feature_150, how = 'left', left_on = 'time_id_', right_on = 'time_id__150')\n",
    "    # Drop unnecesary time_ids\n",
    "    #df_feature.drop(['time_id__450', 'time_id__300', 'time_id__150'], axis = 1, inplace = True)\n",
    "    \n",
    "    # Create row_id so we can merge\n",
    "    #stock_id = str(file_path).split('=')[1]\n",
    "    df_feature['row_id'] = df_feature['time_id_'].apply(lambda x: f'{stock_id}-{x}')\n",
    "    df_feature = df_feature.rename(columns={\"time_id_\": \"time_id\"})\n",
    "    \n",
    "    df_feature['stock_id'] = stock_id\n",
    "    return df_feature"
   ]
  },
  {
   "cell_type": "code",
   "execution_count": 83,
   "id": "sunset-dialogue",
   "metadata": {},
   "outputs": [],
   "source": [
    "def trade_preprocessor(df, stock_id):\n",
    "    #df = pd.read_parquet(file_path)\n",
    "    df['log_return'] = df.groupby('time_id')['price'].apply(log_return)\n",
    "    \n",
    "    # Dict for aggregations\n",
    "    create_feature_dict = {\n",
    "        'log_return':[realized_volatility],\n",
    "        'seconds_in_bucket':[count_unique],\n",
    "        'size':[np.sum],\n",
    "        'order_count':[np.mean],\n",
    "    }\n",
    "    \n",
    "    # Function to get group stats for different windows (seconds in bucket)\n",
    "    def get_stats_window(seconds_in_bucket, add_suffix = False):\n",
    "        # Group by the window\n",
    "        df_feature = df[df['seconds_in_bucket'] >= seconds_in_bucket].groupby(['time_id']).agg(create_feature_dict).reset_index()\n",
    "        # Rename columns joining suffix\n",
    "        df_feature.columns = ['_'.join(col) for col in df_feature.columns]\n",
    "        # Add a suffix to differentiate windows\n",
    "        if add_suffix:\n",
    "            df_feature = df_feature.add_suffix('_' + str(seconds_in_bucket))\n",
    "        return df_feature\n",
    "    \n",
    "    # Get the stats for different windows\n",
    "    df_feature = get_stats_window(seconds_in_bucket = 0, add_suffix = False)\n",
    "#     df_feature_450 = get_stats_window(seconds_in_bucket = 450, add_suffix = True)\n",
    "#     df_feature_300 = get_stats_window(seconds_in_bucket = 300, add_suffix = True)\n",
    "#     df_feature_150 = get_stats_window(seconds_in_bucket = 150, add_suffix = True)\n",
    "\n",
    "    # Merge all\n",
    "#     df_feature = df_feature.merge(df_feature_450, how = 'left', left_on = 'time_id_', right_on = 'time_id__450')\n",
    "#     df_feature = df_feature.merge(df_feature_300, how = 'left', left_on = 'time_id_', right_on = 'time_id__300')\n",
    "#     df_feature = df_feature.merge(df_feature_150, how = 'left', left_on = 'time_id_', right_on = 'time_id__150')\n",
    "    # Drop unnecesary time_ids\n",
    "#     df_feature.drop(['time_id__450', 'time_id__300', 'time_id__150'], axis = 1, inplace = True)\n",
    "    \n",
    "    df_feature = df_feature.add_prefix('trade_')\n",
    "    #stock_id = str(file_path).split('=')[1]\n",
    "    df_feature['row_id'] = df_feature['trade_time_id_'].apply(lambda x:f'{stock_id}-{x}')\n",
    "    df_feature.drop(['trade_time_id_'], axis = 1, inplace = True)\n",
    "    return df_feature"
   ]
  },
  {
   "cell_type": "code",
   "execution_count": 84,
   "id": "portable-appearance",
   "metadata": {},
   "outputs": [],
   "source": [
    "def realized_volatility_per_time_id(df_book_data, stock_id):\n",
    "    df_book_data['wap'] =(df_book_data['bid_price1'] * df_book_data['ask_size1']+df_book_data['ask_price1'] * df_book_data['bid_size1'])  / (\n",
    "                                      df_book_data['bid_size1']+ df_book_data[\n",
    "                                  'ask_size1'])\n",
    "    df_book_data['log_return'] = df_book_data.groupby(['time_id'])['wap'].apply(log_return)\n",
    "    df_book_data = df_book_data[~df_book_data['log_return'].isnull()]\n",
    "    df_realized_vol_per_stock =  pd.DataFrame(df_book_data.groupby(['time_id'])['log_return'].agg(realized_volatility)).reset_index()\n",
    "    df_realized_vol_per_stock = df_realized_vol_per_stock.rename(columns = {'log_return':'target'})\n",
    "    df_realized_vol_per_stock['row_id'] = df_realized_vol_per_stock['time_id'].apply(lambda x:f'{stock_id}-{x}')\n",
    "    return df_realized_vol_per_stock[['row_id', 'target']]"
   ]
  },
  {
   "cell_type": "code",
   "execution_count": 85,
   "id": "aggregate-triumph",
   "metadata": {},
   "outputs": [],
   "source": [
    "def preprocess_one_stock(stock_id, typ='train'):\n",
    "    book_df = pd.read_parquet(data_dir / f'book_{typ}.parquet/stock_id={stock_id}')\n",
    "    trade_df = pd.read_parquet(data_dir / f'trade_{typ}.parquet/stock_id={stock_id}')\n",
    "    book_5m  = book_preprocessor(book_df[book_df.seconds_in_bucket < 300].copy(), stock_id)\n",
    "    trade_5m = trade_preprocessor(trade_df[trade_df.seconds_in_bucket < 300].copy(), stock_id)\n",
    "    realized_vol = realized_volatility_per_time_id(book_df[book_df.seconds_in_bucket >= 300].copy(), stock_id)\n",
    "    res = pd.merge(book_5m, trade_5m, on = 'row_id', how = 'left')\n",
    "    res = pd.merge(res, realized_vol, on = 'row_id', how='left')\n",
    "    return res"
   ]
  },
  {
   "cell_type": "code",
   "execution_count": 86,
   "id": "obvious-tattoo",
   "metadata": {},
   "outputs": [],
   "source": [
    "def preprocess_all(list_stock_ids, typ='train'):\n",
    "    pool = Pool(16)\n",
    "    df = pool.starmap(preprocess_one_stock, zip(list_stock_ids, [typ]*len(list_stock_ids)))\n",
    "    df = pd.concat(df, ignore_index = True)\n",
    "    return df\n"
   ]
  },
  {
   "cell_type": "code",
   "execution_count": 87,
   "id": "broad-chapel",
   "metadata": {},
   "outputs": [],
   "source": [
    "def generate_train_df():\n",
    "    train_df = pd.read_csv(data_dir/'train.csv')\n",
    "    train_stock_ids = train_df['stock_id'].unique()\n",
    "    train_features = preprocess_all(train_stock_ids, 'train')\n",
    "    return train_features"
   ]
  },
  {
   "cell_type": "code",
   "execution_count": 88,
   "id": "little-thread",
   "metadata": {},
   "outputs": [],
   "source": [
    "train_df = generate_train_df()\n"
   ]
  },
  {
   "cell_type": "code",
   "execution_count": 92,
   "id": "amateur-problem",
   "metadata": {},
   "outputs": [],
   "source": [
    "train_df.to_csv('train_5m.df', index=False)"
   ]
  },
  {
   "cell_type": "code",
   "execution_count": 122,
   "id": "requested-round",
   "metadata": {},
   "outputs": [
    {
     "data": {
      "text/plain": [
       "428932"
      ]
     },
     "execution_count": 122,
     "metadata": {},
     "output_type": "execute_result"
    }
   ],
   "source": [
    "len(train_df)"
   ]
  },
  {
   "cell_type": "code",
   "execution_count": 123,
   "id": "dramatic-religious",
   "metadata": {},
   "outputs": [
    {
     "data": {
      "text/plain": [
       "428931"
      ]
     },
     "execution_count": 123,
     "metadata": {},
     "output_type": "execute_result"
    }
   ],
   "source": [
    "train_df = train_df[train_df.target!=0]\n",
    "len(train_df)"
   ]
  },
  {
   "cell_type": "markdown",
   "id": "unlimited-surname",
   "metadata": {},
   "source": [
    "## LGBM Baseline"
   ]
  },
  {
   "cell_type": "code",
   "execution_count": 242,
   "id": "pending-indian",
   "metadata": {},
   "outputs": [],
   "source": [
    "def rmspe_np(y_true, y_pred):\n",
    "    return np.sqrt(np.mean(np.square((y_true - y_pred) / y_true)))\n",
    "def feval_rmspe(y_pred, lgb_train):\n",
    "    y_true = lgb_train.get_label()\n",
    "    return 'RMSPE', rmspe_np(y_true, y_pred), False\n",
    "\n",
    "def train_models(train):\n",
    "    # Hyperparammeters (optimized)\n",
    "    seed = 29\n",
    "    params = {\n",
    "        'learning_rate': 0.1,        \n",
    "        'lambda_l1': 2,\n",
    "        'lambda_l2': 7,\n",
    "        'num_leaves': 800,\n",
    "        'min_sum_hessian_in_leaf': 20,\n",
    "        'feature_fraction': 0.8,\n",
    "        'feature_fraction_bynode': 0.8,\n",
    "        'bagging_fraction': 0.9,\n",
    "        'bagging_freq': 42,\n",
    "        'min_data_in_leaf': 700,\n",
    "        'max_depth': 4,\n",
    "        'seed': seed,\n",
    "        'feature_fraction_seed': seed,\n",
    "        'bagging_seed': seed,\n",
    "        'drop_seed': seed,\n",
    "        'data_random_seed': seed,\n",
    "        'objective': 'rmse',\n",
    "        'boosting': 'gbdt',\n",
    "        'verbosity': -1,\n",
    "        'n_jobs': -1,\n",
    "    }   \n",
    "    \n",
    "    # Split features and target\n",
    "    x = train.drop(['row_id', 'target', 'time_id'], axis = 1)\n",
    "    y = train['target']\n",
    "    # Transform stock id to a numeric value\n",
    "    x['stock_id'] = x['stock_id'].astype(int)\n",
    "    models =[]\n",
    "    # Create out of folds array\n",
    "    oof_predictions = np.zeros(x.shape[0])\n",
    "    # Create a KFold object\n",
    "    kfold = KFold(n_splits = 5, random_state = 1111, shuffle = True)\n",
    "    # Iterate through each fold\n",
    "    for fold, (trn_ind, val_ind) in enumerate(kfold.split(x)):\n",
    "        print(f'Training fold {fold + 1}')\n",
    "        x_train, x_val = x.iloc[trn_ind], x.iloc[val_ind]\n",
    "        y_train, y_val = y.iloc[trn_ind], y.iloc[val_ind]\n",
    "        # Root mean squared percentage error weights\n",
    "        train_weights = 1 / np.square(y_train)\n",
    "        val_weights = 1 / np.square(y_val)\n",
    "        train_dataset = lgb.Dataset(x_train, y_train, weight = train_weights, categorical_feature = ['stock_id'])\n",
    "        val_dataset = lgb.Dataset(x_val, y_val, weight = val_weights, categorical_feature = ['stock_id'])\n",
    "        model = lgb.train(params = params, \n",
    "                          train_set = train_dataset, \n",
    "                          valid_sets = [train_dataset, val_dataset], \n",
    "                          num_boost_round = 3000, \n",
    "                          early_stopping_rounds = 25, \n",
    "                          verbose_eval = 100,\n",
    "                          feval = feval_rmspe)\n",
    "        models.append(model)\n",
    "        # Add predictions to the out of folds array\n",
    "        oof_predictions[val_ind] = model.predict(x_val)\n",
    "        # Predict the test set\n",
    "        #test_predictions += model.predict(x_test) / 10\n",
    "        \n",
    "    rmspe_score = rmspe_np(y, oof_predictions)\n",
    "    print(f'Our out of folds RMSPE is {rmspe_score}')\n",
    "    # Return test predictions\n",
    "    return models"
   ]
  },
  {
   "cell_type": "code",
   "execution_count": 129,
   "id": "coupled-provider",
   "metadata": {},
   "outputs": [
    {
     "name": "stdout",
     "output_type": "stream",
     "text": [
      "Training fold 1\n"
     ]
    },
    {
     "name": "stderr",
     "output_type": "stream",
     "text": [
      "/home/slex/programy/anaconda3/envs/fastai/lib/python3.8/site-packages/lightgbm/basic.py:1551: UserWarning: Using categorical_feature in Dataset.\n",
      "  warnings.warn('Using categorical_feature in Dataset.')\n",
      "/home/slex/programy/anaconda3/envs/fastai/lib/python3.8/site-packages/lightgbm/basic.py:1286: UserWarning: Overriding the parameters from Reference Dataset.\n",
      "  warnings.warn('Overriding the parameters from Reference Dataset.')\n",
      "/home/slex/programy/anaconda3/envs/fastai/lib/python3.8/site-packages/lightgbm/basic.py:1098: UserWarning: categorical_column in param dict is overridden.\n",
      "  warnings.warn('{} in param dict is overridden.'.format(cat_alias))\n"
     ]
    },
    {
     "name": "stdout",
     "output_type": "stream",
     "text": [
      "Training until validation scores don't improve for 25 rounds\n",
      "[100]\ttraining's rmse: 0.000356777\ttraining's RMSPE: 0.245152\tvalid_1's rmse: 0.000365831\tvalid_1's RMSPE: 0.250684\n",
      "[200]\ttraining's rmse: 0.000348716\ttraining's RMSPE: 0.239613\tvalid_1's rmse: 0.000362449\tvalid_1's RMSPE: 0.248367\n",
      "[300]\ttraining's rmse: 0.000343809\ttraining's RMSPE: 0.236241\tvalid_1's rmse: 0.000360826\tvalid_1's RMSPE: 0.247254\n",
      "[400]\ttraining's rmse: 0.000340477\ttraining's RMSPE: 0.233952\tvalid_1's rmse: 0.000359873\tvalid_1's RMSPE: 0.246601\n",
      "[500]\ttraining's rmse: 0.000337652\ttraining's RMSPE: 0.23201\tvalid_1's rmse: 0.000359379\tvalid_1's RMSPE: 0.246263\n",
      "Early stopping, best iteration is:\n",
      "[500]\ttraining's rmse: 0.000337652\ttraining's RMSPE: 0.23201\tvalid_1's rmse: 0.000359379\tvalid_1's RMSPE: 0.246263\n",
      "Training fold 2\n"
     ]
    },
    {
     "name": "stderr",
     "output_type": "stream",
     "text": [
      "/home/slex/programy/anaconda3/envs/fastai/lib/python3.8/site-packages/lightgbm/basic.py:1551: UserWarning: Using categorical_feature in Dataset.\n",
      "  warnings.warn('Using categorical_feature in Dataset.')\n",
      "/home/slex/programy/anaconda3/envs/fastai/lib/python3.8/site-packages/lightgbm/basic.py:1286: UserWarning: Overriding the parameters from Reference Dataset.\n",
      "  warnings.warn('Overriding the parameters from Reference Dataset.')\n",
      "/home/slex/programy/anaconda3/envs/fastai/lib/python3.8/site-packages/lightgbm/basic.py:1098: UserWarning: categorical_column in param dict is overridden.\n",
      "  warnings.warn('{} in param dict is overridden.'.format(cat_alias))\n"
     ]
    },
    {
     "name": "stdout",
     "output_type": "stream",
     "text": [
      "Training until validation scores don't improve for 25 rounds\n",
      "[100]\ttraining's rmse: 0.000354494\ttraining's RMSPE: 0.244011\tvalid_1's rmse: 0.000382615\tvalid_1's RMSPE: 0.260327\n",
      "[200]\ttraining's rmse: 0.000346692\ttraining's RMSPE: 0.23864\tvalid_1's rmse: 0.000380447\tvalid_1's RMSPE: 0.258852\n",
      "[300]\ttraining's rmse: 0.000342182\ttraining's RMSPE: 0.235536\tvalid_1's rmse: 0.00037942\tvalid_1's RMSPE: 0.258153\n",
      "Early stopping, best iteration is:\n",
      "[328]\ttraining's rmse: 0.000341221\ttraining's RMSPE: 0.234874\tvalid_1's rmse: 0.000378957\tvalid_1's RMSPE: 0.257838\n",
      "Training fold 3\n"
     ]
    },
    {
     "name": "stderr",
     "output_type": "stream",
     "text": [
      "/home/slex/programy/anaconda3/envs/fastai/lib/python3.8/site-packages/lightgbm/basic.py:1551: UserWarning: Using categorical_feature in Dataset.\n",
      "  warnings.warn('Using categorical_feature in Dataset.')\n",
      "/home/slex/programy/anaconda3/envs/fastai/lib/python3.8/site-packages/lightgbm/basic.py:1286: UserWarning: Overriding the parameters from Reference Dataset.\n",
      "  warnings.warn('Overriding the parameters from Reference Dataset.')\n",
      "/home/slex/programy/anaconda3/envs/fastai/lib/python3.8/site-packages/lightgbm/basic.py:1098: UserWarning: categorical_column in param dict is overridden.\n",
      "  warnings.warn('{} in param dict is overridden.'.format(cat_alias))\n"
     ]
    },
    {
     "name": "stdout",
     "output_type": "stream",
     "text": [
      "Training until validation scores don't improve for 25 rounds\n",
      "[100]\ttraining's rmse: 0.000357652\ttraining's RMSPE: 0.243589\tvalid_1's rmse: 0.000406593\tvalid_1's RMSPE: 0.288275\n",
      "Early stopping, best iteration is:\n",
      "[113]\ttraining's rmse: 0.000356311\ttraining's RMSPE: 0.242675\tvalid_1's rmse: 0.000405175\tvalid_1's RMSPE: 0.287269\n",
      "Training fold 4\n"
     ]
    },
    {
     "name": "stderr",
     "output_type": "stream",
     "text": [
      "/home/slex/programy/anaconda3/envs/fastai/lib/python3.8/site-packages/lightgbm/basic.py:1551: UserWarning: Using categorical_feature in Dataset.\n",
      "  warnings.warn('Using categorical_feature in Dataset.')\n",
      "/home/slex/programy/anaconda3/envs/fastai/lib/python3.8/site-packages/lightgbm/basic.py:1286: UserWarning: Overriding the parameters from Reference Dataset.\n",
      "  warnings.warn('Overriding the parameters from Reference Dataset.')\n",
      "/home/slex/programy/anaconda3/envs/fastai/lib/python3.8/site-packages/lightgbm/basic.py:1098: UserWarning: categorical_column in param dict is overridden.\n",
      "  warnings.warn('{} in param dict is overridden.'.format(cat_alias))\n"
     ]
    },
    {
     "name": "stdout",
     "output_type": "stream",
     "text": [
      "Training until validation scores don't improve for 25 rounds\n",
      "[100]\ttraining's rmse: 0.000357161\ttraining's RMSPE: 0.245391\tvalid_1's rmse: 0.000379726\tvalid_1's RMSPE: 0.26031\n",
      "[200]\ttraining's rmse: 0.000348714\ttraining's RMSPE: 0.239588\tvalid_1's rmse: 0.000373891\tvalid_1's RMSPE: 0.256311\n",
      "Early stopping, best iteration is:\n",
      "[237]\ttraining's rmse: 0.000346784\ttraining's RMSPE: 0.238262\tvalid_1's rmse: 0.000373028\tvalid_1's RMSPE: 0.255719\n",
      "Training fold 5\n"
     ]
    },
    {
     "name": "stderr",
     "output_type": "stream",
     "text": [
      "/home/slex/programy/anaconda3/envs/fastai/lib/python3.8/site-packages/lightgbm/basic.py:1551: UserWarning: Using categorical_feature in Dataset.\n",
      "  warnings.warn('Using categorical_feature in Dataset.')\n",
      "/home/slex/programy/anaconda3/envs/fastai/lib/python3.8/site-packages/lightgbm/basic.py:1286: UserWarning: Overriding the parameters from Reference Dataset.\n",
      "  warnings.warn('Overriding the parameters from Reference Dataset.')\n",
      "/home/slex/programy/anaconda3/envs/fastai/lib/python3.8/site-packages/lightgbm/basic.py:1098: UserWarning: categorical_column in param dict is overridden.\n",
      "  warnings.warn('{} in param dict is overridden.'.format(cat_alias))\n"
     ]
    },
    {
     "name": "stdout",
     "output_type": "stream",
     "text": [
      "Training until validation scores don't improve for 25 rounds\n",
      "[100]\ttraining's rmse: 0.000355604\ttraining's RMSPE: 0.245413\tvalid_1's rmse: 0.000367851\tvalid_1's RMSPE: 0.247593\n",
      "[200]\ttraining's rmse: 0.000346949\ttraining's RMSPE: 0.23944\tvalid_1's rmse: 0.000363801\tvalid_1's RMSPE: 0.244867\n",
      "[300]\ttraining's rmse: 0.000342167\ttraining's RMSPE: 0.23614\tvalid_1's rmse: 0.000362306\tvalid_1's RMSPE: 0.243861\n",
      "[400]\ttraining's rmse: 0.000338851\ttraining's RMSPE: 0.233851\tvalid_1's rmse: 0.000361438\tvalid_1's RMSPE: 0.243276\n",
      "[500]\ttraining's rmse: 0.000336158\ttraining's RMSPE: 0.231992\tvalid_1's rmse: 0.000360872\tvalid_1's RMSPE: 0.242895\n",
      "Early stopping, best iteration is:\n",
      "[491]\ttraining's rmse: 0.000336314\ttraining's RMSPE: 0.2321\tvalid_1's rmse: 0.000360869\tvalid_1's RMSPE: 0.242893\n",
      "Our out of folds RMSPE is 0.2584719789290689\n"
     ]
    }
   ],
   "source": [
    "_=train_models(train_df)"
   ]
  },
  {
   "cell_type": "markdown",
   "id": "postal-thanksgiving",
   "metadata": {},
   "source": [
    "## Learning embeddings"
   ]
  },
  {
   "cell_type": "code",
   "execution_count": null,
   "id": "packed-final",
   "metadata": {},
   "outputs": [],
   "source": []
  },
  {
   "cell_type": "code",
   "execution_count": 138,
   "id": "freelance-crazy",
   "metadata": {},
   "outputs": [],
   "source": [
    "cont_nn,cat_nn = cont_cat_split(train_df, max_card=9000, dep_var='target')\n",
    "cat_nn.remove('row_id')"
   ]
  },
  {
   "cell_type": "code",
   "execution_count": 139,
   "id": "convinced-blair",
   "metadata": {},
   "outputs": [
    {
     "data": {
      "text/plain": [
       "['time_id', 'stock_id']"
      ]
     },
     "execution_count": 139,
     "metadata": {},
     "output_type": "execute_result"
    }
   ],
   "source": [
    "cat_nn"
   ]
  },
  {
   "cell_type": "code",
   "execution_count": 145,
   "id": "indoor-native",
   "metadata": {},
   "outputs": [],
   "source": [
    "procs_nn = [Categorify,FillMissing, Normalize]\n",
    "\n",
    "splits = RandomSplitter()(train_df)\n",
    "\n",
    "dls = TabularPandas(train_df, procs_nn, cat_nn, cont_nn,\n",
    "                      splits=splits, \n",
    "                       \n",
    "                      y_names='target').dataloaders(1024)"
   ]
  },
  {
   "cell_type": "code",
   "execution_count": 279,
   "id": "altered-cargo",
   "metadata": {},
   "outputs": [],
   "source": [
    "def rmspe(preds, targs):\n",
    "    x = (targs-preds)/targs\n",
    "    return (x**2).mean().sqrt()\n",
    "\n",
    "config={'lin_first':True, 'ps':[.5,.2,0], 'embed_p':.25, }\n",
    "learn = tabular_learner(dls, y_range=(0,.1), layers=[1000,400,200], emb_szs={'stock_id':16, 'time_id':64}, \n",
    "                        n_out=1, loss_func = rmspe, metrics=AccumMetric(rmspe), config=config,wd=.2)"
   ]
  },
  {
   "cell_type": "code",
   "execution_count": 280,
   "id": "cross-saudi",
   "metadata": {},
   "outputs": [
    {
     "data": {
      "text/html": [
       "<table border=\"1\" class=\"dataframe\">\n",
       "  <thead>\n",
       "    <tr style=\"text-align: left;\">\n",
       "      <th>epoch</th>\n",
       "      <th>train_loss</th>\n",
       "      <th>valid_loss</th>\n",
       "      <th>rmspe</th>\n",
       "      <th>time</th>\n",
       "    </tr>\n",
       "  </thead>\n",
       "  <tbody>\n",
       "    <tr>\n",
       "      <td>0</td>\n",
       "      <td>4.492495</td>\n",
       "      <td>3.304515</td>\n",
       "      <td>3.333452</td>\n",
       "      <td>00:09</td>\n",
       "    </tr>\n",
       "    <tr>\n",
       "      <td>1</td>\n",
       "      <td>1.624791</td>\n",
       "      <td>1.407325</td>\n",
       "      <td>1.498507</td>\n",
       "      <td>00:05</td>\n",
       "    </tr>\n",
       "    <tr>\n",
       "      <td>2</td>\n",
       "      <td>0.786906</td>\n",
       "      <td>0.735480</td>\n",
       "      <td>0.927203</td>\n",
       "      <td>00:06</td>\n",
       "    </tr>\n",
       "    <tr>\n",
       "      <td>3</td>\n",
       "      <td>0.299071</td>\n",
       "      <td>0.270267</td>\n",
       "      <td>0.272632</td>\n",
       "      <td>00:06</td>\n",
       "    </tr>\n",
       "    <tr>\n",
       "      <td>4</td>\n",
       "      <td>0.267113</td>\n",
       "      <td>0.250551</td>\n",
       "      <td>0.253110</td>\n",
       "      <td>00:05</td>\n",
       "    </tr>\n",
       "    <tr>\n",
       "      <td>5</td>\n",
       "      <td>0.266898</td>\n",
       "      <td>0.251298</td>\n",
       "      <td>0.253329</td>\n",
       "      <td>00:05</td>\n",
       "    </tr>\n",
       "    <tr>\n",
       "      <td>6</td>\n",
       "      <td>0.350433</td>\n",
       "      <td>0.275506</td>\n",
       "      <td>0.277909</td>\n",
       "      <td>00:05</td>\n",
       "    </tr>\n",
       "    <tr>\n",
       "      <td>7</td>\n",
       "      <td>0.295880</td>\n",
       "      <td>0.257843</td>\n",
       "      <td>0.261850</td>\n",
       "      <td>00:06</td>\n",
       "    </tr>\n",
       "    <tr>\n",
       "      <td>8</td>\n",
       "      <td>0.262504</td>\n",
       "      <td>0.246260</td>\n",
       "      <td>0.249931</td>\n",
       "      <td>00:06</td>\n",
       "    </tr>\n",
       "    <tr>\n",
       "      <td>9</td>\n",
       "      <td>0.253144</td>\n",
       "      <td>0.250773</td>\n",
       "      <td>0.263207</td>\n",
       "      <td>00:05</td>\n",
       "    </tr>\n",
       "    <tr>\n",
       "      <td>10</td>\n",
       "      <td>0.243420</td>\n",
       "      <td>0.242457</td>\n",
       "      <td>0.248229</td>\n",
       "      <td>00:05</td>\n",
       "    </tr>\n",
       "    <tr>\n",
       "      <td>11</td>\n",
       "      <td>0.268808</td>\n",
       "      <td>0.243299</td>\n",
       "      <td>0.248546</td>\n",
       "      <td>00:08</td>\n",
       "    </tr>\n",
       "    <tr>\n",
       "      <td>12</td>\n",
       "      <td>0.253977</td>\n",
       "      <td>0.246926</td>\n",
       "      <td>0.252680</td>\n",
       "      <td>00:06</td>\n",
       "    </tr>\n",
       "    <tr>\n",
       "      <td>13</td>\n",
       "      <td>0.247311</td>\n",
       "      <td>0.243408</td>\n",
       "      <td>0.252148</td>\n",
       "      <td>00:05</td>\n",
       "    </tr>\n",
       "    <tr>\n",
       "      <td>14</td>\n",
       "      <td>0.274041</td>\n",
       "      <td>0.249434</td>\n",
       "      <td>0.254031</td>\n",
       "      <td>00:06</td>\n",
       "    </tr>\n",
       "    <tr>\n",
       "      <td>15</td>\n",
       "      <td>0.242755</td>\n",
       "      <td>0.244326</td>\n",
       "      <td>0.250689</td>\n",
       "      <td>00:06</td>\n",
       "    </tr>\n",
       "    <tr>\n",
       "      <td>16</td>\n",
       "      <td>0.241713</td>\n",
       "      <td>0.245412</td>\n",
       "      <td>0.254479</td>\n",
       "      <td>00:06</td>\n",
       "    </tr>\n",
       "    <tr>\n",
       "      <td>17</td>\n",
       "      <td>0.240982</td>\n",
       "      <td>0.249300</td>\n",
       "      <td>0.263995</td>\n",
       "      <td>00:05</td>\n",
       "    </tr>\n",
       "    <tr>\n",
       "      <td>18</td>\n",
       "      <td>0.243503</td>\n",
       "      <td>0.272197</td>\n",
       "      <td>0.280295</td>\n",
       "      <td>00:06</td>\n",
       "    </tr>\n",
       "    <tr>\n",
       "      <td>19</td>\n",
       "      <td>0.244512</td>\n",
       "      <td>0.265420</td>\n",
       "      <td>0.274038</td>\n",
       "      <td>00:06</td>\n",
       "    </tr>\n",
       "    <tr>\n",
       "      <td>20</td>\n",
       "      <td>0.241280</td>\n",
       "      <td>0.253154</td>\n",
       "      <td>0.265254</td>\n",
       "      <td>00:06</td>\n",
       "    </tr>\n",
       "    <tr>\n",
       "      <td>21</td>\n",
       "      <td>0.238088</td>\n",
       "      <td>0.239869</td>\n",
       "      <td>0.247695</td>\n",
       "      <td>00:06</td>\n",
       "    </tr>\n",
       "    <tr>\n",
       "      <td>22</td>\n",
       "      <td>0.249396</td>\n",
       "      <td>0.246350</td>\n",
       "      <td>0.257569</td>\n",
       "      <td>00:04</td>\n",
       "    </tr>\n",
       "    <tr>\n",
       "      <td>23</td>\n",
       "      <td>0.243551</td>\n",
       "      <td>0.246643</td>\n",
       "      <td>0.255151</td>\n",
       "      <td>00:04</td>\n",
       "    </tr>\n",
       "    <tr>\n",
       "      <td>24</td>\n",
       "      <td>0.247229</td>\n",
       "      <td>0.241625</td>\n",
       "      <td>0.248434</td>\n",
       "      <td>00:04</td>\n",
       "    </tr>\n",
       "    <tr>\n",
       "      <td>25</td>\n",
       "      <td>0.242050</td>\n",
       "      <td>0.261972</td>\n",
       "      <td>0.273528</td>\n",
       "      <td>00:04</td>\n",
       "    </tr>\n",
       "    <tr>\n",
       "      <td>26</td>\n",
       "      <td>0.266717</td>\n",
       "      <td>0.267854</td>\n",
       "      <td>0.277615</td>\n",
       "      <td>00:04</td>\n",
       "    </tr>\n",
       "    <tr>\n",
       "      <td>27</td>\n",
       "      <td>0.240357</td>\n",
       "      <td>0.244378</td>\n",
       "      <td>0.256415</td>\n",
       "      <td>00:04</td>\n",
       "    </tr>\n",
       "    <tr>\n",
       "      <td>28</td>\n",
       "      <td>0.242490</td>\n",
       "      <td>0.241420</td>\n",
       "      <td>0.251478</td>\n",
       "      <td>00:04</td>\n",
       "    </tr>\n",
       "    <tr>\n",
       "      <td>29</td>\n",
       "      <td>0.242855</td>\n",
       "      <td>0.245872</td>\n",
       "      <td>0.251315</td>\n",
       "      <td>00:04</td>\n",
       "    </tr>\n",
       "    <tr>\n",
       "      <td>30</td>\n",
       "      <td>0.248134</td>\n",
       "      <td>0.317871</td>\n",
       "      <td>0.319282</td>\n",
       "      <td>00:04</td>\n",
       "    </tr>\n",
       "    <tr>\n",
       "      <td>31</td>\n",
       "      <td>0.237843</td>\n",
       "      <td>0.242466</td>\n",
       "      <td>0.252288</td>\n",
       "      <td>00:04</td>\n",
       "    </tr>\n",
       "    <tr>\n",
       "      <td>32</td>\n",
       "      <td>0.239299</td>\n",
       "      <td>0.239358</td>\n",
       "      <td>0.246686</td>\n",
       "      <td>00:04</td>\n",
       "    </tr>\n",
       "    <tr>\n",
       "      <td>33</td>\n",
       "      <td>0.243184</td>\n",
       "      <td>0.246009</td>\n",
       "      <td>0.258652</td>\n",
       "      <td>00:04</td>\n",
       "    </tr>\n",
       "    <tr>\n",
       "      <td>34</td>\n",
       "      <td>0.244568</td>\n",
       "      <td>0.245598</td>\n",
       "      <td>0.253941</td>\n",
       "      <td>00:04</td>\n",
       "    </tr>\n",
       "    <tr>\n",
       "      <td>35</td>\n",
       "      <td>0.238366</td>\n",
       "      <td>0.248358</td>\n",
       "      <td>0.260715</td>\n",
       "      <td>00:04</td>\n",
       "    </tr>\n",
       "    <tr>\n",
       "      <td>36</td>\n",
       "      <td>0.242368</td>\n",
       "      <td>0.244782</td>\n",
       "      <td>0.254811</td>\n",
       "      <td>00:04</td>\n",
       "    </tr>\n",
       "    <tr>\n",
       "      <td>37</td>\n",
       "      <td>0.239537</td>\n",
       "      <td>0.240444</td>\n",
       "      <td>0.249684</td>\n",
       "      <td>00:04</td>\n",
       "    </tr>\n",
       "    <tr>\n",
       "      <td>38</td>\n",
       "      <td>0.241217</td>\n",
       "      <td>0.240407</td>\n",
       "      <td>0.249347</td>\n",
       "      <td>00:04</td>\n",
       "    </tr>\n",
       "    <tr>\n",
       "      <td>39</td>\n",
       "      <td>0.237630</td>\n",
       "      <td>0.241463</td>\n",
       "      <td>0.254343</td>\n",
       "      <td>00:04</td>\n",
       "    </tr>\n",
       "    <tr>\n",
       "      <td>40</td>\n",
       "      <td>0.235306</td>\n",
       "      <td>0.240563</td>\n",
       "      <td>0.249532</td>\n",
       "      <td>00:04</td>\n",
       "    </tr>\n",
       "    <tr>\n",
       "      <td>41</td>\n",
       "      <td>0.232523</td>\n",
       "      <td>0.240703</td>\n",
       "      <td>0.252140</td>\n",
       "      <td>00:04</td>\n",
       "    </tr>\n",
       "    <tr>\n",
       "      <td>42</td>\n",
       "      <td>0.232016</td>\n",
       "      <td>0.253994</td>\n",
       "      <td>0.260510</td>\n",
       "      <td>00:04</td>\n",
       "    </tr>\n",
       "    <tr>\n",
       "      <td>43</td>\n",
       "      <td>0.234567</td>\n",
       "      <td>0.239576</td>\n",
       "      <td>0.245763</td>\n",
       "      <td>00:04</td>\n",
       "    </tr>\n",
       "    <tr>\n",
       "      <td>44</td>\n",
       "      <td>0.234904</td>\n",
       "      <td>0.255309</td>\n",
       "      <td>0.262133</td>\n",
       "      <td>00:04</td>\n",
       "    </tr>\n",
       "    <tr>\n",
       "      <td>45</td>\n",
       "      <td>0.230144</td>\n",
       "      <td>0.245197</td>\n",
       "      <td>0.253706</td>\n",
       "      <td>00:04</td>\n",
       "    </tr>\n",
       "    <tr>\n",
       "      <td>46</td>\n",
       "      <td>0.231746</td>\n",
       "      <td>0.238243</td>\n",
       "      <td>0.247471</td>\n",
       "      <td>00:04</td>\n",
       "    </tr>\n",
       "    <tr>\n",
       "      <td>47</td>\n",
       "      <td>0.229802</td>\n",
       "      <td>0.236276</td>\n",
       "      <td>0.244868</td>\n",
       "      <td>00:04</td>\n",
       "    </tr>\n",
       "    <tr>\n",
       "      <td>48</td>\n",
       "      <td>0.227411</td>\n",
       "      <td>0.236493</td>\n",
       "      <td>0.242809</td>\n",
       "      <td>00:04</td>\n",
       "    </tr>\n",
       "    <tr>\n",
       "      <td>49</td>\n",
       "      <td>0.227029</td>\n",
       "      <td>0.237878</td>\n",
       "      <td>0.246719</td>\n",
       "      <td>00:04</td>\n",
       "    </tr>\n",
       "    <tr>\n",
       "      <td>50</td>\n",
       "      <td>0.226053</td>\n",
       "      <td>0.238099</td>\n",
       "      <td>0.245218</td>\n",
       "      <td>00:04</td>\n",
       "    </tr>\n",
       "    <tr>\n",
       "      <td>51</td>\n",
       "      <td>0.226988</td>\n",
       "      <td>0.244523</td>\n",
       "      <td>0.256409</td>\n",
       "      <td>00:04</td>\n",
       "    </tr>\n",
       "    <tr>\n",
       "      <td>52</td>\n",
       "      <td>0.225860</td>\n",
       "      <td>0.239008</td>\n",
       "      <td>0.244771</td>\n",
       "      <td>00:04</td>\n",
       "    </tr>\n",
       "    <tr>\n",
       "      <td>53</td>\n",
       "      <td>0.225472</td>\n",
       "      <td>0.238535</td>\n",
       "      <td>0.248015</td>\n",
       "      <td>00:04</td>\n",
       "    </tr>\n",
       "    <tr>\n",
       "      <td>54</td>\n",
       "      <td>0.222403</td>\n",
       "      <td>0.238135</td>\n",
       "      <td>0.242323</td>\n",
       "      <td>00:04</td>\n",
       "    </tr>\n",
       "    <tr>\n",
       "      <td>55</td>\n",
       "      <td>0.220823</td>\n",
       "      <td>0.235248</td>\n",
       "      <td>0.240478</td>\n",
       "      <td>00:04</td>\n",
       "    </tr>\n",
       "    <tr>\n",
       "      <td>56</td>\n",
       "      <td>0.220888</td>\n",
       "      <td>0.236931</td>\n",
       "      <td>0.242992</td>\n",
       "      <td>00:04</td>\n",
       "    </tr>\n",
       "    <tr>\n",
       "      <td>57</td>\n",
       "      <td>0.218525</td>\n",
       "      <td>0.236615</td>\n",
       "      <td>0.243501</td>\n",
       "      <td>00:04</td>\n",
       "    </tr>\n",
       "    <tr>\n",
       "      <td>58</td>\n",
       "      <td>0.218413</td>\n",
       "      <td>0.239309</td>\n",
       "      <td>0.246568</td>\n",
       "      <td>00:04</td>\n",
       "    </tr>\n",
       "    <tr>\n",
       "      <td>59</td>\n",
       "      <td>0.216201</td>\n",
       "      <td>0.240458</td>\n",
       "      <td>0.247236</td>\n",
       "      <td>00:04</td>\n",
       "    </tr>\n",
       "    <tr>\n",
       "      <td>60</td>\n",
       "      <td>0.216084</td>\n",
       "      <td>0.238213</td>\n",
       "      <td>0.245142</td>\n",
       "      <td>00:04</td>\n",
       "    </tr>\n",
       "    <tr>\n",
       "      <td>61</td>\n",
       "      <td>0.216347</td>\n",
       "      <td>0.237497</td>\n",
       "      <td>0.243377</td>\n",
       "      <td>00:04</td>\n",
       "    </tr>\n",
       "    <tr>\n",
       "      <td>62</td>\n",
       "      <td>0.212460</td>\n",
       "      <td>0.236766</td>\n",
       "      <td>0.242560</td>\n",
       "      <td>00:04</td>\n",
       "    </tr>\n",
       "    <tr>\n",
       "      <td>63</td>\n",
       "      <td>0.212129</td>\n",
       "      <td>0.238755</td>\n",
       "      <td>0.245067</td>\n",
       "      <td>00:04</td>\n",
       "    </tr>\n",
       "    <tr>\n",
       "      <td>64</td>\n",
       "      <td>0.212669</td>\n",
       "      <td>0.239509</td>\n",
       "      <td>0.245876</td>\n",
       "      <td>00:04</td>\n",
       "    </tr>\n",
       "    <tr>\n",
       "      <td>65</td>\n",
       "      <td>0.210011</td>\n",
       "      <td>0.239834</td>\n",
       "      <td>0.247039</td>\n",
       "      <td>00:04</td>\n",
       "    </tr>\n",
       "    <tr>\n",
       "      <td>66</td>\n",
       "      <td>0.209333</td>\n",
       "      <td>0.238691</td>\n",
       "      <td>0.245117</td>\n",
       "      <td>00:04</td>\n",
       "    </tr>\n",
       "    <tr>\n",
       "      <td>67</td>\n",
       "      <td>0.210068</td>\n",
       "      <td>0.238075</td>\n",
       "      <td>0.244221</td>\n",
       "      <td>00:04</td>\n",
       "    </tr>\n",
       "    <tr>\n",
       "      <td>68</td>\n",
       "      <td>0.209449</td>\n",
       "      <td>0.240027</td>\n",
       "      <td>0.246565</td>\n",
       "      <td>00:04</td>\n",
       "    </tr>\n",
       "    <tr>\n",
       "      <td>69</td>\n",
       "      <td>0.209156</td>\n",
       "      <td>0.239223</td>\n",
       "      <td>0.245693</td>\n",
       "      <td>00:04</td>\n",
       "    </tr>\n",
       "  </tbody>\n",
       "</table>"
      ],
      "text/plain": [
       "<IPython.core.display.HTML object>"
      ]
     },
     "metadata": {},
     "output_type": "display_data"
    }
   ],
   "source": [
    "learn.fit_one_cycle(70, 5e-3)"
   ]
  },
  {
   "cell_type": "code",
   "execution_count": 283,
   "id": "julian-forum",
   "metadata": {},
   "outputs": [],
   "source": [
    "torch.save(learn.model.embeds[0].weight.data, 'timeemb64.pt')"
   ]
  },
  {
   "cell_type": "code",
   "execution_count": 180,
   "id": "economic-solution",
   "metadata": {},
   "outputs": [
    {
     "data": {
      "text/plain": [
       "3831"
      ]
     },
     "execution_count": 180,
     "metadata": {},
     "output_type": "execute_result"
    }
   ],
   "source": [
    "categorify = dls.procs[2]\n",
    "len(categorify.classes['time_id'])"
   ]
  },
  {
   "cell_type": "code",
   "execution_count": 213,
   "id": "manual-kentucky",
   "metadata": {},
   "outputs": [],
   "source": [
    "time_id_embs = dict()\n",
    "for idx, time_id in enumerate(categorify.classes['time_id']):\n",
    "    time_id_embs[time_id] = learn.model.embeds[0].weight[idx].tolist()\n",
    "\n",
    "stock_id_embs = dict()\n",
    "for idx, stock_id in enumerate(categorify.classes['stock_id']):\n",
    "    stock_id_embs[stock_id] = learn.model.embeds[1].weight[idx].tolist()\n",
    "\n",
    "all_embs = []\n",
    "for _, row in (train_df[['stock_id', 'time_id']].iterrows()):\n",
    "    emb1 = stock_id_embs[row.stock_id]\n",
    "    emb2 = time_id_embs[row.time_id]\n",
    "    all_embs.append(emb1+emb2)"
   ]
  },
  {
   "cell_type": "code",
   "execution_count": 214,
   "id": "threatened-workplace",
   "metadata": {},
   "outputs": [
    {
     "data": {
      "text/plain": [
       "(428931, 185)"
      ]
     },
     "execution_count": 214,
     "metadata": {},
     "output_type": "execute_result"
    }
   ],
   "source": [
    "np.array(all_embs).shape"
   ]
  },
  {
   "cell_type": "code",
   "execution_count": 239,
   "id": "alive-tattoo",
   "metadata": {},
   "outputs": [],
   "source": [
    "embs_df = pd.DataFrame(all_embs)\n",
    "\n",
    "train_with_embs = pd.concat([train_df.reset_index(), embs_df], axis=1)\n",
    "\n",
    "train_with_embs"
   ]
  },
  {
   "cell_type": "markdown",
   "id": "concerned-arrival",
   "metadata": {},
   "source": [
    "## Train 5m LGBM with embeddings\n"
   ]
  },
  {
   "cell_type": "code",
   "execution_count": 243,
   "id": "upper-graduate",
   "metadata": {},
   "outputs": [
    {
     "name": "stdout",
     "output_type": "stream",
     "text": [
      "Training fold 1\n"
     ]
    },
    {
     "name": "stderr",
     "output_type": "stream",
     "text": [
      "/home/slex/programy/anaconda3/envs/fastai/lib/python3.8/site-packages/lightgbm/basic.py:1551: UserWarning: Using categorical_feature in Dataset.\n",
      "  warnings.warn('Using categorical_feature in Dataset.')\n",
      "/home/slex/programy/anaconda3/envs/fastai/lib/python3.8/site-packages/lightgbm/basic.py:1286: UserWarning: Overriding the parameters from Reference Dataset.\n",
      "  warnings.warn('Overriding the parameters from Reference Dataset.')\n",
      "/home/slex/programy/anaconda3/envs/fastai/lib/python3.8/site-packages/lightgbm/basic.py:1098: UserWarning: categorical_column in param dict is overridden.\n",
      "  warnings.warn('{} in param dict is overridden.'.format(cat_alias))\n"
     ]
    },
    {
     "name": "stdout",
     "output_type": "stream",
     "text": [
      "Training until validation scores don't improve for 25 rounds\n",
      "[100]\ttraining's rmse: 0.000321247\ttraining's RMSPE: 0.220738\tvalid_1's rmse: 0.000331815\tvalid_1's RMSPE: 0.227375\n",
      "[200]\ttraining's rmse: 0.000310803\ttraining's RMSPE: 0.213562\tvalid_1's rmse: 0.000325983\tvalid_1's RMSPE: 0.223378\n",
      "[300]\ttraining's rmse: 0.000304356\ttraining's RMSPE: 0.209132\tvalid_1's rmse: 0.000323741\tvalid_1's RMSPE: 0.221842\n",
      "[400]\ttraining's rmse: 0.000299905\ttraining's RMSPE: 0.206073\tvalid_1's rmse: 0.000321768\tvalid_1's RMSPE: 0.22049\n",
      "[500]\ttraining's rmse: 0.000296391\ttraining's RMSPE: 0.203659\tvalid_1's rmse: 0.000321026\tvalid_1's RMSPE: 0.219982\n",
      "[600]\ttraining's rmse: 0.000293156\ttraining's RMSPE: 0.201436\tvalid_1's rmse: 0.000320485\tvalid_1's RMSPE: 0.219611\n",
      "Early stopping, best iteration is:\n",
      "[598]\ttraining's rmse: 0.000293213\ttraining's RMSPE: 0.201475\tvalid_1's rmse: 0.000320427\tvalid_1's RMSPE: 0.219571\n",
      "Training fold 2\n"
     ]
    },
    {
     "name": "stderr",
     "output_type": "stream",
     "text": [
      "/home/slex/programy/anaconda3/envs/fastai/lib/python3.8/site-packages/lightgbm/basic.py:1551: UserWarning: Using categorical_feature in Dataset.\n",
      "  warnings.warn('Using categorical_feature in Dataset.')\n",
      "/home/slex/programy/anaconda3/envs/fastai/lib/python3.8/site-packages/lightgbm/basic.py:1286: UserWarning: Overriding the parameters from Reference Dataset.\n",
      "  warnings.warn('Overriding the parameters from Reference Dataset.')\n",
      "/home/slex/programy/anaconda3/envs/fastai/lib/python3.8/site-packages/lightgbm/basic.py:1098: UserWarning: categorical_column in param dict is overridden.\n",
      "  warnings.warn('{} in param dict is overridden.'.format(cat_alias))\n"
     ]
    },
    {
     "name": "stdout",
     "output_type": "stream",
     "text": [
      "Training until validation scores don't improve for 25 rounds\n",
      "[100]\ttraining's rmse: 0.000319558\ttraining's RMSPE: 0.219963\tvalid_1's rmse: 0.000346515\tvalid_1's RMSPE: 0.235765\n",
      "[200]\ttraining's rmse: 0.000309336\ttraining's RMSPE: 0.212927\tvalid_1's rmse: 0.000341357\tvalid_1's RMSPE: 0.232255\n",
      "[300]\ttraining's rmse: 0.000303323\ttraining's RMSPE: 0.208788\tvalid_1's rmse: 0.000338558\tvalid_1's RMSPE: 0.230351\n",
      "[400]\ttraining's rmse: 0.000299239\ttraining's RMSPE: 0.205977\tvalid_1's rmse: 0.000336807\tvalid_1's RMSPE: 0.22916\n",
      "[500]\ttraining's rmse: 0.000295855\ttraining's RMSPE: 0.203647\tvalid_1's rmse: 0.00033606\tvalid_1's RMSPE: 0.228651\n",
      "[600]\ttraining's rmse: 0.000293012\ttraining's RMSPE: 0.201691\tvalid_1's rmse: 0.000335435\tvalid_1's RMSPE: 0.228226\n",
      "Early stopping, best iteration is:\n",
      "[577]\ttraining's rmse: 0.000293639\ttraining's RMSPE: 0.202122\tvalid_1's rmse: 0.000335384\tvalid_1's RMSPE: 0.228191\n",
      "Training fold 3\n"
     ]
    },
    {
     "name": "stderr",
     "output_type": "stream",
     "text": [
      "/home/slex/programy/anaconda3/envs/fastai/lib/python3.8/site-packages/lightgbm/basic.py:1551: UserWarning: Using categorical_feature in Dataset.\n",
      "  warnings.warn('Using categorical_feature in Dataset.')\n",
      "/home/slex/programy/anaconda3/envs/fastai/lib/python3.8/site-packages/lightgbm/basic.py:1286: UserWarning: Overriding the parameters from Reference Dataset.\n",
      "  warnings.warn('Overriding the parameters from Reference Dataset.')\n",
      "/home/slex/programy/anaconda3/envs/fastai/lib/python3.8/site-packages/lightgbm/basic.py:1098: UserWarning: categorical_column in param dict is overridden.\n",
      "  warnings.warn('{} in param dict is overridden.'.format(cat_alias))\n"
     ]
    },
    {
     "name": "stdout",
     "output_type": "stream",
     "text": [
      "Training until validation scores don't improve for 25 rounds\n",
      "[100]\ttraining's rmse: 0.000322604\ttraining's RMSPE: 0.219718\tvalid_1's rmse: 0.000386358\tvalid_1's RMSPE: 0.273929\n",
      "[200]\ttraining's rmse: 0.000312497\ttraining's RMSPE: 0.212835\tvalid_1's rmse: 0.000366235\tvalid_1's RMSPE: 0.259661\n",
      "Early stopping, best iteration is:\n",
      "[244]\ttraining's rmse: 0.000309899\ttraining's RMSPE: 0.211065\tvalid_1's rmse: 0.000359847\tvalid_1's RMSPE: 0.255132\n",
      "Training fold 4\n"
     ]
    },
    {
     "name": "stderr",
     "output_type": "stream",
     "text": [
      "/home/slex/programy/anaconda3/envs/fastai/lib/python3.8/site-packages/lightgbm/basic.py:1551: UserWarning: Using categorical_feature in Dataset.\n",
      "  warnings.warn('Using categorical_feature in Dataset.')\n",
      "/home/slex/programy/anaconda3/envs/fastai/lib/python3.8/site-packages/lightgbm/basic.py:1286: UserWarning: Overriding the parameters from Reference Dataset.\n",
      "  warnings.warn('Overriding the parameters from Reference Dataset.')\n",
      "/home/slex/programy/anaconda3/envs/fastai/lib/python3.8/site-packages/lightgbm/basic.py:1098: UserWarning: categorical_column in param dict is overridden.\n",
      "  warnings.warn('{} in param dict is overridden.'.format(cat_alias))\n"
     ]
    },
    {
     "name": "stdout",
     "output_type": "stream",
     "text": [
      "Training until validation scores don't improve for 25 rounds\n",
      "[100]\ttraining's rmse: 0.0003212\ttraining's RMSPE: 0.220684\tvalid_1's rmse: 0.00034142\tvalid_1's RMSPE: 0.234051\n",
      "[200]\ttraining's rmse: 0.000310534\ttraining's RMSPE: 0.213356\tvalid_1's rmse: 0.000332464\tvalid_1's RMSPE: 0.227911\n",
      "[300]\ttraining's rmse: 0.000304149\ttraining's RMSPE: 0.208969\tvalid_1's rmse: 0.000328246\tvalid_1's RMSPE: 0.22502\n",
      "[400]\ttraining's rmse: 0.000299562\ttraining's RMSPE: 0.205817\tvalid_1's rmse: 0.000326137\tvalid_1's RMSPE: 0.223574\n",
      "[500]\ttraining's rmse: 0.000296156\ttraining's RMSPE: 0.203477\tvalid_1's rmse: 0.000324966\tvalid_1's RMSPE: 0.222771\n",
      "[600]\ttraining's rmse: 0.000292991\ttraining's RMSPE: 0.201303\tvalid_1's rmse: 0.000324561\tvalid_1's RMSPE: 0.222494\n",
      "[700]\ttraining's rmse: 0.000290421\ttraining's RMSPE: 0.199537\tvalid_1's rmse: 0.000323758\tvalid_1's RMSPE: 0.221943\n",
      "Early stopping, best iteration is:\n",
      "[724]\ttraining's rmse: 0.00028987\ttraining's RMSPE: 0.199158\tvalid_1's rmse: 0.000323645\tvalid_1's RMSPE: 0.221866\n",
      "Training fold 5\n"
     ]
    },
    {
     "name": "stderr",
     "output_type": "stream",
     "text": [
      "/home/slex/programy/anaconda3/envs/fastai/lib/python3.8/site-packages/lightgbm/basic.py:1551: UserWarning: Using categorical_feature in Dataset.\n",
      "  warnings.warn('Using categorical_feature in Dataset.')\n",
      "/home/slex/programy/anaconda3/envs/fastai/lib/python3.8/site-packages/lightgbm/basic.py:1286: UserWarning: Overriding the parameters from Reference Dataset.\n",
      "  warnings.warn('Overriding the parameters from Reference Dataset.')\n",
      "/home/slex/programy/anaconda3/envs/fastai/lib/python3.8/site-packages/lightgbm/basic.py:1098: UserWarning: categorical_column in param dict is overridden.\n",
      "  warnings.warn('{} in param dict is overridden.'.format(cat_alias))\n"
     ]
    },
    {
     "name": "stdout",
     "output_type": "stream",
     "text": [
      "Training until validation scores don't improve for 25 rounds\n",
      "[100]\ttraining's rmse: 0.00031992\ttraining's RMSPE: 0.220786\tvalid_1's rmse: 0.000334967\tvalid_1's RMSPE: 0.225459\n",
      "[200]\ttraining's rmse: 0.000309178\ttraining's RMSPE: 0.213373\tvalid_1's rmse: 0.00032915\tvalid_1's RMSPE: 0.221544\n",
      "[300]\ttraining's rmse: 0.000303029\ttraining's RMSPE: 0.209129\tvalid_1's rmse: 0.000326102\tvalid_1's RMSPE: 0.219492\n",
      "[400]\ttraining's rmse: 0.000298654\ttraining's RMSPE: 0.20611\tvalid_1's rmse: 0.000324334\tvalid_1's RMSPE: 0.218302\n",
      "[500]\ttraining's rmse: 0.000295011\ttraining's RMSPE: 0.203596\tvalid_1's rmse: 0.000323338\tvalid_1's RMSPE: 0.217632\n",
      "[600]\ttraining's rmse: 0.000292249\ttraining's RMSPE: 0.20169\tvalid_1's rmse: 0.000322698\tvalid_1's RMSPE: 0.217202\n",
      "Early stopping, best iteration is:\n",
      "[584]\ttraining's rmse: 0.00029264\ttraining's RMSPE: 0.201959\tvalid_1's rmse: 0.000322624\tvalid_1's RMSPE: 0.217151\n",
      "Our out of folds RMSPE is 0.22880301189538851\n"
     ]
    }
   ],
   "source": [
    "_=train_models(train_with_embs)"
   ]
  },
  {
   "cell_type": "markdown",
   "id": "knowing-chinese",
   "metadata": {},
   "source": [
    "## Baseline LGMB 10m"
   ]
  },
  {
   "cell_type": "code",
   "execution_count": 245,
   "id": "refined-termination",
   "metadata": {},
   "outputs": [],
   "source": [
    "train_10m = pd.read_csv('train_with_features_NO_ST.csv')"
   ]
  },
  {
   "cell_type": "code",
   "execution_count": 248,
   "id": "alert-antarctica",
   "metadata": {},
   "outputs": [],
   "source": [
    "from optiver_features import get_time_stock\n",
    "train_10m_time_stock = get_time_stock(train_10m)"
   ]
  },
  {
   "cell_type": "code",
   "execution_count": 249,
   "id": "infectious-thermal",
   "metadata": {},
   "outputs": [
    {
     "name": "stdout",
     "output_type": "stream",
     "text": [
      "Training fold 1\n"
     ]
    },
    {
     "name": "stderr",
     "output_type": "stream",
     "text": [
      "/home/slex/programy/anaconda3/envs/fastai/lib/python3.8/site-packages/lightgbm/basic.py:1551: UserWarning: Using categorical_feature in Dataset.\n",
      "  warnings.warn('Using categorical_feature in Dataset.')\n",
      "/home/slex/programy/anaconda3/envs/fastai/lib/python3.8/site-packages/lightgbm/basic.py:1286: UserWarning: Overriding the parameters from Reference Dataset.\n",
      "  warnings.warn('Overriding the parameters from Reference Dataset.')\n",
      "/home/slex/programy/anaconda3/envs/fastai/lib/python3.8/site-packages/lightgbm/basic.py:1098: UserWarning: categorical_column in param dict is overridden.\n",
      "  warnings.warn('{} in param dict is overridden.'.format(cat_alias))\n"
     ]
    },
    {
     "name": "stdout",
     "output_type": "stream",
     "text": [
      "Training until validation scores don't improve for 25 rounds\n",
      "[100]\ttraining's rmse: 0.000472369\ttraining's RMSPE: 0.218697\tvalid_1's rmse: 0.000483167\tvalid_1's RMSPE: 0.223294\n",
      "[200]\ttraining's rmse: 0.000456434\ttraining's RMSPE: 0.211319\tvalid_1's rmse: 0.000471963\tvalid_1's RMSPE: 0.218117\n",
      "[300]\ttraining's rmse: 0.000444947\ttraining's RMSPE: 0.206001\tvalid_1's rmse: 0.000463557\tvalid_1's RMSPE: 0.214231\n",
      "[400]\ttraining's rmse: 0.00043609\ttraining's RMSPE: 0.201901\tvalid_1's rmse: 0.000457713\tvalid_1's RMSPE: 0.211531\n",
      "[500]\ttraining's rmse: 0.000428288\ttraining's RMSPE: 0.198288\tvalid_1's rmse: 0.000452597\tvalid_1's RMSPE: 0.209167\n",
      "[600]\ttraining's rmse: 0.000422108\ttraining's RMSPE: 0.195427\tvalid_1's rmse: 0.000449117\tvalid_1's RMSPE: 0.207558\n",
      "[700]\ttraining's rmse: 0.000416375\ttraining's RMSPE: 0.192773\tvalid_1's rmse: 0.000445402\tvalid_1's RMSPE: 0.205841\n",
      "[800]\ttraining's rmse: 0.000410935\ttraining's RMSPE: 0.190254\tvalid_1's rmse: 0.00044216\tvalid_1's RMSPE: 0.204343\n",
      "[900]\ttraining's rmse: 0.000406604\ttraining's RMSPE: 0.188249\tvalid_1's rmse: 0.000440674\tvalid_1's RMSPE: 0.203656\n",
      "[1000]\ttraining's rmse: 0.000402775\ttraining's RMSPE: 0.186476\tvalid_1's rmse: 0.00043859\tvalid_1's RMSPE: 0.202693\n",
      "[1100]\ttraining's rmse: 0.000399156\ttraining's RMSPE: 0.184801\tvalid_1's rmse: 0.000437331\tvalid_1's RMSPE: 0.202111\n",
      "[1200]\ttraining's rmse: 0.000395929\ttraining's RMSPE: 0.183307\tvalid_1's rmse: 0.000436158\tvalid_1's RMSPE: 0.201569\n",
      "[1300]\ttraining's rmse: 0.000392588\ttraining's RMSPE: 0.18176\tvalid_1's rmse: 0.000434932\tvalid_1's RMSPE: 0.201003\n",
      "[1400]\ttraining's rmse: 0.000389625\ttraining's RMSPE: 0.180388\tvalid_1's rmse: 0.000433628\tvalid_1's RMSPE: 0.2004\n",
      "Early stopping, best iteration is:\n",
      "[1434]\ttraining's rmse: 0.000388734\ttraining's RMSPE: 0.179976\tvalid_1's rmse: 0.000433368\tvalid_1's RMSPE: 0.20028\n",
      "Training fold 2\n"
     ]
    },
    {
     "name": "stderr",
     "output_type": "stream",
     "text": [
      "/home/slex/programy/anaconda3/envs/fastai/lib/python3.8/site-packages/lightgbm/basic.py:1551: UserWarning: Using categorical_feature in Dataset.\n",
      "  warnings.warn('Using categorical_feature in Dataset.')\n",
      "/home/slex/programy/anaconda3/envs/fastai/lib/python3.8/site-packages/lightgbm/basic.py:1286: UserWarning: Overriding the parameters from Reference Dataset.\n",
      "  warnings.warn('Overriding the parameters from Reference Dataset.')\n",
      "/home/slex/programy/anaconda3/envs/fastai/lib/python3.8/site-packages/lightgbm/basic.py:1098: UserWarning: categorical_column in param dict is overridden.\n",
      "  warnings.warn('{} in param dict is overridden.'.format(cat_alias))\n"
     ]
    },
    {
     "name": "stdout",
     "output_type": "stream",
     "text": [
      "Training until validation scores don't improve for 25 rounds\n",
      "[100]\ttraining's rmse: 0.00047405\ttraining's RMSPE: 0.219247\tvalid_1's rmse: 0.000493132\tvalid_1's RMSPE: 0.228847\n",
      "[200]\ttraining's rmse: 0.000457643\ttraining's RMSPE: 0.211659\tvalid_1's rmse: 0.000482029\tvalid_1's RMSPE: 0.223694\n",
      "[300]\ttraining's rmse: 0.000446028\ttraining's RMSPE: 0.206287\tvalid_1's rmse: 0.000474004\tvalid_1's RMSPE: 0.21997\n",
      "[400]\ttraining's rmse: 0.000437256\ttraining's RMSPE: 0.20223\tvalid_1's rmse: 0.000468424\tvalid_1's RMSPE: 0.217381\n",
      "[500]\ttraining's rmse: 0.000429788\ttraining's RMSPE: 0.198776\tvalid_1's rmse: 0.000463568\tvalid_1's RMSPE: 0.215127\n",
      "Early stopping, best iteration is:\n",
      "[546]\ttraining's rmse: 0.000426411\ttraining's RMSPE: 0.197214\tvalid_1's rmse: 0.0004622\tvalid_1's RMSPE: 0.214492\n",
      "Training fold 3\n"
     ]
    },
    {
     "name": "stderr",
     "output_type": "stream",
     "text": [
      "/home/slex/programy/anaconda3/envs/fastai/lib/python3.8/site-packages/lightgbm/basic.py:1551: UserWarning: Using categorical_feature in Dataset.\n",
      "  warnings.warn('Using categorical_feature in Dataset.')\n",
      "/home/slex/programy/anaconda3/envs/fastai/lib/python3.8/site-packages/lightgbm/basic.py:1286: UserWarning: Overriding the parameters from Reference Dataset.\n",
      "  warnings.warn('Overriding the parameters from Reference Dataset.')\n",
      "/home/slex/programy/anaconda3/envs/fastai/lib/python3.8/site-packages/lightgbm/basic.py:1098: UserWarning: categorical_column in param dict is overridden.\n",
      "  warnings.warn('{} in param dict is overridden.'.format(cat_alias))\n"
     ]
    },
    {
     "name": "stdout",
     "output_type": "stream",
     "text": [
      "Training until validation scores don't improve for 25 rounds\n",
      "[100]\ttraining's rmse: 0.000471619\ttraining's RMSPE: 0.21837\tvalid_1's rmse: 0.000478397\tvalid_1's RMSPE: 0.221005\n",
      "[200]\ttraining's rmse: 0.000456622\ttraining's RMSPE: 0.211427\tvalid_1's rmse: 0.000466537\tvalid_1's RMSPE: 0.215526\n",
      "[300]\ttraining's rmse: 0.000445607\ttraining's RMSPE: 0.206327\tvalid_1's rmse: 0.000458002\tvalid_1's RMSPE: 0.211583\n",
      "[400]\ttraining's rmse: 0.000436655\ttraining's RMSPE: 0.202182\tvalid_1's rmse: 0.000451147\tvalid_1's RMSPE: 0.208416\n",
      "[500]\ttraining's rmse: 0.000429267\ttraining's RMSPE: 0.198761\tvalid_1's rmse: 0.000445774\tvalid_1's RMSPE: 0.205934\n",
      "[600]\ttraining's rmse: 0.000422695\ttraining's RMSPE: 0.195718\tvalid_1's rmse: 0.000441604\tvalid_1's RMSPE: 0.204008\n",
      "[700]\ttraining's rmse: 0.00041678\ttraining's RMSPE: 0.192979\tvalid_1's rmse: 0.000438011\tvalid_1's RMSPE: 0.202348\n",
      "[800]\ttraining's rmse: 0.000411842\ttraining's RMSPE: 0.190692\tvalid_1's rmse: 0.000434914\tvalid_1's RMSPE: 0.200917\n",
      "[900]\ttraining's rmse: 0.000407066\ttraining's RMSPE: 0.188481\tvalid_1's rmse: 0.000432024\tvalid_1's RMSPE: 0.199582\n",
      "[1000]\ttraining's rmse: 0.000403197\ttraining's RMSPE: 0.18669\tvalid_1's rmse: 0.000430291\tvalid_1's RMSPE: 0.198781\n",
      "[1100]\ttraining's rmse: 0.000399825\ttraining's RMSPE: 0.185128\tvalid_1's rmse: 0.000428868\tvalid_1's RMSPE: 0.198124\n",
      "[1200]\ttraining's rmse: 0.000396409\ttraining's RMSPE: 0.183547\tvalid_1's rmse: 0.00042753\tvalid_1's RMSPE: 0.197506\n",
      "[1300]\ttraining's rmse: 0.000393096\ttraining's RMSPE: 0.182013\tvalid_1's rmse: 0.000426216\tvalid_1's RMSPE: 0.196899\n",
      "[1400]\ttraining's rmse: 0.000390562\ttraining's RMSPE: 0.180839\tvalid_1's rmse: 0.000425153\tvalid_1's RMSPE: 0.196408\n",
      "[1500]\ttraining's rmse: 0.0003878\ttraining's RMSPE: 0.179561\tvalid_1's rmse: 0.000424147\tvalid_1's RMSPE: 0.195943\n",
      "[1600]\ttraining's rmse: 0.000384993\ttraining's RMSPE: 0.178261\tvalid_1's rmse: 0.000423143\tvalid_1's RMSPE: 0.195479\n",
      "[1700]\ttraining's rmse: 0.000382415\ttraining's RMSPE: 0.177067\tvalid_1's rmse: 0.00042211\tvalid_1's RMSPE: 0.195002\n",
      "[1800]\ttraining's rmse: 0.000380005\ttraining's RMSPE: 0.175951\tvalid_1's rmse: 0.000421364\tvalid_1's RMSPE: 0.194657\n",
      "[1900]\ttraining's rmse: 0.000377658\ttraining's RMSPE: 0.174864\tvalid_1's rmse: 0.000420855\tvalid_1's RMSPE: 0.194422\n",
      "Early stopping, best iteration is:\n",
      "[1919]\ttraining's rmse: 0.000377248\ttraining's RMSPE: 0.174675\tvalid_1's rmse: 0.000420757\tvalid_1's RMSPE: 0.194377\n",
      "Training fold 4\n"
     ]
    },
    {
     "name": "stderr",
     "output_type": "stream",
     "text": [
      "/home/slex/programy/anaconda3/envs/fastai/lib/python3.8/site-packages/lightgbm/basic.py:1551: UserWarning: Using categorical_feature in Dataset.\n",
      "  warnings.warn('Using categorical_feature in Dataset.')\n",
      "/home/slex/programy/anaconda3/envs/fastai/lib/python3.8/site-packages/lightgbm/basic.py:1286: UserWarning: Overriding the parameters from Reference Dataset.\n",
      "  warnings.warn('Overriding the parameters from Reference Dataset.')\n",
      "/home/slex/programy/anaconda3/envs/fastai/lib/python3.8/site-packages/lightgbm/basic.py:1098: UserWarning: categorical_column in param dict is overridden.\n",
      "  warnings.warn('{} in param dict is overridden.'.format(cat_alias))\n"
     ]
    },
    {
     "name": "stdout",
     "output_type": "stream",
     "text": [
      "Training until validation scores don't improve for 25 rounds\n",
      "[100]\ttraining's rmse: 0.000473051\ttraining's RMSPE: 0.218659\tvalid_1's rmse: 0.000479689\tvalid_1's RMSPE: 0.223117\n",
      "[200]\ttraining's rmse: 0.000457686\ttraining's RMSPE: 0.211557\tvalid_1's rmse: 0.000469326\tvalid_1's RMSPE: 0.218297\n",
      "[300]\ttraining's rmse: 0.000445643\ttraining's RMSPE: 0.20599\tvalid_1's rmse: 0.000460368\tvalid_1's RMSPE: 0.214131\n",
      "[400]\ttraining's rmse: 0.000436376\ttraining's RMSPE: 0.201707\tvalid_1's rmse: 0.000453278\tvalid_1's RMSPE: 0.210833\n",
      "[500]\ttraining's rmse: 0.000428336\ttraining's RMSPE: 0.197991\tvalid_1's rmse: 0.0004482\tvalid_1's RMSPE: 0.208471\n",
      "[600]\ttraining's rmse: 0.000422644\ttraining's RMSPE: 0.19536\tvalid_1's rmse: 0.000446044\tvalid_1's RMSPE: 0.207468\n",
      "[700]\ttraining's rmse: 0.000417281\ttraining's RMSPE: 0.192881\tvalid_1's rmse: 0.000443371\tvalid_1's RMSPE: 0.206225\n",
      "[800]\ttraining's rmse: 0.00041215\ttraining's RMSPE: 0.190509\tvalid_1's rmse: 0.000440851\tvalid_1's RMSPE: 0.205053\n",
      "[900]\ttraining's rmse: 0.000407811\ttraining's RMSPE: 0.188503\tvalid_1's rmse: 0.000438562\tvalid_1's RMSPE: 0.203988\n",
      "[1000]\ttraining's rmse: 0.000403705\ttraining's RMSPE: 0.186605\tvalid_1's rmse: 0.000437039\tvalid_1's RMSPE: 0.20328\n",
      "[1100]\ttraining's rmse: 0.000399722\ttraining's RMSPE: 0.184764\tvalid_1's rmse: 0.000435039\tvalid_1's RMSPE: 0.20235\n",
      "[1200]\ttraining's rmse: 0.000395955\ttraining's RMSPE: 0.183023\tvalid_1's rmse: 0.000433577\tvalid_1's RMSPE: 0.201669\n",
      "[1300]\ttraining's rmse: 0.000392768\ttraining's RMSPE: 0.18155\tvalid_1's rmse: 0.000432426\tvalid_1's RMSPE: 0.201134\n",
      "[1400]\ttraining's rmse: 0.00038989\ttraining's RMSPE: 0.180219\tvalid_1's rmse: 0.000431106\tvalid_1's RMSPE: 0.20052\n",
      "[1500]\ttraining's rmse: 0.000387105\ttraining's RMSPE: 0.178932\tvalid_1's rmse: 0.000430259\tvalid_1's RMSPE: 0.200126\n",
      "Early stopping, best iteration is:\n",
      "[1534]\ttraining's rmse: 0.000386179\ttraining's RMSPE: 0.178504\tvalid_1's rmse: 0.000429901\tvalid_1's RMSPE: 0.199959\n",
      "Training fold 5\n"
     ]
    },
    {
     "name": "stderr",
     "output_type": "stream",
     "text": [
      "/home/slex/programy/anaconda3/envs/fastai/lib/python3.8/site-packages/lightgbm/basic.py:1551: UserWarning: Using categorical_feature in Dataset.\n",
      "  warnings.warn('Using categorical_feature in Dataset.')\n",
      "/home/slex/programy/anaconda3/envs/fastai/lib/python3.8/site-packages/lightgbm/basic.py:1286: UserWarning: Overriding the parameters from Reference Dataset.\n",
      "  warnings.warn('Overriding the parameters from Reference Dataset.')\n",
      "/home/slex/programy/anaconda3/envs/fastai/lib/python3.8/site-packages/lightgbm/basic.py:1098: UserWarning: categorical_column in param dict is overridden.\n",
      "  warnings.warn('{} in param dict is overridden.'.format(cat_alias))\n"
     ]
    },
    {
     "name": "stdout",
     "output_type": "stream",
     "text": [
      "Training until validation scores don't improve for 25 rounds\n",
      "[100]\ttraining's rmse: 0.000471791\ttraining's RMSPE: 0.218595\tvalid_1's rmse: 0.000485867\tvalid_1's RMSPE: 0.223856\n",
      "[200]\ttraining's rmse: 0.000456254\ttraining's RMSPE: 0.211397\tvalid_1's rmse: 0.000472728\tvalid_1's RMSPE: 0.217803\n",
      "[300]\ttraining's rmse: 0.000444348\ttraining's RMSPE: 0.20588\tvalid_1's rmse: 0.000463477\tvalid_1's RMSPE: 0.213541\n",
      "[400]\ttraining's rmse: 0.00043573\ttraining's RMSPE: 0.201887\tvalid_1's rmse: 0.000457275\tvalid_1's RMSPE: 0.210683\n",
      "[500]\ttraining's rmse: 0.000428962\ttraining's RMSPE: 0.198751\tvalid_1's rmse: 0.000453733\tvalid_1's RMSPE: 0.209051\n",
      "[600]\ttraining's rmse: 0.000422235\ttraining's RMSPE: 0.195634\tvalid_1's rmse: 0.000448767\tvalid_1's RMSPE: 0.206763\n",
      "[700]\ttraining's rmse: 0.000416327\ttraining's RMSPE: 0.192897\tvalid_1's rmse: 0.000445273\tvalid_1's RMSPE: 0.205153\n",
      "[800]\ttraining's rmse: 0.000411091\ttraining's RMSPE: 0.190471\tvalid_1's rmse: 0.000442164\tvalid_1's RMSPE: 0.203721\n",
      "[900]\ttraining's rmse: 0.000406935\ttraining's RMSPE: 0.188545\tvalid_1's rmse: 0.000440121\tvalid_1's RMSPE: 0.20278\n",
      "[1000]\ttraining's rmse: 0.000403094\ttraining's RMSPE: 0.186766\tvalid_1's rmse: 0.000438835\tvalid_1's RMSPE: 0.202187\n",
      "[1100]\ttraining's rmse: 0.000399209\ttraining's RMSPE: 0.184966\tvalid_1's rmse: 0.000437098\tvalid_1's RMSPE: 0.201387\n",
      "[1200]\ttraining's rmse: 0.000395919\ttraining's RMSPE: 0.183441\tvalid_1's rmse: 0.000435545\tvalid_1's RMSPE: 0.200671\n",
      "[1300]\ttraining's rmse: 0.000392668\ttraining's RMSPE: 0.181935\tvalid_1's rmse: 0.000434369\tvalid_1's RMSPE: 0.200129\n",
      "[1400]\ttraining's rmse: 0.000389613\ttraining's RMSPE: 0.180519\tvalid_1's rmse: 0.000433492\tvalid_1's RMSPE: 0.199725\n",
      "Early stopping, best iteration is:\n",
      "[1429]\ttraining's rmse: 0.00038874\ttraining's RMSPE: 0.180115\tvalid_1's rmse: 0.000432973\tvalid_1's RMSPE: 0.199486\n",
      "Our out of folds RMSPE is 0.20183155578547413\n"
     ]
    }
   ],
   "source": [
    "_=train_models(train_10m_time_stock)"
   ]
  },
  {
   "cell_type": "markdown",
   "id": "ultimate-involvement",
   "metadata": {},
   "source": [
    "## LGBM 10m with trained embeddings"
   ]
  },
  {
   "cell_type": "code",
   "execution_count": 272,
   "id": "facial-auckland",
   "metadata": {},
   "outputs": [],
   "source": [
    "train_10m = pd.read_csv('train_with_features_NO_ST.csv')"
   ]
  },
  {
   "cell_type": "code",
   "execution_count": 273,
   "id": "floral-cooling",
   "metadata": {},
   "outputs": [],
   "source": [
    "all_embs = []\n",
    "for _, row in (train_10m[['stock_id', 'time_id']].iterrows()):\n",
    "    emb1 = stock_id_embs[row.stock_id]\n",
    "    emb2 = time_id_embs[row.time_id]\n",
    "    all_embs.append(emb1+emb2)"
   ]
  },
  {
   "cell_type": "code",
   "execution_count": 274,
   "id": "hollow-minimum",
   "metadata": {},
   "outputs": [],
   "source": [
    "embs_df = pd.DataFrame(all_embs)\n",
    "\n",
    "train_10m_with_embs = pd.concat([train_10m.reset_index(), embs_df], axis=1)"
   ]
  },
  {
   "cell_type": "code",
   "execution_count": 275,
   "id": "introductory-insured",
   "metadata": {},
   "outputs": [
    {
     "data": {
      "text/plain": [
       "0          97696\n",
       "1          82290\n",
       "2          78274\n",
       "3          52232\n",
       "4          60407\n",
       "           ...  \n",
       "428927    125874\n",
       "428928     54261\n",
       "428929     89112\n",
       "428930    170140\n",
       "428931    115295\n",
       "Name: total_volume_sum, Length: 428932, dtype: int64"
      ]
     },
     "execution_count": 275,
     "metadata": {},
     "output_type": "execute_result"
    }
   ],
   "source": [
    "train_10m_with_embs['total_volume_sum']"
   ]
  },
  {
   "cell_type": "code",
   "execution_count": 276,
   "id": "present-swift",
   "metadata": {},
   "outputs": [],
   "source": [
    "train_10m_with_embs = train_10m_with_embs.drop('index', axis=1)"
   ]
  },
  {
   "cell_type": "code",
   "execution_count": 277,
   "id": "designing-technique",
   "metadata": {},
   "outputs": [],
   "source": [
    "train_10m_with_embs.to_csv('train_10m_with_embs.csv', index=False)"
   ]
  },
  {
   "cell_type": "code",
   "execution_count": 278,
   "id": "threaded-jacob",
   "metadata": {},
   "outputs": [
    {
     "name": "stdout",
     "output_type": "stream",
     "text": [
      "Training fold 1\n"
     ]
    },
    {
     "name": "stderr",
     "output_type": "stream",
     "text": [
      "/home/slex/programy/anaconda3/envs/fastai/lib/python3.8/site-packages/lightgbm/basic.py:1551: UserWarning: Using categorical_feature in Dataset.\n",
      "  warnings.warn('Using categorical_feature in Dataset.')\n",
      "/home/slex/programy/anaconda3/envs/fastai/lib/python3.8/site-packages/lightgbm/basic.py:1286: UserWarning: Overriding the parameters from Reference Dataset.\n",
      "  warnings.warn('Overriding the parameters from Reference Dataset.')\n",
      "/home/slex/programy/anaconda3/envs/fastai/lib/python3.8/site-packages/lightgbm/basic.py:1098: UserWarning: categorical_column in param dict is overridden.\n",
      "  warnings.warn('{} in param dict is overridden.'.format(cat_alias))\n"
     ]
    },
    {
     "name": "stdout",
     "output_type": "stream",
     "text": [
      "Training until validation scores don't improve for 25 rounds\n",
      "[100]\ttraining's rmse: 0.000473355\ttraining's RMSPE: 0.219154\tvalid_1's rmse: 0.000484163\tvalid_1's RMSPE: 0.223755\n",
      "[200]\ttraining's rmse: 0.000452656\ttraining's RMSPE: 0.20957\tvalid_1's rmse: 0.000467218\tvalid_1's RMSPE: 0.215923\n",
      "[300]\ttraining's rmse: 0.000439053\ttraining's RMSPE: 0.203272\tvalid_1's rmse: 0.000456849\tvalid_1's RMSPE: 0.211132\n",
      "[400]\ttraining's rmse: 0.000428527\ttraining's RMSPE: 0.198399\tvalid_1's rmse: 0.000448811\tvalid_1's RMSPE: 0.207417\n",
      "[500]\ttraining's rmse: 0.000419537\ttraining's RMSPE: 0.194237\tvalid_1's rmse: 0.000442528\tvalid_1's RMSPE: 0.204513\n",
      "[600]\ttraining's rmse: 0.000412516\ttraining's RMSPE: 0.190986\tvalid_1's rmse: 0.000437815\tvalid_1's RMSPE: 0.202335\n",
      "[700]\ttraining's rmse: 0.000406529\ttraining's RMSPE: 0.188215\tvalid_1's rmse: 0.000434523\tvalid_1's RMSPE: 0.200813\n",
      "[800]\ttraining's rmse: 0.000401461\ttraining's RMSPE: 0.185868\tvalid_1's rmse: 0.000431864\tvalid_1's RMSPE: 0.199585\n",
      "[900]\ttraining's rmse: 0.000396538\ttraining's RMSPE: 0.183589\tvalid_1's rmse: 0.000429083\tvalid_1's RMSPE: 0.198299\n",
      "[1000]\ttraining's rmse: 0.000392253\ttraining's RMSPE: 0.181605\tvalid_1's rmse: 0.000427308\tvalid_1's RMSPE: 0.197479\n",
      "[1100]\ttraining's rmse: 0.000388469\ttraining's RMSPE: 0.179853\tvalid_1's rmse: 0.00042595\tvalid_1's RMSPE: 0.196852\n",
      "[1200]\ttraining's rmse: 0.00038472\ttraining's RMSPE: 0.178117\tvalid_1's rmse: 0.000424447\tvalid_1's RMSPE: 0.196157\n",
      "[1300]\ttraining's rmse: 0.000381458\ttraining's RMSPE: 0.176607\tvalid_1's rmse: 0.000423623\tvalid_1's RMSPE: 0.195776\n",
      "Early stopping, best iteration is:\n",
      "[1295]\ttraining's rmse: 0.000381587\ttraining's RMSPE: 0.176667\tvalid_1's rmse: 0.000423432\tvalid_1's RMSPE: 0.195688\n",
      "Training fold 2\n"
     ]
    },
    {
     "name": "stderr",
     "output_type": "stream",
     "text": [
      "/home/slex/programy/anaconda3/envs/fastai/lib/python3.8/site-packages/lightgbm/basic.py:1551: UserWarning: Using categorical_feature in Dataset.\n",
      "  warnings.warn('Using categorical_feature in Dataset.')\n",
      "/home/slex/programy/anaconda3/envs/fastai/lib/python3.8/site-packages/lightgbm/basic.py:1286: UserWarning: Overriding the parameters from Reference Dataset.\n",
      "  warnings.warn('Overriding the parameters from Reference Dataset.')\n",
      "/home/slex/programy/anaconda3/envs/fastai/lib/python3.8/site-packages/lightgbm/basic.py:1098: UserWarning: categorical_column in param dict is overridden.\n",
      "  warnings.warn('{} in param dict is overridden.'.format(cat_alias))\n"
     ]
    },
    {
     "name": "stdout",
     "output_type": "stream",
     "text": [
      "Training until validation scores don't improve for 25 rounds\n",
      "[100]\ttraining's rmse: 0.000473481\ttraining's RMSPE: 0.218984\tvalid_1's rmse: 0.000493451\tvalid_1's RMSPE: 0.228995\n",
      "[200]\ttraining's rmse: 0.000453699\ttraining's RMSPE: 0.209835\tvalid_1's rmse: 0.000480195\tvalid_1's RMSPE: 0.222843\n",
      "[300]\ttraining's rmse: 0.000439207\ttraining's RMSPE: 0.203133\tvalid_1's rmse: 0.000470383\tvalid_1's RMSPE: 0.21829\n",
      "[400]\ttraining's rmse: 0.000428393\ttraining's RMSPE: 0.198131\tvalid_1's rmse: 0.000463588\tvalid_1's RMSPE: 0.215136\n",
      "[500]\ttraining's rmse: 0.000420321\ttraining's RMSPE: 0.194398\tvalid_1's rmse: 0.000458937\tvalid_1's RMSPE: 0.212978\n",
      "Early stopping, best iteration is:\n",
      "[563]\ttraining's rmse: 0.000415771\ttraining's RMSPE: 0.192293\tvalid_1's rmse: 0.000456764\tvalid_1's RMSPE: 0.21197\n",
      "Training fold 3\n"
     ]
    },
    {
     "name": "stderr",
     "output_type": "stream",
     "text": [
      "/home/slex/programy/anaconda3/envs/fastai/lib/python3.8/site-packages/lightgbm/basic.py:1551: UserWarning: Using categorical_feature in Dataset.\n",
      "  warnings.warn('Using categorical_feature in Dataset.')\n",
      "/home/slex/programy/anaconda3/envs/fastai/lib/python3.8/site-packages/lightgbm/basic.py:1286: UserWarning: Overriding the parameters from Reference Dataset.\n",
      "  warnings.warn('Overriding the parameters from Reference Dataset.')\n",
      "/home/slex/programy/anaconda3/envs/fastai/lib/python3.8/site-packages/lightgbm/basic.py:1098: UserWarning: categorical_column in param dict is overridden.\n",
      "  warnings.warn('{} in param dict is overridden.'.format(cat_alias))\n"
     ]
    },
    {
     "name": "stdout",
     "output_type": "stream",
     "text": [
      "Training until validation scores don't improve for 25 rounds\n",
      "[100]\ttraining's rmse: 0.000472517\ttraining's RMSPE: 0.218786\tvalid_1's rmse: 0.00048034\tvalid_1's RMSPE: 0.221902\n",
      "[200]\ttraining's rmse: 0.000452674\ttraining's RMSPE: 0.209599\tvalid_1's rmse: 0.00046345\tvalid_1's RMSPE: 0.2141\n",
      "[300]\ttraining's rmse: 0.000438596\ttraining's RMSPE: 0.20308\tvalid_1's rmse: 0.000452447\tvalid_1's RMSPE: 0.209017\n",
      "[400]\ttraining's rmse: 0.000428032\ttraining's RMSPE: 0.198189\tvalid_1's rmse: 0.000444419\tvalid_1's RMSPE: 0.205308\n",
      "[500]\ttraining's rmse: 0.000419785\ttraining's RMSPE: 0.19437\tvalid_1's rmse: 0.000438992\tvalid_1's RMSPE: 0.202801\n",
      "[600]\ttraining's rmse: 0.000412835\ttraining's RMSPE: 0.191152\tvalid_1's rmse: 0.000434654\tvalid_1's RMSPE: 0.200797\n",
      "[700]\ttraining's rmse: 0.000406894\ttraining's RMSPE: 0.188402\tvalid_1's rmse: 0.000431387\tvalid_1's RMSPE: 0.199287\n",
      "[800]\ttraining's rmse: 0.000401619\ttraining's RMSPE: 0.185959\tvalid_1's rmse: 0.000428921\tvalid_1's RMSPE: 0.198148\n",
      "[900]\ttraining's rmse: 0.000396781\ttraining's RMSPE: 0.183719\tvalid_1's rmse: 0.000426599\tvalid_1's RMSPE: 0.197076\n",
      "[1000]\ttraining's rmse: 0.000392524\ttraining's RMSPE: 0.181748\tvalid_1's rmse: 0.000425125\tvalid_1's RMSPE: 0.196395\n",
      "[1100]\ttraining's rmse: 0.000388726\ttraining's RMSPE: 0.179989\tvalid_1's rmse: 0.000423733\tvalid_1's RMSPE: 0.195752\n",
      "[1200]\ttraining's rmse: 0.000385116\ttraining's RMSPE: 0.178318\tvalid_1's rmse: 0.000422361\tvalid_1's RMSPE: 0.195118\n",
      "[1300]\ttraining's rmse: 0.000381878\ttraining's RMSPE: 0.176818\tvalid_1's rmse: 0.000421487\tvalid_1's RMSPE: 0.194714\n",
      "[1400]\ttraining's rmse: 0.000378791\ttraining's RMSPE: 0.175389\tvalid_1's rmse: 0.000420349\tvalid_1's RMSPE: 0.194188\n",
      "[1500]\ttraining's rmse: 0.000375802\ttraining's RMSPE: 0.174005\tvalid_1's rmse: 0.000419627\tvalid_1's RMSPE: 0.193855\n",
      "[1600]\ttraining's rmse: 0.000372974\ttraining's RMSPE: 0.172696\tvalid_1's rmse: 0.000418828\tvalid_1's RMSPE: 0.193486\n",
      "[1700]\ttraining's rmse: 0.000370472\ttraining's RMSPE: 0.171537\tvalid_1's rmse: 0.000418323\tvalid_1's RMSPE: 0.193252\n",
      "Early stopping, best iteration is:\n",
      "[1733]\ttraining's rmse: 0.000369616\ttraining's RMSPE: 0.171141\tvalid_1's rmse: 0.00041809\tvalid_1's RMSPE: 0.193145\n",
      "Training fold 4\n"
     ]
    },
    {
     "name": "stderr",
     "output_type": "stream",
     "text": [
      "/home/slex/programy/anaconda3/envs/fastai/lib/python3.8/site-packages/lightgbm/basic.py:1551: UserWarning: Using categorical_feature in Dataset.\n",
      "  warnings.warn('Using categorical_feature in Dataset.')\n",
      "/home/slex/programy/anaconda3/envs/fastai/lib/python3.8/site-packages/lightgbm/basic.py:1286: UserWarning: Overriding the parameters from Reference Dataset.\n",
      "  warnings.warn('Overriding the parameters from Reference Dataset.')\n",
      "/home/slex/programy/anaconda3/envs/fastai/lib/python3.8/site-packages/lightgbm/basic.py:1098: UserWarning: categorical_column in param dict is overridden.\n",
      "  warnings.warn('{} in param dict is overridden.'.format(cat_alias))\n"
     ]
    },
    {
     "name": "stdout",
     "output_type": "stream",
     "text": [
      "Training until validation scores don't improve for 25 rounds\n",
      "[100]\ttraining's rmse: 0.000472684\ttraining's RMSPE: 0.218489\tvalid_1's rmse: 0.000479329\tvalid_1's RMSPE: 0.22295\n",
      "[200]\ttraining's rmse: 0.000453246\ttraining's RMSPE: 0.209505\tvalid_1's rmse: 0.000465193\tvalid_1's RMSPE: 0.216375\n",
      "[300]\ttraining's rmse: 0.000439108\ttraining's RMSPE: 0.20297\tvalid_1's rmse: 0.000454081\tvalid_1's RMSPE: 0.211206\n",
      "[400]\ttraining's rmse: 0.000428427\ttraining's RMSPE: 0.198033\tvalid_1's rmse: 0.000447008\tvalid_1's RMSPE: 0.207916\n",
      "[500]\ttraining's rmse: 0.000419955\ttraining's RMSPE: 0.194117\tvalid_1's rmse: 0.000441154\tvalid_1's RMSPE: 0.205194\n",
      "[600]\ttraining's rmse: 0.000413119\ttraining's RMSPE: 0.190957\tvalid_1's rmse: 0.000437601\tvalid_1's RMSPE: 0.203541\n",
      "[700]\ttraining's rmse: 0.000407025\ttraining's RMSPE: 0.18814\tvalid_1's rmse: 0.000434305\tvalid_1's RMSPE: 0.202008\n",
      "[800]\ttraining's rmse: 0.000401955\ttraining's RMSPE: 0.185796\tvalid_1's rmse: 0.000432355\tvalid_1's RMSPE: 0.201101\n",
      "[900]\ttraining's rmse: 0.000397353\ttraining's RMSPE: 0.183669\tvalid_1's rmse: 0.000431154\tvalid_1's RMSPE: 0.200542\n",
      "[1000]\ttraining's rmse: 0.000393009\ttraining's RMSPE: 0.181661\tvalid_1's rmse: 0.000429801\tvalid_1's RMSPE: 0.199913\n",
      "[1100]\ttraining's rmse: 0.000389224\ttraining's RMSPE: 0.179912\tvalid_1's rmse: 0.000428844\tvalid_1's RMSPE: 0.199468\n",
      "[1200]\ttraining's rmse: 0.000385651\ttraining's RMSPE: 0.17826\tvalid_1's rmse: 0.000427776\tvalid_1's RMSPE: 0.198971\n",
      "[1300]\ttraining's rmse: 0.00038204\ttraining's RMSPE: 0.176591\tvalid_1's rmse: 0.000426696\tvalid_1's RMSPE: 0.198469\n",
      "[1400]\ttraining's rmse: 0.000378909\ttraining's RMSPE: 0.175144\tvalid_1's rmse: 0.000425791\tvalid_1's RMSPE: 0.198048\n",
      "Early stopping, best iteration is:\n",
      "[1429]\ttraining's rmse: 0.000378069\ttraining's RMSPE: 0.174756\tvalid_1's rmse: 0.000425617\tvalid_1's RMSPE: 0.197967\n",
      "Training fold 5\n"
     ]
    },
    {
     "name": "stderr",
     "output_type": "stream",
     "text": [
      "/home/slex/programy/anaconda3/envs/fastai/lib/python3.8/site-packages/lightgbm/basic.py:1551: UserWarning: Using categorical_feature in Dataset.\n",
      "  warnings.warn('Using categorical_feature in Dataset.')\n",
      "/home/slex/programy/anaconda3/envs/fastai/lib/python3.8/site-packages/lightgbm/basic.py:1286: UserWarning: Overriding the parameters from Reference Dataset.\n",
      "  warnings.warn('Overriding the parameters from Reference Dataset.')\n",
      "/home/slex/programy/anaconda3/envs/fastai/lib/python3.8/site-packages/lightgbm/basic.py:1098: UserWarning: categorical_column in param dict is overridden.\n",
      "  warnings.warn('{} in param dict is overridden.'.format(cat_alias))\n"
     ]
    },
    {
     "name": "stdout",
     "output_type": "stream",
     "text": [
      "Training until validation scores don't improve for 25 rounds\n",
      "[100]\ttraining's rmse: 0.000472842\ttraining's RMSPE: 0.219082\tvalid_1's rmse: 0.000488016\tvalid_1's RMSPE: 0.224846\n",
      "[200]\ttraining's rmse: 0.000452134\ttraining's RMSPE: 0.209488\tvalid_1's rmse: 0.000469583\tvalid_1's RMSPE: 0.216354\n",
      "[300]\ttraining's rmse: 0.000438077\ttraining's RMSPE: 0.202974\tvalid_1's rmse: 0.000458693\tvalid_1's RMSPE: 0.211336\n",
      "[400]\ttraining's rmse: 0.000427546\ttraining's RMSPE: 0.198095\tvalid_1's rmse: 0.00045069\tvalid_1's RMSPE: 0.207649\n",
      "[500]\ttraining's rmse: 0.000419032\ttraining's RMSPE: 0.19415\tvalid_1's rmse: 0.000445894\tvalid_1's RMSPE: 0.205439\n",
      "[600]\ttraining's rmse: 0.000412001\ttraining's RMSPE: 0.190893\tvalid_1's rmse: 0.000442128\tvalid_1's RMSPE: 0.203704\n",
      "Early stopping, best iteration is:\n",
      "[616]\ttraining's rmse: 0.000410889\ttraining's RMSPE: 0.190378\tvalid_1's rmse: 0.000441414\tvalid_1's RMSPE: 0.203375\n",
      "Our out of folds RMSPE is 0.2005404468724854\n"
     ]
    }
   ],
   "source": [
    "_=train_models(train_10m_with_embs)"
   ]
  },
  {
   "cell_type": "code",
   "execution_count": null,
   "id": "civil-glossary",
   "metadata": {},
   "outputs": [],
   "source": []
  }
 ],
 "metadata": {
  "kernelspec": {
   "display_name": "Python 3.8.5 64-bit ('fastai': conda)",
   "language": "python",
   "name": "python38564bitfastaicondad52d12c5a30a4725bf9d3e235cf1271c"
  },
  "language_info": {
   "codemirror_mode": {
    "name": "ipython",
    "version": 3
   },
   "file_extension": ".py",
   "mimetype": "text/x-python",
   "name": "python",
   "nbconvert_exporter": "python",
   "pygments_lexer": "ipython3",
   "version": "3.8.5"
  }
 },
 "nbformat": 4,
 "nbformat_minor": 5
}
