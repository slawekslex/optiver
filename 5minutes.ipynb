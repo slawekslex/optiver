{
 "cells": [
  {
   "cell_type": "code",
   "execution_count": 1,
   "id": "thorough-lunch",
   "metadata": {},
   "outputs": [],
   "source": [
    "%load_ext autoreload\n",
    "%autoreload 2"
   ]
  },
  {
   "cell_type": "code",
   "execution_count": 2,
   "id": "beneficial-interface",
   "metadata": {},
   "outputs": [],
   "source": [
    "from fastai.tabular.all import *\n",
    "from multiprocessing import Pool\n",
    "from sklearn.model_selection import KFold, GroupKFold\n",
    "import lightgbm as lgb\n",
    "from optiver_features import *\n",
    "import pickle"
   ]
  },
  {
   "cell_type": "code",
   "execution_count": 3,
   "id": "modular-marketplace",
   "metadata": {},
   "outputs": [
    {
     "data": {
      "text/plain": [
       "(2681, 1149)"
      ]
     },
     "execution_count": 3,
     "metadata": {},
     "output_type": "execute_result"
    }
   ],
   "source": [
    "df = pd.read_csv('../input/optiver-realized-volatility-prediction/train.csv')\n",
    "time_ids = df.time_id.unique()\n",
    "\n",
    "np.random.shuffle(time_ids)\n",
    "\n",
    "splt = int(len(time_ids)*.7)\n",
    "train_ids, test_ids = time_ids[:splt], time_ids[splt:]\n",
    "\n",
    "len(train_ids), len(test_ids)"
   ]
  },
  {
   "cell_type": "code",
   "execution_count": 4,
   "id": "congressional-ready",
   "metadata": {},
   "outputs": [
    {
     "data": {
      "text/plain": [
       "0.7000083929387408"
      ]
     },
     "execution_count": 4,
     "metadata": {},
     "output_type": "execute_result"
    }
   ],
   "source": [
    "len(df[df.time_id.isin(train_ids)]) / len(df)"
   ]
  },
  {
   "cell_type": "markdown",
   "id": "suspected-exchange",
   "metadata": {},
   "source": [
    "## Generate 5m dataset"
   ]
  },
  {
   "cell_type": "code",
   "execution_count": 10,
   "id": "victorian-proxy",
   "metadata": {},
   "outputs": [],
   "source": [
    "book_feature_dict = {\n",
    "    wap1: [np.mean, np.std],\n",
    "    wap2: [np.mean, np.std],\n",
    "    log_return1: [realized_volatility, np.mean, np.std],\n",
    "    log_return2: [realized_volatility, np.mean, np.std],\n",
    "    wap_balance: [np.mean, np.std],\n",
    "    price_spread:[np.mean, np.std],\n",
    "    bid_spread: [np.mean, np.std],\n",
    "    ask_spread:[np.mean, np.std],\n",
    "    total_volume:[np.mean, np.std],\n",
    "    volume_imbalance:[np.mean, np.std]\n",
    "}\n",
    "trade_feature_dict = {\n",
    "        log_return_price: [realized_volatility],\n",
    "        'seconds_in_bucket':[np.size],\n",
    "        'size':[np.sum],\n",
    "        'order_count':[np.mean],\n",
    "}\n",
    "time_id_features=[]\n",
    "time_id_aggregations = []\n",
    "stock_id_features = []\n",
    "stock_id_aggregations = [time_id_aggregations]\n",
    "time_windows = [(0,300), (0,100), (100,200), (200,300)]"
   ]
  },
  {
   "cell_type": "code",
   "execution_count": 5,
   "id": "small-montreal",
   "metadata": {},
   "outputs": [],
   "source": [
    "def generate_0_to_5():\n",
    "\n",
    "\n",
    "    ofg = OptiverFeatureGenerator(book_feature_dict, trade_feature_dict, time_windows, time_id_features,time_id_aggregations, stock_id_features, stock_id_aggregations)\n",
    "    train_df5m = ofg.generate_train_df()\n",
    "    ofg_targ =OptiverFeatureGenerator({wap1:[], log_return1:[realized_volatility]}, {'seconds_in_bucket':[np.size]}, [(300,600)], [],[],[],[])\n",
    "    targ_df = ofg_targ.generate_train_df()\n",
    "    train_df5m.target = targ_df.log_return1_realized_volatility_300_600\n",
    "    train_df5m.target = train_df5m.target.replace(0, train_df5m.target.mean())\n",
    "    return train_df5m\n",
    "    "
   ]
  },
  {
   "cell_type": "code",
   "execution_count": 6,
   "id": "circular-strike",
   "metadata": {},
   "outputs": [
    {
     "name": "stdout",
     "output_type": "stream",
     "text": [
      "CPU times: user 2.63 s, sys: 675 ms, total: 3.31 s\n",
      "Wall time: 4min 32s\n"
     ]
    }
   ],
   "source": [
    "%%time\n",
    "train_df5m = generate_0_to_5()"
   ]
  },
  {
   "cell_type": "code",
   "execution_count": 7,
   "id": "hindu-resort",
   "metadata": {},
   "outputs": [],
   "source": [
    "\n",
    "train_df5m.to_feather('train_5m.feather')"
   ]
  },
  {
   "cell_type": "code",
   "execution_count": 8,
   "id": "natural-ecuador",
   "metadata": {},
   "outputs": [],
   "source": [
    "def rename_col(x):\n",
    "    return x.replace('300', '600').replace('200', '500').replace('100', '400').replace('_0', '_300')\n",
    "def rename_col_back(x):\n",
    "    return x.replace('300', '0').replace('400', '100').replace('500', '200').replace('600', '300')\n",
    "\n",
    "def generate_5_to_10():\n",
    "    tw = [(x+300, y+300) for x,y in time_windows]\n",
    "    time_id_feat = [rename_col(x) for x in time_id_features]\n",
    "    stock_id_feat = [rename_col(x) for x in stock_id_features]\n",
    "    ofg = OptiverFeatureGenerator(book_feature_dict, trade_feature_dict, tw, time_id_feat,time_id_aggregations, stock_id_feat, stock_id_aggregations)\n",
    "\n",
    "    df = ofg.generate_train_df()\n",
    "    df.columns = [rename_col_back(x) for x in df.columns]\n",
    "    return df"
   ]
  },
  {
   "cell_type": "code",
   "execution_count": 11,
   "id": "associate-antibody",
   "metadata": {},
   "outputs": [],
   "source": [
    "train_df5_10m  = generate_5_to_10()\n",
    "train_df5_10m.to_feather('train_5_10.feather')"
   ]
  },
  {
   "cell_type": "markdown",
   "id": "fabulous-variation",
   "metadata": {},
   "source": [
    "## LGBM Baseline"
   ]
  },
  {
   "cell_type": "code",
   "execution_count": 12,
   "id": "metric-herald",
   "metadata": {},
   "outputs": [],
   "source": [
    "def rmspe_np(y_true, y_pred):\n",
    "    return np.sqrt(np.mean(np.square((y_true - y_pred) / y_true)))\n",
    "def feval_rmspe(y_pred, lgb_train):\n",
    "    y_true = lgb_train.get_label()\n",
    "    return 'RMSPE', rmspe_np(y_true, y_pred), False\n",
    "\n",
    "def train_models(train):\n",
    "    # Hyperparammeters (optimized)\n",
    "    seed = 29\n",
    "    params = {\n",
    "        'learning_rate': 0.1,        \n",
    "        'lambda_l1': 2,\n",
    "        'lambda_l2': 7,\n",
    "        'num_leaves': 800,\n",
    "        'min_sum_hessian_in_leaf': 20,\n",
    "        'feature_fraction': 0.8,\n",
    "        'feature_fraction_bynode': 0.8,\n",
    "        'bagging_fraction': 0.9,\n",
    "        'bagging_freq': 42,\n",
    "        'min_data_in_leaf': 700,\n",
    "        'max_depth': 4,\n",
    "        'seed': seed,\n",
    "        'feature_fraction_seed': seed,\n",
    "        'bagging_seed': seed,\n",
    "        'drop_seed': seed,\n",
    "        'data_random_seed': seed,\n",
    "        'objective': 'rmse',\n",
    "        'boosting': 'gbdt',\n",
    "        'verbosity': -1,\n",
    "        'n_jobs': -1,\n",
    "    }   \n",
    "    \n",
    "    # Split features and target\n",
    "    x = train.drop(['row_id', 'target', 'time_id'], axis = 1)\n",
    "    y = train['target']\n",
    "    # Transform stock id to a numeric value\n",
    "    x['stock_id'] = x['stock_id'].astype(int)\n",
    "    models =[]\n",
    "    # Create out of folds array\n",
    "    oof_predictions = np.zeros(x.shape[0])\n",
    "    # Create a KFold object\n",
    "    kfold = GroupKFold()\n",
    "    # Iterate through each fold\n",
    "    for fold, (trn_ind, val_ind) in enumerate(kfold.split(x, groups = train.time_id)):\n",
    "        print(f'Training fold {fold + 1}')\n",
    "        x_train, x_val = x.iloc[trn_ind], x.iloc[val_ind]\n",
    "        y_train, y_val = y.iloc[trn_ind], y.iloc[val_ind]\n",
    "        # Root mean squared percentage error weights\n",
    "        train_weights = 1 / np.square(y_train)\n",
    "        val_weights = 1 / np.square(y_val)\n",
    "        train_dataset = lgb.Dataset(x_train, y_train, weight = train_weights, categorical_feature = ['stock_id'])\n",
    "        val_dataset = lgb.Dataset(x_val, y_val, weight = val_weights, categorical_feature = ['stock_id'])\n",
    "        model = lgb.train(params = params, \n",
    "                          train_set = train_dataset, \n",
    "                          valid_sets = [train_dataset, val_dataset], \n",
    "                          num_boost_round = 3000, \n",
    "                          early_stopping_rounds = 25, \n",
    "                          verbose_eval = 100,\n",
    "                          feval = feval_rmspe)\n",
    "        models.append(model)\n",
    "        # Add predictions to the out of folds array\n",
    "        oof_predictions[val_ind] = model.predict(x_val)\n",
    "        # Predict the test set\n",
    "        #test_predictions += model.predict(x_test) / 10\n",
    "        \n",
    "    rmspe_score = rmspe_np(y, oof_predictions)\n",
    "    print(f'Our out of folds RMSPE is {rmspe_score}')\n",
    "    # Return test predictions\n",
    "    return models"
   ]
  },
  {
   "cell_type": "code",
   "execution_count": 13,
   "id": "nervous-madrid",
   "metadata": {},
   "outputs": [
    {
     "name": "stdout",
     "output_type": "stream",
     "text": [
      "Training fold 1\n"
     ]
    },
    {
     "name": "stderr",
     "output_type": "stream",
     "text": [
      "/home/slex/programy/anaconda3/envs/fastai/lib/python3.8/site-packages/lightgbm/basic.py:1551: UserWarning: Using categorical_feature in Dataset.\n",
      "  warnings.warn('Using categorical_feature in Dataset.')\n",
      "/home/slex/programy/anaconda3/envs/fastai/lib/python3.8/site-packages/lightgbm/basic.py:1286: UserWarning: Overriding the parameters from Reference Dataset.\n",
      "  warnings.warn('Overriding the parameters from Reference Dataset.')\n",
      "/home/slex/programy/anaconda3/envs/fastai/lib/python3.8/site-packages/lightgbm/basic.py:1098: UserWarning: categorical_column in param dict is overridden.\n",
      "  warnings.warn('{} in param dict is overridden.'.format(cat_alias))\n"
     ]
    },
    {
     "name": "stdout",
     "output_type": "stream",
     "text": [
      "Training until validation scores don't improve for 25 rounds\n",
      "[100]\ttraining's rmse: 0.000352069\ttraining's RMSPE: 0.240783\tvalid_1's rmse: 0.000365612\tvalid_1's RMSPE: 0.250465\n",
      "[200]\ttraining's rmse: 0.000343576\ttraining's RMSPE: 0.234975\tvalid_1's rmse: 0.000362518\tvalid_1's RMSPE: 0.248345\n",
      "[300]\ttraining's rmse: 0.000338425\ttraining's RMSPE: 0.231452\tvalid_1's rmse: 0.000361348\tvalid_1's RMSPE: 0.247543\n",
      "[400]\ttraining's rmse: 0.000334341\ttraining's RMSPE: 0.228658\tvalid_1's rmse: 0.000360762\tvalid_1's RMSPE: 0.247142\n",
      "[500]\ttraining's rmse: 0.000331185\ttraining's RMSPE: 0.2265\tvalid_1's rmse: 0.000360449\tvalid_1's RMSPE: 0.246928\n",
      "Early stopping, best iteration is:\n",
      "[515]\ttraining's rmse: 0.00033076\ttraining's RMSPE: 0.22621\tvalid_1's rmse: 0.00036034\tvalid_1's RMSPE: 0.246853\n",
      "Training fold 2\n"
     ]
    },
    {
     "name": "stderr",
     "output_type": "stream",
     "text": [
      "/home/slex/programy/anaconda3/envs/fastai/lib/python3.8/site-packages/lightgbm/basic.py:1551: UserWarning: Using categorical_feature in Dataset.\n",
      "  warnings.warn('Using categorical_feature in Dataset.')\n",
      "/home/slex/programy/anaconda3/envs/fastai/lib/python3.8/site-packages/lightgbm/basic.py:1286: UserWarning: Overriding the parameters from Reference Dataset.\n",
      "  warnings.warn('Overriding the parameters from Reference Dataset.')\n",
      "/home/slex/programy/anaconda3/envs/fastai/lib/python3.8/site-packages/lightgbm/basic.py:1098: UserWarning: categorical_column in param dict is overridden.\n",
      "  warnings.warn('{} in param dict is overridden.'.format(cat_alias))\n"
     ]
    },
    {
     "name": "stdout",
     "output_type": "stream",
     "text": [
      "Training until validation scores don't improve for 25 rounds\n",
      "[100]\ttraining's rmse: 0.000352568\ttraining's RMSPE: 0.240627\tvalid_1's rmse: 0.000371483\tvalid_1's RMSPE: 0.256567\n",
      "[200]\ttraining's rmse: 0.000343888\ttraining's RMSPE: 0.234703\tvalid_1's rmse: 0.000368845\tvalid_1's RMSPE: 0.254745\n",
      "Early stopping, best iteration is:\n",
      "[196]\ttraining's rmse: 0.000344179\ttraining's RMSPE: 0.234902\tvalid_1's rmse: 0.000368708\tvalid_1's RMSPE: 0.25465\n",
      "Training fold 3\n"
     ]
    },
    {
     "name": "stderr",
     "output_type": "stream",
     "text": [
      "/home/slex/programy/anaconda3/envs/fastai/lib/python3.8/site-packages/lightgbm/basic.py:1551: UserWarning: Using categorical_feature in Dataset.\n",
      "  warnings.warn('Using categorical_feature in Dataset.')\n",
      "/home/slex/programy/anaconda3/envs/fastai/lib/python3.8/site-packages/lightgbm/basic.py:1286: UserWarning: Overriding the parameters from Reference Dataset.\n",
      "  warnings.warn('Overriding the parameters from Reference Dataset.')\n",
      "/home/slex/programy/anaconda3/envs/fastai/lib/python3.8/site-packages/lightgbm/basic.py:1098: UserWarning: categorical_column in param dict is overridden.\n",
      "  warnings.warn('{} in param dict is overridden.'.format(cat_alias))\n"
     ]
    },
    {
     "name": "stdout",
     "output_type": "stream",
     "text": [
      "Training until validation scores don't improve for 25 rounds\n",
      "[100]\ttraining's rmse: 0.000353414\ttraining's RMSPE: 0.241643\tvalid_1's rmse: 0.000363559\tvalid_1's RMSPE: 0.249303\n",
      "[200]\ttraining's rmse: 0.000344893\ttraining's RMSPE: 0.235817\tvalid_1's rmse: 0.000360593\tvalid_1's RMSPE: 0.24727\n",
      "[300]\ttraining's rmse: 0.00033976\ttraining's RMSPE: 0.232307\tvalid_1's rmse: 0.000359688\tvalid_1's RMSPE: 0.246649\n",
      "[400]\ttraining's rmse: 0.000335828\ttraining's RMSPE: 0.229619\tvalid_1's rmse: 0.000359368\tvalid_1's RMSPE: 0.24643\n",
      "Early stopping, best iteration is:\n",
      "[382]\ttraining's rmse: 0.000336452\ttraining's RMSPE: 0.230046\tvalid_1's rmse: 0.000359285\tvalid_1's RMSPE: 0.246373\n",
      "Training fold 4\n"
     ]
    },
    {
     "name": "stderr",
     "output_type": "stream",
     "text": [
      "/home/slex/programy/anaconda3/envs/fastai/lib/python3.8/site-packages/lightgbm/basic.py:1551: UserWarning: Using categorical_feature in Dataset.\n",
      "  warnings.warn('Using categorical_feature in Dataset.')\n",
      "/home/slex/programy/anaconda3/envs/fastai/lib/python3.8/site-packages/lightgbm/basic.py:1286: UserWarning: Overriding the parameters from Reference Dataset.\n",
      "  warnings.warn('Overriding the parameters from Reference Dataset.')\n",
      "/home/slex/programy/anaconda3/envs/fastai/lib/python3.8/site-packages/lightgbm/basic.py:1098: UserWarning: categorical_column in param dict is overridden.\n",
      "  warnings.warn('{} in param dict is overridden.'.format(cat_alias))\n"
     ]
    },
    {
     "name": "stdout",
     "output_type": "stream",
     "text": [
      "Training until validation scores don't improve for 25 rounds\n",
      "[100]\ttraining's rmse: 0.00035168\ttraining's RMSPE: 0.241638\tvalid_1's rmse: 0.000388214\tvalid_1's RMSPE: 0.260948\n",
      "[200]\ttraining's rmse: 0.000343253\ttraining's RMSPE: 0.235848\tvalid_1's rmse: 0.000384083\tvalid_1's RMSPE: 0.25817\n",
      "Early stopping, best iteration is:\n",
      "[252]\ttraining's rmse: 0.000340419\ttraining's RMSPE: 0.233901\tvalid_1's rmse: 0.000382195\tvalid_1's RMSPE: 0.256901\n",
      "Training fold 5\n"
     ]
    },
    {
     "name": "stderr",
     "output_type": "stream",
     "text": [
      "/home/slex/programy/anaconda3/envs/fastai/lib/python3.8/site-packages/lightgbm/basic.py:1551: UserWarning: Using categorical_feature in Dataset.\n",
      "  warnings.warn('Using categorical_feature in Dataset.')\n",
      "/home/slex/programy/anaconda3/envs/fastai/lib/python3.8/site-packages/lightgbm/basic.py:1286: UserWarning: Overriding the parameters from Reference Dataset.\n",
      "  warnings.warn('Overriding the parameters from Reference Dataset.')\n",
      "/home/slex/programy/anaconda3/envs/fastai/lib/python3.8/site-packages/lightgbm/basic.py:1098: UserWarning: categorical_column in param dict is overridden.\n",
      "  warnings.warn('{} in param dict is overridden.'.format(cat_alias))\n"
     ]
    },
    {
     "name": "stdout",
     "output_type": "stream",
     "text": [
      "Training until validation scores don't improve for 25 rounds\n",
      "[100]\ttraining's rmse: 0.000353504\ttraining's RMSPE: 0.241598\tvalid_1's rmse: 0.000393869\tvalid_1's RMSPE: 0.27056\n",
      "Early stopping, best iteration is:\n",
      "[86]\ttraining's rmse: 0.000355309\ttraining's RMSPE: 0.242832\tvalid_1's rmse: 0.000393114\tvalid_1's RMSPE: 0.270042\n",
      "Our out of folds RMSPE is 0.2551091979883696\n"
     ]
    }
   ],
   "source": [
    "_=train_models(train_df5m)"
   ]
  },
  {
   "cell_type": "markdown",
   "id": "polished-terry",
   "metadata": {},
   "source": [
    "## Learning embeddings"
   ]
  },
  {
   "cell_type": "code",
   "execution_count": 14,
   "id": "smooth-shuttle",
   "metadata": {},
   "outputs": [],
   "source": [
    "cont_nn,cat_nn = cont_cat_split(train_df5m, max_card=9000, dep_var='target')\n",
    "\n",
    "\n",
    "cat_nn = ['time_id', 'stock_id']"
   ]
  },
  {
   "cell_type": "code",
   "execution_count": 15,
   "id": "dominican-porcelain",
   "metadata": {},
   "outputs": [],
   "source": [
    "\n",
    "procs_nn = [Categorify, FillMissing,Normalize]\n",
    "\n",
    "splits = RandomSplitter()(train_df5m)\n",
    "\n",
    "dls = TabularPandas(train_df5m, procs_nn, cat_nn, cont_nn,\n",
    "                      splits=splits, \n",
    "                       \n",
    "                      y_names='target').dataloaders(1024)"
   ]
  },
  {
   "cell_type": "code",
   "execution_count": 16,
   "id": "white-transsexual",
   "metadata": {},
   "outputs": [],
   "source": [
    "def rmspe(preds, targs):\n",
    "    x = (targs-preds)/targs\n",
    "    return (x**2).mean().sqrt()\n",
    "\n",
    "config={'lin_first':True, 'ps':[.5,.2,0], 'embed_p':.25, }\n",
    "learn = tabular_learner(dls, y_range=(0,.1), layers=[100,50,20], emb_szs={'stock_id':10, 'time_id':10}, \n",
    "                        n_out=1, loss_func = rmspe, metrics=AccumMetric(rmspe), config=config)"
   ]
  },
  {
   "cell_type": "code",
   "execution_count": 17,
   "id": "exotic-gallery",
   "metadata": {},
   "outputs": [
    {
     "data": {
      "text/html": [
       "<table border=\"1\" class=\"dataframe\">\n",
       "  <thead>\n",
       "    <tr style=\"text-align: left;\">\n",
       "      <th>epoch</th>\n",
       "      <th>train_loss</th>\n",
       "      <th>valid_loss</th>\n",
       "      <th>rmspe</th>\n",
       "      <th>time</th>\n",
       "    </tr>\n",
       "  </thead>\n",
       "  <tbody>\n",
       "    <tr>\n",
       "      <td>0</td>\n",
       "      <td>13.305634</td>\n",
       "      <td>10.301177</td>\n",
       "      <td>10.576388</td>\n",
       "      <td>00:12</td>\n",
       "    </tr>\n",
       "    <tr>\n",
       "      <td>1</td>\n",
       "      <td>1.708793</td>\n",
       "      <td>0.988159</td>\n",
       "      <td>1.528719</td>\n",
       "      <td>00:05</td>\n",
       "    </tr>\n",
       "    <tr>\n",
       "      <td>2</td>\n",
       "      <td>0.330817</td>\n",
       "      <td>0.270669</td>\n",
       "      <td>0.273019</td>\n",
       "      <td>00:05</td>\n",
       "    </tr>\n",
       "    <tr>\n",
       "      <td>3</td>\n",
       "      <td>0.284078</td>\n",
       "      <td>0.260173</td>\n",
       "      <td>0.262377</td>\n",
       "      <td>00:04</td>\n",
       "    </tr>\n",
       "    <tr>\n",
       "      <td>4</td>\n",
       "      <td>0.272524</td>\n",
       "      <td>0.248375</td>\n",
       "      <td>0.252715</td>\n",
       "      <td>00:05</td>\n",
       "    </tr>\n",
       "    <tr>\n",
       "      <td>5</td>\n",
       "      <td>0.272001</td>\n",
       "      <td>0.264082</td>\n",
       "      <td>0.265079</td>\n",
       "      <td>00:05</td>\n",
       "    </tr>\n",
       "    <tr>\n",
       "      <td>6</td>\n",
       "      <td>0.274739</td>\n",
       "      <td>0.245683</td>\n",
       "      <td>0.247233</td>\n",
       "      <td>00:04</td>\n",
       "    </tr>\n",
       "    <tr>\n",
       "      <td>7</td>\n",
       "      <td>0.263808</td>\n",
       "      <td>0.238444</td>\n",
       "      <td>0.240142</td>\n",
       "      <td>00:05</td>\n",
       "    </tr>\n",
       "    <tr>\n",
       "      <td>8</td>\n",
       "      <td>0.253014</td>\n",
       "      <td>0.233194</td>\n",
       "      <td>0.235285</td>\n",
       "      <td>00:05</td>\n",
       "    </tr>\n",
       "    <tr>\n",
       "      <td>9</td>\n",
       "      <td>0.264505</td>\n",
       "      <td>0.249152</td>\n",
       "      <td>0.251080</td>\n",
       "      <td>00:05</td>\n",
       "    </tr>\n",
       "    <tr>\n",
       "      <td>10</td>\n",
       "      <td>0.250232</td>\n",
       "      <td>0.238344</td>\n",
       "      <td>0.247018</td>\n",
       "      <td>00:04</td>\n",
       "    </tr>\n",
       "    <tr>\n",
       "      <td>11</td>\n",
       "      <td>0.253183</td>\n",
       "      <td>0.236248</td>\n",
       "      <td>0.238413</td>\n",
       "      <td>00:05</td>\n",
       "    </tr>\n",
       "    <tr>\n",
       "      <td>12</td>\n",
       "      <td>0.248707</td>\n",
       "      <td>0.243785</td>\n",
       "      <td>0.259738</td>\n",
       "      <td>00:05</td>\n",
       "    </tr>\n",
       "    <tr>\n",
       "      <td>13</td>\n",
       "      <td>0.245904</td>\n",
       "      <td>0.239644</td>\n",
       "      <td>0.250440</td>\n",
       "      <td>00:05</td>\n",
       "    </tr>\n",
       "    <tr>\n",
       "      <td>14</td>\n",
       "      <td>0.243910</td>\n",
       "      <td>0.234849</td>\n",
       "      <td>0.237476</td>\n",
       "      <td>00:05</td>\n",
       "    </tr>\n",
       "    <tr>\n",
       "      <td>15</td>\n",
       "      <td>0.242709</td>\n",
       "      <td>0.233950</td>\n",
       "      <td>0.235942</td>\n",
       "      <td>00:04</td>\n",
       "    </tr>\n",
       "    <tr>\n",
       "      <td>16</td>\n",
       "      <td>0.246182</td>\n",
       "      <td>0.233755</td>\n",
       "      <td>0.235601</td>\n",
       "      <td>00:05</td>\n",
       "    </tr>\n",
       "    <tr>\n",
       "      <td>17</td>\n",
       "      <td>0.242025</td>\n",
       "      <td>0.234756</td>\n",
       "      <td>0.238126</td>\n",
       "      <td>00:05</td>\n",
       "    </tr>\n",
       "    <tr>\n",
       "      <td>18</td>\n",
       "      <td>0.242678</td>\n",
       "      <td>0.232929</td>\n",
       "      <td>0.234787</td>\n",
       "      <td>00:05</td>\n",
       "    </tr>\n",
       "    <tr>\n",
       "      <td>19</td>\n",
       "      <td>0.241230</td>\n",
       "      <td>0.233342</td>\n",
       "      <td>0.235207</td>\n",
       "      <td>00:05</td>\n",
       "    </tr>\n",
       "  </tbody>\n",
       "</table>"
      ],
      "text/plain": [
       "<IPython.core.display.HTML object>"
      ]
     },
     "metadata": {},
     "output_type": "display_data"
    }
   ],
   "source": [
    "learn.fit_one_cycle(20, 5e-3)"
   ]
  },
  {
   "cell_type": "code",
   "execution_count": 18,
   "id": "available-chorus",
   "metadata": {},
   "outputs": [],
   "source": [
    "torch.save(learn.model.embeds[0].weight.data, 'timeemb10.pt')"
   ]
  },
  {
   "cell_type": "code",
   "execution_count": 19,
   "id": "general-destruction",
   "metadata": {},
   "outputs": [
    {
     "data": {
      "text/plain": [
       "3831"
      ]
     },
     "execution_count": 19,
     "metadata": {},
     "output_type": "execute_result"
    }
   ],
   "source": [
    "categorify = dls.procs[2]\n",
    "len(categorify.classes['time_id'])"
   ]
  },
  {
   "cell_type": "code",
   "execution_count": 20,
   "id": "endless-portable",
   "metadata": {},
   "outputs": [],
   "source": [
    "def append_embs(data_df, categorify, time_embs, stock_embs):\n",
    "    time_id_embs = dict()\n",
    "    for idx, time_id in enumerate(categorify.classes['time_id']):\n",
    "        time_id_embs[time_id] = time_embs.weight[idx].tolist()\n",
    "\n",
    "    stock_id_embs = dict()\n",
    "    for idx, stock_id in enumerate(categorify.classes['stock_id']):\n",
    "        stock_id_embs[stock_id] = stock_embs.weight[idx].tolist()\n",
    "\n",
    "    all_embs = []\n",
    "    for _, row in (data_df[['stock_id', 'time_id']].iterrows()):\n",
    "        emb1 = stock_id_embs[row.stock_id]\n",
    "        emb2 = time_id_embs[row.time_id]\n",
    "        all_embs.append(emb1+emb2)\n",
    "    columns = [f'stock_emb{i}' for i in range(stock_embs.weight.shape[1])] +[f'time_emb{i}' for i in range(time_embs.weight.shape[1])]\n",
    "    embs_df = pd.DataFrame(all_embs, columns=columns)\n",
    "\n",
    "    return pd.concat([data_df, embs_df], axis=1)"
   ]
  },
  {
   "cell_type": "code",
   "execution_count": 21,
   "id": "isolated-infection",
   "metadata": {},
   "outputs": [],
   "source": [
    "train_5_with_embs = append_embs(train_df5m, categorify, learn.model.embeds[0], learn.model.embeds[1])\n",
    "\n"
   ]
  },
  {
   "cell_type": "code",
   "execution_count": 22,
   "id": "experimental-feelings",
   "metadata": {},
   "outputs": [
    {
     "data": {
      "text/html": [],
      "text/plain": [
       "<IPython.core.display.HTML object>"
      ]
     },
     "metadata": {},
     "output_type": "display_data"
    }
   ],
   "source": [
    "test_df = train_df5_10m\n",
    "test_dl = dls.test_dl(test_df)\n",
    "preds, _ = learn.get_preds(dl=test_dl)\n",
    "preds5_10 = preds.view(-1).numpy()"
   ]
  },
  {
   "cell_type": "markdown",
   "id": "reasonable-freight",
   "metadata": {},
   "source": [
    "## Train 5m LGBM with embeddings\n"
   ]
  },
  {
   "cell_type": "code",
   "execution_count": 24,
   "id": "rapid-coating",
   "metadata": {},
   "outputs": [
    {
     "name": "stdout",
     "output_type": "stream",
     "text": [
      "Training fold 1\n"
     ]
    },
    {
     "name": "stderr",
     "output_type": "stream",
     "text": [
      "/home/slex/programy/anaconda3/envs/fastai/lib/python3.8/site-packages/lightgbm/basic.py:1551: UserWarning: Using categorical_feature in Dataset.\n",
      "  warnings.warn('Using categorical_feature in Dataset.')\n",
      "/home/slex/programy/anaconda3/envs/fastai/lib/python3.8/site-packages/lightgbm/basic.py:1286: UserWarning: Overriding the parameters from Reference Dataset.\n",
      "  warnings.warn('Overriding the parameters from Reference Dataset.')\n",
      "/home/slex/programy/anaconda3/envs/fastai/lib/python3.8/site-packages/lightgbm/basic.py:1098: UserWarning: categorical_column in param dict is overridden.\n",
      "  warnings.warn('{} in param dict is overridden.'.format(cat_alias))\n"
     ]
    },
    {
     "name": "stdout",
     "output_type": "stream",
     "text": [
      "Training until validation scores don't improve for 25 rounds\n",
      "[100]\ttraining's rmse: 0.000321008\ttraining's RMSPE: 0.21954\tvalid_1's rmse: 0.000331884\tvalid_1's RMSPE: 0.227359\n",
      "[200]\ttraining's rmse: 0.000312175\ttraining's RMSPE: 0.213499\tvalid_1's rmse: 0.000328294\tvalid_1's RMSPE: 0.224899\n",
      "[300]\ttraining's rmse: 0.000307412\ttraining's RMSPE: 0.210242\tvalid_1's rmse: 0.000326916\tvalid_1's RMSPE: 0.223955\n",
      "[400]\ttraining's rmse: 0.000303539\ttraining's RMSPE: 0.207593\tvalid_1's rmse: 0.00032625\tvalid_1's RMSPE: 0.223499\n",
      "[500]\ttraining's rmse: 0.000300558\ttraining's RMSPE: 0.205554\tvalid_1's rmse: 0.000325934\tvalid_1's RMSPE: 0.223283\n",
      "Early stopping, best iteration is:\n",
      "[489]\ttraining's rmse: 0.000300849\ttraining's RMSPE: 0.205753\tvalid_1's rmse: 0.000325838\tvalid_1's RMSPE: 0.223217\n",
      "Training fold 2\n"
     ]
    },
    {
     "name": "stderr",
     "output_type": "stream",
     "text": [
      "/home/slex/programy/anaconda3/envs/fastai/lib/python3.8/site-packages/lightgbm/basic.py:1551: UserWarning: Using categorical_feature in Dataset.\n",
      "  warnings.warn('Using categorical_feature in Dataset.')\n",
      "/home/slex/programy/anaconda3/envs/fastai/lib/python3.8/site-packages/lightgbm/basic.py:1286: UserWarning: Overriding the parameters from Reference Dataset.\n",
      "  warnings.warn('Overriding the parameters from Reference Dataset.')\n",
      "/home/slex/programy/anaconda3/envs/fastai/lib/python3.8/site-packages/lightgbm/basic.py:1098: UserWarning: categorical_column in param dict is overridden.\n",
      "  warnings.warn('{} in param dict is overridden.'.format(cat_alias))\n"
     ]
    },
    {
     "name": "stdout",
     "output_type": "stream",
     "text": [
      "Training until validation scores don't improve for 25 rounds\n",
      "[100]\ttraining's rmse: 0.000320188\ttraining's RMSPE: 0.218528\tvalid_1's rmse: 0.000338311\tvalid_1's RMSPE: 0.233657\n",
      "[200]\ttraining's rmse: 0.000311815\ttraining's RMSPE: 0.212814\tvalid_1's rmse: 0.000334988\tvalid_1's RMSPE: 0.231361\n",
      "Early stopping, best iteration is:\n",
      "[273]\ttraining's rmse: 0.000308276\ttraining's RMSPE: 0.210398\tvalid_1's rmse: 0.00033368\tvalid_1's RMSPE: 0.230458\n",
      "Training fold 3\n"
     ]
    },
    {
     "name": "stderr",
     "output_type": "stream",
     "text": [
      "/home/slex/programy/anaconda3/envs/fastai/lib/python3.8/site-packages/lightgbm/basic.py:1551: UserWarning: Using categorical_feature in Dataset.\n",
      "  warnings.warn('Using categorical_feature in Dataset.')\n",
      "/home/slex/programy/anaconda3/envs/fastai/lib/python3.8/site-packages/lightgbm/basic.py:1286: UserWarning: Overriding the parameters from Reference Dataset.\n",
      "  warnings.warn('Overriding the parameters from Reference Dataset.')\n",
      "/home/slex/programy/anaconda3/envs/fastai/lib/python3.8/site-packages/lightgbm/basic.py:1098: UserWarning: categorical_column in param dict is overridden.\n",
      "  warnings.warn('{} in param dict is overridden.'.format(cat_alias))\n"
     ]
    },
    {
     "name": "stdout",
     "output_type": "stream",
     "text": [
      "Training until validation scores don't improve for 25 rounds\n",
      "[100]\ttraining's rmse: 0.000321576\ttraining's RMSPE: 0.219874\tvalid_1's rmse: 0.000329466\tvalid_1's RMSPE: 0.225925\n",
      "[200]\ttraining's rmse: 0.000312864\ttraining's RMSPE: 0.213917\tvalid_1's rmse: 0.000325333\tvalid_1's RMSPE: 0.223091\n",
      "[300]\ttraining's rmse: 0.000307847\ttraining's RMSPE: 0.210487\tvalid_1's rmse: 0.000323721\tvalid_1's RMSPE: 0.221986\n",
      "[400]\ttraining's rmse: 0.000304277\ttraining's RMSPE: 0.208046\tvalid_1's rmse: 0.000322665\tvalid_1's RMSPE: 0.221261\n",
      "[500]\ttraining's rmse: 0.000301412\ttraining's RMSPE: 0.206087\tvalid_1's rmse: 0.000322088\tvalid_1's RMSPE: 0.220866\n",
      "Early stopping, best iteration is:\n",
      "[523]\ttraining's rmse: 0.00030079\ttraining's RMSPE: 0.205662\tvalid_1's rmse: 0.000321855\tvalid_1's RMSPE: 0.220706\n",
      "Training fold 4\n"
     ]
    },
    {
     "name": "stderr",
     "output_type": "stream",
     "text": [
      "/home/slex/programy/anaconda3/envs/fastai/lib/python3.8/site-packages/lightgbm/basic.py:1551: UserWarning: Using categorical_feature in Dataset.\n",
      "  warnings.warn('Using categorical_feature in Dataset.')\n",
      "/home/slex/programy/anaconda3/envs/fastai/lib/python3.8/site-packages/lightgbm/basic.py:1286: UserWarning: Overriding the parameters from Reference Dataset.\n",
      "  warnings.warn('Overriding the parameters from Reference Dataset.')\n",
      "/home/slex/programy/anaconda3/envs/fastai/lib/python3.8/site-packages/lightgbm/basic.py:1098: UserWarning: categorical_column in param dict is overridden.\n",
      "  warnings.warn('{} in param dict is overridden.'.format(cat_alias))\n"
     ]
    },
    {
     "name": "stdout",
     "output_type": "stream",
     "text": [
      "Training until validation scores don't improve for 25 rounds\n",
      "[100]\ttraining's rmse: 0.000319971\ttraining's RMSPE: 0.219851\tvalid_1's rmse: 0.000349465\tvalid_1's RMSPE: 0.234901\n",
      "[200]\ttraining's rmse: 0.000311357\ttraining's RMSPE: 0.213932\tvalid_1's rmse: 0.000344624\tvalid_1's RMSPE: 0.231647\n",
      "[300]\ttraining's rmse: 0.000306384\ttraining's RMSPE: 0.210515\tvalid_1's rmse: 0.000342948\tvalid_1's RMSPE: 0.230521\n",
      "Early stopping, best iteration is:\n",
      "[280]\ttraining's rmse: 0.000307254\ttraining's RMSPE: 0.211113\tvalid_1's rmse: 0.00034256\tvalid_1's RMSPE: 0.23026\n",
      "Training fold 5\n"
     ]
    },
    {
     "name": "stderr",
     "output_type": "stream",
     "text": [
      "/home/slex/programy/anaconda3/envs/fastai/lib/python3.8/site-packages/lightgbm/basic.py:1551: UserWarning: Using categorical_feature in Dataset.\n",
      "  warnings.warn('Using categorical_feature in Dataset.')\n",
      "/home/slex/programy/anaconda3/envs/fastai/lib/python3.8/site-packages/lightgbm/basic.py:1286: UserWarning: Overriding the parameters from Reference Dataset.\n",
      "  warnings.warn('Overriding the parameters from Reference Dataset.')\n",
      "/home/slex/programy/anaconda3/envs/fastai/lib/python3.8/site-packages/lightgbm/basic.py:1098: UserWarning: categorical_column in param dict is overridden.\n",
      "  warnings.warn('{} in param dict is overridden.'.format(cat_alias))\n"
     ]
    },
    {
     "name": "stdout",
     "output_type": "stream",
     "text": [
      "Training until validation scores don't improve for 25 rounds\n",
      "[100]\ttraining's rmse: 0.000321096\ttraining's RMSPE: 0.219449\tvalid_1's rmse: 0.000343501\tvalid_1's RMSPE: 0.235961\n",
      "[200]\ttraining's rmse: 0.000313174\ttraining's RMSPE: 0.214035\tvalid_1's rmse: 0.000340399\tvalid_1's RMSPE: 0.23383\n",
      "Early stopping, best iteration is:\n",
      "[186]\ttraining's rmse: 0.000313997\ttraining's RMSPE: 0.214598\tvalid_1's rmse: 0.000339673\tvalid_1's RMSPE: 0.233332\n",
      "Our out of folds RMSPE is 0.22764504328249216\n"
     ]
    }
   ],
   "source": [
    "_=train_models(train_5_with_embs)"
   ]
  },
  {
   "cell_type": "markdown",
   "id": "functioning-switzerland",
   "metadata": {},
   "source": [
    "## Baseline LGMB 10m"
   ]
  },
  {
   "cell_type": "code",
   "execution_count": 25,
   "id": "distant-cricket",
   "metadata": {},
   "outputs": [],
   "source": [
    "time_windows = [(0,600), (150,600), (300,600), (450,600)]"
   ]
  },
  {
   "cell_type": "code",
   "execution_count": 26,
   "id": "laughing-senegal",
   "metadata": {},
   "outputs": [],
   "source": [
    "cols = ['log_return_price_realized_volatility', 'log_return1_realized_volatility', 'log_return2_realized_volatility']"
   ]
  },
  {
   "cell_type": "code",
   "execution_count": 27,
   "id": "civic-finder",
   "metadata": {},
   "outputs": [],
   "source": [
    "time_id_features = [f'{col}_{x}_{y}' for x,y in time_windows for col in cols] \n",
    "time_id_aggregations = ['mean', 'std', 'max', 'min' ]\n",
    "stock_id_features = time_id_features\n",
    "stock_id_aggregations = time_id_aggregations"
   ]
  },
  {
   "cell_type": "code",
   "execution_count": 29,
   "id": "upset-meditation",
   "metadata": {},
   "outputs": [],
   "source": [
    "# ofg = OptiverFeatureGenerator(book_feature_dict, trade_feature_dict, time_windows, time_id_features,time_id_aggregations, stock_id_features, stock_id_aggregations)\n",
    "# train_df10m = ofg.generate_train_df()\n",
    "\n",
    "# train_df10m.to_feather('train_10m.feather')"
   ]
  },
  {
   "cell_type": "code",
   "execution_count": 28,
   "id": "instructional-jerusalem",
   "metadata": {},
   "outputs": [],
   "source": [
    "df = pd.read_feather('train_10m.feather')"
   ]
  },
  {
   "cell_type": "code",
   "execution_count": 55,
   "id": "intelligent-guest",
   "metadata": {},
   "outputs": [
    {
     "data": {
      "text/plain": [
       "(300256, 128676)"
      ]
     },
     "execution_count": 55,
     "metadata": {},
     "output_type": "execute_result"
    }
   ],
   "source": [
    "train_df10m = df[df.time_id.isin(train_ids)].reset_index()\n",
    "test_df10m = df[df.time_id.isin(test_ids)].reset_index()\n",
    "len(train_df10m), len(test_df10m)"
   ]
  },
  {
   "cell_type": "code",
   "execution_count": 62,
   "id": "informed-degree",
   "metadata": {},
   "outputs": [
    {
     "name": "stdout",
     "output_type": "stream",
     "text": [
      "Training fold 1\n"
     ]
    },
    {
     "name": "stderr",
     "output_type": "stream",
     "text": [
      "/home/slex/programy/anaconda3/envs/fastai/lib/python3.8/site-packages/lightgbm/basic.py:1551: UserWarning: Using categorical_feature in Dataset.\n",
      "  warnings.warn('Using categorical_feature in Dataset.')\n",
      "/home/slex/programy/anaconda3/envs/fastai/lib/python3.8/site-packages/lightgbm/basic.py:1286: UserWarning: Overriding the parameters from Reference Dataset.\n",
      "  warnings.warn('Overriding the parameters from Reference Dataset.')\n",
      "/home/slex/programy/anaconda3/envs/fastai/lib/python3.8/site-packages/lightgbm/basic.py:1098: UserWarning: categorical_column in param dict is overridden.\n",
      "  warnings.warn('{} in param dict is overridden.'.format(cat_alias))\n"
     ]
    },
    {
     "name": "stdout",
     "output_type": "stream",
     "text": [
      "Training until validation scores don't improve for 25 rounds\n",
      "[100]\ttraining's rmse: 0.000456238\ttraining's RMSPE: 0.212824\tvalid_1's rmse: 0.000491943\tvalid_1's RMSPE: 0.225978\n",
      "Early stopping, best iteration is:\n",
      "[148]\ttraining's rmse: 0.000445375\ttraining's RMSPE: 0.207757\tvalid_1's rmse: 0.000489688\tvalid_1's RMSPE: 0.224942\n",
      "Training fold 2\n"
     ]
    },
    {
     "name": "stderr",
     "output_type": "stream",
     "text": [
      "/home/slex/programy/anaconda3/envs/fastai/lib/python3.8/site-packages/lightgbm/basic.py:1551: UserWarning: Using categorical_feature in Dataset.\n",
      "  warnings.warn('Using categorical_feature in Dataset.')\n",
      "/home/slex/programy/anaconda3/envs/fastai/lib/python3.8/site-packages/lightgbm/basic.py:1286: UserWarning: Overriding the parameters from Reference Dataset.\n",
      "  warnings.warn('Overriding the parameters from Reference Dataset.')\n",
      "/home/slex/programy/anaconda3/envs/fastai/lib/python3.8/site-packages/lightgbm/basic.py:1098: UserWarning: categorical_column in param dict is overridden.\n",
      "  warnings.warn('{} in param dict is overridden.'.format(cat_alias))\n"
     ]
    },
    {
     "name": "stdout",
     "output_type": "stream",
     "text": [
      "Training until validation scores don't improve for 25 rounds\n",
      "[100]\ttraining's rmse: 0.000460564\ttraining's RMSPE: 0.213265\tvalid_1's rmse: 0.000497098\tvalid_1's RMSPE: 0.23513\n",
      "[200]\ttraining's rmse: 0.000439968\ttraining's RMSPE: 0.203728\tvalid_1's rmse: 0.000490557\tvalid_1's RMSPE: 0.232036\n",
      "Early stopping, best iteration is:\n",
      "[182]\ttraining's rmse: 0.000443474\ttraining's RMSPE: 0.205352\tvalid_1's rmse: 0.000489673\tvalid_1's RMSPE: 0.231618\n",
      "Training fold 3\n"
     ]
    },
    {
     "name": "stderr",
     "output_type": "stream",
     "text": [
      "/home/slex/programy/anaconda3/envs/fastai/lib/python3.8/site-packages/lightgbm/basic.py:1551: UserWarning: Using categorical_feature in Dataset.\n",
      "  warnings.warn('Using categorical_feature in Dataset.')\n",
      "/home/slex/programy/anaconda3/envs/fastai/lib/python3.8/site-packages/lightgbm/basic.py:1286: UserWarning: Overriding the parameters from Reference Dataset.\n",
      "  warnings.warn('Overriding the parameters from Reference Dataset.')\n",
      "/home/slex/programy/anaconda3/envs/fastai/lib/python3.8/site-packages/lightgbm/basic.py:1098: UserWarning: categorical_column in param dict is overridden.\n",
      "  warnings.warn('{} in param dict is overridden.'.format(cat_alias))\n"
     ]
    },
    {
     "name": "stdout",
     "output_type": "stream",
     "text": [
      "Training until validation scores don't improve for 25 rounds\n",
      "[100]\ttraining's rmse: 0.000459251\ttraining's RMSPE: 0.213679\tvalid_1's rmse: 0.000492006\tvalid_1's RMSPE: 0.228385\n",
      "Early stopping, best iteration is:\n",
      "[82]\ttraining's rmse: 0.000464049\ttraining's RMSPE: 0.215911\tvalid_1's rmse: 0.00049149\tvalid_1's RMSPE: 0.228146\n",
      "Training fold 4\n"
     ]
    },
    {
     "name": "stderr",
     "output_type": "stream",
     "text": [
      "/home/slex/programy/anaconda3/envs/fastai/lib/python3.8/site-packages/lightgbm/basic.py:1551: UserWarning: Using categorical_feature in Dataset.\n",
      "  warnings.warn('Using categorical_feature in Dataset.')\n",
      "/home/slex/programy/anaconda3/envs/fastai/lib/python3.8/site-packages/lightgbm/basic.py:1286: UserWarning: Overriding the parameters from Reference Dataset.\n",
      "  warnings.warn('Overriding the parameters from Reference Dataset.')\n",
      "/home/slex/programy/anaconda3/envs/fastai/lib/python3.8/site-packages/lightgbm/basic.py:1098: UserWarning: categorical_column in param dict is overridden.\n",
      "  warnings.warn('{} in param dict is overridden.'.format(cat_alias))\n"
     ]
    },
    {
     "name": "stdout",
     "output_type": "stream",
     "text": [
      "Training until validation scores don't improve for 25 rounds\n",
      "[100]\ttraining's rmse: 0.000460056\ttraining's RMSPE: 0.213741\tvalid_1's rmse: 0.000474639\tvalid_1's RMSPE: 0.221608\n",
      "Early stopping, best iteration is:\n",
      "[131]\ttraining's rmse: 0.000452558\ttraining's RMSPE: 0.210258\tvalid_1's rmse: 0.000472326\tvalid_1's RMSPE: 0.220528\n",
      "Training fold 5\n"
     ]
    },
    {
     "name": "stderr",
     "output_type": "stream",
     "text": [
      "/home/slex/programy/anaconda3/envs/fastai/lib/python3.8/site-packages/lightgbm/basic.py:1551: UserWarning: Using categorical_feature in Dataset.\n",
      "  warnings.warn('Using categorical_feature in Dataset.')\n",
      "/home/slex/programy/anaconda3/envs/fastai/lib/python3.8/site-packages/lightgbm/basic.py:1286: UserWarning: Overriding the parameters from Reference Dataset.\n",
      "  warnings.warn('Overriding the parameters from Reference Dataset.')\n",
      "/home/slex/programy/anaconda3/envs/fastai/lib/python3.8/site-packages/lightgbm/basic.py:1098: UserWarning: categorical_column in param dict is overridden.\n",
      "  warnings.warn('{} in param dict is overridden.'.format(cat_alias))\n"
     ]
    },
    {
     "name": "stdout",
     "output_type": "stream",
     "text": [
      "Training until validation scores don't improve for 25 rounds\n",
      "[100]\ttraining's rmse: 0.000455317\ttraining's RMSPE: 0.212126\tvalid_1's rmse: 0.000498296\tvalid_1's RMSPE: 0.23008\n",
      "Early stopping, best iteration is:\n",
      "[123]\ttraining's rmse: 0.000449586\ttraining's RMSPE: 0.209456\tvalid_1's rmse: 0.000497311\tvalid_1's RMSPE: 0.229625\n",
      "Our out of folds RMSPE is 0.22700455244257312\n"
     ]
    }
   ],
   "source": [
    "models=train_models(train_df10m)"
   ]
  },
  {
   "cell_type": "code",
   "execution_count": 65,
   "id": "educational-challenge",
   "metadata": {},
   "outputs": [
    {
     "data": {
      "text/plain": [
       "0.22712353793195325"
      ]
     },
     "execution_count": 65,
     "metadata": {},
     "output_type": "execute_result"
    }
   ],
   "source": [
    "test_pred = np.zeros(len(test_df10m))\n",
    "for model in models:\n",
    "    pred = model.predict(test_df10m.drop(['row_id', 'time_id', 'target'], axis=1)) \n",
    "    test_pred += pred /5\n",
    "\n",
    "baseline_score = rmspe_np(test_df10m.target, test_pred)\n",
    "baseline_score"
   ]
  },
  {
   "cell_type": "markdown",
   "id": "unnecessary-birmingham",
   "metadata": {},
   "source": [
    "## LGBM 10m with trained embeddings"
   ]
  },
  {
   "cell_type": "code",
   "execution_count": 87,
   "id": "divided-marijuana",
   "metadata": {},
   "outputs": [],
   "source": [
    "df_with_embs = append_embs(pd.read_feather('train_10m.feather'), categorify, learn.model.embeds[0], learn.model.embeds[1])"
   ]
  },
  {
   "cell_type": "code",
   "execution_count": 88,
   "id": "generic-trader",
   "metadata": {},
   "outputs": [],
   "source": [
    "train_10m_with_embs = df_with_embs[df_with_embs.time_id.isin(train_ids)].reset_index()\n",
    "test_10m_with_embs = df_with_embs[df_with_embs.time_id.isin(test_ids)].reset_index()"
   ]
  },
  {
   "cell_type": "code",
   "execution_count": 89,
   "id": "velvet-magnet",
   "metadata": {},
   "outputs": [
    {
     "name": "stdout",
     "output_type": "stream",
     "text": [
      "Training fold 1\n"
     ]
    },
    {
     "name": "stderr",
     "output_type": "stream",
     "text": [
      "/home/slex/programy/anaconda3/envs/fastai/lib/python3.8/site-packages/lightgbm/basic.py:1551: UserWarning: Using categorical_feature in Dataset.\n",
      "  warnings.warn('Using categorical_feature in Dataset.')\n",
      "/home/slex/programy/anaconda3/envs/fastai/lib/python3.8/site-packages/lightgbm/basic.py:1286: UserWarning: Overriding the parameters from Reference Dataset.\n",
      "  warnings.warn('Overriding the parameters from Reference Dataset.')\n",
      "/home/slex/programy/anaconda3/envs/fastai/lib/python3.8/site-packages/lightgbm/basic.py:1098: UserWarning: categorical_column in param dict is overridden.\n",
      "  warnings.warn('{} in param dict is overridden.'.format(cat_alias))\n"
     ]
    },
    {
     "name": "stdout",
     "output_type": "stream",
     "text": [
      "Training until validation scores don't improve for 25 rounds\n",
      "[100]\ttraining's rmse: 0.000454377\ttraining's RMSPE: 0.211956\tvalid_1's rmse: 0.000490815\tvalid_1's RMSPE: 0.22546\n",
      "[200]\ttraining's rmse: 0.000435026\ttraining's RMSPE: 0.202929\tvalid_1's rmse: 0.000487656\tvalid_1's RMSPE: 0.224008\n",
      "Early stopping, best iteration is:\n",
      "[237]\ttraining's rmse: 0.000429095\ttraining's RMSPE: 0.200163\tvalid_1's rmse: 0.000486959\tvalid_1's RMSPE: 0.223689\n",
      "Training fold 2\n"
     ]
    },
    {
     "name": "stderr",
     "output_type": "stream",
     "text": [
      "/home/slex/programy/anaconda3/envs/fastai/lib/python3.8/site-packages/lightgbm/basic.py:1551: UserWarning: Using categorical_feature in Dataset.\n",
      "  warnings.warn('Using categorical_feature in Dataset.')\n",
      "/home/slex/programy/anaconda3/envs/fastai/lib/python3.8/site-packages/lightgbm/basic.py:1286: UserWarning: Overriding the parameters from Reference Dataset.\n",
      "  warnings.warn('Overriding the parameters from Reference Dataset.')\n",
      "/home/slex/programy/anaconda3/envs/fastai/lib/python3.8/site-packages/lightgbm/basic.py:1098: UserWarning: categorical_column in param dict is overridden.\n",
      "  warnings.warn('{} in param dict is overridden.'.format(cat_alias))\n"
     ]
    },
    {
     "name": "stdout",
     "output_type": "stream",
     "text": [
      "Training until validation scores don't improve for 25 rounds\n",
      "[100]\ttraining's rmse: 0.000459131\ttraining's RMSPE: 0.212601\tvalid_1's rmse: 0.000496513\tvalid_1's RMSPE: 0.234853\n",
      "[200]\ttraining's rmse: 0.000438123\ttraining's RMSPE: 0.202874\tvalid_1's rmse: 0.000489081\tvalid_1's RMSPE: 0.231338\n",
      "Early stopping, best iteration is:\n",
      "[248]\ttraining's rmse: 0.000431543\ttraining's RMSPE: 0.199827\tvalid_1's rmse: 0.000487978\tvalid_1's RMSPE: 0.230816\n",
      "Training fold 3\n"
     ]
    },
    {
     "name": "stderr",
     "output_type": "stream",
     "text": [
      "/home/slex/programy/anaconda3/envs/fastai/lib/python3.8/site-packages/lightgbm/basic.py:1551: UserWarning: Using categorical_feature in Dataset.\n",
      "  warnings.warn('Using categorical_feature in Dataset.')\n",
      "/home/slex/programy/anaconda3/envs/fastai/lib/python3.8/site-packages/lightgbm/basic.py:1286: UserWarning: Overriding the parameters from Reference Dataset.\n",
      "  warnings.warn('Overriding the parameters from Reference Dataset.')\n",
      "/home/slex/programy/anaconda3/envs/fastai/lib/python3.8/site-packages/lightgbm/basic.py:1098: UserWarning: categorical_column in param dict is overridden.\n",
      "  warnings.warn('{} in param dict is overridden.'.format(cat_alias))\n"
     ]
    },
    {
     "name": "stdout",
     "output_type": "stream",
     "text": [
      "Training until validation scores don't improve for 25 rounds\n",
      "[100]\ttraining's rmse: 0.000456363\ttraining's RMSPE: 0.212334\tvalid_1's rmse: 0.000489171\tvalid_1's RMSPE: 0.227069\n",
      "Early stopping, best iteration is:\n",
      "[167]\ttraining's rmse: 0.000441636\ttraining's RMSPE: 0.205483\tvalid_1's rmse: 0.000487968\tvalid_1's RMSPE: 0.22651\n",
      "Training fold 4\n"
     ]
    },
    {
     "name": "stderr",
     "output_type": "stream",
     "text": [
      "/home/slex/programy/anaconda3/envs/fastai/lib/python3.8/site-packages/lightgbm/basic.py:1551: UserWarning: Using categorical_feature in Dataset.\n",
      "  warnings.warn('Using categorical_feature in Dataset.')\n",
      "/home/slex/programy/anaconda3/envs/fastai/lib/python3.8/site-packages/lightgbm/basic.py:1286: UserWarning: Overriding the parameters from Reference Dataset.\n",
      "  warnings.warn('Overriding the parameters from Reference Dataset.')\n",
      "/home/slex/programy/anaconda3/envs/fastai/lib/python3.8/site-packages/lightgbm/basic.py:1098: UserWarning: categorical_column in param dict is overridden.\n",
      "  warnings.warn('{} in param dict is overridden.'.format(cat_alias))\n"
     ]
    },
    {
     "name": "stdout",
     "output_type": "stream",
     "text": [
      "Training until validation scores don't improve for 25 rounds\n",
      "[100]\ttraining's rmse: 0.000457784\ttraining's RMSPE: 0.212686\tvalid_1's rmse: 0.000474653\tvalid_1's RMSPE: 0.221615\n",
      "Early stopping, best iteration is:\n",
      "[142]\ttraining's rmse: 0.000448075\ttraining's RMSPE: 0.208175\tvalid_1's rmse: 0.000473884\tvalid_1's RMSPE: 0.221256\n",
      "Training fold 5\n"
     ]
    },
    {
     "name": "stderr",
     "output_type": "stream",
     "text": [
      "/home/slex/programy/anaconda3/envs/fastai/lib/python3.8/site-packages/lightgbm/basic.py:1551: UserWarning: Using categorical_feature in Dataset.\n",
      "  warnings.warn('Using categorical_feature in Dataset.')\n",
      "/home/slex/programy/anaconda3/envs/fastai/lib/python3.8/site-packages/lightgbm/basic.py:1286: UserWarning: Overriding the parameters from Reference Dataset.\n",
      "  warnings.warn('Overriding the parameters from Reference Dataset.')\n",
      "/home/slex/programy/anaconda3/envs/fastai/lib/python3.8/site-packages/lightgbm/basic.py:1098: UserWarning: categorical_column in param dict is overridden.\n",
      "  warnings.warn('{} in param dict is overridden.'.format(cat_alias))\n"
     ]
    },
    {
     "name": "stdout",
     "output_type": "stream",
     "text": [
      "Training until validation scores don't improve for 25 rounds\n",
      "[100]\ttraining's rmse: 0.000454498\ttraining's RMSPE: 0.211744\tvalid_1's rmse: 0.000496605\tvalid_1's RMSPE: 0.229299\n",
      "Early stopping, best iteration is:\n",
      "[134]\ttraining's rmse: 0.000446422\ttraining's RMSPE: 0.207982\tvalid_1's rmse: 0.000495038\tvalid_1's RMSPE: 0.228576\n",
      "Our out of folds RMSPE is 0.22619400140100202\n"
     ]
    }
   ],
   "source": [
    "models=train_models(train_10m_with_embs)"
   ]
  },
  {
   "cell_type": "code",
   "execution_count": 90,
   "id": "commercial-target",
   "metadata": {},
   "outputs": [
    {
     "data": {
      "text/plain": [
       "0.22521628921079376"
      ]
     },
     "execution_count": 90,
     "metadata": {},
     "output_type": "execute_result"
    }
   ],
   "source": [
    "test_pred = np.zeros(len(test_10m_with_embs))\n",
    "for model in models:\n",
    "    pred = model.predict(test_10m_with_embs.drop(['row_id', 'time_id', 'target'], axis=1)) \n",
    "    test_pred += pred /5\n",
    "\n",
    "embeds_score = rmspe_np(test_df10m.target, test_pred)\n",
    "embeds_score"
   ]
  },
  {
   "cell_type": "code",
   "execution_count": 91,
   "id": "north-preservation",
   "metadata": {},
   "outputs": [
    {
     "data": {
      "text/plain": [
       "0.008397406708814609"
      ]
     },
     "execution_count": 91,
     "metadata": {},
     "output_type": "execute_result"
    }
   ],
   "source": [
    "(baseline_score-embeds_score)/ baseline_score"
   ]
  },
  {
   "cell_type": "markdown",
   "id": "cloudy-rocket",
   "metadata": {},
   "source": [
    "## LGBM with embeddings and time/stock features and 5-10"
   ]
  },
  {
   "cell_type": "code",
   "execution_count": 92,
   "id": "higher-impact",
   "metadata": {},
   "outputs": [],
   "source": [
    "df_with_embs['5m_pred']= preds5_10\n",
    "train_10m_with_embs = df_with_embs[df_with_embs.time_id.isin(train_ids)].reset_index()\n",
    "test_10m_with_embs = df_with_embs[df_with_embs.time_id.isin(test_ids)].reset_index()"
   ]
  },
  {
   "cell_type": "code",
   "execution_count": 93,
   "id": "tutorial-piano",
   "metadata": {},
   "outputs": [
    {
     "name": "stdout",
     "output_type": "stream",
     "text": [
      "Training fold 1\n"
     ]
    },
    {
     "name": "stderr",
     "output_type": "stream",
     "text": [
      "/home/slex/programy/anaconda3/envs/fastai/lib/python3.8/site-packages/lightgbm/basic.py:1551: UserWarning: Using categorical_feature in Dataset.\n",
      "  warnings.warn('Using categorical_feature in Dataset.')\n",
      "/home/slex/programy/anaconda3/envs/fastai/lib/python3.8/site-packages/lightgbm/basic.py:1286: UserWarning: Overriding the parameters from Reference Dataset.\n",
      "  warnings.warn('Overriding the parameters from Reference Dataset.')\n",
      "/home/slex/programy/anaconda3/envs/fastai/lib/python3.8/site-packages/lightgbm/basic.py:1098: UserWarning: categorical_column in param dict is overridden.\n",
      "  warnings.warn('{} in param dict is overridden.'.format(cat_alias))\n"
     ]
    },
    {
     "name": "stdout",
     "output_type": "stream",
     "text": [
      "Training until validation scores don't improve for 25 rounds\n",
      "[100]\ttraining's rmse: 0.000450637\ttraining's RMSPE: 0.210212\tvalid_1's rmse: 0.000486953\tvalid_1's RMSPE: 0.223686\n",
      "[200]\ttraining's rmse: 0.000431722\ttraining's RMSPE: 0.201388\tvalid_1's rmse: 0.000486256\tvalid_1's RMSPE: 0.223365\n",
      "Early stopping, best iteration is:\n",
      "[193]\ttraining's rmse: 0.000432744\ttraining's RMSPE: 0.201865\tvalid_1's rmse: 0.000486049\tvalid_1's RMSPE: 0.22327\n",
      "Training fold 2\n"
     ]
    },
    {
     "name": "stderr",
     "output_type": "stream",
     "text": [
      "/home/slex/programy/anaconda3/envs/fastai/lib/python3.8/site-packages/lightgbm/basic.py:1551: UserWarning: Using categorical_feature in Dataset.\n",
      "  warnings.warn('Using categorical_feature in Dataset.')\n",
      "/home/slex/programy/anaconda3/envs/fastai/lib/python3.8/site-packages/lightgbm/basic.py:1286: UserWarning: Overriding the parameters from Reference Dataset.\n",
      "  warnings.warn('Overriding the parameters from Reference Dataset.')\n",
      "/home/slex/programy/anaconda3/envs/fastai/lib/python3.8/site-packages/lightgbm/basic.py:1098: UserWarning: categorical_column in param dict is overridden.\n",
      "  warnings.warn('{} in param dict is overridden.'.format(cat_alias))\n"
     ]
    },
    {
     "name": "stdout",
     "output_type": "stream",
     "text": [
      "Training until validation scores don't improve for 25 rounds\n",
      "[100]\ttraining's rmse: 0.000454601\ttraining's RMSPE: 0.210504\tvalid_1's rmse: 0.000475713\tvalid_1's RMSPE: 0.225015\n",
      "[200]\ttraining's rmse: 0.000435315\ttraining's RMSPE: 0.201574\tvalid_1's rmse: 0.000472309\tvalid_1's RMSPE: 0.223405\n",
      "Early stopping, best iteration is:\n",
      "[178]\ttraining's rmse: 0.000438903\ttraining's RMSPE: 0.203235\tvalid_1's rmse: 0.000472239\tvalid_1's RMSPE: 0.223372\n",
      "Training fold 3\n"
     ]
    },
    {
     "name": "stderr",
     "output_type": "stream",
     "text": [
      "/home/slex/programy/anaconda3/envs/fastai/lib/python3.8/site-packages/lightgbm/basic.py:1551: UserWarning: Using categorical_feature in Dataset.\n",
      "  warnings.warn('Using categorical_feature in Dataset.')\n",
      "/home/slex/programy/anaconda3/envs/fastai/lib/python3.8/site-packages/lightgbm/basic.py:1286: UserWarning: Overriding the parameters from Reference Dataset.\n",
      "  warnings.warn('Overriding the parameters from Reference Dataset.')\n",
      "/home/slex/programy/anaconda3/envs/fastai/lib/python3.8/site-packages/lightgbm/basic.py:1098: UserWarning: categorical_column in param dict is overridden.\n",
      "  warnings.warn('{} in param dict is overridden.'.format(cat_alias))\n"
     ]
    },
    {
     "name": "stdout",
     "output_type": "stream",
     "text": [
      "Training until validation scores don't improve for 25 rounds\n",
      "Early stopping, best iteration is:\n",
      "[66]\ttraining's rmse: 0.000463407\ttraining's RMSPE: 0.215612\tvalid_1's rmse: 0.00048188\tvalid_1's RMSPE: 0.223685\n",
      "Training fold 4\n"
     ]
    },
    {
     "name": "stderr",
     "output_type": "stream",
     "text": [
      "/home/slex/programy/anaconda3/envs/fastai/lib/python3.8/site-packages/lightgbm/basic.py:1551: UserWarning: Using categorical_feature in Dataset.\n",
      "  warnings.warn('Using categorical_feature in Dataset.')\n",
      "/home/slex/programy/anaconda3/envs/fastai/lib/python3.8/site-packages/lightgbm/basic.py:1286: UserWarning: Overriding the parameters from Reference Dataset.\n",
      "  warnings.warn('Overriding the parameters from Reference Dataset.')\n",
      "/home/slex/programy/anaconda3/envs/fastai/lib/python3.8/site-packages/lightgbm/basic.py:1098: UserWarning: categorical_column in param dict is overridden.\n",
      "  warnings.warn('{} in param dict is overridden.'.format(cat_alias))\n"
     ]
    },
    {
     "name": "stdout",
     "output_type": "stream",
     "text": [
      "Training until validation scores don't improve for 25 rounds\n",
      "[100]\ttraining's rmse: 0.00045418\ttraining's RMSPE: 0.211011\tvalid_1's rmse: 0.000474072\tvalid_1's RMSPE: 0.221343\n",
      "[200]\ttraining's rmse: 0.000433096\ttraining's RMSPE: 0.201216\tvalid_1's rmse: 0.000472647\tvalid_1's RMSPE: 0.220678\n",
      "Early stopping, best iteration is:\n",
      "[178]\ttraining's rmse: 0.000436766\ttraining's RMSPE: 0.202921\tvalid_1's rmse: 0.000472143\tvalid_1's RMSPE: 0.220443\n",
      "Training fold 5\n"
     ]
    },
    {
     "name": "stderr",
     "output_type": "stream",
     "text": [
      "/home/slex/programy/anaconda3/envs/fastai/lib/python3.8/site-packages/lightgbm/basic.py:1551: UserWarning: Using categorical_feature in Dataset.\n",
      "  warnings.warn('Using categorical_feature in Dataset.')\n",
      "/home/slex/programy/anaconda3/envs/fastai/lib/python3.8/site-packages/lightgbm/basic.py:1286: UserWarning: Overriding the parameters from Reference Dataset.\n",
      "  warnings.warn('Overriding the parameters from Reference Dataset.')\n",
      "/home/slex/programy/anaconda3/envs/fastai/lib/python3.8/site-packages/lightgbm/basic.py:1098: UserWarning: categorical_column in param dict is overridden.\n",
      "  warnings.warn('{} in param dict is overridden.'.format(cat_alias))\n"
     ]
    },
    {
     "name": "stdout",
     "output_type": "stream",
     "text": [
      "Training until validation scores don't improve for 25 rounds\n",
      "[100]\ttraining's rmse: 0.00044976\ttraining's RMSPE: 0.209537\tvalid_1's rmse: 0.000495276\tvalid_1's RMSPE: 0.228686\n",
      "[200]\ttraining's rmse: 0.00043011\ttraining's RMSPE: 0.200382\tvalid_1's rmse: 0.000493834\tvalid_1's RMSPE: 0.22802\n",
      "Early stopping, best iteration is:\n",
      "[200]\ttraining's rmse: 0.00043011\ttraining's RMSPE: 0.200382\tvalid_1's rmse: 0.000493834\tvalid_1's RMSPE: 0.22802\n",
      "Our out of folds RMSPE is 0.22377091163382143\n"
     ]
    }
   ],
   "source": [
    "models=train_models(train_10m_with_embs)"
   ]
  },
  {
   "cell_type": "code",
   "execution_count": 95,
   "id": "decent-starter",
   "metadata": {},
   "outputs": [
    {
     "data": {
      "text/plain": [
       "0.22440618860803177"
      ]
     },
     "execution_count": 95,
     "metadata": {},
     "output_type": "execute_result"
    }
   ],
   "source": [
    "test_pred = np.zeros(len(test_10m_with_embs))\n",
    "for model in models:\n",
    "    pred = model.predict(test_10m_with_embs.drop(['row_id', 'time_id', 'target'], axis=1)) \n",
    "    test_pred += pred /5\n",
    "\n",
    "embeds5mpred_score = rmspe_np(test_df10m.target, test_pred)\n",
    "embeds5mpred_score"
   ]
  },
  {
   "cell_type": "code",
   "execution_count": 96,
   "id": "critical-tucson",
   "metadata": {},
   "outputs": [
    {
     "data": {
      "text/plain": [
       "0.011964190716048132"
      ]
     },
     "execution_count": 96,
     "metadata": {},
     "output_type": "execute_result"
    }
   ],
   "source": [
    "(baseline_score-embeds5mpred_score)/ baseline_score"
   ]
  },
  {
   "cell_type": "code",
   "execution_count": 97,
   "id": "bulgarian-accessory",
   "metadata": {},
   "outputs": [
    {
     "data": {
      "image/png": "[encoded data removed]",
      "text/plain": [
       "<Figure size 432x288 with 1 Axes>"
      ]
     },
     "metadata": {
      "needs_background": "light"
     },
     "output_type": "display_data"
    },
    {
     "data": {
      "image/png": "[encoded data removed]",
      "text/plain": [
       "<Figure size 432x288 with 1 Axes>"
      ]
     },
     "metadata": {
      "needs_background": "light"
     },
     "output_type": "display_data"
    },
    {
     "data": {
      "image/png": "[encoded data removed]",
      "text/plain": [
       "<Figure size 432x288 with 1 Axes>"
      ]
     },
     "metadata": {
      "needs_background": "light"
     },
     "output_type": "display_data"
    },
    {
     "data": {
      "image/png": "[encoded data removed]",
      "text/plain": [
       "<Figure size 432x288 with 1 Axes>"
      ]
     },
     "metadata": {
      "needs_background": "light"
     },
     "output_type": "display_data"
    },
    {
     "data": {
      "image/png": "[encoded data removed]",
      "text/plain": [
       "<Figure size 432x288 with 1 Axes>"
      ]
     },
     "metadata": {
      "needs_background": "light"
     },
     "output_type": "display_data"
    }
   ],
   "source": [
    "for m in models:\n",
    "    lgb.plot_importance(m, max_num_features=20)"
   ]
  },
  {
   "cell_type": "code",
   "execution_count": null,
   "id": "copyrighted-produce",
   "metadata": {},
   "outputs": [],
   "source": []
  },
  {
   "cell_type": "code",
   "execution_count": null,
   "id": "overall-quest",
   "metadata": {},
   "outputs": [],
   "source": []
  }
 ],
 "metadata": {
  "kernelspec": {
   "display_name": "Python 3.8.5 64-bit ('fastai': conda)",
   "language": "python",
   "name": "python38564bitfastaicondad52d12c5a30a4725bf9d3e235cf1271c"
  },
  "language_info": {
   "codemirror_mode": {
    "name": "ipython",
    "version": 3
   },
   "file_extension": ".py",
   "mimetype": "text/x-python",
   "name": "python",
   "nbconvert_exporter": "python",
   "pygments_lexer": "ipython3",
   "version": "3.8.5"
  }
 },
 "nbformat": 4,
 "nbformat_minor": 5
}
