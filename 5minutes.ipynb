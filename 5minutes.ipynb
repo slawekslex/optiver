{
 "cells": [
  {
   "cell_type": "code",
   "execution_count": 1,
   "id": "illegal-southeast",
   "metadata": {},
   "outputs": [],
   "source": [
    "%load_ext autoreload\n",
    "%autoreload 2"
   ]
  },
  {
   "cell_type": "code",
   "execution_count": 2,
   "id": "temporal-bracelet",
   "metadata": {},
   "outputs": [],
   "source": [
    "from fastai.tabular.all import *\n",
    "from multiprocessing import Pool\n",
    "from sklearn.model_selection import KFold\n",
    "import lightgbm as lgb\n",
    "from optiver_features import ffill"
   ]
  },
  {
   "cell_type": "markdown",
   "id": "automated-crossing",
   "metadata": {},
   "source": [
    "## Generate 5m dataset"
   ]
  },
  {
   "cell_type": "code",
   "execution_count": 3,
   "id": "applicable-syria",
   "metadata": {},
   "outputs": [],
   "source": [
    "data_dir = Path('../input/optiver-realized-volatility-prediction')"
   ]
  },
  {
   "cell_type": "code",
   "execution_count": 4,
   "id": "durable-rings",
   "metadata": {},
   "outputs": [],
   "source": [
    "# Function to calculate first WAP\n",
    "def calc_wap1(df):\n",
    "    wap = (df['bid_price1'] * df['ask_size1'] + df['ask_price1'] * df['bid_size1']) / (df['bid_size1'] + df['ask_size1'])\n",
    "    return wap\n",
    "\n",
    "# Function to calculate second WAP\n",
    "def calc_wap2(df):\n",
    "    wap = (df['bid_price2'] * df['ask_size2'] + df['ask_price2'] * df['bid_size2']) / (df['bid_size2'] + df['ask_size2'])\n",
    "    return wap\n",
    "\n",
    "# Function to calculate the log of the return\n",
    "# Remember that logb(x / y) = logb(x) - logb(y)\n",
    "def log_return(series):\n",
    "    return np.log(series).diff()\n",
    "\n",
    "# Calculate the realized volatility\n",
    "def realized_volatility(series):\n",
    "    return np.sqrt(np.sum(series**2))\n",
    "\n",
    "# Function to count unique elements of a series\n",
    "def count_unique(series):\n",
    "    return len(np.unique(series))\n",
    "\n",
    "def book_preprocessor(df, stock_id):\n",
    "    #df = pd.read_parquet(file_path)\n",
    "    # Calculate Wap\n",
    "    df['wap1'] = calc_wap1(df)\n",
    "    df['wap2'] = calc_wap2(df)\n",
    "    # Calculate log returns\n",
    "    df['log_return1'] = df.groupby(['time_id'])['wap1'].apply(log_return)\n",
    "    df['log_return2'] = df.groupby(['time_id'])['wap2'].apply(log_return)\n",
    "    # Calculate wap balance\n",
    "    df['wap_balance'] = abs(df['wap1'] - df['wap2'])\n",
    "    # Calculate spread\n",
    "    df['price_spread'] = (df['ask_price1'] - df['bid_price1']) / ((df['ask_price1'] + df['bid_price1']) / 2)\n",
    "    df['bid_spread'] = df['bid_price1'] - df['bid_price2']\n",
    "    df['ask_spread'] = df['ask_price1'] - df['ask_price2']\n",
    "    df['total_volume'] = (df['ask_size1'] + df['ask_size2']) + (df['bid_size1'] + df['bid_size2'])\n",
    "    df['volume_imbalance'] = abs((df['ask_size1'] + df['ask_size2']) - (df['bid_size1'] + df['bid_size2']))\n",
    "    \n",
    "    # Dict for aggregations\n",
    "    create_feature_dict = {\n",
    "        'wap1': [np.sum, np.mean, np.std],\n",
    "        'wap2': [np.sum, np.mean, np.std],\n",
    "        'log_return1': [np.sum, realized_volatility, np.mean, np.std],\n",
    "        'log_return2': [np.sum, realized_volatility, np.mean, np.std],\n",
    "        'wap_balance': [np.sum, np.mean, np.std],\n",
    "        'price_spread':[np.sum, np.mean, np.std],\n",
    "        'bid_spread':[np.sum, np.mean, np.std],\n",
    "        'ask_spread':[np.sum, np.mean, np.std],\n",
    "        'total_volume':[np.sum, np.mean, np.std],\n",
    "        'volume_imbalance':[np.sum, np.mean, np.std]\n",
    "    }\n",
    "    \n",
    "    # Function to get group stats for different windows (seconds in bucket)\n",
    "    def get_stats_window(seconds_in_bucket, add_suffix = False):\n",
    "        # Group by the window\n",
    "        df_feature = df[df['seconds_in_bucket'] >= seconds_in_bucket].groupby(['time_id']).agg(create_feature_dict).reset_index()\n",
    "        # Rename columns joining suffix\n",
    "        df_feature.columns = ['_'.join(col) for col in df_feature.columns]\n",
    "        # Add a suffix to differentiate windows\n",
    "        if add_suffix:\n",
    "            df_feature = df_feature.add_suffix('_' + str(seconds_in_bucket))\n",
    "        return df_feature\n",
    "    \n",
    "    # Get the stats for different windows\n",
    "    df_feature = get_stats_window(seconds_in_bucket = 0, add_suffix = False)\n",
    "    #df_feature_450 = get_stats_window(seconds_in_bucket = 450, add_suffix = True)\n",
    "    #df_feature_300 = get_stats_window(seconds_in_bucket = 300, add_suffix = True)\n",
    "    #df_feature_150 = get_stats_window(seconds_in_bucket = 150, add_suffix = True)\n",
    "    \n",
    "    # Merge all\n",
    "    #df_feature = df_feature.merge(df_feature_450, how = 'left', left_on = 'time_id_', right_on = 'time_id__450')\n",
    "    #df_feature = df_feature.merge(df_feature_300, how = 'left', left_on = 'time_id_', right_on = 'time_id__300')\n",
    "    #df_feature = df_feature.merge(df_feature_150, how = 'left', left_on = 'time_id_', right_on = 'time_id__150')\n",
    "    # Drop unnecesary time_ids\n",
    "    #df_feature.drop(['time_id__450', 'time_id__300', 'time_id__150'], axis = 1, inplace = True)\n",
    "    \n",
    "    # Create row_id so we can merge\n",
    "    #stock_id = str(file_path).split('=')[1]\n",
    "    df_feature['row_id'] = df_feature['time_id_'].apply(lambda x: f'{stock_id}-{x}')\n",
    "    df_feature = df_feature.rename(columns={\"time_id_\": \"time_id\"})\n",
    "    \n",
    "    df_feature['stock_id'] = stock_id\n",
    "    return df_feature"
   ]
  },
  {
   "cell_type": "code",
   "execution_count": 5,
   "id": "hybrid-marina",
   "metadata": {},
   "outputs": [],
   "source": [
    "def trade_preprocessor(df, stock_id):\n",
    "    #df = pd.read_parquet(file_path)\n",
    "    df['log_return'] = df.groupby('time_id')['price'].apply(log_return)\n",
    "    \n",
    "    # Dict for aggregations\n",
    "    create_feature_dict = {\n",
    "        'log_return':[realized_volatility],\n",
    "        'seconds_in_bucket':[count_unique],\n",
    "        'size':[np.sum],\n",
    "        'order_count':[np.mean],\n",
    "    }\n",
    "    \n",
    "    # Function to get group stats for different windows (seconds in bucket)\n",
    "    def get_stats_window(seconds_in_bucket, add_suffix = False):\n",
    "        # Group by the window\n",
    "        df_feature = df[df['seconds_in_bucket'] >= seconds_in_bucket].groupby(['time_id']).agg(create_feature_dict).reset_index()\n",
    "        # Rename columns joining suffix\n",
    "        df_feature.columns = ['_'.join(col) for col in df_feature.columns]\n",
    "        # Add a suffix to differentiate windows\n",
    "        if add_suffix:\n",
    "            df_feature = df_feature.add_suffix('_' + str(seconds_in_bucket))\n",
    "        return df_feature\n",
    "    \n",
    "    # Get the stats for different windows\n",
    "    df_feature = get_stats_window(seconds_in_bucket = 0, add_suffix = False)\n",
    "#     df_feature_450 = get_stats_window(seconds_in_bucket = 450, add_suffix = True)\n",
    "#     df_feature_300 = get_stats_window(seconds_in_bucket = 300, add_suffix = True)\n",
    "#     df_feature_150 = get_stats_window(seconds_in_bucket = 150, add_suffix = True)\n",
    "\n",
    "    # Merge all\n",
    "#     df_feature = df_feature.merge(df_feature_450, how = 'left', left_on = 'time_id_', right_on = 'time_id__450')\n",
    "#     df_feature = df_feature.merge(df_feature_300, how = 'left', left_on = 'time_id_', right_on = 'time_id__300')\n",
    "#     df_feature = df_feature.merge(df_feature_150, how = 'left', left_on = 'time_id_', right_on = 'time_id__150')\n",
    "    # Drop unnecesary time_ids\n",
    "#     df_feature.drop(['time_id__450', 'time_id__300', 'time_id__150'], axis = 1, inplace = True)\n",
    "    \n",
    "    df_feature = df_feature.add_prefix('trade_')\n",
    "    #stock_id = str(file_path).split('=')[1]\n",
    "    df_feature['row_id'] = df_feature['trade_time_id_'].apply(lambda x:f'{stock_id}-{x}')\n",
    "    df_feature.drop(['trade_time_id_'], axis = 1, inplace = True)\n",
    "    return df_feature"
   ]
  },
  {
   "cell_type": "code",
   "execution_count": 6,
   "id": "indirect-privilege",
   "metadata": {},
   "outputs": [],
   "source": [
    "def realized_volatility_per_time_id(df_book_data, stock_id):\n",
    "    df_book_data['wap'] =(df_book_data['bid_price1'] * df_book_data['ask_size1']+df_book_data['ask_price1'] * df_book_data['bid_size1'])  / (\n",
    "                                      df_book_data['bid_size1']+ df_book_data[\n",
    "                                  'ask_size1'])\n",
    "    df_book_data['log_return'] = df_book_data.groupby(['time_id'])['wap'].apply(log_return)\n",
    "    df_book_data = df_book_data[~df_book_data['log_return'].isnull()]\n",
    "    df_realized_vol_per_stock =  pd.DataFrame(df_book_data.groupby(['time_id'])['log_return'].agg(realized_volatility)).reset_index()\n",
    "    df_realized_vol_per_stock = df_realized_vol_per_stock.rename(columns = {'log_return':'target'})\n",
    "    df_realized_vol_per_stock['row_id'] = df_realized_vol_per_stock['time_id'].apply(lambda x:f'{stock_id}-{x}')\n",
    "    return df_realized_vol_per_stock[['row_id', 'target']]"
   ]
  },
  {
   "cell_type": "code",
   "execution_count": 7,
   "id": "rocky-frequency",
   "metadata": {},
   "outputs": [],
   "source": [
    "def preprocess_one_stock(stock_id, typ='train'):\n",
    "    book_df = pd.read_parquet(data_dir / f'book_{typ}.parquet/stock_id={stock_id}')\n",
    "    book_df = ffill(book_df)\n",
    "    trade_df = pd.read_parquet(data_dir / f'trade_{typ}.parquet/stock_id={stock_id}')\n",
    "    book_5m  = book_preprocessor(book_df[book_df.seconds_in_bucket < 300].copy(), stock_id)\n",
    "    trade_5m = trade_preprocessor(trade_df[trade_df.seconds_in_bucket < 300].copy(), stock_id)\n",
    "    realized_vol = realized_volatility_per_time_id(book_df[book_df.seconds_in_bucket >= 300].copy(), stock_id)\n",
    "    res = pd.merge(book_5m, trade_5m, on = 'row_id', how = 'left')\n",
    "    res = pd.merge(res, realized_vol, on = 'row_id', how='left')\n",
    "    return res"
   ]
  },
  {
   "cell_type": "code",
   "execution_count": 8,
   "id": "casual-sponsorship",
   "metadata": {},
   "outputs": [],
   "source": [
    "def preprocess_5_to_10(stock_id, typ='train'):\n",
    "    book_df = pd.read_parquet(data_dir / f'book_{typ}.parquet/stock_id={stock_id}')\n",
    "    book_df = ffill(book_df)\n",
    "    trade_df = pd.read_parquet(data_dir / f'trade_{typ}.parquet/stock_id={stock_id}')\n",
    "    book_5m  = book_preprocessor(book_df[book_df.seconds_in_bucket >=300].copy(), stock_id)\n",
    "    trade_5m = trade_preprocessor(trade_df[trade_df.seconds_in_bucket >= 300].copy(), stock_id)\n",
    "    res = pd.merge(book_5m, trade_5m, on = 'row_id', how = 'left')\n",
    "    return res"
   ]
  },
  {
   "cell_type": "code",
   "execution_count": 9,
   "id": "literary-period",
   "metadata": {},
   "outputs": [],
   "source": [
    "def preprocess_all(list_stock_ids, typ='train'):\n",
    "    pool = Pool(16)\n",
    "    df = pool.starmap(preprocess_one_stock, zip(list_stock_ids, [typ]*len(list_stock_ids)))\n",
    "    df = pd.concat(df, ignore_index = True)\n",
    "    return df\n"
   ]
  },
  {
   "cell_type": "code",
   "execution_count": 10,
   "id": "everyday-phase",
   "metadata": {},
   "outputs": [],
   "source": [
    "def preprocess_all_5_10(list_stock_ids, typ='train'):\n",
    "    pool = Pool(16)\n",
    "    df = pool.starmap(preprocess_5_to_10, zip(list_stock_ids, [typ]*len(list_stock_ids)))\n",
    "    df = pd.concat(df, ignore_index = True)\n",
    "    return df\n"
   ]
  },
  {
   "cell_type": "code",
   "execution_count": 11,
   "id": "unknown-academy",
   "metadata": {},
   "outputs": [],
   "source": [
    "def generate_train_df():\n",
    "    train_df = pd.read_csv(data_dir/'train.csv')\n",
    "    train_stock_ids = train_df['stock_id'].unique()\n",
    "    train_features = preprocess_all(train_stock_ids, 'train')\n",
    "    return train_features"
   ]
  },
  {
   "cell_type": "code",
   "execution_count": 12,
   "id": "disciplinary-flavor",
   "metadata": {},
   "outputs": [],
   "source": [
    "def generate_5_to_10():\n",
    "    train_df = pd.read_csv(data_dir/'train.csv')\n",
    "    train_stock_ids = train_df['stock_id'].unique()\n",
    "    train_features = preprocess_all_5_10(train_stock_ids, 'train')\n",
    "    return train_features"
   ]
  },
  {
   "cell_type": "code",
   "execution_count": 33,
   "id": "deluxe-highland",
   "metadata": {},
   "outputs": [],
   "source": [
    "train_df = generate_train_df()\n",
    "\n",
    "\n",
    "# train_df.to_csv('train_5m.df', index=False)"
   ]
  },
  {
   "cell_type": "code",
   "execution_count": 14,
   "id": "aware-description",
   "metadata": {},
   "outputs": [],
   "source": [
    "train_df = pd.read_csv('train_5m.df')"
   ]
  },
  {
   "cell_type": "code",
   "execution_count": 35,
   "id": "conventional-render",
   "metadata": {},
   "outputs": [],
   "source": [
    "train_df.target = train_df.target.replace(0,train_df.target.mean())"
   ]
  },
  {
   "cell_type": "code",
   "execution_count": 16,
   "id": "manufactured-richards",
   "metadata": {},
   "outputs": [
    {
     "data": {
      "text/plain": [
       "428932"
      ]
     },
     "execution_count": 16,
     "metadata": {},
     "output_type": "execute_result"
    }
   ],
   "source": [
    "len(train_df)"
   ]
  },
  {
   "cell_type": "markdown",
   "id": "english-genius",
   "metadata": {},
   "source": [
    "## LGBM Baseline"
   ]
  },
  {
   "cell_type": "code",
   "execution_count": 60,
   "id": "adjacent-density",
   "metadata": {},
   "outputs": [],
   "source": [
    "def rmspe_np(y_true, y_pred):\n",
    "    return np.sqrt(np.mean(np.square((y_true - y_pred) / y_true)))\n",
    "def feval_rmspe(y_pred, lgb_train):\n",
    "    y_true = lgb_train.get_label()\n",
    "    return 'RMSPE', rmspe_np(y_true, y_pred), False\n",
    "\n",
    "def train_models(train):\n",
    "    # Hyperparammeters (optimized)\n",
    "    seed = 29\n",
    "    params = {\n",
    "        'learning_rate': 0.1,        \n",
    "        'lambda_l1': 2,\n",
    "        'lambda_l2': 7,\n",
    "        'num_leaves': 800,\n",
    "        'min_sum_hessian_in_leaf': 20,\n",
    "        'feature_fraction': 0.8,\n",
    "        'feature_fraction_bynode': 0.8,\n",
    "        'bagging_fraction': 0.9,\n",
    "        'bagging_freq': 42,\n",
    "        'min_data_in_leaf': 700,\n",
    "        'max_depth': 4,\n",
    "        'seed': seed,\n",
    "        'feature_fraction_seed': seed,\n",
    "        'bagging_seed': seed,\n",
    "        'drop_seed': seed,\n",
    "        'data_random_seed': seed,\n",
    "        'objective': 'rmse',\n",
    "        'boosting': 'gbdt',\n",
    "        'verbosity': -1,\n",
    "        'n_jobs': -1,\n",
    "    }   \n",
    "    \n",
    "    # Split features and target\n",
    "    x = train.drop(['row_id', 'target', 'time_id'], axis = 1)\n",
    "    y = train['target']\n",
    "    # Transform stock id to a numeric value\n",
    "    x['stock_id'] = x['stock_id'].astype(int)\n",
    "    models =[]\n",
    "    # Create out of folds array\n",
    "    oof_predictions = np.zeros(x.shape[0])\n",
    "    # Create a KFold object\n",
    "    kfold = KFold(n_splits = 5, random_state = 1111, shuffle = True)\n",
    "    # Iterate through each fold\n",
    "    for fold, (trn_ind, val_ind) in enumerate(kfold.split(x)):\n",
    "        print(f'Training fold {fold + 1}')\n",
    "        x_train, x_val = x.iloc[trn_ind], x.iloc[val_ind]\n",
    "        y_train, y_val = y.iloc[trn_ind], y.iloc[val_ind]\n",
    "        # Root mean squared percentage error weights\n",
    "        train_weights = 1 / np.square(y_train)\n",
    "        val_weights = 1 / np.square(y_val)\n",
    "        train_dataset = lgb.Dataset(x_train, y_train, weight = train_weights, categorical_feature = ['stock_id'])\n",
    "        val_dataset = lgb.Dataset(x_val, y_val, weight = val_weights, categorical_feature = ['stock_id'])\n",
    "        model = lgb.train(params = params, \n",
    "                          train_set = train_dataset, \n",
    "                          valid_sets = [train_dataset, val_dataset], \n",
    "                          num_boost_round = 3000, \n",
    "                          early_stopping_rounds = 25, \n",
    "                          verbose_eval = 100,\n",
    "                          feval = feval_rmspe)\n",
    "        models.append(model)\n",
    "        # Add predictions to the out of folds array\n",
    "        oof_predictions[val_ind] = model.predict(x_val)\n",
    "        # Predict the test set\n",
    "        #test_predictions += model.predict(x_test) / 10\n",
    "        \n",
    "    rmspe_score = rmspe_np(y, oof_predictions)\n",
    "    print(f'Our out of folds RMSPE is {rmspe_score}')\n",
    "    # Return test predictions\n",
    "    return models"
   ]
  },
  {
   "cell_type": "code",
   "execution_count": 16,
   "id": "greek-nudist",
   "metadata": {},
   "outputs": [
    {
     "name": "stdout",
     "output_type": "stream",
     "text": [
      "Training fold 1\n"
     ]
    },
    {
     "name": "stderr",
     "output_type": "stream",
     "text": [
      "/home/slex/programy/anaconda3/envs/fastai/lib/python3.8/site-packages/lightgbm/basic.py:1551: UserWarning: Using categorical_feature in Dataset.\n",
      "  warnings.warn('Using categorical_feature in Dataset.')\n",
      "/home/slex/programy/anaconda3/envs/fastai/lib/python3.8/site-packages/lightgbm/basic.py:1286: UserWarning: Overriding the parameters from Reference Dataset.\n",
      "  warnings.warn('Overriding the parameters from Reference Dataset.')\n",
      "/home/slex/programy/anaconda3/envs/fastai/lib/python3.8/site-packages/lightgbm/basic.py:1098: UserWarning: categorical_column in param dict is overridden.\n",
      "  warnings.warn('{} in param dict is overridden.'.format(cat_alias))\n"
     ]
    },
    {
     "name": "stdout",
     "output_type": "stream",
     "text": [
      "Training until validation scores don't improve for 25 rounds\n",
      "[100]\ttraining's rmse: 0.000360649\ttraining's RMSPE: 0.247353\tvalid_1's rmse: 0.000370301\tvalid_1's RMSPE: 0.253292\n",
      "[200]\ttraining's rmse: 0.000352139\ttraining's RMSPE: 0.241517\tvalid_1's rmse: 0.00036751\tvalid_1's RMSPE: 0.251383\n",
      "Early stopping, best iteration is:\n",
      "[208]\ttraining's rmse: 0.000351711\ttraining's RMSPE: 0.241223\tvalid_1's rmse: 0.000367395\tvalid_1's RMSPE: 0.251304\n",
      "Training fold 2\n"
     ]
    },
    {
     "name": "stderr",
     "output_type": "stream",
     "text": [
      "/home/slex/programy/anaconda3/envs/fastai/lib/python3.8/site-packages/lightgbm/basic.py:1551: UserWarning: Using categorical_feature in Dataset.\n",
      "  warnings.warn('Using categorical_feature in Dataset.')\n",
      "/home/slex/programy/anaconda3/envs/fastai/lib/python3.8/site-packages/lightgbm/basic.py:1286: UserWarning: Overriding the parameters from Reference Dataset.\n",
      "  warnings.warn('Overriding the parameters from Reference Dataset.')\n",
      "/home/slex/programy/anaconda3/envs/fastai/lib/python3.8/site-packages/lightgbm/basic.py:1098: UserWarning: categorical_column in param dict is overridden.\n",
      "  warnings.warn('{} in param dict is overridden.'.format(cat_alias))\n"
     ]
    },
    {
     "name": "stdout",
     "output_type": "stream",
     "text": [
      "Training until validation scores don't improve for 25 rounds\n",
      "[100]\ttraining's rmse: 0.000360059\ttraining's RMSPE: 0.247387\tvalid_1's rmse: 0.000385922\tvalid_1's RMSPE: 0.262085\n",
      "[200]\ttraining's rmse: 0.000352039\ttraining's RMSPE: 0.241877\tvalid_1's rmse: 0.000382626\tvalid_1's RMSPE: 0.259846\n",
      "[300]\ttraining's rmse: 0.0003472\ttraining's RMSPE: 0.238551\tvalid_1's rmse: 0.000381338\tvalid_1's RMSPE: 0.258971\n",
      "Early stopping, best iteration is:\n",
      "[368]\ttraining's rmse: 0.000344786\ttraining's RMSPE: 0.236893\tvalid_1's rmse: 0.000380891\tvalid_1's RMSPE: 0.258668\n",
      "Training fold 3\n"
     ]
    },
    {
     "name": "stderr",
     "output_type": "stream",
     "text": [
      "/home/slex/programy/anaconda3/envs/fastai/lib/python3.8/site-packages/lightgbm/basic.py:1551: UserWarning: Using categorical_feature in Dataset.\n",
      "  warnings.warn('Using categorical_feature in Dataset.')\n",
      "/home/slex/programy/anaconda3/envs/fastai/lib/python3.8/site-packages/lightgbm/basic.py:1286: UserWarning: Overriding the parameters from Reference Dataset.\n",
      "  warnings.warn('Overriding the parameters from Reference Dataset.')\n",
      "/home/slex/programy/anaconda3/envs/fastai/lib/python3.8/site-packages/lightgbm/basic.py:1098: UserWarning: categorical_column in param dict is overridden.\n",
      "  warnings.warn('{} in param dict is overridden.'.format(cat_alias))\n"
     ]
    },
    {
     "name": "stdout",
     "output_type": "stream",
     "text": [
      "Training until validation scores don't improve for 25 rounds\n",
      "[100]\ttraining's rmse: 0.000361442\ttraining's RMSPE: 0.245717\tvalid_1's rmse: 0.000433884\tvalid_1's RMSPE: 0.307054\n",
      "Early stopping, best iteration is:\n",
      "[106]\ttraining's rmse: 0.000360679\ttraining's RMSPE: 0.245198\tvalid_1's rmse: 0.000433256\tvalid_1's RMSPE: 0.30661\n",
      "Training fold 4\n"
     ]
    },
    {
     "name": "stderr",
     "output_type": "stream",
     "text": [
      "/home/slex/programy/anaconda3/envs/fastai/lib/python3.8/site-packages/lightgbm/basic.py:1551: UserWarning: Using categorical_feature in Dataset.\n",
      "  warnings.warn('Using categorical_feature in Dataset.')\n",
      "/home/slex/programy/anaconda3/envs/fastai/lib/python3.8/site-packages/lightgbm/basic.py:1286: UserWarning: Overriding the parameters from Reference Dataset.\n",
      "  warnings.warn('Overriding the parameters from Reference Dataset.')\n",
      "/home/slex/programy/anaconda3/envs/fastai/lib/python3.8/site-packages/lightgbm/basic.py:1098: UserWarning: categorical_column in param dict is overridden.\n",
      "  warnings.warn('{} in param dict is overridden.'.format(cat_alias))\n"
     ]
    },
    {
     "name": "stdout",
     "output_type": "stream",
     "text": [
      "Training until validation scores don't improve for 25 rounds\n",
      "[100]\ttraining's rmse: 0.000360735\ttraining's RMSPE: 0.247391\tvalid_1's rmse: 0.000382665\tvalid_1's RMSPE: 0.261836\n",
      "[200]\ttraining's rmse: 0.000352754\ttraining's RMSPE: 0.241918\tvalid_1's rmse: 0.000378777\tvalid_1's RMSPE: 0.259176\n",
      "Early stopping, best iteration is:\n",
      "[225]\ttraining's rmse: 0.000351392\ttraining's RMSPE: 0.240984\tvalid_1's rmse: 0.000378498\tvalid_1's RMSPE: 0.258985\n",
      "Training fold 5\n"
     ]
    },
    {
     "name": "stderr",
     "output_type": "stream",
     "text": [
      "/home/slex/programy/anaconda3/envs/fastai/lib/python3.8/site-packages/lightgbm/basic.py:1551: UserWarning: Using categorical_feature in Dataset.\n",
      "  warnings.warn('Using categorical_feature in Dataset.')\n",
      "/home/slex/programy/anaconda3/envs/fastai/lib/python3.8/site-packages/lightgbm/basic.py:1286: UserWarning: Overriding the parameters from Reference Dataset.\n",
      "  warnings.warn('Overriding the parameters from Reference Dataset.')\n",
      "/home/slex/programy/anaconda3/envs/fastai/lib/python3.8/site-packages/lightgbm/basic.py:1098: UserWarning: categorical_column in param dict is overridden.\n",
      "  warnings.warn('{} in param dict is overridden.'.format(cat_alias))\n"
     ]
    },
    {
     "name": "stdout",
     "output_type": "stream",
     "text": [
      "Training until validation scores don't improve for 25 rounds\n",
      "[100]\ttraining's rmse: 0.000359133\ttraining's RMSPE: 0.24739\tvalid_1's rmse: 0.000371712\tvalid_1's RMSPE: 0.249735\n",
      "[200]\ttraining's rmse: 0.000351016\ttraining's RMSPE: 0.241799\tvalid_1's rmse: 0.000367894\tvalid_1's RMSPE: 0.24717\n",
      "[300]\ttraining's rmse: 0.000346282\ttraining's RMSPE: 0.238538\tvalid_1's rmse: 0.000366285\tvalid_1's RMSPE: 0.246089\n",
      "[400]\ttraining's rmse: 0.000342881\ttraining's RMSPE: 0.236195\tvalid_1's rmse: 0.000365247\tvalid_1's RMSPE: 0.245391\n",
      "[500]\ttraining's rmse: 0.000340189\ttraining's RMSPE: 0.234341\tvalid_1's rmse: 0.000364664\tvalid_1's RMSPE: 0.245\n",
      "[600]\ttraining's rmse: 0.000337919\ttraining's RMSPE: 0.232777\tvalid_1's rmse: 0.000364243\tvalid_1's RMSPE: 0.244717\n",
      "[700]\ttraining's rmse: 0.000335984\ttraining's RMSPE: 0.231444\tvalid_1's rmse: 0.000363968\tvalid_1's RMSPE: 0.244532\n",
      "Early stopping, best iteration is:\n",
      "[717]\ttraining's rmse: 0.000335638\ttraining's RMSPE: 0.231206\tvalid_1's rmse: 0.000363884\tvalid_1's RMSPE: 0.244476\n",
      "Our out of folds RMSPE is 0.2649203167648208\n"
     ]
    }
   ],
   "source": [
    "_=train_models(train_df)"
   ]
  },
  {
   "cell_type": "markdown",
   "id": "rural-processor",
   "metadata": {},
   "source": [
    "## Learning embeddings"
   ]
  },
  {
   "cell_type": "code",
   "execution_count": 26,
   "id": "fitted-alert",
   "metadata": {},
   "outputs": [],
   "source": [
    "cont_nn,cat_nn = cont_cat_split(train_df, max_card=9000, dep_var='target')\n",
    "cat_nn.remove('row_id')"
   ]
  },
  {
   "cell_type": "code",
   "execution_count": 27,
   "id": "lovely-attendance",
   "metadata": {},
   "outputs": [
    {
     "data": {
      "text/plain": [
       "['time_id', 'stock_id']"
      ]
     },
     "execution_count": 27,
     "metadata": {},
     "output_type": "execute_result"
    }
   ],
   "source": [
    "cat_nn"
   ]
  },
  {
   "cell_type": "code",
   "execution_count": 41,
   "id": "alien-proceeding",
   "metadata": {},
   "outputs": [],
   "source": [
    "\n",
    "procs_nn = [Categorify, FillMissing,Normalize]\n",
    "\n",
    "splits = RandomSplitter()(train_df)\n",
    "\n",
    "dls = TabularPandas(train_df, procs_nn, cat_nn, cont_nn,\n",
    "                      splits=splits, \n",
    "                       \n",
    "                      y_names='target').dataloaders(1024)"
   ]
  },
  {
   "cell_type": "code",
   "execution_count": 42,
   "id": "driving-burner",
   "metadata": {},
   "outputs": [],
   "source": [
    "def rmspe(preds, targs):\n",
    "    x = (targs-preds)/targs\n",
    "    return (x**2).mean().sqrt()\n",
    "\n",
    "config={'lin_first':True, 'ps':[.5,.2,0], 'embed_p':.25, }\n",
    "learn = tabular_learner(dls, y_range=(0,.1), layers=[100,50,20], emb_szs={'stock_id':10, 'time_id':10}, \n",
    "                        n_out=1, loss_func = rmspe, metrics=AccumMetric(rmspe), config=config)"
   ]
  },
  {
   "cell_type": "code",
   "execution_count": 43,
   "id": "waiting-guard",
   "metadata": {},
   "outputs": [
    {
     "data": {
      "text/html": [
       "<table border=\"1\" class=\"dataframe\">\n",
       "  <thead>\n",
       "    <tr style=\"text-align: left;\">\n",
       "      <th>epoch</th>\n",
       "      <th>train_loss</th>\n",
       "      <th>valid_loss</th>\n",
       "      <th>rmspe</th>\n",
       "      <th>time</th>\n",
       "    </tr>\n",
       "  </thead>\n",
       "  <tbody>\n",
       "    <tr>\n",
       "      <td>0</td>\n",
       "      <td>12.292204</td>\n",
       "      <td>10.023963</td>\n",
       "      <td>10.028076</td>\n",
       "      <td>00:03</td>\n",
       "    </tr>\n",
       "    <tr>\n",
       "      <td>1</td>\n",
       "      <td>1.593133</td>\n",
       "      <td>0.701313</td>\n",
       "      <td>1.032341</td>\n",
       "      <td>00:03</td>\n",
       "    </tr>\n",
       "    <tr>\n",
       "      <td>2</td>\n",
       "      <td>0.459753</td>\n",
       "      <td>0.339552</td>\n",
       "      <td>0.400446</td>\n",
       "      <td>00:03</td>\n",
       "    </tr>\n",
       "    <tr>\n",
       "      <td>3</td>\n",
       "      <td>0.375230</td>\n",
       "      <td>0.285995</td>\n",
       "      <td>0.287980</td>\n",
       "      <td>00:03</td>\n",
       "    </tr>\n",
       "    <tr>\n",
       "      <td>4</td>\n",
       "      <td>0.323547</td>\n",
       "      <td>0.257406</td>\n",
       "      <td>0.257879</td>\n",
       "      <td>00:03</td>\n",
       "    </tr>\n",
       "    <tr>\n",
       "      <td>5</td>\n",
       "      <td>0.322598</td>\n",
       "      <td>0.251798</td>\n",
       "      <td>0.256070</td>\n",
       "      <td>00:03</td>\n",
       "    </tr>\n",
       "    <tr>\n",
       "      <td>6</td>\n",
       "      <td>0.283244</td>\n",
       "      <td>0.256082</td>\n",
       "      <td>0.261079</td>\n",
       "      <td>00:03</td>\n",
       "    </tr>\n",
       "    <tr>\n",
       "      <td>7</td>\n",
       "      <td>0.285927</td>\n",
       "      <td>0.244123</td>\n",
       "      <td>0.245920</td>\n",
       "      <td>00:03</td>\n",
       "    </tr>\n",
       "    <tr>\n",
       "      <td>8</td>\n",
       "      <td>0.266510</td>\n",
       "      <td>0.239383</td>\n",
       "      <td>0.242188</td>\n",
       "      <td>00:03</td>\n",
       "    </tr>\n",
       "    <tr>\n",
       "      <td>9</td>\n",
       "      <td>0.258033</td>\n",
       "      <td>0.242236</td>\n",
       "      <td>0.248476</td>\n",
       "      <td>00:03</td>\n",
       "    </tr>\n",
       "    <tr>\n",
       "      <td>10</td>\n",
       "      <td>0.252684</td>\n",
       "      <td>0.233548</td>\n",
       "      <td>0.234180</td>\n",
       "      <td>00:03</td>\n",
       "    </tr>\n",
       "    <tr>\n",
       "      <td>11</td>\n",
       "      <td>0.251718</td>\n",
       "      <td>0.240001</td>\n",
       "      <td>0.247656</td>\n",
       "      <td>00:03</td>\n",
       "    </tr>\n",
       "    <tr>\n",
       "      <td>12</td>\n",
       "      <td>0.263720</td>\n",
       "      <td>0.250433</td>\n",
       "      <td>0.257850</td>\n",
       "      <td>00:03</td>\n",
       "    </tr>\n",
       "    <tr>\n",
       "      <td>13</td>\n",
       "      <td>0.247783</td>\n",
       "      <td>0.238683</td>\n",
       "      <td>0.247664</td>\n",
       "      <td>00:03</td>\n",
       "    </tr>\n",
       "    <tr>\n",
       "      <td>14</td>\n",
       "      <td>0.245262</td>\n",
       "      <td>0.238001</td>\n",
       "      <td>0.245403</td>\n",
       "      <td>00:03</td>\n",
       "    </tr>\n",
       "    <tr>\n",
       "      <td>15</td>\n",
       "      <td>0.253808</td>\n",
       "      <td>0.237924</td>\n",
       "      <td>0.243981</td>\n",
       "      <td>00:03</td>\n",
       "    </tr>\n",
       "    <tr>\n",
       "      <td>16</td>\n",
       "      <td>0.243402</td>\n",
       "      <td>0.236727</td>\n",
       "      <td>0.243997</td>\n",
       "      <td>00:03</td>\n",
       "    </tr>\n",
       "    <tr>\n",
       "      <td>17</td>\n",
       "      <td>0.241763</td>\n",
       "      <td>0.236666</td>\n",
       "      <td>0.243970</td>\n",
       "      <td>00:03</td>\n",
       "    </tr>\n",
       "    <tr>\n",
       "      <td>18</td>\n",
       "      <td>0.246539</td>\n",
       "      <td>0.236138</td>\n",
       "      <td>0.243302</td>\n",
       "      <td>00:03</td>\n",
       "    </tr>\n",
       "    <tr>\n",
       "      <td>19</td>\n",
       "      <td>0.239538</td>\n",
       "      <td>0.236166</td>\n",
       "      <td>0.243168</td>\n",
       "      <td>00:03</td>\n",
       "    </tr>\n",
       "  </tbody>\n",
       "</table>"
      ],
      "text/plain": [
       "<IPython.core.display.HTML object>"
      ]
     },
     "metadata": {},
     "output_type": "display_data"
    }
   ],
   "source": [
    "learn.fit_one_cycle(20, 5e-3)"
   ]
  },
  {
   "cell_type": "code",
   "execution_count": 44,
   "id": "presidential-address",
   "metadata": {},
   "outputs": [],
   "source": [
    "torch.save(learn.model.embeds[0].weight.data, 'timeemb10.pt')"
   ]
  },
  {
   "cell_type": "code",
   "execution_count": 45,
   "id": "governmental-repository",
   "metadata": {},
   "outputs": [
    {
     "data": {
      "text/plain": [
       "3831"
      ]
     },
     "execution_count": 45,
     "metadata": {},
     "output_type": "execute_result"
    }
   ],
   "source": [
    "categorify = dls.procs[2]\n",
    "len(categorify.classes['time_id'])"
   ]
  },
  {
   "cell_type": "code",
   "execution_count": 85,
   "id": "great-hardware",
   "metadata": {},
   "outputs": [],
   "source": [
    "def append_embs(data_df, categorify, time_embs, stock_embs):\n",
    "    time_id_embs = dict()\n",
    "    for idx, time_id in enumerate(categorify.classes['time_id']):\n",
    "        time_id_embs[time_id] = time_embs.weight[idx].tolist()\n",
    "\n",
    "    stock_id_embs = dict()\n",
    "    for idx, stock_id in enumerate(categorify.classes['stock_id']):\n",
    "        stock_id_embs[stock_id] = stock_embs.weight[idx].tolist()\n",
    "\n",
    "    all_embs = []\n",
    "    for _, row in (data_df[['stock_id', 'time_id']].iterrows()):\n",
    "        emb1 = stock_id_embs[row.stock_id]\n",
    "        emb2 = time_id_embs[row.time_id]\n",
    "        all_embs.append(emb1+emb2)\n",
    "    columns = [f'stock_emb{i}' for i in range(stock_embs.weight.shape[1])] +[f'time_emb{i}' for i in range(time_embs.weight.shape[1])]\n",
    "    embs_df = pd.DataFrame(all_embs, columns=columns)\n",
    "\n",
    "    return pd.concat([data_df, embs_df], axis=1)"
   ]
  },
  {
   "cell_type": "code",
   "execution_count": 88,
   "id": "fifth-teddy",
   "metadata": {},
   "outputs": [],
   "source": [
    "train_with_embs = append_embs(train_df, categorify, learn.model.embeds[0], learn.model.embeds[1])\n",
    "\n"
   ]
  },
  {
   "cell_type": "code",
   "execution_count": 52,
   "id": "continued-zoning",
   "metadata": {},
   "outputs": [],
   "source": [
    "test_df = generate_5_to_10()\n",
    "test_dl = dls.test_dl(test_df)\n",
    "preds, _ = learn.get_preds(dl=test_dl)\n",
    "preds5_10 = preds.view(-1).numpy()"
   ]
  },
  {
   "cell_type": "markdown",
   "id": "western-groove",
   "metadata": {},
   "source": [
    "## Train 5m LGBM with embeddings\n"
   ]
  },
  {
   "cell_type": "code",
   "execution_count": 28,
   "id": "ruled-survivor",
   "metadata": {},
   "outputs": [
    {
     "name": "stdout",
     "output_type": "stream",
     "text": [
      "Training fold 1\n"
     ]
    },
    {
     "name": "stderr",
     "output_type": "stream",
     "text": [
      "/home/slex/programy/anaconda3/envs/fastai/lib/python3.8/site-packages/lightgbm/basic.py:1551: UserWarning: Using categorical_feature in Dataset.\n",
      "  warnings.warn('Using categorical_feature in Dataset.')\n",
      "/home/slex/programy/anaconda3/envs/fastai/lib/python3.8/site-packages/lightgbm/basic.py:1286: UserWarning: Overriding the parameters from Reference Dataset.\n",
      "  warnings.warn('Overriding the parameters from Reference Dataset.')\n",
      "/home/slex/programy/anaconda3/envs/fastai/lib/python3.8/site-packages/lightgbm/basic.py:1098: UserWarning: categorical_column in param dict is overridden.\n",
      "  warnings.warn('{} in param dict is overridden.'.format(cat_alias))\n"
     ]
    },
    {
     "name": "stdout",
     "output_type": "stream",
     "text": [
      "Training until validation scores don't improve for 25 rounds\n",
      "[100]\ttraining's rmse: 0.000324031\ttraining's RMSPE: 0.222238\tvalid_1's rmse: 0.000332081\tvalid_1's RMSPE: 0.227149\n",
      "[200]\ttraining's rmse: 0.00031552\ttraining's RMSPE: 0.216401\tvalid_1's rmse: 0.000327265\tvalid_1's RMSPE: 0.223854\n",
      "[300]\ttraining's rmse: 0.000310753\ttraining's RMSPE: 0.213132\tvalid_1's rmse: 0.000325976\tvalid_1's RMSPE: 0.222973\n",
      "Early stopping, best iteration is:\n",
      "[300]\ttraining's rmse: 0.000310753\ttraining's RMSPE: 0.213132\tvalid_1's rmse: 0.000325976\tvalid_1's RMSPE: 0.222973\n",
      "Training fold 2\n"
     ]
    },
    {
     "name": "stderr",
     "output_type": "stream",
     "text": [
      "/home/slex/programy/anaconda3/envs/fastai/lib/python3.8/site-packages/lightgbm/basic.py:1551: UserWarning: Using categorical_feature in Dataset.\n",
      "  warnings.warn('Using categorical_feature in Dataset.')\n",
      "/home/slex/programy/anaconda3/envs/fastai/lib/python3.8/site-packages/lightgbm/basic.py:1286: UserWarning: Overriding the parameters from Reference Dataset.\n",
      "  warnings.warn('Overriding the parameters from Reference Dataset.')\n",
      "/home/slex/programy/anaconda3/envs/fastai/lib/python3.8/site-packages/lightgbm/basic.py:1098: UserWarning: categorical_column in param dict is overridden.\n",
      "  warnings.warn('{} in param dict is overridden.'.format(cat_alias))\n"
     ]
    },
    {
     "name": "stdout",
     "output_type": "stream",
     "text": [
      "Training until validation scores don't improve for 25 rounds\n",
      "[100]\ttraining's rmse: 0.000322768\ttraining's RMSPE: 0.221765\tvalid_1's rmse: 0.000347521\tvalid_1's RMSPE: 0.236006\n",
      "[200]\ttraining's rmse: 0.000314802\ttraining's RMSPE: 0.216292\tvalid_1's rmse: 0.000342993\tvalid_1's RMSPE: 0.23293\n",
      "Early stopping, best iteration is:\n",
      "[256]\ttraining's rmse: 0.000312153\ttraining's RMSPE: 0.214472\tvalid_1's rmse: 0.000342132\tvalid_1's RMSPE: 0.232346\n",
      "Training fold 3\n"
     ]
    },
    {
     "name": "stderr",
     "output_type": "stream",
     "text": [
      "/home/slex/programy/anaconda3/envs/fastai/lib/python3.8/site-packages/lightgbm/basic.py:1551: UserWarning: Using categorical_feature in Dataset.\n",
      "  warnings.warn('Using categorical_feature in Dataset.')\n",
      "/home/slex/programy/anaconda3/envs/fastai/lib/python3.8/site-packages/lightgbm/basic.py:1286: UserWarning: Overriding the parameters from Reference Dataset.\n",
      "  warnings.warn('Overriding the parameters from Reference Dataset.')\n",
      "/home/slex/programy/anaconda3/envs/fastai/lib/python3.8/site-packages/lightgbm/basic.py:1098: UserWarning: categorical_column in param dict is overridden.\n",
      "  warnings.warn('{} in param dict is overridden.'.format(cat_alias))\n"
     ]
    },
    {
     "name": "stdout",
     "output_type": "stream",
     "text": [
      "Training until validation scores don't improve for 25 rounds\n",
      "[100]\ttraining's rmse: 0.000325286\ttraining's RMSPE: 0.221138\tvalid_1's rmse: 0.000347615\tvalid_1's RMSPE: 0.246003\n",
      "Early stopping, best iteration is:\n",
      "[103]\ttraining's rmse: 0.00032496\ttraining's RMSPE: 0.220916\tvalid_1's rmse: 0.00034736\tvalid_1's RMSPE: 0.245822\n",
      "Training fold 4\n"
     ]
    },
    {
     "name": "stderr",
     "output_type": "stream",
     "text": [
      "/home/slex/programy/anaconda3/envs/fastai/lib/python3.8/site-packages/lightgbm/basic.py:1551: UserWarning: Using categorical_feature in Dataset.\n",
      "  warnings.warn('Using categorical_feature in Dataset.')\n",
      "/home/slex/programy/anaconda3/envs/fastai/lib/python3.8/site-packages/lightgbm/basic.py:1286: UserWarning: Overriding the parameters from Reference Dataset.\n",
      "  warnings.warn('Overriding the parameters from Reference Dataset.')\n",
      "/home/slex/programy/anaconda3/envs/fastai/lib/python3.8/site-packages/lightgbm/basic.py:1098: UserWarning: categorical_column in param dict is overridden.\n",
      "  warnings.warn('{} in param dict is overridden.'.format(cat_alias))\n"
     ]
    },
    {
     "name": "stdout",
     "output_type": "stream",
     "text": [
      "Training until validation scores don't improve for 25 rounds\n",
      "[100]\ttraining's rmse: 0.000323893\ttraining's RMSPE: 0.222125\tvalid_1's rmse: 0.000343677\tvalid_1's RMSPE: 0.235159\n",
      "[200]\ttraining's rmse: 0.000315516\ttraining's RMSPE: 0.216381\tvalid_1's rmse: 0.000338029\tvalid_1's RMSPE: 0.231295\n",
      "[300]\ttraining's rmse: 0.000310725\ttraining's RMSPE: 0.213095\tvalid_1's rmse: 0.000334501\tvalid_1's RMSPE: 0.22888\n",
      "Early stopping, best iteration is:\n",
      "[347]\ttraining's rmse: 0.000308923\ttraining's RMSPE: 0.211859\tvalid_1's rmse: 0.00033413\tvalid_1's RMSPE: 0.228627\n",
      "Training fold 5\n"
     ]
    },
    {
     "name": "stderr",
     "output_type": "stream",
     "text": [
      "/home/slex/programy/anaconda3/envs/fastai/lib/python3.8/site-packages/lightgbm/basic.py:1551: UserWarning: Using categorical_feature in Dataset.\n",
      "  warnings.warn('Using categorical_feature in Dataset.')\n",
      "/home/slex/programy/anaconda3/envs/fastai/lib/python3.8/site-packages/lightgbm/basic.py:1286: UserWarning: Overriding the parameters from Reference Dataset.\n",
      "  warnings.warn('Overriding the parameters from Reference Dataset.')\n",
      "/home/slex/programy/anaconda3/envs/fastai/lib/python3.8/site-packages/lightgbm/basic.py:1098: UserWarning: categorical_column in param dict is overridden.\n",
      "  warnings.warn('{} in param dict is overridden.'.format(cat_alias))\n"
     ]
    },
    {
     "name": "stdout",
     "output_type": "stream",
     "text": [
      "Training until validation scores don't improve for 25 rounds\n",
      "[100]\ttraining's rmse: 0.000322635\ttraining's RMSPE: 0.222249\tvalid_1's rmse: 0.000336257\tvalid_1's RMSPE: 0.225914\n",
      "[200]\ttraining's rmse: 0.000314039\ttraining's RMSPE: 0.216327\tvalid_1's rmse: 0.000332355\tvalid_1's RMSPE: 0.223293\n",
      "[300]\ttraining's rmse: 0.000309389\ttraining's RMSPE: 0.213124\tvalid_1's rmse: 0.000330444\tvalid_1's RMSPE: 0.222009\n",
      "[400]\ttraining's rmse: 0.000306236\ttraining's RMSPE: 0.210952\tvalid_1's rmse: 0.000329441\tvalid_1's RMSPE: 0.221335\n",
      "[500]\ttraining's rmse: 0.000303719\ttraining's RMSPE: 0.209218\tvalid_1's rmse: 0.000328984\tvalid_1's RMSPE: 0.221028\n",
      "[600]\ttraining's rmse: 0.000301583\ttraining's RMSPE: 0.207747\tvalid_1's rmse: 0.000328692\tvalid_1's RMSPE: 0.220832\n",
      "[700]\ttraining's rmse: 0.000299705\ttraining's RMSPE: 0.206453\tvalid_1's rmse: 0.000328403\tvalid_1's RMSPE: 0.220638\n",
      "Early stopping, best iteration is:\n",
      "[710]\ttraining's rmse: 0.000299511\ttraining's RMSPE: 0.20632\tvalid_1's rmse: 0.000328358\tvalid_1's RMSPE: 0.220608\n",
      "Our out of folds RMSPE is 0.23024696636828546\n"
     ]
    }
   ],
   "source": [
    "_=train_models(train_with_embs)"
   ]
  },
  {
   "cell_type": "markdown",
   "id": "accessory-rouge",
   "metadata": {},
   "source": [
    "## Baseline LGMB 10m"
   ]
  },
  {
   "cell_type": "code",
   "execution_count": 61,
   "id": "electric-acrylic",
   "metadata": {},
   "outputs": [],
   "source": [
    "train_10m = pd.read_csv('train_with_features_NO_ST.csv')"
   ]
  },
  {
   "cell_type": "code",
   "execution_count": 62,
   "id": "graduate-appeal",
   "metadata": {},
   "outputs": [],
   "source": [
    "from optiver_features import get_time_stock\n",
    "train_10m_time_stock = get_time_stock(train_10m)"
   ]
  },
  {
   "cell_type": "code",
   "execution_count": 63,
   "id": "expired-tobago",
   "metadata": {},
   "outputs": [
    {
     "name": "stdout",
     "output_type": "stream",
     "text": [
      "Training fold 1\n"
     ]
    },
    {
     "name": "stderr",
     "output_type": "stream",
     "text": [
      "/home/slex/programy/anaconda3/envs/fastai/lib/python3.8/site-packages/lightgbm/basic.py:1551: UserWarning: Using categorical_feature in Dataset.\n",
      "  warnings.warn('Using categorical_feature in Dataset.')\n",
      "/home/slex/programy/anaconda3/envs/fastai/lib/python3.8/site-packages/lightgbm/basic.py:1286: UserWarning: Overriding the parameters from Reference Dataset.\n",
      "  warnings.warn('Overriding the parameters from Reference Dataset.')\n",
      "/home/slex/programy/anaconda3/envs/fastai/lib/python3.8/site-packages/lightgbm/basic.py:1098: UserWarning: categorical_column in param dict is overridden.\n",
      "  warnings.warn('{} in param dict is overridden.'.format(cat_alias))\n"
     ]
    },
    {
     "name": "stdout",
     "output_type": "stream",
     "text": [
      "Training until validation scores don't improve for 25 rounds\n",
      "[100]\ttraining's rmse: 0.000472369\ttraining's RMSPE: 0.218697\tvalid_1's rmse: 0.000483167\tvalid_1's RMSPE: 0.223294\n",
      "[200]\ttraining's rmse: 0.000456434\ttraining's RMSPE: 0.211319\tvalid_1's rmse: 0.000471963\tvalid_1's RMSPE: 0.218117\n",
      "[300]\ttraining's rmse: 0.000444947\ttraining's RMSPE: 0.206001\tvalid_1's rmse: 0.000463557\tvalid_1's RMSPE: 0.214231\n",
      "[400]\ttraining's rmse: 0.00043609\ttraining's RMSPE: 0.201901\tvalid_1's rmse: 0.000457713\tvalid_1's RMSPE: 0.211531\n",
      "[500]\ttraining's rmse: 0.000428288\ttraining's RMSPE: 0.198288\tvalid_1's rmse: 0.000452597\tvalid_1's RMSPE: 0.209167\n",
      "[600]\ttraining's rmse: 0.000422108\ttraining's RMSPE: 0.195427\tvalid_1's rmse: 0.000449117\tvalid_1's RMSPE: 0.207558\n",
      "[700]\ttraining's rmse: 0.000416375\ttraining's RMSPE: 0.192773\tvalid_1's rmse: 0.000445402\tvalid_1's RMSPE: 0.205841\n",
      "[800]\ttraining's rmse: 0.000410935\ttraining's RMSPE: 0.190254\tvalid_1's rmse: 0.00044216\tvalid_1's RMSPE: 0.204343\n",
      "[900]\ttraining's rmse: 0.000406604\ttraining's RMSPE: 0.188249\tvalid_1's rmse: 0.000440674\tvalid_1's RMSPE: 0.203656\n",
      "[1000]\ttraining's rmse: 0.000402775\ttraining's RMSPE: 0.186476\tvalid_1's rmse: 0.00043859\tvalid_1's RMSPE: 0.202693\n",
      "[1100]\ttraining's rmse: 0.000399156\ttraining's RMSPE: 0.184801\tvalid_1's rmse: 0.000437331\tvalid_1's RMSPE: 0.202111\n",
      "[1200]\ttraining's rmse: 0.000395929\ttraining's RMSPE: 0.183307\tvalid_1's rmse: 0.000436158\tvalid_1's RMSPE: 0.201569\n",
      "[1300]\ttraining's rmse: 0.000392588\ttraining's RMSPE: 0.18176\tvalid_1's rmse: 0.000434932\tvalid_1's RMSPE: 0.201003\n",
      "[1400]\ttraining's rmse: 0.000389625\ttraining's RMSPE: 0.180388\tvalid_1's rmse: 0.000433628\tvalid_1's RMSPE: 0.2004\n",
      "Early stopping, best iteration is:\n",
      "[1434]\ttraining's rmse: 0.000388734\ttraining's RMSPE: 0.179976\tvalid_1's rmse: 0.000433368\tvalid_1's RMSPE: 0.20028\n",
      "Training fold 2\n"
     ]
    },
    {
     "name": "stderr",
     "output_type": "stream",
     "text": [
      "/home/slex/programy/anaconda3/envs/fastai/lib/python3.8/site-packages/lightgbm/basic.py:1551: UserWarning: Using categorical_feature in Dataset.\n",
      "  warnings.warn('Using categorical_feature in Dataset.')\n",
      "/home/slex/programy/anaconda3/envs/fastai/lib/python3.8/site-packages/lightgbm/basic.py:1286: UserWarning: Overriding the parameters from Reference Dataset.\n",
      "  warnings.warn('Overriding the parameters from Reference Dataset.')\n",
      "/home/slex/programy/anaconda3/envs/fastai/lib/python3.8/site-packages/lightgbm/basic.py:1098: UserWarning: categorical_column in param dict is overridden.\n",
      "  warnings.warn('{} in param dict is overridden.'.format(cat_alias))\n"
     ]
    },
    {
     "name": "stdout",
     "output_type": "stream",
     "text": [
      "Training until validation scores don't improve for 25 rounds\n",
      "[100]\ttraining's rmse: 0.00047405\ttraining's RMSPE: 0.219247\tvalid_1's rmse: 0.000493132\tvalid_1's RMSPE: 0.228847\n",
      "[200]\ttraining's rmse: 0.000457643\ttraining's RMSPE: 0.211659\tvalid_1's rmse: 0.000482029\tvalid_1's RMSPE: 0.223694\n",
      "[300]\ttraining's rmse: 0.000446028\ttraining's RMSPE: 0.206287\tvalid_1's rmse: 0.000474004\tvalid_1's RMSPE: 0.21997\n",
      "[400]\ttraining's rmse: 0.000437256\ttraining's RMSPE: 0.20223\tvalid_1's rmse: 0.000468424\tvalid_1's RMSPE: 0.217381\n",
      "[500]\ttraining's rmse: 0.000429788\ttraining's RMSPE: 0.198776\tvalid_1's rmse: 0.000463568\tvalid_1's RMSPE: 0.215127\n",
      "Early stopping, best iteration is:\n",
      "[546]\ttraining's rmse: 0.000426411\ttraining's RMSPE: 0.197214\tvalid_1's rmse: 0.0004622\tvalid_1's RMSPE: 0.214492\n",
      "Training fold 3\n"
     ]
    },
    {
     "name": "stderr",
     "output_type": "stream",
     "text": [
      "/home/slex/programy/anaconda3/envs/fastai/lib/python3.8/site-packages/lightgbm/basic.py:1551: UserWarning: Using categorical_feature in Dataset.\n",
      "  warnings.warn('Using categorical_feature in Dataset.')\n",
      "/home/slex/programy/anaconda3/envs/fastai/lib/python3.8/site-packages/lightgbm/basic.py:1286: UserWarning: Overriding the parameters from Reference Dataset.\n",
      "  warnings.warn('Overriding the parameters from Reference Dataset.')\n",
      "/home/slex/programy/anaconda3/envs/fastai/lib/python3.8/site-packages/lightgbm/basic.py:1098: UserWarning: categorical_column in param dict is overridden.\n",
      "  warnings.warn('{} in param dict is overridden.'.format(cat_alias))\n"
     ]
    },
    {
     "name": "stdout",
     "output_type": "stream",
     "text": [
      "Training until validation scores don't improve for 25 rounds\n",
      "[100]\ttraining's rmse: 0.000471619\ttraining's RMSPE: 0.21837\tvalid_1's rmse: 0.000478397\tvalid_1's RMSPE: 0.221005\n",
      "[200]\ttraining's rmse: 0.000456622\ttraining's RMSPE: 0.211427\tvalid_1's rmse: 0.000466537\tvalid_1's RMSPE: 0.215526\n",
      "[300]\ttraining's rmse: 0.000445607\ttraining's RMSPE: 0.206327\tvalid_1's rmse: 0.000458002\tvalid_1's RMSPE: 0.211583\n",
      "[400]\ttraining's rmse: 0.000436655\ttraining's RMSPE: 0.202182\tvalid_1's rmse: 0.000451147\tvalid_1's RMSPE: 0.208416\n",
      "[500]\ttraining's rmse: 0.000429267\ttraining's RMSPE: 0.198761\tvalid_1's rmse: 0.000445774\tvalid_1's RMSPE: 0.205934\n",
      "[600]\ttraining's rmse: 0.000422695\ttraining's RMSPE: 0.195718\tvalid_1's rmse: 0.000441604\tvalid_1's RMSPE: 0.204008\n",
      "[700]\ttraining's rmse: 0.00041678\ttraining's RMSPE: 0.192979\tvalid_1's rmse: 0.000438011\tvalid_1's RMSPE: 0.202348\n",
      "[800]\ttraining's rmse: 0.000411842\ttraining's RMSPE: 0.190692\tvalid_1's rmse: 0.000434914\tvalid_1's RMSPE: 0.200917\n",
      "[900]\ttraining's rmse: 0.000407066\ttraining's RMSPE: 0.188481\tvalid_1's rmse: 0.000432024\tvalid_1's RMSPE: 0.199582\n",
      "[1000]\ttraining's rmse: 0.000403197\ttraining's RMSPE: 0.18669\tvalid_1's rmse: 0.000430291\tvalid_1's RMSPE: 0.198781\n",
      "[1100]\ttraining's rmse: 0.000399825\ttraining's RMSPE: 0.185128\tvalid_1's rmse: 0.000428867\tvalid_1's RMSPE: 0.198124\n",
      "[1200]\ttraining's rmse: 0.000396409\ttraining's RMSPE: 0.183547\tvalid_1's rmse: 0.00042753\tvalid_1's RMSPE: 0.197506\n",
      "[1300]\ttraining's rmse: 0.000393096\ttraining's RMSPE: 0.182013\tvalid_1's rmse: 0.000426216\tvalid_1's RMSPE: 0.196899\n",
      "[1400]\ttraining's rmse: 0.000390562\ttraining's RMSPE: 0.180839\tvalid_1's rmse: 0.000425153\tvalid_1's RMSPE: 0.196408\n",
      "[1500]\ttraining's rmse: 0.000387798\ttraining's RMSPE: 0.17956\tvalid_1's rmse: 0.000424112\tvalid_1's RMSPE: 0.195927\n",
      "[1600]\ttraining's rmse: 0.000385337\ttraining's RMSPE: 0.17842\tvalid_1's rmse: 0.000423369\tvalid_1's RMSPE: 0.195584\n",
      "[1700]\ttraining's rmse: 0.000382764\ttraining's RMSPE: 0.177229\tvalid_1's rmse: 0.000422435\tvalid_1's RMSPE: 0.195152\n",
      "[1800]\ttraining's rmse: 0.000380333\ttraining's RMSPE: 0.176103\tvalid_1's rmse: 0.00042159\tvalid_1's RMSPE: 0.194762\n",
      "[1900]\ttraining's rmse: 0.000377864\ttraining's RMSPE: 0.17496\tvalid_1's rmse: 0.000420888\tvalid_1's RMSPE: 0.194437\n",
      "[2000]\ttraining's rmse: 0.000375441\ttraining's RMSPE: 0.173838\tvalid_1's rmse: 0.000419957\tvalid_1's RMSPE: 0.194008\n",
      "Early stopping, best iteration is:\n",
      "[2046]\ttraining's rmse: 0.000374383\ttraining's RMSPE: 0.173348\tvalid_1's rmse: 0.000419631\tvalid_1's RMSPE: 0.193857\n",
      "Training fold 4\n"
     ]
    },
    {
     "name": "stderr",
     "output_type": "stream",
     "text": [
      "/home/slex/programy/anaconda3/envs/fastai/lib/python3.8/site-packages/lightgbm/basic.py:1551: UserWarning: Using categorical_feature in Dataset.\n",
      "  warnings.warn('Using categorical_feature in Dataset.')\n",
      "/home/slex/programy/anaconda3/envs/fastai/lib/python3.8/site-packages/lightgbm/basic.py:1286: UserWarning: Overriding the parameters from Reference Dataset.\n",
      "  warnings.warn('Overriding the parameters from Reference Dataset.')\n",
      "/home/slex/programy/anaconda3/envs/fastai/lib/python3.8/site-packages/lightgbm/basic.py:1098: UserWarning: categorical_column in param dict is overridden.\n",
      "  warnings.warn('{} in param dict is overridden.'.format(cat_alias))\n"
     ]
    },
    {
     "name": "stdout",
     "output_type": "stream",
     "text": [
      "Training until validation scores don't improve for 25 rounds\n",
      "[100]\ttraining's rmse: 0.000473051\ttraining's RMSPE: 0.218659\tvalid_1's rmse: 0.000479689\tvalid_1's RMSPE: 0.223117\n",
      "[200]\ttraining's rmse: 0.000457686\ttraining's RMSPE: 0.211557\tvalid_1's rmse: 0.000469326\tvalid_1's RMSPE: 0.218297\n",
      "[300]\ttraining's rmse: 0.000445643\ttraining's RMSPE: 0.20599\tvalid_1's rmse: 0.000460368\tvalid_1's RMSPE: 0.214131\n",
      "[400]\ttraining's rmse: 0.000436376\ttraining's RMSPE: 0.201707\tvalid_1's rmse: 0.000453278\tvalid_1's RMSPE: 0.210833\n",
      "[500]\ttraining's rmse: 0.000428336\ttraining's RMSPE: 0.197991\tvalid_1's rmse: 0.0004482\tvalid_1's RMSPE: 0.208471\n",
      "[600]\ttraining's rmse: 0.000422644\ttraining's RMSPE: 0.19536\tvalid_1's rmse: 0.000446044\tvalid_1's RMSPE: 0.207468\n",
      "[700]\ttraining's rmse: 0.000417281\ttraining's RMSPE: 0.192881\tvalid_1's rmse: 0.000443371\tvalid_1's RMSPE: 0.206225\n",
      "[800]\ttraining's rmse: 0.00041215\ttraining's RMSPE: 0.190509\tvalid_1's rmse: 0.000440851\tvalid_1's RMSPE: 0.205053\n",
      "[900]\ttraining's rmse: 0.000407811\ttraining's RMSPE: 0.188503\tvalid_1's rmse: 0.000438562\tvalid_1's RMSPE: 0.203988\n",
      "[1000]\ttraining's rmse: 0.000403705\ttraining's RMSPE: 0.186605\tvalid_1's rmse: 0.000437039\tvalid_1's RMSPE: 0.20328\n",
      "[1100]\ttraining's rmse: 0.000399722\ttraining's RMSPE: 0.184764\tvalid_1's rmse: 0.000435039\tvalid_1's RMSPE: 0.20235\n",
      "[1200]\ttraining's rmse: 0.000395955\ttraining's RMSPE: 0.183023\tvalid_1's rmse: 0.000433577\tvalid_1's RMSPE: 0.201669\n",
      "[1300]\ttraining's rmse: 0.000392768\ttraining's RMSPE: 0.18155\tvalid_1's rmse: 0.000432426\tvalid_1's RMSPE: 0.201134\n",
      "[1400]\ttraining's rmse: 0.00038989\ttraining's RMSPE: 0.180219\tvalid_1's rmse: 0.000431106\tvalid_1's RMSPE: 0.20052\n",
      "[1500]\ttraining's rmse: 0.000387105\ttraining's RMSPE: 0.178932\tvalid_1's rmse: 0.000430259\tvalid_1's RMSPE: 0.200126\n",
      "Early stopping, best iteration is:\n",
      "[1534]\ttraining's rmse: 0.000386179\ttraining's RMSPE: 0.178504\tvalid_1's rmse: 0.000429901\tvalid_1's RMSPE: 0.199959\n",
      "Training fold 5\n"
     ]
    },
    {
     "name": "stderr",
     "output_type": "stream",
     "text": [
      "/home/slex/programy/anaconda3/envs/fastai/lib/python3.8/site-packages/lightgbm/basic.py:1551: UserWarning: Using categorical_feature in Dataset.\n",
      "  warnings.warn('Using categorical_feature in Dataset.')\n",
      "/home/slex/programy/anaconda3/envs/fastai/lib/python3.8/site-packages/lightgbm/basic.py:1286: UserWarning: Overriding the parameters from Reference Dataset.\n",
      "  warnings.warn('Overriding the parameters from Reference Dataset.')\n",
      "/home/slex/programy/anaconda3/envs/fastai/lib/python3.8/site-packages/lightgbm/basic.py:1098: UserWarning: categorical_column in param dict is overridden.\n",
      "  warnings.warn('{} in param dict is overridden.'.format(cat_alias))\n"
     ]
    },
    {
     "name": "stdout",
     "output_type": "stream",
     "text": [
      "Training until validation scores don't improve for 25 rounds\n",
      "[100]\ttraining's rmse: 0.000471791\ttraining's RMSPE: 0.218595\tvalid_1's rmse: 0.000485867\tvalid_1's RMSPE: 0.223856\n",
      "[200]\ttraining's rmse: 0.000456254\ttraining's RMSPE: 0.211397\tvalid_1's rmse: 0.000472728\tvalid_1's RMSPE: 0.217803\n",
      "[300]\ttraining's rmse: 0.000444348\ttraining's RMSPE: 0.20588\tvalid_1's rmse: 0.000463477\tvalid_1's RMSPE: 0.213541\n",
      "[400]\ttraining's rmse: 0.00043573\ttraining's RMSPE: 0.201887\tvalid_1's rmse: 0.000457275\tvalid_1's RMSPE: 0.210683\n",
      "[500]\ttraining's rmse: 0.000428962\ttraining's RMSPE: 0.198751\tvalid_1's rmse: 0.000453733\tvalid_1's RMSPE: 0.209051\n",
      "[600]\ttraining's rmse: 0.000422235\ttraining's RMSPE: 0.195634\tvalid_1's rmse: 0.000448767\tvalid_1's RMSPE: 0.206763\n",
      "[700]\ttraining's rmse: 0.000416327\ttraining's RMSPE: 0.192897\tvalid_1's rmse: 0.000445273\tvalid_1's RMSPE: 0.205153\n",
      "[800]\ttraining's rmse: 0.000411091\ttraining's RMSPE: 0.190471\tvalid_1's rmse: 0.000442164\tvalid_1's RMSPE: 0.203721\n",
      "[900]\ttraining's rmse: 0.000406935\ttraining's RMSPE: 0.188545\tvalid_1's rmse: 0.000440121\tvalid_1's RMSPE: 0.20278\n",
      "[1000]\ttraining's rmse: 0.000403094\ttraining's RMSPE: 0.186766\tvalid_1's rmse: 0.000438835\tvalid_1's RMSPE: 0.202187\n",
      "[1100]\ttraining's rmse: 0.000399209\ttraining's RMSPE: 0.184966\tvalid_1's rmse: 0.000437098\tvalid_1's RMSPE: 0.201387\n",
      "[1200]\ttraining's rmse: 0.000395919\ttraining's RMSPE: 0.183441\tvalid_1's rmse: 0.000435545\tvalid_1's RMSPE: 0.200671\n",
      "[1300]\ttraining's rmse: 0.000392668\ttraining's RMSPE: 0.181935\tvalid_1's rmse: 0.000434369\tvalid_1's RMSPE: 0.200129\n",
      "[1400]\ttraining's rmse: 0.000389613\ttraining's RMSPE: 0.180519\tvalid_1's rmse: 0.000433492\tvalid_1's RMSPE: 0.199725\n",
      "Early stopping, best iteration is:\n",
      "[1429]\ttraining's rmse: 0.00038874\ttraining's RMSPE: 0.180115\tvalid_1's rmse: 0.000432973\tvalid_1's RMSPE: 0.199486\n",
      "Our out of folds RMSPE is 0.20173154586261702\n"
     ]
    }
   ],
   "source": [
    "_=train_models(train_10m_time_stock)"
   ]
  },
  {
   "cell_type": "markdown",
   "id": "signed-headquarters",
   "metadata": {},
   "source": [
    "## LGBM 10m with trained embeddings"
   ]
  },
  {
   "cell_type": "code",
   "execution_count": 64,
   "id": "three-james",
   "metadata": {},
   "outputs": [],
   "source": [
    "train_10m = pd.read_csv('train_with_features_NO_ST.csv')"
   ]
  },
  {
   "cell_type": "code",
   "execution_count": 89,
   "id": "sized-production",
   "metadata": {},
   "outputs": [],
   "source": [
    "train_10m_with_embs = append_embs(train_10m, categorify, learn.model.embeds[0], learn.model.embeds[1])"
   ]
  },
  {
   "cell_type": "code",
   "execution_count": 90,
   "id": "residential-upgrade",
   "metadata": {},
   "outputs": [
    {
     "name": "stdout",
     "output_type": "stream",
     "text": [
      "Training fold 1\n"
     ]
    },
    {
     "name": "stderr",
     "output_type": "stream",
     "text": [
      "/home/slex/programy/anaconda3/envs/fastai/lib/python3.8/site-packages/lightgbm/basic.py:1551: UserWarning: Using categorical_feature in Dataset.\n",
      "  warnings.warn('Using categorical_feature in Dataset.')\n",
      "/home/slex/programy/anaconda3/envs/fastai/lib/python3.8/site-packages/lightgbm/basic.py:1286: UserWarning: Overriding the parameters from Reference Dataset.\n",
      "  warnings.warn('Overriding the parameters from Reference Dataset.')\n",
      "/home/slex/programy/anaconda3/envs/fastai/lib/python3.8/site-packages/lightgbm/basic.py:1098: UserWarning: categorical_column in param dict is overridden.\n",
      "  warnings.warn('{} in param dict is overridden.'.format(cat_alias))\n"
     ]
    },
    {
     "name": "stdout",
     "output_type": "stream",
     "text": [
      "Training until validation scores don't improve for 25 rounds\n",
      "[100]\ttraining's rmse: 0.000479529\ttraining's RMSPE: 0.222012\tvalid_1's rmse: 0.000489676\tvalid_1's RMSPE: 0.226303\n",
      "[200]\ttraining's rmse: 0.000467705\ttraining's RMSPE: 0.216538\tvalid_1's rmse: 0.00048135\tvalid_1's RMSPE: 0.222455\n",
      "[300]\ttraining's rmse: 0.00045937\ttraining's RMSPE: 0.212679\tvalid_1's rmse: 0.000475573\tvalid_1's RMSPE: 0.219785\n",
      "[400]\ttraining's rmse: 0.000452458\ttraining's RMSPE: 0.209479\tvalid_1's rmse: 0.000471505\tvalid_1's RMSPE: 0.217905\n",
      "[500]\ttraining's rmse: 0.00044617\ttraining's RMSPE: 0.206567\tvalid_1's rmse: 0.00046753\tvalid_1's RMSPE: 0.216068\n",
      "[600]\ttraining's rmse: 0.000440645\ttraining's RMSPE: 0.204009\tvalid_1's rmse: 0.000464086\tvalid_1's RMSPE: 0.214476\n",
      "[700]\ttraining's rmse: 0.00043586\ttraining's RMSPE: 0.201794\tvalid_1's rmse: 0.00046149\tvalid_1's RMSPE: 0.213277\n",
      "[800]\ttraining's rmse: 0.000431012\ttraining's RMSPE: 0.19955\tvalid_1's rmse: 0.000458856\tvalid_1's RMSPE: 0.212059\n",
      "[900]\ttraining's rmse: 0.000427484\ttraining's RMSPE: 0.197916\tvalid_1's rmse: 0.000457033\tvalid_1's RMSPE: 0.211217\n",
      "[1000]\ttraining's rmse: 0.00042393\ttraining's RMSPE: 0.196271\tvalid_1's rmse: 0.000455869\tvalid_1's RMSPE: 0.210679\n",
      "[1100]\ttraining's rmse: 0.000420649\ttraining's RMSPE: 0.194752\tvalid_1's rmse: 0.000454317\tvalid_1's RMSPE: 0.209961\n",
      "[1200]\ttraining's rmse: 0.00041762\ttraining's RMSPE: 0.193349\tvalid_1's rmse: 0.000453157\tvalid_1's RMSPE: 0.209425\n",
      "[1300]\ttraining's rmse: 0.000414458\ttraining's RMSPE: 0.191885\tvalid_1's rmse: 0.000452046\tvalid_1's RMSPE: 0.208912\n",
      "[1400]\ttraining's rmse: 0.00041156\ttraining's RMSPE: 0.190544\tvalid_1's rmse: 0.000450684\tvalid_1's RMSPE: 0.208282\n",
      "[1500]\ttraining's rmse: 0.00040915\ttraining's RMSPE: 0.189428\tvalid_1's rmse: 0.000450053\tvalid_1's RMSPE: 0.207991\n",
      "[1600]\ttraining's rmse: 0.000406521\ttraining's RMSPE: 0.188211\tvalid_1's rmse: 0.000449165\tvalid_1's RMSPE: 0.20758\n",
      "[1700]\ttraining's rmse: 0.000404054\ttraining's RMSPE: 0.187069\tvalid_1's rmse: 0.000448358\tvalid_1's RMSPE: 0.207208\n",
      "[1800]\ttraining's rmse: 0.00040141\ttraining's RMSPE: 0.185844\tvalid_1's rmse: 0.000447585\tvalid_1's RMSPE: 0.20685\n",
      "[1900]\ttraining's rmse: 0.000399261\ttraining's RMSPE: 0.18485\tvalid_1's rmse: 0.000447339\tvalid_1's RMSPE: 0.206737\n",
      "Early stopping, best iteration is:\n",
      "[1877]\ttraining's rmse: 0.000399716\ttraining's RMSPE: 0.18506\tvalid_1's rmse: 0.000447231\tvalid_1's RMSPE: 0.206686\n",
      "Training fold 2\n"
     ]
    },
    {
     "name": "stderr",
     "output_type": "stream",
     "text": [
      "/home/slex/programy/anaconda3/envs/fastai/lib/python3.8/site-packages/lightgbm/basic.py:1551: UserWarning: Using categorical_feature in Dataset.\n",
      "  warnings.warn('Using categorical_feature in Dataset.')\n",
      "/home/slex/programy/anaconda3/envs/fastai/lib/python3.8/site-packages/lightgbm/basic.py:1286: UserWarning: Overriding the parameters from Reference Dataset.\n",
      "  warnings.warn('Overriding the parameters from Reference Dataset.')\n",
      "/home/slex/programy/anaconda3/envs/fastai/lib/python3.8/site-packages/lightgbm/basic.py:1098: UserWarning: categorical_column in param dict is overridden.\n",
      "  warnings.warn('{} in param dict is overridden.'.format(cat_alias))\n"
     ]
    },
    {
     "name": "stdout",
     "output_type": "stream",
     "text": [
      "Training until validation scores don't improve for 25 rounds\n",
      "[100]\ttraining's rmse: 0.000480177\ttraining's RMSPE: 0.222081\tvalid_1's rmse: 0.000497152\tvalid_1's RMSPE: 0.230712\n",
      "[200]\ttraining's rmse: 0.000468113\ttraining's RMSPE: 0.216501\tvalid_1's rmse: 0.000489583\tvalid_1's RMSPE: 0.2272\n",
      "[300]\ttraining's rmse: 0.00046007\ttraining's RMSPE: 0.212782\tvalid_1's rmse: 0.000485847\tvalid_1's RMSPE: 0.225466\n",
      "[400]\ttraining's rmse: 0.000453084\ttraining's RMSPE: 0.209551\tvalid_1's rmse: 0.000482226\tvalid_1's RMSPE: 0.223786\n",
      "[500]\ttraining's rmse: 0.000446928\ttraining's RMSPE: 0.206703\tvalid_1's rmse: 0.000479475\tvalid_1's RMSPE: 0.222509\n",
      "[600]\ttraining's rmse: 0.000441884\ttraining's RMSPE: 0.20437\tvalid_1's rmse: 0.000477676\tvalid_1's RMSPE: 0.221674\n",
      "[700]\ttraining's rmse: 0.000437227\ttraining's RMSPE: 0.202217\tvalid_1's rmse: 0.000475633\tvalid_1's RMSPE: 0.220726\n",
      "Early stopping, best iteration is:\n",
      "[677]\ttraining's rmse: 0.000438258\ttraining's RMSPE: 0.202693\tvalid_1's rmse: 0.000475462\tvalid_1's RMSPE: 0.220647\n",
      "Training fold 3\n"
     ]
    },
    {
     "name": "stderr",
     "output_type": "stream",
     "text": [
      "/home/slex/programy/anaconda3/envs/fastai/lib/python3.8/site-packages/lightgbm/basic.py:1551: UserWarning: Using categorical_feature in Dataset.\n",
      "  warnings.warn('Using categorical_feature in Dataset.')\n",
      "/home/slex/programy/anaconda3/envs/fastai/lib/python3.8/site-packages/lightgbm/basic.py:1286: UserWarning: Overriding the parameters from Reference Dataset.\n",
      "  warnings.warn('Overriding the parameters from Reference Dataset.')\n",
      "/home/slex/programy/anaconda3/envs/fastai/lib/python3.8/site-packages/lightgbm/basic.py:1098: UserWarning: categorical_column in param dict is overridden.\n",
      "  warnings.warn('{} in param dict is overridden.'.format(cat_alias))\n"
     ]
    },
    {
     "name": "stdout",
     "output_type": "stream",
     "text": [
      "Training until validation scores don't improve for 25 rounds\n",
      "[100]\ttraining's rmse: 0.000479245\ttraining's RMSPE: 0.221902\tvalid_1's rmse: 0.000486279\tvalid_1's RMSPE: 0.224646\n",
      "[200]\ttraining's rmse: 0.000467536\ttraining's RMSPE: 0.21648\tvalid_1's rmse: 0.000478478\tvalid_1's RMSPE: 0.221042\n",
      "[300]\ttraining's rmse: 0.000459535\ttraining's RMSPE: 0.212775\tvalid_1's rmse: 0.000473456\tvalid_1's RMSPE: 0.218722\n",
      "[400]\ttraining's rmse: 0.000452881\ttraining's RMSPE: 0.209694\tvalid_1's rmse: 0.000469343\tvalid_1's RMSPE: 0.216822\n",
      "[500]\ttraining's rmse: 0.000446728\ttraining's RMSPE: 0.206845\tvalid_1's rmse: 0.000465415\tvalid_1's RMSPE: 0.215007\n",
      "[600]\ttraining's rmse: 0.000440837\ttraining's RMSPE: 0.204118\tvalid_1's rmse: 0.000461685\tvalid_1's RMSPE: 0.213284\n",
      "[700]\ttraining's rmse: 0.000436388\ttraining's RMSPE: 0.202058\tvalid_1's rmse: 0.000459437\tvalid_1's RMSPE: 0.212246\n",
      "[800]\ttraining's rmse: 0.000432365\ttraining's RMSPE: 0.200195\tvalid_1's rmse: 0.000457293\tvalid_1's RMSPE: 0.211255\n",
      "[900]\ttraining's rmse: 0.000427977\ttraining's RMSPE: 0.198163\tvalid_1's rmse: 0.000454859\tvalid_1's RMSPE: 0.210131\n",
      "[1000]\ttraining's rmse: 0.00042426\ttraining's RMSPE: 0.196442\tvalid_1's rmse: 0.000453096\tvalid_1's RMSPE: 0.209317\n",
      "[1100]\ttraining's rmse: 0.000420698\ttraining's RMSPE: 0.194793\tvalid_1's rmse: 0.000451545\tvalid_1's RMSPE: 0.2086\n",
      "[1200]\ttraining's rmse: 0.000417691\ttraining's RMSPE: 0.193401\tvalid_1's rmse: 0.000450489\tvalid_1's RMSPE: 0.208112\n",
      "[1300]\ttraining's rmse: 0.000414581\ttraining's RMSPE: 0.191961\tvalid_1's rmse: 0.000449505\tvalid_1's RMSPE: 0.207658\n",
      "[1400]\ttraining's rmse: 0.000411608\ttraining's RMSPE: 0.190584\tvalid_1's rmse: 0.00044819\tvalid_1's RMSPE: 0.20705\n",
      "[1500]\ttraining's rmse: 0.000409087\ttraining's RMSPE: 0.189417\tvalid_1's rmse: 0.000447316\tvalid_1's RMSPE: 0.206646\n",
      "[1600]\ttraining's rmse: 0.000406297\ttraining's RMSPE: 0.188125\tvalid_1's rmse: 0.000446432\tvalid_1's RMSPE: 0.206238\n",
      "[1700]\ttraining's rmse: 0.000403796\ttraining's RMSPE: 0.186967\tvalid_1's rmse: 0.000445722\tvalid_1's RMSPE: 0.20591\n",
      "[1800]\ttraining's rmse: 0.000401409\ttraining's RMSPE: 0.185862\tvalid_1's rmse: 0.000445059\tvalid_1's RMSPE: 0.205604\n",
      "[1900]\ttraining's rmse: 0.000398998\ttraining's RMSPE: 0.184745\tvalid_1's rmse: 0.0004443\tvalid_1's RMSPE: 0.205253\n",
      "[2000]\ttraining's rmse: 0.000396759\ttraining's RMSPE: 0.183709\tvalid_1's rmse: 0.000443638\tvalid_1's RMSPE: 0.204947\n",
      "[2100]\ttraining's rmse: 0.0003944\ttraining's RMSPE: 0.182616\tvalid_1's rmse: 0.000442948\tvalid_1's RMSPE: 0.204628\n",
      "[2200]\ttraining's rmse: 0.000392227\ttraining's RMSPE: 0.18161\tvalid_1's rmse: 0.000442332\tvalid_1's RMSPE: 0.204344\n",
      "[2300]\ttraining's rmse: 0.00038998\ttraining's RMSPE: 0.18057\tvalid_1's rmse: 0.000441596\tvalid_1's RMSPE: 0.204004\n",
      "[2400]\ttraining's rmse: 0.000387913\ttraining's RMSPE: 0.179613\tvalid_1's rmse: 0.000441201\tvalid_1's RMSPE: 0.203821\n",
      "[2500]\ttraining's rmse: 0.000385995\ttraining's RMSPE: 0.178725\tvalid_1's rmse: 0.000440811\tvalid_1's RMSPE: 0.203641\n",
      "Early stopping, best iteration is:\n",
      "[2476]\ttraining's rmse: 0.000386379\ttraining's RMSPE: 0.178903\tvalid_1's rmse: 0.000440783\tvalid_1's RMSPE: 0.203628\n",
      "Training fold 4\n"
     ]
    },
    {
     "name": "stderr",
     "output_type": "stream",
     "text": [
      "/home/slex/programy/anaconda3/envs/fastai/lib/python3.8/site-packages/lightgbm/basic.py:1551: UserWarning: Using categorical_feature in Dataset.\n",
      "  warnings.warn('Using categorical_feature in Dataset.')\n",
      "/home/slex/programy/anaconda3/envs/fastai/lib/python3.8/site-packages/lightgbm/basic.py:1286: UserWarning: Overriding the parameters from Reference Dataset.\n",
      "  warnings.warn('Overriding the parameters from Reference Dataset.')\n",
      "/home/slex/programy/anaconda3/envs/fastai/lib/python3.8/site-packages/lightgbm/basic.py:1098: UserWarning: categorical_column in param dict is overridden.\n",
      "  warnings.warn('{} in param dict is overridden.'.format(cat_alias))\n"
     ]
    },
    {
     "name": "stdout",
     "output_type": "stream",
     "text": [
      "Training until validation scores don't improve for 25 rounds\n",
      "[100]\ttraining's rmse: 0.000480037\ttraining's RMSPE: 0.221889\tvalid_1's rmse: 0.000488465\tvalid_1's RMSPE: 0.227199\n",
      "[200]\ttraining's rmse: 0.000468311\ttraining's RMSPE: 0.216468\tvalid_1's rmse: 0.000481977\tvalid_1's RMSPE: 0.224181\n",
      "[300]\ttraining's rmse: 0.000459589\ttraining's RMSPE: 0.212436\tvalid_1's rmse: 0.000476493\tvalid_1's RMSPE: 0.221631\n",
      "[400]\ttraining's rmse: 0.000453272\ttraining's RMSPE: 0.209517\tvalid_1's rmse: 0.000473534\tvalid_1's RMSPE: 0.220255\n",
      "[500]\ttraining's rmse: 0.000447446\ttraining's RMSPE: 0.206824\tvalid_1's rmse: 0.000470243\tvalid_1's RMSPE: 0.218724\n",
      "Early stopping, best iteration is:\n",
      "[502]\ttraining's rmse: 0.000447362\ttraining's RMSPE: 0.206785\tvalid_1's rmse: 0.000470196\tvalid_1's RMSPE: 0.218702\n",
      "Training fold 5\n"
     ]
    },
    {
     "name": "stderr",
     "output_type": "stream",
     "text": [
      "/home/slex/programy/anaconda3/envs/fastai/lib/python3.8/site-packages/lightgbm/basic.py:1551: UserWarning: Using categorical_feature in Dataset.\n",
      "  warnings.warn('Using categorical_feature in Dataset.')\n",
      "/home/slex/programy/anaconda3/envs/fastai/lib/python3.8/site-packages/lightgbm/basic.py:1286: UserWarning: Overriding the parameters from Reference Dataset.\n",
      "  warnings.warn('Overriding the parameters from Reference Dataset.')\n",
      "/home/slex/programy/anaconda3/envs/fastai/lib/python3.8/site-packages/lightgbm/basic.py:1098: UserWarning: categorical_column in param dict is overridden.\n",
      "  warnings.warn('{} in param dict is overridden.'.format(cat_alias))\n"
     ]
    },
    {
     "name": "stdout",
     "output_type": "stream",
     "text": [
      "Training until validation scores don't improve for 25 rounds\n",
      "[100]\ttraining's rmse: 0.000478996\ttraining's RMSPE: 0.221933\tvalid_1's rmse: 0.000495971\tvalid_1's RMSPE: 0.228511\n",
      "[200]\ttraining's rmse: 0.000467615\ttraining's RMSPE: 0.21666\tvalid_1's rmse: 0.00048695\tvalid_1's RMSPE: 0.224355\n",
      "[300]\ttraining's rmse: 0.000458948\ttraining's RMSPE: 0.212645\tvalid_1's rmse: 0.000481836\tvalid_1's RMSPE: 0.221999\n",
      "[400]\ttraining's rmse: 0.000451862\ttraining's RMSPE: 0.209361\tvalid_1's rmse: 0.000478094\tvalid_1's RMSPE: 0.220275\n",
      "[500]\ttraining's rmse: 0.000445989\ttraining's RMSPE: 0.20664\tvalid_1's rmse: 0.000475842\tvalid_1's RMSPE: 0.219237\n",
      "[600]\ttraining's rmse: 0.00044112\ttraining's RMSPE: 0.204384\tvalid_1's rmse: 0.000473886\tvalid_1's RMSPE: 0.218336\n",
      "Early stopping, best iteration is:\n",
      "[587]\ttraining's rmse: 0.000441639\ttraining's RMSPE: 0.204625\tvalid_1's rmse: 0.00047384\tvalid_1's RMSPE: 0.218315\n",
      "Our out of folds RMSPE is 0.21371045760127125\n"
     ]
    }
   ],
   "source": [
    "_=train_models(train_10m_with_embs)"
   ]
  },
  {
   "cell_type": "markdown",
   "id": "attempted-costume",
   "metadata": {},
   "source": [
    "## LGBM with embeddings and time/stock features"
   ]
  },
  {
   "cell_type": "code",
   "execution_count": 91,
   "id": "natural-probability",
   "metadata": {},
   "outputs": [],
   "source": [
    "train_10m_with_embs = get_time_stock(train_10m_with_embs)"
   ]
  },
  {
   "cell_type": "code",
   "execution_count": 70,
   "id": "mysterious-great",
   "metadata": {},
   "outputs": [
    {
     "name": "stdout",
     "output_type": "stream",
     "text": [
      "Training fold 1\n"
     ]
    },
    {
     "name": "stderr",
     "output_type": "stream",
     "text": [
      "/home/slex/programy/anaconda3/envs/fastai/lib/python3.8/site-packages/lightgbm/basic.py:1551: UserWarning: Using categorical_feature in Dataset.\n",
      "  warnings.warn('Using categorical_feature in Dataset.')\n",
      "/home/slex/programy/anaconda3/envs/fastai/lib/python3.8/site-packages/lightgbm/basic.py:1286: UserWarning: Overriding the parameters from Reference Dataset.\n",
      "  warnings.warn('Overriding the parameters from Reference Dataset.')\n",
      "/home/slex/programy/anaconda3/envs/fastai/lib/python3.8/site-packages/lightgbm/basic.py:1098: UserWarning: categorical_column in param dict is overridden.\n",
      "  warnings.warn('{} in param dict is overridden.'.format(cat_alias))\n"
     ]
    },
    {
     "name": "stdout",
     "output_type": "stream",
     "text": [
      "Training until validation scores don't improve for 25 rounds\n",
      "[100]\ttraining's rmse: 0.000468954\ttraining's RMSPE: 0.217116\tvalid_1's rmse: 0.000479108\tvalid_1's RMSPE: 0.221418\n",
      "[200]\ttraining's rmse: 0.000452715\ttraining's RMSPE: 0.209597\tvalid_1's rmse: 0.000466643\tvalid_1's RMSPE: 0.215658\n",
      "[300]\ttraining's rmse: 0.000441094\ttraining's RMSPE: 0.204217\tvalid_1's rmse: 0.000457907\tvalid_1's RMSPE: 0.21162\n",
      "[400]\ttraining's rmse: 0.000432588\ttraining's RMSPE: 0.200279\tvalid_1's rmse: 0.000452162\tvalid_1's RMSPE: 0.208965\n",
      "[500]\ttraining's rmse: 0.00042509\ttraining's RMSPE: 0.196808\tvalid_1's rmse: 0.000447091\tvalid_1's RMSPE: 0.206622\n",
      "[600]\ttraining's rmse: 0.000418539\ttraining's RMSPE: 0.193775\tvalid_1's rmse: 0.000442524\tvalid_1's RMSPE: 0.204511\n",
      "[700]\ttraining's rmse: 0.000413086\ttraining's RMSPE: 0.19125\tvalid_1's rmse: 0.000439411\tvalid_1's RMSPE: 0.203073\n",
      "[800]\ttraining's rmse: 0.000408301\ttraining's RMSPE: 0.189035\tvalid_1's rmse: 0.000436774\tvalid_1's RMSPE: 0.201854\n",
      "[900]\ttraining's rmse: 0.000403992\ttraining's RMSPE: 0.18704\tvalid_1's rmse: 0.000434725\tvalid_1's RMSPE: 0.200907\n",
      "[1000]\ttraining's rmse: 0.000399942\ttraining's RMSPE: 0.185165\tvalid_1's rmse: 0.000432913\tvalid_1's RMSPE: 0.20007\n",
      "[1100]\ttraining's rmse: 0.000396016\ttraining's RMSPE: 0.183347\tvalid_1's rmse: 0.000430593\tvalid_1's RMSPE: 0.198997\n",
      "[1200]\ttraining's rmse: 0.000392785\ttraining's RMSPE: 0.181851\tvalid_1's rmse: 0.000429502\tvalid_1's RMSPE: 0.198493\n",
      "[1300]\ttraining's rmse: 0.00038968\ttraining's RMSPE: 0.180414\tvalid_1's rmse: 0.000428827\tvalid_1's RMSPE: 0.198181\n",
      "[1400]\ttraining's rmse: 0.000386661\ttraining's RMSPE: 0.179016\tvalid_1's rmse: 0.000427876\tvalid_1's RMSPE: 0.197742\n",
      "[1500]\ttraining's rmse: 0.000383606\ttraining's RMSPE: 0.177602\tvalid_1's rmse: 0.000426626\tvalid_1's RMSPE: 0.197164\n",
      "Early stopping, best iteration is:\n",
      "[1509]\ttraining's rmse: 0.000383293\ttraining's RMSPE: 0.177457\tvalid_1's rmse: 0.000426449\tvalid_1's RMSPE: 0.197082\n",
      "Training fold 2\n"
     ]
    },
    {
     "name": "stderr",
     "output_type": "stream",
     "text": [
      "/home/slex/programy/anaconda3/envs/fastai/lib/python3.8/site-packages/lightgbm/basic.py:1551: UserWarning: Using categorical_feature in Dataset.\n",
      "  warnings.warn('Using categorical_feature in Dataset.')\n",
      "/home/slex/programy/anaconda3/envs/fastai/lib/python3.8/site-packages/lightgbm/basic.py:1286: UserWarning: Overriding the parameters from Reference Dataset.\n",
      "  warnings.warn('Overriding the parameters from Reference Dataset.')\n",
      "/home/slex/programy/anaconda3/envs/fastai/lib/python3.8/site-packages/lightgbm/basic.py:1098: UserWarning: categorical_column in param dict is overridden.\n",
      "  warnings.warn('{} in param dict is overridden.'.format(cat_alias))\n"
     ]
    },
    {
     "name": "stdout",
     "output_type": "stream",
     "text": [
      "Training until validation scores don't improve for 25 rounds\n",
      "[100]\ttraining's rmse: 0.000471121\ttraining's RMSPE: 0.217893\tvalid_1's rmse: 0.000490124\tvalid_1's RMSPE: 0.227451\n",
      "[200]\ttraining's rmse: 0.000454446\ttraining's RMSPE: 0.21018\tvalid_1's rmse: 0.000478517\tvalid_1's RMSPE: 0.222065\n",
      "[300]\ttraining's rmse: 0.00044236\ttraining's RMSPE: 0.204591\tvalid_1's rmse: 0.000470236\tvalid_1's RMSPE: 0.218221\n",
      "[400]\ttraining's rmse: 0.000433584\ttraining's RMSPE: 0.200532\tvalid_1's rmse: 0.000464683\tvalid_1's RMSPE: 0.215645\n",
      "[500]\ttraining's rmse: 0.00042592\ttraining's RMSPE: 0.196987\tvalid_1's rmse: 0.000458344\tvalid_1's RMSPE: 0.212703\n",
      "[600]\ttraining's rmse: 0.00041954\ttraining's RMSPE: 0.194036\tvalid_1's rmse: 0.000455755\tvalid_1's RMSPE: 0.211502\n",
      "Early stopping, best iteration is:\n",
      "[672]\ttraining's rmse: 0.000415147\ttraining's RMSPE: 0.192005\tvalid_1's rmse: 0.000452893\tvalid_1's RMSPE: 0.210173\n",
      "Training fold 3\n"
     ]
    },
    {
     "name": "stderr",
     "output_type": "stream",
     "text": [
      "/home/slex/programy/anaconda3/envs/fastai/lib/python3.8/site-packages/lightgbm/basic.py:1551: UserWarning: Using categorical_feature in Dataset.\n",
      "  warnings.warn('Using categorical_feature in Dataset.')\n",
      "/home/slex/programy/anaconda3/envs/fastai/lib/python3.8/site-packages/lightgbm/basic.py:1286: UserWarning: Overriding the parameters from Reference Dataset.\n",
      "  warnings.warn('Overriding the parameters from Reference Dataset.')\n",
      "/home/slex/programy/anaconda3/envs/fastai/lib/python3.8/site-packages/lightgbm/basic.py:1098: UserWarning: categorical_column in param dict is overridden.\n",
      "  warnings.warn('{} in param dict is overridden.'.format(cat_alias))\n"
     ]
    },
    {
     "name": "stdout",
     "output_type": "stream",
     "text": [
      "Training until validation scores don't improve for 25 rounds\n",
      "[100]\ttraining's rmse: 0.000468898\ttraining's RMSPE: 0.217111\tvalid_1's rmse: 0.000475315\tvalid_1's RMSPE: 0.219581\n",
      "[200]\ttraining's rmse: 0.000453434\ttraining's RMSPE: 0.20995\tvalid_1's rmse: 0.000462853\tvalid_1's RMSPE: 0.213824\n",
      "[300]\ttraining's rmse: 0.000441948\ttraining's RMSPE: 0.204632\tvalid_1's rmse: 0.000454125\tvalid_1's RMSPE: 0.209792\n",
      "[400]\ttraining's rmse: 0.000432453\ttraining's RMSPE: 0.200236\tvalid_1's rmse: 0.000446789\tvalid_1's RMSPE: 0.206403\n",
      "[500]\ttraining's rmse: 0.000424846\ttraining's RMSPE: 0.196714\tvalid_1's rmse: 0.000441272\tvalid_1's RMSPE: 0.203854\n",
      "[600]\ttraining's rmse: 0.000418398\ttraining's RMSPE: 0.193728\tvalid_1's rmse: 0.000437105\tvalid_1's RMSPE: 0.201929\n",
      "[700]\ttraining's rmse: 0.000412728\ttraining's RMSPE: 0.191103\tvalid_1's rmse: 0.000433821\tvalid_1's RMSPE: 0.200412\n",
      "[800]\ttraining's rmse: 0.000408363\ttraining's RMSPE: 0.189082\tvalid_1's rmse: 0.000431753\tvalid_1's RMSPE: 0.199457\n",
      "[900]\ttraining's rmse: 0.000403529\ttraining's RMSPE: 0.186843\tvalid_1's rmse: 0.000428814\tvalid_1's RMSPE: 0.198099\n",
      "[1000]\ttraining's rmse: 0.000399613\ttraining's RMSPE: 0.18503\tvalid_1's rmse: 0.000427001\tvalid_1's RMSPE: 0.197261\n",
      "[1100]\ttraining's rmse: 0.00039622\ttraining's RMSPE: 0.183459\tvalid_1's rmse: 0.000425549\tvalid_1's RMSPE: 0.196591\n",
      "[1200]\ttraining's rmse: 0.000392669\ttraining's RMSPE: 0.181815\tvalid_1's rmse: 0.00042382\tvalid_1's RMSPE: 0.195792\n",
      "[1300]\ttraining's rmse: 0.000389436\ttraining's RMSPE: 0.180318\tvalid_1's rmse: 0.000422699\tvalid_1's RMSPE: 0.195274\n",
      "[1400]\ttraining's rmse: 0.000386728\ttraining's RMSPE: 0.179064\tvalid_1's rmse: 0.000421856\tvalid_1's RMSPE: 0.194885\n",
      "[1500]\ttraining's rmse: 0.000383926\ttraining's RMSPE: 0.177767\tvalid_1's rmse: 0.000420943\tvalid_1's RMSPE: 0.194463\n",
      "[1600]\ttraining's rmse: 0.00038121\ttraining's RMSPE: 0.176509\tvalid_1's rmse: 0.000419881\tvalid_1's RMSPE: 0.193972\n",
      "[1700]\ttraining's rmse: 0.000378717\ttraining's RMSPE: 0.175355\tvalid_1's rmse: 0.000419185\tvalid_1's RMSPE: 0.193651\n",
      "[1800]\ttraining's rmse: 0.000376374\ttraining's RMSPE: 0.17427\tvalid_1's rmse: 0.000418541\tvalid_1's RMSPE: 0.193353\n",
      "[1900]\ttraining's rmse: 0.000374086\ttraining's RMSPE: 0.17321\tvalid_1's rmse: 0.000418022\tvalid_1's RMSPE: 0.193113\n",
      "[2000]\ttraining's rmse: 0.000371839\ttraining's RMSPE: 0.17217\tvalid_1's rmse: 0.000417246\tvalid_1's RMSPE: 0.192755\n",
      "[2100]\ttraining's rmse: 0.000369864\ttraining's RMSPE: 0.171255\tvalid_1's rmse: 0.000416952\tvalid_1's RMSPE: 0.192619\n",
      "[2200]\ttraining's rmse: 0.000367715\ttraining's RMSPE: 0.17026\tvalid_1's rmse: 0.000416444\tvalid_1's RMSPE: 0.192385\n",
      "[2300]\ttraining's rmse: 0.000365582\ttraining's RMSPE: 0.169273\tvalid_1's rmse: 0.000416044\tvalid_1's RMSPE: 0.192199\n",
      "[2400]\ttraining's rmse: 0.000363734\ttraining's RMSPE: 0.168417\tvalid_1's rmse: 0.00041593\tvalid_1's RMSPE: 0.192147\n",
      "Early stopping, best iteration is:\n",
      "[2384]\ttraining's rmse: 0.000364008\ttraining's RMSPE: 0.168544\tvalid_1's rmse: 0.000415887\tvalid_1's RMSPE: 0.192127\n",
      "Training fold 4\n"
     ]
    },
    {
     "name": "stderr",
     "output_type": "stream",
     "text": [
      "/home/slex/programy/anaconda3/envs/fastai/lib/python3.8/site-packages/lightgbm/basic.py:1551: UserWarning: Using categorical_feature in Dataset.\n",
      "  warnings.warn('Using categorical_feature in Dataset.')\n",
      "/home/slex/programy/anaconda3/envs/fastai/lib/python3.8/site-packages/lightgbm/basic.py:1286: UserWarning: Overriding the parameters from Reference Dataset.\n",
      "  warnings.warn('Overriding the parameters from Reference Dataset.')\n",
      "/home/slex/programy/anaconda3/envs/fastai/lib/python3.8/site-packages/lightgbm/basic.py:1098: UserWarning: categorical_column in param dict is overridden.\n",
      "  warnings.warn('{} in param dict is overridden.'.format(cat_alias))\n"
     ]
    },
    {
     "name": "stdout",
     "output_type": "stream",
     "text": [
      "Training until validation scores don't improve for 25 rounds\n",
      "[100]\ttraining's rmse: 0.000469367\ttraining's RMSPE: 0.216956\tvalid_1's rmse: 0.00047698\tvalid_1's RMSPE: 0.221857\n",
      "[200]\ttraining's rmse: 0.000453364\ttraining's RMSPE: 0.209559\tvalid_1's rmse: 0.000465331\tvalid_1's RMSPE: 0.216439\n",
      "[300]\ttraining's rmse: 0.000442294\ttraining's RMSPE: 0.204442\tvalid_1's rmse: 0.000457616\tvalid_1's RMSPE: 0.21285\n",
      "[400]\ttraining's rmse: 0.000433016\ttraining's RMSPE: 0.200154\tvalid_1's rmse: 0.000451032\tvalid_1's RMSPE: 0.209788\n",
      "[500]\ttraining's rmse: 0.000424797\ttraining's RMSPE: 0.196355\tvalid_1's rmse: 0.000445672\tvalid_1's RMSPE: 0.207295\n",
      "[600]\ttraining's rmse: 0.000418877\ttraining's RMSPE: 0.193618\tvalid_1's rmse: 0.000442343\tvalid_1's RMSPE: 0.205747\n",
      "[700]\ttraining's rmse: 0.000413102\ttraining's RMSPE: 0.190949\tvalid_1's rmse: 0.000439092\tvalid_1's RMSPE: 0.204234\n",
      "[800]\ttraining's rmse: 0.000407964\ttraining's RMSPE: 0.188574\tvalid_1's rmse: 0.000436394\tvalid_1's RMSPE: 0.20298\n",
      "[900]\ttraining's rmse: 0.000403769\ttraining's RMSPE: 0.186635\tvalid_1's rmse: 0.000434432\tvalid_1's RMSPE: 0.202067\n",
      "[1000]\ttraining's rmse: 0.000399847\ttraining's RMSPE: 0.184822\tvalid_1's rmse: 0.00043271\tvalid_1's RMSPE: 0.201266\n",
      "[1100]\ttraining's rmse: 0.000396562\ttraining's RMSPE: 0.183303\tvalid_1's rmse: 0.000431472\tvalid_1's RMSPE: 0.20069\n",
      "[1200]\ttraining's rmse: 0.000393228\ttraining's RMSPE: 0.181763\tvalid_1's rmse: 0.000430154\tvalid_1's RMSPE: 0.200077\n",
      "[1300]\ttraining's rmse: 0.00039006\ttraining's RMSPE: 0.180298\tvalid_1's rmse: 0.00042897\tvalid_1's RMSPE: 0.199527\n",
      "Early stopping, best iteration is:\n",
      "[1338]\ttraining's rmse: 0.000388805\ttraining's RMSPE: 0.179718\tvalid_1's rmse: 0.000428322\tvalid_1's RMSPE: 0.199225\n",
      "Training fold 5\n"
     ]
    },
    {
     "name": "stderr",
     "output_type": "stream",
     "text": [
      "/home/slex/programy/anaconda3/envs/fastai/lib/python3.8/site-packages/lightgbm/basic.py:1551: UserWarning: Using categorical_feature in Dataset.\n",
      "  warnings.warn('Using categorical_feature in Dataset.')\n",
      "/home/slex/programy/anaconda3/envs/fastai/lib/python3.8/site-packages/lightgbm/basic.py:1286: UserWarning: Overriding the parameters from Reference Dataset.\n",
      "  warnings.warn('Overriding the parameters from Reference Dataset.')\n",
      "/home/slex/programy/anaconda3/envs/fastai/lib/python3.8/site-packages/lightgbm/basic.py:1098: UserWarning: categorical_column in param dict is overridden.\n",
      "  warnings.warn('{} in param dict is overridden.'.format(cat_alias))\n"
     ]
    },
    {
     "name": "stdout",
     "output_type": "stream",
     "text": [
      "Training until validation scores don't improve for 25 rounds\n",
      "[100]\ttraining's rmse: 0.000468549\ttraining's RMSPE: 0.217093\tvalid_1's rmse: 0.000482481\tvalid_1's RMSPE: 0.222296\n",
      "[200]\ttraining's rmse: 0.000452632\ttraining's RMSPE: 0.209718\tvalid_1's rmse: 0.000469343\tvalid_1's RMSPE: 0.216243\n",
      "[300]\ttraining's rmse: 0.000440626\ttraining's RMSPE: 0.204155\tvalid_1's rmse: 0.000459398\tvalid_1's RMSPE: 0.211661\n",
      "[400]\ttraining's rmse: 0.000431503\ttraining's RMSPE: 0.199929\tvalid_1's rmse: 0.000452864\tvalid_1's RMSPE: 0.20865\n",
      "[500]\ttraining's rmse: 0.000423924\ttraining's RMSPE: 0.196417\tvalid_1's rmse: 0.000448405\tvalid_1's RMSPE: 0.206596\n",
      "[600]\ttraining's rmse: 0.000418012\ttraining's RMSPE: 0.193678\tvalid_1's rmse: 0.00044502\tvalid_1's RMSPE: 0.205036\n",
      "[700]\ttraining's rmse: 0.000412234\ttraining's RMSPE: 0.191001\tvalid_1's rmse: 0.000441869\tvalid_1's RMSPE: 0.203585\n",
      "[800]\ttraining's rmse: 0.000407408\ttraining's RMSPE: 0.188765\tvalid_1's rmse: 0.000438834\tvalid_1's RMSPE: 0.202186\n",
      "[900]\ttraining's rmse: 0.000403077\ttraining's RMSPE: 0.186758\tvalid_1's rmse: 0.000436629\tvalid_1's RMSPE: 0.20117\n",
      "[1000]\ttraining's rmse: 0.000399075\ttraining's RMSPE: 0.184904\tvalid_1's rmse: 0.000434442\tvalid_1's RMSPE: 0.200163\n",
      "[1100]\ttraining's rmse: 0.000395598\ttraining's RMSPE: 0.183292\tvalid_1's rmse: 0.000433311\tvalid_1's RMSPE: 0.199642\n",
      "[1200]\ttraining's rmse: 0.000392156\ttraining's RMSPE: 0.181698\tvalid_1's rmse: 0.000431862\tvalid_1's RMSPE: 0.198974\n",
      "[1300]\ttraining's rmse: 0.000389094\ttraining's RMSPE: 0.180279\tvalid_1's rmse: 0.000431001\tvalid_1's RMSPE: 0.198578\n",
      "[1400]\ttraining's rmse: 0.000386028\ttraining's RMSPE: 0.178859\tvalid_1's rmse: 0.000429973\tvalid_1's RMSPE: 0.198104\n",
      "Early stopping, best iteration is:\n",
      "[1431]\ttraining's rmse: 0.000385055\ttraining's RMSPE: 0.178408\tvalid_1's rmse: 0.000429566\tvalid_1's RMSPE: 0.197916\n",
      "Our out of folds RMSPE is 0.1993933360538658\n"
     ]
    }
   ],
   "source": [
    "_=train_models(train_10m_with_embs)"
   ]
  },
  {
   "cell_type": "markdown",
   "id": "traditional-anger",
   "metadata": {},
   "source": [
    "### 2017 -> 2000"
   ]
  },
  {
   "cell_type": "code",
   "execution_count": null,
   "id": "spatial-papua",
   "metadata": {},
   "outputs": [],
   "source": []
  },
  {
   "cell_type": "markdown",
   "id": "third-memorabilia",
   "metadata": {},
   "source": [
    "## LGBM with embeddings and time/stock features and 5-10"
   ]
  },
  {
   "cell_type": "code",
   "execution_count": 92,
   "id": "august-species",
   "metadata": {},
   "outputs": [],
   "source": [
    "train_10m_with_embs['5m_pred']=preds5_10"
   ]
  },
  {
   "cell_type": "code",
   "execution_count": 96,
   "id": "adopted-national",
   "metadata": {},
   "outputs": [
    {
     "name": "stdout",
     "output_type": "stream",
     "text": [
      "Training fold 1\n"
     ]
    },
    {
     "name": "stderr",
     "output_type": "stream",
     "text": [
      "/home/slex/programy/anaconda3/envs/fastai/lib/python3.8/site-packages/lightgbm/basic.py:1551: UserWarning: Using categorical_feature in Dataset.\n",
      "  warnings.warn('Using categorical_feature in Dataset.')\n",
      "/home/slex/programy/anaconda3/envs/fastai/lib/python3.8/site-packages/lightgbm/basic.py:1286: UserWarning: Overriding the parameters from Reference Dataset.\n",
      "  warnings.warn('Overriding the parameters from Reference Dataset.')\n",
      "/home/slex/programy/anaconda3/envs/fastai/lib/python3.8/site-packages/lightgbm/basic.py:1098: UserWarning: categorical_column in param dict is overridden.\n",
      "  warnings.warn('{} in param dict is overridden.'.format(cat_alias))\n"
     ]
    },
    {
     "name": "stdout",
     "output_type": "stream",
     "text": [
      "Training until validation scores don't improve for 25 rounds\n",
      "[100]\ttraining's rmse: 0.000466854\ttraining's RMSPE: 0.216143\tvalid_1's rmse: 0.00047617\tvalid_1's RMSPE: 0.220061\n",
      "[200]\ttraining's rmse: 0.000450116\ttraining's RMSPE: 0.208394\tvalid_1's rmse: 0.000462792\tvalid_1's RMSPE: 0.213878\n",
      "[300]\ttraining's rmse: 0.000439478\ttraining's RMSPE: 0.203469\tvalid_1's rmse: 0.00045527\tvalid_1's RMSPE: 0.210402\n",
      "[400]\ttraining's rmse: 0.00043114\ttraining's RMSPE: 0.199609\tvalid_1's rmse: 0.000449651\tvalid_1's RMSPE: 0.207805\n",
      "[500]\ttraining's rmse: 0.000423815\ttraining's RMSPE: 0.196217\tvalid_1's rmse: 0.000445157\tvalid_1's RMSPE: 0.205728\n",
      "[600]\ttraining's rmse: 0.000417322\ttraining's RMSPE: 0.193211\tvalid_1's rmse: 0.000440623\tvalid_1's RMSPE: 0.203633\n",
      "[700]\ttraining's rmse: 0.000412136\ttraining's RMSPE: 0.19081\tvalid_1's rmse: 0.000438123\tvalid_1's RMSPE: 0.202478\n",
      "[800]\ttraining's rmse: 0.000407491\ttraining's RMSPE: 0.18866\tvalid_1's rmse: 0.000435836\tvalid_1's RMSPE: 0.201421\n",
      "[900]\ttraining's rmse: 0.000403306\ttraining's RMSPE: 0.186722\tvalid_1's rmse: 0.000433827\tvalid_1's RMSPE: 0.200492\n",
      "[1000]\ttraining's rmse: 0.000399344\ttraining's RMSPE: 0.184888\tvalid_1's rmse: 0.000432097\tvalid_1's RMSPE: 0.199693\n",
      "[1100]\ttraining's rmse: 0.000395655\ttraining's RMSPE: 0.18318\tvalid_1's rmse: 0.00043056\tvalid_1's RMSPE: 0.198982\n",
      "[1200]\ttraining's rmse: 0.000392011\ttraining's RMSPE: 0.181493\tvalid_1's rmse: 0.000428911\tvalid_1's RMSPE: 0.19822\n",
      "[1300]\ttraining's rmse: 0.000388681\ttraining's RMSPE: 0.179951\tvalid_1's rmse: 0.000427687\tvalid_1's RMSPE: 0.197654\n",
      "[1400]\ttraining's rmse: 0.000385715\ttraining's RMSPE: 0.178578\tvalid_1's rmse: 0.000426847\tvalid_1's RMSPE: 0.197266\n",
      "[1500]\ttraining's rmse: 0.000382843\ttraining's RMSPE: 0.177248\tvalid_1's rmse: 0.000426066\tvalid_1's RMSPE: 0.196905\n",
      "[1600]\ttraining's rmse: 0.000380593\ttraining's RMSPE: 0.176206\tvalid_1's rmse: 0.000425611\tvalid_1's RMSPE: 0.196695\n",
      "[1700]\ttraining's rmse: 0.000378132\ttraining's RMSPE: 0.175067\tvalid_1's rmse: 0.000424719\tvalid_1's RMSPE: 0.196283\n",
      "[1800]\ttraining's rmse: 0.000375823\ttraining's RMSPE: 0.173998\tvalid_1's rmse: 0.000424355\tvalid_1's RMSPE: 0.196114\n",
      "Early stopping, best iteration is:\n",
      "[1845]\ttraining's rmse: 0.000374827\ttraining's RMSPE: 0.173537\tvalid_1's rmse: 0.000424031\tvalid_1's RMSPE: 0.195965\n",
      "Training fold 2\n"
     ]
    },
    {
     "name": "stderr",
     "output_type": "stream",
     "text": [
      "/home/slex/programy/anaconda3/envs/fastai/lib/python3.8/site-packages/lightgbm/basic.py:1551: UserWarning: Using categorical_feature in Dataset.\n",
      "  warnings.warn('Using categorical_feature in Dataset.')\n",
      "/home/slex/programy/anaconda3/envs/fastai/lib/python3.8/site-packages/lightgbm/basic.py:1286: UserWarning: Overriding the parameters from Reference Dataset.\n",
      "  warnings.warn('Overriding the parameters from Reference Dataset.')\n",
      "/home/slex/programy/anaconda3/envs/fastai/lib/python3.8/site-packages/lightgbm/basic.py:1098: UserWarning: categorical_column in param dict is overridden.\n",
      "  warnings.warn('{} in param dict is overridden.'.format(cat_alias))\n"
     ]
    },
    {
     "name": "stdout",
     "output_type": "stream",
     "text": [
      "Training until validation scores don't improve for 25 rounds\n",
      "[100]\ttraining's rmse: 0.000468499\ttraining's RMSPE: 0.21668\tvalid_1's rmse: 0.000478217\tvalid_1's RMSPE: 0.221926\n",
      "[200]\ttraining's rmse: 0.000451962\ttraining's RMSPE: 0.209032\tvalid_1's rmse: 0.000467009\tvalid_1's RMSPE: 0.216724\n",
      "[300]\ttraining's rmse: 0.000440077\ttraining's RMSPE: 0.203535\tvalid_1's rmse: 0.000459734\tvalid_1's RMSPE: 0.213348\n",
      "[400]\ttraining's rmse: 0.000431419\ttraining's RMSPE: 0.19953\tvalid_1's rmse: 0.000454981\tvalid_1's RMSPE: 0.211143\n",
      "[500]\ttraining's rmse: 0.000424248\ttraining's RMSPE: 0.196214\tvalid_1's rmse: 0.000450387\tvalid_1's RMSPE: 0.209011\n",
      "[600]\ttraining's rmse: 0.000418132\ttraining's RMSPE: 0.193385\tvalid_1's rmse: 0.000446743\tvalid_1's RMSPE: 0.207319\n",
      "Early stopping, best iteration is:\n",
      "[672]\ttraining's rmse: 0.000414032\ttraining's RMSPE: 0.191489\tvalid_1's rmse: 0.000445212\tvalid_1's RMSPE: 0.206609\n",
      "Training fold 3\n"
     ]
    },
    {
     "name": "stderr",
     "output_type": "stream",
     "text": [
      "/home/slex/programy/anaconda3/envs/fastai/lib/python3.8/site-packages/lightgbm/basic.py:1551: UserWarning: Using categorical_feature in Dataset.\n",
      "  warnings.warn('Using categorical_feature in Dataset.')\n",
      "/home/slex/programy/anaconda3/envs/fastai/lib/python3.8/site-packages/lightgbm/basic.py:1286: UserWarning: Overriding the parameters from Reference Dataset.\n",
      "  warnings.warn('Overriding the parameters from Reference Dataset.')\n",
      "/home/slex/programy/anaconda3/envs/fastai/lib/python3.8/site-packages/lightgbm/basic.py:1098: UserWarning: categorical_column in param dict is overridden.\n",
      "  warnings.warn('{} in param dict is overridden.'.format(cat_alias))\n"
     ]
    },
    {
     "name": "stdout",
     "output_type": "stream",
     "text": [
      "Training until validation scores don't improve for 25 rounds\n",
      "[100]\ttraining's rmse: 0.000467042\ttraining's RMSPE: 0.216251\tvalid_1's rmse: 0.000473976\tvalid_1's RMSPE: 0.218962\n",
      "[200]\ttraining's rmse: 0.0004504\ttraining's RMSPE: 0.208546\tvalid_1's rmse: 0.000460367\tvalid_1's RMSPE: 0.212675\n",
      "[300]\ttraining's rmse: 0.000439486\ttraining's RMSPE: 0.203492\tvalid_1's rmse: 0.00045218\tvalid_1's RMSPE: 0.208893\n",
      "[400]\ttraining's rmse: 0.000430589\ttraining's RMSPE: 0.199373\tvalid_1's rmse: 0.000445639\tvalid_1's RMSPE: 0.205872\n",
      "[500]\ttraining's rmse: 0.000423695\ttraining's RMSPE: 0.196181\tvalid_1's rmse: 0.000441086\tvalid_1's RMSPE: 0.203768\n",
      "[600]\ttraining's rmse: 0.000417067\ttraining's RMSPE: 0.193112\tvalid_1's rmse: 0.000436489\tvalid_1's RMSPE: 0.201644\n",
      "[700]\ttraining's rmse: 0.00041164\ttraining's RMSPE: 0.190599\tvalid_1's rmse: 0.000433372\tvalid_1's RMSPE: 0.200205\n",
      "[800]\ttraining's rmse: 0.000407239\ttraining's RMSPE: 0.188561\tvalid_1's rmse: 0.000431031\tvalid_1's RMSPE: 0.199123\n",
      "[900]\ttraining's rmse: 0.000402834\ttraining's RMSPE: 0.186522\tvalid_1's rmse: 0.000428474\tvalid_1's RMSPE: 0.197942\n",
      "[1000]\ttraining's rmse: 0.000398907\ttraining's RMSPE: 0.184703\tvalid_1's rmse: 0.000426775\tvalid_1's RMSPE: 0.197157\n",
      "[1100]\ttraining's rmse: 0.000395592\ttraining's RMSPE: 0.183168\tvalid_1's rmse: 0.000425389\tvalid_1's RMSPE: 0.196517\n",
      "[1200]\ttraining's rmse: 0.000392328\ttraining's RMSPE: 0.181657\tvalid_1's rmse: 0.000423902\tvalid_1's RMSPE: 0.19583\n",
      "[1300]\ttraining's rmse: 0.000388984\ttraining's RMSPE: 0.180109\tvalid_1's rmse: 0.000422547\tvalid_1's RMSPE: 0.195204\n",
      "[1400]\ttraining's rmse: 0.000386222\ttraining's RMSPE: 0.17883\tvalid_1's rmse: 0.000421687\tvalid_1's RMSPE: 0.194807\n",
      "[1500]\ttraining's rmse: 0.000383551\ttraining's RMSPE: 0.177593\tvalid_1's rmse: 0.000420919\tvalid_1's RMSPE: 0.194452\n",
      "[1600]\ttraining's rmse: 0.000380855\ttraining's RMSPE: 0.176345\tvalid_1's rmse: 0.000420044\tvalid_1's RMSPE: 0.194048\n",
      "[1700]\ttraining's rmse: 0.000378577\ttraining's RMSPE: 0.17529\tvalid_1's rmse: 0.000419585\tvalid_1's RMSPE: 0.193835\n",
      "[1800]\ttraining's rmse: 0.000376092\ttraining's RMSPE: 0.174139\tvalid_1's rmse: 0.000418708\tvalid_1's RMSPE: 0.19343\n",
      "[1900]\ttraining's rmse: 0.000373938\ttraining's RMSPE: 0.173142\tvalid_1's rmse: 0.000418146\tvalid_1's RMSPE: 0.193171\n",
      "[2000]\ttraining's rmse: 0.000371621\ttraining's RMSPE: 0.172069\tvalid_1's rmse: 0.00041738\tvalid_1's RMSPE: 0.192817\n",
      "Early stopping, best iteration is:\n",
      "[2055]\ttraining's rmse: 0.000370508\ttraining's RMSPE: 0.171554\tvalid_1's rmse: 0.000416997\tvalid_1's RMSPE: 0.19264\n",
      "Training fold 4\n"
     ]
    },
    {
     "name": "stderr",
     "output_type": "stream",
     "text": [
      "/home/slex/programy/anaconda3/envs/fastai/lib/python3.8/site-packages/lightgbm/basic.py:1551: UserWarning: Using categorical_feature in Dataset.\n",
      "  warnings.warn('Using categorical_feature in Dataset.')\n",
      "/home/slex/programy/anaconda3/envs/fastai/lib/python3.8/site-packages/lightgbm/basic.py:1286: UserWarning: Overriding the parameters from Reference Dataset.\n",
      "  warnings.warn('Overriding the parameters from Reference Dataset.')\n",
      "/home/slex/programy/anaconda3/envs/fastai/lib/python3.8/site-packages/lightgbm/basic.py:1098: UserWarning: categorical_column in param dict is overridden.\n",
      "  warnings.warn('{} in param dict is overridden.'.format(cat_alias))\n"
     ]
    },
    {
     "name": "stdout",
     "output_type": "stream",
     "text": [
      "Training until validation scores don't improve for 25 rounds\n",
      "[100]\ttraining's rmse: 0.000467332\ttraining's RMSPE: 0.216016\tvalid_1's rmse: 0.000474181\tvalid_1's RMSPE: 0.220556\n",
      "[200]\ttraining's rmse: 0.000450745\ttraining's RMSPE: 0.208349\tvalid_1's rmse: 0.000463281\tvalid_1's RMSPE: 0.215485\n",
      "[300]\ttraining's rmse: 0.000439258\ttraining's RMSPE: 0.203039\tvalid_1's rmse: 0.000455107\tvalid_1's RMSPE: 0.211684\n",
      "[400]\ttraining's rmse: 0.000430534\ttraining's RMSPE: 0.199007\tvalid_1's rmse: 0.00044981\tvalid_1's RMSPE: 0.20922\n",
      "[500]\ttraining's rmse: 0.000423234\ttraining's RMSPE: 0.195632\tvalid_1's rmse: 0.000445297\tvalid_1's RMSPE: 0.207121\n",
      "[600]\ttraining's rmse: 0.000417164\ttraining's RMSPE: 0.192826\tvalid_1's rmse: 0.000442256\tvalid_1's RMSPE: 0.205706\n",
      "[700]\ttraining's rmse: 0.000411536\ttraining's RMSPE: 0.190225\tvalid_1's rmse: 0.000438646\tvalid_1's RMSPE: 0.204027\n",
      "[800]\ttraining's rmse: 0.000406872\ttraining's RMSPE: 0.188069\tvalid_1's rmse: 0.000437068\tvalid_1's RMSPE: 0.203293\n",
      "[900]\ttraining's rmse: 0.000402477\ttraining's RMSPE: 0.186038\tvalid_1's rmse: 0.000434979\tvalid_1's RMSPE: 0.202322\n",
      "[1000]\ttraining's rmse: 0.000398613\ttraining's RMSPE: 0.184252\tvalid_1's rmse: 0.000433018\tvalid_1's RMSPE: 0.201409\n",
      "[1100]\ttraining's rmse: 0.000395157\ttraining's RMSPE: 0.182654\tvalid_1's rmse: 0.000431596\tvalid_1's RMSPE: 0.200748\n",
      "[1200]\ttraining's rmse: 0.000391931\ttraining's RMSPE: 0.181163\tvalid_1's rmse: 0.000430258\tvalid_1's RMSPE: 0.200126\n",
      "[1300]\ttraining's rmse: 0.000388789\ttraining's RMSPE: 0.179711\tvalid_1's rmse: 0.000429337\tvalid_1's RMSPE: 0.199697\n",
      "Early stopping, best iteration is:\n",
      "[1362]\ttraining's rmse: 0.000386954\ttraining's RMSPE: 0.178862\tvalid_1's rmse: 0.000428596\tvalid_1's RMSPE: 0.199353\n",
      "Training fold 5\n"
     ]
    },
    {
     "name": "stderr",
     "output_type": "stream",
     "text": [
      "/home/slex/programy/anaconda3/envs/fastai/lib/python3.8/site-packages/lightgbm/basic.py:1551: UserWarning: Using categorical_feature in Dataset.\n",
      "  warnings.warn('Using categorical_feature in Dataset.')\n",
      "/home/slex/programy/anaconda3/envs/fastai/lib/python3.8/site-packages/lightgbm/basic.py:1286: UserWarning: Overriding the parameters from Reference Dataset.\n",
      "  warnings.warn('Overriding the parameters from Reference Dataset.')\n",
      "/home/slex/programy/anaconda3/envs/fastai/lib/python3.8/site-packages/lightgbm/basic.py:1098: UserWarning: categorical_column in param dict is overridden.\n",
      "  warnings.warn('{} in param dict is overridden.'.format(cat_alias))\n"
     ]
    },
    {
     "name": "stdout",
     "output_type": "stream",
     "text": [
      "Training until validation scores don't improve for 25 rounds\n",
      "[100]\ttraining's rmse: 0.000466767\ttraining's RMSPE: 0.216268\tvalid_1's rmse: 0.000477814\tvalid_1's RMSPE: 0.220146\n",
      "[200]\ttraining's rmse: 0.000449654\ttraining's RMSPE: 0.208338\tvalid_1's rmse: 0.000463567\tvalid_1's RMSPE: 0.213582\n",
      "[300]\ttraining's rmse: 0.000438566\ttraining's RMSPE: 0.203201\tvalid_1's rmse: 0.000455294\tvalid_1's RMSPE: 0.20977\n",
      "[400]\ttraining's rmse: 0.000429671\ttraining's RMSPE: 0.19908\tvalid_1's rmse: 0.000449249\tvalid_1's RMSPE: 0.206985\n",
      "[500]\ttraining's rmse: 0.00042203\ttraining's RMSPE: 0.195539\tvalid_1's rmse: 0.000444484\tvalid_1's RMSPE: 0.20479\n",
      "[600]\ttraining's rmse: 0.000415904\ttraining's RMSPE: 0.192701\tvalid_1's rmse: 0.000441111\tvalid_1's RMSPE: 0.203235\n",
      "[700]\ttraining's rmse: 0.000410473\ttraining's RMSPE: 0.190185\tvalid_1's rmse: 0.000438786\tvalid_1's RMSPE: 0.202165\n",
      "[800]\ttraining's rmse: 0.000405908\ttraining's RMSPE: 0.188069\tvalid_1's rmse: 0.000436325\tvalid_1's RMSPE: 0.201031\n",
      "Early stopping, best iteration is:\n",
      "[824]\ttraining's rmse: 0.000405109\ttraining's RMSPE: 0.187699\tvalid_1's rmse: 0.000436105\tvalid_1's RMSPE: 0.200929\n",
      "Our out of folds RMSPE is 0.19915508614351776\n"
     ]
    }
   ],
   "source": [
    "models=train_models(train_10m_with_embs)"
   ]
  },
  {
   "cell_type": "code",
   "execution_count": 97,
   "id": "english-edinburgh",
   "metadata": {},
   "outputs": [
    {
     "data": {
      "image/png": "[encoded data removed]",
      "text/plain": [
       "<Figure size 432x288 with 1 Axes>"
      ]
     },
     "metadata": {
      "needs_background": "light"
     },
     "output_type": "display_data"
    },
    {
     "data": {
      "image/png": "[encoded data removed]",
      "text/plain": [
       "<Figure size 432x288 with 1 Axes>"
      ]
     },
     "metadata": {
      "needs_background": "light"
     },
     "output_type": "display_data"
    },
    {
     "data": {
      "image/png": "[encoded data removed]",
      "text/plain": [
       "<Figure size 432x288 with 1 Axes>"
      ]
     },
     "metadata": {
      "needs_background": "light"
     },
     "output_type": "display_data"
    },
    {
     "data": {
      "image/png": "[encoded data removed]",
      "text/plain": [
       "<Figure size 432x288 with 1 Axes>"
      ]
     },
     "metadata": {
      "needs_background": "light"
     },
     "output_type": "display_data"
    },
    {
     "data": {
      "image/png": "[encoded data removed]",
      "text/plain": [
       "<Figure size 432x288 with 1 Axes>"
      ]
     },
     "metadata": {
      "needs_background": "light"
     },
     "output_type": "display_data"
    }
   ],
   "source": [
    "for m in models:\n",
    "    lgb.plot_importance(m, max_num_features=16)"
   ]
  },
  {
   "cell_type": "code",
   "execution_count": null,
   "id": "focused-sheep",
   "metadata": {},
   "outputs": [],
   "source": []
  }
 ],
 "metadata": {
  "kernelspec": {
   "display_name": "Python 3.8.5 64-bit ('fastai': conda)",
   "language": "python",
   "name": "python38564bitfastaicondad52d12c5a30a4725bf9d3e235cf1271c"
  },
  "language_info": {
   "codemirror_mode": {
    "name": "ipython",
    "version": 3
   },
   "file_extension": ".py",
   "mimetype": "text/x-python",
   "name": "python",
   "nbconvert_exporter": "python",
   "pygments_lexer": "ipython3",
   "version": "3.8.5"
  }
 },
 "nbformat": 4,
 "nbformat_minor": 5
}
