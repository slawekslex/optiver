{
 "cells": [
  {
   "cell_type": "code",
   "execution_count": 1,
   "id": "given-auditor",
   "metadata": {},
   "outputs": [],
   "source": [
    "%load_ext autoreload\n",
    "%autoreload 2"
   ]
  },
  {
   "cell_type": "code",
   "execution_count": 7,
   "id": "polyphonic-transformation",
   "metadata": {},
   "outputs": [],
   "source": [
    "from fastai.tabular.all import *\n",
    "from multiprocessing import Pool\n",
    "from sklearn.model_selection import KFold\n",
    "import lightgbm as lgb\n",
    "from optiver_features import ffill"
   ]
  },
  {
   "cell_type": "markdown",
   "id": "gorgeous-madness",
   "metadata": {},
   "source": [
    "## Generate 5m dataset"
   ]
  },
  {
   "cell_type": "code",
   "execution_count": 3,
   "id": "spread-kitchen",
   "metadata": {},
   "outputs": [],
   "source": [
    "data_dir = Path('../input/optiver-realized-volatility-prediction')"
   ]
  },
  {
   "cell_type": "code",
   "execution_count": 4,
   "id": "touched-graduate",
   "metadata": {},
   "outputs": [],
   "source": [
    "# Function to calculate first WAP\n",
    "def calc_wap1(df):\n",
    "    wap = (df['bid_price1'] * df['ask_size1'] + df['ask_price1'] * df['bid_size1']) / (df['bid_size1'] + df['ask_size1'])\n",
    "    return wap\n",
    "\n",
    "# Function to calculate second WAP\n",
    "def calc_wap2(df):\n",
    "    wap = (df['bid_price2'] * df['ask_size2'] + df['ask_price2'] * df['bid_size2']) / (df['bid_size2'] + df['ask_size2'])\n",
    "    return wap\n",
    "\n",
    "# Function to calculate the log of the return\n",
    "# Remember that logb(x / y) = logb(x) - logb(y)\n",
    "def log_return(series):\n",
    "    return np.log(series).diff()\n",
    "\n",
    "# Calculate the realized volatility\n",
    "def realized_volatility(series):\n",
    "    return np.sqrt(np.sum(series**2))\n",
    "\n",
    "# Function to count unique elements of a series\n",
    "def count_unique(series):\n",
    "    return len(np.unique(series))\n",
    "\n",
    "def book_preprocessor(df, stock_id):\n",
    "    #df = pd.read_parquet(file_path)\n",
    "    # Calculate Wap\n",
    "    df['wap1'] = calc_wap1(df)\n",
    "    df['wap2'] = calc_wap2(df)\n",
    "    # Calculate log returns\n",
    "    df['log_return1'] = df.groupby(['time_id'])['wap1'].apply(log_return)\n",
    "    df['log_return2'] = df.groupby(['time_id'])['wap2'].apply(log_return)\n",
    "    # Calculate wap balance\n",
    "    df['wap_balance'] = abs(df['wap1'] - df['wap2'])\n",
    "    # Calculate spread\n",
    "    df['price_spread'] = (df['ask_price1'] - df['bid_price1']) / ((df['ask_price1'] + df['bid_price1']) / 2)\n",
    "    df['bid_spread'] = df['bid_price1'] - df['bid_price2']\n",
    "    df['ask_spread'] = df['ask_price1'] - df['ask_price2']\n",
    "    df['total_volume'] = (df['ask_size1'] + df['ask_size2']) + (df['bid_size1'] + df['bid_size2'])\n",
    "    df['volume_imbalance'] = abs((df['ask_size1'] + df['ask_size2']) - (df['bid_size1'] + df['bid_size2']))\n",
    "    \n",
    "    # Dict for aggregations\n",
    "    create_feature_dict = {\n",
    "        'wap1': [np.sum, np.mean, np.std],\n",
    "        'wap2': [np.sum, np.mean, np.std],\n",
    "        'log_return1': [np.sum, realized_volatility, np.mean, np.std],\n",
    "        'log_return2': [np.sum, realized_volatility, np.mean, np.std],\n",
    "        'wap_balance': [np.sum, np.mean, np.std],\n",
    "        'price_spread':[np.sum, np.mean, np.std],\n",
    "        'bid_spread':[np.sum, np.mean, np.std],\n",
    "        'ask_spread':[np.sum, np.mean, np.std],\n",
    "        'total_volume':[np.sum, np.mean, np.std],\n",
    "        'volume_imbalance':[np.sum, np.mean, np.std]\n",
    "    }\n",
    "    \n",
    "    # Function to get group stats for different windows (seconds in bucket)\n",
    "    def get_stats_window(seconds_in_bucket, add_suffix = False):\n",
    "        # Group by the window\n",
    "        df_feature = df[df['seconds_in_bucket'] >= seconds_in_bucket].groupby(['time_id']).agg(create_feature_dict).reset_index()\n",
    "        # Rename columns joining suffix\n",
    "        df_feature.columns = ['_'.join(col) for col in df_feature.columns]\n",
    "        # Add a suffix to differentiate windows\n",
    "        if add_suffix:\n",
    "            df_feature = df_feature.add_suffix('_' + str(seconds_in_bucket))\n",
    "        return df_feature\n",
    "    \n",
    "    # Get the stats for different windows\n",
    "    df_feature = get_stats_window(seconds_in_bucket = 0, add_suffix = False)\n",
    "    #df_feature_450 = get_stats_window(seconds_in_bucket = 450, add_suffix = True)\n",
    "    #df_feature_300 = get_stats_window(seconds_in_bucket = 300, add_suffix = True)\n",
    "    #df_feature_150 = get_stats_window(seconds_in_bucket = 150, add_suffix = True)\n",
    "    \n",
    "    # Merge all\n",
    "    #df_feature = df_feature.merge(df_feature_450, how = 'left', left_on = 'time_id_', right_on = 'time_id__450')\n",
    "    #df_feature = df_feature.merge(df_feature_300, how = 'left', left_on = 'time_id_', right_on = 'time_id__300')\n",
    "    #df_feature = df_feature.merge(df_feature_150, how = 'left', left_on = 'time_id_', right_on = 'time_id__150')\n",
    "    # Drop unnecesary time_ids\n",
    "    #df_feature.drop(['time_id__450', 'time_id__300', 'time_id__150'], axis = 1, inplace = True)\n",
    "    \n",
    "    # Create row_id so we can merge\n",
    "    #stock_id = str(file_path).split('=')[1]\n",
    "    df_feature['row_id'] = df_feature['time_id_'].apply(lambda x: f'{stock_id}-{x}')\n",
    "    df_feature = df_feature.rename(columns={\"time_id_\": \"time_id\"})\n",
    "    \n",
    "    df_feature['stock_id'] = stock_id\n",
    "    return df_feature"
   ]
  },
  {
   "cell_type": "code",
   "execution_count": 5,
   "id": "increased-gamma",
   "metadata": {},
   "outputs": [],
   "source": [
    "def trade_preprocessor(df, stock_id):\n",
    "    #df = pd.read_parquet(file_path)\n",
    "    df['log_return'] = df.groupby('time_id')['price'].apply(log_return)\n",
    "    \n",
    "    # Dict for aggregations\n",
    "    create_feature_dict = {\n",
    "        'log_return':[realized_volatility],\n",
    "        'seconds_in_bucket':[count_unique],\n",
    "        'size':[np.sum],\n",
    "        'order_count':[np.mean],\n",
    "    }\n",
    "    \n",
    "    # Function to get group stats for different windows (seconds in bucket)\n",
    "    def get_stats_window(seconds_in_bucket, add_suffix = False):\n",
    "        # Group by the window\n",
    "        df_feature = df[df['seconds_in_bucket'] >= seconds_in_bucket].groupby(['time_id']).agg(create_feature_dict).reset_index()\n",
    "        # Rename columns joining suffix\n",
    "        df_feature.columns = ['_'.join(col) for col in df_feature.columns]\n",
    "        # Add a suffix to differentiate windows\n",
    "        if add_suffix:\n",
    "            df_feature = df_feature.add_suffix('_' + str(seconds_in_bucket))\n",
    "        return df_feature\n",
    "    \n",
    "    # Get the stats for different windows\n",
    "    df_feature = get_stats_window(seconds_in_bucket = 0, add_suffix = False)\n",
    "#     df_feature_450 = get_stats_window(seconds_in_bucket = 450, add_suffix = True)\n",
    "#     df_feature_300 = get_stats_window(seconds_in_bucket = 300, add_suffix = True)\n",
    "#     df_feature_150 = get_stats_window(seconds_in_bucket = 150, add_suffix = True)\n",
    "\n",
    "    # Merge all\n",
    "#     df_feature = df_feature.merge(df_feature_450, how = 'left', left_on = 'time_id_', right_on = 'time_id__450')\n",
    "#     df_feature = df_feature.merge(df_feature_300, how = 'left', left_on = 'time_id_', right_on = 'time_id__300')\n",
    "#     df_feature = df_feature.merge(df_feature_150, how = 'left', left_on = 'time_id_', right_on = 'time_id__150')\n",
    "    # Drop unnecesary time_ids\n",
    "#     df_feature.drop(['time_id__450', 'time_id__300', 'time_id__150'], axis = 1, inplace = True)\n",
    "    \n",
    "    df_feature = df_feature.add_prefix('trade_')\n",
    "    #stock_id = str(file_path).split('=')[1]\n",
    "    df_feature['row_id'] = df_feature['trade_time_id_'].apply(lambda x:f'{stock_id}-{x}')\n",
    "    df_feature.drop(['trade_time_id_'], axis = 1, inplace = True)\n",
    "    return df_feature"
   ]
  },
  {
   "cell_type": "code",
   "execution_count": 6,
   "id": "endangered-confidentiality",
   "metadata": {},
   "outputs": [],
   "source": [
    "def realized_volatility_per_time_id(df_book_data, stock_id):\n",
    "    df_book_data['wap'] =(df_book_data['bid_price1'] * df_book_data['ask_size1']+df_book_data['ask_price1'] * df_book_data['bid_size1'])  / (\n",
    "                                      df_book_data['bid_size1']+ df_book_data[\n",
    "                                  'ask_size1'])\n",
    "    df_book_data['log_return'] = df_book_data.groupby(['time_id'])['wap'].apply(log_return)\n",
    "    df_book_data = df_book_data[~df_book_data['log_return'].isnull()]\n",
    "    df_realized_vol_per_stock =  pd.DataFrame(df_book_data.groupby(['time_id'])['log_return'].agg(realized_volatility)).reset_index()\n",
    "    df_realized_vol_per_stock = df_realized_vol_per_stock.rename(columns = {'log_return':'target'})\n",
    "    df_realized_vol_per_stock['row_id'] = df_realized_vol_per_stock['time_id'].apply(lambda x:f'{stock_id}-{x}')\n",
    "    return df_realized_vol_per_stock[['row_id', 'target']]"
   ]
  },
  {
   "cell_type": "code",
   "execution_count": 8,
   "id": "confident-sustainability",
   "metadata": {},
   "outputs": [],
   "source": [
    "def preprocess_one_stock(stock_id, typ='train'):\n",
    "    book_df = pd.read_parquet(data_dir / f'book_{typ}.parquet/stock_id={stock_id}')\n",
    "    book_df = ffill(book_df)\n",
    "    trade_df = pd.read_parquet(data_dir / f'trade_{typ}.parquet/stock_id={stock_id}')\n",
    "    book_5m  = book_preprocessor(book_df[book_df.seconds_in_bucket < 300].copy(), stock_id)\n",
    "    trade_5m = trade_preprocessor(trade_df[trade_df.seconds_in_bucket < 300].copy(), stock_id)\n",
    "    realized_vol = realized_volatility_per_time_id(book_df[book_df.seconds_in_bucket >= 300].copy(), stock_id)\n",
    "    res = pd.merge(book_5m, trade_5m, on = 'row_id', how = 'left')\n",
    "    res = pd.merge(res, realized_vol, on = 'row_id', how='left')\n",
    "    return res"
   ]
  },
  {
   "cell_type": "code",
   "execution_count": 9,
   "id": "modern-nerve",
   "metadata": {},
   "outputs": [],
   "source": [
    "def preprocess_all(list_stock_ids, typ='train'):\n",
    "    pool = Pool(16)\n",
    "    df = pool.starmap(preprocess_one_stock, zip(list_stock_ids, [typ]*len(list_stock_ids)))\n",
    "    df = pd.concat(df, ignore_index = True)\n",
    "    return df\n"
   ]
  },
  {
   "cell_type": "code",
   "execution_count": 10,
   "id": "chief-sunrise",
   "metadata": {},
   "outputs": [],
   "source": [
    "def generate_train_df():\n",
    "    train_df = pd.read_csv(data_dir/'train.csv')\n",
    "    train_stock_ids = train_df['stock_id'].unique()\n",
    "    train_features = preprocess_all(train_stock_ids, 'train')\n",
    "    return train_features"
   ]
  },
  {
   "cell_type": "code",
   "execution_count": 11,
   "id": "fresh-blanket",
   "metadata": {},
   "outputs": [],
   "source": [
    "train_df = generate_train_df()\n"
   ]
  },
  {
   "cell_type": "code",
   "execution_count": 12,
   "id": "sapphire-evans",
   "metadata": {},
   "outputs": [],
   "source": [
    "train_df.to_csv('train_5m.df', index=False)"
   ]
  },
  {
   "cell_type": "code",
   "execution_count": 13,
   "id": "czech-blast",
   "metadata": {},
   "outputs": [
    {
     "data": {
      "text/plain": [
       "428932"
      ]
     },
     "execution_count": 13,
     "metadata": {},
     "output_type": "execute_result"
    }
   ],
   "source": [
    "len(train_df)"
   ]
  },
  {
   "cell_type": "code",
   "execution_count": 14,
   "id": "infinite-compact",
   "metadata": {},
   "outputs": [
    {
     "data": {
      "text/plain": [
       "428931"
      ]
     },
     "execution_count": 14,
     "metadata": {},
     "output_type": "execute_result"
    }
   ],
   "source": [
    "train_df = train_df[train_df.target!=0]\n",
    "len(train_df)"
   ]
  },
  {
   "cell_type": "markdown",
   "id": "efficient-october",
   "metadata": {},
   "source": [
    "## LGBM Baseline"
   ]
  },
  {
   "cell_type": "code",
   "execution_count": 15,
   "id": "ecological-pregnancy",
   "metadata": {},
   "outputs": [],
   "source": [
    "def rmspe_np(y_true, y_pred):\n",
    "    return np.sqrt(np.mean(np.square((y_true - y_pred) / y_true)))\n",
    "def feval_rmspe(y_pred, lgb_train):\n",
    "    y_true = lgb_train.get_label()\n",
    "    return 'RMSPE', rmspe_np(y_true, y_pred), False\n",
    "\n",
    "def train_models(train):\n",
    "    # Hyperparammeters (optimized)\n",
    "    seed = 29\n",
    "    params = {\n",
    "        'learning_rate': 0.1,        \n",
    "        'lambda_l1': 2,\n",
    "        'lambda_l2': 7,\n",
    "        'num_leaves': 800,\n",
    "        'min_sum_hessian_in_leaf': 20,\n",
    "        'feature_fraction': 0.8,\n",
    "        'feature_fraction_bynode': 0.8,\n",
    "        'bagging_fraction': 0.9,\n",
    "        'bagging_freq': 42,\n",
    "        'min_data_in_leaf': 700,\n",
    "        'max_depth': 4,\n",
    "        'seed': seed,\n",
    "        'feature_fraction_seed': seed,\n",
    "        'bagging_seed': seed,\n",
    "        'drop_seed': seed,\n",
    "        'data_random_seed': seed,\n",
    "        'objective': 'rmse',\n",
    "        'boosting': 'gbdt',\n",
    "        'verbosity': -1,\n",
    "        'n_jobs': -1,\n",
    "    }   \n",
    "    \n",
    "    # Split features and target\n",
    "    x = train.drop(['row_id', 'target', 'time_id'], axis = 1)\n",
    "    y = train['target']\n",
    "    # Transform stock id to a numeric value\n",
    "    x['stock_id'] = x['stock_id'].astype(int)\n",
    "    models =[]\n",
    "    # Create out of folds array\n",
    "    oof_predictions = np.zeros(x.shape[0])\n",
    "    # Create a KFold object\n",
    "    kfold = KFold(n_splits = 5, random_state = 1111, shuffle = True)\n",
    "    # Iterate through each fold\n",
    "    for fold, (trn_ind, val_ind) in enumerate(kfold.split(x)):\n",
    "        print(f'Training fold {fold + 1}')\n",
    "        x_train, x_val = x.iloc[trn_ind], x.iloc[val_ind]\n",
    "        y_train, y_val = y.iloc[trn_ind], y.iloc[val_ind]\n",
    "        # Root mean squared percentage error weights\n",
    "        train_weights = 1 / np.square(y_train)\n",
    "        val_weights = 1 / np.square(y_val)\n",
    "        train_dataset = lgb.Dataset(x_train, y_train, weight = train_weights, categorical_feature = ['stock_id'])\n",
    "        val_dataset = lgb.Dataset(x_val, y_val, weight = val_weights, categorical_feature = ['stock_id'])\n",
    "        model = lgb.train(params = params, \n",
    "                          train_set = train_dataset, \n",
    "                          valid_sets = [train_dataset, val_dataset], \n",
    "                          num_boost_round = 3000, \n",
    "                          early_stopping_rounds = 25, \n",
    "                          verbose_eval = 100,\n",
    "                          feval = feval_rmspe)\n",
    "        models.append(model)\n",
    "        # Add predictions to the out of folds array\n",
    "        oof_predictions[val_ind] = model.predict(x_val)\n",
    "        # Predict the test set\n",
    "        #test_predictions += model.predict(x_test) / 10\n",
    "        \n",
    "    rmspe_score = rmspe_np(y, oof_predictions)\n",
    "    print(f'Our out of folds RMSPE is {rmspe_score}')\n",
    "    # Return test predictions\n",
    "    return models"
   ]
  },
  {
   "cell_type": "code",
   "execution_count": 16,
   "id": "precious-diana",
   "metadata": {},
   "outputs": [
    {
     "name": "stdout",
     "output_type": "stream",
     "text": [
      "Training fold 1\n"
     ]
    },
    {
     "name": "stderr",
     "output_type": "stream",
     "text": [
      "/home/slex/programy/anaconda3/envs/fastai/lib/python3.8/site-packages/lightgbm/basic.py:1551: UserWarning: Using categorical_feature in Dataset.\n",
      "  warnings.warn('Using categorical_feature in Dataset.')\n",
      "/home/slex/programy/anaconda3/envs/fastai/lib/python3.8/site-packages/lightgbm/basic.py:1286: UserWarning: Overriding the parameters from Reference Dataset.\n",
      "  warnings.warn('Overriding the parameters from Reference Dataset.')\n",
      "/home/slex/programy/anaconda3/envs/fastai/lib/python3.8/site-packages/lightgbm/basic.py:1098: UserWarning: categorical_column in param dict is overridden.\n",
      "  warnings.warn('{} in param dict is overridden.'.format(cat_alias))\n"
     ]
    },
    {
     "name": "stdout",
     "output_type": "stream",
     "text": [
      "Training until validation scores don't improve for 25 rounds\n",
      "[100]\ttraining's rmse: 0.000360649\ttraining's RMSPE: 0.247353\tvalid_1's rmse: 0.000370301\tvalid_1's RMSPE: 0.253292\n",
      "[200]\ttraining's rmse: 0.000352139\ttraining's RMSPE: 0.241517\tvalid_1's rmse: 0.00036751\tvalid_1's RMSPE: 0.251383\n",
      "Early stopping, best iteration is:\n",
      "[208]\ttraining's rmse: 0.000351711\ttraining's RMSPE: 0.241223\tvalid_1's rmse: 0.000367395\tvalid_1's RMSPE: 0.251304\n",
      "Training fold 2\n"
     ]
    },
    {
     "name": "stderr",
     "output_type": "stream",
     "text": [
      "/home/slex/programy/anaconda3/envs/fastai/lib/python3.8/site-packages/lightgbm/basic.py:1551: UserWarning: Using categorical_feature in Dataset.\n",
      "  warnings.warn('Using categorical_feature in Dataset.')\n",
      "/home/slex/programy/anaconda3/envs/fastai/lib/python3.8/site-packages/lightgbm/basic.py:1286: UserWarning: Overriding the parameters from Reference Dataset.\n",
      "  warnings.warn('Overriding the parameters from Reference Dataset.')\n",
      "/home/slex/programy/anaconda3/envs/fastai/lib/python3.8/site-packages/lightgbm/basic.py:1098: UserWarning: categorical_column in param dict is overridden.\n",
      "  warnings.warn('{} in param dict is overridden.'.format(cat_alias))\n"
     ]
    },
    {
     "name": "stdout",
     "output_type": "stream",
     "text": [
      "Training until validation scores don't improve for 25 rounds\n",
      "[100]\ttraining's rmse: 0.000360059\ttraining's RMSPE: 0.247387\tvalid_1's rmse: 0.000385922\tvalid_1's RMSPE: 0.262085\n",
      "[200]\ttraining's rmse: 0.000352039\ttraining's RMSPE: 0.241877\tvalid_1's rmse: 0.000382626\tvalid_1's RMSPE: 0.259846\n",
      "[300]\ttraining's rmse: 0.0003472\ttraining's RMSPE: 0.238551\tvalid_1's rmse: 0.000381338\tvalid_1's RMSPE: 0.258971\n",
      "Early stopping, best iteration is:\n",
      "[368]\ttraining's rmse: 0.000344786\ttraining's RMSPE: 0.236893\tvalid_1's rmse: 0.000380891\tvalid_1's RMSPE: 0.258668\n",
      "Training fold 3\n"
     ]
    },
    {
     "name": "stderr",
     "output_type": "stream",
     "text": [
      "/home/slex/programy/anaconda3/envs/fastai/lib/python3.8/site-packages/lightgbm/basic.py:1551: UserWarning: Using categorical_feature in Dataset.\n",
      "  warnings.warn('Using categorical_feature in Dataset.')\n",
      "/home/slex/programy/anaconda3/envs/fastai/lib/python3.8/site-packages/lightgbm/basic.py:1286: UserWarning: Overriding the parameters from Reference Dataset.\n",
      "  warnings.warn('Overriding the parameters from Reference Dataset.')\n",
      "/home/slex/programy/anaconda3/envs/fastai/lib/python3.8/site-packages/lightgbm/basic.py:1098: UserWarning: categorical_column in param dict is overridden.\n",
      "  warnings.warn('{} in param dict is overridden.'.format(cat_alias))\n"
     ]
    },
    {
     "name": "stdout",
     "output_type": "stream",
     "text": [
      "Training until validation scores don't improve for 25 rounds\n",
      "[100]\ttraining's rmse: 0.000361442\ttraining's RMSPE: 0.245717\tvalid_1's rmse: 0.000433884\tvalid_1's RMSPE: 0.307054\n",
      "Early stopping, best iteration is:\n",
      "[106]\ttraining's rmse: 0.000360679\ttraining's RMSPE: 0.245198\tvalid_1's rmse: 0.000433256\tvalid_1's RMSPE: 0.30661\n",
      "Training fold 4\n"
     ]
    },
    {
     "name": "stderr",
     "output_type": "stream",
     "text": [
      "/home/slex/programy/anaconda3/envs/fastai/lib/python3.8/site-packages/lightgbm/basic.py:1551: UserWarning: Using categorical_feature in Dataset.\n",
      "  warnings.warn('Using categorical_feature in Dataset.')\n",
      "/home/slex/programy/anaconda3/envs/fastai/lib/python3.8/site-packages/lightgbm/basic.py:1286: UserWarning: Overriding the parameters from Reference Dataset.\n",
      "  warnings.warn('Overriding the parameters from Reference Dataset.')\n",
      "/home/slex/programy/anaconda3/envs/fastai/lib/python3.8/site-packages/lightgbm/basic.py:1098: UserWarning: categorical_column in param dict is overridden.\n",
      "  warnings.warn('{} in param dict is overridden.'.format(cat_alias))\n"
     ]
    },
    {
     "name": "stdout",
     "output_type": "stream",
     "text": [
      "Training until validation scores don't improve for 25 rounds\n",
      "[100]\ttraining's rmse: 0.000360735\ttraining's RMSPE: 0.247391\tvalid_1's rmse: 0.000382665\tvalid_1's RMSPE: 0.261836\n",
      "[200]\ttraining's rmse: 0.000352754\ttraining's RMSPE: 0.241918\tvalid_1's rmse: 0.000378777\tvalid_1's RMSPE: 0.259176\n",
      "Early stopping, best iteration is:\n",
      "[225]\ttraining's rmse: 0.000351392\ttraining's RMSPE: 0.240984\tvalid_1's rmse: 0.000378498\tvalid_1's RMSPE: 0.258985\n",
      "Training fold 5\n"
     ]
    },
    {
     "name": "stderr",
     "output_type": "stream",
     "text": [
      "/home/slex/programy/anaconda3/envs/fastai/lib/python3.8/site-packages/lightgbm/basic.py:1551: UserWarning: Using categorical_feature in Dataset.\n",
      "  warnings.warn('Using categorical_feature in Dataset.')\n",
      "/home/slex/programy/anaconda3/envs/fastai/lib/python3.8/site-packages/lightgbm/basic.py:1286: UserWarning: Overriding the parameters from Reference Dataset.\n",
      "  warnings.warn('Overriding the parameters from Reference Dataset.')\n",
      "/home/slex/programy/anaconda3/envs/fastai/lib/python3.8/site-packages/lightgbm/basic.py:1098: UserWarning: categorical_column in param dict is overridden.\n",
      "  warnings.warn('{} in param dict is overridden.'.format(cat_alias))\n"
     ]
    },
    {
     "name": "stdout",
     "output_type": "stream",
     "text": [
      "Training until validation scores don't improve for 25 rounds\n",
      "[100]\ttraining's rmse: 0.000359133\ttraining's RMSPE: 0.24739\tvalid_1's rmse: 0.000371712\tvalid_1's RMSPE: 0.249735\n",
      "[200]\ttraining's rmse: 0.000351016\ttraining's RMSPE: 0.241799\tvalid_1's rmse: 0.000367894\tvalid_1's RMSPE: 0.24717\n",
      "[300]\ttraining's rmse: 0.000346282\ttraining's RMSPE: 0.238538\tvalid_1's rmse: 0.000366285\tvalid_1's RMSPE: 0.246089\n",
      "[400]\ttraining's rmse: 0.000342881\ttraining's RMSPE: 0.236195\tvalid_1's rmse: 0.000365247\tvalid_1's RMSPE: 0.245391\n",
      "[500]\ttraining's rmse: 0.000340189\ttraining's RMSPE: 0.234341\tvalid_1's rmse: 0.000364664\tvalid_1's RMSPE: 0.245\n",
      "[600]\ttraining's rmse: 0.000337919\ttraining's RMSPE: 0.232777\tvalid_1's rmse: 0.000364243\tvalid_1's RMSPE: 0.244717\n",
      "[700]\ttraining's rmse: 0.000335984\ttraining's RMSPE: 0.231444\tvalid_1's rmse: 0.000363968\tvalid_1's RMSPE: 0.244532\n",
      "Early stopping, best iteration is:\n",
      "[717]\ttraining's rmse: 0.000335638\ttraining's RMSPE: 0.231206\tvalid_1's rmse: 0.000363884\tvalid_1's RMSPE: 0.244476\n",
      "Our out of folds RMSPE is 0.2649203167648208\n"
     ]
    }
   ],
   "source": [
    "_=train_models(train_df)"
   ]
  },
  {
   "cell_type": "markdown",
   "id": "bizarre-zealand",
   "metadata": {},
   "source": [
    "## Learning embeddings"
   ]
  },
  {
   "cell_type": "code",
   "execution_count": null,
   "id": "lyric-consensus",
   "metadata": {},
   "outputs": [],
   "source": []
  },
  {
   "cell_type": "code",
   "execution_count": 17,
   "id": "delayed-arrow",
   "metadata": {},
   "outputs": [],
   "source": [
    "cont_nn,cat_nn = cont_cat_split(train_df, max_card=9000, dep_var='target')\n",
    "cat_nn.remove('row_id')"
   ]
  },
  {
   "cell_type": "code",
   "execution_count": 18,
   "id": "genuine-masters",
   "metadata": {},
   "outputs": [
    {
     "data": {
      "text/plain": [
       "['time_id', 'stock_id']"
      ]
     },
     "execution_count": 18,
     "metadata": {},
     "output_type": "execute_result"
    }
   ],
   "source": [
    "cat_nn"
   ]
  },
  {
   "cell_type": "code",
   "execution_count": 19,
   "id": "searching-toyota",
   "metadata": {},
   "outputs": [],
   "source": [
    "procs_nn = [Categorify,FillMissing, Normalize]\n",
    "\n",
    "splits = RandomSplitter()(train_df)\n",
    "\n",
    "dls = TabularPandas(train_df, procs_nn, cat_nn, cont_nn,\n",
    "                      splits=splits, \n",
    "                       \n",
    "                      y_names='target').dataloaders(1024)"
   ]
  },
  {
   "cell_type": "code",
   "execution_count": 20,
   "id": "killing-telescope",
   "metadata": {},
   "outputs": [],
   "source": [
    "def rmspe(preds, targs):\n",
    "    x = (targs-preds)/targs\n",
    "    return (x**2).mean().sqrt()\n",
    "\n",
    "config={'lin_first':True, 'ps':[.5,.2,0], 'embed_p':.25, }\n",
    "learn = tabular_learner(dls, y_range=(0,.1), layers=[100,50,20], emb_szs={'stock_id':10, 'time_id':10}, \n",
    "                        n_out=1, loss_func = rmspe, metrics=AccumMetric(rmspe), config=config)"
   ]
  },
  {
   "cell_type": "code",
   "execution_count": 21,
   "id": "coordinated-package",
   "metadata": {},
   "outputs": [
    {
     "data": {
      "text/html": [
       "<table border=\"1\" class=\"dataframe\">\n",
       "  <thead>\n",
       "    <tr style=\"text-align: left;\">\n",
       "      <th>epoch</th>\n",
       "      <th>train_loss</th>\n",
       "      <th>valid_loss</th>\n",
       "      <th>rmspe</th>\n",
       "      <th>time</th>\n",
       "    </tr>\n",
       "  </thead>\n",
       "  <tbody>\n",
       "    <tr>\n",
       "      <td>0</td>\n",
       "      <td>13.700855</td>\n",
       "      <td>11.251608</td>\n",
       "      <td>11.255558</td>\n",
       "      <td>00:07</td>\n",
       "    </tr>\n",
       "    <tr>\n",
       "      <td>1</td>\n",
       "      <td>2.013942</td>\n",
       "      <td>0.636771</td>\n",
       "      <td>0.641814</td>\n",
       "      <td>00:03</td>\n",
       "    </tr>\n",
       "    <tr>\n",
       "      <td>2</td>\n",
       "      <td>0.416136</td>\n",
       "      <td>0.298455</td>\n",
       "      <td>0.299697</td>\n",
       "      <td>00:03</td>\n",
       "    </tr>\n",
       "    <tr>\n",
       "      <td>3</td>\n",
       "      <td>0.306590</td>\n",
       "      <td>0.269570</td>\n",
       "      <td>0.284681</td>\n",
       "      <td>00:03</td>\n",
       "    </tr>\n",
       "    <tr>\n",
       "      <td>4</td>\n",
       "      <td>0.338225</td>\n",
       "      <td>0.267941</td>\n",
       "      <td>0.270801</td>\n",
       "      <td>00:03</td>\n",
       "    </tr>\n",
       "    <tr>\n",
       "      <td>5</td>\n",
       "      <td>0.287679</td>\n",
       "      <td>0.254917</td>\n",
       "      <td>0.261571</td>\n",
       "      <td>00:03</td>\n",
       "    </tr>\n",
       "    <tr>\n",
       "      <td>6</td>\n",
       "      <td>0.272733</td>\n",
       "      <td>0.252641</td>\n",
       "      <td>0.257634</td>\n",
       "      <td>00:03</td>\n",
       "    </tr>\n",
       "    <tr>\n",
       "      <td>7</td>\n",
       "      <td>0.283980</td>\n",
       "      <td>0.250858</td>\n",
       "      <td>0.260573</td>\n",
       "      <td>00:03</td>\n",
       "    </tr>\n",
       "    <tr>\n",
       "      <td>8</td>\n",
       "      <td>0.269417</td>\n",
       "      <td>0.246369</td>\n",
       "      <td>0.253124</td>\n",
       "      <td>00:03</td>\n",
       "    </tr>\n",
       "    <tr>\n",
       "      <td>9</td>\n",
       "      <td>0.264217</td>\n",
       "      <td>0.243016</td>\n",
       "      <td>0.250573</td>\n",
       "      <td>00:03</td>\n",
       "    </tr>\n",
       "    <tr>\n",
       "      <td>10</td>\n",
       "      <td>0.261620</td>\n",
       "      <td>0.242608</td>\n",
       "      <td>0.249222</td>\n",
       "      <td>00:03</td>\n",
       "    </tr>\n",
       "    <tr>\n",
       "      <td>11</td>\n",
       "      <td>0.258774</td>\n",
       "      <td>0.244966</td>\n",
       "      <td>0.251621</td>\n",
       "      <td>00:03</td>\n",
       "    </tr>\n",
       "    <tr>\n",
       "      <td>12</td>\n",
       "      <td>0.248861</td>\n",
       "      <td>0.240452</td>\n",
       "      <td>0.247952</td>\n",
       "      <td>00:03</td>\n",
       "    </tr>\n",
       "    <tr>\n",
       "      <td>13</td>\n",
       "      <td>0.247338</td>\n",
       "      <td>0.241050</td>\n",
       "      <td>0.250295</td>\n",
       "      <td>00:03</td>\n",
       "    </tr>\n",
       "    <tr>\n",
       "      <td>14</td>\n",
       "      <td>0.246475</td>\n",
       "      <td>0.238968</td>\n",
       "      <td>0.247473</td>\n",
       "      <td>00:03</td>\n",
       "    </tr>\n",
       "    <tr>\n",
       "      <td>15</td>\n",
       "      <td>0.243847</td>\n",
       "      <td>0.239278</td>\n",
       "      <td>0.247246</td>\n",
       "      <td>00:03</td>\n",
       "    </tr>\n",
       "    <tr>\n",
       "      <td>16</td>\n",
       "      <td>0.244317</td>\n",
       "      <td>0.239253</td>\n",
       "      <td>0.248840</td>\n",
       "      <td>00:03</td>\n",
       "    </tr>\n",
       "    <tr>\n",
       "      <td>17</td>\n",
       "      <td>0.250578</td>\n",
       "      <td>0.239402</td>\n",
       "      <td>0.249619</td>\n",
       "      <td>00:03</td>\n",
       "    </tr>\n",
       "    <tr>\n",
       "      <td>18</td>\n",
       "      <td>0.248341</td>\n",
       "      <td>0.239775</td>\n",
       "      <td>0.249239</td>\n",
       "      <td>00:03</td>\n",
       "    </tr>\n",
       "    <tr>\n",
       "      <td>19</td>\n",
       "      <td>0.249147</td>\n",
       "      <td>0.239352</td>\n",
       "      <td>0.249064</td>\n",
       "      <td>00:03</td>\n",
       "    </tr>\n",
       "  </tbody>\n",
       "</table>"
      ],
      "text/plain": [
       "<IPython.core.display.HTML object>"
      ]
     },
     "metadata": {},
     "output_type": "display_data"
    }
   ],
   "source": [
    "learn.fit_one_cycle(20, 5e-3)"
   ]
  },
  {
   "cell_type": "code",
   "execution_count": 22,
   "id": "daily-vienna",
   "metadata": {},
   "outputs": [],
   "source": [
    "torch.save(learn.model.embeds[0].weight.data, 'timeemb10.pt')"
   ]
  },
  {
   "cell_type": "code",
   "execution_count": 23,
   "id": "arranged-scholarship",
   "metadata": {},
   "outputs": [
    {
     "data": {
      "text/plain": [
       "3831"
      ]
     },
     "execution_count": 23,
     "metadata": {},
     "output_type": "execute_result"
    }
   ],
   "source": [
    "categorify = dls.procs[2]\n",
    "len(categorify.classes['time_id'])"
   ]
  },
  {
   "cell_type": "code",
   "execution_count": 24,
   "id": "varied-thought",
   "metadata": {},
   "outputs": [],
   "source": [
    "time_id_embs = dict()\n",
    "for idx, time_id in enumerate(categorify.classes['time_id']):\n",
    "    time_id_embs[time_id] = learn.model.embeds[0].weight[idx].tolist()\n",
    "\n",
    "stock_id_embs = dict()\n",
    "for idx, stock_id in enumerate(categorify.classes['stock_id']):\n",
    "    stock_id_embs[stock_id] = learn.model.embeds[1].weight[idx].tolist()\n",
    "\n",
    "all_embs = []\n",
    "for _, row in (train_df[['stock_id', 'time_id']].iterrows()):\n",
    "    emb1 = stock_id_embs[row.stock_id]\n",
    "    emb2 = time_id_embs[row.time_id]\n",
    "    all_embs.append(emb1+emb2)"
   ]
  },
  {
   "cell_type": "code",
   "execution_count": 26,
   "id": "acting-execution",
   "metadata": {},
   "outputs": [
    {
     "data": {
      "text/plain": [
       "(428931, 20)"
      ]
     },
     "execution_count": 26,
     "metadata": {},
     "output_type": "execute_result"
    }
   ],
   "source": [
    "np.array(all_embs).shape"
   ]
  },
  {
   "cell_type": "code",
   "execution_count": 27,
   "id": "wireless-mouth",
   "metadata": {},
   "outputs": [
    {
     "data": {
      "text/html": [
       "<div>\n",
       "<style scoped>\n",
       "    .dataframe tbody tr th:only-of-type {\n",
       "        vertical-align: middle;\n",
       "    }\n",
       "\n",
       "    .dataframe tbody tr th {\n",
       "        vertical-align: top;\n",
       "    }\n",
       "\n",
       "    .dataframe thead th {\n",
       "        text-align: right;\n",
       "    }\n",
       "</style>\n",
       "<table border=\"1\" class=\"dataframe\">\n",
       "  <thead>\n",
       "    <tr style=\"text-align: right;\">\n",
       "      <th></th>\n",
       "      <th>index</th>\n",
       "      <th>time_id</th>\n",
       "      <th>wap1_sum</th>\n",
       "      <th>wap1_mean</th>\n",
       "      <th>wap1_std</th>\n",
       "      <th>wap2_sum</th>\n",
       "      <th>wap2_mean</th>\n",
       "      <th>wap2_std</th>\n",
       "      <th>log_return1_sum</th>\n",
       "      <th>log_return1_realized_volatility</th>\n",
       "      <th>...</th>\n",
       "      <th>10</th>\n",
       "      <th>11</th>\n",
       "      <th>12</th>\n",
       "      <th>13</th>\n",
       "      <th>14</th>\n",
       "      <th>15</th>\n",
       "      <th>16</th>\n",
       "      <th>17</th>\n",
       "      <th>18</th>\n",
       "      <th>19</th>\n",
       "    </tr>\n",
       "  </thead>\n",
       "  <tbody>\n",
       "    <tr>\n",
       "      <th>0</th>\n",
       "      <td>0</td>\n",
       "      <td>5</td>\n",
       "      <td>301.078967</td>\n",
       "      <td>1.003597</td>\n",
       "      <td>0.000851</td>\n",
       "      <td>301.053515</td>\n",
       "      <td>1.003512</td>\n",
       "      <td>0.001014</td>\n",
       "      <td>0.002134</td>\n",
       "      <td>0.003394</td>\n",
       "      <td>...</td>\n",
       "      <td>0.233299</td>\n",
       "      <td>-0.204058</td>\n",
       "      <td>-0.150260</td>\n",
       "      <td>0.259856</td>\n",
       "      <td>0.089705</td>\n",
       "      <td>0.161742</td>\n",
       "      <td>0.157481</td>\n",
       "      <td>0.161818</td>\n",
       "      <td>0.317646</td>\n",
       "      <td>-0.243916</td>\n",
       "    </tr>\n",
       "    <tr>\n",
       "      <th>1</th>\n",
       "      <td>1</td>\n",
       "      <td>11</td>\n",
       "      <td>299.996183</td>\n",
       "      <td>0.999987</td>\n",
       "      <td>0.000156</td>\n",
       "      <td>299.994795</td>\n",
       "      <td>0.999983</td>\n",
       "      <td>0.000182</td>\n",
       "      <td>0.000264</td>\n",
       "      <td>0.000699</td>\n",
       "      <td>...</td>\n",
       "      <td>-0.242039</td>\n",
       "      <td>0.098177</td>\n",
       "      <td>-0.031663</td>\n",
       "      <td>0.035412</td>\n",
       "      <td>-0.154435</td>\n",
       "      <td>-0.094839</td>\n",
       "      <td>-0.036259</td>\n",
       "      <td>-0.021471</td>\n",
       "      <td>-0.101952</td>\n",
       "      <td>0.222299</td>\n",
       "    </tr>\n",
       "    <tr>\n",
       "      <th>2</th>\n",
       "      <td>2</td>\n",
       "      <td>16</td>\n",
       "      <td>299.988131</td>\n",
       "      <td>0.999960</td>\n",
       "      <td>0.000444</td>\n",
       "      <td>300.032917</td>\n",
       "      <td>1.000110</td>\n",
       "      <td>0.000470</td>\n",
       "      <td>0.000517</td>\n",
       "      <td>0.001983</td>\n",
       "      <td>...</td>\n",
       "      <td>0.188573</td>\n",
       "      <td>-0.334327</td>\n",
       "      <td>-0.035679</td>\n",
       "      <td>0.115466</td>\n",
       "      <td>-0.243960</td>\n",
       "      <td>0.313850</td>\n",
       "      <td>0.162906</td>\n",
       "      <td>0.240454</td>\n",
       "      <td>0.155647</td>\n",
       "      <td>0.201758</td>\n",
       "    </tr>\n",
       "    <tr>\n",
       "      <th>3</th>\n",
       "      <td>3</td>\n",
       "      <td>31</td>\n",
       "      <td>299.765819</td>\n",
       "      <td>0.999219</td>\n",
       "      <td>0.000846</td>\n",
       "      <td>299.650614</td>\n",
       "      <td>0.998835</td>\n",
       "      <td>0.000762</td>\n",
       "      <td>-0.001649</td>\n",
       "      <td>0.001863</td>\n",
       "      <td>...</td>\n",
       "      <td>-0.049514</td>\n",
       "      <td>-0.020515</td>\n",
       "      <td>0.027231</td>\n",
       "      <td>0.091227</td>\n",
       "      <td>0.038912</td>\n",
       "      <td>0.032656</td>\n",
       "      <td>0.040256</td>\n",
       "      <td>0.089729</td>\n",
       "      <td>0.039902</td>\n",
       "      <td>-0.142195</td>\n",
       "    </tr>\n",
       "    <tr>\n",
       "      <th>4</th>\n",
       "      <td>4</td>\n",
       "      <td>62</td>\n",
       "      <td>299.930817</td>\n",
       "      <td>0.999769</td>\n",
       "      <td>0.000238</td>\n",
       "      <td>299.905133</td>\n",
       "      <td>0.999684</td>\n",
       "      <td>0.000335</td>\n",
       "      <td>-0.000647</td>\n",
       "      <td>0.001131</td>\n",
       "      <td>...</td>\n",
       "      <td>-0.106804</td>\n",
       "      <td>-0.049446</td>\n",
       "      <td>0.069812</td>\n",
       "      <td>-0.074556</td>\n",
       "      <td>-0.079364</td>\n",
       "      <td>0.084584</td>\n",
       "      <td>0.024387</td>\n",
       "      <td>-0.017761</td>\n",
       "      <td>0.026403</td>\n",
       "      <td>0.020131</td>\n",
       "    </tr>\n",
       "    <tr>\n",
       "      <th>...</th>\n",
       "      <td>...</td>\n",
       "      <td>...</td>\n",
       "      <td>...</td>\n",
       "      <td>...</td>\n",
       "      <td>...</td>\n",
       "      <td>...</td>\n",
       "      <td>...</td>\n",
       "      <td>...</td>\n",
       "      <td>...</td>\n",
       "      <td>...</td>\n",
       "      <td>...</td>\n",
       "      <td>...</td>\n",
       "      <td>...</td>\n",
       "      <td>...</td>\n",
       "      <td>...</td>\n",
       "      <td>...</td>\n",
       "      <td>...</td>\n",
       "      <td>...</td>\n",
       "      <td>...</td>\n",
       "      <td>...</td>\n",
       "      <td>...</td>\n",
       "    </tr>\n",
       "    <tr>\n",
       "      <th>428926</th>\n",
       "      <td>428927</td>\n",
       "      <td>32751</td>\n",
       "      <td>299.925384</td>\n",
       "      <td>0.999751</td>\n",
       "      <td>0.000534</td>\n",
       "      <td>299.982478</td>\n",
       "      <td>0.999942</td>\n",
       "      <td>0.000673</td>\n",
       "      <td>-0.000855</td>\n",
       "      <td>0.002284</td>\n",
       "      <td>...</td>\n",
       "      <td>0.156987</td>\n",
       "      <td>-0.354330</td>\n",
       "      <td>-0.268756</td>\n",
       "      <td>0.152665</td>\n",
       "      <td>-0.373841</td>\n",
       "      <td>0.228860</td>\n",
       "      <td>0.202575</td>\n",
       "      <td>0.215003</td>\n",
       "      <td>0.121716</td>\n",
       "      <td>-0.040777</td>\n",
       "    </tr>\n",
       "    <tr>\n",
       "      <th>428927</th>\n",
       "      <td>428928</td>\n",
       "      <td>32753</td>\n",
       "      <td>300.440929</td>\n",
       "      <td>1.001470</td>\n",
       "      <td>0.000507</td>\n",
       "      <td>300.453773</td>\n",
       "      <td>1.001513</td>\n",
       "      <td>0.000567</td>\n",
       "      <td>0.001099</td>\n",
       "      <td>0.002217</td>\n",
       "      <td>...</td>\n",
       "      <td>0.145648</td>\n",
       "      <td>-0.015200</td>\n",
       "      <td>-0.168361</td>\n",
       "      <td>0.104826</td>\n",
       "      <td>0.024862</td>\n",
       "      <td>0.089448</td>\n",
       "      <td>-0.038945</td>\n",
       "      <td>0.110650</td>\n",
       "      <td>0.089973</td>\n",
       "      <td>-0.071930</td>\n",
       "    </tr>\n",
       "    <tr>\n",
       "      <th>428928</th>\n",
       "      <td>428929</td>\n",
       "      <td>32758</td>\n",
       "      <td>300.196802</td>\n",
       "      <td>1.000656</td>\n",
       "      <td>0.000319</td>\n",
       "      <td>300.175681</td>\n",
       "      <td>1.000586</td>\n",
       "      <td>0.000396</td>\n",
       "      <td>-0.000729</td>\n",
       "      <td>0.001386</td>\n",
       "      <td>...</td>\n",
       "      <td>0.054450</td>\n",
       "      <td>-0.160985</td>\n",
       "      <td>-0.292313</td>\n",
       "      <td>0.040895</td>\n",
       "      <td>-0.161483</td>\n",
       "      <td>0.139058</td>\n",
       "      <td>0.137216</td>\n",
       "      <td>0.047032</td>\n",
       "      <td>0.133540</td>\n",
       "      <td>0.062504</td>\n",
       "    </tr>\n",
       "    <tr>\n",
       "      <th>428929</th>\n",
       "      <td>428930</td>\n",
       "      <td>32763</td>\n",
       "      <td>300.535968</td>\n",
       "      <td>1.001787</td>\n",
       "      <td>0.000449</td>\n",
       "      <td>300.538093</td>\n",
       "      <td>1.001794</td>\n",
       "      <td>0.000494</td>\n",
       "      <td>0.002014</td>\n",
       "      <td>0.002783</td>\n",
       "      <td>...</td>\n",
       "      <td>0.273045</td>\n",
       "      <td>-0.242523</td>\n",
       "      <td>-0.257313</td>\n",
       "      <td>0.305342</td>\n",
       "      <td>0.073577</td>\n",
       "      <td>0.004705</td>\n",
       "      <td>0.174177</td>\n",
       "      <td>0.236224</td>\n",
       "      <td>0.149944</td>\n",
       "      <td>-0.267228</td>\n",
       "    </tr>\n",
       "    <tr>\n",
       "      <th>428930</th>\n",
       "      <td>428931</td>\n",
       "      <td>32767</td>\n",
       "      <td>300.077516</td>\n",
       "      <td>1.000258</td>\n",
       "      <td>0.000207</td>\n",
       "      <td>300.124773</td>\n",
       "      <td>1.000416</td>\n",
       "      <td>0.000287</td>\n",
       "      <td>-0.000317</td>\n",
       "      <td>0.001541</td>\n",
       "      <td>...</td>\n",
       "      <td>0.211285</td>\n",
       "      <td>-0.046338</td>\n",
       "      <td>-0.083500</td>\n",
       "      <td>0.115077</td>\n",
       "      <td>-0.263440</td>\n",
       "      <td>0.100143</td>\n",
       "      <td>0.104453</td>\n",
       "      <td>0.156602</td>\n",
       "      <td>0.112543</td>\n",
       "      <td>0.163151</td>\n",
       "    </tr>\n",
       "  </tbody>\n",
       "</table>\n",
       "<p>428931 rows × 61 columns</p>\n",
       "</div>"
      ],
      "text/plain": [
       "         index  time_id    wap1_sum  wap1_mean  wap1_std    wap2_sum  \\\n",
       "0            0        5  301.078967   1.003597  0.000851  301.053515   \n",
       "1            1       11  299.996183   0.999987  0.000156  299.994795   \n",
       "2            2       16  299.988131   0.999960  0.000444  300.032917   \n",
       "3            3       31  299.765819   0.999219  0.000846  299.650614   \n",
       "4            4       62  299.930817   0.999769  0.000238  299.905133   \n",
       "...        ...      ...         ...        ...       ...         ...   \n",
       "428926  428927    32751  299.925384   0.999751  0.000534  299.982478   \n",
       "428927  428928    32753  300.440929   1.001470  0.000507  300.453773   \n",
       "428928  428929    32758  300.196802   1.000656  0.000319  300.175681   \n",
       "428929  428930    32763  300.535968   1.001787  0.000449  300.538093   \n",
       "428930  428931    32767  300.077516   1.000258  0.000207  300.124773   \n",
       "\n",
       "        wap2_mean  wap2_std  log_return1_sum  log_return1_realized_volatility  \\\n",
       "0        1.003512  0.001014         0.002134                         0.003394   \n",
       "1        0.999983  0.000182         0.000264                         0.000699   \n",
       "2        1.000110  0.000470         0.000517                         0.001983   \n",
       "3        0.998835  0.000762        -0.001649                         0.001863   \n",
       "4        0.999684  0.000335        -0.000647                         0.001131   \n",
       "...           ...       ...              ...                              ...   \n",
       "428926   0.999942  0.000673        -0.000855                         0.002284   \n",
       "428927   1.001513  0.000567         0.001099                         0.002217   \n",
       "428928   1.000586  0.000396        -0.000729                         0.001386   \n",
       "428929   1.001794  0.000494         0.002014                         0.002783   \n",
       "428930   1.000416  0.000287        -0.000317                         0.001541   \n",
       "\n",
       "        ...        10        11        12        13        14        15  \\\n",
       "0       ...  0.233299 -0.204058 -0.150260  0.259856  0.089705  0.161742   \n",
       "1       ... -0.242039  0.098177 -0.031663  0.035412 -0.154435 -0.094839   \n",
       "2       ...  0.188573 -0.334327 -0.035679  0.115466 -0.243960  0.313850   \n",
       "3       ... -0.049514 -0.020515  0.027231  0.091227  0.038912  0.032656   \n",
       "4       ... -0.106804 -0.049446  0.069812 -0.074556 -0.079364  0.084584   \n",
       "...     ...       ...       ...       ...       ...       ...       ...   \n",
       "428926  ...  0.156987 -0.354330 -0.268756  0.152665 -0.373841  0.228860   \n",
       "428927  ...  0.145648 -0.015200 -0.168361  0.104826  0.024862  0.089448   \n",
       "428928  ...  0.054450 -0.160985 -0.292313  0.040895 -0.161483  0.139058   \n",
       "428929  ...  0.273045 -0.242523 -0.257313  0.305342  0.073577  0.004705   \n",
       "428930  ...  0.211285 -0.046338 -0.083500  0.115077 -0.263440  0.100143   \n",
       "\n",
       "              16        17        18        19  \n",
       "0       0.157481  0.161818  0.317646 -0.243916  \n",
       "1      -0.036259 -0.021471 -0.101952  0.222299  \n",
       "2       0.162906  0.240454  0.155647  0.201758  \n",
       "3       0.040256  0.089729  0.039902 -0.142195  \n",
       "4       0.024387 -0.017761  0.026403  0.020131  \n",
       "...          ...       ...       ...       ...  \n",
       "428926  0.202575  0.215003  0.121716 -0.040777  \n",
       "428927 -0.038945  0.110650  0.089973 -0.071930  \n",
       "428928  0.137216  0.047032  0.133540  0.062504  \n",
       "428929  0.174177  0.236224  0.149944 -0.267228  \n",
       "428930  0.104453  0.156602  0.112543  0.163151  \n",
       "\n",
       "[428931 rows x 61 columns]"
      ]
     },
     "execution_count": 27,
     "metadata": {},
     "output_type": "execute_result"
    }
   ],
   "source": [
    "embs_df = pd.DataFrame(all_embs)\n",
    "\n",
    "train_with_embs = pd.concat([train_df.reset_index(), embs_df], axis=1)\n",
    "\n",
    "train_with_embs"
   ]
  },
  {
   "cell_type": "markdown",
   "id": "refined-process",
   "metadata": {},
   "source": [
    "## Train 5m LGBM with embeddings\n"
   ]
  },
  {
   "cell_type": "code",
   "execution_count": 28,
   "id": "technical-drain",
   "metadata": {},
   "outputs": [
    {
     "name": "stdout",
     "output_type": "stream",
     "text": [
      "Training fold 1\n"
     ]
    },
    {
     "name": "stderr",
     "output_type": "stream",
     "text": [
      "/home/slex/programy/anaconda3/envs/fastai/lib/python3.8/site-packages/lightgbm/basic.py:1551: UserWarning: Using categorical_feature in Dataset.\n",
      "  warnings.warn('Using categorical_feature in Dataset.')\n",
      "/home/slex/programy/anaconda3/envs/fastai/lib/python3.8/site-packages/lightgbm/basic.py:1286: UserWarning: Overriding the parameters from Reference Dataset.\n",
      "  warnings.warn('Overriding the parameters from Reference Dataset.')\n",
      "/home/slex/programy/anaconda3/envs/fastai/lib/python3.8/site-packages/lightgbm/basic.py:1098: UserWarning: categorical_column in param dict is overridden.\n",
      "  warnings.warn('{} in param dict is overridden.'.format(cat_alias))\n"
     ]
    },
    {
     "name": "stdout",
     "output_type": "stream",
     "text": [
      "Training until validation scores don't improve for 25 rounds\n",
      "[100]\ttraining's rmse: 0.000324031\ttraining's RMSPE: 0.222238\tvalid_1's rmse: 0.000332081\tvalid_1's RMSPE: 0.227149\n",
      "[200]\ttraining's rmse: 0.00031552\ttraining's RMSPE: 0.216401\tvalid_1's rmse: 0.000327265\tvalid_1's RMSPE: 0.223854\n",
      "[300]\ttraining's rmse: 0.000310753\ttraining's RMSPE: 0.213132\tvalid_1's rmse: 0.000325976\tvalid_1's RMSPE: 0.222973\n",
      "Early stopping, best iteration is:\n",
      "[300]\ttraining's rmse: 0.000310753\ttraining's RMSPE: 0.213132\tvalid_1's rmse: 0.000325976\tvalid_1's RMSPE: 0.222973\n",
      "Training fold 2\n"
     ]
    },
    {
     "name": "stderr",
     "output_type": "stream",
     "text": [
      "/home/slex/programy/anaconda3/envs/fastai/lib/python3.8/site-packages/lightgbm/basic.py:1551: UserWarning: Using categorical_feature in Dataset.\n",
      "  warnings.warn('Using categorical_feature in Dataset.')\n",
      "/home/slex/programy/anaconda3/envs/fastai/lib/python3.8/site-packages/lightgbm/basic.py:1286: UserWarning: Overriding the parameters from Reference Dataset.\n",
      "  warnings.warn('Overriding the parameters from Reference Dataset.')\n",
      "/home/slex/programy/anaconda3/envs/fastai/lib/python3.8/site-packages/lightgbm/basic.py:1098: UserWarning: categorical_column in param dict is overridden.\n",
      "  warnings.warn('{} in param dict is overridden.'.format(cat_alias))\n"
     ]
    },
    {
     "name": "stdout",
     "output_type": "stream",
     "text": [
      "Training until validation scores don't improve for 25 rounds\n",
      "[100]\ttraining's rmse: 0.000322768\ttraining's RMSPE: 0.221765\tvalid_1's rmse: 0.000347521\tvalid_1's RMSPE: 0.236006\n",
      "[200]\ttraining's rmse: 0.000314802\ttraining's RMSPE: 0.216292\tvalid_1's rmse: 0.000342993\tvalid_1's RMSPE: 0.23293\n",
      "Early stopping, best iteration is:\n",
      "[256]\ttraining's rmse: 0.000312153\ttraining's RMSPE: 0.214472\tvalid_1's rmse: 0.000342132\tvalid_1's RMSPE: 0.232346\n",
      "Training fold 3\n"
     ]
    },
    {
     "name": "stderr",
     "output_type": "stream",
     "text": [
      "/home/slex/programy/anaconda3/envs/fastai/lib/python3.8/site-packages/lightgbm/basic.py:1551: UserWarning: Using categorical_feature in Dataset.\n",
      "  warnings.warn('Using categorical_feature in Dataset.')\n",
      "/home/slex/programy/anaconda3/envs/fastai/lib/python3.8/site-packages/lightgbm/basic.py:1286: UserWarning: Overriding the parameters from Reference Dataset.\n",
      "  warnings.warn('Overriding the parameters from Reference Dataset.')\n",
      "/home/slex/programy/anaconda3/envs/fastai/lib/python3.8/site-packages/lightgbm/basic.py:1098: UserWarning: categorical_column in param dict is overridden.\n",
      "  warnings.warn('{} in param dict is overridden.'.format(cat_alias))\n"
     ]
    },
    {
     "name": "stdout",
     "output_type": "stream",
     "text": [
      "Training until validation scores don't improve for 25 rounds\n",
      "[100]\ttraining's rmse: 0.000325286\ttraining's RMSPE: 0.221138\tvalid_1's rmse: 0.000347615\tvalid_1's RMSPE: 0.246003\n",
      "Early stopping, best iteration is:\n",
      "[103]\ttraining's rmse: 0.00032496\ttraining's RMSPE: 0.220916\tvalid_1's rmse: 0.00034736\tvalid_1's RMSPE: 0.245822\n",
      "Training fold 4\n"
     ]
    },
    {
     "name": "stderr",
     "output_type": "stream",
     "text": [
      "/home/slex/programy/anaconda3/envs/fastai/lib/python3.8/site-packages/lightgbm/basic.py:1551: UserWarning: Using categorical_feature in Dataset.\n",
      "  warnings.warn('Using categorical_feature in Dataset.')\n",
      "/home/slex/programy/anaconda3/envs/fastai/lib/python3.8/site-packages/lightgbm/basic.py:1286: UserWarning: Overriding the parameters from Reference Dataset.\n",
      "  warnings.warn('Overriding the parameters from Reference Dataset.')\n",
      "/home/slex/programy/anaconda3/envs/fastai/lib/python3.8/site-packages/lightgbm/basic.py:1098: UserWarning: categorical_column in param dict is overridden.\n",
      "  warnings.warn('{} in param dict is overridden.'.format(cat_alias))\n"
     ]
    },
    {
     "name": "stdout",
     "output_type": "stream",
     "text": [
      "Training until validation scores don't improve for 25 rounds\n",
      "[100]\ttraining's rmse: 0.000323893\ttraining's RMSPE: 0.222125\tvalid_1's rmse: 0.000343677\tvalid_1's RMSPE: 0.235159\n",
      "[200]\ttraining's rmse: 0.000315516\ttraining's RMSPE: 0.216381\tvalid_1's rmse: 0.000338029\tvalid_1's RMSPE: 0.231295\n",
      "[300]\ttraining's rmse: 0.000310725\ttraining's RMSPE: 0.213095\tvalid_1's rmse: 0.000334501\tvalid_1's RMSPE: 0.22888\n",
      "Early stopping, best iteration is:\n",
      "[347]\ttraining's rmse: 0.000308923\ttraining's RMSPE: 0.211859\tvalid_1's rmse: 0.00033413\tvalid_1's RMSPE: 0.228627\n",
      "Training fold 5\n"
     ]
    },
    {
     "name": "stderr",
     "output_type": "stream",
     "text": [
      "/home/slex/programy/anaconda3/envs/fastai/lib/python3.8/site-packages/lightgbm/basic.py:1551: UserWarning: Using categorical_feature in Dataset.\n",
      "  warnings.warn('Using categorical_feature in Dataset.')\n",
      "/home/slex/programy/anaconda3/envs/fastai/lib/python3.8/site-packages/lightgbm/basic.py:1286: UserWarning: Overriding the parameters from Reference Dataset.\n",
      "  warnings.warn('Overriding the parameters from Reference Dataset.')\n",
      "/home/slex/programy/anaconda3/envs/fastai/lib/python3.8/site-packages/lightgbm/basic.py:1098: UserWarning: categorical_column in param dict is overridden.\n",
      "  warnings.warn('{} in param dict is overridden.'.format(cat_alias))\n"
     ]
    },
    {
     "name": "stdout",
     "output_type": "stream",
     "text": [
      "Training until validation scores don't improve for 25 rounds\n",
      "[100]\ttraining's rmse: 0.000322635\ttraining's RMSPE: 0.222249\tvalid_1's rmse: 0.000336257\tvalid_1's RMSPE: 0.225914\n",
      "[200]\ttraining's rmse: 0.000314039\ttraining's RMSPE: 0.216327\tvalid_1's rmse: 0.000332355\tvalid_1's RMSPE: 0.223293\n",
      "[300]\ttraining's rmse: 0.000309389\ttraining's RMSPE: 0.213124\tvalid_1's rmse: 0.000330444\tvalid_1's RMSPE: 0.222009\n",
      "[400]\ttraining's rmse: 0.000306236\ttraining's RMSPE: 0.210952\tvalid_1's rmse: 0.000329441\tvalid_1's RMSPE: 0.221335\n",
      "[500]\ttraining's rmse: 0.000303719\ttraining's RMSPE: 0.209218\tvalid_1's rmse: 0.000328984\tvalid_1's RMSPE: 0.221028\n",
      "[600]\ttraining's rmse: 0.000301583\ttraining's RMSPE: 0.207747\tvalid_1's rmse: 0.000328692\tvalid_1's RMSPE: 0.220832\n",
      "[700]\ttraining's rmse: 0.000299705\ttraining's RMSPE: 0.206453\tvalid_1's rmse: 0.000328403\tvalid_1's RMSPE: 0.220638\n",
      "Early stopping, best iteration is:\n",
      "[710]\ttraining's rmse: 0.000299511\ttraining's RMSPE: 0.20632\tvalid_1's rmse: 0.000328358\tvalid_1's RMSPE: 0.220608\n",
      "Our out of folds RMSPE is 0.23024696636828546\n"
     ]
    }
   ],
   "source": [
    "_=train_models(train_with_embs)"
   ]
  },
  {
   "cell_type": "markdown",
   "id": "general-residence",
   "metadata": {},
   "source": [
    "## Baseline LGMB 10m"
   ]
  },
  {
   "cell_type": "code",
   "execution_count": 29,
   "id": "received-extreme",
   "metadata": {},
   "outputs": [],
   "source": [
    "train_10m = pd.read_csv('train_with_features_NO_ST.csv')"
   ]
  },
  {
   "cell_type": "code",
   "execution_count": 30,
   "id": "intense-domain",
   "metadata": {},
   "outputs": [],
   "source": [
    "from optiver_features import get_time_stock\n",
    "train_10m_time_stock = get_time_stock(train_10m)"
   ]
  },
  {
   "cell_type": "code",
   "execution_count": 31,
   "id": "satisfactory-angel",
   "metadata": {},
   "outputs": [
    {
     "name": "stdout",
     "output_type": "stream",
     "text": [
      "Training fold 1\n"
     ]
    },
    {
     "name": "stderr",
     "output_type": "stream",
     "text": [
      "/home/slex/programy/anaconda3/envs/fastai/lib/python3.8/site-packages/lightgbm/basic.py:1551: UserWarning: Using categorical_feature in Dataset.\n",
      "  warnings.warn('Using categorical_feature in Dataset.')\n",
      "/home/slex/programy/anaconda3/envs/fastai/lib/python3.8/site-packages/lightgbm/basic.py:1286: UserWarning: Overriding the parameters from Reference Dataset.\n",
      "  warnings.warn('Overriding the parameters from Reference Dataset.')\n",
      "/home/slex/programy/anaconda3/envs/fastai/lib/python3.8/site-packages/lightgbm/basic.py:1098: UserWarning: categorical_column in param dict is overridden.\n",
      "  warnings.warn('{} in param dict is overridden.'.format(cat_alias))\n"
     ]
    },
    {
     "name": "stdout",
     "output_type": "stream",
     "text": [
      "Training until validation scores don't improve for 25 rounds\n",
      "[100]\ttraining's rmse: 0.000472369\ttraining's RMSPE: 0.218697\tvalid_1's rmse: 0.000483167\tvalid_1's RMSPE: 0.223294\n",
      "[200]\ttraining's rmse: 0.000456434\ttraining's RMSPE: 0.211319\tvalid_1's rmse: 0.000471963\tvalid_1's RMSPE: 0.218117\n",
      "[300]\ttraining's rmse: 0.000444947\ttraining's RMSPE: 0.206001\tvalid_1's rmse: 0.000463557\tvalid_1's RMSPE: 0.214231\n",
      "[400]\ttraining's rmse: 0.00043609\ttraining's RMSPE: 0.201901\tvalid_1's rmse: 0.000457713\tvalid_1's RMSPE: 0.211531\n",
      "[500]\ttraining's rmse: 0.000428288\ttraining's RMSPE: 0.198288\tvalid_1's rmse: 0.000452597\tvalid_1's RMSPE: 0.209167\n",
      "[600]\ttraining's rmse: 0.000422108\ttraining's RMSPE: 0.195427\tvalid_1's rmse: 0.000449117\tvalid_1's RMSPE: 0.207558\n",
      "[700]\ttraining's rmse: 0.000416375\ttraining's RMSPE: 0.192773\tvalid_1's rmse: 0.000445402\tvalid_1's RMSPE: 0.205841\n",
      "[800]\ttraining's rmse: 0.000410935\ttraining's RMSPE: 0.190254\tvalid_1's rmse: 0.00044216\tvalid_1's RMSPE: 0.204343\n",
      "[900]\ttraining's rmse: 0.000406604\ttraining's RMSPE: 0.188249\tvalid_1's rmse: 0.000440674\tvalid_1's RMSPE: 0.203656\n",
      "[1000]\ttraining's rmse: 0.000402775\ttraining's RMSPE: 0.186476\tvalid_1's rmse: 0.00043859\tvalid_1's RMSPE: 0.202693\n",
      "[1100]\ttraining's rmse: 0.000399156\ttraining's RMSPE: 0.184801\tvalid_1's rmse: 0.000437331\tvalid_1's RMSPE: 0.202111\n",
      "[1200]\ttraining's rmse: 0.000395929\ttraining's RMSPE: 0.183307\tvalid_1's rmse: 0.000436158\tvalid_1's RMSPE: 0.201569\n",
      "[1300]\ttraining's rmse: 0.000392588\ttraining's RMSPE: 0.18176\tvalid_1's rmse: 0.000434932\tvalid_1's RMSPE: 0.201003\n",
      "[1400]\ttraining's rmse: 0.000389625\ttraining's RMSPE: 0.180388\tvalid_1's rmse: 0.000433628\tvalid_1's RMSPE: 0.2004\n",
      "Early stopping, best iteration is:\n",
      "[1434]\ttraining's rmse: 0.000388734\ttraining's RMSPE: 0.179976\tvalid_1's rmse: 0.000433368\tvalid_1's RMSPE: 0.20028\n",
      "Training fold 2\n"
     ]
    },
    {
     "name": "stderr",
     "output_type": "stream",
     "text": [
      "/home/slex/programy/anaconda3/envs/fastai/lib/python3.8/site-packages/lightgbm/basic.py:1551: UserWarning: Using categorical_feature in Dataset.\n",
      "  warnings.warn('Using categorical_feature in Dataset.')\n",
      "/home/slex/programy/anaconda3/envs/fastai/lib/python3.8/site-packages/lightgbm/basic.py:1286: UserWarning: Overriding the parameters from Reference Dataset.\n",
      "  warnings.warn('Overriding the parameters from Reference Dataset.')\n",
      "/home/slex/programy/anaconda3/envs/fastai/lib/python3.8/site-packages/lightgbm/basic.py:1098: UserWarning: categorical_column in param dict is overridden.\n",
      "  warnings.warn('{} in param dict is overridden.'.format(cat_alias))\n"
     ]
    },
    {
     "name": "stdout",
     "output_type": "stream",
     "text": [
      "Training until validation scores don't improve for 25 rounds\n",
      "[100]\ttraining's rmse: 0.00047405\ttraining's RMSPE: 0.219247\tvalid_1's rmse: 0.000493132\tvalid_1's RMSPE: 0.228847\n",
      "[200]\ttraining's rmse: 0.000457643\ttraining's RMSPE: 0.211659\tvalid_1's rmse: 0.000482029\tvalid_1's RMSPE: 0.223694\n",
      "[300]\ttraining's rmse: 0.000446028\ttraining's RMSPE: 0.206287\tvalid_1's rmse: 0.000474004\tvalid_1's RMSPE: 0.21997\n",
      "[400]\ttraining's rmse: 0.000437256\ttraining's RMSPE: 0.20223\tvalid_1's rmse: 0.000468424\tvalid_1's RMSPE: 0.217381\n",
      "[500]\ttraining's rmse: 0.000429788\ttraining's RMSPE: 0.198776\tvalid_1's rmse: 0.000463568\tvalid_1's RMSPE: 0.215127\n",
      "Early stopping, best iteration is:\n",
      "[546]\ttraining's rmse: 0.000426411\ttraining's RMSPE: 0.197214\tvalid_1's rmse: 0.0004622\tvalid_1's RMSPE: 0.214492\n",
      "Training fold 3\n"
     ]
    },
    {
     "name": "stderr",
     "output_type": "stream",
     "text": [
      "/home/slex/programy/anaconda3/envs/fastai/lib/python3.8/site-packages/lightgbm/basic.py:1551: UserWarning: Using categorical_feature in Dataset.\n",
      "  warnings.warn('Using categorical_feature in Dataset.')\n",
      "/home/slex/programy/anaconda3/envs/fastai/lib/python3.8/site-packages/lightgbm/basic.py:1286: UserWarning: Overriding the parameters from Reference Dataset.\n",
      "  warnings.warn('Overriding the parameters from Reference Dataset.')\n",
      "/home/slex/programy/anaconda3/envs/fastai/lib/python3.8/site-packages/lightgbm/basic.py:1098: UserWarning: categorical_column in param dict is overridden.\n",
      "  warnings.warn('{} in param dict is overridden.'.format(cat_alias))\n"
     ]
    },
    {
     "name": "stdout",
     "output_type": "stream",
     "text": [
      "Training until validation scores don't improve for 25 rounds\n",
      "[100]\ttraining's rmse: 0.000471619\ttraining's RMSPE: 0.21837\tvalid_1's rmse: 0.000478397\tvalid_1's RMSPE: 0.221005\n",
      "[200]\ttraining's rmse: 0.000456622\ttraining's RMSPE: 0.211427\tvalid_1's rmse: 0.000466537\tvalid_1's RMSPE: 0.215526\n",
      "[300]\ttraining's rmse: 0.000445607\ttraining's RMSPE: 0.206327\tvalid_1's rmse: 0.000458002\tvalid_1's RMSPE: 0.211583\n",
      "[400]\ttraining's rmse: 0.000436655\ttraining's RMSPE: 0.202182\tvalid_1's rmse: 0.000451147\tvalid_1's RMSPE: 0.208416\n",
      "[500]\ttraining's rmse: 0.000429267\ttraining's RMSPE: 0.198761\tvalid_1's rmse: 0.000445774\tvalid_1's RMSPE: 0.205934\n",
      "[600]\ttraining's rmse: 0.000422695\ttraining's RMSPE: 0.195718\tvalid_1's rmse: 0.000441604\tvalid_1's RMSPE: 0.204008\n",
      "[700]\ttraining's rmse: 0.00041678\ttraining's RMSPE: 0.192979\tvalid_1's rmse: 0.000438011\tvalid_1's RMSPE: 0.202348\n",
      "[800]\ttraining's rmse: 0.000411842\ttraining's RMSPE: 0.190692\tvalid_1's rmse: 0.000434914\tvalid_1's RMSPE: 0.200917\n",
      "[900]\ttraining's rmse: 0.000407066\ttraining's RMSPE: 0.188481\tvalid_1's rmse: 0.000432024\tvalid_1's RMSPE: 0.199582\n",
      "[1000]\ttraining's rmse: 0.000403197\ttraining's RMSPE: 0.18669\tvalid_1's rmse: 0.000430291\tvalid_1's RMSPE: 0.198781\n",
      "[1100]\ttraining's rmse: 0.000399825\ttraining's RMSPE: 0.185128\tvalid_1's rmse: 0.000428867\tvalid_1's RMSPE: 0.198124\n",
      "[1200]\ttraining's rmse: 0.000396409\ttraining's RMSPE: 0.183547\tvalid_1's rmse: 0.00042753\tvalid_1's RMSPE: 0.197506\n",
      "[1300]\ttraining's rmse: 0.000393096\ttraining's RMSPE: 0.182013\tvalid_1's rmse: 0.000426216\tvalid_1's RMSPE: 0.196899\n",
      "[1400]\ttraining's rmse: 0.000390562\ttraining's RMSPE: 0.180839\tvalid_1's rmse: 0.000425153\tvalid_1's RMSPE: 0.196408\n",
      "[1500]\ttraining's rmse: 0.000387798\ttraining's RMSPE: 0.17956\tvalid_1's rmse: 0.000424112\tvalid_1's RMSPE: 0.195927\n",
      "[1600]\ttraining's rmse: 0.000385337\ttraining's RMSPE: 0.17842\tvalid_1's rmse: 0.000423369\tvalid_1's RMSPE: 0.195584\n",
      "[1700]\ttraining's rmse: 0.000382764\ttraining's RMSPE: 0.177229\tvalid_1's rmse: 0.000422435\tvalid_1's RMSPE: 0.195152\n",
      "[1800]\ttraining's rmse: 0.000380333\ttraining's RMSPE: 0.176103\tvalid_1's rmse: 0.00042159\tvalid_1's RMSPE: 0.194762\n",
      "[1900]\ttraining's rmse: 0.000377864\ttraining's RMSPE: 0.17496\tvalid_1's rmse: 0.000420888\tvalid_1's RMSPE: 0.194437\n",
      "[2000]\ttraining's rmse: 0.000375441\ttraining's RMSPE: 0.173838\tvalid_1's rmse: 0.000419957\tvalid_1's RMSPE: 0.194008\n",
      "Early stopping, best iteration is:\n",
      "[2046]\ttraining's rmse: 0.000374383\ttraining's RMSPE: 0.173348\tvalid_1's rmse: 0.000419631\tvalid_1's RMSPE: 0.193857\n",
      "Training fold 4\n"
     ]
    },
    {
     "name": "stderr",
     "output_type": "stream",
     "text": [
      "/home/slex/programy/anaconda3/envs/fastai/lib/python3.8/site-packages/lightgbm/basic.py:1551: UserWarning: Using categorical_feature in Dataset.\n",
      "  warnings.warn('Using categorical_feature in Dataset.')\n",
      "/home/slex/programy/anaconda3/envs/fastai/lib/python3.8/site-packages/lightgbm/basic.py:1286: UserWarning: Overriding the parameters from Reference Dataset.\n",
      "  warnings.warn('Overriding the parameters from Reference Dataset.')\n",
      "/home/slex/programy/anaconda3/envs/fastai/lib/python3.8/site-packages/lightgbm/basic.py:1098: UserWarning: categorical_column in param dict is overridden.\n",
      "  warnings.warn('{} in param dict is overridden.'.format(cat_alias))\n"
     ]
    },
    {
     "name": "stdout",
     "output_type": "stream",
     "text": [
      "Training until validation scores don't improve for 25 rounds\n",
      "[100]\ttraining's rmse: 0.000473051\ttraining's RMSPE: 0.218659\tvalid_1's rmse: 0.000479689\tvalid_1's RMSPE: 0.223117\n",
      "[200]\ttraining's rmse: 0.000457686\ttraining's RMSPE: 0.211557\tvalid_1's rmse: 0.000469326\tvalid_1's RMSPE: 0.218297\n",
      "[300]\ttraining's rmse: 0.000445643\ttraining's RMSPE: 0.20599\tvalid_1's rmse: 0.000460368\tvalid_1's RMSPE: 0.214131\n",
      "[400]\ttraining's rmse: 0.000436376\ttraining's RMSPE: 0.201707\tvalid_1's rmse: 0.000453278\tvalid_1's RMSPE: 0.210833\n",
      "[500]\ttraining's rmse: 0.000428336\ttraining's RMSPE: 0.197991\tvalid_1's rmse: 0.0004482\tvalid_1's RMSPE: 0.208471\n",
      "[600]\ttraining's rmse: 0.000422644\ttraining's RMSPE: 0.19536\tvalid_1's rmse: 0.000446044\tvalid_1's RMSPE: 0.207468\n",
      "[700]\ttraining's rmse: 0.000417281\ttraining's RMSPE: 0.192881\tvalid_1's rmse: 0.000443371\tvalid_1's RMSPE: 0.206225\n",
      "[800]\ttraining's rmse: 0.00041215\ttraining's RMSPE: 0.190509\tvalid_1's rmse: 0.000440851\tvalid_1's RMSPE: 0.205053\n",
      "[900]\ttraining's rmse: 0.000407811\ttraining's RMSPE: 0.188503\tvalid_1's rmse: 0.000438562\tvalid_1's RMSPE: 0.203988\n",
      "[1000]\ttraining's rmse: 0.000403705\ttraining's RMSPE: 0.186605\tvalid_1's rmse: 0.000437039\tvalid_1's RMSPE: 0.20328\n",
      "[1100]\ttraining's rmse: 0.000399722\ttraining's RMSPE: 0.184764\tvalid_1's rmse: 0.000435039\tvalid_1's RMSPE: 0.20235\n",
      "[1200]\ttraining's rmse: 0.000395955\ttraining's RMSPE: 0.183023\tvalid_1's rmse: 0.000433577\tvalid_1's RMSPE: 0.201669\n",
      "[1300]\ttraining's rmse: 0.000392768\ttraining's RMSPE: 0.18155\tvalid_1's rmse: 0.000432426\tvalid_1's RMSPE: 0.201134\n",
      "[1400]\ttraining's rmse: 0.00038989\ttraining's RMSPE: 0.180219\tvalid_1's rmse: 0.000431106\tvalid_1's RMSPE: 0.20052\n",
      "[1500]\ttraining's rmse: 0.000387105\ttraining's RMSPE: 0.178932\tvalid_1's rmse: 0.000430259\tvalid_1's RMSPE: 0.200126\n",
      "Early stopping, best iteration is:\n",
      "[1534]\ttraining's rmse: 0.000386179\ttraining's RMSPE: 0.178504\tvalid_1's rmse: 0.000429901\tvalid_1's RMSPE: 0.199959\n",
      "Training fold 5\n"
     ]
    },
    {
     "name": "stderr",
     "output_type": "stream",
     "text": [
      "/home/slex/programy/anaconda3/envs/fastai/lib/python3.8/site-packages/lightgbm/basic.py:1551: UserWarning: Using categorical_feature in Dataset.\n",
      "  warnings.warn('Using categorical_feature in Dataset.')\n",
      "/home/slex/programy/anaconda3/envs/fastai/lib/python3.8/site-packages/lightgbm/basic.py:1286: UserWarning: Overriding the parameters from Reference Dataset.\n",
      "  warnings.warn('Overriding the parameters from Reference Dataset.')\n",
      "/home/slex/programy/anaconda3/envs/fastai/lib/python3.8/site-packages/lightgbm/basic.py:1098: UserWarning: categorical_column in param dict is overridden.\n",
      "  warnings.warn('{} in param dict is overridden.'.format(cat_alias))\n"
     ]
    },
    {
     "name": "stdout",
     "output_type": "stream",
     "text": [
      "Training until validation scores don't improve for 25 rounds\n",
      "[100]\ttraining's rmse: 0.000471791\ttraining's RMSPE: 0.218595\tvalid_1's rmse: 0.000485867\tvalid_1's RMSPE: 0.223856\n",
      "[200]\ttraining's rmse: 0.000456254\ttraining's RMSPE: 0.211397\tvalid_1's rmse: 0.000472728\tvalid_1's RMSPE: 0.217803\n",
      "[300]\ttraining's rmse: 0.000444348\ttraining's RMSPE: 0.20588\tvalid_1's rmse: 0.000463477\tvalid_1's RMSPE: 0.213541\n",
      "[400]\ttraining's rmse: 0.00043573\ttraining's RMSPE: 0.201887\tvalid_1's rmse: 0.000457275\tvalid_1's RMSPE: 0.210683\n",
      "[500]\ttraining's rmse: 0.000428962\ttraining's RMSPE: 0.198751\tvalid_1's rmse: 0.000453733\tvalid_1's RMSPE: 0.209051\n",
      "[600]\ttraining's rmse: 0.000422235\ttraining's RMSPE: 0.195634\tvalid_1's rmse: 0.000448767\tvalid_1's RMSPE: 0.206763\n",
      "[700]\ttraining's rmse: 0.000416327\ttraining's RMSPE: 0.192897\tvalid_1's rmse: 0.000445273\tvalid_1's RMSPE: 0.205153\n",
      "[800]\ttraining's rmse: 0.000411091\ttraining's RMSPE: 0.190471\tvalid_1's rmse: 0.000442164\tvalid_1's RMSPE: 0.203721\n",
      "[900]\ttraining's rmse: 0.000406935\ttraining's RMSPE: 0.188545\tvalid_1's rmse: 0.000440121\tvalid_1's RMSPE: 0.20278\n",
      "[1000]\ttraining's rmse: 0.000403094\ttraining's RMSPE: 0.186766\tvalid_1's rmse: 0.000438835\tvalid_1's RMSPE: 0.202187\n",
      "[1100]\ttraining's rmse: 0.000399209\ttraining's RMSPE: 0.184966\tvalid_1's rmse: 0.000437098\tvalid_1's RMSPE: 0.201387\n",
      "[1200]\ttraining's rmse: 0.000395919\ttraining's RMSPE: 0.183441\tvalid_1's rmse: 0.000435545\tvalid_1's RMSPE: 0.200671\n",
      "[1300]\ttraining's rmse: 0.000392668\ttraining's RMSPE: 0.181935\tvalid_1's rmse: 0.000434369\tvalid_1's RMSPE: 0.200129\n",
      "[1400]\ttraining's rmse: 0.000389613\ttraining's RMSPE: 0.180519\tvalid_1's rmse: 0.000433492\tvalid_1's RMSPE: 0.199725\n",
      "Early stopping, best iteration is:\n",
      "[1429]\ttraining's rmse: 0.00038874\ttraining's RMSPE: 0.180115\tvalid_1's rmse: 0.000432973\tvalid_1's RMSPE: 0.199486\n",
      "Our out of folds RMSPE is 0.20173154586261702\n"
     ]
    }
   ],
   "source": [
    "_=train_models(train_10m_time_stock)"
   ]
  },
  {
   "cell_type": "markdown",
   "id": "alien-student",
   "metadata": {},
   "source": [
    "## LGBM 10m with trained embeddings"
   ]
  },
  {
   "cell_type": "code",
   "execution_count": 32,
   "id": "hispanic-minimum",
   "metadata": {},
   "outputs": [],
   "source": [
    "train_10m = pd.read_csv('train_with_features_NO_ST.csv')"
   ]
  },
  {
   "cell_type": "code",
   "execution_count": 33,
   "id": "moving-string",
   "metadata": {},
   "outputs": [],
   "source": [
    "all_embs = []\n",
    "for _, row in (train_10m[['stock_id', 'time_id']].iterrows()):\n",
    "    emb1 = stock_id_embs[row.stock_id]\n",
    "    emb2 = time_id_embs[row.time_id]\n",
    "    all_embs.append(emb1+emb2)"
   ]
  },
  {
   "cell_type": "code",
   "execution_count": 34,
   "id": "japanese-entertainment",
   "metadata": {},
   "outputs": [],
   "source": [
    "embs_df = pd.DataFrame(all_embs)\n",
    "\n",
    "train_10m_with_embs = pd.concat([train_10m.reset_index(), embs_df], axis=1)"
   ]
  },
  {
   "cell_type": "code",
   "execution_count": 35,
   "id": "australian-wallace",
   "metadata": {},
   "outputs": [],
   "source": [
    "train_10m_with_embs = train_10m_with_embs.drop('index', axis=1)"
   ]
  },
  {
   "cell_type": "code",
   "execution_count": 36,
   "id": "retained-iraqi",
   "metadata": {},
   "outputs": [],
   "source": [
    "train_10m_with_embs.to_csv('train_10m_with_embs.csv', index=False)"
   ]
  },
  {
   "cell_type": "code",
   "execution_count": 37,
   "id": "agreed-advice",
   "metadata": {},
   "outputs": [
    {
     "name": "stdout",
     "output_type": "stream",
     "text": [
      "Training fold 1\n"
     ]
    },
    {
     "name": "stderr",
     "output_type": "stream",
     "text": [
      "/home/slex/programy/anaconda3/envs/fastai/lib/python3.8/site-packages/lightgbm/basic.py:1551: UserWarning: Using categorical_feature in Dataset.\n",
      "  warnings.warn('Using categorical_feature in Dataset.')\n",
      "/home/slex/programy/anaconda3/envs/fastai/lib/python3.8/site-packages/lightgbm/basic.py:1286: UserWarning: Overriding the parameters from Reference Dataset.\n",
      "  warnings.warn('Overriding the parameters from Reference Dataset.')\n",
      "/home/slex/programy/anaconda3/envs/fastai/lib/python3.8/site-packages/lightgbm/basic.py:1098: UserWarning: categorical_column in param dict is overridden.\n",
      "  warnings.warn('{} in param dict is overridden.'.format(cat_alias))\n"
     ]
    },
    {
     "name": "stdout",
     "output_type": "stream",
     "text": [
      "Training until validation scores don't improve for 25 rounds\n",
      "[100]\ttraining's rmse: 0.00047901\ttraining's RMSPE: 0.221771\tvalid_1's rmse: 0.000489841\tvalid_1's RMSPE: 0.226379\n",
      "[200]\ttraining's rmse: 0.000467092\ttraining's RMSPE: 0.216254\tvalid_1's rmse: 0.000480855\tvalid_1's RMSPE: 0.222226\n",
      "[300]\ttraining's rmse: 0.000458438\ttraining's RMSPE: 0.212247\tvalid_1's rmse: 0.000474623\tvalid_1's RMSPE: 0.219346\n",
      "[400]\ttraining's rmse: 0.000451401\ttraining's RMSPE: 0.208989\tvalid_1's rmse: 0.000470069\tvalid_1's RMSPE: 0.217241\n",
      "[500]\ttraining's rmse: 0.000445753\ttraining's RMSPE: 0.206374\tvalid_1's rmse: 0.000466887\tvalid_1's RMSPE: 0.215771\n",
      "[600]\ttraining's rmse: 0.000440729\ttraining's RMSPE: 0.204048\tvalid_1's rmse: 0.000464151\tvalid_1's RMSPE: 0.214506\n",
      "[700]\ttraining's rmse: 0.000436425\ttraining's RMSPE: 0.202055\tvalid_1's rmse: 0.000461894\tvalid_1's RMSPE: 0.213463\n",
      "[800]\ttraining's rmse: 0.000431708\ttraining's RMSPE: 0.199872\tvalid_1's rmse: 0.000459095\tvalid_1's RMSPE: 0.21217\n",
      "[900]\ttraining's rmse: 0.000427566\ttraining's RMSPE: 0.197954\tvalid_1's rmse: 0.000456911\tvalid_1's RMSPE: 0.21116\n",
      "[1000]\ttraining's rmse: 0.000423849\ttraining's RMSPE: 0.196233\tvalid_1's rmse: 0.000455431\tvalid_1's RMSPE: 0.210476\n",
      "[1100]\ttraining's rmse: 0.000420471\ttraining's RMSPE: 0.194669\tvalid_1's rmse: 0.000454092\tvalid_1's RMSPE: 0.209857\n",
      "[1200]\ttraining's rmse: 0.000417223\ttraining's RMSPE: 0.193165\tvalid_1's rmse: 0.000452731\tvalid_1's RMSPE: 0.209229\n",
      "[1300]\ttraining's rmse: 0.000413869\ttraining's RMSPE: 0.191613\tvalid_1's rmse: 0.000451382\tvalid_1's RMSPE: 0.208605\n",
      "[1400]\ttraining's rmse: 0.000411221\ttraining's RMSPE: 0.190387\tvalid_1's rmse: 0.000450521\tvalid_1's RMSPE: 0.208207\n",
      "[1500]\ttraining's rmse: 0.000408346\ttraining's RMSPE: 0.189056\tvalid_1's rmse: 0.00044948\tvalid_1's RMSPE: 0.207726\n",
      "[1600]\ttraining's rmse: 0.000405492\ttraining's RMSPE: 0.187734\tvalid_1's rmse: 0.000448378\tvalid_1's RMSPE: 0.207217\n",
      "Early stopping, best iteration is:\n",
      "[1631]\ttraining's rmse: 0.000404754\ttraining's RMSPE: 0.187393\tvalid_1's rmse: 0.00044813\tvalid_1's RMSPE: 0.207102\n",
      "Training fold 2\n"
     ]
    },
    {
     "name": "stderr",
     "output_type": "stream",
     "text": [
      "/home/slex/programy/anaconda3/envs/fastai/lib/python3.8/site-packages/lightgbm/basic.py:1551: UserWarning: Using categorical_feature in Dataset.\n",
      "  warnings.warn('Using categorical_feature in Dataset.')\n",
      "/home/slex/programy/anaconda3/envs/fastai/lib/python3.8/site-packages/lightgbm/basic.py:1286: UserWarning: Overriding the parameters from Reference Dataset.\n",
      "  warnings.warn('Overriding the parameters from Reference Dataset.')\n",
      "/home/slex/programy/anaconda3/envs/fastai/lib/python3.8/site-packages/lightgbm/basic.py:1098: UserWarning: categorical_column in param dict is overridden.\n",
      "  warnings.warn('{} in param dict is overridden.'.format(cat_alias))\n"
     ]
    },
    {
     "name": "stdout",
     "output_type": "stream",
     "text": [
      "Training until validation scores don't improve for 25 rounds\n",
      "[100]\ttraining's rmse: 0.000480762\ttraining's RMSPE: 0.222351\tvalid_1's rmse: 0.00050041\tvalid_1's RMSPE: 0.232225\n",
      "[200]\ttraining's rmse: 0.000468734\ttraining's RMSPE: 0.216789\tvalid_1's rmse: 0.000493312\tvalid_1's RMSPE: 0.228931\n",
      "[300]\ttraining's rmse: 0.000459816\ttraining's RMSPE: 0.212664\tvalid_1's rmse: 0.000490282\tvalid_1's RMSPE: 0.227524\n",
      "Early stopping, best iteration is:\n",
      "[306]\ttraining's rmse: 0.000459302\ttraining's RMSPE: 0.212426\tvalid_1's rmse: 0.000489911\tvalid_1's RMSPE: 0.227352\n",
      "Training fold 3\n"
     ]
    },
    {
     "name": "stderr",
     "output_type": "stream",
     "text": [
      "/home/slex/programy/anaconda3/envs/fastai/lib/python3.8/site-packages/lightgbm/basic.py:1551: UserWarning: Using categorical_feature in Dataset.\n",
      "  warnings.warn('Using categorical_feature in Dataset.')\n",
      "/home/slex/programy/anaconda3/envs/fastai/lib/python3.8/site-packages/lightgbm/basic.py:1286: UserWarning: Overriding the parameters from Reference Dataset.\n",
      "  warnings.warn('Overriding the parameters from Reference Dataset.')\n",
      "/home/slex/programy/anaconda3/envs/fastai/lib/python3.8/site-packages/lightgbm/basic.py:1098: UserWarning: categorical_column in param dict is overridden.\n",
      "  warnings.warn('{} in param dict is overridden.'.format(cat_alias))\n"
     ]
    },
    {
     "name": "stdout",
     "output_type": "stream",
     "text": [
      "Training until validation scores don't improve for 25 rounds\n",
      "[100]\ttraining's rmse: 0.000478773\ttraining's RMSPE: 0.221683\tvalid_1's rmse: 0.000486042\tvalid_1's RMSPE: 0.224537\n",
      "[200]\ttraining's rmse: 0.000467412\ttraining's RMSPE: 0.216422\tvalid_1's rmse: 0.000478249\tvalid_1's RMSPE: 0.220936\n",
      "[300]\ttraining's rmse: 0.000459035\ttraining's RMSPE: 0.212544\tvalid_1's rmse: 0.000473034\tvalid_1's RMSPE: 0.218527\n",
      "[400]\ttraining's rmse: 0.0004524\ttraining's RMSPE: 0.209472\tvalid_1's rmse: 0.000469162\tvalid_1's RMSPE: 0.216738\n",
      "[500]\ttraining's rmse: 0.00044625\ttraining's RMSPE: 0.206624\tvalid_1's rmse: 0.000465329\tvalid_1's RMSPE: 0.214968\n",
      "[600]\ttraining's rmse: 0.00044085\ttraining's RMSPE: 0.204124\tvalid_1's rmse: 0.000462228\tvalid_1's RMSPE: 0.213535\n",
      "[700]\ttraining's rmse: 0.000436317\ttraining's RMSPE: 0.202025\tvalid_1's rmse: 0.000459871\tvalid_1's RMSPE: 0.212446\n",
      "[800]\ttraining's rmse: 0.000432101\ttraining's RMSPE: 0.200073\tvalid_1's rmse: 0.000457502\tvalid_1's RMSPE: 0.211352\n",
      "[900]\ttraining's rmse: 0.000427855\ttraining's RMSPE: 0.198107\tvalid_1's rmse: 0.000455185\tvalid_1's RMSPE: 0.210282\n",
      "[1000]\ttraining's rmse: 0.000423885\ttraining's RMSPE: 0.196269\tvalid_1's rmse: 0.000453426\tvalid_1's RMSPE: 0.209469\n",
      "[1100]\ttraining's rmse: 0.000420801\ttraining's RMSPE: 0.194841\tvalid_1's rmse: 0.000452368\tvalid_1's RMSPE: 0.20898\n",
      "[1200]\ttraining's rmse: 0.000417608\ttraining's RMSPE: 0.193362\tvalid_1's rmse: 0.000451021\tvalid_1's RMSPE: 0.208358\n",
      "[1300]\ttraining's rmse: 0.000414721\ttraining's RMSPE: 0.192026\tvalid_1's rmse: 0.000449959\tvalid_1's RMSPE: 0.207867\n",
      "[1400]\ttraining's rmse: 0.000411807\ttraining's RMSPE: 0.190676\tvalid_1's rmse: 0.000448825\tvalid_1's RMSPE: 0.207343\n",
      "[1500]\ttraining's rmse: 0.000409184\ttraining's RMSPE: 0.189462\tvalid_1's rmse: 0.000447742\tvalid_1's RMSPE: 0.206843\n",
      "[1600]\ttraining's rmse: 0.000406396\ttraining's RMSPE: 0.188171\tvalid_1's rmse: 0.000446775\tvalid_1's RMSPE: 0.206396\n",
      "[1700]\ttraining's rmse: 0.000404103\ttraining's RMSPE: 0.187109\tvalid_1's rmse: 0.000446147\tvalid_1's RMSPE: 0.206106\n",
      "[1800]\ttraining's rmse: 0.000401794\ttraining's RMSPE: 0.18604\tvalid_1's rmse: 0.000445413\tvalid_1's RMSPE: 0.205767\n",
      "[1900]\ttraining's rmse: 0.000399453\ttraining's RMSPE: 0.184956\tvalid_1's rmse: 0.000444786\tvalid_1's RMSPE: 0.205478\n",
      "[2000]\ttraining's rmse: 0.000397178\ttraining's RMSPE: 0.183903\tvalid_1's rmse: 0.000443882\tvalid_1's RMSPE: 0.20506\n",
      "[2100]\ttraining's rmse: 0.000395072\ttraining's RMSPE: 0.182928\tvalid_1's rmse: 0.000443387\tvalid_1's RMSPE: 0.204831\n",
      "Early stopping, best iteration is:\n",
      "[2086]\ttraining's rmse: 0.000395367\ttraining's RMSPE: 0.183064\tvalid_1's rmse: 0.000443364\tvalid_1's RMSPE: 0.204821\n",
      "Training fold 4\n"
     ]
    },
    {
     "name": "stderr",
     "output_type": "stream",
     "text": [
      "/home/slex/programy/anaconda3/envs/fastai/lib/python3.8/site-packages/lightgbm/basic.py:1551: UserWarning: Using categorical_feature in Dataset.\n",
      "  warnings.warn('Using categorical_feature in Dataset.')\n",
      "/home/slex/programy/anaconda3/envs/fastai/lib/python3.8/site-packages/lightgbm/basic.py:1286: UserWarning: Overriding the parameters from Reference Dataset.\n",
      "  warnings.warn('Overriding the parameters from Reference Dataset.')\n",
      "/home/slex/programy/anaconda3/envs/fastai/lib/python3.8/site-packages/lightgbm/basic.py:1098: UserWarning: categorical_column in param dict is overridden.\n",
      "  warnings.warn('{} in param dict is overridden.'.format(cat_alias))\n"
     ]
    },
    {
     "name": "stdout",
     "output_type": "stream",
     "text": [
      "Training until validation scores don't improve for 25 rounds\n",
      "[100]\ttraining's rmse: 0.000479458\ttraining's RMSPE: 0.221621\tvalid_1's rmse: 0.000487176\tvalid_1's RMSPE: 0.2266\n",
      "[200]\ttraining's rmse: 0.000467345\ttraining's RMSPE: 0.216022\tvalid_1's rmse: 0.000480197\tvalid_1's RMSPE: 0.223354\n",
      "[300]\ttraining's rmse: 0.000458639\ttraining's RMSPE: 0.211998\tvalid_1's rmse: 0.000475215\tvalid_1's RMSPE: 0.221036\n",
      "[400]\ttraining's rmse: 0.000452067\ttraining's RMSPE: 0.20896\tvalid_1's rmse: 0.000471546\tvalid_1's RMSPE: 0.21933\n",
      "[500]\ttraining's rmse: 0.000446169\ttraining's RMSPE: 0.206233\tvalid_1's rmse: 0.000468179\tvalid_1's RMSPE: 0.217764\n",
      "[600]\ttraining's rmse: 0.000440701\ttraining's RMSPE: 0.203706\tvalid_1's rmse: 0.000465578\tvalid_1's RMSPE: 0.216554\n",
      "[700]\ttraining's rmse: 0.000436238\ttraining's RMSPE: 0.201643\tvalid_1's rmse: 0.000463425\tvalid_1's RMSPE: 0.215553\n",
      "[800]\ttraining's rmse: 0.000432022\ttraining's RMSPE: 0.199694\tvalid_1's rmse: 0.000461691\tvalid_1's RMSPE: 0.214746\n",
      "[900]\ttraining's rmse: 0.000427575\ttraining's RMSPE: 0.197639\tvalid_1's rmse: 0.000459502\tvalid_1's RMSPE: 0.213728\n",
      "[1000]\ttraining's rmse: 0.000424231\ttraining's RMSPE: 0.196093\tvalid_1's rmse: 0.000458085\tvalid_1's RMSPE: 0.213069\n",
      "[1100]\ttraining's rmse: 0.000420861\ttraining's RMSPE: 0.194535\tvalid_1's rmse: 0.000456687\tvalid_1's RMSPE: 0.212419\n",
      "[1200]\ttraining's rmse: 0.00041749\ttraining's RMSPE: 0.192977\tvalid_1's rmse: 0.000455304\tvalid_1's RMSPE: 0.211775\n",
      "Early stopping, best iteration is:\n",
      "[1228]\ttraining's rmse: 0.000416572\ttraining's RMSPE: 0.192553\tvalid_1's rmse: 0.000454916\tvalid_1's RMSPE: 0.211595\n",
      "Training fold 5\n"
     ]
    },
    {
     "name": "stderr",
     "output_type": "stream",
     "text": [
      "/home/slex/programy/anaconda3/envs/fastai/lib/python3.8/site-packages/lightgbm/basic.py:1551: UserWarning: Using categorical_feature in Dataset.\n",
      "  warnings.warn('Using categorical_feature in Dataset.')\n",
      "/home/slex/programy/anaconda3/envs/fastai/lib/python3.8/site-packages/lightgbm/basic.py:1286: UserWarning: Overriding the parameters from Reference Dataset.\n",
      "  warnings.warn('Overriding the parameters from Reference Dataset.')\n",
      "/home/slex/programy/anaconda3/envs/fastai/lib/python3.8/site-packages/lightgbm/basic.py:1098: UserWarning: categorical_column in param dict is overridden.\n",
      "  warnings.warn('{} in param dict is overridden.'.format(cat_alias))\n"
     ]
    },
    {
     "name": "stdout",
     "output_type": "stream",
     "text": [
      "Training until validation scores don't improve for 25 rounds\n",
      "[100]\ttraining's rmse: 0.000478615\ttraining's RMSPE: 0.221757\tvalid_1's rmse: 0.000493492\tvalid_1's RMSPE: 0.22737\n",
      "[200]\ttraining's rmse: 0.000466963\ttraining's RMSPE: 0.216358\tvalid_1's rmse: 0.000485257\tvalid_1's RMSPE: 0.223575\n",
      "[300]\ttraining's rmse: 0.000458001\ttraining's RMSPE: 0.212206\tvalid_1's rmse: 0.000479539\tvalid_1's RMSPE: 0.220941\n",
      "[400]\ttraining's rmse: 0.000451343\ttraining's RMSPE: 0.209121\tvalid_1's rmse: 0.000475593\tvalid_1's RMSPE: 0.219123\n",
      "[500]\ttraining's rmse: 0.000445199\ttraining's RMSPE: 0.206274\tvalid_1's rmse: 0.000473017\tvalid_1's RMSPE: 0.217936\n",
      "[600]\ttraining's rmse: 0.000440061\ttraining's RMSPE: 0.203894\tvalid_1's rmse: 0.000471083\tvalid_1's RMSPE: 0.217045\n",
      "Early stopping, best iteration is:\n",
      "[588]\ttraining's rmse: 0.000440504\ttraining's RMSPE: 0.204099\tvalid_1's rmse: 0.000470597\tvalid_1's RMSPE: 0.216821\n",
      "Our out of folds RMSPE is 0.21368934452167634\n"
     ]
    }
   ],
   "source": [
    "_=train_models(train_10m_with_embs)"
   ]
  },
  {
   "cell_type": "markdown",
   "id": "artificial-tower",
   "metadata": {},
   "source": [
    "## LGBM with embeddings and time/stock features"
   ]
  },
  {
   "cell_type": "code",
   "execution_count": 38,
   "id": "brazilian-publisher",
   "metadata": {},
   "outputs": [],
   "source": [
    "train_10m_with_embs = get_time_stock(train_10m_with_embs)"
   ]
  },
  {
   "cell_type": "code",
   "execution_count": null,
   "id": "rubber-peoples",
   "metadata": {},
   "outputs": [
    {
     "name": "stdout",
     "output_type": "stream",
     "text": [
      "Training fold 1\n"
     ]
    },
    {
     "name": "stderr",
     "output_type": "stream",
     "text": [
      "/home/slex/programy/anaconda3/envs/fastai/lib/python3.8/site-packages/lightgbm/basic.py:1551: UserWarning: Using categorical_feature in Dataset.\n",
      "  warnings.warn('Using categorical_feature in Dataset.')\n",
      "/home/slex/programy/anaconda3/envs/fastai/lib/python3.8/site-packages/lightgbm/basic.py:1286: UserWarning: Overriding the parameters from Reference Dataset.\n",
      "  warnings.warn('Overriding the parameters from Reference Dataset.')\n",
      "/home/slex/programy/anaconda3/envs/fastai/lib/python3.8/site-packages/lightgbm/basic.py:1098: UserWarning: categorical_column in param dict is overridden.\n",
      "  warnings.warn('{} in param dict is overridden.'.format(cat_alias))\n"
     ]
    },
    {
     "name": "stdout",
     "output_type": "stream",
     "text": [
      "Training until validation scores don't improve for 25 rounds\n",
      "[100]\ttraining's rmse: 0.000469478\ttraining's RMSPE: 0.217358\tvalid_1's rmse: 0.000479145\tvalid_1's RMSPE: 0.221435\n",
      "[200]\ttraining's rmse: 0.000453486\ttraining's RMSPE: 0.209954\tvalid_1's rmse: 0.000466979\tvalid_1's RMSPE: 0.215813\n",
      "[300]\ttraining's rmse: 0.000441454\ttraining's RMSPE: 0.204384\tvalid_1's rmse: 0.00045842\tvalid_1's RMSPE: 0.211858\n",
      "[400]\ttraining's rmse: 0.000432921\ttraining's RMSPE: 0.200433\tvalid_1's rmse: 0.000452534\tvalid_1's RMSPE: 0.209137\n",
      "[500]\ttraining's rmse: 0.000425393\ttraining's RMSPE: 0.196948\tvalid_1's rmse: 0.000448454\tvalid_1's RMSPE: 0.207252\n",
      "[600]\ttraining's rmse: 0.000419201\ttraining's RMSPE: 0.194081\tvalid_1's rmse: 0.000444025\tvalid_1's RMSPE: 0.205205\n",
      "[700]\ttraining's rmse: 0.000413493\ttraining's RMSPE: 0.191438\tvalid_1's rmse: 0.000440702\tvalid_1's RMSPE: 0.203669\n",
      "[800]\ttraining's rmse: 0.000408977\ttraining's RMSPE: 0.189348\tvalid_1's rmse: 0.00043858\tvalid_1's RMSPE: 0.202689\n",
      "[900]\ttraining's rmse: 0.000404124\ttraining's RMSPE: 0.187101\tvalid_1's rmse: 0.000435785\tvalid_1's RMSPE: 0.201397\n",
      "[1000]\ttraining's rmse: 0.000399907\ttraining's RMSPE: 0.185148\tvalid_1's rmse: 0.000433789\tvalid_1's RMSPE: 0.200475\n",
      "[1100]\ttraining's rmse: 0.000396037\ttraining's RMSPE: 0.183357\tvalid_1's rmse: 0.000431773\tvalid_1's RMSPE: 0.199543\n",
      "[1200]\ttraining's rmse: 0.000392573\ttraining's RMSPE: 0.181753\tvalid_1's rmse: 0.000430295\tvalid_1's RMSPE: 0.19886\n",
      "[1300]\ttraining's rmse: 0.00038961\ttraining's RMSPE: 0.180381\tvalid_1's rmse: 0.00042926\tvalid_1's RMSPE: 0.198381\n",
      "[1400]\ttraining's rmse: 0.000386915\ttraining's RMSPE: 0.179133\tvalid_1's rmse: 0.000428433\tvalid_1's RMSPE: 0.197999\n",
      "[1500]\ttraining's rmse: 0.000384216\ttraining's RMSPE: 0.177884\tvalid_1's rmse: 0.000427525\tvalid_1's RMSPE: 0.19758\n",
      "[1600]\ttraining's rmse: 0.000381469\ttraining's RMSPE: 0.176612\tvalid_1's rmse: 0.0004267\tvalid_1's RMSPE: 0.197198\n",
      "Early stopping, best iteration is:\n",
      "[1638]\ttraining's rmse: 0.000380599\ttraining's RMSPE: 0.176209\tvalid_1's rmse: 0.000426465\tvalid_1's RMSPE: 0.19709\n",
      "Training fold 2\n"
     ]
    },
    {
     "name": "stderr",
     "output_type": "stream",
     "text": [
      "/home/slex/programy/anaconda3/envs/fastai/lib/python3.8/site-packages/lightgbm/basic.py:1551: UserWarning: Using categorical_feature in Dataset.\n",
      "  warnings.warn('Using categorical_feature in Dataset.')\n",
      "/home/slex/programy/anaconda3/envs/fastai/lib/python3.8/site-packages/lightgbm/basic.py:1286: UserWarning: Overriding the parameters from Reference Dataset.\n",
      "  warnings.warn('Overriding the parameters from Reference Dataset.')\n",
      "/home/slex/programy/anaconda3/envs/fastai/lib/python3.8/site-packages/lightgbm/basic.py:1098: UserWarning: categorical_column in param dict is overridden.\n",
      "  warnings.warn('{} in param dict is overridden.'.format(cat_alias))\n"
     ]
    },
    {
     "name": "stdout",
     "output_type": "stream",
     "text": [
      "Training until validation scores don't improve for 25 rounds\n",
      "[100]\ttraining's rmse: 0.000470553\ttraining's RMSPE: 0.21763\tvalid_1's rmse: 0.000491471\tvalid_1's RMSPE: 0.228076\n",
      "[200]\ttraining's rmse: 0.000453771\ttraining's RMSPE: 0.209868\tvalid_1's rmse: 0.000479281\tvalid_1's RMSPE: 0.222419\n",
      "[300]\ttraining's rmse: 0.00044215\ttraining's RMSPE: 0.204494\tvalid_1's rmse: 0.00047138\tvalid_1's RMSPE: 0.218753\n",
      "[400]\ttraining's rmse: 0.000433854\ttraining's RMSPE: 0.200657\tvalid_1's rmse: 0.000466737\tvalid_1's RMSPE: 0.216598\n",
      "[500]\ttraining's rmse: 0.000425961\ttraining's RMSPE: 0.197006\tvalid_1's rmse: 0.000461459\tvalid_1's RMSPE: 0.214149\n",
      "[600]\ttraining's rmse: 0.000419592\ttraining's RMSPE: 0.194061\tvalid_1's rmse: 0.000458524\tvalid_1's RMSPE: 0.212786\n",
      "Early stopping, best iteration is:\n",
      "[597]\ttraining's rmse: 0.000419692\ttraining's RMSPE: 0.194107\tvalid_1's rmse: 0.000458129\tvalid_1's RMSPE: 0.212603\n",
      "Training fold 3\n"
     ]
    },
    {
     "name": "stderr",
     "output_type": "stream",
     "text": [
      "/home/slex/programy/anaconda3/envs/fastai/lib/python3.8/site-packages/lightgbm/basic.py:1551: UserWarning: Using categorical_feature in Dataset.\n",
      "  warnings.warn('Using categorical_feature in Dataset.')\n",
      "/home/slex/programy/anaconda3/envs/fastai/lib/python3.8/site-packages/lightgbm/basic.py:1286: UserWarning: Overriding the parameters from Reference Dataset.\n",
      "  warnings.warn('Overriding the parameters from Reference Dataset.')\n",
      "/home/slex/programy/anaconda3/envs/fastai/lib/python3.8/site-packages/lightgbm/basic.py:1098: UserWarning: categorical_column in param dict is overridden.\n",
      "  warnings.warn('{} in param dict is overridden.'.format(cat_alias))\n"
     ]
    },
    {
     "name": "stdout",
     "output_type": "stream",
     "text": [
      "Training until validation scores don't improve for 25 rounds\n",
      "[100]\ttraining's rmse: 0.000468438\ttraining's RMSPE: 0.216897\tvalid_1's rmse: 0.000474751\tvalid_1's RMSPE: 0.21932\n",
      "[200]\ttraining's rmse: 0.000453264\ttraining's RMSPE: 0.209872\tvalid_1's rmse: 0.000462788\tvalid_1's RMSPE: 0.213794\n",
      "[300]\ttraining's rmse: 0.000442085\ttraining's RMSPE: 0.204695\tvalid_1's rmse: 0.00045425\tvalid_1's RMSPE: 0.20985\n",
      "[400]\ttraining's rmse: 0.000432756\ttraining's RMSPE: 0.200376\tvalid_1's rmse: 0.000447251\tvalid_1's RMSPE: 0.206616\n",
      "[500]\ttraining's rmse: 0.000425562\ttraining's RMSPE: 0.197045\tvalid_1's rmse: 0.000442327\tvalid_1's RMSPE: 0.204342\n",
      "[600]\ttraining's rmse: 0.000418904\ttraining's RMSPE: 0.193963\tvalid_1's rmse: 0.00043767\tvalid_1's RMSPE: 0.20219\n",
      "[700]\ttraining's rmse: 0.000412951\ttraining's RMSPE: 0.191206\tvalid_1's rmse: 0.000433831\tvalid_1's RMSPE: 0.200417\n",
      "[800]\ttraining's rmse: 0.000408257\ttraining's RMSPE: 0.189032\tvalid_1's rmse: 0.000431084\tvalid_1's RMSPE: 0.199148\n",
      "[900]\ttraining's rmse: 0.000403693\ttraining's RMSPE: 0.186919\tvalid_1's rmse: 0.000428612\tvalid_1's RMSPE: 0.198006\n",
      "[1000]\ttraining's rmse: 0.000399732\ttraining's RMSPE: 0.185085\tvalid_1's rmse: 0.000426798\tvalid_1's RMSPE: 0.197168\n",
      "[1100]\ttraining's rmse: 0.000395925\ttraining's RMSPE: 0.183322\tvalid_1's rmse: 0.000425082\tvalid_1's RMSPE: 0.196375\n",
      "[1200]\ttraining's rmse: 0.000392559\ttraining's RMSPE: 0.181764\tvalid_1's rmse: 0.000423521\tvalid_1's RMSPE: 0.195654\n",
      "[1300]\ttraining's rmse: 0.000389446\ttraining's RMSPE: 0.180323\tvalid_1's rmse: 0.000422328\tvalid_1's RMSPE: 0.195103\n",
      "[1400]\ttraining's rmse: 0.000386804\ttraining's RMSPE: 0.179099\tvalid_1's rmse: 0.000421543\tvalid_1's RMSPE: 0.19474\n",
      "[1500]\ttraining's rmse: 0.000383912\ttraining's RMSPE: 0.17776\tvalid_1's rmse: 0.000420371\tvalid_1's RMSPE: 0.194199\n",
      "[1600]\ttraining's rmse: 0.000381156\ttraining's RMSPE: 0.176484\tvalid_1's rmse: 0.00041946\tvalid_1's RMSPE: 0.193778\n",
      "[1700]\ttraining's rmse: 0.000378652\ttraining's RMSPE: 0.175325\tvalid_1's rmse: 0.000418936\tvalid_1's RMSPE: 0.193536\n",
      "[1800]\ttraining's rmse: 0.000376155\ttraining's RMSPE: 0.174169\tvalid_1's rmse: 0.000418047\tvalid_1's RMSPE: 0.193125\n",
      "[1900]\ttraining's rmse: 0.000373793\ttraining's RMSPE: 0.173075\tvalid_1's rmse: 0.000417335\tvalid_1's RMSPE: 0.192796\n",
      "[2000]\ttraining's rmse: 0.00037158\ttraining's RMSPE: 0.17205\tvalid_1's rmse: 0.000416714\tvalid_1's RMSPE: 0.192509\n",
      "[2100]\ttraining's rmse: 0.000369578\ttraining's RMSPE: 0.171123\tvalid_1's rmse: 0.000416338\tvalid_1's RMSPE: 0.192335\n",
      "[2200]\ttraining's rmse: 0.000367545\ttraining's RMSPE: 0.170182\tvalid_1's rmse: 0.00041591\tvalid_1's RMSPE: 0.192138\n",
      "[2300]\ttraining's rmse: 0.000365587\ttraining's RMSPE: 0.169275\tvalid_1's rmse: 0.00041562\tvalid_1's RMSPE: 0.192004\n",
      "[2400]\ttraining's rmse: 0.000363767\ttraining's RMSPE: 0.168433\tvalid_1's rmse: 0.000415258\tvalid_1's RMSPE: 0.191836\n",
      "[2500]\ttraining's rmse: 0.000361906\ttraining's RMSPE: 0.167571\tvalid_1's rmse: 0.000414915\tvalid_1's RMSPE: 0.191678\n",
      "[2600]\ttraining's rmse: 0.000360127\ttraining's RMSPE: 0.166747\tvalid_1's rmse: 0.000414653\tvalid_1's RMSPE: 0.191557\n",
      "[2700]\ttraining's rmse: 0.000358471\ttraining's RMSPE: 0.16598\tvalid_1's rmse: 0.000414467\tvalid_1's RMSPE: 0.191471\n",
      "Early stopping, best iteration is:\n",
      "[2688]\ttraining's rmse: 0.000358608\ttraining's RMSPE: 0.166044\tvalid_1's rmse: 0.000414399\tvalid_1's RMSPE: 0.19144\n",
      "Training fold 4\n"
     ]
    },
    {
     "name": "stderr",
     "output_type": "stream",
     "text": [
      "/home/slex/programy/anaconda3/envs/fastai/lib/python3.8/site-packages/lightgbm/basic.py:1551: UserWarning: Using categorical_feature in Dataset.\n",
      "  warnings.warn('Using categorical_feature in Dataset.')\n",
      "/home/slex/programy/anaconda3/envs/fastai/lib/python3.8/site-packages/lightgbm/basic.py:1286: UserWarning: Overriding the parameters from Reference Dataset.\n",
      "  warnings.warn('Overriding the parameters from Reference Dataset.')\n",
      "/home/slex/programy/anaconda3/envs/fastai/lib/python3.8/site-packages/lightgbm/basic.py:1098: UserWarning: categorical_column in param dict is overridden.\n",
      "  warnings.warn('{} in param dict is overridden.'.format(cat_alias))\n"
     ]
    },
    {
     "name": "stdout",
     "output_type": "stream",
     "text": [
      "Training until validation scores don't improve for 25 rounds\n",
      "[100]\ttraining's rmse: 0.000469529\ttraining's RMSPE: 0.217031\tvalid_1's rmse: 0.000476678\tvalid_1's RMSPE: 0.221717\n",
      "[200]\ttraining's rmse: 0.000453969\ttraining's RMSPE: 0.209839\tvalid_1's rmse: 0.000466392\tvalid_1's RMSPE: 0.216933\n",
      "[300]\ttraining's rmse: 0.000442021\ttraining's RMSPE: 0.204316\tvalid_1's rmse: 0.000457537\tvalid_1's RMSPE: 0.212814\n",
      "[400]\ttraining's rmse: 0.000433243\ttraining's RMSPE: 0.200258\tvalid_1's rmse: 0.000451738\tvalid_1's RMSPE: 0.210117\n",
      "[500]\ttraining's rmse: 0.000425275\ttraining's RMSPE: 0.196575\tvalid_1's rmse: 0.000446485\tvalid_1's RMSPE: 0.207673\n",
      "[600]\ttraining's rmse: 0.000419041\ttraining's RMSPE: 0.193694\tvalid_1's rmse: 0.000442938\tvalid_1's RMSPE: 0.206024\n",
      "[700]\ttraining's rmse: 0.000413531\ttraining's RMSPE: 0.191147\tvalid_1's rmse: 0.000439892\tvalid_1's RMSPE: 0.204607\n",
      "[800]\ttraining's rmse: 0.000408522\ttraining's RMSPE: 0.188832\tvalid_1's rmse: 0.000437022\tvalid_1's RMSPE: 0.203272\n",
      "[900]\ttraining's rmse: 0.000404071\ttraining's RMSPE: 0.186775\tvalid_1's rmse: 0.000435164\tvalid_1's RMSPE: 0.202407\n",
      "[1000]\ttraining's rmse: 0.000400025\ttraining's RMSPE: 0.184904\tvalid_1's rmse: 0.000433483\tvalid_1's RMSPE: 0.201626\n",
      "[1100]\ttraining's rmse: 0.000396472\ttraining's RMSPE: 0.183262\tvalid_1's rmse: 0.000431935\tvalid_1's RMSPE: 0.200905\n",
      "[1200]\ttraining's rmse: 0.000392874\ttraining's RMSPE: 0.181599\tvalid_1's rmse: 0.000430279\tvalid_1's RMSPE: 0.200135\n",
      "Early stopping, best iteration is:\n",
      "[1219]\ttraining's rmse: 0.000392271\ttraining's RMSPE: 0.18132\tvalid_1's rmse: 0.00043005\tvalid_1's RMSPE: 0.200029\n",
      "Training fold 5\n"
     ]
    },
    {
     "name": "stderr",
     "output_type": "stream",
     "text": [
      "/home/slex/programy/anaconda3/envs/fastai/lib/python3.8/site-packages/lightgbm/basic.py:1551: UserWarning: Using categorical_feature in Dataset.\n",
      "  warnings.warn('Using categorical_feature in Dataset.')\n",
      "/home/slex/programy/anaconda3/envs/fastai/lib/python3.8/site-packages/lightgbm/basic.py:1286: UserWarning: Overriding the parameters from Reference Dataset.\n",
      "  warnings.warn('Overriding the parameters from Reference Dataset.')\n",
      "/home/slex/programy/anaconda3/envs/fastai/lib/python3.8/site-packages/lightgbm/basic.py:1098: UserWarning: categorical_column in param dict is overridden.\n",
      "  warnings.warn('{} in param dict is overridden.'.format(cat_alias))\n"
     ]
    },
    {
     "name": "stdout",
     "output_type": "stream",
     "text": [
      "Training until validation scores don't improve for 25 rounds\n",
      "[100]\ttraining's rmse: 0.000468379\ttraining's RMSPE: 0.217014\tvalid_1's rmse: 0.00048083\tvalid_1's RMSPE: 0.221536\n",
      "[200]\ttraining's rmse: 0.000452861\ttraining's RMSPE: 0.209824\tvalid_1's rmse: 0.000468084\tvalid_1's RMSPE: 0.215663\n",
      "[300]\ttraining's rmse: 0.00044098\ttraining's RMSPE: 0.20432\tvalid_1's rmse: 0.000458318\tvalid_1's RMSPE: 0.211164\n",
      "[400]\ttraining's rmse: 0.000432071\ttraining's RMSPE: 0.200192\tvalid_1's rmse: 0.000451827\tvalid_1's RMSPE: 0.208173\n",
      "[500]\ttraining's rmse: 0.000424664\ttraining's RMSPE: 0.19676\tvalid_1's rmse: 0.000447542\tvalid_1's RMSPE: 0.206199\n"
     ]
    }
   ],
   "source": [
    "_=train_models(train_10m_with_embs)"
   ]
  },
  {
   "cell_type": "code",
   "execution_count": null,
   "id": "irish-sydney",
   "metadata": {},
   "outputs": [],
   "source": []
  }
 ],
 "metadata": {
  "kernelspec": {
   "display_name": "Python 3.8.5 64-bit ('fastai': conda)",
   "language": "python",
   "name": "python38564bitfastaicondad52d12c5a30a4725bf9d3e235cf1271c"
  },
  "language_info": {
   "codemirror_mode": {
    "name": "ipython",
    "version": 3
   },
   "file_extension": ".py",
   "mimetype": "text/x-python",
   "name": "python",
   "nbconvert_exporter": "python",
   "pygments_lexer": "ipython3",
   "version": "3.8.5"
  }
 },
 "nbformat": 4,
 "nbformat_minor": 5
}
