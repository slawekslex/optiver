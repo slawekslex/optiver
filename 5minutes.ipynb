{
 "cells": [
  {
   "cell_type": "code",
   "execution_count": 1,
   "id": "bd7cddaa",
   "metadata": {},
   "outputs": [],
   "source": [
    "%load_ext autoreload\n",
    "%autoreload 2"
   ]
  },
  {
   "cell_type": "code",
   "execution_count": 2,
   "id": "e031afd4",
   "metadata": {},
   "outputs": [],
   "source": [
    "from fastai.tabular.all import *\n",
    "from multiprocessing import Pool\n",
    "from sklearn.model_selection import KFold, GroupKFold\n",
    "import lightgbm as lgb\n",
    "from optiver_features import *\n",
    "import pickle"
   ]
  },
  {
   "cell_type": "code",
   "execution_count": 3,
   "id": "3050288f",
   "metadata": {},
   "outputs": [
    {
     "data": {
      "text/plain": [
       "(2681, 1149)"
      ]
     },
     "execution_count": 3,
     "metadata": {},
     "output_type": "execute_result"
    }
   ],
   "source": [
    "df = pd.read_csv('../input/optiver-realized-volatility-prediction/train.csv')\n",
    "time_ids = df.time_id.unique()\n",
    "np.random.seed(42)\n",
    "np.random.shuffle(time_ids)\n",
    "\n",
    "splt = int(len(time_ids)*.7)\n",
    "train_ids, test_ids = time_ids[:splt], time_ids[splt:]\n",
    "\n",
    "len(train_ids), len(test_ids)"
   ]
  },
  {
   "cell_type": "code",
   "execution_count": 4,
   "id": "9708bd26",
   "metadata": {},
   "outputs": [
    {
     "data": {
      "text/plain": [
       "0.6999944047075061"
      ]
     },
     "execution_count": 4,
     "metadata": {},
     "output_type": "execute_result"
    }
   ],
   "source": [
    "len(df[df.time_id.isin(train_ids)]) / len(df)"
   ]
  },
  {
   "cell_type": "markdown",
   "id": "1653960d",
   "metadata": {},
   "source": [
    "## Generate 5m dataset"
   ]
  },
  {
   "cell_type": "code",
   "execution_count": 5,
   "id": "5454e240",
   "metadata": {},
   "outputs": [],
   "source": [
    "book_feature_dict = {\n",
    "    wap1: [],\n",
    "    wap2: [],\n",
    "    log_return1: [np.std],\n",
    "    log_return2: [np.std],\n",
    "  \n",
    "    price_spread:[np.mean],\n",
    "    total_volume:[np.mean],\n",
    "}\n",
    "trade_feature_dict = {\n",
    "        log_return_price: [np.std],\n",
    "        'seconds_in_bucket':[np.size],\n",
    "        'size':[np.sum],\n",
    "        'order_count':[np.sum],\n",
    "}\n",
    "time_id_features=[]\n",
    "time_id_aggregations = []\n",
    "stock_id_features = []\n",
    "stock_id_aggregations = [time_id_aggregations]\n",
    "time_windows = [(0,300), (0,100), (100,200), (200,300)]"
   ]
  },
  {
   "cell_type": "code",
   "execution_count": 6,
   "id": "2b169da4",
   "metadata": {},
   "outputs": [],
   "source": [
    "def generate_0_to_5():\n",
    "\n",
    "\n",
    "    ofg = OptiverFeatureGenerator(book_feature_dict, trade_feature_dict, time_windows, time_id_features,time_id_aggregations, stock_id_features, stock_id_aggregations)\n",
    "    train_df5m = ofg.generate_train_df()\n",
    "    ofg_targ =OptiverFeatureGenerator({wap1:[], log_return1:[realized_volatility]}, {'seconds_in_bucket':[np.size]}, [(300,600)], [],[],[],[])\n",
    "    targ_df = ofg_targ.generate_train_df()\n",
    "    train_df5m.target = targ_df.log_return1_realized_volatility_300_600\n",
    "    train_df5m.target = train_df5m.target.replace(0, 1e-4)\n",
    "    return train_df5m\n",
    "    "
   ]
  },
  {
   "cell_type": "code",
   "execution_count": 7,
   "id": "2164443f",
   "metadata": {},
   "outputs": [
    {
     "name": "stdout",
     "output_type": "stream",
     "text": [
      "CPU times: user 2.56 s, sys: 817 ms, total: 3.37 s\n",
      "Wall time: 5min 35s\n"
     ]
    }
   ],
   "source": [
    "%%time\n",
    "train_df5m = generate_0_to_5()"
   ]
  },
  {
   "cell_type": "code",
   "execution_count": 8,
   "id": "5e07eba0",
   "metadata": {},
   "outputs": [],
   "source": [
    "\n",
    "train_df5m.to_feather('train_5m.feather')"
   ]
  },
  {
   "cell_type": "code",
   "execution_count": 9,
   "id": "a42bc993",
   "metadata": {},
   "outputs": [],
   "source": [
    "def rename_col(x):\n",
    "    return x.replace('300', '600').replace('200', '500').replace('100', '400').replace('_0', '_300')\n",
    "def rename_col_back(x):\n",
    "    return x.replace('300', '0').replace('400', '100').replace('500', '200').replace('600', '300')\n",
    "\n",
    "def generate_5_to_10():\n",
    "    tw = [(x+300, y+300) for x,y in time_windows]\n",
    "    time_id_feat = [rename_col(x) for x in time_id_features]\n",
    "    stock_id_feat = [rename_col(x) for x in stock_id_features]\n",
    "    ofg = OptiverFeatureGenerator(book_feature_dict, trade_feature_dict, tw, time_id_feat,time_id_aggregations, stock_id_feat, stock_id_aggregations)\n",
    "\n",
    "    df = ofg.generate_train_df()\n",
    "    df.columns = [rename_col_back(x) for x in df.columns]\n",
    "    return df"
   ]
  },
  {
   "cell_type": "code",
   "execution_count": 10,
   "id": "fb3e5915",
   "metadata": {},
   "outputs": [],
   "source": [
    "train_df5_10m  = generate_5_to_10()"
   ]
  },
  {
   "cell_type": "code",
   "execution_count": 11,
   "id": "11e0d10a",
   "metadata": {},
   "outputs": [],
   "source": [
    "train_df5_10m.to_feather('train_5_10.feather')"
   ]
  },
  {
   "cell_type": "code",
   "execution_count": 12,
   "id": "de61b513",
   "metadata": {},
   "outputs": [],
   "source": [
    "cols_to_keep = ['log_return2_std_0_300',\n",
    " \n",
    " 'stock_id','row_id', 'time_id', 'target',\n",
    " 'log_return_price_std_0_300',\n",
    "  'order_count_sum_0_300',\n",
    " 'seconds_in_bucket_size_0_300',\n",
    " 'size_sum_0_300',\n",
    " 'log_return1_std_0_300',\n",
    " 'log_return1_std_100_200',\n",
    " 'log_return1_std_200_300',\n",
    " 'price_spread_mean_0_300',\n",
    "\n",
    " 'total_volume_mean_0_300']"
   ]
  },
  {
   "cell_type": "code",
   "execution_count": 13,
   "id": "fb13e523",
   "metadata": {},
   "outputs": [],
   "source": [
    "train_df5m = train_df5m[cols_to_keep]\n",
    "train_df5_10m = train_df5_10m[cols_to_keep]"
   ]
  },
  {
   "cell_type": "markdown",
   "id": "8a497c57",
   "metadata": {},
   "source": [
    "## LGBM Baseline"
   ]
  },
  {
   "cell_type": "code",
   "execution_count": 14,
   "id": "83985008",
   "metadata": {},
   "outputs": [],
   "source": [
    "def rmspe_np(y_true, y_pred):\n",
    "    return np.sqrt(np.mean(np.square((y_true - y_pred) / y_true)))\n",
    "def feval_rmspe(y_pred, lgb_train):\n",
    "    y_true = lgb_train.get_label()\n",
    "    return 'RMSPE', rmspe_np(y_true, y_pred), False\n",
    "\n",
    "def train_models(train):\n",
    "    # Hyperparammeters (optimized)\n",
    "    seed = 29\n",
    "    params = {\n",
    "        'learning_rate': 0.1,        \n",
    "        'lambda_l1': 2,\n",
    "        'lambda_l2': 7,\n",
    "        'num_leaves': 800,\n",
    "        'min_sum_hessian_in_leaf': 20,\n",
    "        'feature_fraction': 0.8,\n",
    "        'feature_fraction_bynode': 0.8,\n",
    "        'bagging_fraction': 0.9,\n",
    "        'bagging_freq': 42,\n",
    "        'min_data_in_leaf': 700,\n",
    "        'max_depth': 4,\n",
    "        'seed': seed,\n",
    "        'feature_fraction_seed': seed,\n",
    "        'bagging_seed': seed,\n",
    "        'drop_seed': seed,\n",
    "        'data_random_seed': seed,\n",
    "        'objective': 'rmse',\n",
    "        'boosting': 'gbdt',\n",
    "        'verbosity': -1,\n",
    "        'n_jobs': -1,\n",
    "    }   \n",
    "    x = train\n",
    "    # Split features and target\n",
    "    for c in ['row_id', 'target', 'time_id']:\n",
    "        if c in x.columns:\n",
    "            x = x.drop(c, axis=1)\n",
    "    \n",
    "    y = train['target']\n",
    "    # Transform stock id to a numeric value\n",
    "    x['stock_id'] = x['stock_id'].astype(int)\n",
    "    models =[]\n",
    "    # Create out of folds array\n",
    "    oof_predictions = np.zeros(x.shape[0])\n",
    "    # Create a KFold object\n",
    "    kfold = GroupKFold()\n",
    "    # Iterate through each fold\n",
    "    for fold, (trn_ind, val_ind) in enumerate(kfold.split(x, groups = train.time_id)):\n",
    "        print(f'Training fold {fold + 1}')\n",
    "        x_train, x_val = x.iloc[trn_ind], x.iloc[val_ind]\n",
    "        y_train, y_val = y.iloc[trn_ind], y.iloc[val_ind]\n",
    "        # Root mean squared percentage error weights\n",
    "        train_weights = 1 / np.square(y_train)\n",
    "        val_weights = 1 / np.square(y_val)\n",
    "        train_dataset = lgb.Dataset(x_train, y_train, weight = train_weights, categorical_feature = ['stock_id'])\n",
    "        val_dataset = lgb.Dataset(x_val, y_val, weight = val_weights, categorical_feature = ['stock_id'])\n",
    "        model = lgb.train(params = params, \n",
    "                          train_set = train_dataset, \n",
    "                          valid_sets = [train_dataset, val_dataset], \n",
    "                          num_boost_round = 3000, \n",
    "                          early_stopping_rounds = 25, \n",
    "                          verbose_eval = 100,\n",
    "                          feval = feval_rmspe)\n",
    "        models.append(model)\n",
    "        # Add predictions to the out of folds array\n",
    "        oof_predictions[val_ind] = model.predict(x_val)\n",
    "        # Predict the test set\n",
    "        #test_predictions += model.predict(x_test) / 10\n",
    "        \n",
    "    rmspe_score = rmspe_np(y, oof_predictions)\n",
    "    print(f'Our out of folds RMSPE is {rmspe_score}')\n",
    "    # Return test predictions\n",
    "    return models"
   ]
  },
  {
   "cell_type": "code",
   "execution_count": 15,
   "id": "7dc1a9b4",
   "metadata": {},
   "outputs": [
    {
     "name": "stdout",
     "output_type": "stream",
     "text": [
      "Training fold 1\n"
     ]
    },
    {
     "name": "stderr",
     "output_type": "stream",
     "text": [
      "/home/slex/programy/anaconda3/envs/fastai/lib/python3.8/site-packages/lightgbm/basic.py:1996: UserWarning: Using categorical_feature in Dataset.\n",
      "  _log_warning('Using categorical_feature in Dataset.')\n",
      "/home/slex/programy/anaconda3/envs/fastai/lib/python3.8/site-packages/lightgbm/basic.py:1727: UserWarning: Overriding the parameters from Reference Dataset.\n",
      "  _log_warning('Overriding the parameters from Reference Dataset.')\n",
      "/home/slex/programy/anaconda3/envs/fastai/lib/python3.8/site-packages/lightgbm/basic.py:1460: UserWarning: categorical_column in param dict is overridden.\n",
      "  _log_warning(f'{cat_alias} in param dict is overridden.')\n"
     ]
    },
    {
     "name": "stdout",
     "output_type": "stream",
     "text": [
      "Training until validation scores don't improve for 25 rounds\n",
      "[100]\ttraining's rmse: 0.000357779\ttraining's RMSPE: 0.244754\tvalid_1's rmse: 0.000370922\tvalid_1's RMSPE: 0.254099\n",
      "[200]\ttraining's rmse: 0.000350515\ttraining's RMSPE: 0.239785\tvalid_1's rmse: 0.000367952\tvalid_1's RMSPE: 0.252064\n",
      "[300]\ttraining's rmse: 0.000346728\ttraining's RMSPE: 0.237194\tvalid_1's rmse: 0.000366881\tvalid_1's RMSPE: 0.251331\n",
      "[400]\ttraining's rmse: 0.000344141\ttraining's RMSPE: 0.235424\tvalid_1's rmse: 0.000366172\tvalid_1's RMSPE: 0.250845\n",
      "[500]\ttraining's rmse: 0.000342541\ttraining's RMSPE: 0.23433\tvalid_1's rmse: 0.000365864\tvalid_1's RMSPE: 0.250634\n",
      "Early stopping, best iteration is:\n",
      "[574]\ttraining's rmse: 0.000340901\ttraining's RMSPE: 0.233208\tvalid_1's rmse: 0.000365659\tvalid_1's RMSPE: 0.250493\n",
      "Training fold 2\n",
      "Training until validation scores don't improve for 25 rounds\n",
      "[100]\ttraining's rmse: 0.000358507\ttraining's RMSPE: 0.244747\tvalid_1's rmse: 0.000372946\tvalid_1's RMSPE: 0.257576\n",
      "[200]\ttraining's rmse: 0.000351373\ttraining's RMSPE: 0.239876\tvalid_1's rmse: 0.000369581\tvalid_1's RMSPE: 0.255252\n",
      "[300]\ttraining's rmse: 0.000347834\ttraining's RMSPE: 0.237461\tvalid_1's rmse: 0.000368665\tvalid_1's RMSPE: 0.25462\n",
      "Early stopping, best iteration is:\n",
      "[286]\ttraining's rmse: 0.000348277\ttraining's RMSPE: 0.237763\tvalid_1's rmse: 0.000368322\tvalid_1's RMSPE: 0.254383\n",
      "Training fold 3\n",
      "Training until validation scores don't improve for 25 rounds\n",
      "[100]\ttraining's rmse: 0.000359558\ttraining's RMSPE: 0.245834\tvalid_1's rmse: 0.000372752\tvalid_1's RMSPE: 0.255922\n",
      "[200]\ttraining's rmse: 0.000352617\ttraining's RMSPE: 0.241088\tvalid_1's rmse: 0.0003699\tvalid_1's RMSPE: 0.253964\n",
      "[300]\ttraining's rmse: 0.000348722\ttraining's RMSPE: 0.238425\tvalid_1's rmse: 0.000368542\tvalid_1's RMSPE: 0.253031\n",
      "Early stopping, best iteration is:\n",
      "[278]\ttraining's rmse: 0.000349444\ttraining's RMSPE: 0.238919\tvalid_1's rmse: 0.000368421\tvalid_1's RMSPE: 0.252948\n",
      "Training fold 4\n",
      "Training until validation scores don't improve for 25 rounds\n",
      "[100]\ttraining's rmse: 0.000357766\ttraining's RMSPE: 0.245885\tvalid_1's rmse: 0.000391963\tvalid_1's RMSPE: 0.263467\n",
      "[200]\ttraining's rmse: 0.000350909\ttraining's RMSPE: 0.241172\tvalid_1's rmse: 0.000387402\tvalid_1's RMSPE: 0.260401\n",
      "[300]\ttraining's rmse: 0.000346964\ttraining's RMSPE: 0.238461\tvalid_1's rmse: 0.00038439\tvalid_1's RMSPE: 0.258377\n",
      "Early stopping, best iteration is:\n",
      "[308]\ttraining's rmse: 0.000346778\ttraining's RMSPE: 0.238333\tvalid_1's rmse: 0.000384099\tvalid_1's RMSPE: 0.258181\n",
      "Training fold 5\n",
      "Training until validation scores don't improve for 25 rounds\n",
      "Early stopping, best iteration is:\n",
      "[68]\ttraining's rmse: 0.000364004\ttraining's RMSPE: 0.24885\tvalid_1's rmse: 0.000387674\tvalid_1's RMSPE: 0.266265\n",
      "Our out of folds RMSPE is 0.2565130479779627\n"
     ]
    }
   ],
   "source": [
    "_=train_models(train_df5m)"
   ]
  },
  {
   "cell_type": "markdown",
   "id": "90049e6b",
   "metadata": {},
   "source": [
    "## Learning embeddings"
   ]
  },
  {
   "cell_type": "code",
   "execution_count": 48,
   "id": "bae3165f",
   "metadata": {},
   "outputs": [],
   "source": [
    "cont_nn,cat_nn = cont_cat_split(train_df5m, max_card=9000, dep_var='target')\n",
    "cat_nn = ['time_id', 'stock_id']\n",
    "\n",
    "\n",
    "procs_nn = [Categorify, FillMissing,Normalize]\n",
    "\n",
    "splits = RandomSplitter(valid_pct=0.1,seed=43)(train_df5m)\n",
    "\n",
    "dls = TabularPandas(train_df5m, procs_nn, cat_nn, cont_nn,\n",
    "                      splits=splits, \n",
    "                       \n",
    "                      y_names='target').dataloaders(1024)\n",
    "\n",
    "def rmse(preds, targs):\n",
    "    x = (targs-preds)\n",
    "    return (x**2).mean().sqrt()\n",
    "\n",
    "def rmspe(preds, targs):\n",
    "    x = (targs-preds)/targs\n",
    "    return (x**2).mean().sqrt()\n",
    "\n",
    "config={'lin_first':True, 'ps':[0,0,0], 'embed_p':0.25, }\n",
    "learn = tabular_learner(dls, y_range=(0,.1), layers=[200,100,40], emb_szs={'stock_id':10, 'time_id':20}, \n",
    "                        n_out=1, \n",
    "                        loss_func = rmspe, \n",
    "                        \n",
    "                        metrics=AccumMetric(rmspe), config=config)"
   ]
  },
  {
   "cell_type": "code",
   "execution_count": 49,
   "id": "b4dd9ec9",
   "metadata": {},
   "outputs": [
    {
     "data": {
      "text/html": [
       "<table border=\"1\" class=\"dataframe\">\n",
       "  <thead>\n",
       "    <tr style=\"text-align: left;\">\n",
       "      <th>epoch</th>\n",
       "      <th>train_loss</th>\n",
       "      <th>valid_loss</th>\n",
       "      <th>rmspe</th>\n",
       "      <th>time</th>\n",
       "    </tr>\n",
       "  </thead>\n",
       "  <tbody>\n",
       "    <tr>\n",
       "      <td>0</td>\n",
       "      <td>7.370855</td>\n",
       "      <td>5.542631</td>\n",
       "      <td>5.547337</td>\n",
       "      <td>00:05</td>\n",
       "    </tr>\n",
       "    <tr>\n",
       "      <td>1</td>\n",
       "      <td>1.039220</td>\n",
       "      <td>0.574142</td>\n",
       "      <td>0.585812</td>\n",
       "      <td>00:04</td>\n",
       "    </tr>\n",
       "    <tr>\n",
       "      <td>2</td>\n",
       "      <td>0.395199</td>\n",
       "      <td>0.301306</td>\n",
       "      <td>0.301528</td>\n",
       "      <td>00:04</td>\n",
       "    </tr>\n",
       "    <tr>\n",
       "      <td>3</td>\n",
       "      <td>0.295486</td>\n",
       "      <td>0.276157</td>\n",
       "      <td>0.276694</td>\n",
       "      <td>00:04</td>\n",
       "    </tr>\n",
       "    <tr>\n",
       "      <td>4</td>\n",
       "      <td>0.266894</td>\n",
       "      <td>0.249277</td>\n",
       "      <td>0.250706</td>\n",
       "      <td>00:05</td>\n",
       "    </tr>\n",
       "    <tr>\n",
       "      <td>5</td>\n",
       "      <td>0.249466</td>\n",
       "      <td>0.234310</td>\n",
       "      <td>0.234635</td>\n",
       "      <td>00:05</td>\n",
       "    </tr>\n",
       "    <tr>\n",
       "      <td>6</td>\n",
       "      <td>0.248440</td>\n",
       "      <td>0.300160</td>\n",
       "      <td>0.324276</td>\n",
       "      <td>00:04</td>\n",
       "    </tr>\n",
       "    <tr>\n",
       "      <td>7</td>\n",
       "      <td>0.244861</td>\n",
       "      <td>0.233210</td>\n",
       "      <td>0.233597</td>\n",
       "      <td>00:04</td>\n",
       "    </tr>\n",
       "    <tr>\n",
       "      <td>8</td>\n",
       "      <td>0.244758</td>\n",
       "      <td>0.231675</td>\n",
       "      <td>0.232056</td>\n",
       "      <td>00:03</td>\n",
       "    </tr>\n",
       "    <tr>\n",
       "      <td>9</td>\n",
       "      <td>0.245985</td>\n",
       "      <td>0.271197</td>\n",
       "      <td>0.271871</td>\n",
       "      <td>00:05</td>\n",
       "    </tr>\n",
       "    <tr>\n",
       "      <td>10</td>\n",
       "      <td>0.237095</td>\n",
       "      <td>0.233715</td>\n",
       "      <td>0.234307</td>\n",
       "      <td>00:05</td>\n",
       "    </tr>\n",
       "    <tr>\n",
       "      <td>11</td>\n",
       "      <td>0.238918</td>\n",
       "      <td>0.236579</td>\n",
       "      <td>0.236976</td>\n",
       "      <td>00:05</td>\n",
       "    </tr>\n",
       "    <tr>\n",
       "      <td>12</td>\n",
       "      <td>0.235149</td>\n",
       "      <td>0.231733</td>\n",
       "      <td>0.232168</td>\n",
       "      <td>00:04</td>\n",
       "    </tr>\n",
       "    <tr>\n",
       "      <td>13</td>\n",
       "      <td>0.232147</td>\n",
       "      <td>0.226602</td>\n",
       "      <td>0.227048</td>\n",
       "      <td>00:04</td>\n",
       "    </tr>\n",
       "    <tr>\n",
       "      <td>14</td>\n",
       "      <td>0.232612</td>\n",
       "      <td>0.227681</td>\n",
       "      <td>0.228012</td>\n",
       "      <td>00:05</td>\n",
       "    </tr>\n",
       "    <tr>\n",
       "      <td>15</td>\n",
       "      <td>0.234986</td>\n",
       "      <td>0.229399</td>\n",
       "      <td>0.229961</td>\n",
       "      <td>00:05</td>\n",
       "    </tr>\n",
       "    <tr>\n",
       "      <td>16</td>\n",
       "      <td>0.227522</td>\n",
       "      <td>0.228004</td>\n",
       "      <td>0.228501</td>\n",
       "      <td>00:05</td>\n",
       "    </tr>\n",
       "    <tr>\n",
       "      <td>17</td>\n",
       "      <td>0.225902</td>\n",
       "      <td>0.228295</td>\n",
       "      <td>0.229031</td>\n",
       "      <td>00:04</td>\n",
       "    </tr>\n",
       "    <tr>\n",
       "      <td>18</td>\n",
       "      <td>0.226378</td>\n",
       "      <td>0.226199</td>\n",
       "      <td>0.226739</td>\n",
       "      <td>00:04</td>\n",
       "    </tr>\n",
       "    <tr>\n",
       "      <td>19</td>\n",
       "      <td>0.221434</td>\n",
       "      <td>0.226254</td>\n",
       "      <td>0.226883</td>\n",
       "      <td>00:03</td>\n",
       "    </tr>\n",
       "    <tr>\n",
       "      <td>20</td>\n",
       "      <td>0.223155</td>\n",
       "      <td>0.227559</td>\n",
       "      <td>0.228157</td>\n",
       "      <td>00:05</td>\n",
       "    </tr>\n",
       "    <tr>\n",
       "      <td>21</td>\n",
       "      <td>0.222466</td>\n",
       "      <td>0.228100</td>\n",
       "      <td>0.228885</td>\n",
       "      <td>00:05</td>\n",
       "    </tr>\n",
       "    <tr>\n",
       "      <td>22</td>\n",
       "      <td>0.220321</td>\n",
       "      <td>0.225669</td>\n",
       "      <td>0.226134</td>\n",
       "      <td>00:05</td>\n",
       "    </tr>\n",
       "    <tr>\n",
       "      <td>23</td>\n",
       "      <td>0.218651</td>\n",
       "      <td>0.226999</td>\n",
       "      <td>0.227826</td>\n",
       "      <td>00:03</td>\n",
       "    </tr>\n",
       "    <tr>\n",
       "      <td>24</td>\n",
       "      <td>0.217891</td>\n",
       "      <td>0.228692</td>\n",
       "      <td>0.229783</td>\n",
       "      <td>00:03</td>\n",
       "    </tr>\n",
       "    <tr>\n",
       "      <td>25</td>\n",
       "      <td>0.217559</td>\n",
       "      <td>0.226772</td>\n",
       "      <td>0.227431</td>\n",
       "      <td>00:05</td>\n",
       "    </tr>\n",
       "    <tr>\n",
       "      <td>26</td>\n",
       "      <td>0.217940</td>\n",
       "      <td>0.227945</td>\n",
       "      <td>0.228795</td>\n",
       "      <td>00:05</td>\n",
       "    </tr>\n",
       "    <tr>\n",
       "      <td>27</td>\n",
       "      <td>0.215839</td>\n",
       "      <td>0.227629</td>\n",
       "      <td>0.228353</td>\n",
       "      <td>00:05</td>\n",
       "    </tr>\n",
       "    <tr>\n",
       "      <td>28</td>\n",
       "      <td>0.214181</td>\n",
       "      <td>0.226777</td>\n",
       "      <td>0.227403</td>\n",
       "      <td>00:04</td>\n",
       "    </tr>\n",
       "    <tr>\n",
       "      <td>29</td>\n",
       "      <td>0.221296</td>\n",
       "      <td>0.227556</td>\n",
       "      <td>0.228442</td>\n",
       "      <td>00:04</td>\n",
       "    </tr>\n",
       "  </tbody>\n",
       "</table>"
      ],
      "text/plain": [
       "<IPython.core.display.HTML object>"
      ]
     },
     "metadata": {},
     "output_type": "display_data"
    }
   ],
   "source": [
    "learn.fit_one_cycle(30, 5e-3)"
   ]
  },
  {
   "cell_type": "code",
   "execution_count": 50,
   "id": "edc2d71d",
   "metadata": {},
   "outputs": [],
   "source": [
    "categorify = dls.procs[2]\n",
    "time_embs = learn.model.embeds[0].weight.data.cpu()\n",
    "stock_embs = learn.model.embeds[1].weight.data.cpu()"
   ]
  },
  {
   "cell_type": "code",
   "execution_count": 51,
   "id": "ff487e7f",
   "metadata": {},
   "outputs": [],
   "source": [
    "def append_embs(data_df, categorify, time_embs, stock_embs):\n",
    "    time_id_embs = dict()\n",
    "    for idx, time_id in enumerate(categorify.classes['time_id']):\n",
    "        time_id_embs[time_id] = time_embs[idx].tolist()\n",
    "\n",
    "    stock_id_embs = dict()\n",
    "    for idx, stock_id in enumerate(categorify.classes['stock_id']):\n",
    "        stock_id_embs[stock_id] = stock_embs[idx].tolist()\n",
    "\n",
    "    all_embs = []\n",
    "    for _, row in (data_df[['stock_id', 'time_id']].iterrows()):\n",
    "        emb1 = stock_id_embs[row.stock_id]\n",
    "        emb2 = time_id_embs[row.time_id]\n",
    "        all_embs.append(emb1+emb2)\n",
    "    columns = [f'stock_emb{i}' for i in range(stock_embs.shape[1])] +[f'time_emb{i}' for i in range(time_embs.shape[1])]\n",
    "    embs_df = pd.DataFrame(all_embs, columns=columns)\n",
    "\n",
    "    return pd.concat([data_df, embs_df], axis=1)"
   ]
  },
  {
   "cell_type": "code",
   "execution_count": 52,
   "id": "cfd0e3ff",
   "metadata": {},
   "outputs": [
    {
     "data": {
      "text/html": [],
      "text/plain": [
       "<IPython.core.display.HTML object>"
      ]
     },
     "metadata": {},
     "output_type": "display_data"
    }
   ],
   "source": [
    "test_df = train_df5_10m\n",
    "test_dl = dls.test_dl(test_df)\n",
    "preds, _ = learn.get_preds(dl=test_dl)\n",
    "preds5_10 = preds.view(-1).numpy()"
   ]
  },
  {
   "cell_type": "markdown",
   "id": "0b8d4768",
   "metadata": {},
   "source": [
    "## Train 5m LGBM with embeddings\n"
   ]
  },
  {
   "cell_type": "code",
   "execution_count": 53,
   "id": "3d164c2e",
   "metadata": {},
   "outputs": [],
   "source": [
    "train_5_with_embs = append_embs(train_df5m, categorify, time_embs, stock_embs)\n",
    "\n"
   ]
  },
  {
   "cell_type": "code",
   "execution_count": 54,
   "id": "04445aad",
   "metadata": {},
   "outputs": [
    {
     "name": "stdout",
     "output_type": "stream",
     "text": [
      "Training fold 1\n"
     ]
    },
    {
     "name": "stderr",
     "output_type": "stream",
     "text": [
      "/home/slex/programy/anaconda3/envs/fastai/lib/python3.8/site-packages/lightgbm/basic.py:1996: UserWarning: Using categorical_feature in Dataset.\n",
      "  _log_warning('Using categorical_feature in Dataset.')\n",
      "/home/slex/programy/anaconda3/envs/fastai/lib/python3.8/site-packages/lightgbm/basic.py:1727: UserWarning: Overriding the parameters from Reference Dataset.\n",
      "  _log_warning('Overriding the parameters from Reference Dataset.')\n",
      "/home/slex/programy/anaconda3/envs/fastai/lib/python3.8/site-packages/lightgbm/basic.py:1460: UserWarning: categorical_column in param dict is overridden.\n",
      "  _log_warning(f'{cat_alias} in param dict is overridden.')\n"
     ]
    },
    {
     "name": "stdout",
     "output_type": "stream",
     "text": [
      "Training until validation scores don't improve for 25 rounds\n",
      "[100]\ttraining's rmse: 0.000319244\ttraining's RMSPE: 0.218393\tvalid_1's rmse: 0.00033036\tvalid_1's RMSPE: 0.226312\n",
      "[200]\ttraining's rmse: 0.000309518\ttraining's RMSPE: 0.211739\tvalid_1's rmse: 0.000324151\tvalid_1's RMSPE: 0.222059\n",
      "[300]\ttraining's rmse: 0.000304624\ttraining's RMSPE: 0.208392\tvalid_1's rmse: 0.000321533\tvalid_1's RMSPE: 0.220265\n",
      "[400]\ttraining's rmse: 0.000301097\ttraining's RMSPE: 0.205978\tvalid_1's rmse: 0.000319975\tvalid_1's RMSPE: 0.219198\n",
      "[500]\ttraining's rmse: 0.000298401\ttraining's RMSPE: 0.204134\tvalid_1's rmse: 0.00031913\tvalid_1's RMSPE: 0.218619\n",
      "[600]\ttraining's rmse: 0.000296237\ttraining's RMSPE: 0.202654\tvalid_1's rmse: 0.000318638\tvalid_1's RMSPE: 0.218282\n",
      "[700]\ttraining's rmse: 0.000294341\ttraining's RMSPE: 0.201357\tvalid_1's rmse: 0.000318464\tvalid_1's RMSPE: 0.218163\n",
      "Early stopping, best iteration is:\n",
      "[692]\ttraining's rmse: 0.000294505\ttraining's RMSPE: 0.201469\tvalid_1's rmse: 0.000318376\tvalid_1's RMSPE: 0.218103\n",
      "Training fold 2\n",
      "Training until validation scores don't improve for 25 rounds\n",
      "[100]\ttraining's rmse: 0.00031889\ttraining's RMSPE: 0.217701\tvalid_1's rmse: 0.000331679\tvalid_1's RMSPE: 0.229075\n",
      "[200]\ttraining's rmse: 0.000309302\ttraining's RMSPE: 0.211155\tvalid_1's rmse: 0.000325201\tvalid_1's RMSPE: 0.224601\n",
      "[300]\ttraining's rmse: 0.000304226\ttraining's RMSPE: 0.20769\tvalid_1's rmse: 0.000322614\tvalid_1's RMSPE: 0.222815\n",
      "[400]\ttraining's rmse: 0.000300851\ttraining's RMSPE: 0.205386\tvalid_1's rmse: 0.000321151\tvalid_1's RMSPE: 0.221804\n",
      "[500]\ttraining's rmse: 0.00029824\ttraining's RMSPE: 0.203604\tvalid_1's rmse: 0.000319864\tvalid_1's RMSPE: 0.220915\n",
      "[600]\ttraining's rmse: 0.000295837\ttraining's RMSPE: 0.201963\tvalid_1's rmse: 0.00031896\tvalid_1's RMSPE: 0.22029\n",
      "[700]\ttraining's rmse: 0.000293909\ttraining's RMSPE: 0.200647\tvalid_1's rmse: 0.000318238\tvalid_1's RMSPE: 0.219792\n",
      "Early stopping, best iteration is:\n",
      "[719]\ttraining's rmse: 0.000293592\ttraining's RMSPE: 0.200431\tvalid_1's rmse: 0.000318104\tvalid_1's RMSPE: 0.219699\n",
      "Training fold 3\n",
      "Training until validation scores don't improve for 25 rounds\n",
      "[100]\ttraining's rmse: 0.000320922\ttraining's RMSPE: 0.219418\tvalid_1's rmse: 0.000335492\tvalid_1's RMSPE: 0.230341\n",
      "[200]\ttraining's rmse: 0.000311005\ttraining's RMSPE: 0.212638\tvalid_1's rmse: 0.000329807\tvalid_1's RMSPE: 0.226437\n",
      "[300]\ttraining's rmse: 0.000305868\ttraining's RMSPE: 0.209125\tvalid_1's rmse: 0.000326146\tvalid_1's RMSPE: 0.223924\n",
      "[400]\ttraining's rmse: 0.000302184\ttraining's RMSPE: 0.206606\tvalid_1's rmse: 0.000324478\tvalid_1's RMSPE: 0.222778\n",
      "Early stopping, best iteration is:\n",
      "[412]\ttraining's rmse: 0.000301843\ttraining's RMSPE: 0.206373\tvalid_1's rmse: 0.000324347\tvalid_1's RMSPE: 0.222688\n",
      "Training fold 4\n",
      "Training until validation scores don't improve for 25 rounds\n",
      "[100]\ttraining's rmse: 0.000319281\ttraining's RMSPE: 0.219435\tvalid_1's rmse: 0.000339071\tvalid_1's RMSPE: 0.227914\n",
      "[200]\ttraining's rmse: 0.000309039\ttraining's RMSPE: 0.212396\tvalid_1's rmse: 0.000331346\tvalid_1's RMSPE: 0.222722\n",
      "[300]\ttraining's rmse: 0.000303822\ttraining's RMSPE: 0.20881\tvalid_1's rmse: 0.000328006\tvalid_1's RMSPE: 0.220477\n",
      "[400]\ttraining's rmse: 0.000300174\ttraining's RMSPE: 0.206303\tvalid_1's rmse: 0.00032676\tvalid_1's RMSPE: 0.21964\n",
      "Early stopping, best iteration is:\n",
      "[380]\ttraining's rmse: 0.00030088\ttraining's RMSPE: 0.206788\tvalid_1's rmse: 0.000326651\tvalid_1's RMSPE: 0.219566\n",
      "Training fold 5\n",
      "Training until validation scores don't improve for 25 rounds\n",
      "[100]\ttraining's rmse: 0.00032012\ttraining's RMSPE: 0.218849\tvalid_1's rmse: 0.000364181\tvalid_1's RMSPE: 0.250129\n",
      "[200]\ttraining's rmse: 0.000310814\ttraining's RMSPE: 0.212487\tvalid_1's rmse: 0.000356397\tvalid_1's RMSPE: 0.244783\n",
      "Early stopping, best iteration is:\n",
      "[198]\ttraining's rmse: 0.000310947\ttraining's RMSPE: 0.212578\tvalid_1's rmse: 0.000356269\tvalid_1's RMSPE: 0.244695\n",
      "Our out of folds RMSPE is 0.22517166289073368\n"
     ]
    }
   ],
   "source": [
    "_=train_models(train_5_with_embs)"
   ]
  },
  {
   "cell_type": "markdown",
   "id": "d11ec58d",
   "metadata": {},
   "source": [
    "## Baseline LGBM 10m"
   ]
  },
  {
   "cell_type": "code",
   "execution_count": 23,
   "id": "7cdcc8c7",
   "metadata": {},
   "outputs": [],
   "source": [
    "# time_windows = [(0,600), (200, 600), (400,600)]\n",
    "\n",
    "# agg_cols = ['log_return_price_std', 'log_return1_std', 'log_return2_std']\n",
    "\n",
    "# time_id_features = [f'{col}_{x}_{y}' for x,y in time_windows for col in agg_cols] \n",
    "# time_id_aggregations = ['mean', 'std', 'min' ]\n",
    "# stock_id_features = time_id_features\n",
    "# stock_id_aggregations = time_id_aggregations\n",
    "\n",
    "# ofg = OptiverFeatureGenerator(book_feature_dict, trade_feature_dict, time_windows, time_id_features,time_id_aggregations, stock_id_features, stock_id_aggregations)\n",
    "# df = ofg.generate_train_df()\n",
    "\n"
   ]
  },
  {
   "cell_type": "code",
   "execution_count": 24,
   "id": "a2f0c565",
   "metadata": {},
   "outputs": [],
   "source": [
    "# cols_to_keep = ['log_return2_std_0_600',\n",
    " \n",
    "#  'stock_id','row_id', 'time_id', 'target',\n",
    "#  'log_return_price_std_0_600',\n",
    "#   'order_count_sum_0_600',\n",
    "#  'seconds_in_bucket_size_0_600',\n",
    "#  'size_sum_0_600',\n",
    "#  'log_return1_std_0_600_min_time',\n",
    "#  'log_return1_std_0_600_mean_time',\n",
    "#  'log_return1_std_0_600_min_stock',\n",
    "#  'log_return1_std_0_600_mean_stock',\n",
    "#  'log_return1_std_0_600',\n",
    "#  'log_return1_std_200_600',\n",
    "#  'log_return1_std_400_600',\n",
    "#  'price_spread_mean_0_600',\n",
    "#  'log_return_price_std_0_600_mean_time',\n",
    "#  'log_return_price_std_200_600_mean_time',\n",
    "#  'log_return_price_std_400_600_mean_time',\n",
    "#  'log_return_price_std_0_600_min_time',\n",
    "#  'log_return_price_std_200_600_min_time',\n",
    "#  'log_return_price_std_400_600_min_time',\n",
    "#  'total_volume_mean_0_600']\n",
    "\n",
    "# df = df[cols_to_keep]\n",
    "\n",
    "# df.to_feather('train_24cols.feather')"
   ]
  },
  {
   "cell_type": "code",
   "execution_count": 25,
   "id": "2d7e72e6",
   "metadata": {},
   "outputs": [],
   "source": [
    "df = pd.read_feather('train_24cols.feather')"
   ]
  },
  {
   "cell_type": "code",
   "execution_count": 26,
   "id": "24a59e54",
   "metadata": {},
   "outputs": [
    {
     "data": {
      "text/plain": [
       "(300250, 128682)"
      ]
     },
     "execution_count": 26,
     "metadata": {},
     "output_type": "execute_result"
    }
   ],
   "source": [
    "train_df10m = df[df.time_id.isin(train_ids)].reset_index()\n",
    "test_df10m = df[df.time_id.isin(test_ids)].reset_index()\n",
    "len(train_df10m), len(test_df10m)"
   ]
  },
  {
   "cell_type": "code",
   "execution_count": 27,
   "id": "a7fabe89",
   "metadata": {},
   "outputs": [
    {
     "name": "stdout",
     "output_type": "stream",
     "text": [
      "Training fold 1\n"
     ]
    },
    {
     "name": "stderr",
     "output_type": "stream",
     "text": [
      "/home/slex/programy/anaconda3/envs/fastai/lib/python3.8/site-packages/lightgbm/basic.py:1996: UserWarning: Using categorical_feature in Dataset.\n",
      "  _log_warning('Using categorical_feature in Dataset.')\n",
      "/home/slex/programy/anaconda3/envs/fastai/lib/python3.8/site-packages/lightgbm/basic.py:1727: UserWarning: Overriding the parameters from Reference Dataset.\n",
      "  _log_warning('Overriding the parameters from Reference Dataset.')\n",
      "/home/slex/programy/anaconda3/envs/fastai/lib/python3.8/site-packages/lightgbm/basic.py:1460: UserWarning: categorical_column in param dict is overridden.\n",
      "  _log_warning(f'{cat_alias} in param dict is overridden.')\n"
     ]
    },
    {
     "name": "stdout",
     "output_type": "stream",
     "text": [
      "Training until validation scores don't improve for 25 rounds\n",
      "[100]\ttraining's rmse: 0.000467282\ttraining's RMSPE: 0.218349\tvalid_1's rmse: 0.00048106\tvalid_1's RMSPE: 0.220792\n",
      "[200]\ttraining's rmse: 0.000449861\ttraining's RMSPE: 0.210209\tvalid_1's rmse: 0.000475599\tvalid_1's RMSPE: 0.218285\n",
      "[300]\ttraining's rmse: 0.000441072\ttraining's RMSPE: 0.206102\tvalid_1's rmse: 0.000473911\tvalid_1's RMSPE: 0.21751\n",
      "Early stopping, best iteration is:\n",
      "[363]\ttraining's rmse: 0.00043607\ttraining's RMSPE: 0.203765\tvalid_1's rmse: 0.000473137\tvalid_1's RMSPE: 0.217155\n",
      "Training fold 2\n",
      "Training until validation scores don't improve for 25 rounds\n",
      "[100]\ttraining's rmse: 0.000468436\ttraining's RMSPE: 0.217662\tvalid_1's rmse: 0.000477137\tvalid_1's RMSPE: 0.224011\n",
      "[200]\ttraining's rmse: 0.000451397\ttraining's RMSPE: 0.209744\tvalid_1's rmse: 0.000474375\tvalid_1's RMSPE: 0.222714\n",
      "Early stopping, best iteration is:\n",
      "[235]\ttraining's rmse: 0.000447641\ttraining's RMSPE: 0.207999\tvalid_1's rmse: 0.000473793\tvalid_1's RMSPE: 0.222441\n",
      "Training fold 3\n",
      "Training until validation scores don't improve for 25 rounds\n",
      "[100]\ttraining's rmse: 0.000466406\ttraining's RMSPE: 0.216927\tvalid_1's rmse: 0.000491659\tvalid_1's RMSPE: 0.229955\n",
      "[200]\ttraining's rmse: 0.000451457\ttraining's RMSPE: 0.209974\tvalid_1's rmse: 0.000483302\tvalid_1's RMSPE: 0.226046\n",
      "[300]\ttraining's rmse: 0.000441519\ttraining's RMSPE: 0.205352\tvalid_1's rmse: 0.000480191\tvalid_1's RMSPE: 0.224591\n",
      "Early stopping, best iteration is:\n",
      "[318]\ttraining's rmse: 0.000440134\ttraining's RMSPE: 0.204708\tvalid_1's rmse: 0.000479817\tvalid_1's RMSPE: 0.224416\n",
      "Training fold 4\n",
      "Training until validation scores don't improve for 25 rounds\n",
      "[100]\ttraining's rmse: 0.000462046\ttraining's RMSPE: 0.215669\tvalid_1's rmse: 0.000500372\tvalid_1's RMSPE: 0.230683\n",
      "[200]\ttraining's rmse: 0.00044572\ttraining's RMSPE: 0.208049\tvalid_1's rmse: 0.000495892\tvalid_1's RMSPE: 0.228618\n",
      "Early stopping, best iteration is:\n",
      "[257]\ttraining's rmse: 0.000439659\ttraining's RMSPE: 0.20522\tvalid_1's rmse: 0.000495003\tvalid_1's RMSPE: 0.228208\n",
      "Training fold 5\n",
      "Training until validation scores don't improve for 25 rounds\n",
      "[100]\ttraining's rmse: 0.000466732\ttraining's RMSPE: 0.216713\tvalid_1's rmse: 0.000476662\tvalid_1's RMSPE: 0.224417\n",
      "[200]\ttraining's rmse: 0.000450018\ttraining's RMSPE: 0.208952\tvalid_1's rmse: 0.000473878\tvalid_1's RMSPE: 0.223106\n",
      "[300]\ttraining's rmse: 0.000440714\ttraining's RMSPE: 0.204632\tvalid_1's rmse: 0.000472534\tvalid_1's RMSPE: 0.222473\n",
      "Early stopping, best iteration is:\n",
      "[324]\ttraining's rmse: 0.000438945\ttraining's RMSPE: 0.203811\tvalid_1's rmse: 0.00047239\tvalid_1's RMSPE: 0.222405\n",
      "Our out of folds RMSPE is 0.2229535380820962\n"
     ]
    }
   ],
   "source": [
    "models=train_models(train_df10m)"
   ]
  },
  {
   "cell_type": "code",
   "execution_count": 28,
   "id": "a9eb6bb3",
   "metadata": {},
   "outputs": [
    {
     "data": {
      "text/plain": [
       "0.22725182948338465"
      ]
     },
     "execution_count": 28,
     "metadata": {},
     "output_type": "execute_result"
    }
   ],
   "source": [
    "test_pred = np.zeros(len(test_df10m))\n",
    "for model in models:\n",
    "    pred = model.predict(test_df10m.drop(['row_id', 'time_id', 'target'], axis=1)) \n",
    "    test_pred += pred /5\n",
    "\n",
    "baseline_score = rmspe_np(test_df10m.target, test_pred)\n",
    "baseline_score"
   ]
  },
  {
   "cell_type": "markdown",
   "id": "2f2e603c",
   "metadata": {},
   "source": [
    "## LGBM 10m with trained embeddings"
   ]
  },
  {
   "cell_type": "code",
   "execution_count": 55,
   "id": "3e3cbc24",
   "metadata": {},
   "outputs": [],
   "source": [
    "df_with_embs = append_embs(df, categorify, time_embs, stock_embs)"
   ]
  },
  {
   "cell_type": "code",
   "execution_count": 57,
   "id": "79de875f",
   "metadata": {},
   "outputs": [],
   "source": [
    "df_with_embs['5m_pred']= preds5_10"
   ]
  },
  {
   "cell_type": "code",
   "execution_count": 58,
   "id": "12246d03",
   "metadata": {},
   "outputs": [],
   "source": [
    "train_10m_with_embs = df_with_embs[df_with_embs.time_id.isin(train_ids)].reset_index().drop('index',axis=1)\n",
    "test_10m_with_embs = df_with_embs[df_with_embs.time_id.isin(test_ids)].reset_index().drop('index',axis=1)"
   ]
  },
  {
   "cell_type": "code",
   "execution_count": 59,
   "id": "9f1d67d4",
   "metadata": {},
   "outputs": [
    {
     "name": "stdout",
     "output_type": "stream",
     "text": [
      "Training fold 1\n"
     ]
    },
    {
     "name": "stderr",
     "output_type": "stream",
     "text": [
      "/home/slex/programy/anaconda3/envs/fastai/lib/python3.8/site-packages/lightgbm/basic.py:1996: UserWarning: Using categorical_feature in Dataset.\n",
      "  _log_warning('Using categorical_feature in Dataset.')\n",
      "/home/slex/programy/anaconda3/envs/fastai/lib/python3.8/site-packages/lightgbm/basic.py:1727: UserWarning: Overriding the parameters from Reference Dataset.\n",
      "  _log_warning('Overriding the parameters from Reference Dataset.')\n",
      "/home/slex/programy/anaconda3/envs/fastai/lib/python3.8/site-packages/lightgbm/basic.py:1460: UserWarning: categorical_column in param dict is overridden.\n",
      "  _log_warning(f'{cat_alias} in param dict is overridden.')\n"
     ]
    },
    {
     "name": "stdout",
     "output_type": "stream",
     "text": [
      "Training until validation scores don't improve for 25 rounds\n",
      "[100]\ttraining's rmse: 0.000454243\ttraining's RMSPE: 0.212257\tvalid_1's rmse: 0.000478151\tvalid_1's RMSPE: 0.219456\n",
      "Early stopping, best iteration is:\n",
      "[103]\ttraining's rmse: 0.000453011\ttraining's RMSPE: 0.211681\tvalid_1's rmse: 0.000477849\tvalid_1's RMSPE: 0.219318\n",
      "Training fold 2\n",
      "Training until validation scores don't improve for 25 rounds\n",
      "[100]\ttraining's rmse: 0.000456127\ttraining's RMSPE: 0.211942\tvalid_1's rmse: 0.000472861\tvalid_1's RMSPE: 0.222004\n",
      "Early stopping, best iteration is:\n",
      "[154]\ttraining's rmse: 0.000445266\ttraining's RMSPE: 0.206896\tvalid_1's rmse: 0.000470932\tvalid_1's RMSPE: 0.221098\n",
      "Training fold 3\n",
      "Training until validation scores don't improve for 25 rounds\n",
      "[100]\ttraining's rmse: 0.000454934\ttraining's RMSPE: 0.211592\tvalid_1's rmse: 0.000481389\tvalid_1's RMSPE: 0.225152\n",
      "[200]\ttraining's rmse: 0.000436028\ttraining's RMSPE: 0.202798\tvalid_1's rmse: 0.000478015\tvalid_1's RMSPE: 0.223574\n",
      "Early stopping, best iteration is:\n",
      "[234]\ttraining's rmse: 0.000431335\ttraining's RMSPE: 0.200616\tvalid_1's rmse: 0.000477229\tvalid_1's RMSPE: 0.223206\n",
      "Training fold 4\n",
      "Training until validation scores don't improve for 25 rounds\n",
      "[100]\ttraining's rmse: 0.000450811\ttraining's RMSPE: 0.210425\tvalid_1's rmse: 0.000491783\tvalid_1's RMSPE: 0.226723\n",
      "[200]\ttraining's rmse: 0.000431812\ttraining's RMSPE: 0.201557\tvalid_1's rmse: 0.000489513\tvalid_1's RMSPE: 0.225677\n",
      "Early stopping, best iteration is:\n",
      "[217]\ttraining's rmse: 0.00042967\ttraining's RMSPE: 0.200557\tvalid_1's rmse: 0.000489422\tvalid_1's RMSPE: 0.225635\n",
      "Training fold 5\n",
      "Training until validation scores don't improve for 25 rounds\n",
      "[100]\ttraining's rmse: 0.00045567\ttraining's RMSPE: 0.211576\tvalid_1's rmse: 0.000470414\tvalid_1's RMSPE: 0.221475\n",
      "Early stopping, best iteration is:\n",
      "[130]\ttraining's rmse: 0.000448274\ttraining's RMSPE: 0.208143\tvalid_1's rmse: 0.000469897\tvalid_1's RMSPE: 0.221232\n",
      "Our out of folds RMSPE is 0.22210780794216192\n"
     ]
    }
   ],
   "source": [
    "models=train_models(train_10m_with_embs)"
   ]
  },
  {
   "cell_type": "code",
   "execution_count": 60,
   "id": "842a0a03",
   "metadata": {},
   "outputs": [
    {
     "data": {
      "text/plain": [
       "0.2220871482116161"
      ]
     },
     "execution_count": 60,
     "metadata": {},
     "output_type": "execute_result"
    }
   ],
   "source": [
    "test_pred = np.zeros(len(test_10m_with_embs))\n",
    "for model in models:\n",
    "    pred = model.predict(test_10m_with_embs.drop(['row_id', 'time_id', 'target'], axis=1)) \n",
    "    test_pred += pred /5\n",
    "\n",
    "embeds5mpred_score = rmspe_np(test_10m_with_embs.target, test_pred)\n",
    "embeds5mpred_score"
   ]
  },
  {
   "cell_type": "code",
   "execution_count": 61,
   "id": "420da3d4",
   "metadata": {},
   "outputs": [
    {
     "data": {
      "text/plain": [
       "0.02272668732088763"
      ]
     },
     "execution_count": 61,
     "metadata": {},
     "output_type": "execute_result"
    }
   ],
   "source": [
    "(baseline_score-embeds5mpred_score)/ baseline_score"
   ]
  },
  {
   "cell_type": "code",
   "execution_count": 62,
   "id": "45e6b528",
   "metadata": {},
   "outputs": [],
   "source": [
    "# for m in models[:2]:\n",
    "#     lgb.plot_importance(m, max_num_features=20)"
   ]
  },
  {
   "cell_type": "code",
   "execution_count": 63,
   "id": "5a92f082",
   "metadata": {},
   "outputs": [
    {
     "data": {
      "image/png": "[encoded data removed]",
      "text/plain": [
       "<Figure size 432x288 with 1 Axes>"
      ]
     },
     "metadata": {
      "needs_background": "light"
     },
     "output_type": "display_data"
    },
    {
     "data": {
      "image/png": "[encoded data removed]",
      "text/plain": [
       "<Figure size 432x288 with 1 Axes>"
      ]
     },
     "metadata": {
      "needs_background": "light"
     },
     "output_type": "display_data"
    },
    {
     "data": {
      "image/png": "[encoded data removed]",
      "text/plain": [
       "<Figure size 432x288 with 1 Axes>"
      ]
     },
     "metadata": {
      "needs_background": "light"
     },
     "output_type": "display_data"
    }
   ],
   "source": [
    "for m in models[:3]:\n",
    "    lgb.plot_importance(m, max_num_features=20, importance_type='gain')"
   ]
  },
  {
   "cell_type": "markdown",
   "id": "941a49ed",
   "metadata": {},
   "source": [
    "## Train NN"
   ]
  },
  {
   "cell_type": "code",
   "execution_count": 65,
   "id": "b0df3a07",
   "metadata": {},
   "outputs": [],
   "source": [
    "def rmspe(preds, targs):\n",
    "    x = (targs-preds)/targs\n",
    "    return (x**2).mean().sqrt()"
   ]
  },
  {
   "cell_type": "code",
   "execution_count": 88,
   "id": "f02a4672",
   "metadata": {},
   "outputs": [],
   "source": [
    "splits = GroupKFold().split(train_10m_with_embs, groups = train_10m_with_embs.time_id)\n",
    "\n",
    "\n",
    "def train_nn(train_df, test_df, split):\n",
    "    cont_nn,cat_nn = cont_cat_split(train_df, max_card=9000, dep_var='target')\n",
    "    cat_nn = []\n",
    "\n",
    "\n",
    "    procs_nn = [Categorify, FillMissing,Normalize]\n",
    "    dls = TabularPandas(train_df, procs_nn, cat_nn, cont_nn,\n",
    "                          splits=split, y_names='target').dataloaders(1024)\n",
    "\n",
    " \n",
    "\n",
    "    config={'ps':[0.5,0,0], }\n",
    "    learn = tabular_learner(dls, y_range=(0,.1), layers=[200,100,10], \n",
    "                            n_out=1, \n",
    "                            loss_func = rmspe, \n",
    "                            metrics=AccumMetric(rmspe), config=config)\n",
    "\n",
    "    learn.fit_one_cycle(20, 5e-3, wd=.1)\n",
    "    \n",
    "    test_dl = dls.test_dl(test_df)\n",
    "    preds, _ = learn.get_preds(dl=test_dl)\n",
    "    score =rmspe_np(test_10m_with_embs.target, preds.view(-1).numpy())\n",
    "    print(score)\n",
    "    return preds"
   ]
  },
  {
   "cell_type": "code",
   "execution_count": 89,
   "id": "c512fb82",
   "metadata": {},
   "outputs": [
    {
     "data": {
      "text/html": [
       "<table border=\"1\" class=\"dataframe\">\n",
       "  <thead>\n",
       "    <tr style=\"text-align: left;\">\n",
       "      <th>epoch</th>\n",
       "      <th>train_loss</th>\n",
       "      <th>valid_loss</th>\n",
       "      <th>rmspe</th>\n",
       "      <th>time</th>\n",
       "    </tr>\n",
       "  </thead>\n",
       "  <tbody>\n",
       "    <tr>\n",
       "      <td>0</td>\n",
       "      <td>10.185118</td>\n",
       "      <td>8.314651</td>\n",
       "      <td>8.334529</td>\n",
       "      <td>00:01</td>\n",
       "    </tr>\n",
       "    <tr>\n",
       "      <td>1</td>\n",
       "      <td>2.960693</td>\n",
       "      <td>1.580666</td>\n",
       "      <td>1.624444</td>\n",
       "      <td>00:01</td>\n",
       "    </tr>\n",
       "    <tr>\n",
       "      <td>2</td>\n",
       "      <td>0.774967</td>\n",
       "      <td>0.615497</td>\n",
       "      <td>0.742002</td>\n",
       "      <td>00:01</td>\n",
       "    </tr>\n",
       "    <tr>\n",
       "      <td>3</td>\n",
       "      <td>0.415424</td>\n",
       "      <td>0.411628</td>\n",
       "      <td>0.551282</td>\n",
       "      <td>00:01</td>\n",
       "    </tr>\n",
       "    <tr>\n",
       "      <td>4</td>\n",
       "      <td>0.274002</td>\n",
       "      <td>0.240321</td>\n",
       "      <td>0.242221</td>\n",
       "      <td>00:01</td>\n",
       "    </tr>\n",
       "    <tr>\n",
       "      <td>5</td>\n",
       "      <td>0.257618</td>\n",
       "      <td>0.237300</td>\n",
       "      <td>0.239419</td>\n",
       "      <td>00:01</td>\n",
       "    </tr>\n",
       "    <tr>\n",
       "      <td>6</td>\n",
       "      <td>0.289956</td>\n",
       "      <td>0.244574</td>\n",
       "      <td>0.245892</td>\n",
       "      <td>00:01</td>\n",
       "    </tr>\n",
       "    <tr>\n",
       "      <td>7</td>\n",
       "      <td>0.254035</td>\n",
       "      <td>0.226036</td>\n",
       "      <td>0.227543</td>\n",
       "      <td>00:01</td>\n",
       "    </tr>\n",
       "    <tr>\n",
       "      <td>8</td>\n",
       "      <td>0.250584</td>\n",
       "      <td>0.224149</td>\n",
       "      <td>0.225568</td>\n",
       "      <td>00:01</td>\n",
       "    </tr>\n",
       "    <tr>\n",
       "      <td>9</td>\n",
       "      <td>0.238276</td>\n",
       "      <td>0.221137</td>\n",
       "      <td>0.222588</td>\n",
       "      <td>00:01</td>\n",
       "    </tr>\n",
       "    <tr>\n",
       "      <td>10</td>\n",
       "      <td>0.233796</td>\n",
       "      <td>0.222810</td>\n",
       "      <td>0.224129</td>\n",
       "      <td>00:01</td>\n",
       "    </tr>\n",
       "    <tr>\n",
       "      <td>11</td>\n",
       "      <td>0.232769</td>\n",
       "      <td>0.219901</td>\n",
       "      <td>0.221635</td>\n",
       "      <td>00:01</td>\n",
       "    </tr>\n",
       "    <tr>\n",
       "      <td>12</td>\n",
       "      <td>0.228707</td>\n",
       "      <td>0.217241</td>\n",
       "      <td>0.218566</td>\n",
       "      <td>00:01</td>\n",
       "    </tr>\n",
       "    <tr>\n",
       "      <td>13</td>\n",
       "      <td>0.227945</td>\n",
       "      <td>0.217139</td>\n",
       "      <td>0.218467</td>\n",
       "      <td>00:01</td>\n",
       "    </tr>\n",
       "    <tr>\n",
       "      <td>14</td>\n",
       "      <td>0.225376</td>\n",
       "      <td>0.216631</td>\n",
       "      <td>0.217895</td>\n",
       "      <td>00:01</td>\n",
       "    </tr>\n",
       "    <tr>\n",
       "      <td>15</td>\n",
       "      <td>0.224713</td>\n",
       "      <td>0.218101</td>\n",
       "      <td>0.219402</td>\n",
       "      <td>00:01</td>\n",
       "    </tr>\n",
       "    <tr>\n",
       "      <td>16</td>\n",
       "      <td>0.222661</td>\n",
       "      <td>0.217306</td>\n",
       "      <td>0.218600</td>\n",
       "      <td>00:01</td>\n",
       "    </tr>\n",
       "    <tr>\n",
       "      <td>17</td>\n",
       "      <td>0.223650</td>\n",
       "      <td>0.216251</td>\n",
       "      <td>0.217536</td>\n",
       "      <td>00:01</td>\n",
       "    </tr>\n",
       "    <tr>\n",
       "      <td>18</td>\n",
       "      <td>0.221846</td>\n",
       "      <td>0.217668</td>\n",
       "      <td>0.218900</td>\n",
       "      <td>00:01</td>\n",
       "    </tr>\n",
       "    <tr>\n",
       "      <td>19</td>\n",
       "      <td>0.222121</td>\n",
       "      <td>0.215627</td>\n",
       "      <td>0.216918</td>\n",
       "      <td>00:01</td>\n",
       "    </tr>\n",
       "  </tbody>\n",
       "</table>"
      ],
      "text/plain": [
       "<IPython.core.display.HTML object>"
      ]
     },
     "metadata": {},
     "output_type": "display_data"
    },
    {
     "data": {
      "text/html": [],
      "text/plain": [
       "<IPython.core.display.HTML object>"
      ]
     },
     "metadata": {},
     "output_type": "display_data"
    },
    {
     "name": "stdout",
     "output_type": "stream",
     "text": [
      "0.22104294085065046\n"
     ]
    },
    {
     "data": {
      "text/html": [
       "<table border=\"1\" class=\"dataframe\">\n",
       "  <thead>\n",
       "    <tr style=\"text-align: left;\">\n",
       "      <th>epoch</th>\n",
       "      <th>train_loss</th>\n",
       "      <th>valid_loss</th>\n",
       "      <th>rmspe</th>\n",
       "      <th>time</th>\n",
       "    </tr>\n",
       "  </thead>\n",
       "  <tbody>\n",
       "    <tr>\n",
       "      <td>0</td>\n",
       "      <td>10.873946</td>\n",
       "      <td>8.933299</td>\n",
       "      <td>8.952564</td>\n",
       "      <td>00:01</td>\n",
       "    </tr>\n",
       "    <tr>\n",
       "      <td>1</td>\n",
       "      <td>3.342137</td>\n",
       "      <td>1.439348</td>\n",
       "      <td>1.513015</td>\n",
       "      <td>00:01</td>\n",
       "    </tr>\n",
       "    <tr>\n",
       "      <td>2</td>\n",
       "      <td>0.583473</td>\n",
       "      <td>0.459656</td>\n",
       "      <td>0.781451</td>\n",
       "      <td>00:01</td>\n",
       "    </tr>\n",
       "    <tr>\n",
       "      <td>3</td>\n",
       "      <td>0.575315</td>\n",
       "      <td>0.294188</td>\n",
       "      <td>0.313586</td>\n",
       "      <td>00:01</td>\n",
       "    </tr>\n",
       "    <tr>\n",
       "      <td>4</td>\n",
       "      <td>0.286071</td>\n",
       "      <td>0.245506</td>\n",
       "      <td>0.247356</td>\n",
       "      <td>00:01</td>\n",
       "    </tr>\n",
       "    <tr>\n",
       "      <td>5</td>\n",
       "      <td>0.303972</td>\n",
       "      <td>0.261723</td>\n",
       "      <td>0.264037</td>\n",
       "      <td>00:01</td>\n",
       "    </tr>\n",
       "    <tr>\n",
       "      <td>6</td>\n",
       "      <td>0.264755</td>\n",
       "      <td>0.237663</td>\n",
       "      <td>0.240460</td>\n",
       "      <td>00:01</td>\n",
       "    </tr>\n",
       "    <tr>\n",
       "      <td>7</td>\n",
       "      <td>0.253930</td>\n",
       "      <td>0.230945</td>\n",
       "      <td>0.232593</td>\n",
       "      <td>00:01</td>\n",
       "    </tr>\n",
       "    <tr>\n",
       "      <td>8</td>\n",
       "      <td>0.253759</td>\n",
       "      <td>0.230586</td>\n",
       "      <td>0.232584</td>\n",
       "      <td>00:01</td>\n",
       "    </tr>\n",
       "    <tr>\n",
       "      <td>9</td>\n",
       "      <td>0.242753</td>\n",
       "      <td>0.227717</td>\n",
       "      <td>0.229436</td>\n",
       "      <td>00:01</td>\n",
       "    </tr>\n",
       "    <tr>\n",
       "      <td>10</td>\n",
       "      <td>0.236669</td>\n",
       "      <td>0.223663</td>\n",
       "      <td>0.225210</td>\n",
       "      <td>00:01</td>\n",
       "    </tr>\n",
       "    <tr>\n",
       "      <td>11</td>\n",
       "      <td>0.233161</td>\n",
       "      <td>0.222961</td>\n",
       "      <td>0.224680</td>\n",
       "      <td>00:01</td>\n",
       "    </tr>\n",
       "    <tr>\n",
       "      <td>12</td>\n",
       "      <td>0.230867</td>\n",
       "      <td>0.220874</td>\n",
       "      <td>0.222551</td>\n",
       "      <td>00:01</td>\n",
       "    </tr>\n",
       "    <tr>\n",
       "      <td>13</td>\n",
       "      <td>0.227750</td>\n",
       "      <td>0.221322</td>\n",
       "      <td>0.223227</td>\n",
       "      <td>00:01</td>\n",
       "    </tr>\n",
       "    <tr>\n",
       "      <td>14</td>\n",
       "      <td>0.227234</td>\n",
       "      <td>0.219383</td>\n",
       "      <td>0.220923</td>\n",
       "      <td>00:01</td>\n",
       "    </tr>\n",
       "    <tr>\n",
       "      <td>15</td>\n",
       "      <td>0.225276</td>\n",
       "      <td>0.218824</td>\n",
       "      <td>0.220436</td>\n",
       "      <td>00:01</td>\n",
       "    </tr>\n",
       "    <tr>\n",
       "      <td>16</td>\n",
       "      <td>0.222899</td>\n",
       "      <td>0.218298</td>\n",
       "      <td>0.220276</td>\n",
       "      <td>00:01</td>\n",
       "    </tr>\n",
       "    <tr>\n",
       "      <td>17</td>\n",
       "      <td>0.223161</td>\n",
       "      <td>0.217851</td>\n",
       "      <td>0.219925</td>\n",
       "      <td>00:01</td>\n",
       "    </tr>\n",
       "    <tr>\n",
       "      <td>18</td>\n",
       "      <td>0.222711</td>\n",
       "      <td>0.218980</td>\n",
       "      <td>0.220845</td>\n",
       "      <td>00:01</td>\n",
       "    </tr>\n",
       "    <tr>\n",
       "      <td>19</td>\n",
       "      <td>0.222107</td>\n",
       "      <td>0.217831</td>\n",
       "      <td>0.219670</td>\n",
       "      <td>00:01</td>\n",
       "    </tr>\n",
       "  </tbody>\n",
       "</table>"
      ],
      "text/plain": [
       "<IPython.core.display.HTML object>"
      ]
     },
     "metadata": {},
     "output_type": "display_data"
    },
    {
     "data": {
      "text/html": [],
      "text/plain": [
       "<IPython.core.display.HTML object>"
      ]
     },
     "metadata": {},
     "output_type": "display_data"
    },
    {
     "name": "stdout",
     "output_type": "stream",
     "text": [
      "0.22138321130480737\n"
     ]
    },
    {
     "data": {
      "text/html": [
       "<table border=\"1\" class=\"dataframe\">\n",
       "  <thead>\n",
       "    <tr style=\"text-align: left;\">\n",
       "      <th>epoch</th>\n",
       "      <th>train_loss</th>\n",
       "      <th>valid_loss</th>\n",
       "      <th>rmspe</th>\n",
       "      <th>time</th>\n",
       "    </tr>\n",
       "  </thead>\n",
       "  <tbody>\n",
       "    <tr>\n",
       "      <td>0</td>\n",
       "      <td>10.530907</td>\n",
       "      <td>8.162070</td>\n",
       "      <td>8.221661</td>\n",
       "      <td>00:01</td>\n",
       "    </tr>\n",
       "    <tr>\n",
       "      <td>1</td>\n",
       "      <td>3.129771</td>\n",
       "      <td>1.242875</td>\n",
       "      <td>1.284130</td>\n",
       "      <td>00:01</td>\n",
       "    </tr>\n",
       "    <tr>\n",
       "      <td>2</td>\n",
       "      <td>0.799717</td>\n",
       "      <td>0.687735</td>\n",
       "      <td>1.925367</td>\n",
       "      <td>00:01</td>\n",
       "    </tr>\n",
       "    <tr>\n",
       "      <td>3</td>\n",
       "      <td>0.935807</td>\n",
       "      <td>0.497127</td>\n",
       "      <td>1.696482</td>\n",
       "      <td>00:01</td>\n",
       "    </tr>\n",
       "    <tr>\n",
       "      <td>4</td>\n",
       "      <td>0.288607</td>\n",
       "      <td>0.237926</td>\n",
       "      <td>0.240739</td>\n",
       "      <td>00:01</td>\n",
       "    </tr>\n",
       "    <tr>\n",
       "      <td>5</td>\n",
       "      <td>0.259324</td>\n",
       "      <td>0.239487</td>\n",
       "      <td>0.242286</td>\n",
       "      <td>00:01</td>\n",
       "    </tr>\n",
       "    <tr>\n",
       "      <td>6</td>\n",
       "      <td>0.260051</td>\n",
       "      <td>0.240427</td>\n",
       "      <td>0.242291</td>\n",
       "      <td>00:01</td>\n",
       "    </tr>\n",
       "    <tr>\n",
       "      <td>7</td>\n",
       "      <td>0.253994</td>\n",
       "      <td>0.233943</td>\n",
       "      <td>0.235851</td>\n",
       "      <td>00:01</td>\n",
       "    </tr>\n",
       "    <tr>\n",
       "      <td>8</td>\n",
       "      <td>0.253734</td>\n",
       "      <td>0.235911</td>\n",
       "      <td>0.237853</td>\n",
       "      <td>00:01</td>\n",
       "    </tr>\n",
       "    <tr>\n",
       "      <td>9</td>\n",
       "      <td>0.253694</td>\n",
       "      <td>0.231948</td>\n",
       "      <td>0.234507</td>\n",
       "      <td>00:01</td>\n",
       "    </tr>\n",
       "    <tr>\n",
       "      <td>10</td>\n",
       "      <td>0.239724</td>\n",
       "      <td>0.228112</td>\n",
       "      <td>0.230173</td>\n",
       "      <td>00:01</td>\n",
       "    </tr>\n",
       "    <tr>\n",
       "      <td>11</td>\n",
       "      <td>0.235632</td>\n",
       "      <td>0.226618</td>\n",
       "      <td>0.228311</td>\n",
       "      <td>00:01</td>\n",
       "    </tr>\n",
       "    <tr>\n",
       "      <td>12</td>\n",
       "      <td>0.234481</td>\n",
       "      <td>0.228222</td>\n",
       "      <td>0.229916</td>\n",
       "      <td>00:01</td>\n",
       "    </tr>\n",
       "    <tr>\n",
       "      <td>13</td>\n",
       "      <td>0.231030</td>\n",
       "      <td>0.227666</td>\n",
       "      <td>0.229833</td>\n",
       "      <td>00:01</td>\n",
       "    </tr>\n",
       "    <tr>\n",
       "      <td>14</td>\n",
       "      <td>0.230805</td>\n",
       "      <td>0.225766</td>\n",
       "      <td>0.227814</td>\n",
       "      <td>00:01</td>\n",
       "    </tr>\n",
       "    <tr>\n",
       "      <td>15</td>\n",
       "      <td>0.230410</td>\n",
       "      <td>0.224362</td>\n",
       "      <td>0.226344</td>\n",
       "      <td>00:01</td>\n",
       "    </tr>\n",
       "    <tr>\n",
       "      <td>16</td>\n",
       "      <td>0.230861</td>\n",
       "      <td>0.224562</td>\n",
       "      <td>0.226533</td>\n",
       "      <td>00:01</td>\n",
       "    </tr>\n",
       "    <tr>\n",
       "      <td>17</td>\n",
       "      <td>0.228844</td>\n",
       "      <td>0.224448</td>\n",
       "      <td>0.226390</td>\n",
       "      <td>00:01</td>\n",
       "    </tr>\n",
       "    <tr>\n",
       "      <td>18</td>\n",
       "      <td>0.229000</td>\n",
       "      <td>0.223672</td>\n",
       "      <td>0.225673</td>\n",
       "      <td>00:01</td>\n",
       "    </tr>\n",
       "    <tr>\n",
       "      <td>19</td>\n",
       "      <td>0.226650</td>\n",
       "      <td>0.223793</td>\n",
       "      <td>0.225714</td>\n",
       "      <td>00:01</td>\n",
       "    </tr>\n",
       "  </tbody>\n",
       "</table>"
      ],
      "text/plain": [
       "<IPython.core.display.HTML object>"
      ]
     },
     "metadata": {},
     "output_type": "display_data"
    },
    {
     "data": {
      "text/html": [],
      "text/plain": [
       "<IPython.core.display.HTML object>"
      ]
     },
     "metadata": {},
     "output_type": "display_data"
    },
    {
     "name": "stdout",
     "output_type": "stream",
     "text": [
      "0.2224861316696845\n"
     ]
    },
    {
     "data": {
      "text/html": [
       "<table border=\"1\" class=\"dataframe\">\n",
       "  <thead>\n",
       "    <tr style=\"text-align: left;\">\n",
       "      <th>epoch</th>\n",
       "      <th>train_loss</th>\n",
       "      <th>valid_loss</th>\n",
       "      <th>rmspe</th>\n",
       "      <th>time</th>\n",
       "    </tr>\n",
       "  </thead>\n",
       "  <tbody>\n",
       "    <tr>\n",
       "      <td>0</td>\n",
       "      <td>10.658699</td>\n",
       "      <td>9.317251</td>\n",
       "      <td>9.332030</td>\n",
       "      <td>00:01</td>\n",
       "    </tr>\n",
       "    <tr>\n",
       "      <td>1</td>\n",
       "      <td>3.259699</td>\n",
       "      <td>1.566521</td>\n",
       "      <td>1.587735</td>\n",
       "      <td>00:01</td>\n",
       "    </tr>\n",
       "    <tr>\n",
       "      <td>2</td>\n",
       "      <td>0.642955</td>\n",
       "      <td>0.469729</td>\n",
       "      <td>0.565833</td>\n",
       "      <td>00:01</td>\n",
       "    </tr>\n",
       "    <tr>\n",
       "      <td>3</td>\n",
       "      <td>0.650326</td>\n",
       "      <td>0.314732</td>\n",
       "      <td>0.358313</td>\n",
       "      <td>00:01</td>\n",
       "    </tr>\n",
       "    <tr>\n",
       "      <td>4</td>\n",
       "      <td>0.290979</td>\n",
       "      <td>0.246502</td>\n",
       "      <td>0.248760</td>\n",
       "      <td>00:01</td>\n",
       "    </tr>\n",
       "    <tr>\n",
       "      <td>5</td>\n",
       "      <td>0.271867</td>\n",
       "      <td>0.242158</td>\n",
       "      <td>0.244951</td>\n",
       "      <td>00:01</td>\n",
       "    </tr>\n",
       "    <tr>\n",
       "      <td>6</td>\n",
       "      <td>0.248432</td>\n",
       "      <td>0.241827</td>\n",
       "      <td>0.243909</td>\n",
       "      <td>00:01</td>\n",
       "    </tr>\n",
       "    <tr>\n",
       "      <td>7</td>\n",
       "      <td>0.244929</td>\n",
       "      <td>0.231868</td>\n",
       "      <td>0.233784</td>\n",
       "      <td>00:01</td>\n",
       "    </tr>\n",
       "    <tr>\n",
       "      <td>8</td>\n",
       "      <td>0.259270</td>\n",
       "      <td>0.233380</td>\n",
       "      <td>0.235699</td>\n",
       "      <td>00:01</td>\n",
       "    </tr>\n",
       "    <tr>\n",
       "      <td>9</td>\n",
       "      <td>0.265920</td>\n",
       "      <td>0.235263</td>\n",
       "      <td>0.237316</td>\n",
       "      <td>00:01</td>\n",
       "    </tr>\n",
       "    <tr>\n",
       "      <td>10</td>\n",
       "      <td>0.239109</td>\n",
       "      <td>0.230390</td>\n",
       "      <td>0.231874</td>\n",
       "      <td>00:01</td>\n",
       "    </tr>\n",
       "    <tr>\n",
       "      <td>11</td>\n",
       "      <td>0.234737</td>\n",
       "      <td>0.227537</td>\n",
       "      <td>0.228813</td>\n",
       "      <td>00:01</td>\n",
       "    </tr>\n",
       "    <tr>\n",
       "      <td>12</td>\n",
       "      <td>0.236199</td>\n",
       "      <td>0.228505</td>\n",
       "      <td>0.229737</td>\n",
       "      <td>00:01</td>\n",
       "    </tr>\n",
       "    <tr>\n",
       "      <td>13</td>\n",
       "      <td>0.237242</td>\n",
       "      <td>0.241682</td>\n",
       "      <td>0.264135</td>\n",
       "      <td>00:01</td>\n",
       "    </tr>\n",
       "    <tr>\n",
       "      <td>14</td>\n",
       "      <td>0.230555</td>\n",
       "      <td>0.226112</td>\n",
       "      <td>0.227364</td>\n",
       "      <td>00:01</td>\n",
       "    </tr>\n",
       "    <tr>\n",
       "      <td>15</td>\n",
       "      <td>0.229153</td>\n",
       "      <td>0.226212</td>\n",
       "      <td>0.227531</td>\n",
       "      <td>00:01</td>\n",
       "    </tr>\n",
       "    <tr>\n",
       "      <td>16</td>\n",
       "      <td>0.227047</td>\n",
       "      <td>0.237623</td>\n",
       "      <td>0.260652</td>\n",
       "      <td>00:01</td>\n",
       "    </tr>\n",
       "    <tr>\n",
       "      <td>17</td>\n",
       "      <td>0.226533</td>\n",
       "      <td>0.224518</td>\n",
       "      <td>0.225733</td>\n",
       "      <td>00:01</td>\n",
       "    </tr>\n",
       "    <tr>\n",
       "      <td>18</td>\n",
       "      <td>0.226672</td>\n",
       "      <td>0.224355</td>\n",
       "      <td>0.225584</td>\n",
       "      <td>00:01</td>\n",
       "    </tr>\n",
       "    <tr>\n",
       "      <td>19</td>\n",
       "      <td>0.225119</td>\n",
       "      <td>0.224367</td>\n",
       "      <td>0.225581</td>\n",
       "      <td>00:01</td>\n",
       "    </tr>\n",
       "  </tbody>\n",
       "</table>"
      ],
      "text/plain": [
       "<IPython.core.display.HTML object>"
      ]
     },
     "metadata": {},
     "output_type": "display_data"
    },
    {
     "data": {
      "text/html": [],
      "text/plain": [
       "<IPython.core.display.HTML object>"
      ]
     },
     "metadata": {},
     "output_type": "display_data"
    },
    {
     "name": "stdout",
     "output_type": "stream",
     "text": [
      "0.22160593482608262\n"
     ]
    },
    {
     "data": {
      "text/html": [
       "<table border=\"1\" class=\"dataframe\">\n",
       "  <thead>\n",
       "    <tr style=\"text-align: left;\">\n",
       "      <th>epoch</th>\n",
       "      <th>train_loss</th>\n",
       "      <th>valid_loss</th>\n",
       "      <th>rmspe</th>\n",
       "      <th>time</th>\n",
       "    </tr>\n",
       "  </thead>\n",
       "  <tbody>\n",
       "    <tr>\n",
       "      <td>0</td>\n",
       "      <td>11.317140</td>\n",
       "      <td>9.128738</td>\n",
       "      <td>9.155679</td>\n",
       "      <td>00:01</td>\n",
       "    </tr>\n",
       "    <tr>\n",
       "      <td>1</td>\n",
       "      <td>3.450321</td>\n",
       "      <td>1.438998</td>\n",
       "      <td>1.499879</td>\n",
       "      <td>00:01</td>\n",
       "    </tr>\n",
       "    <tr>\n",
       "      <td>2</td>\n",
       "      <td>0.662181</td>\n",
       "      <td>0.546971</td>\n",
       "      <td>0.554993</td>\n",
       "      <td>00:01</td>\n",
       "    </tr>\n",
       "    <tr>\n",
       "      <td>3</td>\n",
       "      <td>0.421047</td>\n",
       "      <td>0.437945</td>\n",
       "      <td>1.001051</td>\n",
       "      <td>00:01</td>\n",
       "    </tr>\n",
       "    <tr>\n",
       "      <td>4</td>\n",
       "      <td>0.381662</td>\n",
       "      <td>0.252461</td>\n",
       "      <td>0.254258</td>\n",
       "      <td>00:01</td>\n",
       "    </tr>\n",
       "    <tr>\n",
       "      <td>5</td>\n",
       "      <td>0.283022</td>\n",
       "      <td>0.243664</td>\n",
       "      <td>0.245126</td>\n",
       "      <td>00:01</td>\n",
       "    </tr>\n",
       "    <tr>\n",
       "      <td>6</td>\n",
       "      <td>0.264039</td>\n",
       "      <td>0.241106</td>\n",
       "      <td>0.242199</td>\n",
       "      <td>00:01</td>\n",
       "    </tr>\n",
       "    <tr>\n",
       "      <td>7</td>\n",
       "      <td>0.253135</td>\n",
       "      <td>0.229780</td>\n",
       "      <td>0.231138</td>\n",
       "      <td>00:01</td>\n",
       "    </tr>\n",
       "    <tr>\n",
       "      <td>8</td>\n",
       "      <td>0.244488</td>\n",
       "      <td>0.229006</td>\n",
       "      <td>0.230141</td>\n",
       "      <td>00:01</td>\n",
       "    </tr>\n",
       "    <tr>\n",
       "      <td>9</td>\n",
       "      <td>0.239398</td>\n",
       "      <td>0.234541</td>\n",
       "      <td>0.235486</td>\n",
       "      <td>00:01</td>\n",
       "    </tr>\n",
       "    <tr>\n",
       "      <td>10</td>\n",
       "      <td>0.234037</td>\n",
       "      <td>0.236041</td>\n",
       "      <td>0.239629</td>\n",
       "      <td>00:01</td>\n",
       "    </tr>\n",
       "    <tr>\n",
       "      <td>11</td>\n",
       "      <td>0.230354</td>\n",
       "      <td>0.222253</td>\n",
       "      <td>0.223489</td>\n",
       "      <td>00:01</td>\n",
       "    </tr>\n",
       "    <tr>\n",
       "      <td>12</td>\n",
       "      <td>0.230755</td>\n",
       "      <td>0.242515</td>\n",
       "      <td>0.245629</td>\n",
       "      <td>00:01</td>\n",
       "    </tr>\n",
       "    <tr>\n",
       "      <td>13</td>\n",
       "      <td>0.226322</td>\n",
       "      <td>0.225156</td>\n",
       "      <td>0.226396</td>\n",
       "      <td>00:01</td>\n",
       "    </tr>\n",
       "    <tr>\n",
       "      <td>14</td>\n",
       "      <td>0.226075</td>\n",
       "      <td>0.219712</td>\n",
       "      <td>0.220902</td>\n",
       "      <td>00:01</td>\n",
       "    </tr>\n",
       "    <tr>\n",
       "      <td>15</td>\n",
       "      <td>0.223352</td>\n",
       "      <td>0.220669</td>\n",
       "      <td>0.221849</td>\n",
       "      <td>00:01</td>\n",
       "    </tr>\n",
       "    <tr>\n",
       "      <td>16</td>\n",
       "      <td>0.224443</td>\n",
       "      <td>0.220215</td>\n",
       "      <td>0.221391</td>\n",
       "      <td>00:01</td>\n",
       "    </tr>\n",
       "    <tr>\n",
       "      <td>17</td>\n",
       "      <td>0.221989</td>\n",
       "      <td>0.219936</td>\n",
       "      <td>0.221128</td>\n",
       "      <td>00:01</td>\n",
       "    </tr>\n",
       "    <tr>\n",
       "      <td>18</td>\n",
       "      <td>0.223799</td>\n",
       "      <td>0.219851</td>\n",
       "      <td>0.221077</td>\n",
       "      <td>00:01</td>\n",
       "    </tr>\n",
       "    <tr>\n",
       "      <td>19</td>\n",
       "      <td>0.223039</td>\n",
       "      <td>0.219935</td>\n",
       "      <td>0.221143</td>\n",
       "      <td>00:01</td>\n",
       "    </tr>\n",
       "  </tbody>\n",
       "</table>"
      ],
      "text/plain": [
       "<IPython.core.display.HTML object>"
      ]
     },
     "metadata": {},
     "output_type": "display_data"
    },
    {
     "data": {
      "text/html": [],
      "text/plain": [
       "<IPython.core.display.HTML object>"
      ]
     },
     "metadata": {},
     "output_type": "display_data"
    },
    {
     "name": "stdout",
     "output_type": "stream",
     "text": [
      "0.2206071408251694\n"
     ]
    }
   ],
   "source": [
    "preds=[]\n",
    "for trn_idx, val_idx in splits:\n",
    "    p = train_nn(train_10m_with_embs, test_10m_with_embs, [list(trn_idx), list(val_idx)])\n",
    "    preds.append(p)"
   ]
  },
  {
   "cell_type": "code",
   "execution_count": 90,
   "id": "544333d2",
   "metadata": {},
   "outputs": [
    {
     "data": {
      "text/plain": [
       "(0.21994776928969995, 0.03214082020940887)"
      ]
     },
     "execution_count": 90,
     "metadata": {},
     "output_type": "execute_result"
    }
   ],
   "source": [
    "score = rmspe_np(test_10m_with_embs.target,torch.cat(preds, dim=1).mean(dim=1).numpy())\n",
    "\n",
    "score, (baseline_score-score)/ baseline_score"
   ]
  },
  {
   "cell_type": "code",
   "execution_count": 91,
   "id": "7d1fac8d",
   "metadata": {},
   "outputs": [
    {
     "data": {
      "text/plain": [
       "(0.22031750897093885, 0.03051381600847706)"
      ]
     },
     "execution_count": 91,
     "metadata": {},
     "output_type": "execute_result"
    }
   ],
   "source": [
    "score = rmspe_np(test_10m_with_embs.target,torch.cat(preds, dim=1).median(dim=1)[0].numpy())\n",
    "\n",
    "score, (baseline_score-score)/ baseline_score"
   ]
  },
  {
   "cell_type": "code",
   "execution_count": null,
   "id": "e04dd145",
   "metadata": {},
   "outputs": [],
   "source": []
  },
  {
   "cell_type": "code",
   "execution_count": null,
   "id": "e7af0079",
   "metadata": {},
   "outputs": [],
   "source": []
  }
 ],
 "metadata": {
  "kernelspec": {
   "display_name": "Python 3.8.5 64-bit ('fastai': conda)",
   "language": "python",
   "name": "python38564bitfastaicondad52d12c5a30a4725bf9d3e235cf1271c"
  },
  "language_info": {
   "codemirror_mode": {
    "name": "ipython",
    "version": 3
   },
   "file_extension": ".py",
   "mimetype": "text/x-python",
   "name": "python",
   "nbconvert_exporter": "python",
   "pygments_lexer": "ipython3",
   "version": "3.8.2"
  }
 },
 "nbformat": 4,
 "nbformat_minor": 5
}
