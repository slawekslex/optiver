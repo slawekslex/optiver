{
 "cells": [
  {
   "cell_type": "code",
   "execution_count": 2,
   "id": "everyday-duncan",
   "metadata": {},
   "outputs": [],
   "source": [
    "from fastai.vision.all import *\n",
    "import tqdm"
   ]
  },
  {
   "cell_type": "code",
   "execution_count": 3,
   "id": "thrown-fiber",
   "metadata": {},
   "outputs": [],
   "source": [
    "from sklearn.metrics import r2_score"
   ]
  },
  {
   "cell_type": "code",
   "execution_count": 4,
   "id": "radical-blake",
   "metadata": {},
   "outputs": [],
   "source": [
    "PATH = Path('../input/optiver-realized-volatility-prediction')"
   ]
  },
  {
   "cell_type": "code",
   "execution_count": 5,
   "id": "protected-choir",
   "metadata": {},
   "outputs": [],
   "source": [
    "data_df = pd.read_parquet(PATH/'book_train_reindexed.parquet')"
   ]
  },
  {
   "cell_type": "code",
   "execution_count": 6,
   "id": "tender-record",
   "metadata": {},
   "outputs": [],
   "source": [
    "sizes = ['bid_size1', 'bid_size2', 'ask_size1', 'ask_size2']\n",
    "for sz in sizes:\n",
    "    data_df[sz] = data_df[sz]/ 1_000_000"
   ]
  },
  {
   "cell_type": "code",
   "execution_count": 7,
   "id": "indonesian-diamond",
   "metadata": {},
   "outputs": [],
   "source": [
    "train_df = pd.read_csv(PATH/'train_with_offset.csv')"
   ]
  },
  {
   "cell_type": "code",
   "execution_count": 8,
   "id": "superior-thickness",
   "metadata": {},
   "outputs": [],
   "source": [
    "#train_df['is_valid'] = train_df.time_id > 26000"
   ]
  },
  {
   "cell_type": "code",
   "execution_count": 9,
   "id": "indoor-istanbul",
   "metadata": {},
   "outputs": [],
   "source": [
    "# res =[]\n",
    "# for idx in range(0,len(data_df), 600):\n",
    "#     res.append((data_df.stock_id[idx], data_df.time_id[idx]))\n",
    "\n",
    "# train_df['offset']=np.zeros(len(train_df))\n",
    "\n",
    "# for idx, (stock_id, time_id) in tqdm.tqdm(enumerate(res)):\n",
    "#         train_df.loc[(train_df.stock_id ==stock_id)&(train_df.time_id==time_id), 'offset']=600*idx"
   ]
  },
  {
   "cell_type": "code",
   "execution_count": 10,
   "id": "upset-winter",
   "metadata": {},
   "outputs": [],
   "source": [
    "# for row in tqdm.tqdm(train_df.itertuples()):\n",
    "#         idx = row.offset\n",
    "#         assert data_df.stock_id[idx] == row.stock_id\n",
    "#         assert data_df.time_id[idx] == row.time_id\n",
    "#         assert data_df.seconds_in_bucket[idx] == 0"
   ]
  },
  {
   "cell_type": "code",
   "execution_count": 11,
   "id": "wrong-cleaner",
   "metadata": {},
   "outputs": [],
   "source": [
    "#train_df.to_csv(PATH/'train_with_offset.csv')"
   ]
  },
  {
   "cell_type": "code",
   "execution_count": 12,
   "id": "social-occasion",
   "metadata": {},
   "outputs": [],
   "source": [
    "class LoadTransform(Transform):\n",
    "    def __init__(self, data_df):\n",
    "        super().__init__()\n",
    "        self.data = data_df\n",
    "        \n",
    "    def encodes(self, row):\n",
    "        df = self.data.iloc[row.offset:row.offset+600]\n",
    "        ret = df[['bid_price1', 'ask_price1', 'bid_size1', 'ask_size1','bid_price2', 'ask_price2', 'bid_size2', 'ask_size2']].to_numpy()\n",
    "        ret = ret.reshape(1,600,8).astype('float32')\n",
    "        return ret"
   ]
  },
  {
   "cell_type": "code",
   "execution_count": 13,
   "id": "oriented-paradise",
   "metadata": {},
   "outputs": [],
   "source": [
    "tfm = LoadTransform(data_df)\n",
    "\n",
    "data_block = DataBlock(\n",
    "        blocks = (TransformBlock(type_tfms=tfm), \n",
    "                  RegressionBlock()),\n",
    "        splitter=ColSplitter(),\n",
    "        get_y=ColReader('target'),\n",
    ")\n",
    "dls = data_block.dataloaders(train_df, bs=128)"
   ]
  },
  {
   "cell_type": "code",
   "execution_count": 14,
   "id": "coupled-vocabulary",
   "metadata": {},
   "outputs": [
    {
     "data": {
      "text/plain": [
       "(torch.Size([128, 1, 600, 8]), torch.Size([128]))"
      ]
     },
     "execution_count": 14,
     "metadata": {},
     "output_type": "execute_result"
    }
   ],
   "source": [
    "bx,by = dls.valid.one_batch()\n",
    "bx.shape, by.shape"
   ]
  },
  {
   "cell_type": "code",
   "execution_count": 15,
   "id": "played-corporation",
   "metadata": {},
   "outputs": [],
   "source": [
    "def rmspe(preds, targs):\n",
    "    x = (targs-preds)/targs\n",
    "    return (x**2).mean().sqrt()"
   ]
  },
  {
   "cell_type": "code",
   "execution_count": 23,
   "id": "complex-superior",
   "metadata": {},
   "outputs": [],
   "source": [
    "def mspe_loss(preds, targs):\n",
    "    x = (targs-preds)/targs\n",
    "    return (x**2).mean()"
   ]
  },
  {
   "cell_type": "code",
   "execution_count": 26,
   "id": "negative-harvest",
   "metadata": {},
   "outputs": [],
   "source": [
    "def rmspe_loss(preds, targs):\n",
    "    x = (targs-preds)/targs\n",
    "    return (x**2).mean().sqrt()"
   ]
  },
  {
   "cell_type": "code",
   "execution_count": 32,
   "id": "agreed-clark",
   "metadata": {},
   "outputs": [],
   "source": [
    "learn = cnn_learner(dls, resnet18, n_in=1,loss_func=mspe_loss, metrics=AccumMetric(rmspe))"
   ]
  },
  {
   "cell_type": "code",
   "execution_count": 33,
   "id": "treated-desire",
   "metadata": {},
   "outputs": [
    {
     "data": {
      "text/html": [],
      "text/plain": [
       "<IPython.core.display.HTML object>"
      ]
     },
     "metadata": {},
     "output_type": "display_data"
    },
    {
     "data": {
      "text/plain": [
       "SuggestedLRs(lr_min=7.585775847473997e-08, lr_steep=2.75422871709452e-06)"
      ]
     },
     "execution_count": 33,
     "metadata": {},
     "output_type": "execute_result"
    },
    {
     "data": {
      "image/png": "[encoded data removed]",
      "text/plain": [
       "<Figure size 432x288 with 1 Axes>"
      ]
     },
     "metadata": {
      "needs_background": "light"
     },
     "output_type": "display_data"
    }
   ],
   "source": [
    "learn.lr_find()"
   ]
  },
  {
   "cell_type": "code",
   "execution_count": 34,
   "id": "australian-rescue",
   "metadata": {},
   "outputs": [
    {
     "data": {
      "text/html": [
       "<table border=\"1\" class=\"dataframe\">\n",
       "  <thead>\n",
       "    <tr style=\"text-align: left;\">\n",
       "      <th>epoch</th>\n",
       "      <th>train_loss</th>\n",
       "      <th>valid_loss</th>\n",
       "      <th>rmspe</th>\n",
       "      <th>time</th>\n",
       "    </tr>\n",
       "  </thead>\n",
       "  <tbody>\n",
       "    <tr>\n",
       "      <td>0</td>\n",
       "      <td>429709.781250</td>\n",
       "      <td>81020.750000</td>\n",
       "      <td>317.900574</td>\n",
       "      <td>01:14</td>\n",
       "    </tr>\n",
       "    <tr>\n",
       "      <td>1</td>\n",
       "      <td>128987.875000</td>\n",
       "      <td>34467.316406</td>\n",
       "      <td>187.435303</td>\n",
       "      <td>01:15</td>\n",
       "    </tr>\n",
       "    <tr>\n",
       "      <td>2</td>\n",
       "      <td>28242.664062</td>\n",
       "      <td>6336.437012</td>\n",
       "      <td>95.127190</td>\n",
       "      <td>01:15</td>\n",
       "    </tr>\n",
       "    <tr>\n",
       "      <td>3</td>\n",
       "      <td>2146.683105</td>\n",
       "      <td>387.128021</td>\n",
       "      <td>37.251198</td>\n",
       "      <td>01:15</td>\n",
       "    </tr>\n",
       "    <tr>\n",
       "      <td>4</td>\n",
       "      <td>12.213590</td>\n",
       "      <td>58.134251</td>\n",
       "      <td>11.058969</td>\n",
       "      <td>01:15</td>\n",
       "    </tr>\n",
       "    <tr>\n",
       "      <td>5</td>\n",
       "      <td>5.590817</td>\n",
       "      <td>7.937796</td>\n",
       "      <td>3.940734</td>\n",
       "      <td>01:15</td>\n",
       "    </tr>\n",
       "    <tr>\n",
       "      <td>6</td>\n",
       "      <td>2.991205</td>\n",
       "      <td>27.254568</td>\n",
       "      <td>6.820211</td>\n",
       "      <td>01:18</td>\n",
       "    </tr>\n",
       "    <tr>\n",
       "      <td>7</td>\n",
       "      <td>0.941116</td>\n",
       "      <td>2.026478</td>\n",
       "      <td>1.833066</td>\n",
       "      <td>01:16</td>\n",
       "    </tr>\n",
       "    <tr>\n",
       "      <td>8</td>\n",
       "      <td>0.513743</td>\n",
       "      <td>1.262901</td>\n",
       "      <td>1.607224</td>\n",
       "      <td>01:17</td>\n",
       "    </tr>\n",
       "    <tr>\n",
       "      <td>9</td>\n",
       "      <td>0.422651</td>\n",
       "      <td>0.344560</td>\n",
       "      <td>0.618420</td>\n",
       "      <td>01:16</td>\n",
       "    </tr>\n",
       "  </tbody>\n",
       "</table>"
      ],
      "text/plain": [
       "<IPython.core.display.HTML object>"
      ]
     },
     "metadata": {},
     "output_type": "display_data"
    }
   ],
   "source": [
    "learn.fit_one_cycle(10,1e-4)"
   ]
  },
  {
   "cell_type": "code",
   "execution_count": 35,
   "id": "sixth-metabolism",
   "metadata": {},
   "outputs": [
    {
     "data": {
      "text/html": [
       "<table border=\"1\" class=\"dataframe\">\n",
       "  <thead>\n",
       "    <tr style=\"text-align: left;\">\n",
       "      <th>epoch</th>\n",
       "      <th>train_loss</th>\n",
       "      <th>valid_loss</th>\n",
       "      <th>rmspe</th>\n",
       "      <th>time</th>\n",
       "    </tr>\n",
       "  </thead>\n",
       "  <tbody>\n",
       "    <tr>\n",
       "      <td>0</td>\n",
       "      <td>0.484182</td>\n",
       "      <td>0.386933</td>\n",
       "      <td>0.612973</td>\n",
       "      <td>01:15</td>\n",
       "    </tr>\n",
       "    <tr>\n",
       "      <td>1</td>\n",
       "      <td>0.575258</td>\n",
       "      <td>0.812492</td>\n",
       "      <td>1.148499</td>\n",
       "      <td>01:16</td>\n",
       "    </tr>\n",
       "    <tr>\n",
       "      <td>2</td>\n",
       "      <td>0.561034</td>\n",
       "      <td>0.605241</td>\n",
       "      <td>0.891474</td>\n",
       "      <td>01:16</td>\n",
       "    </tr>\n",
       "    <tr>\n",
       "      <td>3</td>\n",
       "      <td>0.533547</td>\n",
       "      <td>0.474565</td>\n",
       "      <td>0.863392</td>\n",
       "      <td>01:17</td>\n",
       "    </tr>\n",
       "    <tr>\n",
       "      <td>4</td>\n",
       "      <td>0.508734</td>\n",
       "      <td>0.370634</td>\n",
       "      <td>0.618486</td>\n",
       "      <td>01:18</td>\n",
       "    </tr>\n",
       "    <tr>\n",
       "      <td>5</td>\n",
       "      <td>0.443282</td>\n",
       "      <td>0.542984</td>\n",
       "      <td>0.897660</td>\n",
       "      <td>01:15</td>\n",
       "    </tr>\n",
       "    <tr>\n",
       "      <td>6</td>\n",
       "      <td>0.399356</td>\n",
       "      <td>0.316126</td>\n",
       "      <td>0.559870</td>\n",
       "      <td>01:18</td>\n",
       "    </tr>\n",
       "    <tr>\n",
       "      <td>7</td>\n",
       "      <td>0.386280</td>\n",
       "      <td>0.342552</td>\n",
       "      <td>0.605412</td>\n",
       "      <td>01:17</td>\n",
       "    </tr>\n",
       "    <tr>\n",
       "      <td>8</td>\n",
       "      <td>0.346077</td>\n",
       "      <td>0.340133</td>\n",
       "      <td>0.603396</td>\n",
       "      <td>01:15</td>\n",
       "    </tr>\n",
       "    <tr>\n",
       "      <td>9</td>\n",
       "      <td>0.356969</td>\n",
       "      <td>0.315386</td>\n",
       "      <td>0.565863</td>\n",
       "      <td>01:17</td>\n",
       "    </tr>\n",
       "  </tbody>\n",
       "</table>"
      ],
      "text/plain": [
       "<IPython.core.display.HTML object>"
      ]
     },
     "metadata": {},
     "output_type": "display_data"
    }
   ],
   "source": [
    "learn.fit_one_cycle(10,1e-5)"
   ]
  },
  {
   "cell_type": "code",
   "execution_count": null,
   "id": "tropical-fiction",
   "metadata": {},
   "outputs": [
    {
     "data": {
      "text/html": [
       "\n",
       "    <div>\n",
       "        <style>\n",
       "            /* Turns off some styling */\n",
       "            progress {\n",
       "                /* gets rid of default border in Firefox and Opera. */\n",
       "                border: none;\n",
       "                /* Needs to be in here for Safari polyfill so background images work as expected. */\n",
       "                background-size: auto;\n",
       "            }\n",
       "            .progress-bar-interrupted, .progress-bar-interrupted::-webkit-progress-bar {\n",
       "                background: #F44336;\n",
       "            }\n",
       "        </style>\n",
       "      <progress value='9' class='' max='10' style='width:300px; height:20px; vertical-align: middle;'></progress>\n",
       "      90.00% [9/10 11:22<01:15]\n",
       "    </div>\n",
       "    \n",
       "<table border=\"1\" class=\"dataframe\">\n",
       "  <thead>\n",
       "    <tr style=\"text-align: left;\">\n",
       "      <th>epoch</th>\n",
       "      <th>train_loss</th>\n",
       "      <th>valid_loss</th>\n",
       "      <th>rmspe</th>\n",
       "      <th>time</th>\n",
       "    </tr>\n",
       "  </thead>\n",
       "  <tbody>\n",
       "    <tr>\n",
       "      <td>0</td>\n",
       "      <td>0.357093</td>\n",
       "      <td>0.317540</td>\n",
       "      <td>0.561695</td>\n",
       "      <td>01:13</td>\n",
       "    </tr>\n",
       "    <tr>\n",
       "      <td>1</td>\n",
       "      <td>0.362423</td>\n",
       "      <td>0.319560</td>\n",
       "      <td>0.566961</td>\n",
       "      <td>01:14</td>\n",
       "    </tr>\n",
       "    <tr>\n",
       "      <td>2</td>\n",
       "      <td>0.363677</td>\n",
       "      <td>0.316794</td>\n",
       "      <td>0.566230</td>\n",
       "      <td>01:15</td>\n",
       "    </tr>\n",
       "    <tr>\n",
       "      <td>3</td>\n",
       "      <td>0.357458</td>\n",
       "      <td>0.314984</td>\n",
       "      <td>0.569990</td>\n",
       "      <td>01:16</td>\n",
       "    </tr>\n",
       "    <tr>\n",
       "      <td>4</td>\n",
       "      <td>0.360460</td>\n",
       "      <td>0.350488</td>\n",
       "      <td>0.621493</td>\n",
       "      <td>01:16</td>\n",
       "    </tr>\n",
       "    <tr>\n",
       "      <td>5</td>\n",
       "      <td>0.353834</td>\n",
       "      <td>0.324615</td>\n",
       "      <td>0.584585</td>\n",
       "      <td>01:15</td>\n",
       "    </tr>\n",
       "    <tr>\n",
       "      <td>6</td>\n",
       "      <td>0.350490</td>\n",
       "      <td>0.313182</td>\n",
       "      <td>0.562041</td>\n",
       "      <td>01:16</td>\n",
       "    </tr>\n",
       "    <tr>\n",
       "      <td>7</td>\n",
       "      <td>0.345513</td>\n",
       "      <td>0.314081</td>\n",
       "      <td>0.555498</td>\n",
       "      <td>01:18</td>\n",
       "    </tr>\n",
       "    <tr>\n",
       "      <td>8</td>\n",
       "      <td>0.356554</td>\n",
       "      <td>0.311974</td>\n",
       "      <td>0.557817</td>\n",
       "      <td>01:17</td>\n",
       "    </tr>\n",
       "  </tbody>\n",
       "</table><p>\n",
       "\n",
       "    <div>\n",
       "        <style>\n",
       "            /* Turns off some styling */\n",
       "            progress {\n",
       "                /* gets rid of default border in Firefox and Opera. */\n",
       "                border: none;\n",
       "                /* Needs to be in here for Safari polyfill so background images work as expected. */\n",
       "                background-size: auto;\n",
       "            }\n",
       "            .progress-bar-interrupted, .progress-bar-interrupted::-webkit-progress-bar {\n",
       "                background: #F44336;\n",
       "            }\n",
       "        </style>\n",
       "      <progress value='1796' class='' max='2710' style='width:300px; height:20px; vertical-align: middle;'></progress>\n",
       "      66.27% [1796/2710 00:42<00:21 0.3469]\n",
       "    </div>\n",
       "    "
      ],
      "text/plain": [
       "<IPython.core.display.HTML object>"
      ]
     },
     "metadata": {},
     "output_type": "display_data"
    }
   ],
   "source": [
    "learn.fit_one_cycle(10,1e-6)"
   ]
  },
  {
   "cell_type": "code",
   "execution_count": 18,
   "id": "alpine-ghana",
   "metadata": {},
   "outputs": [
    {
     "data": {
      "text/html": [],
      "text/plain": [
       "<IPython.core.display.HTML object>"
      ]
     },
     "metadata": {},
     "output_type": "display_data"
    }
   ],
   "source": [
    "preds, tars = learn.get_preds()"
   ]
  },
  {
   "cell_type": "code",
   "execution_count": 19,
   "id": "continuing-console",
   "metadata": {},
   "outputs": [
    {
     "data": {
      "text/plain": [
       "(tensor([[0.0025],\n",
       "         [0.0010],\n",
       "         [0.0019],\n",
       "         [0.0010],\n",
       "         [0.0017]]),\n",
       " tensor([0.0037, 0.0018, 0.0021, 0.0021, 0.0040]))"
      ]
     },
     "execution_count": 19,
     "metadata": {},
     "output_type": "execute_result"
    }
   ],
   "source": [
    "preds[:5], tars[:5]"
   ]
  },
  {
   "cell_type": "code",
   "execution_count": 20,
   "id": "controlled-mileage",
   "metadata": {},
   "outputs": [
    {
     "data": {
      "text/plain": [
       "tensor(1.0862)"
      ]
     },
     "execution_count": 20,
     "metadata": {},
     "output_type": "execute_result"
    }
   ],
   "source": [
    "rmspe(preds.view(-1), tars)"
   ]
  },
  {
   "cell_type": "code",
   "execution_count": 22,
   "id": "efficient-dialogue",
   "metadata": {},
   "outputs": [
    {
     "data": {
      "text/plain": [
       "1.0861881"
      ]
     },
     "execution_count": 22,
     "metadata": {},
     "output_type": "execute_result"
    }
   ],
   "source": [
    "def rmspe_np(y_true, y_pred):\n",
    "    return  (np.sqrt(np.mean(np.square((y_true - y_pred) / y_true))))\n",
    "rmspe_np( tars.numpy(),preds.view(-1).numpy())"
   ]
  },
  {
   "cell_type": "code",
   "execution_count": null,
   "id": "composed-galaxy",
   "metadata": {},
   "outputs": [],
   "source": []
  }
 ],
 "metadata": {
  "kernelspec": {
   "display_name": "Python 3.8.5 64-bit ('fastai': conda)",
   "language": "python",
   "name": "python38564bitfastaicondad52d12c5a30a4725bf9d3e235cf1271c"
  },
  "language_info": {
   "codemirror_mode": {
    "name": "ipython",
    "version": 3
   },
   "file_extension": ".py",
   "mimetype": "text/x-python",
   "name": "python",
   "nbconvert_exporter": "python",
   "pygments_lexer": "ipython3",
   "version": "3.8.5"
  }
 },
 "nbformat": 4,
 "nbformat_minor": 5
}
