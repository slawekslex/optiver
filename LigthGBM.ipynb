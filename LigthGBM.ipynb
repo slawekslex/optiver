{
 "cells": [
  {
   "cell_type": "code",
   "execution_count": 12,
   "id": "quarterly-disclosure",
   "metadata": {},
   "outputs": [],
   "source": [
    "from fastai.tabular.all import *\n",
    "\n",
    "from sklearn.model_selection import KFold, GroupKFold\n",
    "import lightgbm as lgb"
   ]
  },
  {
   "cell_type": "code",
   "execution_count": 13,
   "id": "critical-happening",
   "metadata": {},
   "outputs": [],
   "source": [
    "import pickle"
   ]
  },
  {
   "cell_type": "code",
   "execution_count": 14,
   "id": "dramatic-somerset",
   "metadata": {},
   "outputs": [],
   "source": [
    "def rmspe(y_true, y_pred):\n",
    "    return np.sqrt(np.mean(np.square((y_true - y_pred) / y_true)))\n",
    "def feval_rmspe(y_pred, lgb_train):\n",
    "    y_true = lgb_train.get_label()\n",
    "    return 'RMSPE', rmspe(y_true, y_pred), False"
   ]
  },
  {
   "cell_type": "code",
   "execution_count": 15,
   "id": "pacific-diagram",
   "metadata": {},
   "outputs": [],
   "source": [
    "train_df = pd.read_csv('train_with_features.csv')"
   ]
  },
  {
   "cell_type": "code",
   "execution_count": 26,
   "id": "humanitarian-buying",
   "metadata": {},
   "outputs": [],
   "source": [
    "def train_models(train):\n",
    "    # Hyperparammeters (optimized)\n",
    "    seed = 29\n",
    "    params = {\n",
    "        'learning_rate': 0.1,        \n",
    "        'lambda_l1': 2,\n",
    "        'lambda_l2': 7,\n",
    "        'num_leaves': 800,\n",
    "        'min_sum_hessian_in_leaf': 20,\n",
    "        'feature_fraction': 0.8,\n",
    "        'feature_fraction_bynode': 0.8,\n",
    "        'bagging_fraction': 0.9,\n",
    "        'bagging_freq': 42,\n",
    "        'min_data_in_leaf': 700,\n",
    "        'max_depth': 4,\n",
    "        'seed': seed,\n",
    "        'feature_fraction_seed': seed,\n",
    "        'bagging_seed': seed,\n",
    "        'drop_seed': seed,\n",
    "        'data_random_seed': seed,\n",
    "        'objective': 'rmse',\n",
    "        'boosting': 'gbdt',\n",
    "        'verbosity': -1,\n",
    "        'n_jobs': -1,\n",
    "    }   \n",
    "    \n",
    "    # Split features and target\n",
    "    x = train.drop(['row_id', 'target', 'time_id'], axis = 1)\n",
    "    y = train['target']\n",
    "    # Transform stock id to a numeric value\n",
    "    x['stock_id'] = x['stock_id'].astype(int)\n",
    "    models =[]\n",
    "    # Create out of folds array\n",
    "    oof_predictions = np.zeros(x.shape[0])\n",
    "    # Create a KFold object\n",
    "    #kfold = KFold(n_splits = 10, random_state = 1111, shuffle = True)\n",
    "    kfold = GroupKFold(n_splits=5)\n",
    "    # Iterate through each fold\n",
    "    for fold, (trn_ind, val_ind) in enumerate(kfold.split(x, groups=train.time_id)):\n",
    "        print(f'Training fold {fold + 1}')\n",
    "        x_train, x_val = x.iloc[trn_ind], x.iloc[val_ind]\n",
    "        y_train, y_val = y.iloc[trn_ind], y.iloc[val_ind]\n",
    "        # Root mean squared percentage error weights\n",
    "        train_weights = 1 / np.square(y_train)\n",
    "        val_weights = 1 / np.square(y_val)\n",
    "        train_dataset = lgb.Dataset(x_train, y_train, weight = train_weights, categorical_feature = ['stock_id'])\n",
    "        val_dataset = lgb.Dataset(x_val, y_val, weight = val_weights, categorical_feature = ['stock_id'])\n",
    "        model = lgb.train(params = params, \n",
    "                          train_set = train_dataset, \n",
    "                          valid_sets = [train_dataset, val_dataset], \n",
    "                          num_boost_round = 3000, \n",
    "                          early_stopping_rounds = 25, \n",
    "                          verbose_eval = 100,\n",
    "                          feval = feval_rmspe)\n",
    "        models.append(model)\n",
    "        # Add predictions to the out of folds array\n",
    "        oof_predictions[val_ind] = model.predict(x_val)\n",
    "        # Predict the test set\n",
    "        #test_predictions += model.predict(x_test) / 10\n",
    "        \n",
    "    rmspe_score = rmspe(y, oof_predictions)\n",
    "    print(f'Our out of folds RMSPE is {rmspe_score}')\n",
    "    # Return test predictions\n",
    "    return models"
   ]
  },
  {
   "cell_type": "code",
   "execution_count": 27,
   "id": "external-somerset",
   "metadata": {},
   "outputs": [
    {
     "name": "stdout",
     "output_type": "stream",
     "text": [
      "Training fold 1\n"
     ]
    },
    {
     "name": "stderr",
     "output_type": "stream",
     "text": [
      "/home/slex/programy/anaconda3/envs/fastai/lib/python3.8/site-packages/lightgbm/basic.py:1551: UserWarning: Using categorical_feature in Dataset.\n",
      "  warnings.warn('Using categorical_feature in Dataset.')\n",
      "/home/slex/programy/anaconda3/envs/fastai/lib/python3.8/site-packages/lightgbm/basic.py:1286: UserWarning: Overriding the parameters from Reference Dataset.\n",
      "  warnings.warn('Overriding the parameters from Reference Dataset.')\n",
      "/home/slex/programy/anaconda3/envs/fastai/lib/python3.8/site-packages/lightgbm/basic.py:1098: UserWarning: categorical_column in param dict is overridden.\n",
      "  warnings.warn('{} in param dict is overridden.'.format(cat_alias))\n"
     ]
    },
    {
     "name": "stdout",
     "output_type": "stream",
     "text": [
      "Training until validation scores don't improve for 25 rounds\n",
      "[100]\ttraining's rmse: 0.000468478\ttraining's RMSPE: 0.217007\tvalid_1's rmse: 0.000505003\tvalid_1's RMSPE: 0.232905\n",
      "[200]\ttraining's rmse: 0.000450753\ttraining's RMSPE: 0.208796\tvalid_1's rmse: 0.000501078\tvalid_1's RMSPE: 0.231095\n",
      "[300]\ttraining's rmse: 0.000438788\ttraining's RMSPE: 0.203254\tvalid_1's rmse: 0.000499106\tvalid_1's RMSPE: 0.230185\n",
      "Early stopping, best iteration is:\n",
      "[310]\ttraining's rmse: 0.00043731\ttraining's RMSPE: 0.202569\tvalid_1's rmse: 0.000498997\tvalid_1's RMSPE: 0.230135\n",
      "Training fold 2\n"
     ]
    },
    {
     "name": "stderr",
     "output_type": "stream",
     "text": [
      "/home/slex/programy/anaconda3/envs/fastai/lib/python3.8/site-packages/lightgbm/basic.py:1551: UserWarning: Using categorical_feature in Dataset.\n",
      "  warnings.warn('Using categorical_feature in Dataset.')\n",
      "/home/slex/programy/anaconda3/envs/fastai/lib/python3.8/site-packages/lightgbm/basic.py:1286: UserWarning: Overriding the parameters from Reference Dataset.\n",
      "  warnings.warn('Overriding the parameters from Reference Dataset.')\n",
      "/home/slex/programy/anaconda3/envs/fastai/lib/python3.8/site-packages/lightgbm/basic.py:1098: UserWarning: categorical_column in param dict is overridden.\n",
      "  warnings.warn('{} in param dict is overridden.'.format(cat_alias))\n"
     ]
    },
    {
     "name": "stdout",
     "output_type": "stream",
     "text": [
      "Training until validation scores don't improve for 25 rounds\n",
      "[100]\ttraining's rmse: 0.000468578\ttraining's RMSPE: 0.216426\tvalid_1's rmse: 0.000513493\tvalid_1's RMSPE: 0.23956\n",
      "[200]\ttraining's rmse: 0.000450836\ttraining's RMSPE: 0.208232\tvalid_1's rmse: 0.000508127\tvalid_1's RMSPE: 0.237057\n",
      "Early stopping, best iteration is:\n",
      "[199]\ttraining's rmse: 0.000451057\ttraining's RMSPE: 0.208334\tvalid_1's rmse: 0.000508106\tvalid_1's RMSPE: 0.237047\n",
      "Training fold 3\n"
     ]
    },
    {
     "name": "stderr",
     "output_type": "stream",
     "text": [
      "/home/slex/programy/anaconda3/envs/fastai/lib/python3.8/site-packages/lightgbm/basic.py:1551: UserWarning: Using categorical_feature in Dataset.\n",
      "  warnings.warn('Using categorical_feature in Dataset.')\n",
      "/home/slex/programy/anaconda3/envs/fastai/lib/python3.8/site-packages/lightgbm/basic.py:1286: UserWarning: Overriding the parameters from Reference Dataset.\n",
      "  warnings.warn('Overriding the parameters from Reference Dataset.')\n",
      "/home/slex/programy/anaconda3/envs/fastai/lib/python3.8/site-packages/lightgbm/basic.py:1098: UserWarning: categorical_column in param dict is overridden.\n",
      "  warnings.warn('{} in param dict is overridden.'.format(cat_alias))\n"
     ]
    },
    {
     "name": "stdout",
     "output_type": "stream",
     "text": [
      "Training until validation scores don't improve for 25 rounds\n",
      "[100]\ttraining's rmse: 0.000472582\ttraining's RMSPE: 0.218412\tvalid_1's rmse: 0.000482166\tvalid_1's RMSPE: 0.224394\n",
      "[200]\ttraining's rmse: 0.000453994\ttraining's RMSPE: 0.209821\tvalid_1's rmse: 0.000478207\tvalid_1's RMSPE: 0.222551\n",
      "Early stopping, best iteration is:\n",
      "[253]\ttraining's rmse: 0.000447311\ttraining's RMSPE: 0.206732\tvalid_1's rmse: 0.000477407\tvalid_1's RMSPE: 0.222179\n",
      "Training fold 4\n"
     ]
    },
    {
     "name": "stderr",
     "output_type": "stream",
     "text": [
      "/home/slex/programy/anaconda3/envs/fastai/lib/python3.8/site-packages/lightgbm/basic.py:1551: UserWarning: Using categorical_feature in Dataset.\n",
      "  warnings.warn('Using categorical_feature in Dataset.')\n",
      "/home/slex/programy/anaconda3/envs/fastai/lib/python3.8/site-packages/lightgbm/basic.py:1286: UserWarning: Overriding the parameters from Reference Dataset.\n",
      "  warnings.warn('Overriding the parameters from Reference Dataset.')\n",
      "/home/slex/programy/anaconda3/envs/fastai/lib/python3.8/site-packages/lightgbm/basic.py:1098: UserWarning: categorical_column in param dict is overridden.\n",
      "  warnings.warn('{} in param dict is overridden.'.format(cat_alias))\n"
     ]
    },
    {
     "name": "stdout",
     "output_type": "stream",
     "text": [
      "Training until validation scores don't improve for 25 rounds\n",
      "[100]\ttraining's rmse: 0.000472537\ttraining's RMSPE: 0.218653\tvalid_1's rmse: 0.000479732\tvalid_1's RMSPE: 0.222201\n",
      "[200]\ttraining's rmse: 0.000455613\ttraining's RMSPE: 0.210822\tvalid_1's rmse: 0.000475906\tvalid_1's RMSPE: 0.220429\n",
      "Early stopping, best iteration is:\n",
      "[247]\ttraining's rmse: 0.000450194\ttraining's RMSPE: 0.208315\tvalid_1's rmse: 0.000474217\tvalid_1's RMSPE: 0.219646\n",
      "Training fold 5\n"
     ]
    },
    {
     "name": "stderr",
     "output_type": "stream",
     "text": [
      "/home/slex/programy/anaconda3/envs/fastai/lib/python3.8/site-packages/lightgbm/basic.py:1551: UserWarning: Using categorical_feature in Dataset.\n",
      "  warnings.warn('Using categorical_feature in Dataset.')\n",
      "/home/slex/programy/anaconda3/envs/fastai/lib/python3.8/site-packages/lightgbm/basic.py:1286: UserWarning: Overriding the parameters from Reference Dataset.\n",
      "  warnings.warn('Overriding the parameters from Reference Dataset.')\n",
      "/home/slex/programy/anaconda3/envs/fastai/lib/python3.8/site-packages/lightgbm/basic.py:1098: UserWarning: categorical_column in param dict is overridden.\n",
      "  warnings.warn('{} in param dict is overridden.'.format(cat_alias))\n"
     ]
    },
    {
     "name": "stdout",
     "output_type": "stream",
     "text": [
      "Training until validation scores don't improve for 25 rounds\n",
      "[100]\ttraining's rmse: 0.000472597\ttraining's RMSPE: 0.219321\tvalid_1's rmse: 0.000479139\tvalid_1's RMSPE: 0.219312\n",
      "[200]\ttraining's rmse: 0.00045358\ttraining's RMSPE: 0.210496\tvalid_1's rmse: 0.000475596\tvalid_1's RMSPE: 0.21769\n",
      "Early stopping, best iteration is:\n",
      "[249]\ttraining's rmse: 0.000447797\ttraining's RMSPE: 0.207812\tvalid_1's rmse: 0.000474627\tvalid_1's RMSPE: 0.217247\n",
      "Our out of folds RMSPE is 0.22536971651368237\n"
     ]
    }
   ],
   "source": [
    "models = train_models(train_df)"
   ]
  },
  {
   "cell_type": "code",
   "execution_count": 6,
   "id": "verbal-multiple",
   "metadata": {},
   "outputs": [],
   "source": [
    "x_test = train_df.drop(['row_id', 'time_id', 'target'], axis = 1)\n",
    "x_test['stock_id'] = x_test['stock_id'].astype(int)"
   ]
  },
  {
   "cell_type": "code",
   "execution_count": 29,
   "id": "finite-tracker",
   "metadata": {},
   "outputs": [],
   "source": [
    "for idx, model in enumerate(models):\n",
    "    filename = f'optiver-models-private/data/models/lgb_fold{idx}.pickle'\n",
    "    pickle.dump(model, open(filename, 'wb'))\n",
    "    "
   ]
  },
  {
   "cell_type": "code",
   "execution_count": 8,
   "id": "minute-nerve",
   "metadata": {},
   "outputs": [
    {
     "name": "stdout",
     "output_type": "stream",
     "text": [
      "0.18470989403729027\n",
      "0.1737223782065638\n",
      "0.19073378463864546\n",
      "0.1880587200715555\n",
      "0.17799874022536552\n",
      "0.1725530401092998\n",
      "0.1898247989760112\n",
      "0.18514039121932407\n",
      "0.18203909027786244\n",
      "0.1981542175208046\n"
     ]
    }
   ],
   "source": [
    "for idx in range(10):\n",
    "    filename = f'models/lgb_fold{idx}.pickle'\n",
    "    model = pickle.load(open(filename, 'rb'))\n",
    "    preds = model.predict(x_test)\n",
    "    print(rmspe(train_df.target, preds))"
   ]
  },
  {
   "cell_type": "markdown",
   "id": "fallen-picture",
   "metadata": {},
   "source": [
    "## NEW features"
   ]
  },
  {
   "cell_type": "code",
   "execution_count": 34,
   "id": "regulation-force",
   "metadata": {},
   "outputs": [],
   "source": [
    "from optiver_features import *"
   ]
  },
  {
   "cell_type": "code",
   "execution_count": 38,
   "id": "variable-numbers",
   "metadata": {},
   "outputs": [],
   "source": [
    "book_feature_dict = {\n",
    "        wap1: [np.mean, np.std],\n",
    "        wap2: [np.mean, np.std],\n",
    "        log_return1: [realized_volatility, np.mean, np.std],\n",
    "        log_return2: [realized_volatility, np.mean, np.std],\n",
    "        wap_balance: [np.mean, np.std],\n",
    "        price_spread:[np.mean, np.std],\n",
    "        bid_spread: [np.mean, np.std],\n",
    "        ask_spread:[np.mean, np.std],\n",
    "        total_volume:[np.mean, np.std],\n",
    "        volume_imbalance:[np.mean, np.std]\n",
    "    }\n",
    "\n",
    "trade_feature_dict = {\n",
    "        log_return_price: [realized_volatility],\n",
    "        'seconds_in_bucket':[np.size],\n",
    "        'size':[np.sum],\n",
    "        'order_count':[np.mean],\n",
    "    }\n",
    "\n",
    "time_windows = [(0,600), (150,600), (300,600), (450,600)]\n",
    "\n",
    "\n",
    "cols = ['log_return_price_realized_volatility', 'log_return1_realized_volatility', 'log_return2_realized_volatility']\n",
    "time_id_features = [f'{col}_{x}_{y}' for x,y in time_windows for col in cols] \n",
    "time_id_aggregations = ['mean', 'std', 'max', 'min' ]\n",
    "stock_id_features = time_id_features\n",
    "stock_id_aggregations = time_id_aggregations"
   ]
  },
  {
   "cell_type": "code",
   "execution_count": 40,
   "id": "latin-rwanda",
   "metadata": {},
   "outputs": [
    {
     "data": {
      "text/plain": [
       "['log_return_price_realized_volatility_0_600',\n",
       " 'log_return1_realized_volatility_0_600',\n",
       " 'log_return2_realized_volatility_0_600',\n",
       " 'log_return_price_realized_volatility_150_600',\n",
       " 'log_return1_realized_volatility_150_600',\n",
       " 'log_return2_realized_volatility_150_600',\n",
       " 'log_return_price_realized_volatility_300_600',\n",
       " 'log_return1_realized_volatility_300_600',\n",
       " 'log_return2_realized_volatility_300_600',\n",
       " 'log_return_price_realized_volatility_450_600',\n",
       " 'log_return1_realized_volatility_450_600',\n",
       " 'log_return2_realized_volatility_450_600']"
      ]
     },
     "execution_count": 40,
     "metadata": {},
     "output_type": "execute_result"
    }
   ],
   "source": [
    "time_id_features"
   ]
  },
  {
   "cell_type": "code",
   "execution_count": 41,
   "id": "continent-ownership",
   "metadata": {},
   "outputs": [],
   "source": [
    "ofg = OptiverFeatureGenerator(book_feature_dict, trade_feature_dict, time_windows, time_id_features,time_id_aggregations, stock_id_features, stock_id_aggregations)"
   ]
  },
  {
   "cell_type": "code",
   "execution_count": 42,
   "id": "ordered-cooper",
   "metadata": {},
   "outputs": [
    {
     "name": "stdout",
     "output_type": "stream",
     "text": [
      "CPU times: user 2.68 s, sys: 1.12 s, total: 3.8 s\n",
      "Wall time: 3min 33s\n"
     ]
    }
   ],
   "source": [
    "%%time\n",
    "train_new = ofg.generate_train_df()"
   ]
  },
  {
   "cell_type": "code",
   "execution_count": 43,
   "id": "appointed-awareness",
   "metadata": {},
   "outputs": [
    {
     "name": "stdout",
     "output_type": "stream",
     "text": [
      "Training fold 1\n"
     ]
    },
    {
     "name": "stderr",
     "output_type": "stream",
     "text": [
      "/home/slex/programy/anaconda3/envs/fastai/lib/python3.8/site-packages/lightgbm/basic.py:1551: UserWarning: Using categorical_feature in Dataset.\n",
      "  warnings.warn('Using categorical_feature in Dataset.')\n",
      "/home/slex/programy/anaconda3/envs/fastai/lib/python3.8/site-packages/lightgbm/basic.py:1286: UserWarning: Overriding the parameters from Reference Dataset.\n",
      "  warnings.warn('Overriding the parameters from Reference Dataset.')\n",
      "/home/slex/programy/anaconda3/envs/fastai/lib/python3.8/site-packages/lightgbm/basic.py:1098: UserWarning: categorical_column in param dict is overridden.\n",
      "  warnings.warn('{} in param dict is overridden.'.format(cat_alias))\n"
     ]
    },
    {
     "name": "stdout",
     "output_type": "stream",
     "text": [
      "Training until validation scores don't improve for 25 rounds\n",
      "[100]\ttraining's rmse: 0.000470255\ttraining's RMSPE: 0.21783\tvalid_1's rmse: 0.000506402\tvalid_1's RMSPE: 0.23355\n",
      "[200]\ttraining's rmse: 0.000452357\ttraining's RMSPE: 0.209539\tvalid_1's rmse: 0.000501532\tvalid_1's RMSPE: 0.231304\n",
      "Early stopping, best iteration is:\n",
      "[232]\ttraining's rmse: 0.000448597\ttraining's RMSPE: 0.207798\tvalid_1's rmse: 0.000501053\tvalid_1's RMSPE: 0.231083\n",
      "Training fold 2\n"
     ]
    },
    {
     "name": "stderr",
     "output_type": "stream",
     "text": [
      "/home/slex/programy/anaconda3/envs/fastai/lib/python3.8/site-packages/lightgbm/basic.py:1551: UserWarning: Using categorical_feature in Dataset.\n",
      "  warnings.warn('Using categorical_feature in Dataset.')\n",
      "/home/slex/programy/anaconda3/envs/fastai/lib/python3.8/site-packages/lightgbm/basic.py:1286: UserWarning: Overriding the parameters from Reference Dataset.\n",
      "  warnings.warn('Overriding the parameters from Reference Dataset.')\n",
      "/home/slex/programy/anaconda3/envs/fastai/lib/python3.8/site-packages/lightgbm/basic.py:1098: UserWarning: categorical_column in param dict is overridden.\n",
      "  warnings.warn('{} in param dict is overridden.'.format(cat_alias))\n"
     ]
    },
    {
     "name": "stdout",
     "output_type": "stream",
     "text": [
      "Training until validation scores don't improve for 25 rounds\n",
      "[100]\ttraining's rmse: 0.000469125\ttraining's RMSPE: 0.216679\tvalid_1's rmse: 0.000517973\tvalid_1's RMSPE: 0.24165\n",
      "[200]\ttraining's rmse: 0.000451591\ttraining's RMSPE: 0.20858\tvalid_1's rmse: 0.000512826\tvalid_1's RMSPE: 0.239249\n",
      "[300]\ttraining's rmse: 0.000439905\ttraining's RMSPE: 0.203183\tvalid_1's rmse: 0.000510238\tvalid_1's RMSPE: 0.238041\n",
      "Early stopping, best iteration is:\n",
      "[322]\ttraining's rmse: 0.000438094\ttraining's RMSPE: 0.202346\tvalid_1's rmse: 0.000509593\tvalid_1's RMSPE: 0.23774\n",
      "Training fold 3\n"
     ]
    },
    {
     "name": "stderr",
     "output_type": "stream",
     "text": [
      "/home/slex/programy/anaconda3/envs/fastai/lib/python3.8/site-packages/lightgbm/basic.py:1551: UserWarning: Using categorical_feature in Dataset.\n",
      "  warnings.warn('Using categorical_feature in Dataset.')\n",
      "/home/slex/programy/anaconda3/envs/fastai/lib/python3.8/site-packages/lightgbm/basic.py:1286: UserWarning: Overriding the parameters from Reference Dataset.\n",
      "  warnings.warn('Overriding the parameters from Reference Dataset.')\n",
      "/home/slex/programy/anaconda3/envs/fastai/lib/python3.8/site-packages/lightgbm/basic.py:1098: UserWarning: categorical_column in param dict is overridden.\n",
      "  warnings.warn('{} in param dict is overridden.'.format(cat_alias))\n"
     ]
    },
    {
     "name": "stdout",
     "output_type": "stream",
     "text": [
      "Training until validation scores don't improve for 25 rounds\n",
      "[100]\ttraining's rmse: 0.000472924\ttraining's RMSPE: 0.21857\tvalid_1's rmse: 0.000483791\tvalid_1's RMSPE: 0.22515\n",
      "[200]\ttraining's rmse: 0.000455384\ttraining's RMSPE: 0.210463\tvalid_1's rmse: 0.000481298\tvalid_1's RMSPE: 0.22399\n",
      "Early stopping, best iteration is:\n",
      "[263]\ttraining's rmse: 0.000447562\ttraining's RMSPE: 0.206849\tvalid_1's rmse: 0.000480469\tvalid_1's RMSPE: 0.223604\n",
      "Training fold 4\n"
     ]
    },
    {
     "name": "stderr",
     "output_type": "stream",
     "text": [
      "/home/slex/programy/anaconda3/envs/fastai/lib/python3.8/site-packages/lightgbm/basic.py:1551: UserWarning: Using categorical_feature in Dataset.\n",
      "  warnings.warn('Using categorical_feature in Dataset.')\n",
      "/home/slex/programy/anaconda3/envs/fastai/lib/python3.8/site-packages/lightgbm/basic.py:1286: UserWarning: Overriding the parameters from Reference Dataset.\n",
      "  warnings.warn('Overriding the parameters from Reference Dataset.')\n",
      "/home/slex/programy/anaconda3/envs/fastai/lib/python3.8/site-packages/lightgbm/basic.py:1098: UserWarning: categorical_column in param dict is overridden.\n",
      "  warnings.warn('{} in param dict is overridden.'.format(cat_alias))\n"
     ]
    },
    {
     "name": "stdout",
     "output_type": "stream",
     "text": [
      "Training until validation scores don't improve for 25 rounds\n",
      "[100]\ttraining's rmse: 0.000473982\ttraining's RMSPE: 0.219322\tvalid_1's rmse: 0.000483915\tvalid_1's RMSPE: 0.224138\n",
      "Early stopping, best iteration is:\n",
      "[126]\ttraining's rmse: 0.000468624\ttraining's RMSPE: 0.216843\tvalid_1's rmse: 0.00048298\tvalid_1's RMSPE: 0.223705\n",
      "Training fold 5\n"
     ]
    },
    {
     "name": "stderr",
     "output_type": "stream",
     "text": [
      "/home/slex/programy/anaconda3/envs/fastai/lib/python3.8/site-packages/lightgbm/basic.py:1551: UserWarning: Using categorical_feature in Dataset.\n",
      "  warnings.warn('Using categorical_feature in Dataset.')\n",
      "/home/slex/programy/anaconda3/envs/fastai/lib/python3.8/site-packages/lightgbm/basic.py:1286: UserWarning: Overriding the parameters from Reference Dataset.\n",
      "  warnings.warn('Overriding the parameters from Reference Dataset.')\n",
      "/home/slex/programy/anaconda3/envs/fastai/lib/python3.8/site-packages/lightgbm/basic.py:1098: UserWarning: categorical_column in param dict is overridden.\n",
      "  warnings.warn('{} in param dict is overridden.'.format(cat_alias))\n"
     ]
    },
    {
     "name": "stdout",
     "output_type": "stream",
     "text": [
      "Training until validation scores don't improve for 25 rounds\n",
      "[100]\ttraining's rmse: 0.000472782\ttraining's RMSPE: 0.219407\tvalid_1's rmse: 0.00048239\tvalid_1's RMSPE: 0.2208\n",
      "Early stopping, best iteration is:\n",
      "[151]\ttraining's rmse: 0.000462582\ttraining's RMSPE: 0.214673\tvalid_1's rmse: 0.000481369\tvalid_1's RMSPE: 0.220333\n",
      "Our out of folds RMSPE is 0.22738050185706846\n"
     ]
    }
   ],
   "source": [
    "models = train_models(train_new)"
   ]
  },
  {
   "cell_type": "code",
   "execution_count": 44,
   "id": "moving-joyce",
   "metadata": {},
   "outputs": [],
   "source": [
    "for idx, model in enumerate(models):\n",
    "    filename = f'optiver-models-private/data/models/lgb_fold{idx}.pickle'\n",
    "    pickle.dump(model, open(filename, 'wb'))"
   ]
  },
  {
   "cell_type": "code",
   "execution_count": 46,
   "id": "quality-debate",
   "metadata": {},
   "outputs": [],
   "source": [
    "train_new['seconds_in_bucket_size_0_600']=train_new['seconds_in_bucket_size_0_600'].astype(np.float32)"
   ]
  },
  {
   "cell_type": "code",
   "execution_count": 51,
   "id": "impaired-amazon",
   "metadata": {},
   "outputs": [],
   "source": [
    "nacols = train_new.isna().any()"
   ]
  },
  {
   "cell_type": "code",
   "execution_count": 53,
   "id": "opening-anime",
   "metadata": {},
   "outputs": [
    {
     "data": {
      "text/plain": [
       "seconds_in_bucket_size_0_600                    True\n",
       "size_sum_0_600                                  True\n",
       "order_count_mean_0_600                          True\n",
       "log_return_price_realized_volatility_0_600      True\n",
       "seconds_in_bucket_size_150_600                  True\n",
       "size_sum_150_600                                True\n",
       "order_count_mean_150_600                        True\n",
       "log_return_price_realized_volatility_150_600    True\n",
       "seconds_in_bucket_size_300_600                  True\n",
       "size_sum_300_600                                True\n",
       "order_count_mean_300_600                        True\n",
       "log_return_price_realized_volatility_300_600    True\n",
       "seconds_in_bucket_size_450_600                  True\n",
       "size_sum_450_600                                True\n",
       "order_count_mean_450_600                        True\n",
       "log_return_price_realized_volatility_450_600    True\n",
       "dtype: bool"
      ]
     },
     "execution_count": 53,
     "metadata": {},
     "output_type": "execute_result"
    }
   ],
   "source": [
    "nacols[nacols==True]"
   ]
  },
  {
   "cell_type": "code",
   "execution_count": 48,
   "id": "african-classics",
   "metadata": {},
   "outputs": [
    {
     "data": {
      "text/plain": [
       "[('stock_id', dtype('int64')),\n",
       " ('time_id', dtype('int64')),\n",
       " ('target', dtype('float64')),\n",
       " ('row_id', dtype('O')),\n",
       " ('seconds_in_bucket_size_0_600', dtype('float32')),\n",
       " ('size_sum_0_600', dtype('float64')),\n",
       " ('order_count_mean_0_600', dtype('float32')),\n",
       " ('log_return_price_realized_volatility_0_600', dtype('float32')),\n",
       " ('seconds_in_bucket_size_150_600', dtype('float32')),\n",
       " ('size_sum_150_600', dtype('float64')),\n",
       " ('order_count_mean_150_600', dtype('float32')),\n",
       " ('log_return_price_realized_volatility_150_600', dtype('float32')),\n",
       " ('seconds_in_bucket_size_300_600', dtype('float32')),\n",
       " ('size_sum_300_600', dtype('float64')),\n",
       " ('order_count_mean_300_600', dtype('float32')),\n",
       " ('log_return_price_realized_volatility_300_600', dtype('float32')),\n",
       " ('seconds_in_bucket_size_450_600', dtype('float32')),\n",
       " ('size_sum_450_600', dtype('float64')),\n",
       " ('order_count_mean_450_600', dtype('float32')),\n",
       " ('log_return_price_realized_volatility_450_600', dtype('float32')),\n",
       " ('wap1_mean_0_600', dtype('float32')),\n",
       " ('wap1_std_0_600', dtype('float32')),\n",
       " ('wap2_mean_0_600', dtype('float32')),\n",
       " ('wap2_std_0_600', dtype('float32')),\n",
       " ('log_return1_realized_volatility_0_600', dtype('float32')),\n",
       " ('log_return1_mean_0_600', dtype('float32')),\n",
       " ('log_return1_std_0_600', dtype('float32')),\n",
       " ('log_return2_realized_volatility_0_600', dtype('float32')),\n",
       " ('log_return2_mean_0_600', dtype('float32')),\n",
       " ('log_return2_std_0_600', dtype('float32')),\n",
       " ('wap_balance_mean_0_600', dtype('float32')),\n",
       " ('wap_balance_std_0_600', dtype('float32')),\n",
       " ('price_spread_mean_0_600', dtype('float32')),\n",
       " ('price_spread_std_0_600', dtype('float32')),\n",
       " ('bid_spread_mean_0_600', dtype('float32')),\n",
       " ('bid_spread_std_0_600', dtype('float32')),\n",
       " ('ask_spread_mean_0_600', dtype('float32')),\n",
       " ('ask_spread_std_0_600', dtype('float32')),\n",
       " ('total_volume_mean_0_600', dtype('float32')),\n",
       " ('total_volume_std_0_600', dtype('float32')),\n",
       " ('volume_imbalance_mean_0_600', dtype('float32')),\n",
       " ('volume_imbalance_std_0_600', dtype('float32')),\n",
       " ('wap1_mean_150_600', dtype('float32')),\n",
       " ('wap1_std_150_600', dtype('float32')),\n",
       " ('wap2_mean_150_600', dtype('float32')),\n",
       " ('wap2_std_150_600', dtype('float32')),\n",
       " ('log_return1_realized_volatility_150_600', dtype('float32')),\n",
       " ('log_return1_mean_150_600', dtype('float32')),\n",
       " ('log_return1_std_150_600', dtype('float32')),\n",
       " ('log_return2_realized_volatility_150_600', dtype('float32')),\n",
       " ('log_return2_mean_150_600', dtype('float32')),\n",
       " ('log_return2_std_150_600', dtype('float32')),\n",
       " ('wap_balance_mean_150_600', dtype('float32')),\n",
       " ('wap_balance_std_150_600', dtype('float32')),\n",
       " ('price_spread_mean_150_600', dtype('float32')),\n",
       " ('price_spread_std_150_600', dtype('float32')),\n",
       " ('bid_spread_mean_150_600', dtype('float32')),\n",
       " ('bid_spread_std_150_600', dtype('float32')),\n",
       " ('ask_spread_mean_150_600', dtype('float32')),\n",
       " ('ask_spread_std_150_600', dtype('float32')),\n",
       " ('total_volume_mean_150_600', dtype('float32')),\n",
       " ('total_volume_std_150_600', dtype('float32')),\n",
       " ('volume_imbalance_mean_150_600', dtype('float32')),\n",
       " ('volume_imbalance_std_150_600', dtype('float32')),\n",
       " ('wap1_mean_300_600', dtype('float32')),\n",
       " ('wap1_std_300_600', dtype('float32')),\n",
       " ('wap2_mean_300_600', dtype('float32')),\n",
       " ('wap2_std_300_600', dtype('float32')),\n",
       " ('log_return1_realized_volatility_300_600', dtype('float32')),\n",
       " ('log_return1_mean_300_600', dtype('float32')),\n",
       " ('log_return1_std_300_600', dtype('float32')),\n",
       " ('log_return2_realized_volatility_300_600', dtype('float32')),\n",
       " ('log_return2_mean_300_600', dtype('float32')),\n",
       " ('log_return2_std_300_600', dtype('float32')),\n",
       " ('wap_balance_mean_300_600', dtype('float32')),\n",
       " ('wap_balance_std_300_600', dtype('float32')),\n",
       " ('price_spread_mean_300_600', dtype('float32')),\n",
       " ('price_spread_std_300_600', dtype('float32')),\n",
       " ('bid_spread_mean_300_600', dtype('float32')),\n",
       " ('bid_spread_std_300_600', dtype('float32')),\n",
       " ('ask_spread_mean_300_600', dtype('float32')),\n",
       " ('ask_spread_std_300_600', dtype('float32')),\n",
       " ('total_volume_mean_300_600', dtype('float32')),\n",
       " ('total_volume_std_300_600', dtype('float32')),\n",
       " ('volume_imbalance_mean_300_600', dtype('float32')),\n",
       " ('volume_imbalance_std_300_600', dtype('float32')),\n",
       " ('wap1_mean_450_600', dtype('float32')),\n",
       " ('wap1_std_450_600', dtype('float32')),\n",
       " ('wap2_mean_450_600', dtype('float32')),\n",
       " ('wap2_std_450_600', dtype('float32')),\n",
       " ('log_return1_realized_volatility_450_600', dtype('float32')),\n",
       " ('log_return1_mean_450_600', dtype('float32')),\n",
       " ('log_return1_std_450_600', dtype('float32')),\n",
       " ('log_return2_realized_volatility_450_600', dtype('float32')),\n",
       " ('log_return2_mean_450_600', dtype('float32')),\n",
       " ('log_return2_std_450_600', dtype('float32')),\n",
       " ('wap_balance_mean_450_600', dtype('float32')),\n",
       " ('wap_balance_std_450_600', dtype('float32')),\n",
       " ('price_spread_mean_450_600', dtype('float32')),\n",
       " ('price_spread_std_450_600', dtype('float32')),\n",
       " ('bid_spread_mean_450_600', dtype('float32')),\n",
       " ('bid_spread_std_450_600', dtype('float32')),\n",
       " ('ask_spread_mean_450_600', dtype('float32')),\n",
       " ('ask_spread_std_450_600', dtype('float32')),\n",
       " ('total_volume_mean_450_600', dtype('float32')),\n",
       " ('total_volume_std_450_600', dtype('float32')),\n",
       " ('volume_imbalance_mean_450_600', dtype('float32')),\n",
       " ('volume_imbalance_std_450_600', dtype('float32')),\n",
       " ('log_return_price_realized_volatility_0_600_mean_stock', dtype('float32')),\n",
       " ('log_return_price_realized_volatility_0_600_std_stock', dtype('float64')),\n",
       " ('log_return_price_realized_volatility_0_600_max_stock', dtype('float32')),\n",
       " ('log_return_price_realized_volatility_0_600_min_stock', dtype('float32')),\n",
       " ('log_return1_realized_volatility_0_600_mean_stock', dtype('float32')),\n",
       " ('log_return1_realized_volatility_0_600_std_stock', dtype('float64')),\n",
       " ('log_return1_realized_volatility_0_600_max_stock', dtype('float32')),\n",
       " ('log_return1_realized_volatility_0_600_min_stock', dtype('float32')),\n",
       " ('log_return2_realized_volatility_0_600_mean_stock', dtype('float32')),\n",
       " ('log_return2_realized_volatility_0_600_std_stock', dtype('float64')),\n",
       " ('log_return2_realized_volatility_0_600_max_stock', dtype('float32')),\n",
       " ('log_return2_realized_volatility_0_600_min_stock', dtype('float32')),\n",
       " ('log_return_price_realized_volatility_150_600_mean_stock', dtype('float32')),\n",
       " ('log_return_price_realized_volatility_150_600_std_stock', dtype('float64')),\n",
       " ('log_return_price_realized_volatility_150_600_max_stock', dtype('float32')),\n",
       " ('log_return_price_realized_volatility_150_600_min_stock', dtype('float32')),\n",
       " ('log_return1_realized_volatility_150_600_mean_stock', dtype('float32')),\n",
       " ('log_return1_realized_volatility_150_600_std_stock', dtype('float64')),\n",
       " ('log_return1_realized_volatility_150_600_max_stock', dtype('float32')),\n",
       " ('log_return1_realized_volatility_150_600_min_stock', dtype('float32')),\n",
       " ('log_return2_realized_volatility_150_600_mean_stock', dtype('float32')),\n",
       " ('log_return2_realized_volatility_150_600_std_stock', dtype('float64')),\n",
       " ('log_return2_realized_volatility_150_600_max_stock', dtype('float32')),\n",
       " ('log_return2_realized_volatility_150_600_min_stock', dtype('float32')),\n",
       " ('log_return_price_realized_volatility_300_600_mean_stock', dtype('float32')),\n",
       " ('log_return_price_realized_volatility_300_600_std_stock', dtype('float64')),\n",
       " ('log_return_price_realized_volatility_300_600_max_stock', dtype('float32')),\n",
       " ('log_return_price_realized_volatility_300_600_min_stock', dtype('float32')),\n",
       " ('log_return1_realized_volatility_300_600_mean_stock', dtype('float32')),\n",
       " ('log_return1_realized_volatility_300_600_std_stock', dtype('float64')),\n",
       " ('log_return1_realized_volatility_300_600_max_stock', dtype('float32')),\n",
       " ('log_return1_realized_volatility_300_600_min_stock', dtype('float32')),\n",
       " ('log_return2_realized_volatility_300_600_mean_stock', dtype('float32')),\n",
       " ('log_return2_realized_volatility_300_600_std_stock', dtype('float64')),\n",
       " ('log_return2_realized_volatility_300_600_max_stock', dtype('float32')),\n",
       " ('log_return2_realized_volatility_300_600_min_stock', dtype('float32')),\n",
       " ('log_return_price_realized_volatility_450_600_mean_stock', dtype('float32')),\n",
       " ('log_return_price_realized_volatility_450_600_std_stock', dtype('float64')),\n",
       " ('log_return_price_realized_volatility_450_600_max_stock', dtype('float32')),\n",
       " ('log_return_price_realized_volatility_450_600_min_stock', dtype('float32')),\n",
       " ('log_return1_realized_volatility_450_600_mean_stock', dtype('float32')),\n",
       " ('log_return1_realized_volatility_450_600_std_stock', dtype('float64')),\n",
       " ('log_return1_realized_volatility_450_600_max_stock', dtype('float32')),\n",
       " ('log_return1_realized_volatility_450_600_min_stock', dtype('float32')),\n",
       " ('log_return2_realized_volatility_450_600_mean_stock', dtype('float32')),\n",
       " ('log_return2_realized_volatility_450_600_std_stock', dtype('float64')),\n",
       " ('log_return2_realized_volatility_450_600_max_stock', dtype('float32')),\n",
       " ('log_return2_realized_volatility_450_600_min_stock', dtype('float32')),\n",
       " ('log_return_price_realized_volatility_0_600_mean_time', dtype('float32')),\n",
       " ('log_return_price_realized_volatility_0_600_std_time', dtype('float64')),\n",
       " ('log_return_price_realized_volatility_0_600_max_time', dtype('float32')),\n",
       " ('log_return_price_realized_volatility_0_600_min_time', dtype('float32')),\n",
       " ('log_return1_realized_volatility_0_600_mean_time', dtype('float32')),\n",
       " ('log_return1_realized_volatility_0_600_std_time', dtype('float64')),\n",
       " ('log_return1_realized_volatility_0_600_max_time', dtype('float32')),\n",
       " ('log_return1_realized_volatility_0_600_min_time', dtype('float32')),\n",
       " ('log_return2_realized_volatility_0_600_mean_time', dtype('float32')),\n",
       " ('log_return2_realized_volatility_0_600_std_time', dtype('float64')),\n",
       " ('log_return2_realized_volatility_0_600_max_time', dtype('float32')),\n",
       " ('log_return2_realized_volatility_0_600_min_time', dtype('float32')),\n",
       " ('log_return_price_realized_volatility_150_600_mean_time', dtype('float32')),\n",
       " ('log_return_price_realized_volatility_150_600_std_time', dtype('float64')),\n",
       " ('log_return_price_realized_volatility_150_600_max_time', dtype('float32')),\n",
       " ('log_return_price_realized_volatility_150_600_min_time', dtype('float32')),\n",
       " ('log_return1_realized_volatility_150_600_mean_time', dtype('float32')),\n",
       " ('log_return1_realized_volatility_150_600_std_time', dtype('float64')),\n",
       " ('log_return1_realized_volatility_150_600_max_time', dtype('float32')),\n",
       " ('log_return1_realized_volatility_150_600_min_time', dtype('float32')),\n",
       " ('log_return2_realized_volatility_150_600_mean_time', dtype('float32')),\n",
       " ('log_return2_realized_volatility_150_600_std_time', dtype('float64')),\n",
       " ('log_return2_realized_volatility_150_600_max_time', dtype('float32')),\n",
       " ('log_return2_realized_volatility_150_600_min_time', dtype('float32')),\n",
       " ('log_return_price_realized_volatility_300_600_mean_time', dtype('float32')),\n",
       " ('log_return_price_realized_volatility_300_600_std_time', dtype('float64')),\n",
       " ('log_return_price_realized_volatility_300_600_max_time', dtype('float32')),\n",
       " ('log_return_price_realized_volatility_300_600_min_time', dtype('float32')),\n",
       " ('log_return1_realized_volatility_300_600_mean_time', dtype('float32')),\n",
       " ('log_return1_realized_volatility_300_600_std_time', dtype('float64')),\n",
       " ('log_return1_realized_volatility_300_600_max_time', dtype('float32')),\n",
       " ('log_return1_realized_volatility_300_600_min_time', dtype('float32')),\n",
       " ('log_return2_realized_volatility_300_600_mean_time', dtype('float32')),\n",
       " ('log_return2_realized_volatility_300_600_std_time', dtype('float64')),\n",
       " ('log_return2_realized_volatility_300_600_max_time', dtype('float32')),\n",
       " ('log_return2_realized_volatility_300_600_min_time', dtype('float32')),\n",
       " ('log_return_price_realized_volatility_450_600_mean_time', dtype('float32')),\n",
       " ('log_return_price_realized_volatility_450_600_std_time', dtype('float64')),\n",
       " ('log_return_price_realized_volatility_450_600_max_time', dtype('float32')),\n",
       " ('log_return_price_realized_volatility_450_600_min_time', dtype('float32')),\n",
       " ('log_return1_realized_volatility_450_600_mean_time', dtype('float32')),\n",
       " ('log_return1_realized_volatility_450_600_std_time', dtype('float64')),\n",
       " ('log_return1_realized_volatility_450_600_max_time', dtype('float32')),\n",
       " ('log_return1_realized_volatility_450_600_min_time', dtype('float32')),\n",
       " ('log_return2_realized_volatility_450_600_mean_time', dtype('float32')),\n",
       " ('log_return2_realized_volatility_450_600_std_time', dtype('float64')),\n",
       " ('log_return2_realized_volatility_450_600_max_time', dtype('float32')),\n",
       " ('log_return2_realized_volatility_450_600_min_time', dtype('float32'))]"
      ]
     },
     "execution_count": 48,
     "metadata": {},
     "output_type": "execute_result"
    }
   ],
   "source": [
    "[(c, train_new[c].dtype) for c in train_new.columns]"
   ]
  },
  {
   "cell_type": "code",
   "execution_count": null,
   "id": "north-spanish",
   "metadata": {},
   "outputs": [],
   "source": []
  }
 ],
 "metadata": {
  "kernelspec": {
   "display_name": "Python 3.8.5 64-bit ('fastai': conda)",
   "language": "python",
   "name": "python38564bitfastaicondad52d12c5a30a4725bf9d3e235cf1271c"
  },
  "language_info": {
   "codemirror_mode": {
    "name": "ipython",
    "version": 3
   },
   "file_extension": ".py",
   "mimetype": "text/x-python",
   "name": "python",
   "nbconvert_exporter": "python",
   "pygments_lexer": "ipython3",
   "version": "3.8.5"
  }
 },
 "nbformat": 4,
 "nbformat_minor": 5
}
