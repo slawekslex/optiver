{
 "cells": [
  {
   "cell_type": "code",
   "execution_count": 1,
   "id": "joint-essay",
   "metadata": {},
   "outputs": [],
   "source": [
    "from fastai.tabular.all import *\n",
    "\n",
    "from sklearn.model_selection import KFold\n",
    "import lightgbm as lgb"
   ]
  },
  {
   "cell_type": "code",
   "execution_count": 2,
   "id": "yellow-short",
   "metadata": {},
   "outputs": [],
   "source": [
    "import pickle"
   ]
  },
  {
   "cell_type": "code",
   "execution_count": 3,
   "id": "endless-edward",
   "metadata": {},
   "outputs": [],
   "source": [
    "def rmspe(y_true, y_pred):\n",
    "    return np.sqrt(np.mean(np.square((y_true - y_pred) / y_true)))\n",
    "def feval_rmspe(y_pred, lgb_train):\n",
    "    y_true = lgb_train.get_label()\n",
    "    return 'RMSPE', rmspe(y_true, y_pred), False"
   ]
  },
  {
   "cell_type": "code",
   "execution_count": 4,
   "id": "closing-reservoir",
   "metadata": {},
   "outputs": [],
   "source": [
    "train_df = pd.read_csv('train_with_features.csv')"
   ]
  },
  {
   "cell_type": "code",
   "execution_count": 5,
   "id": "fallen-gamma",
   "metadata": {},
   "outputs": [],
   "source": [
    "def train_models(train):\n",
    "    # Hyperparammeters (optimized)\n",
    "    seed = 29\n",
    "    params = {\n",
    "        'learning_rate': 0.1,        \n",
    "        'lambda_l1': 2,\n",
    "        'lambda_l2': 7,\n",
    "        'num_leaves': 800,\n",
    "        'min_sum_hessian_in_leaf': 20,\n",
    "        'feature_fraction': 0.8,\n",
    "        'feature_fraction_bynode': 0.8,\n",
    "        'bagging_fraction': 0.9,\n",
    "        'bagging_freq': 42,\n",
    "        'min_data_in_leaf': 700,\n",
    "        'max_depth': 4,\n",
    "        'seed': seed,\n",
    "        'feature_fraction_seed': seed,\n",
    "        'bagging_seed': seed,\n",
    "        'drop_seed': seed,\n",
    "        'data_random_seed': seed,\n",
    "        'objective': 'rmse',\n",
    "        'boosting': 'gbdt',\n",
    "        'verbosity': -1,\n",
    "        'n_jobs': -1,\n",
    "    }   \n",
    "    \n",
    "    # Split features and target\n",
    "    x = train.drop(['row_id', 'target', 'time_id'], axis = 1)\n",
    "    y = train['target']\n",
    "    # Transform stock id to a numeric value\n",
    "    x['stock_id'] = x['stock_id'].astype(int)\n",
    "    models =[]\n",
    "    # Create out of folds array\n",
    "    oof_predictions = np.zeros(x.shape[0])\n",
    "    # Create a KFold object\n",
    "    kfold = KFold(n_splits = 10, random_state = 1111, shuffle = True)\n",
    "    # Iterate through each fold\n",
    "    for fold, (trn_ind, val_ind) in enumerate(kfold.split(x)):\n",
    "        print(f'Training fold {fold + 1}')\n",
    "        x_train, x_val = x.iloc[trn_ind], x.iloc[val_ind]\n",
    "        y_train, y_val = y.iloc[trn_ind], y.iloc[val_ind]\n",
    "        # Root mean squared percentage error weights\n",
    "        train_weights = 1 / np.square(y_train)\n",
    "        val_weights = 1 / np.square(y_val)\n",
    "        train_dataset = lgb.Dataset(x_train, y_train, weight = train_weights, categorical_feature = ['stock_id'])\n",
    "        val_dataset = lgb.Dataset(x_val, y_val, weight = val_weights, categorical_feature = ['stock_id'])\n",
    "        model = lgb.train(params = params, \n",
    "                          train_set = train_dataset, \n",
    "                          valid_sets = [train_dataset, val_dataset], \n",
    "                          num_boost_round = 3000, \n",
    "                          early_stopping_rounds = 25, \n",
    "                          verbose_eval = 100,\n",
    "                          feval = feval_rmspe)\n",
    "        models.append(model)\n",
    "        # Add predictions to the out of folds array\n",
    "        oof_predictions[val_ind] = model.predict(x_val)\n",
    "        # Predict the test set\n",
    "        #test_predictions += model.predict(x_test) / 10\n",
    "        \n",
    "    rmspe_score = rmspe(y, oof_predictions)\n",
    "    print(f'Our out of folds RMSPE is {rmspe_score}')\n",
    "    # Return test predictions\n",
    "    return models"
   ]
  },
  {
   "cell_type": "code",
   "execution_count": 9,
   "id": "prompt-layer",
   "metadata": {},
   "outputs": [
    {
     "name": "stdout",
     "output_type": "stream",
     "text": [
      "Training fold 1\n"
     ]
    },
    {
     "name": "stderr",
     "output_type": "stream",
     "text": [
      "/home/slex/programy/anaconda3/envs/fastai/lib/python3.8/site-packages/lightgbm/basic.py:1551: UserWarning: Using categorical_feature in Dataset.\n",
      "  warnings.warn('Using categorical_feature in Dataset.')\n",
      "/home/slex/programy/anaconda3/envs/fastai/lib/python3.8/site-packages/lightgbm/basic.py:1286: UserWarning: Overriding the parameters from Reference Dataset.\n",
      "  warnings.warn('Overriding the parameters from Reference Dataset.')\n",
      "/home/slex/programy/anaconda3/envs/fastai/lib/python3.8/site-packages/lightgbm/basic.py:1098: UserWarning: categorical_column in param dict is overridden.\n",
      "  warnings.warn('{} in param dict is overridden.'.format(cat_alias))\n"
     ]
    },
    {
     "name": "stdout",
     "output_type": "stream",
     "text": [
      "Training until validation scores don't improve for 25 rounds\n",
      "[100]\ttraining's rmse: 0.000473181\ttraining's RMSPE: 0.219006\tvalid_1's rmse: 0.000486846\tvalid_1's RMSPE: 0.225212\n",
      "[200]\ttraining's rmse: 0.000457561\ttraining's RMSPE: 0.211776\tvalid_1's rmse: 0.000475783\tvalid_1's RMSPE: 0.220095\n",
      "[300]\ttraining's rmse: 0.000446237\ttraining's RMSPE: 0.206535\tvalid_1's rmse: 0.000467194\tvalid_1's RMSPE: 0.216122\n",
      "[400]\ttraining's rmse: 0.000437508\ttraining's RMSPE: 0.202495\tvalid_1's rmse: 0.000460669\tvalid_1's RMSPE: 0.213103\n",
      "[500]\ttraining's rmse: 0.00043029\ttraining's RMSPE: 0.199154\tvalid_1's rmse: 0.000456661\tvalid_1's RMSPE: 0.211249\n",
      "[600]\ttraining's rmse: 0.000423433\ttraining's RMSPE: 0.19598\tvalid_1's rmse: 0.0004523\tvalid_1's RMSPE: 0.209232\n",
      "[700]\ttraining's rmse: 0.000417333\ttraining's RMSPE: 0.193157\tvalid_1's rmse: 0.000447933\tvalid_1's RMSPE: 0.207212\n",
      "[800]\ttraining's rmse: 0.00041227\ttraining's RMSPE: 0.190814\tvalid_1's rmse: 0.000445541\tvalid_1's RMSPE: 0.206105\n",
      "[900]\ttraining's rmse: 0.000408296\ttraining's RMSPE: 0.188974\tvalid_1's rmse: 0.000443511\tvalid_1's RMSPE: 0.205166\n",
      "[1000]\ttraining's rmse: 0.000404188\ttraining's RMSPE: 0.187073\tvalid_1's rmse: 0.000441325\tvalid_1's RMSPE: 0.204155\n",
      "[1100]\ttraining's rmse: 0.000400552\ttraining's RMSPE: 0.18539\tvalid_1's rmse: 0.000439907\tvalid_1's RMSPE: 0.203499\n",
      "[1200]\ttraining's rmse: 0.000397652\ttraining's RMSPE: 0.184048\tvalid_1's rmse: 0.000438632\tvalid_1's RMSPE: 0.202909\n",
      "[1300]\ttraining's rmse: 0.000394513\ttraining's RMSPE: 0.182595\tvalid_1's rmse: 0.000437715\tvalid_1's RMSPE: 0.202485\n",
      "Early stopping, best iteration is:\n",
      "[1296]\ttraining's rmse: 0.000394598\ttraining's RMSPE: 0.182634\tvalid_1's rmse: 0.000437605\tvalid_1's RMSPE: 0.202434\n",
      "Training fold 2\n"
     ]
    },
    {
     "name": "stderr",
     "output_type": "stream",
     "text": [
      "/home/slex/programy/anaconda3/envs/fastai/lib/python3.8/site-packages/lightgbm/basic.py:1551: UserWarning: Using categorical_feature in Dataset.\n",
      "  warnings.warn('Using categorical_feature in Dataset.')\n",
      "/home/slex/programy/anaconda3/envs/fastai/lib/python3.8/site-packages/lightgbm/basic.py:1286: UserWarning: Overriding the parameters from Reference Dataset.\n",
      "  warnings.warn('Overriding the parameters from Reference Dataset.')\n",
      "/home/slex/programy/anaconda3/envs/fastai/lib/python3.8/site-packages/lightgbm/basic.py:1098: UserWarning: categorical_column in param dict is overridden.\n",
      "  warnings.warn('{} in param dict is overridden.'.format(cat_alias))\n"
     ]
    },
    {
     "name": "stdout",
     "output_type": "stream",
     "text": [
      "Training until validation scores don't improve for 25 rounds\n",
      "[100]\ttraining's rmse: 0.000471707\ttraining's RMSPE: 0.218371\tvalid_1's rmse: 0.00047796\tvalid_1's RMSPE: 0.220672\n",
      "[200]\ttraining's rmse: 0.000455531\ttraining's RMSPE: 0.210882\tvalid_1's rmse: 0.000464718\tvalid_1's RMSPE: 0.214558\n",
      "[300]\ttraining's rmse: 0.000444508\ttraining's RMSPE: 0.205779\tvalid_1's rmse: 0.00045592\tvalid_1's RMSPE: 0.210496\n",
      "[400]\ttraining's rmse: 0.00043594\ttraining's RMSPE: 0.201813\tvalid_1's rmse: 0.000449861\tvalid_1's RMSPE: 0.207699\n",
      "[500]\ttraining's rmse: 0.000428713\ttraining's RMSPE: 0.198467\tvalid_1's rmse: 0.000445157\tvalid_1's RMSPE: 0.205527\n",
      "[600]\ttraining's rmse: 0.000422261\ttraining's RMSPE: 0.19548\tvalid_1's rmse: 0.000440585\tvalid_1's RMSPE: 0.203416\n",
      "[700]\ttraining's rmse: 0.000416667\ttraining's RMSPE: 0.192891\tvalid_1's rmse: 0.00043728\tvalid_1's RMSPE: 0.20189\n",
      "[800]\ttraining's rmse: 0.000411275\ttraining's RMSPE: 0.190394\tvalid_1's rmse: 0.000433713\tvalid_1's RMSPE: 0.200243\n",
      "[900]\ttraining's rmse: 0.000407284\ttraining's RMSPE: 0.188547\tvalid_1's rmse: 0.000431489\tvalid_1's RMSPE: 0.199217\n",
      "[1000]\ttraining's rmse: 0.000403541\ttraining's RMSPE: 0.186814\tvalid_1's rmse: 0.000429608\tvalid_1's RMSPE: 0.198348\n",
      "[1100]\ttraining's rmse: 0.000400205\ttraining's RMSPE: 0.18527\tvalid_1's rmse: 0.000427954\tvalid_1's RMSPE: 0.197584\n",
      "[1200]\ttraining's rmse: 0.000397058\ttraining's RMSPE: 0.183813\tvalid_1's rmse: 0.00042645\tvalid_1's RMSPE: 0.19689\n",
      "[1300]\ttraining's rmse: 0.000394303\ttraining's RMSPE: 0.182537\tvalid_1's rmse: 0.000425284\tvalid_1's RMSPE: 0.196352\n",
      "[1400]\ttraining's rmse: 0.000391367\ttraining's RMSPE: 0.181178\tvalid_1's rmse: 0.000423968\tvalid_1's RMSPE: 0.195744\n",
      "[1500]\ttraining's rmse: 0.000388502\ttraining's RMSPE: 0.179852\tvalid_1's rmse: 0.000422746\tvalid_1's RMSPE: 0.19518\n",
      "[1600]\ttraining's rmse: 0.000386111\ttraining's RMSPE: 0.178745\tvalid_1's rmse: 0.000421996\tvalid_1's RMSPE: 0.194834\n",
      "[1700]\ttraining's rmse: 0.0003839\ttraining's RMSPE: 0.177721\tvalid_1's rmse: 0.00042137\tvalid_1's RMSPE: 0.194545\n",
      "[1800]\ttraining's rmse: 0.000381417\ttraining's RMSPE: 0.176572\tvalid_1's rmse: 0.000420585\tvalid_1's RMSPE: 0.194182\n",
      "[1900]\ttraining's rmse: 0.000379345\ttraining's RMSPE: 0.175613\tvalid_1's rmse: 0.000420008\tvalid_1's RMSPE: 0.193916\n",
      "[2000]\ttraining's rmse: 0.000377086\ttraining's RMSPE: 0.174567\tvalid_1's rmse: 0.000419493\tvalid_1's RMSPE: 0.193678\n",
      "[2100]\ttraining's rmse: 0.000375047\ttraining's RMSPE: 0.173623\tvalid_1's rmse: 0.000418772\tvalid_1's RMSPE: 0.193345\n",
      "[2200]\ttraining's rmse: 0.000373173\ttraining's RMSPE: 0.172755\tvalid_1's rmse: 0.000418324\tvalid_1's RMSPE: 0.193138\n",
      "[2300]\ttraining's rmse: 0.000371298\ttraining's RMSPE: 0.171887\tvalid_1's rmse: 0.000417922\tvalid_1's RMSPE: 0.192953\n",
      "Early stopping, best iteration is:\n",
      "[2351]\ttraining's rmse: 0.000370378\ttraining's RMSPE: 0.171461\tvalid_1's rmse: 0.000417768\tvalid_1's RMSPE: 0.192882\n",
      "Training fold 3\n"
     ]
    },
    {
     "name": "stderr",
     "output_type": "stream",
     "text": [
      "/home/slex/programy/anaconda3/envs/fastai/lib/python3.8/site-packages/lightgbm/basic.py:1551: UserWarning: Using categorical_feature in Dataset.\n",
      "  warnings.warn('Using categorical_feature in Dataset.')\n",
      "/home/slex/programy/anaconda3/envs/fastai/lib/python3.8/site-packages/lightgbm/basic.py:1286: UserWarning: Overriding the parameters from Reference Dataset.\n",
      "  warnings.warn('Overriding the parameters from Reference Dataset.')\n",
      "/home/slex/programy/anaconda3/envs/fastai/lib/python3.8/site-packages/lightgbm/basic.py:1098: UserWarning: categorical_column in param dict is overridden.\n",
      "  warnings.warn('{} in param dict is overridden.'.format(cat_alias))\n"
     ]
    },
    {
     "name": "stdout",
     "output_type": "stream",
     "text": [
      "Training until validation scores don't improve for 25 rounds\n",
      "[100]\ttraining's rmse: 0.00047342\ttraining's RMSPE: 0.21882\tvalid_1's rmse: 0.000501723\tvalid_1's RMSPE: 0.234905\n",
      "[200]\ttraining's rmse: 0.000457799\ttraining's RMSPE: 0.2116\tvalid_1's rmse: 0.000493499\tvalid_1's RMSPE: 0.231054\n",
      "[300]\ttraining's rmse: 0.000446382\ttraining's RMSPE: 0.206323\tvalid_1's rmse: 0.000483827\tvalid_1's RMSPE: 0.226525\n",
      "[400]\ttraining's rmse: 0.000437694\ttraining's RMSPE: 0.202307\tvalid_1's rmse: 0.00047766\tvalid_1's RMSPE: 0.223638\n",
      "[500]\ttraining's rmse: 0.000429622\ttraining's RMSPE: 0.198576\tvalid_1's rmse: 0.000469612\tvalid_1's RMSPE: 0.21987\n",
      "[600]\ttraining's rmse: 0.000423447\ttraining's RMSPE: 0.195722\tvalid_1's rmse: 0.00046505\tvalid_1's RMSPE: 0.217734\n",
      "[700]\ttraining's rmse: 0.000417594\ttraining's RMSPE: 0.193016\tvalid_1's rmse: 0.000460762\tvalid_1's RMSPE: 0.215727\n",
      "[800]\ttraining's rmse: 0.000412897\ttraining's RMSPE: 0.190845\tvalid_1's rmse: 0.000457902\tvalid_1's RMSPE: 0.214388\n",
      "[900]\ttraining's rmse: 0.000408239\ttraining's RMSPE: 0.188693\tvalid_1's rmse: 0.000454064\tvalid_1's RMSPE: 0.212591\n",
      "Early stopping, best iteration is:\n",
      "[929]\ttraining's rmse: 0.000407149\ttraining's RMSPE: 0.188189\tvalid_1's rmse: 0.000453383\tvalid_1's RMSPE: 0.212272\n",
      "Training fold 4\n"
     ]
    },
    {
     "name": "stderr",
     "output_type": "stream",
     "text": [
      "/home/slex/programy/anaconda3/envs/fastai/lib/python3.8/site-packages/lightgbm/basic.py:1551: UserWarning: Using categorical_feature in Dataset.\n",
      "  warnings.warn('Using categorical_feature in Dataset.')\n",
      "/home/slex/programy/anaconda3/envs/fastai/lib/python3.8/site-packages/lightgbm/basic.py:1286: UserWarning: Overriding the parameters from Reference Dataset.\n",
      "  warnings.warn('Overriding the parameters from Reference Dataset.')\n",
      "/home/slex/programy/anaconda3/envs/fastai/lib/python3.8/site-packages/lightgbm/basic.py:1098: UserWarning: categorical_column in param dict is overridden.\n",
      "  warnings.warn('{} in param dict is overridden.'.format(cat_alias))\n"
     ]
    },
    {
     "name": "stdout",
     "output_type": "stream",
     "text": [
      "Training until validation scores don't improve for 25 rounds\n",
      "[100]\ttraining's rmse: 0.000472288\ttraining's RMSPE: 0.218733\tvalid_1's rmse: 0.000477439\tvalid_1's RMSPE: 0.219578\n",
      "[200]\ttraining's rmse: 0.00045697\ttraining's RMSPE: 0.211639\tvalid_1's rmse: 0.000465658\tvalid_1's RMSPE: 0.21416\n",
      "[300]\ttraining's rmse: 0.000444941\ttraining's RMSPE: 0.206067\tvalid_1's rmse: 0.000456569\tvalid_1's RMSPE: 0.20998\n",
      "[400]\ttraining's rmse: 0.000436051\ttraining's RMSPE: 0.20195\tvalid_1's rmse: 0.000450006\tvalid_1's RMSPE: 0.206962\n",
      "[500]\ttraining's rmse: 0.000428866\ttraining's RMSPE: 0.198622\tvalid_1's rmse: 0.000444953\tvalid_1's RMSPE: 0.204637\n",
      "[600]\ttraining's rmse: 0.000422264\ttraining's RMSPE: 0.195565\tvalid_1's rmse: 0.000441088\tvalid_1's RMSPE: 0.20286\n",
      "[700]\ttraining's rmse: 0.000416537\ttraining's RMSPE: 0.192912\tvalid_1's rmse: 0.00043769\tvalid_1's RMSPE: 0.201297\n",
      "[800]\ttraining's rmse: 0.000411676\ttraining's RMSPE: 0.190661\tvalid_1's rmse: 0.000434903\tvalid_1's RMSPE: 0.200015\n",
      "[900]\ttraining's rmse: 0.000407495\ttraining's RMSPE: 0.188725\tvalid_1's rmse: 0.000432555\tvalid_1's RMSPE: 0.198936\n",
      "[1000]\ttraining's rmse: 0.00040378\ttraining's RMSPE: 0.187004\tvalid_1's rmse: 0.00043111\tvalid_1's RMSPE: 0.198271\n",
      "Early stopping, best iteration is:\n",
      "[1009]\ttraining's rmse: 0.000403544\ttraining's RMSPE: 0.186895\tvalid_1's rmse: 0.000431013\tvalid_1's RMSPE: 0.198226\n",
      "Training fold 5\n"
     ]
    },
    {
     "name": "stderr",
     "output_type": "stream",
     "text": [
      "/home/slex/programy/anaconda3/envs/fastai/lib/python3.8/site-packages/lightgbm/basic.py:1551: UserWarning: Using categorical_feature in Dataset.\n",
      "  warnings.warn('Using categorical_feature in Dataset.')\n",
      "/home/slex/programy/anaconda3/envs/fastai/lib/python3.8/site-packages/lightgbm/basic.py:1286: UserWarning: Overriding the parameters from Reference Dataset.\n",
      "  warnings.warn('Overriding the parameters from Reference Dataset.')\n",
      "/home/slex/programy/anaconda3/envs/fastai/lib/python3.8/site-packages/lightgbm/basic.py:1098: UserWarning: categorical_column in param dict is overridden.\n",
      "  warnings.warn('{} in param dict is overridden.'.format(cat_alias))\n"
     ]
    },
    {
     "name": "stdout",
     "output_type": "stream",
     "text": [
      "Training until validation scores don't improve for 25 rounds\n",
      "[100]\ttraining's rmse: 0.000472412\ttraining's RMSPE: 0.218772\tvalid_1's rmse: 0.000479161\tvalid_1's RMSPE: 0.220537\n",
      "[200]\ttraining's rmse: 0.000456474\ttraining's RMSPE: 0.211391\tvalid_1's rmse: 0.000466351\tvalid_1's RMSPE: 0.214641\n",
      "[300]\ttraining's rmse: 0.000445154\ttraining's RMSPE: 0.206149\tvalid_1's rmse: 0.000457729\tvalid_1's RMSPE: 0.210672\n",
      "[400]\ttraining's rmse: 0.000437009\ttraining's RMSPE: 0.202377\tvalid_1's rmse: 0.000451974\tvalid_1's RMSPE: 0.208024\n",
      "[500]\ttraining's rmse: 0.000428781\ttraining's RMSPE: 0.198567\tvalid_1's rmse: 0.000445569\tvalid_1's RMSPE: 0.205076\n",
      "[600]\ttraining's rmse: 0.000422661\ttraining's RMSPE: 0.195733\tvalid_1's rmse: 0.000441552\tvalid_1's RMSPE: 0.203227\n",
      "[700]\ttraining's rmse: 0.000416902\ttraining's RMSPE: 0.193066\tvalid_1's rmse: 0.000437614\tvalid_1's RMSPE: 0.201414\n",
      "[800]\ttraining's rmse: 0.000412124\ttraining's RMSPE: 0.190853\tvalid_1's rmse: 0.000434963\tvalid_1's RMSPE: 0.200194\n",
      "[900]\ttraining's rmse: 0.000408195\ttraining's RMSPE: 0.189033\tvalid_1's rmse: 0.000432905\tvalid_1's RMSPE: 0.199247\n",
      "[1000]\ttraining's rmse: 0.000404056\ttraining's RMSPE: 0.187117\tvalid_1's rmse: 0.000430856\tvalid_1's RMSPE: 0.198304\n",
      "[1100]\ttraining's rmse: 0.000400668\ttraining's RMSPE: 0.185548\tvalid_1's rmse: 0.00042906\tvalid_1's RMSPE: 0.197477\n",
      "[1200]\ttraining's rmse: 0.000397295\ttraining's RMSPE: 0.183986\tvalid_1's rmse: 0.000427218\tvalid_1's RMSPE: 0.19663\n",
      "[1300]\ttraining's rmse: 0.000394382\ttraining's RMSPE: 0.182637\tvalid_1's rmse: 0.00042587\tvalid_1's RMSPE: 0.196009\n",
      "[1400]\ttraining's rmse: 0.000391261\ttraining's RMSPE: 0.181192\tvalid_1's rmse: 0.000424433\tvalid_1's RMSPE: 0.195348\n",
      "[1500]\ttraining's rmse: 0.00038828\ttraining's RMSPE: 0.179811\tvalid_1's rmse: 0.000423253\tvalid_1's RMSPE: 0.194805\n",
      "[1600]\ttraining's rmse: 0.00038566\ttraining's RMSPE: 0.178598\tvalid_1's rmse: 0.000422387\tvalid_1's RMSPE: 0.194406\n",
      "[1700]\ttraining's rmse: 0.000383393\ttraining's RMSPE: 0.177548\tvalid_1's rmse: 0.000421769\tvalid_1's RMSPE: 0.194122\n",
      "[1800]\ttraining's rmse: 0.000381236\ttraining's RMSPE: 0.176549\tvalid_1's rmse: 0.000421206\tvalid_1's RMSPE: 0.193863\n",
      "Early stopping, best iteration is:\n",
      "[1838]\ttraining's rmse: 0.000380405\ttraining's RMSPE: 0.176164\tvalid_1's rmse: 0.000420918\tvalid_1's RMSPE: 0.19373\n",
      "Training fold 6\n"
     ]
    },
    {
     "name": "stderr",
     "output_type": "stream",
     "text": [
      "/home/slex/programy/anaconda3/envs/fastai/lib/python3.8/site-packages/lightgbm/basic.py:1551: UserWarning: Using categorical_feature in Dataset.\n",
      "  warnings.warn('Using categorical_feature in Dataset.')\n",
      "/home/slex/programy/anaconda3/envs/fastai/lib/python3.8/site-packages/lightgbm/basic.py:1286: UserWarning: Overriding the parameters from Reference Dataset.\n",
      "  warnings.warn('Overriding the parameters from Reference Dataset.')\n",
      "/home/slex/programy/anaconda3/envs/fastai/lib/python3.8/site-packages/lightgbm/basic.py:1098: UserWarning: categorical_column in param dict is overridden.\n",
      "  warnings.warn('{} in param dict is overridden.'.format(cat_alias))\n"
     ]
    },
    {
     "name": "stdout",
     "output_type": "stream",
     "text": [
      "Training until validation scores don't improve for 25 rounds\n",
      "[100]\ttraining's rmse: 0.000474152\ttraining's RMSPE: 0.219398\tvalid_1's rmse: 0.000479756\tvalid_1's RMSPE: 0.222452\n",
      "[200]\ttraining's rmse: 0.000457296\ttraining's RMSPE: 0.211598\tvalid_1's rmse: 0.000465317\tvalid_1's RMSPE: 0.215756\n",
      "[300]\ttraining's rmse: 0.000446563\ttraining's RMSPE: 0.206632\tvalid_1's rmse: 0.000457194\tvalid_1's RMSPE: 0.21199\n",
      "[400]\ttraining's rmse: 0.000438023\ttraining's RMSPE: 0.202681\tvalid_1's rmse: 0.000450689\tvalid_1's RMSPE: 0.208974\n",
      "[500]\ttraining's rmse: 0.00043052\ttraining's RMSPE: 0.199209\tvalid_1's rmse: 0.000445167\tvalid_1's RMSPE: 0.206413\n",
      "[600]\ttraining's rmse: 0.000424101\ttraining's RMSPE: 0.196239\tvalid_1's rmse: 0.000440328\tvalid_1's RMSPE: 0.20417\n",
      "[700]\ttraining's rmse: 0.000418955\ttraining's RMSPE: 0.193858\tvalid_1's rmse: 0.000437037\tvalid_1's RMSPE: 0.202644\n",
      "[800]\ttraining's rmse: 0.000413881\ttraining's RMSPE: 0.191509\tvalid_1's rmse: 0.000433666\tvalid_1's RMSPE: 0.201081\n",
      "[900]\ttraining's rmse: 0.000409635\ttraining's RMSPE: 0.189545\tvalid_1's rmse: 0.000431289\tvalid_1's RMSPE: 0.199979\n",
      "[1000]\ttraining's rmse: 0.000405643\ttraining's RMSPE: 0.187698\tvalid_1's rmse: 0.000428839\tvalid_1's RMSPE: 0.198843\n",
      "[1100]\ttraining's rmse: 0.000401781\ttraining's RMSPE: 0.185911\tvalid_1's rmse: 0.000426639\tvalid_1's RMSPE: 0.197823\n",
      "[1200]\ttraining's rmse: 0.000398473\ttraining's RMSPE: 0.18438\tvalid_1's rmse: 0.000425143\tvalid_1's RMSPE: 0.197129\n",
      "[1300]\ttraining's rmse: 0.000395314\ttraining's RMSPE: 0.182919\tvalid_1's rmse: 0.000423542\tvalid_1's RMSPE: 0.196387\n",
      "[1400]\ttraining's rmse: 0.000392554\ttraining's RMSPE: 0.181641\tvalid_1's rmse: 0.000422279\tvalid_1's RMSPE: 0.195801\n",
      "[1500]\ttraining's rmse: 0.000389662\ttraining's RMSPE: 0.180303\tvalid_1's rmse: 0.000421029\tvalid_1's RMSPE: 0.195221\n",
      "[1600]\ttraining's rmse: 0.000386939\ttraining's RMSPE: 0.179043\tvalid_1's rmse: 0.000419903\tvalid_1's RMSPE: 0.194699\n",
      "[1700]\ttraining's rmse: 0.000384618\ttraining's RMSPE: 0.177969\tvalid_1's rmse: 0.000419092\tvalid_1's RMSPE: 0.194323\n",
      "[1800]\ttraining's rmse: 0.000382373\ttraining's RMSPE: 0.176931\tvalid_1's rmse: 0.000418066\tvalid_1's RMSPE: 0.193847\n",
      "[1900]\ttraining's rmse: 0.000380183\ttraining's RMSPE: 0.175917\tvalid_1's rmse: 0.000417406\tvalid_1's RMSPE: 0.193541\n",
      "[2000]\ttraining's rmse: 0.0003782\ttraining's RMSPE: 0.174999\tvalid_1's rmse: 0.000416748\tvalid_1's RMSPE: 0.193236\n",
      "[2100]\ttraining's rmse: 0.000376062\ttraining's RMSPE: 0.17401\tvalid_1's rmse: 0.000416143\tvalid_1's RMSPE: 0.192956\n",
      "[2200]\ttraining's rmse: 0.000374248\ttraining's RMSPE: 0.173171\tvalid_1's rmse: 0.000415611\tvalid_1's RMSPE: 0.192709\n",
      "[2300]\ttraining's rmse: 0.000372366\ttraining's RMSPE: 0.1723\tvalid_1's rmse: 0.000415046\tvalid_1's RMSPE: 0.192447\n",
      "[2400]\ttraining's rmse: 0.000370699\ttraining's RMSPE: 0.171529\tvalid_1's rmse: 0.000414778\tvalid_1's RMSPE: 0.192323\n",
      "[2500]\ttraining's rmse: 0.000368824\ttraining's RMSPE: 0.170661\tvalid_1's rmse: 0.000414082\tvalid_1's RMSPE: 0.192\n",
      "Early stopping, best iteration is:\n",
      "[2550]\ttraining's rmse: 0.000367961\ttraining's RMSPE: 0.170262\tvalid_1's rmse: 0.000413972\tvalid_1's RMSPE: 0.191949\n",
      "Training fold 7\n"
     ]
    },
    {
     "name": "stderr",
     "output_type": "stream",
     "text": [
      "/home/slex/programy/anaconda3/envs/fastai/lib/python3.8/site-packages/lightgbm/basic.py:1551: UserWarning: Using categorical_feature in Dataset.\n",
      "  warnings.warn('Using categorical_feature in Dataset.')\n",
      "/home/slex/programy/anaconda3/envs/fastai/lib/python3.8/site-packages/lightgbm/basic.py:1286: UserWarning: Overriding the parameters from Reference Dataset.\n",
      "  warnings.warn('Overriding the parameters from Reference Dataset.')\n",
      "/home/slex/programy/anaconda3/envs/fastai/lib/python3.8/site-packages/lightgbm/basic.py:1098: UserWarning: categorical_column in param dict is overridden.\n",
      "  warnings.warn('{} in param dict is overridden.'.format(cat_alias))\n"
     ]
    },
    {
     "name": "stdout",
     "output_type": "stream",
     "text": [
      "Training until validation scores don't improve for 25 rounds\n",
      "[100]\ttraining's rmse: 0.000472454\ttraining's RMSPE: 0.218558\tvalid_1's rmse: 0.0004791\tvalid_1's RMSPE: 0.222639\n",
      "[200]\ttraining's rmse: 0.000457138\ttraining's RMSPE: 0.211473\tvalid_1's rmse: 0.000468351\tvalid_1's RMSPE: 0.217644\n",
      "[300]\ttraining's rmse: 0.000446223\ttraining's RMSPE: 0.206424\tvalid_1's rmse: 0.000461491\tvalid_1's RMSPE: 0.214457\n",
      "[400]\ttraining's rmse: 0.000437307\ttraining's RMSPE: 0.202299\tvalid_1's rmse: 0.000456257\tvalid_1's RMSPE: 0.212024\n",
      "[500]\ttraining's rmse: 0.00043019\ttraining's RMSPE: 0.199007\tvalid_1's rmse: 0.000451753\tvalid_1's RMSPE: 0.209931\n",
      "[600]\ttraining's rmse: 0.00042418\ttraining's RMSPE: 0.196227\tvalid_1's rmse: 0.000448374\tvalid_1's RMSPE: 0.208361\n",
      "[700]\ttraining's rmse: 0.000417664\ttraining's RMSPE: 0.193212\tvalid_1's rmse: 0.000443874\tvalid_1's RMSPE: 0.20627\n",
      "[800]\ttraining's rmse: 0.000412729\ttraining's RMSPE: 0.190929\tvalid_1's rmse: 0.000441621\tvalid_1's RMSPE: 0.205223\n",
      "[900]\ttraining's rmse: 0.00040851\ttraining's RMSPE: 0.188978\tvalid_1's rmse: 0.000440075\tvalid_1's RMSPE: 0.204504\n",
      "Early stopping, best iteration is:\n",
      "[939]\ttraining's rmse: 0.00040675\ttraining's RMSPE: 0.188163\tvalid_1's rmse: 0.000439355\tvalid_1's RMSPE: 0.20417\n",
      "Training fold 8\n"
     ]
    },
    {
     "name": "stderr",
     "output_type": "stream",
     "text": [
      "/home/slex/programy/anaconda3/envs/fastai/lib/python3.8/site-packages/lightgbm/basic.py:1551: UserWarning: Using categorical_feature in Dataset.\n",
      "  warnings.warn('Using categorical_feature in Dataset.')\n",
      "/home/slex/programy/anaconda3/envs/fastai/lib/python3.8/site-packages/lightgbm/basic.py:1286: UserWarning: Overriding the parameters from Reference Dataset.\n",
      "  warnings.warn('Overriding the parameters from Reference Dataset.')\n",
      "/home/slex/programy/anaconda3/envs/fastai/lib/python3.8/site-packages/lightgbm/basic.py:1098: UserWarning: categorical_column in param dict is overridden.\n",
      "  warnings.warn('{} in param dict is overridden.'.format(cat_alias))\n"
     ]
    },
    {
     "name": "stdout",
     "output_type": "stream",
     "text": [
      "Training until validation scores don't improve for 25 rounds\n",
      "[100]\ttraining's rmse: 0.000472865\ttraining's RMSPE: 0.218703\tvalid_1's rmse: 0.000479656\tvalid_1's RMSPE: 0.223306\n",
      "[200]\ttraining's rmse: 0.000457075\ttraining's RMSPE: 0.211401\tvalid_1's rmse: 0.000468943\tvalid_1's RMSPE: 0.218318\n",
      "[300]\ttraining's rmse: 0.00044664\ttraining's RMSPE: 0.206574\tvalid_1's rmse: 0.000460825\tvalid_1's RMSPE: 0.214539\n",
      "[400]\ttraining's rmse: 0.000437076\ttraining's RMSPE: 0.202151\tvalid_1's rmse: 0.000453853\tvalid_1's RMSPE: 0.211294\n",
      "[500]\ttraining's rmse: 0.000429817\ttraining's RMSPE: 0.198793\tvalid_1's rmse: 0.000449541\tvalid_1's RMSPE: 0.209286\n",
      "[600]\ttraining's rmse: 0.00042287\ttraining's RMSPE: 0.19558\tvalid_1's rmse: 0.000444703\tvalid_1's RMSPE: 0.207034\n",
      "[700]\ttraining's rmse: 0.000417221\ttraining's RMSPE: 0.192968\tvalid_1's rmse: 0.00044096\tvalid_1's RMSPE: 0.205291\n",
      "[800]\ttraining's rmse: 0.000412405\ttraining's RMSPE: 0.19074\tvalid_1's rmse: 0.000438909\tvalid_1's RMSPE: 0.204336\n",
      "[900]\ttraining's rmse: 0.000407907\ttraining's RMSPE: 0.18866\tvalid_1's rmse: 0.000436005\tvalid_1's RMSPE: 0.202984\n",
      "[1000]\ttraining's rmse: 0.000403955\ttraining's RMSPE: 0.186832\tvalid_1's rmse: 0.000434177\tvalid_1's RMSPE: 0.202133\n",
      "[1100]\ttraining's rmse: 0.000400252\ttraining's RMSPE: 0.185119\tvalid_1's rmse: 0.000431921\tvalid_1's RMSPE: 0.201083\n",
      "[1200]\ttraining's rmse: 0.000396827\ttraining's RMSPE: 0.183535\tvalid_1's rmse: 0.000430325\tvalid_1's RMSPE: 0.20034\n",
      "Early stopping, best iteration is:\n",
      "[1211]\ttraining's rmse: 0.000396482\ttraining's RMSPE: 0.183376\tvalid_1's rmse: 0.000430295\tvalid_1's RMSPE: 0.200326\n",
      "Training fold 9\n"
     ]
    },
    {
     "name": "stderr",
     "output_type": "stream",
     "text": [
      "/home/slex/programy/anaconda3/envs/fastai/lib/python3.8/site-packages/lightgbm/basic.py:1551: UserWarning: Using categorical_feature in Dataset.\n",
      "  warnings.warn('Using categorical_feature in Dataset.')\n",
      "/home/slex/programy/anaconda3/envs/fastai/lib/python3.8/site-packages/lightgbm/basic.py:1286: UserWarning: Overriding the parameters from Reference Dataset.\n",
      "  warnings.warn('Overriding the parameters from Reference Dataset.')\n",
      "/home/slex/programy/anaconda3/envs/fastai/lib/python3.8/site-packages/lightgbm/basic.py:1098: UserWarning: categorical_column in param dict is overridden.\n",
      "  warnings.warn('{} in param dict is overridden.'.format(cat_alias))\n"
     ]
    },
    {
     "name": "stdout",
     "output_type": "stream",
     "text": [
      "Training until validation scores don't improve for 25 rounds\n",
      "[100]\ttraining's rmse: 0.000472532\ttraining's RMSPE: 0.218808\tvalid_1's rmse: 0.000488707\tvalid_1's RMSPE: 0.22511\n",
      "[200]\ttraining's rmse: 0.000456851\ttraining's RMSPE: 0.211547\tvalid_1's rmse: 0.000473923\tvalid_1's RMSPE: 0.2183\n",
      "[300]\ttraining's rmse: 0.000445591\ttraining's RMSPE: 0.206333\tvalid_1's rmse: 0.000464816\tvalid_1's RMSPE: 0.214106\n",
      "[400]\ttraining's rmse: 0.000436208\ttraining's RMSPE: 0.201988\tvalid_1's rmse: 0.000456801\tvalid_1's RMSPE: 0.210414\n",
      "[500]\ttraining's rmse: 0.000428726\ttraining's RMSPE: 0.198524\tvalid_1's rmse: 0.000451477\tvalid_1's RMSPE: 0.207961\n",
      "[600]\ttraining's rmse: 0.000422481\ttraining's RMSPE: 0.195632\tvalid_1's rmse: 0.000446431\tvalid_1's RMSPE: 0.205637\n",
      "[700]\ttraining's rmse: 0.000417237\ttraining's RMSPE: 0.193204\tvalid_1's rmse: 0.000443086\tvalid_1's RMSPE: 0.204097\n",
      "[800]\ttraining's rmse: 0.000412582\ttraining's RMSPE: 0.191048\tvalid_1's rmse: 0.000439504\tvalid_1's RMSPE: 0.202446\n",
      "[900]\ttraining's rmse: 0.000408668\ttraining's RMSPE: 0.189236\tvalid_1's rmse: 0.00043715\tvalid_1's RMSPE: 0.201362\n",
      "[1000]\ttraining's rmse: 0.000404351\ttraining's RMSPE: 0.187237\tvalid_1's rmse: 0.000434576\tvalid_1's RMSPE: 0.200177\n",
      "[1100]\ttraining's rmse: 0.000400542\ttraining's RMSPE: 0.185473\tvalid_1's rmse: 0.000432771\tvalid_1's RMSPE: 0.199345\n",
      "[1200]\ttraining's rmse: 0.000397205\ttraining's RMSPE: 0.183928\tvalid_1's rmse: 0.000431279\tvalid_1's RMSPE: 0.198658\n",
      "[1300]\ttraining's rmse: 0.000394345\ttraining's RMSPE: 0.182603\tvalid_1's rmse: 0.000430072\tvalid_1's RMSPE: 0.198102\n",
      "[1400]\ttraining's rmse: 0.000391589\ttraining's RMSPE: 0.181327\tvalid_1's rmse: 0.000428916\tvalid_1's RMSPE: 0.197569\n",
      "Early stopping, best iteration is:\n",
      "[1471]\ttraining's rmse: 0.000389387\ttraining's RMSPE: 0.180308\tvalid_1's rmse: 0.000427545\tvalid_1's RMSPE: 0.196938\n",
      "Training fold 10\n"
     ]
    },
    {
     "name": "stderr",
     "output_type": "stream",
     "text": [
      "/home/slex/programy/anaconda3/envs/fastai/lib/python3.8/site-packages/lightgbm/basic.py:1551: UserWarning: Using categorical_feature in Dataset.\n",
      "  warnings.warn('Using categorical_feature in Dataset.')\n",
      "/home/slex/programy/anaconda3/envs/fastai/lib/python3.8/site-packages/lightgbm/basic.py:1286: UserWarning: Overriding the parameters from Reference Dataset.\n",
      "  warnings.warn('Overriding the parameters from Reference Dataset.')\n",
      "/home/slex/programy/anaconda3/envs/fastai/lib/python3.8/site-packages/lightgbm/basic.py:1098: UserWarning: categorical_column in param dict is overridden.\n",
      "  warnings.warn('{} in param dict is overridden.'.format(cat_alias))\n"
     ]
    },
    {
     "name": "stdout",
     "output_type": "stream",
     "text": [
      "Training until validation scores don't improve for 25 rounds\n",
      "[100]\ttraining's rmse: 0.000474078\ttraining's RMSPE: 0.219513\tvalid_1's rmse: 0.00048586\tvalid_1's RMSPE: 0.223907\n",
      "[200]\ttraining's rmse: 0.000457388\ttraining's RMSPE: 0.211785\tvalid_1's rmse: 0.000473024\tvalid_1's RMSPE: 0.217992\n",
      "[300]\ttraining's rmse: 0.000445665\ttraining's RMSPE: 0.206356\tvalid_1's rmse: 0.000464257\tvalid_1's RMSPE: 0.213951\n",
      "[400]\ttraining's rmse: 0.000436671\ttraining's RMSPE: 0.202192\tvalid_1's rmse: 0.000458102\tvalid_1's RMSPE: 0.211115\n",
      "[500]\ttraining's rmse: 0.000429472\ttraining's RMSPE: 0.198859\tvalid_1's rmse: 0.000453695\tvalid_1's RMSPE: 0.209084\n",
      "Early stopping, best iteration is:\n",
      "[562]\ttraining's rmse: 0.000425444\ttraining's RMSPE: 0.196994\tvalid_1's rmse: 0.00045201\tvalid_1's RMSPE: 0.208307\n",
      "Our out of folds RMSPE is 0.20022585980078092\n"
     ]
    },
    {
     "data": {
      "text/plain": [
       "[<lightgbm.basic.Booster at 0x7f98f72e08e0>,\n",
       " <lightgbm.basic.Booster at 0x7f98f72e0a60>,\n",
       " <lightgbm.basic.Booster at 0x7f98f72e0760>,\n",
       " <lightgbm.basic.Booster at 0x7f98f72e0880>,\n",
       " <lightgbm.basic.Booster at 0x7f98fcab3220>,\n",
       " <lightgbm.basic.Booster at 0x7f98fcab30a0>,\n",
       " <lightgbm.basic.Booster at 0x7f98fcab33a0>,\n",
       " <lightgbm.basic.Booster at 0x7f98fcab30d0>,\n",
       " <lightgbm.basic.Booster at 0x7f98fcab3160>,\n",
       " <lightgbm.basic.Booster at 0x7f98fcab36d0>]"
      ]
     },
     "execution_count": 9,
     "metadata": {},
     "output_type": "execute_result"
    }
   ],
   "source": [
    "train_models(train_df)"
   ]
  },
  {
   "cell_type": "code",
   "execution_count": 6,
   "id": "proof-overall",
   "metadata": {},
   "outputs": [],
   "source": [
    "x_test = train_df.drop(['row_id', 'time_id', 'target'], axis = 1)\n",
    "x_test['stock_id'] = x_test['stock_id'].astype(int)"
   ]
  },
  {
   "cell_type": "code",
   "execution_count": 7,
   "id": "complex-launch",
   "metadata": {},
   "outputs": [],
   "source": [
    "# for idx, model in enumerate(models):\n",
    "#     filename = f'models/lgb_fold{idx}.pickle'\n",
    "#     pickle.dump(model, open(filename, 'wb'))\n",
    "    "
   ]
  },
  {
   "cell_type": "code",
   "execution_count": 8,
   "id": "artificial-isaac",
   "metadata": {},
   "outputs": [
    {
     "name": "stdout",
     "output_type": "stream",
     "text": [
      "0.18470989403729027\n",
      "0.1737223782065638\n",
      "0.19073378463864546\n",
      "0.1880587200715555\n",
      "0.17799874022536552\n",
      "0.1725530401092998\n",
      "0.1898247989760112\n",
      "0.18514039121932407\n",
      "0.18203909027786244\n",
      "0.1981542175208046\n"
     ]
    }
   ],
   "source": [
    "for idx in range(10):\n",
    "    filename = f'models/lgb_fold{idx}.pickle'\n",
    "    model = pickle.load(open(filename, 'rb'))\n",
    "    preds = model.predict(x_test)\n",
    "    print(rmspe(train_df.target, preds))"
   ]
  },
  {
   "cell_type": "code",
   "execution_count": 61,
   "id": "peaceful-evaluation",
   "metadata": {},
   "outputs": [],
   "source": []
  },
  {
   "cell_type": "code",
   "execution_count": null,
   "id": "emotional-missouri",
   "metadata": {},
   "outputs": [],
   "source": []
  }
 ],
 "metadata": {
  "kernelspec": {
   "display_name": "Python 3.8.5 64-bit ('fastai': conda)",
   "language": "python",
   "name": "python38564bitfastaicondad52d12c5a30a4725bf9d3e235cf1271c"
  },
  "language_info": {
   "codemirror_mode": {
    "name": "ipython",
    "version": 3
   },
   "file_extension": ".py",
   "mimetype": "text/x-python",
   "name": "python",
   "nbconvert_exporter": "python",
   "pygments_lexer": "ipython3",
   "version": "3.8.5"
  }
 },
 "nbformat": 4,
 "nbformat_minor": 5
}
