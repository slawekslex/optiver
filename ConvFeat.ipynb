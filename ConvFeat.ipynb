{
 "cells": [
  {
   "cell_type": "code",
   "execution_count": 1,
   "id": "52058bb3",
   "metadata": {},
   "outputs": [],
   "source": [
    "from fastai.vision.all import *\n",
    "from fastai.tabular.all import *\n",
    "from sklearn.model_selection import KFold, GroupKFold"
   ]
  },
  {
   "cell_type": "code",
   "execution_count": 2,
   "id": "a177e3ef",
   "metadata": {},
   "outputs": [],
   "source": [
    "PATH = Path('../input/optiver-realized-volatility-prediction')\n",
    "\n",
    "\n",
    "\n"
   ]
  },
  {
   "cell_type": "code",
   "execution_count": 3,
   "id": "90875900",
   "metadata": {},
   "outputs": [],
   "source": [
    "train_ftrs = pd.read_feather('train_24cols.feather')"
   ]
  },
  {
   "cell_type": "code",
   "execution_count": 4,
   "id": "80efcf35",
   "metadata": {},
   "outputs": [],
   "source": [
    "train_ftrs['offset']=pd.read_csv(PATH/'train_with_wap.csv').offset"
   ]
  },
  {
   "cell_type": "code",
   "execution_count": 5,
   "id": "b895e740",
   "metadata": {},
   "outputs": [],
   "source": [
    "train_ftrs = train_ftrs.fillna(0)\n",
    "train_ftrs['trade_seconds'] = 'more'\n",
    "\n",
    "\n",
    "\n",
    "for val in range(3): train_ftrs.loc[train_ftrs.seconds_in_bucket_size_0_600==val, 'trade_seconds'] = val"
   ]
  },
  {
   "cell_type": "code",
   "execution_count": 6,
   "id": "8ff8542a",
   "metadata": {},
   "outputs": [
    {
     "name": "stdout",
     "output_type": "stream",
     "text": [
      "tensor([9.9968e-01, 1.0003e+00, 7.6999e-04, 7.6673e-04, 9.9948e-01, 1.0005e+00,\n",
      "        9.5934e-04, 9.2822e-04]) tensor([0.0037, 0.0037, 0.0054, 0.0050, 0.0037, 0.0037, 0.0067, 0.0057])\n",
      "CPU times: user 14.8 s, sys: 14.7 s, total: 29.5 s\n",
      "Wall time: 2min 3s\n"
     ]
    }
   ],
   "source": [
    "%%time\n",
    "torch_data = torch.load(PATH/'torch_data.pth')\n",
    "\n",
    "\n",
    "\n",
    "means, stds = torch_data.mean(dim=0), torch_data.std(dim=0)\n",
    "print(means, stds)\n",
    "torch_data = (torch_data - means) / stds"
   ]
  },
  {
   "cell_type": "code",
   "execution_count": 7,
   "id": "bd380af4",
   "metadata": {},
   "outputs": [],
   "source": [
    "class ReadBatch(ItemTransform):\n",
    "    def encodes(self, to):\n",
    "        book_offsets = torch.tensor(to['offset'].to_numpy()).long()\n",
    "        book_data = torch_data.view(-1,600,8)[book_offsets//600,:,:]\n",
    "        book_data = book_data.permute(0,2,1)\n",
    "        res = (tensor(to.cats).long(),tensor(to.conts).float(), book_data)        \n",
    "        res = res + (tensor(to.targ),)\n",
    "        if to.device is not None: res = to_device(res, to.device)\n",
    "        return res"
   ]
  },
  {
   "cell_type": "code",
   "execution_count": 8,
   "id": "168c52cd",
   "metadata": {},
   "outputs": [],
   "source": [
    "trn_idx, val_idx = first(GroupKFold().split(train_ftrs, groups = train_ftrs.time_id))"
   ]
  },
  {
   "cell_type": "code",
   "execution_count": 9,
   "id": "c1fc50e0",
   "metadata": {},
   "outputs": [
    {
     "data": {
      "text/plain": [
       "Index(['log_return2_std_0_600', 'stock_id', 'row_id', 'time_id', 'target',\n",
       "       'log_return_price_std_0_600', 'order_count_sum_0_600',\n",
       "       'seconds_in_bucket_size_0_600', 'size_sum_0_600',\n",
       "       'log_return1_std_0_600_min_time', 'log_return1_std_0_600_mean_time',\n",
       "       'log_return1_std_0_600_min_stock', 'log_return1_std_0_600_mean_stock',\n",
       "       'log_return1_std_0_600', 'log_return1_std_200_600',\n",
       "       'log_return1_std_400_600', 'price_spread_mean_0_600',\n",
       "       'log_return_price_std_0_600_mean_time',\n",
       "       'log_return_price_std_200_600_mean_time',\n",
       "       'log_return_price_std_400_600_mean_time',\n",
       "       'log_return_price_std_0_600_min_time',\n",
       "       'log_return_price_std_200_600_min_time',\n",
       "       'log_return_price_std_400_600_min_time', 'total_volume_mean_0_600',\n",
       "       'offset', 'trade_seconds'],\n",
       "      dtype='object')"
      ]
     },
     "execution_count": 9,
     "metadata": {},
     "output_type": "execute_result"
    }
   ],
   "source": [
    "train_ftrs.columns"
   ]
  },
  {
   "cell_type": "code",
   "execution_count": 10,
   "id": "6925b9fc",
   "metadata": {},
   "outputs": [],
   "source": [
    "# cols_to_keep = ['stock_id', 'row_id', 'time_id', 'target',\n",
    "#        'log_return_price_std_0_600', 'order_count_sum_0_600',\n",
    "#        'seconds_in_bucket_size_0_600', 'size_sum_0_600',\n",
    "#        'log_return1_std_0_600_min_time', 'log_return1_std_0_600_mean_time',\n",
    "#        'log_return1_std_0_600_min_stock', 'log_return1_std_0_600_mean_stock',\n",
    "#        'log_return_price_std_0_600_mean_time',\n",
    "#        'log_return_price_std_200_600_mean_time',\n",
    "#        'log_return_price_std_400_600_mean_time',\n",
    "#        'log_return_price_std_0_600_min_time',\n",
    "#        'log_return_price_std_200_600_min_time',\n",
    "#        'log_return_price_std_400_600_min_time', 'total_volume_mean_0_600',\n",
    "#        'offset', 'trade_seconds']\n",
    "\n",
    "# train_ftrs = train_ftrs[cols_to_keep]"
   ]
  },
  {
   "cell_type": "code",
   "execution_count": 11,
   "id": "6aeb9a17",
   "metadata": {},
   "outputs": [],
   "source": [
    "cont_nn,cat_nn = cont_cat_split(train_ftrs, max_card=9000, dep_var='target')\n",
    "cont_nn.remove('offset')\n",
    "cat_nn=[x for x in cat_nn if not x in ['row_id', 'time_id']]"
   ]
  },
  {
   "cell_type": "code",
   "execution_count": 12,
   "id": "3d3bae2a",
   "metadata": {},
   "outputs": [
    {
     "name": "stderr",
     "output_type": "stream",
     "text": [
      "/home/slex/programy/anaconda3/envs/fastai/lib/python3.8/site-packages/torch/_tensor.py:575: UserWarning: floor_divide is deprecated, and will be removed in a future version of pytorch. It currently rounds toward 0 (like the 'trunc' function NOT 'floor'). This results in incorrect rounding for negative values.\n",
      "To keep the current behavior, use torch.div(a, b, rounding_mode='trunc'), or for actual floor division, use torch.div(a, b, rounding_mode='floor'). (Triggered internally at  /opt/conda/conda-bld/pytorch_1623448278899/work/aten/src/ATen/native/BinaryOps.cpp:467.)\n",
      "  return torch.floor_divide(self, other)\n"
     ]
    }
   ],
   "source": [
    "procs_nn = [Categorify, FillMissing, Normalize]\n",
    "to_nn = TabularPandas(train_ftrs, procs_nn, cat_nn, cont_nn,\n",
    "                      splits=[list(trn_idx), list(val_idx)], y_names='target')\n",
    "dls = to_nn.dataloaders(1024, after_batch = ReadBatch)"
   ]
  },
  {
   "cell_type": "code",
   "execution_count": 13,
   "id": "074e8e57",
   "metadata": {},
   "outputs": [],
   "source": [
    "class ResnetModel(nn.Module):\n",
    "    def __init__(self):\n",
    "        self.conv_layers = None"
   ]
  },
  {
   "cell_type": "code",
   "execution_count": 20,
   "id": "e70eb1aa",
   "metadata": {},
   "outputs": [],
   "source": [
    "class ConvModel(nn.Module):\n",
    "    def __init__(self, emb_szs, n_cont, layer_sizes, conv_layers, embed_p,ps):\n",
    "        super().__init__()\n",
    "        self.embeds = nn.ModuleList([Embedding(ni, nf) for ni,nf in emb_szs])\n",
    "        self.emb_drop = nn.Dropout(embed_p)\n",
    "        self.conv_layers = conv_layers\n",
    "        self.conv_drop = nn.Dropout(.5)\n",
    "        self.bn_cont = nn.BatchNorm1d(n_cont)\n",
    "        n_emb = sum(e.embedding_dim for e in self.embeds)\n",
    "        sizes = [n_emb + n_cont + 20] + layer_sizes + [1]\n",
    "        actns = [nn.ReLU() for _ in range(len(sizes)-2)] + [None]\n",
    "        layers = [LinBnDrop(sizes[i], sizes[i+1], bn = (i!=len(actns)-1), p=p, act=a, lin_first=True)\n",
    "                       for i,(p,a) in enumerate(zip(ps+[0.],actns))]\n",
    "        layers.append(SigmoidRange(0, 0.1))\n",
    "        self.layers = nn.Sequential(*layers)\n",
    "    def forward(self, x_cat, x_cont, x_raw):\n",
    "        x = [e(x_cat[:,i]) for i,e in enumerate(self.embeds)]\n",
    "        x = torch.cat(x, 1)\n",
    "        x = self.emb_drop(x)\n",
    "        x_cont = self.bn_cont(x_cont)\n",
    "        x_conv = self.conv_layers(x_raw)\n",
    "        x_conv = self.conv_drop(x_conv)\n",
    "        x = torch.cat([x, x_cont, x_conv], 1)\n",
    "        return self.layers(x)"
   ]
  },
  {
   "cell_type": "code",
   "execution_count": 21,
   "id": "c5c43bba",
   "metadata": {},
   "outputs": [],
   "source": [
    "class ResBlock(nn.Module):\n",
    "    def __init__(self, ch):\n",
    "        super().__init__()\n",
    "        self.layers = nn.Sequential(\n",
    "            nn.Conv1d(ch, ch, kernel_size = 5, padding = 2, padding_mode='replicate'),\n",
    "            nn.BatchNorm1d(ch),\n",
    "            nn.ReLU(),\n",
    "            nn.Conv1d(ch, ch, kernel_size = 5, padding = 2, padding_mode='replicate'),\n",
    "            nn.BatchNorm1d(ch),\n",
    "        )\n",
    "        \n",
    "    def forward(self, x):\n",
    "        res = self.layers(x) + x\n",
    "        res = F.relu(res)\n",
    "        return res"
   ]
  },
  {
   "cell_type": "code",
   "execution_count": 22,
   "id": "09e413b2",
   "metadata": {},
   "outputs": [],
   "source": [
    "conv_layers =torch.load('models/conv_model.pth', map_location='cpu').conv_layers"
   ]
  },
  {
   "cell_type": "code",
   "execution_count": 23,
   "id": "4708b74d",
   "metadata": {},
   "outputs": [],
   "source": [
    "def split_2way(model):\n",
    "    #return L(params(model.initial_conv)+params(model.conv_layers), params(model.classifier))\n",
    "    return L(params(model.conv_layers), params(model.layers)+params(model.embeds))\n",
    "def rmspe(preds, targs):\n",
    "    x = (targs-preds)/targs\n",
    "    return (x**2).mean().sqrt()"
   ]
  },
  {
   "cell_type": "code",
   "execution_count": 33,
   "id": "28f1b382",
   "metadata": {},
   "outputs": [],
   "source": [
    "emb_sizes = [(len(dls.train.classes['stock_id']), 10),\n",
    "             (len(dls.train.classes['trade_seconds']), 3)]\n",
    "n_cont = len(dls.cont_names)\n",
    "layer_sizes = [200,100,100]\n",
    "embed_p = .2\n",
    "ps = [.1,.1,0]\n",
    "model = ConvModel(emb_sizes, n_cont, layer_sizes, conv_layers, embed_p,ps)\n",
    "\n",
    "learn = Learner(dls,model, loss_func=rmspe, splitter = split_2way, metrics=AccumMetric(rmspe))"
   ]
  },
  {
   "cell_type": "code",
   "execution_count": null,
   "id": "01733784",
   "metadata": {},
   "outputs": [
    {
     "data": {
      "text/html": [
       "<table border=\"1\" class=\"dataframe\">\n",
       "  <thead>\n",
       "    <tr style=\"text-align: left;\">\n",
       "      <th>epoch</th>\n",
       "      <th>train_loss</th>\n",
       "      <th>valid_loss</th>\n",
       "      <th>rmspe</th>\n",
       "      <th>time</th>\n",
       "    </tr>\n",
       "  </thead>\n",
       "  <tbody>\n",
       "    <tr>\n",
       "      <td>0</td>\n",
       "      <td>2.578875</td>\n",
       "      <td>1.073658</td>\n",
       "      <td>1.100893</td>\n",
       "      <td>00:07</td>\n",
       "    </tr>\n",
       "    <tr>\n",
       "      <td>1</td>\n",
       "      <td>0.278242</td>\n",
       "      <td>0.253890</td>\n",
       "      <td>0.256760</td>\n",
       "      <td>00:07</td>\n",
       "    </tr>\n",
       "    <tr>\n",
       "      <td>2</td>\n",
       "      <td>0.257671</td>\n",
       "      <td>0.238342</td>\n",
       "      <td>0.240734</td>\n",
       "      <td>00:06</td>\n",
       "    </tr>\n",
       "  </tbody>\n",
       "</table>"
      ],
      "text/plain": [
       "<IPython.core.display.HTML object>"
      ]
     },
     "metadata": {},
     "output_type": "display_data"
    },
    {
     "data": {
      "text/html": [
       "\n",
       "    <div>\n",
       "        <style>\n",
       "            /* Turns off some styling */\n",
       "            progress {\n",
       "                /* gets rid of default border in Firefox and Opera. */\n",
       "                border: none;\n",
       "                /* Needs to be in here for Safari polyfill so background images work as expected. */\n",
       "                background-size: auto;\n",
       "            }\n",
       "            .progress-bar-interrupted, .progress-bar-interrupted::-webkit-progress-bar {\n",
       "                background: #F44336;\n",
       "            }\n",
       "        </style>\n",
       "      <progress value='4' class='' max='70' style='width:300px; height:20px; vertical-align: middle;'></progress>\n",
       "      5.71% [4/70 00:33<09:08]\n",
       "    </div>\n",
       "    \n",
       "<table border=\"1\" class=\"dataframe\">\n",
       "  <thead>\n",
       "    <tr style=\"text-align: left;\">\n",
       "      <th>epoch</th>\n",
       "      <th>train_loss</th>\n",
       "      <th>valid_loss</th>\n",
       "      <th>rmspe</th>\n",
       "      <th>time</th>\n",
       "    </tr>\n",
       "  </thead>\n",
       "  <tbody>\n",
       "    <tr>\n",
       "      <td>0</td>\n",
       "      <td>0.241224</td>\n",
       "      <td>0.235562</td>\n",
       "      <td>0.237959</td>\n",
       "      <td>00:08</td>\n",
       "    </tr>\n",
       "    <tr>\n",
       "      <td>1</td>\n",
       "      <td>0.241007</td>\n",
       "      <td>0.233688</td>\n",
       "      <td>0.235849</td>\n",
       "      <td>00:08</td>\n",
       "    </tr>\n",
       "    <tr>\n",
       "      <td>2</td>\n",
       "      <td>0.237886</td>\n",
       "      <td>0.232439</td>\n",
       "      <td>0.234634</td>\n",
       "      <td>00:08</td>\n",
       "    </tr>\n",
       "    <tr>\n",
       "      <td>3</td>\n",
       "      <td>0.244924</td>\n",
       "      <td>0.234126</td>\n",
       "      <td>0.236133</td>\n",
       "      <td>00:08</td>\n",
       "    </tr>\n",
       "  </tbody>\n",
       "</table><p>\n",
       "\n",
       "    <div>\n",
       "        <style>\n",
       "            /* Turns off some styling */\n",
       "            progress {\n",
       "                /* gets rid of default border in Firefox and Opera. */\n",
       "                border: none;\n",
       "                /* Needs to be in here for Safari polyfill so background images work as expected. */\n",
       "                background-size: auto;\n",
       "            }\n",
       "            .progress-bar-interrupted, .progress-bar-interrupted::-webkit-progress-bar {\n",
       "                background: #F44336;\n",
       "            }\n",
       "        </style>\n",
       "      <progress value='59' class='' max='335' style='width:300px; height:20px; vertical-align: middle;'></progress>\n",
       "      17.61% [59/335 00:01<00:06 0.2446]\n",
       "    </div>\n",
       "    "
      ],
      "text/plain": [
       "<IPython.core.display.HTML object>"
      ]
     },
     "metadata": {},
     "output_type": "display_data"
    }
   ],
   "source": [
    "learn.fine_tune(70,5e-3, freeze_epochs=3, lr_mult=10)"
   ]
  },
  {
   "cell_type": "code",
   "execution_count": null,
   "id": "58ad34ae",
   "metadata": {},
   "outputs": [],
   "source": []
  }
 ],
 "metadata": {
  "kernelspec": {
   "display_name": "Python 3.8.5 64-bit ('fastai': conda)",
   "language": "python",
   "name": "python38564bitfastaicondad52d12c5a30a4725bf9d3e235cf1271c"
  },
  "language_info": {
   "codemirror_mode": {
    "name": "ipython",
    "version": 3
   },
   "file_extension": ".py",
   "mimetype": "text/x-python",
   "name": "python",
   "nbconvert_exporter": "python",
   "pygments_lexer": "ipython3",
   "version": "3.8.2"
  }
 },
 "nbformat": 4,
 "nbformat_minor": 5
}
